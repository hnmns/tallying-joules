{
 "cells": [
  {
   "cell_type": "markdown",
   "id": "dcd18764",
   "metadata": {},
   "source": [
    "## GraphQL for grabbing TJ's product info\n",
    "\n",
    "GraphQL is an API querying language. Apparently, TJ's keeps a product endpoint available without the need for an authentication token. I wonder if this was found just from poking around the browser Network tab.\n",
    "\n",
    "This way, we don't need to scrape or even render any JS. All we need to do now is understand the product schema. In particular, the nutrition info we want is nested a few layers deep in the highest level `item` object."
   ]
  },
  {
   "cell_type": "markdown",
   "id": "f0699c9e",
   "metadata": {},
   "source": [
    "Some data of interest include:\n",
    "\n",
    "* Food category (`categories`)\n",
    "* Price\n",
    "* Weight\n",
    "* Ingredients\n",
    "* Serves X\n",
    "* Serving size\n",
    "* Calories per serving\n",
    "* A mapping of \"nutrient_name\":(`nutrient_amt`, `nutrient_dv`)\n",
    "    * Nutrient amount per serving\n",
    "    * Nutrient daily value\n",
    "* `country_of_manufacture`\n",
    "* `country_of_origin`"
   ]
  },
  {
   "cell_type": "code",
   "execution_count": 1,
   "id": "9c554c86",
   "metadata": {},
   "outputs": [],
   "source": [
    "url = \"https://www.traderjoes.com/api/graphql\"\n",
    "# Where does ^ even come from!? Network tab under F12, AJAX requests idk\n"
   ]
  },
  {
   "cell_type": "code",
   "execution_count": 2,
   "id": "e14fba2f",
   "metadata": {},
   "outputs": [],
   "source": [
    "import requests"
   ]
  },
  {
   "cell_type": "markdown",
   "id": "956f4ce3",
   "metadata": {},
   "source": [
    "### Example query of 100 products and their prices"
   ]
  },
  {
   "cell_type": "code",
   "execution_count": 3,
   "id": "f9c37a74",
   "metadata": {},
   "outputs": [
    {
     "name": "stdout",
     "output_type": "stream",
     "text": [
      "{'data': {'products': {'items': [{'sku': '083046', 'item_title': 'Honey Hydration Bath Fizzer', 'retail_price': '4.99'}, {'sku': '081280', 'item_title': 'Mini Chicken Tacos', 'retail_price': '5.99'}, {'sku': '081865', 'item_title': 'Turkish Inspired Stuffed Eggplant', 'retail_price': '0.00'}, {'sku': '081840', 'item_title': 'Loaded Mashed Potatoes', 'retail_price': '5.99'}, {'sku': '081863', 'item_title': 'Sliced Peppered Uncured Salami', 'retail_price': '6.99'}, {'sku': '080825', 'item_title': 'Organic Sweet Cream Creamer', 'retail_price': '2.99'}, {'sku': '080971', 'item_title': 'Organic Milk A2/A2', 'retail_price': '5.99'}, {'sku': '080667', 'item_title': 'McLelland Vintage Scottish Cheddar', 'retail_price': '5.49'}, {'sku': '082350', 'item_title': 'Fall Scented Candle Trio', 'retail_price': '9.99'}, {'sku': '082641', 'item_title': 'Bow Wow and Meow Tillandsia Planter', 'retail_price': '5.99'}, {'sku': '082761', 'item_title': 'Honeydew Cold Pressed Juice', 'retail_price': '3.49'}, {'sku': '082279', 'item_title': 'Creamy Mac & Cheese', 'retail_price': '4.99'}, {'sku': '082602', 'item_title': 'Cocoa Truffles with Maple Sugar', 'retail_price': '4.49'}, {'sku': '081723', 'item_title': 'Maple Brown Butter Almonds', 'retail_price': '3.99'}, {'sku': '095582', 'item_title': 'Autumn Mixed Pumpkins', 'retail_price': '8.99'}, {'sku': '080600', 'item_title': 'Kettle Cooked Rosemary & Sea Salt Potato Chips', 'retail_price': '2.99'}, {'sku': '082546', 'item_title': 'Grand Reserve Cabernet Sauvignon Napa Valley 2021 Lot #139', 'retail_price': '12.99'}, {'sku': '081307', 'item_title': 'Thai Style Red Curry Soup', 'retail_price': '4.99'}, {'sku': '081786', 'item_title': 'Harvest Vegetable Hash Egg White Bites', 'retail_price': '3.79'}, {'sku': '081781', 'item_title': 'Pumpkins Sugar Cookie Dough', 'retail_price': '3.99'}, {'sku': '073731', 'item_title': 'Dotty Micro Poms Bunch', 'retail_price': '4.99'}, {'sku': '080933', 'item_title': 'Big Bunch Chrysanthemum', 'retail_price': '4.99'}, {'sku': '070407', 'item_title': 'Jumbo Mum Balls', 'retail_price': '4.99'}, {'sku': '081672', 'item_title': 'Maple and Sweet Potato Flavored Sandwich Cookies for Dogs', 'retail_price': '2.99'}, {'sku': '081675', 'item_title': 'Honey Hydration Face Mask', 'retail_price': '7.99'}, {'sku': '081936', 'item_title': 'Cinnamon Roll Flavored Lip Mask', 'retail_price': '5.99'}, {'sku': '079824', 'item_title': 'Furikake Snack Mix', 'retail_price': '3.99'}, {'sku': '082331', 'item_title': 'Lemony Chicken Orzo Soup', 'retail_price': '4.99'}, {'sku': '080948', 'item_title': 'Chocolate Whipped Light Cream', 'retail_price': '4.49'}, {'sku': '081486', 'item_title': 'Ready to Use Espresso Coffee', 'retail_price': '9.99'}, {'sku': '095748', 'item_title': 'Fresh Fennel', 'retail_price': '2.49'}, {'sku': '068719', 'item_title': 'Wild Alaskan Sockeye Salmon Fillets', 'retail_price': '14.99'}, {'sku': '081698', 'item_title': 'Apple Pie Spread', 'retail_price': '3.99'}, {'sku': '055201', 'item_title': 'Rustic Apple Tarte', 'retail_price': '5.99'}, {'sku': '082060', 'item_title': 'Maple Leaf Ice Cream Sandwiches', 'retail_price': '3.99'}, {'sku': '081774', 'item_title': 'Butternut Squash Risotto', 'retail_price': '4.49'}, {'sku': '082239', 'item_title': \"Halloween Joe-Joe's Cookies\", 'retail_price': '4.49'}, {'sku': '081651', 'item_title': 'Buffalo Blue Unexpected Cheddar Cheese Spread', 'retail_price': '4.99'}, {'sku': '082298', 'item_title': 'Jack of All Flavors', 'retail_price': '7.99'}, {'sku': '081645', 'item_title': 'Apizza Gouda Cheese', 'retail_price': '12.99'}, {'sku': '074669', 'item_title': 'Harvest Chocolate Collection', 'retail_price': '5.49'}, {'sku': '095447', 'item_title': 'Pecan Pumpkin Oatmeal', 'retail_price': '3.79'}, {'sku': '050101', 'item_title': \"Trader Joe's This Pumpkin Walks Into A Bar... Cereal Bars\", 'retail_price': '2.49'}, {'sku': '082314', 'item_title': 'Pumpkin Spice Espresso Martini', 'retail_price': '9.99'}, {'sku': '076605', 'item_title': 'Pumpkin Spice Mini Sheet Cake', 'retail_price': '5.99'}, {'sku': '081671', 'item_title': 'Salted Maple Cold Foam Creamer', 'retail_price': '4.49'}, {'sku': '081779', 'item_title': 'Juicy Apple Gummy Candy', 'retail_price': '2.49'}, {'sku': '081676', 'item_title': 'Sliced Apple Cinnamon Sourdough Bread', 'retail_price': '4.99'}, {'sku': '177916', 'item_title': 'Organic Apple Juice Beverage', 'retail_price': '3.99'}, {'sku': '091030', 'item_title': 'Trimmed Leeks', 'retail_price': '2.49'}, {'sku': '082987', 'item_title': 'Mini Can Foliage', 'retail_price': '4.99'}, {'sku': '081173', 'item_title': '3 Cheese Pasta with Eggplant', 'retail_price': '4.49'}, {'sku': '080876', 'item_title': 'Antipasto Stick Prosciutto Wrapped Mozzarella Cheese', 'retail_price': '1.99'}, {'sku': '082025', 'item_title': 'Freeze Dried Strawberry Pieces', 'retail_price': '4.99'}, {'sku': '081833', 'item_title': 'Mini Insulated Totes Peach & Blue', 'retail_price': '3.99'}, {'sku': '079742', 'item_title': 'Crustless Peanut Butter & Strawberry Jam Sandwiches', 'retail_price': '3.79'}, {'sku': '081294', 'item_title': 'Antipasto Stick Salami & Pepper Jack Cheese', 'retail_price': '1.99'}, {'sku': '082122', 'item_title': 'Hazelnut & Cocoa Filled Crepes', 'retail_price': '3.99'}, {'sku': '090859', 'item_title': 'Chicken Broth Concentrate', 'retail_price': '3.99'}, {'sku': '082433', 'item_title': 'Tropical Smoothie Blend', 'retail_price': '3.99'}, {'sku': '082148', 'item_title': 'Spaghetti with Meat & Sauce', 'retail_price': '4.49'}, {'sku': '078015', 'item_title': 'Baladi Egyptian Sourdough Pocket Bread', 'retail_price': '2.49'}, {'sku': '081869', 'item_title': '3 Cheese Spinach & Artichoke Pasta', 'retail_price': '3.79'}, {'sku': '073856', 'item_title': 'Mini Sonora Style Tortillas', 'retail_price': '1.99'}, {'sku': '081246', 'item_title': 'Corn & Wheat Tortillas', 'retail_price': '1.99'}, {'sku': '080716', 'item_title': 'Cinnamon Buns', 'retail_price': '5.99'}, {'sku': '063395', 'item_title': 'All Natural Frenched, Bone-In, Center-Cut Pork Loin Chops', 'retail_price': '7.99'}, {'sku': '098551', 'item_title': 'Organic Low Sodium Vegetable Broth', 'retail_price': '1.99'}, {'sku': '051533', 'item_title': 'Pumpkin Cream Cheese Spread', 'retail_price': '2.79'}, {'sku': '081037', 'item_title': 'Comfort Food Bag', 'retail_price': '0.99'}, {'sku': '080436', 'item_title': 'Organic Black Pepper Barilotti Pasta', 'retail_price': '2.99'}, {'sku': '080795', 'item_title': 'Crunchy Sesame Sunflower Seeds Pepitas Salsa Macha', 'retail_price': '4.49'}, {'sku': '079788', 'item_title': 'Mini Cinnamon Sugar Cookies', 'retail_price': '0.99'}, {'sku': '080743', 'item_title': 'All Butter Apricot Shortbread Cookies', 'retail_price': '3.49'}, {'sku': '077512', 'item_title': 'Dark Chocolate Covered Cashews', 'retail_price': '4.99'}, {'sku': '050352', 'item_title': 'Small Phalaenopsis Orchid in Ceramic', 'retail_price': '10.99'}, {'sku': '065131', 'item_title': 'Premium Jumbo Orchid in Ceramic', 'retail_price': '0.00'}, {'sku': '093114', 'item_title': 'Medium Phalaenopsis Orchid in Ceramic', 'retail_price': '14.99'}, {'sku': '079712', 'item_title': 'White Phalaenopsis Orchid in Ceramic', 'retail_price': '14.99'}, {'sku': '182283', 'item_title': 'Everything but the Bartender Mango Habanero Margarita', 'retail_price': '9.99'}, {'sku': '082450', 'item_title': 'Compass Bridge Sonoma County Chardonnay 2023', 'retail_price': '8.99'}, {'sku': '082451', 'item_title': 'Compass Bridge Sonoma County Pinot Noir 2023', 'retail_price': '9.99'}, {'sku': '082449', 'item_title': 'Compass Bridge Sonoma County Cabernet Sauvignon 2023', 'retail_price': '9.99'}, {'sku': '082328', 'item_title': 'Maison Barboulot Chardonnay-Viognier 2024', 'retail_price': '5.99'}, {'sku': '072774', 'item_title': 'Steamed & Peeled Baby Beets', 'retail_price': '2.29'}, {'sku': '095369', 'item_title': 'Sugar Sweet Melon', 'retail_price': '3.49'}, {'sku': '096529', 'item_title': 'Saturn Peaches', 'retail_price': '3.99'}, {'sku': '081302', 'item_title': 'Chicken & Apple Recipe Sausage Style Dog Treats', 'retail_price': '2.99'}, {'sku': '049473', 'item_title': 'Honey Mango Moisturizing Cream Shave', 'retail_price': '4.49'}, {'sku': '056051', 'item_title': 'Organic Ranch Dressing', 'retail_price': '2.99'}, {'sku': '055010', 'item_title': 'Organic Apple Strawberry Fruit Sauce Crushers', 'retail_price': '2.99'}, {'sku': '079898', 'item_title': 'Uncured Pepperoni Pizza', 'retail_price': '5.99'}, {'sku': '081528', 'item_title': 'Vanilla Flavored Cold Foam Creamer', 'retail_price': '4.49'}, {'sku': '081428', 'item_title': \"Chocolate Vanilla Creme Joe-Joe's 4 pk\", 'retail_price': '0.79'}, {'sku': '081520', 'item_title': 'Tropical Dragon Fruit Drink Concentrate', 'retail_price': '3.99'}, {'sku': '057185', 'item_title': 'Vanilla Hold the Cone! Mini Ice Cream Cones', 'retail_price': '3.99'}, {'sku': '081527', 'item_title': 'Hot Honey Popcorn', 'retail_price': '2.99'}, {'sku': '081732', 'item_title': 'Strawberry Ice Cream', 'retail_price': '3.79'}, {'sku': '080072', 'item_title': 'Fruit Jellies Candy', 'retail_price': '1.99'}, {'sku': '079074', 'item_title': 'Crunchy Milk Chocolate & Sea Salt Thins', 'retail_price': '3.49'}], 'total_count': 26231}}}\n"
     ]
    }
   ],
   "source": [
    "# Start by mimicking the original price tracker project\n",
    "\n",
    "store_code = 706 # Choose a store location\n",
    "\n",
    "query_string = \"\"\"\n",
    "query {\n",
    "  products(search: \"\", pageSize: 100) {\n",
    "    items {\n",
    "      sku\n",
    "      item_title\n",
    "      retail_price\n",
    "    }\n",
    "    total_count\n",
    "  }\n",
    "}\n",
    "\"\"\"\n",
    "\n",
    "headers = {\n",
    "    \"accept\": \"*/*\",\n",
    "    \"accept-language\": \"en-US,en;q=0.9\",\n",
    "    \"content-type\": \"application/json\",\n",
    "    \"user-agent\": \"Mozilla/5.0 (Macintosh; Intel Mac OS X 10_15_7) AppleWebKit/537.36 (KHTML, like Gecko) Chrome/136.0.0.0 Safari/537.36\",\n",
    "}\n",
    "\n",
    "query = {\n",
    "    \"operationName\": \"SearchProduct\",\n",
    "    \"variables\": {\n",
    "        \"storeCode\": store_code,\n",
    "        \"published\": \"1\",\n",
    "        \"currentPage\": 1,\n",
    "        \"pageSize\": 100\n",
    "    },\n",
    "    \"query\": query_string\n",
    "}\n",
    "\n",
    "response = requests.post(url, json=query, headers=headers)\n",
    "\n",
    "if response.status_code == 200:\n",
    "    data = response.json()\n",
    "    print(data)\n",
    "else:\n",
    "    print(f\"Failure with status code {response.status_code}\")\n",
    "    "
   ]
  },
  {
   "cell_type": "code",
   "execution_count": 6,
   "id": "03809bf5",
   "metadata": {},
   "outputs": [
    {
     "data": {
      "text/plain": [
       "26231"
      ]
     },
     "execution_count": 6,
     "metadata": {},
     "output_type": "execute_result"
    }
   ],
   "source": [
    "# This `total_count` is independent of how many items we query using `pageSize`\n",
    "# This is the actual total number of items in the store (historically)\n",
    "data['data']['products']['total_count']"
   ]
  },
  {
   "cell_type": "code",
   "execution_count": 5,
   "id": "2b13701d",
   "metadata": {},
   "outputs": [
    {
     "data": {
      "text/plain": [
       "100"
      ]
     },
     "execution_count": 5,
     "metadata": {},
     "output_type": "execute_result"
    }
   ],
   "source": [
    "len(data['data']['products']['items'])"
   ]
  },
  {
   "cell_type": "code",
   "execution_count": 9,
   "id": "40975b2e",
   "metadata": {},
   "outputs": [
    {
     "name": "stdout",
     "output_type": "stream",
     "text": [
      "{'sku': '083046', 'item_title': 'Honey Hydration Bath Fizzer', 'retail_price': '4.99'}\n",
      "{'sku': '081280', 'item_title': 'Mini Chicken Tacos', 'retail_price': '5.99'}\n",
      "{'sku': '081865', 'item_title': 'Turkish Inspired Stuffed Eggplant', 'retail_price': '0.00'}\n",
      "{'sku': '081840', 'item_title': 'Loaded Mashed Potatoes', 'retail_price': '5.99'}\n",
      "{'sku': '081863', 'item_title': 'Sliced Peppered Uncured Salami', 'retail_price': '6.99'}\n"
     ]
    },
    {
     "data": {
      "text/plain": [
       "[None, None, None, None, None]"
      ]
     },
     "execution_count": 9,
     "metadata": {},
     "output_type": "execute_result"
    }
   ],
   "source": [
    "[print(data['data']['products']['items'][i]) for i in range(5)]"
   ]
  },
  {
   "cell_type": "markdown",
   "id": "1b78eb95",
   "metadata": {},
   "source": [
    "### \"Introspecting\" all defined queries in the API"
   ]
  },
  {
   "cell_type": "markdown",
   "id": "3675165a",
   "metadata": {},
   "source": [
    "These are all of the queries available in the TJ's GraphQL API. The `description` explains vaguely how they are used.\n",
    "\n",
    "**NB: This is not telling us much about attributes that the queries return, only how to perform the query (how to search, filter, limit number of results).**"
   ]
  },
  {
   "cell_type": "code",
   "execution_count": 11,
   "id": "cf4fcbed",
   "metadata": {},
   "outputs": [],
   "source": [
    "query_query_schema = \"\"\"\n",
    "{\n",
    "  __type(name: \"Query\") {\n",
    "    name\n",
    "    kind\n",
    "    description\n",
    "    fields {\n",
    "      name\n",
    "      description\n",
    "      args {\n",
    "        name\n",
    "        description\n",
    "        type {\n",
    "          name\n",
    "          kind\n",
    "          ofType {\n",
    "            name\n",
    "            kind\n",
    "          }\n",
    "        }\n",
    "        defaultValue\n",
    "      }\n",
    "      type {\n",
    "        name\n",
    "        kind\n",
    "        ofType {\n",
    "          name\n",
    "          kind\n",
    "        }\n",
    "      }\n",
    "    }\n",
    "  }\n",
    "}\n",
    "\"\"\"\n",
    "response = requests.post(url, json={\"query\": query_query_schema}, headers=headers)\n",
    "qschema = response.json()\n"
   ]
  },
  {
   "cell_type": "code",
   "execution_count": 12,
   "id": "792494f8",
   "metadata": {},
   "outputs": [
    {
     "name": "stdout",
     "output_type": "stream",
     "text": [
      "{'name': 'availableStores', 'description': 'Get a list of available store views and their config information.', 'args': [{'name': 'useCurrentGroup', 'description': 'Filter store views by the current store group.', 'type': {'name': 'Boolean', 'kind': 'SCALAR', 'ofType': None}, 'defaultValue': None}], 'type': {'name': None, 'kind': 'LIST', 'ofType': {'name': 'StoreConfig', 'kind': 'OBJECT'}}}\n",
      "{'name': 'cart', 'description': 'Return information about the specified shopping cart.', 'args': [{'name': 'cart_id', 'description': 'The unique ID of the cart to query.', 'type': {'name': None, 'kind': 'NON_NULL', 'ofType': {'name': 'String', 'kind': 'SCALAR'}}, 'defaultValue': None}], 'type': {'name': 'Cart', 'kind': 'OBJECT', 'ofType': None}}\n",
      "{'name': 'categories', 'description': 'Return a list of categories that match the specified filter.', 'args': [{'name': 'filters', 'description': 'Identifies which Category filter inputs to search for and return.', 'type': {'name': 'CategoryFilterInput', 'kind': 'INPUT_OBJECT', 'ofType': None}, 'defaultValue': None}, {'name': 'pageSize', 'description': 'Specifies the maximum number of results to return at once. The default value is 20.', 'type': {'name': 'Int', 'kind': 'SCALAR', 'ofType': None}, 'defaultValue': '20'}, {'name': 'currentPage', 'description': 'Specifies which page of results to return. The default value is 1.', 'type': {'name': 'Int', 'kind': 'SCALAR', 'ofType': None}, 'defaultValue': '1'}], 'type': {'name': 'CategoryResult', 'kind': 'OBJECT', 'ofType': None}}\n"
     ]
    },
    {
     "data": {
      "text/plain": [
       "[None, None, None]"
      ]
     },
     "execution_count": 12,
     "metadata": {},
     "output_type": "execute_result"
    }
   ],
   "source": [
    "[print(qschema['data']['__type']['fields'][i]) for i in range(3)]\n"
   ]
  },
  {
   "cell_type": "code",
   "execution_count": null,
   "id": "642addf2",
   "metadata": {},
   "outputs": [],
   "source": [
    "# {'name': 'products',\n",
    "#   'description': 'Search for products that match the criteria specified in the `search` and `filter` attributes.',\n",
    "#   'args': [\n",
    "#    {'name': 'search',\n",
    "#     'description': 'One or more keywords to use in a full-text search.',\n",
    "#     'type': {'name': 'String', 'kind': 'SCALAR', 'ofType': None},\n",
    "#     'defaultValue': None},\n",
    "#    {'name': 'filter',\n",
    "#     'description': 'The product attributes to search for and return.',\n",
    "#     'type': {'name': 'ProductAttributeFilterInput',\n",
    "#      'kind': 'INPUT_OBJECT',\n",
    "#      'ofType': None},\n",
    "#     'defaultValue': None},\n",
    "#    {'name': 'pageSize',\n",
    "#     'description': 'The maximum number of results to return at once. The default value is 20.',\n",
    "#     'type': {'name': 'Int', 'kind': 'SCALAR', 'ofType': None},\n",
    "#     'defaultValue': '20'},\n",
    "#    {'name': 'currentPage',\n",
    "#     'description': 'The page of results to return. The default value is 1.',\n",
    "#     'type': {'name': 'Int', 'kind': 'SCALAR', 'ofType': None},\n",
    "#     'defaultValue': '1'},\n",
    "#    {'name': 'sort',\n",
    "#     'description': 'Specifies which attributes to sort on, and whether to return the results in ascending or descending order.',\n",
    "#     'type': {'name': 'ProductAttributeSortInput',\n",
    "#      'kind': 'INPUT_OBJECT',\n",
    "#      'ofType': None},\n",
    "#     'defaultValue': None}\n",
    "#    ],\n",
    "#   'type': {'name': 'Products', 'kind': 'OBJECT', 'ofType': None}}"
   ]
  },
  {
   "cell_type": "markdown",
   "id": "1d7c28a8",
   "metadata": {},
   "source": [
    "Let's attempt to get some individual item info."
   ]
  },
  {
   "cell_type": "code",
   "execution_count": 15,
   "id": "9d959e91",
   "metadata": {},
   "outputs": [],
   "source": [
    "query_product_fields = \"\"\"\n",
    "{\n",
    "  __type(name: \"Products\") {\n",
    "    name\n",
    "    kind\n",
    "    fields {\n",
    "      name\n",
    "      description\n",
    "      type {\n",
    "        name\n",
    "        kind\n",
    "        ofType {\n",
    "          name\n",
    "          kind\n",
    "        }\n",
    "      }\n",
    "    }\n",
    "  }\n",
    "}\n",
    "\"\"\"\n",
    "product_fields_response = requests.post(url, json={\"query\": query_product_fields}, headers=headers)\n",
    "\n",
    "product_fields = product_fields_response.json()\n",
    "# product_fields"
   ]
  },
  {
   "cell_type": "code",
   "execution_count": 20,
   "id": "c5be150b",
   "metadata": {},
   "outputs": [],
   "source": [
    "def print_n(iterable, n=3):\n",
    "    [print(iterable[i]) for i in range(n)]"
   ]
  },
  {
   "cell_type": "code",
   "execution_count": 21,
   "id": "27afd903",
   "metadata": {},
   "outputs": [
    {
     "name": "stdout",
     "output_type": "stream",
     "text": [
      "{'name': 'aggregations', 'description': 'A bucket that contains the attribute code and label for each filterable option.', 'type': {'name': None, 'kind': 'LIST', 'ofType': {'name': 'Aggregation', 'kind': 'OBJECT'}}}\n",
      "{'name': 'items', 'description': 'An array of products that match the specified search criteria.', 'type': {'name': None, 'kind': 'LIST', 'ofType': {'name': 'ProductInterface', 'kind': 'INTERFACE'}}}\n",
      "{'name': 'page_info', 'description': 'An object that includes the page_info and currentPage values specified in the query.', 'type': {'name': 'SearchResultPageInfo', 'kind': 'OBJECT', 'ofType': None}}\n"
     ]
    }
   ],
   "source": [
    "# [print(product_fields['data']['__type']['fields'][i]) for i in range(3)]\n",
    "print_n(product_fields['data']['__type']['fields'])"
   ]
  },
  {
   "cell_type": "markdown",
   "id": "1f9d56ad",
   "metadata": {},
   "source": [
    "So apparently, `ProductInterface` is the actual class we are concerned with, as `Product` only contains an `items` attribute of many products that matched the given query."
   ]
  },
  {
   "cell_type": "markdown",
   "id": "0350fd98",
   "metadata": {},
   "source": [
    "Let's see what fields an `items` attribute contains, which we just found out has type `ProductInterface`."
   ]
  },
  {
   "cell_type": "code",
   "execution_count": 17,
   "id": "c9a44275",
   "metadata": {},
   "outputs": [],
   "source": [
    "query_productinterface_fields = \"\"\"\n",
    "{\n",
    "  __type(name: \"ProductInterface\") {\n",
    "    name\n",
    "    kind\n",
    "    fields {\n",
    "      name\n",
    "      description\n",
    "      type {\n",
    "        name\n",
    "        kind\n",
    "        ofType {\n",
    "          name\n",
    "          kind\n",
    "        }\n",
    "      }\n",
    "    }\n",
    "  }\n",
    "}\n",
    "\"\"\"\n",
    "productinterface_fields_response = requests.post(url, json={\"query\": query_productinterface_fields}, headers=headers)\n",
    "\n",
    "productinterface_fields = productinterface_fields_response.json()"
   ]
  },
  {
   "cell_type": "code",
   "execution_count": 22,
   "id": "73e85abf",
   "metadata": {},
   "outputs": [
    {
     "name": "stdout",
     "output_type": "stream",
     "text": [
      "{'name': 'all_context_images', 'description': 'Array of all context images', 'type': {'name': None, 'kind': 'LIST', 'ofType': {'name': 'StoreSpecificImages', 'kind': 'OBJECT'}}}\n",
      "{'name': 'all_other_images', 'description': 'Array of all other image attributes info', 'type': {'name': None, 'kind': 'LIST', 'ofType': {'name': 'StoreSpecificImages', 'kind': 'OBJECT'}}}\n",
      "{'name': 'all_primary_images', 'description': 'Array of all primary images', 'type': {'name': None, 'kind': 'LIST', 'ofType': {'name': 'StoreSpecificImages', 'kind': 'OBJECT'}}}\n"
     ]
    }
   ],
   "source": [
    "print_n(productinterface_fields['data']['__type']['fields'])"
   ]
  },
  {
   "cell_type": "markdown",
   "id": "8e65ca6a",
   "metadata": {},
   "source": [
    "Finally getting somewhere. We now know that `Products` contains a list `items`, each with type `ProductInterface`. The `ProductInterface`s have their own `nutrition` attribute of type `NutritionAttribute`.\n",
    "\n",
    "I was confused by the naming scheme, but it is clear now that `NutritionAttribute` is not an attribute of a particular nutrition object, but the attribute *that contains nutrition information of a parent `ProductInterface`.*"
   ]
  },
  {
   "cell_type": "code",
   "execution_count": 23,
   "id": "c190f744",
   "metadata": {},
   "outputs": [],
   "source": [
    "query_nutrition_fields = \"\"\"\n",
    "{\n",
    "  __type(name: \"NutritionAttribute\") {\n",
    "    name\n",
    "    kind\n",
    "    fields {\n",
    "      name\n",
    "      description\n",
    "      type {\n",
    "        name\n",
    "        kind\n",
    "        ofType {\n",
    "          name\n",
    "          kind\n",
    "        }\n",
    "      }\n",
    "    }\n",
    "  }\n",
    "}\n",
    "\"\"\"\n",
    "query_nutrition_fields_response = requests.post(url, json={\"query\": query_nutrition_fields}, headers=headers)\n",
    "\n",
    "nutrition_fields = query_nutrition_fields_response.json()"
   ]
  },
  {
   "cell_type": "code",
   "execution_count": 24,
   "id": "1289a0cc",
   "metadata": {},
   "outputs": [
    {
     "name": "stdout",
     "output_type": "stream",
     "text": [
      "{'name': 'calories_per_serving', 'description': 'Calories per serving', 'type': {'name': 'String', 'kind': 'SCALAR', 'ofType': None}}\n",
      "{'name': 'details', 'description': 'Nutrition Details', 'type': {'name': None, 'kind': 'LIST', 'ofType': {'name': 'NutritionDetails', 'kind': 'OBJECT'}}}\n",
      "{'name': 'display_sequence', 'description': 'display sequence', 'type': {'name': 'Int', 'kind': 'SCALAR', 'ofType': None}}\n"
     ]
    }
   ],
   "source": [
    "# [(field['name']) for field in nutrition_fields['data']['__type']['fields']]\n",
    "# nutrition_fields['data']['__type']['fields']\n",
    "print_n(nutrition_fields['data']['__type']['fields'])"
   ]
  },
  {
   "cell_type": "markdown",
   "id": "b00e12b9",
   "metadata": {},
   "source": [
    "To summarize all of the objects and their fields that we desire:\n",
    "\n",
    "```\n",
    "Products\n",
    "|\n",
    "L Attributes include:\n",
    "    L sku\n",
    "    L item_title\n",
    "    L retail_price\n",
    "    L items\n",
    "        L nutrition\n",
    "            L calories_per_serving\n",
    "            L details\n",
    "            L serving_size\n",
    "            L servings_per_container\n",
    "\n",
    "```"
   ]
  },
  {
   "cell_type": "markdown",
   "id": "ae8b58b3",
   "metadata": {},
   "source": [
    "## MOVE TO SCRAPER_SCRATCH\n"
   ]
  },
  {
   "cell_type": "code",
   "execution_count": null,
   "id": "96809b07",
   "metadata": {},
   "outputs": [],
   "source": [
    "# {'name': 'route',\n",
    "#   'description': 'Return the full details for a specified product, category, or CMS page.',\n",
    "#   'args': [{'name': 'url',\n",
    "#     'description': 'A `url_key` appended by the `url_suffix, if one exists.',\n",
    "#     'type': {'name': None,\n",
    "#      'kind': 'NON_NULL',\n",
    "#      'ofType': {'name': 'String', 'kind': 'SCALAR'}},\n",
    "#     'defaultValue': None}],\n",
    "#   'type': {'name': 'RoutableInterface', 'kind': 'INTERFACE', 'ofType': None}}"
   ]
  },
  {
   "cell_type": "code",
   "execution_count": null,
   "id": "e9bf4db3",
   "metadata": {},
   "outputs": [],
   "source": [
    "# query_string = \"\"\"\n",
    "# query {\n",
    "#   route(url: \"https://www.traderjoes.com/api/graphql\") {\n",
    "#     __typename\n",
    "#     ... on Product {\n",
    "#       sku\n",
    "#     }\n",
    "#   }\n",
    "# }\n",
    "# \"\"\"\n",
    "\n",
    "# query = {\n",
    "#     \"operationName\": \"SearchRoute\",\n",
    "#     \"variables\": {\n",
    "#         \"storeCode\": \"706\",\n",
    "#         \"published\": \"1\",\n",
    "#         \"currentPage\": 1,\n",
    "#         \"pageSize\": 100\n",
    "#     },\n",
    "#     \"query\": query_string\n",
    "# }\n",
    "\n",
    "# response = requests.post(url, json=query, headers=headers)\n",
    "\n",
    "# # data = response.json()\n",
    "# # data\n",
    "# response\n",
    "\n",
    "# How to use this `routes` query?\n"
   ]
  },
  {
   "cell_type": "markdown",
   "id": "2a43067a",
   "metadata": {},
   "source": [
    "Let's grab the full API schema and see if we can find which fields to query for our purposes."
   ]
  },
  {
   "cell_type": "code",
   "execution_count": 25,
   "id": "91318a90",
   "metadata": {},
   "outputs": [],
   "source": [
    "query_schema = \"\"\"\n",
    "query {\n",
    "  __schema {\n",
    "    types {\n",
    "      name\n",
    "      kind\n",
    "      description\n",
    "    }\n",
    "  }\n",
    "}\n",
    "\"\"\"\n",
    "\n",
    "response = requests.post(url, json={\"query\": query_schema}, headers=headers)\n",
    "schema = response.json()\n",
    "# print(schema)"
   ]
  },
  {
   "cell_type": "code",
   "execution_count": 26,
   "id": "e6e48a5b",
   "metadata": {},
   "outputs": [
    {
     "name": "stdout",
     "output_type": "stream",
     "text": [
      "{'name': 'Query', 'kind': 'OBJECT', 'description': ''}\n",
      "{'name': 'Boolean', 'kind': 'SCALAR', 'description': 'The `Boolean` scalar type represents `true` or `false`.'}\n",
      "{'name': 'StoreConfig', 'kind': 'OBJECT', 'description': \"Contains information about a store's configuration.\"}\n"
     ]
    }
   ],
   "source": [
    "# schema['data']['__schema']['types'] # ['data']['__type'].keys()\n",
    "print_n(schema['data']['__schema']['types'])"
   ]
  },
  {
   "cell_type": "code",
   "execution_count": 29,
   "id": "533fbf17",
   "metadata": {},
   "outputs": [],
   "source": [
    "query_schema_nutrition = \"\"\"\n",
    "{\n",
    "  __type(name: \"NutritionDetails\") {\n",
    "    name\n",
    "    kind\n",
    "    description\n",
    "    fields {\n",
    "      name\n",
    "      type {\n",
    "        kind\n",
    "        name\n",
    "        ofType {\n",
    "          kind\n",
    "          name\n",
    "        }\n",
    "      }\n",
    "    }\n",
    "  }\n",
    "}\"\"\"\n",
    "\n",
    "response = requests.post(url, json={\"query\": query_schema_nutrition}, headers=headers)\n",
    "nutrition = response.json()\n"
   ]
  },
  {
   "cell_type": "code",
   "execution_count": 31,
   "id": "4a8a45d7",
   "metadata": {},
   "outputs": [
    {
     "data": {
      "text/plain": [
       "{'data': {'__type': {'name': 'NutritionDetails',\n",
       "   'kind': 'OBJECT',\n",
       "   'description': 'NutritionAttribute type',\n",
       "   'fields': [{'name': 'amount',\n",
       "     'type': {'kind': 'SCALAR', 'name': 'String', 'ofType': None}},\n",
       "    {'name': 'display_seq',\n",
       "     'type': {'kind': 'SCALAR', 'name': 'Int', 'ofType': None}},\n",
       "    {'name': 'nutritional_item',\n",
       "     'type': {'kind': 'SCALAR', 'name': 'String', 'ofType': None}},\n",
       "    {'name': 'percent_dv',\n",
       "     'type': {'kind': 'SCALAR', 'name': 'String', 'ofType': None}}]}}}"
      ]
     },
     "execution_count": 31,
     "metadata": {},
     "output_type": "execute_result"
    }
   ],
   "source": [
    "nutrition"
   ]
  },
  {
   "cell_type": "markdown",
   "id": "69d5a922",
   "metadata": {},
   "source": [
    "What is the relationship between `NutritionDetails` and `NutritionAttribute`?\n",
    "\n",
    "Confusingly, `NutritionDetails` is an attribute with type `NutritionAttribute`."
   ]
  },
  {
   "cell_type": "code",
   "execution_count": 35,
   "id": "314ab744",
   "metadata": {},
   "outputs": [],
   "source": [
    "query_schema_all = \"\"\"\n",
    "{\n",
    "  __schema {\n",
    "    queryType {\n",
    "      name\n",
    "    }\n",
    "    mutationType {\n",
    "      name\n",
    "    }\n",
    "    subscriptionType {\n",
    "      name\n",
    "    }\n",
    "    types {\n",
    "      name\n",
    "      kind\n",
    "      fields {\n",
    "        name\n",
    "        args {\n",
    "          name\n",
    "          type {\n",
    "            name\n",
    "            kind\n",
    "          }\n",
    "          defaultValue\n",
    "        }\n",
    "        type {\n",
    "          name\n",
    "          kind\n",
    "        }\n",
    "      }\n",
    "      inputFields {\n",
    "        name\n",
    "        type {\n",
    "          name\n",
    "          kind\n",
    "        }\n",
    "      }\n",
    "      interfaces {\n",
    "        name\n",
    "      }\n",
    "      enumValues {\n",
    "        name\n",
    "      }\n",
    "      possibleTypes {\n",
    "        name\n",
    "      }\n",
    "    }\n",
    "  }\n",
    "}\n",
    "\"\"\"\n",
    "response = requests.post(url, json={\"query\": query_schema_all}, headers=headers)\n",
    "schema_all = response.json()\n",
    "# print(schema_all)"
   ]
  },
  {
   "cell_type": "code",
   "execution_count": 40,
   "id": "3b2fe5f6",
   "metadata": {},
   "outputs": [
    {
     "name": "stdout",
     "output_type": "stream",
     "text": [
      "{'name': 'availableStores', 'args': [{'name': 'useCurrentGroup', 'type': {'name': 'Boolean', 'kind': 'SCALAR'}, 'defaultValue': None}], 'type': {'name': None, 'kind': 'LIST'}}\n",
      "{'name': 'cart', 'args': [{'name': 'cart_id', 'type': {'name': None, 'kind': 'NON_NULL'}, 'defaultValue': None}], 'type': {'name': 'Cart', 'kind': 'OBJECT'}}\n",
      "{'name': 'categories', 'args': [{'name': 'filters', 'type': {'name': 'CategoryFilterInput', 'kind': 'INPUT_OBJECT'}, 'defaultValue': None}, {'name': 'pageSize', 'type': {'name': 'Int', 'kind': 'SCALAR'}, 'defaultValue': '20'}, {'name': 'currentPage', 'type': {'name': 'Int', 'kind': 'SCALAR'}, 'defaultValue': '1'}], 'type': {'name': 'CategoryResult', 'kind': 'OBJECT'}}\n",
      "{'name': 'categoryList', 'args': [{'name': 'filters', 'type': {'name': 'CategoryFilterInput', 'kind': 'INPUT_OBJECT'}, 'defaultValue': None}], 'type': {'name': None, 'kind': 'LIST'}}\n",
      "{'name': 'checkoutAgreements', 'args': [], 'type': {'name': None, 'kind': 'LIST'}}\n",
      "{'name': 'cmsBlocks', 'args': [{'name': 'identifiers', 'type': {'name': None, 'kind': 'LIST'}, 'defaultValue': None}], 'type': {'name': 'CmsBlocks', 'kind': 'OBJECT'}}\n",
      "{'name': 'cmsPage', 'args': [{'name': 'id', 'type': {'name': 'Int', 'kind': 'SCALAR'}, 'defaultValue': None}, {'name': 'identifier', 'type': {'name': 'String', 'kind': 'SCALAR'}, 'defaultValue': None}], 'type': {'name': 'CmsPage', 'kind': 'OBJECT'}}\n",
      "{'name': 'compareList', 'args': [{'name': 'uid', 'type': {'name': None, 'kind': 'NON_NULL'}, 'defaultValue': None}], 'type': {'name': 'CompareList', 'kind': 'OBJECT'}}\n"
     ]
    }
   ],
   "source": [
    "print_n(schema_all['data']['__schema']['types'][0]['fields'], 8)"
   ]
  },
  {
   "cell_type": "markdown",
   "id": "af2a7457",
   "metadata": {},
   "source": [
    "### Finding fields in various attributes"
   ]
  },
  {
   "cell_type": "code",
   "execution_count": 45,
   "id": "8f817109",
   "metadata": {},
   "outputs": [],
   "source": [
    "query_products_schema = \"\"\"\n",
    "query {\n",
    "  __type(name: \"Products\") {\n",
    "    name\n",
    "    fields {\n",
    "      name\n",
    "      type {\n",
    "        name\n",
    "        kind\n",
    "      }\n",
    "    }\n",
    "  }\n",
    "}\n",
    "\"\"\"\n",
    "\n",
    "products_schema = requests.post(url, json={\"query\": query_products_schema}, headers=headers)\n",
    "products_schema = products_schema.json()\n",
    "# print(products_schema)"
   ]
  },
  {
   "cell_type": "code",
   "execution_count": 46,
   "id": "527ead8b",
   "metadata": {},
   "outputs": [
    {
     "data": {
      "text/plain": [
       "{'data': {'__type': {'name': 'Products',\n",
       "   'fields': [{'name': 'aggregations', 'type': {'name': None, 'kind': 'LIST'}},\n",
       "    {'name': 'items', 'type': {'name': None, 'kind': 'LIST'}},\n",
       "    {'name': 'page_info',\n",
       "     'type': {'name': 'SearchResultPageInfo', 'kind': 'OBJECT'}},\n",
       "    {'name': 'sort_fields', 'type': {'name': 'SortFields', 'kind': 'OBJECT'}},\n",
       "    {'name': 'suggestions', 'type': {'name': None, 'kind': 'LIST'}},\n",
       "    {'name': 'total_count', 'type': {'name': 'Int', 'kind': 'SCALAR'}}]}}}"
      ]
     },
     "execution_count": 46,
     "metadata": {},
     "output_type": "execute_result"
    }
   ],
   "source": [
    "products_schema"
   ]
  },
  {
   "cell_type": "code",
   "execution_count": 48,
   "id": "5d945c10",
   "metadata": {},
   "outputs": [],
   "source": [
    "query_types_schema = \"\"\"\n",
    "query {\n",
    "  __schema {\n",
    "    types {\n",
    "      name\n",
    "    }\n",
    "  }\n",
    "}\n",
    "\"\"\"\n",
    "\n",
    "types_schema = requests.post(url, json={\"query\": query_types_schema}, headers=headers)\n",
    "types_schema = types_schema.json()\n"
   ]
  },
  {
   "cell_type": "code",
   "execution_count": 55,
   "id": "c562347a",
   "metadata": {},
   "outputs": [
    {
     "name": "stdout",
     "output_type": "stream",
     "text": [
      "{'name': 'Query'}\n",
      "{'name': 'Boolean'}\n",
      "{'name': 'StoreConfig'}\n",
      "{'name': 'String'}\n",
      "{'name': 'FixedProductTaxDisplaySettings'}\n",
      "{'name': 'Int'}\n",
      "{'name': 'ID'}\n"
     ]
    }
   ],
   "source": [
    "print_n(types_schema['data']['__schema']['types'], 7)"
   ]
  },
  {
   "cell_type": "markdown",
   "id": "29dffd5b",
   "metadata": {},
   "source": [
    "### Test out querying one product"
   ]
  },
  {
   "cell_type": "code",
   "execution_count": 56,
   "id": "d8cd9f37",
   "metadata": {},
   "outputs": [],
   "source": [
    "query_one_product = \"\"\"\n",
    "{\n",
    "  products(\n",
    "    storeCode: \"706\",\n",
    "    search: \"\",\n",
    "    filter: {},\n",
    "    pageSize: 1,\n",
    "    currentPage: 0\n",
    "  ) {\n",
    "    items {\n",
    "      sku\n",
    "      name\n",
    "      availability\n",
    "    }\n",
    "  }\n",
    "}\n",
    "\"\"\"\n",
    "\n",
    "response = requests.post(url, json={\"query\": query_one_product}, headers=headers)\n",
    "\n",
    "if response.status_code == 200:\n",
    "  one_product = response.json()\n",
    "else:\n",
    "  raise Exception(f\"Failure with code {response.status_code}: {response.text}\")\n",
    "\n",
    "# print(one_product)\n"
   ]
  },
  {
   "cell_type": "code",
   "execution_count": 57,
   "id": "65569a50",
   "metadata": {},
   "outputs": [
    {
     "data": {
      "text/plain": [
       "{'errors': [{'message': 'Unknown argument \"storeCode\" on field \"products\" of type \"Query\".',\n",
       "   'extensions': {'category': 'graphql'},\n",
       "   'locations': [{'line': 4, 'column': 5}]}]}"
      ]
     },
     "execution_count": 57,
     "metadata": {},
     "output_type": "execute_result"
    }
   ],
   "source": [
    "one_product"
   ]
  },
  {
   "cell_type": "markdown",
   "id": "ba2b03d5",
   "metadata": {},
   "source": [
    "### Only querying items at Hyde Park location (and available?)"
   ]
  },
  {
   "cell_type": "code",
   "execution_count": null,
   "id": "6ec5d7e2",
   "metadata": {},
   "outputs": [],
   "source": [
    "import requests\n",
    "import json\n",
    "\n",
    "def items_by_store(store_code, page):\n",
    "    url = \"https://www.traderjoes.com/api/graphql\"\n",
    "    headers = {\n",
    "        \"accept\": \"*/*\",\n",
    "        \"accept-language\": \"en-US,en;q=0.9\",\n",
    "        \"cache-control\": \"no-cache\",\n",
    "        \"content-type\": \"application/json\",\n",
    "        \"pragma\": \"no-cache\",\n",
    "        \"accept-encoding\": \"gzip, deflate, br\",\n",
    "        \"user-agent\": \"Mozilla/5.0 (Macintosh; Intel Mac OS X 10_15_7) AppleWebKit/537.36 \\\n",
    "                       (KHTML, like Gecko) Chrome/136.0.0.0 Safari/537.36\"\n",
    "    }\n",
    "\n",
    "    query = f\"\"\"\n",
    "    {{\n",
    "      products(\n",
    "        search: \"\",\n",
    "        filter: {{}},\n",
    "        currentPage: {page},\n",
    "        pageSize: 100\n",
    "      ) {{\n",
    "        items {{\n",
    "          sku\n",
    "          name\n",
    "          availability\n",
    "        }}\n",
    "        total_count\n",
    "      }}\n",
    "    }}\n",
    "    \"\"\"\n",
    "\n",
    "    payload = {\n",
    "        \"operationName\": \"SearchProduct\",\n",
    "        \"query\": query\n",
    "    }\n",
    "\n",
    "    response = requests.post(url, json=payload, headers=headers)\n",
    "\n",
    "    if response.status_code == 200:\n",
    "        try:\n",
    "            data = response.json()\n",
    "            return data.get('data', {}).get('products', {}).get('items', [])\n",
    "        except json.JSONDecodeError:\n",
    "            raise Exception(\"Failed to parse response JSON\")\n",
    "    else:\n",
    "        raise Exception(f\"Failure with code {response.status_code}: {response.text}\")\n",
    "\n",
    "items = items_by_store(\"706\", 1)\n",
    "for item in items:\n",
    "    print(item)"
   ]
  },
  {
   "cell_type": "code",
   "execution_count": null,
   "id": "de2fe6a1",
   "metadata": {},
   "outputs": [],
   "source": [
    "items[0]['availability']"
   ]
  },
  {
   "cell_type": "code",
   "execution_count": null,
   "id": "b0213a76",
   "metadata": {},
   "outputs": [],
   "source": [
    "len(items)"
   ]
  },
  {
   "cell_type": "code",
   "execution_count": null,
   "id": "b0ed7119",
   "metadata": {},
   "outputs": [],
   "source": [
    "[item for item in items if item['availability']=='0']"
   ]
  },
  {
   "cell_type": "markdown",
   "id": "f75bbac5",
   "metadata": {},
   "source": [
    "### Actually query all fields from all products (including nutrition)"
   ]
  },
  {
   "cell_type": "markdown",
   "id": "ee34895a",
   "metadata": {},
   "source": [
    "Now, query the nutritional information.\n",
    "\n",
    "uid vs sku? Both unique identifiers."
   ]
  },
  {
   "cell_type": "code",
   "execution_count": 61,
   "id": "4d1541f4",
   "metadata": {},
   "outputs": [],
   "source": [
    "# Get total number of products\n",
    "# Must be run before querying all products\n",
    "query_number_products = \"\"\"\n",
    "{\n",
    "  products(\n",
    "    search: \"\",\n",
    "    filter: {},\n",
    "    pageSize: 100,\n",
    "    currentPage: 0\n",
    "  ) \n",
    "  {\n",
    "    total_count\n",
    "    page_info {\n",
    "      current_page\n",
    "      page_size\n",
    "      total_pages\n",
    "    }\n",
    "  }\n",
    "}\n",
    "\"\"\"\n",
    "number_products = requests.post(url, json={\"query\": query_number_products}, headers=headers)\n",
    "number_products = number_products.json()\n",
    "# print(number_products)\n"
   ]
  },
  {
   "cell_type": "markdown",
   "id": "29e13ca1",
   "metadata": {},
   "source": [
    "Let's query 256 pages of 100 products."
   ]
  },
  {
   "cell_type": "code",
   "execution_count": 63,
   "id": "c632b42a",
   "metadata": {},
   "outputs": [],
   "source": [
    "page_info = number_products['data']['products']['page_info']\n",
    "page_size = page_info['page_size']\n",
    "num_pages = page_info['total_pages']\n",
    "\n",
    "query_product_page = \"\"\"\n",
    "{{\n",
    "  products(\n",
    "    search: \"\",\n",
    "    filter: {{}},\n",
    "    pageSize: {},\n",
    "    currentPage: {}\n",
    "  )\n",
    "  {{\n",
    "    items {{\n",
    "      sku\n",
    "      name\n",
    "      nutrition {{\n",
    "        calories_per_serving\n",
    "        details {{\n",
    "            amount\n",
    "            display_seq\n",
    "            nutritional_item\n",
    "            percent_dv\n",
    "        }}\n",
    "        display_sequence\n",
    "        panel_id\n",
    "        panel_title\n",
    "        serving_size\n",
    "        servings_per_container\n",
    "      }}\n",
    "      ingredients {{\n",
    "        display_sequence\n",
    "        ingredient\n",
    "      }}\n",
    "      item_description\n",
    "      popularity\n",
    "      price {{\n",
    "        regularPrice {{\n",
    "          amount {{\n",
    "            value\n",
    "            currency\n",
    "          }}\n",
    "        }}\n",
    "      }}\n",
    "      country_of_manufacture\n",
    "      country_of_origin\n",
    "      description {{\n",
    "        html\n",
    "      }}\n",
    "    }}\n",
    "    total_count\n",
    "    page_info {{\n",
    "      current_page\n",
    "      page_size\n",
    "      total_pages\n",
    "    }}\n",
    "  }}\n",
    "}}\n",
    "\"\"\"\n"
   ]
  },
  {
   "cell_type": "code",
   "execution_count": 64,
   "id": "2a386cb1",
   "metadata": {},
   "outputs": [
    {
     "data": {
      "text/plain": [
       "263"
      ]
     },
     "execution_count": 64,
     "metadata": {},
     "output_type": "execute_result"
    }
   ],
   "source": [
    "num_pages"
   ]
  },
  {
   "cell_type": "code",
   "execution_count": 65,
   "id": "9ad326e9",
   "metadata": {},
   "outputs": [],
   "source": [
    "all_items = []"
   ]
  },
  {
   "cell_type": "code",
   "execution_count": null,
   "id": "4c08a70f",
   "metadata": {},
   "outputs": [],
   "source": [
    "# # Last run time: 3m 42.6s!\n",
    "# # Page 0 is identical to page 1!!\n",
    "# for page_idx in range(1, num_pages+1):\n",
    "#     query_page_i = {\"query\": query_product_page.format(page_size, page_idx)}\n",
    "#     product_page = requests.post(url, json=query_page_i, headers=headers)\n",
    "#     product_page = product_page.json()\n",
    "#     all_items = all_items + product_page['data']['products']['items']\n"
   ]
  },
  {
   "cell_type": "code",
   "execution_count": 66,
   "id": "2d91425c",
   "metadata": {},
   "outputs": [
    {
     "data": {
      "text/plain": [
       "0"
      ]
     },
     "execution_count": 66,
     "metadata": {},
     "output_type": "execute_result"
    }
   ],
   "source": [
    "len(all_items)"
   ]
  },
  {
   "cell_type": "code",
   "execution_count": null,
   "id": "3d6d6896",
   "metadata": {},
   "outputs": [],
   "source": [
    "skus = [item['sku'] for item in all_items]"
   ]
  },
  {
   "cell_type": "code",
   "execution_count": null,
   "id": "86073881",
   "metadata": {},
   "outputs": [],
   "source": [
    "len(skus)"
   ]
  },
  {
   "cell_type": "code",
   "execution_count": null,
   "id": "4e579a65",
   "metadata": {},
   "outputs": [],
   "source": [
    "len(set(skus))"
   ]
  },
  {
   "cell_type": "code",
   "execution_count": null,
   "id": "5c87d237",
   "metadata": {},
   "outputs": [],
   "source": [
    "25564"
   ]
  },
  {
   "cell_type": "code",
   "execution_count": null,
   "id": "a54cd224",
   "metadata": {},
   "outputs": [],
   "source": [
    "len(set(skus[100:])) == len(set(skus))\n",
    "# Ah-ha! Yes, page 0 is identical to page 1"
   ]
  },
  {
   "cell_type": "code",
   "execution_count": null,
   "id": "0f597046",
   "metadata": {},
   "outputs": [],
   "source": [
    "query_page_256 = {\"query\": query_product_page.format(page_size, 256)}\n",
    "product_page_256 = requests.post(url, json=query_page_256, headers=headers)\n",
    "product_page_256 = product_page_256.json()\n",
    "all_items_fixed = all_items[100:]\n",
    "\n",
    "all_items_fixed = all_items_fixed + product_page_256['data']['products']['items']"
   ]
  },
  {
   "cell_type": "code",
   "execution_count": null,
   "id": "86c7338a",
   "metadata": {},
   "outputs": [],
   "source": [
    "skus_fixed = [item['sku'] for item in all_items_fixed]\n",
    "len(set(skus_fixed))"
   ]
  },
  {
   "cell_type": "markdown",
   "id": "1705c858",
   "metadata": {},
   "source": [
    "### Query all items from Hyde Park location"
   ]
  },
  {
   "cell_type": "code",
   "execution_count": 67,
   "id": "c58e02a2",
   "metadata": {},
   "outputs": [],
   "source": [
    "query_product_page = \"\"\"\n",
    "{{\n",
    "  products(\n",
    "    search: \"\",\n",
    "    filter: {{}},\n",
    "    pageSize: {},\n",
    "    currentPage: {}\n",
    "  )\n",
    "  {{\n",
    "    items {{\n",
    "      sku\n",
    "      name\n",
    "      availability\n",
    "      stock_status\n",
    "      only_x_left_in_stock\n",
    "      nutrition {{\n",
    "        calories_per_serving\n",
    "        details {{\n",
    "            amount\n",
    "            display_seq\n",
    "            nutritional_item\n",
    "            percent_dv\n",
    "        }}\n",
    "        display_sequence\n",
    "        panel_id\n",
    "        panel_title\n",
    "        serving_size\n",
    "        servings_per_container\n",
    "      }}\n",
    "      ingredients {{\n",
    "        display_sequence\n",
    "        ingredient\n",
    "      }}\n",
    "      item_description\n",
    "      popularity\n",
    "      price {{\n",
    "        regularPrice {{\n",
    "          amount {{\n",
    "            value\n",
    "            currency\n",
    "          }}\n",
    "        }}\n",
    "      }}\n",
    "      country_of_manufacture\n",
    "      country_of_origin\n",
    "      description {{\n",
    "        html\n",
    "      }}\n",
    "    }}\n",
    "    total_count\n",
    "    page_info {{\n",
    "      current_page\n",
    "      page_size\n",
    "      total_pages\n",
    "    }}\n",
    "  }}\n",
    "}}\n",
    "\"\"\""
   ]
  },
  {
   "cell_type": "code",
   "execution_count": 76,
   "id": "9a4b7d17",
   "metadata": {},
   "outputs": [],
   "source": [
    "# Just mimicking the Haskell one\n",
    "\n",
    "store_code = 706\n",
    "\n",
    "headers = {\n",
    "    \"accept\": \"*/*\",\n",
    "    \"accept-language\": \"en-US,en;q=0.9\",\n",
    "    \"content-type\": \"application/json\",\n",
    "    \"user-agent\": \"Mozilla/5.0 (Macintosh; Intel Mac OS X 10_15_7) AppleWebKit/537.36 (KHTML, like Gecko) Chrome/136.0.0.0 Safari/537.36\",\n",
    "}\n",
    "\n",
    "page_idx=1\n",
    "query_product_page_filled = query_product_page.format(page_size, page_idx)\n",
    "\n",
    "query = {\n",
    "    \"operationName\": \"SearchProduct\",\n",
    "    \"variables\": {\n",
    "        \"storeCode\": store_code,\n",
    "        \"published\": \"1\",\n",
    "        \"currentPage\": 1,\n",
    "        \"pageSize\": 100\n",
    "    },\n",
    "    \"query\": query_product_page_filled\n",
    "}\n",
    "\n",
    "response = requests.post(url, json=query, headers=headers)\n",
    "\n",
    "if response.status_code == 200:\n",
    "    data = response.json()\n",
    "else:\n",
    "    print(f\"Failure with code {response.status_code}\")"
   ]
  },
  {
   "cell_type": "code",
   "execution_count": 78,
   "id": "d271303e",
   "metadata": {},
   "outputs": [
    {
     "data": {
      "text/plain": [
       "263"
      ]
     },
     "execution_count": 78,
     "metadata": {},
     "output_type": "execute_result"
    }
   ],
   "source": [
    "num_pages"
   ]
  },
  {
   "cell_type": "code",
   "execution_count": 79,
   "id": "404e08ab",
   "metadata": {},
   "outputs": [
    {
     "data": {
      "text/plain": [
       "100"
      ]
     },
     "execution_count": 79,
     "metadata": {},
     "output_type": "execute_result"
    }
   ],
   "source": [
    "page_size"
   ]
  },
  {
   "cell_type": "code",
   "execution_count": null,
   "id": "3e0aaa9f",
   "metadata": {},
   "outputs": [],
   "source": [
    "# all_items_hp = []\n",
    "# store_code = 706\n",
    "\n",
    "# # Last run time: 5m 47.0s!\n",
    "# # Page 0 is identical to page 1!!\n",
    "\n",
    "# for page_idx in range(1, num_pages+1):\n",
    "#     query_product_page_filled = query_product_page.format(page_size, page_idx)\n",
    "#     query_page_i = {\n",
    "#         \"operationName\": \"SearchProduct\",\n",
    "#         \"variables\": {\n",
    "#             \"storeCode\": store_code,\n",
    "#             \"published\": \"1\",\n",
    "#             \"currentPage\": 1,\n",
    "#             \"pageSize\": 100\n",
    "#         },\n",
    "#         \"query\": query_product_page_filled\n",
    "#     }\n",
    "#     # query_page_i = {\"query\": query_product_page.format(page_size, page_idx)}\n",
    "#     product_page = requests.post(url, json=query_page_i, headers=headers)\n",
    "#     product_page = product_page.json()\n",
    "#     all_items_hp = all_items_hp + product_page['data']['products']['items']\n"
   ]
  },
  {
   "cell_type": "code",
   "execution_count": null,
   "id": "17a98cdf",
   "metadata": {},
   "outputs": [
    {
     "data": {
      "text/plain": [
       "25722"
      ]
     },
     "execution_count": 154,
     "metadata": {},
     "output_type": "execute_result"
    }
   ],
   "source": [
    "# len(all_items_hp) # 25722 on 06/29/2025"
   ]
  },
  {
   "cell_type": "markdown",
   "id": "01386ef1",
   "metadata": {},
   "source": [
    "## Converting json output to `polars`"
   ]
  },
  {
   "cell_type": "markdown",
   "id": "3de39fac",
   "metadata": {},
   "source": [
    "### Hyde Park list"
   ]
  },
  {
   "cell_type": "code",
   "execution_count": 156,
   "id": "5baefda7",
   "metadata": {},
   "outputs": [],
   "source": [
    "skus = [item['sku'] for item in all_items_hp]"
   ]
  },
  {
   "cell_type": "code",
   "execution_count": 157,
   "id": "8b44f4fc",
   "metadata": {},
   "outputs": [
    {
     "data": {
      "text/plain": [
       "25722"
      ]
     },
     "execution_count": 157,
     "metadata": {},
     "output_type": "execute_result"
    }
   ],
   "source": [
    "len(skus)"
   ]
  },
  {
   "cell_type": "code",
   "execution_count": 158,
   "id": "6c234654",
   "metadata": {},
   "outputs": [
    {
     "data": {
      "text/plain": [
       "23150"
      ]
     },
     "execution_count": 158,
     "metadata": {},
     "output_type": "execute_result"
    }
   ],
   "source": [
    "len(set(skus))"
   ]
  },
  {
   "cell_type": "code",
   "execution_count": 160,
   "id": "b4d05d24",
   "metadata": {},
   "outputs": [
    {
     "data": {
      "text/plain": [
       "258"
      ]
     },
     "execution_count": 160,
     "metadata": {},
     "output_type": "execute_result"
    }
   ],
   "source": [
    "num_pages"
   ]
  },
  {
   "cell_type": "code",
   "execution_count": 165,
   "id": "80fc6aa7",
   "metadata": {},
   "outputs": [],
   "source": [
    "from collections import Counter"
   ]
  },
  {
   "cell_type": "code",
   "execution_count": 169,
   "id": "48dccce1",
   "metadata": {},
   "outputs": [],
   "source": [
    "skus = [i['sku'] for i in all_items_hp]\n",
    "skus_ct = Counter(skus)"
   ]
  },
  {
   "cell_type": "code",
   "execution_count": 182,
   "id": "3b3dc172",
   "metadata": {},
   "outputs": [],
   "source": [
    "# skus_ct"
   ]
  },
  {
   "cell_type": "code",
   "execution_count": 180,
   "id": "2f5f2c0d",
   "metadata": {},
   "outputs": [
    {
     "data": {
      "text/plain": [
       "2572"
      ]
     },
     "execution_count": 180,
     "metadata": {},
     "output_type": "execute_result"
    }
   ],
   "source": [
    "sum([1 if i==2 else 0 for i in skus_ct.values()])"
   ]
  },
  {
   "cell_type": "code",
   "execution_count": 183,
   "id": "0fd2ffa1",
   "metadata": {},
   "outputs": [
    {
     "data": {
      "text/plain": [
       "[{'sku': '007363',\n",
       "  'name': 'JAGERMEISTER LIQUEUR 750ML',\n",
       "  'availability': '1',\n",
       "  'stock_status': 'OUT_OF_STOCK',\n",
       "  'only_x_left_in_stock': None,\n",
       "  'nutrition': None,\n",
       "  'ingredients': None,\n",
       "  'item_description': None,\n",
       "  'popularity': '0',\n",
       "  'price': {'regularPrice': {'amount': {'value': 18.99, 'currency': 'USD'}}},\n",
       "  'country_of_manufacture': None,\n",
       "  'country_of_origin': None,\n",
       "  'description': {'html': ''}},\n",
       " {'sku': '007363',\n",
       "  'name': 'JAGERMEISTER LIQUEUR 750ML',\n",
       "  'availability': '1',\n",
       "  'stock_status': 'OUT_OF_STOCK',\n",
       "  'only_x_left_in_stock': None,\n",
       "  'nutrition': None,\n",
       "  'ingredients': None,\n",
       "  'item_description': None,\n",
       "  'popularity': '0',\n",
       "  'price': {'regularPrice': {'amount': {'value': 18.99, 'currency': 'USD'}}},\n",
       "  'country_of_manufacture': None,\n",
       "  'country_of_origin': None,\n",
       "  'description': {'html': ''}}]"
      ]
     },
     "execution_count": 183,
     "metadata": {},
     "output_type": "execute_result"
    }
   ],
   "source": [
    "[i for i in all_items_hp if i['sku']=='007363']"
   ]
  },
  {
   "cell_type": "code",
   "execution_count": 168,
   "id": "020845d7",
   "metadata": {},
   "outputs": [
    {
     "data": {
      "text/plain": [
       "25722"
      ]
     },
     "execution_count": 168,
     "metadata": {},
     "output_type": "execute_result"
    }
   ],
   "source": [
    "len(all_items_hp)"
   ]
  },
  {
   "cell_type": "markdown",
   "id": "0c3eff0f",
   "metadata": {},
   "source": [
    "Uh-oh, remove duplicates and sponges."
   ]
  },
  {
   "cell_type": "markdown",
   "id": "0b08f876",
   "metadata": {},
   "source": [
    "Oh, sku 10032021 \"POP UP SPONGES\" for some reason contains information for pizza crusts? The problematic `\"item_description\": \"Broccoli & Kale Pizza Crust description\"`."
   ]
  },
  {
   "cell_type": "code",
   "execution_count": 191,
   "id": "ae6833f3",
   "metadata": {},
   "outputs": [],
   "source": [
    "all_items_hp_fixed = [item for item in all_items_hp if item['sku']!='10032021']"
   ]
  },
  {
   "cell_type": "code",
   "execution_count": 192,
   "id": "1e026257",
   "metadata": {},
   "outputs": [
    {
     "data": {
      "text/plain": [
       "25721"
      ]
     },
     "execution_count": 192,
     "metadata": {},
     "output_type": "execute_result"
    }
   ],
   "source": [
    "len(all_items_hp_fixed)"
   ]
  },
  {
   "cell_type": "markdown",
   "id": "0c41c6df",
   "metadata": {},
   "source": [
    "Save Hyde Park json."
   ]
  },
  {
   "cell_type": "code",
   "execution_count": null,
   "id": "f584ef65",
   "metadata": {},
   "outputs": [],
   "source": [
    "# import json\n",
    "# all_items_hp_fixed_raw_path = \"data/all_items_hp_fixed_raw.json\"\n",
    "# with open(all_items_hp_fixed_raw_path, \"w\") as f:\n",
    "#        json.dump(all_items_hp_fixed, f, indent=4)\n",
    "\n"
   ]
  },
  {
   "cell_type": "code",
   "execution_count": 196,
   "id": "75640a54",
   "metadata": {},
   "outputs": [],
   "source": [
    "import polars as pl"
   ]
  },
  {
   "cell_type": "code",
   "execution_count": null,
   "id": "21dfadf0",
   "metadata": {},
   "outputs": [
    {
     "data": {
      "text/html": [
       "<div><style>\n",
       ".dataframe > thead > tr,\n",
       ".dataframe > tbody > tr {\n",
       "  text-align: right;\n",
       "  white-space: pre-wrap;\n",
       "}\n",
       "</style>\n",
       "<small>shape: (5, 14)</small><table border=\"1\" class=\"dataframe\"><thead><tr><th>sku</th><th>name</th><th>availability</th><th>stock_status</th><th>only_x_left_in_stock</th><th>nutrition</th><th>ingredients</th><th>item_description</th><th>popularity</th><th>country_of_manufacture</th><th>country_of_origin</th><th>price.regularPrice.amount.value</th><th>price.regularPrice.amount.currency</th><th>description.html</th></tr><tr><td>str</td><td>str</td><td>str</td><td>str</td><td>null</td><td>list[struct[7]]</td><td>list[struct[2]]</td><td>null</td><td>str</td><td>null</td><td>str</td><td>f64</td><td>str</td><td>str</td></tr></thead><tbody><tr><td>&quot;080626&quot;</td><td>&quot;R-SALAD BABY RED BUTTER &amp; ARUG…</td><td>&quot;1&quot;</td><td>&quot;OUT_OF_STOCK&quot;</td><td>null</td><td>[{&quot;15 &quot;,[{&quot;0 g&quot;,1,&quot;Total Fat&quot;,&quot;0&quot;}, {&quot;0 g&quot;,2,&quot;Saturated Fat&quot;,&quot;0&quot;}, … {&quot;250 mg&quot;,14,&quot;Potassium&quot;,&quot;.06&quot;}],0,1,&quot;per serving&quot;,&quot;1/2 package (85g)&quot;,&quot;Serves 2&quot;}, {&quot;30 &quot;,[{&quot;0.5 g&quot;,1,&quot;Total Fat&quot;,&quot;.01&quot;}, {&quot;0 g&quot;,2,&quot;Saturated Fat&quot;,&quot;0&quot;}, … {&quot;490 mg&quot;,14,&quot;Potassium&quot;,&quot;.1&quot;}],1,2,&quot;per container&quot;,&quot;1/2 package (85g)&quot;,&quot;Serves 2&quot;}]</td><td>[{1,&quot;ORGANIC BABY RED BUTTER LETTUCE&quot;}, {2,&quot;ORGANIC BABY ARUGULA&quot;}]</td><td>null</td><td>&quot;107&quot;</td><td>null</td><td>&quot;Product of USA&quot;</td><td>2.49</td><td>&quot;USD&quot;</td><td>&quot;&quot;</td></tr><tr><td>&quot;097210&quot;</td><td>&quot;TURBINADO RAW CANE SUGAR&quot;</td><td>&quot;1&quot;</td><td>&quot;OUT_OF_STOCK&quot;</td><td>null</td><td>[{&quot;30&quot;,[{&quot;0 g&quot;,1,&quot;Total Fat&quot;,&quot;0&quot;}, {&quot;0 g&quot;,2,&quot;Saturated Fat&quot;,&quot;0&quot;}, … {&quot;0 mg&quot;,14,&quot;Potassium&quot;,&quot;0&quot;}],0,1,&quot;&quot;,&quot;2 tsp (8 g)&quot;,&quot;Serves 85&quot;}]</td><td>[{1,&quot;TURBINADO RAW CANE SUGAR&quot;}]</td><td>null</td><td>&quot;95&quot;</td><td>null</td><td>&quot;Product of Malawi Product of&quot;</td><td>3.49</td><td>&quot;USD&quot;</td><td>&quot;&quot;</td></tr><tr><td>&quot;082077&quot;</td><td>&quot;SALSA MANGO PINEAPPLE PICO DE …</td><td>&quot;1&quot;</td><td>&quot;OUT_OF_STOCK&quot;</td><td>null</td><td>[{&quot;10 &quot;,[{&quot;0 g&quot;,1,&quot;Total Fat&quot;,&quot;0&quot;}, {&quot;0 g&quot;,2,&quot;Saturated Fat&quot;,&quot;0&quot;}, … {&quot;50 mg&quot;,14,&quot;Potassium&quot;,&quot;.02&quot;}],0,1,null,&quot;2 Tbsp. (30g)&quot;,&quot;Serves about 11&quot;}]</td><td>[{1,&quot;TOMATO&quot;}, {2,&quot;YELLOW ONION&quot;}, … {8,&quot;SALT&quot;}]</td><td>null</td><td>&quot;236&quot;</td><td>null</td><td>&quot;Made in United States&quot;</td><td>3.99</td><td>&quot;USD&quot;</td><td>&quot;&quot;</td></tr><tr><td>&quot;080470&quot;</td><td>&quot;MARSHMALLOWS STRAWBERRY &amp; WATE…</td><td>&quot;1&quot;</td><td>&quot;OUT_OF_STOCK&quot;</td><td>null</td><td>[{&quot;100 &quot;,[{&quot;0 g&quot;,1,&quot;Total Fat&quot;,&quot;0&quot;}, {&quot;0 g&quot;,2,&quot;Saturated Fat&quot;,&quot;0&quot;}, … {&quot;0 mg&quot;,14,&quot;Potassium&quot;,&quot;0&quot;}],0,1,null,&quot;6 pieces (30g)&quot;,&quot;Serves about 8&quot;}]</td><td>[{1,&quot;GLUCOSE-FRUCTOSE SYRUP&quot;}, {2,&quot;SUGAR&quot;}, … {9,&quot;WATERMELON POWDER (MALTODEXTRIN, WATERMELON JUICE CONCENTRATE, CITRIC ACID [ACIDIFIER]).&quot;}]</td><td>null</td><td>&quot;371&quot;</td><td>null</td><td>&quot;Product of Spain&quot;</td><td>2.99</td><td>&quot;USD&quot;</td><td>&quot;&quot;</td></tr><tr><td>&quot;073162&quot;</td><td>&quot;CROISSANT CHOCOLATE&quot;</td><td>&quot;1&quot;</td><td>&quot;OUT_OF_STOCK&quot;</td><td>null</td><td>[{&quot;350 &quot;,[{&quot;20 g&quot;,1,&quot;Total Fat&quot;,&quot;.26&quot;}, {&quot;12 g&quot;,2,&quot;Saturated Fat&quot;,&quot;.6&quot;}, … {&quot;140 mg&quot;,14,&quot;Potassium&quot;,&quot;.02&quot;}],0,1,&quot;Per serving&quot;,&quot;1 croissant (83g)&quot;,&quot;Serves 2&quot;}, {&quot;710 &quot;,[{&quot;40 g&quot;,1,&quot;Total Fat&quot;,&quot;.51&quot;}, {&quot;23 g&quot;,2,&quot;Saturated Fat&quot;,&quot;1.15&quot;}, … {&quot;280 mg&quot;,14,&quot;Potassium&quot;,&quot;.06&quot;}],1,2,&quot;Per container&quot;,&quot;1 croissant (83g)&quot;,&quot;Serves 2&quot;}]</td><td>[{1,&quot;UNBLEACHED WHEAT FLOUR (WHEAT FLOUR, ENZYME)&quot;}, {2,&quot;WATER&quot;}, … {12,&quot;ENZYMES.&quot;}]</td><td>null</td><td>&quot;158&quot;</td><td>null</td><td>&quot;Product of USA&quot;</td><td>3.49</td><td>&quot;USD&quot;</td><td>&quot;&quot;</td></tr></tbody></table></div>"
      ],
      "text/plain": [
       "shape: (5, 14)\n",
       "┌────────┬────────────┬────────────┬───────────┬───┬───────────┬───────────┬───────────┬───────────┐\n",
       "│ sku    ┆ name       ┆ availabili ┆ stock_sta ┆ … ┆ country_o ┆ price.reg ┆ price.reg ┆ descripti │\n",
       "│ ---    ┆ ---        ┆ ty         ┆ tus       ┆   ┆ f_origin  ┆ ularPrice ┆ ularPrice ┆ on.html   │\n",
       "│ str    ┆ str        ┆ ---        ┆ ---       ┆   ┆ ---       ┆ .amount.v ┆ .amount.c ┆ ---       │\n",
       "│        ┆            ┆ str        ┆ str       ┆   ┆ str       ┆ alu…      ┆ urr…      ┆ str       │\n",
       "│        ┆            ┆            ┆           ┆   ┆           ┆ ---       ┆ ---       ┆           │\n",
       "│        ┆            ┆            ┆           ┆   ┆           ┆ f64       ┆ str       ┆           │\n",
       "╞════════╪════════════╪════════════╪═══════════╪═══╪═══════════╪═══════════╪═══════════╪═══════════╡\n",
       "│ 080626 ┆ R-SALAD    ┆ 1          ┆ OUT_OF_ST ┆ … ┆ Product   ┆ 2.49      ┆ USD       ┆           │\n",
       "│        ┆ BABY RED   ┆            ┆ OCK       ┆   ┆ of USA    ┆           ┆           ┆           │\n",
       "│        ┆ BUTTER &   ┆            ┆           ┆   ┆           ┆           ┆           ┆           │\n",
       "│        ┆ ARUG…      ┆            ┆           ┆   ┆           ┆           ┆           ┆           │\n",
       "│ 097210 ┆ TURBINADO  ┆ 1          ┆ OUT_OF_ST ┆ … ┆ Product   ┆ 3.49      ┆ USD       ┆           │\n",
       "│        ┆ RAW CANE   ┆            ┆ OCK       ┆   ┆ of Malawi ┆           ┆           ┆           │\n",
       "│        ┆ SUGAR      ┆            ┆           ┆   ┆ Product   ┆           ┆           ┆           │\n",
       "│        ┆            ┆            ┆           ┆   ┆ of        ┆           ┆           ┆           │\n",
       "│ 082077 ┆ SALSA      ┆ 1          ┆ OUT_OF_ST ┆ … ┆ Made in   ┆ 3.99      ┆ USD       ┆           │\n",
       "│        ┆ MANGO      ┆            ┆ OCK       ┆   ┆ United    ┆           ┆           ┆           │\n",
       "│        ┆ PINEAPPLE  ┆            ┆           ┆   ┆ States    ┆           ┆           ┆           │\n",
       "│        ┆ PICO DE …  ┆            ┆           ┆   ┆           ┆           ┆           ┆           │\n",
       "│ 080470 ┆ MARSHMALLO ┆ 1          ┆ OUT_OF_ST ┆ … ┆ Product   ┆ 2.99      ┆ USD       ┆           │\n",
       "│        ┆ WS         ┆            ┆ OCK       ┆   ┆ of Spain  ┆           ┆           ┆           │\n",
       "│        ┆ STRAWBERRY ┆            ┆           ┆   ┆           ┆           ┆           ┆           │\n",
       "│        ┆ & WATE…    ┆            ┆           ┆   ┆           ┆           ┆           ┆           │\n",
       "│ 073162 ┆ CROISSANT  ┆ 1          ┆ OUT_OF_ST ┆ … ┆ Product   ┆ 3.49      ┆ USD       ┆           │\n",
       "│        ┆ CHOCOLATE  ┆            ┆ OCK       ┆   ┆ of USA    ┆           ┆           ┆           │\n",
       "└────────┴────────────┴────────────┴───────────┴───┴───────────┴───────────┴───────────┴───────────┘"
      ]
     },
     "execution_count": 198,
     "metadata": {},
     "output_type": "execute_result"
    }
   ],
   "source": [
    "df_hp = pl.json_normalize(all_items_hp_fixed)\n",
    "df_hp.head(5)"
   ]
  },
  {
   "cell_type": "markdown",
   "id": "e88d9203",
   "metadata": {},
   "source": [
    "Beyond just dumping each json object from `all_items_fixed` into `pl.json_normalize()`, we also need to further handle the `nutrition` and `ingredients` dictionaries."
   ]
  },
  {
   "cell_type": "code",
   "execution_count": null,
   "id": "4cb2afbd",
   "metadata": {},
   "outputs": [],
   "source": [
    "# df_all_items_raw.write_csv('data/all_items_raw.csv')\n",
    "# # Nested columns 2 and 3 do not work with CSV"
   ]
  },
  {
   "cell_type": "code",
   "execution_count": null,
   "id": "418e611d",
   "metadata": {},
   "outputs": [],
   "source": [
    "# import json\n",
    "# all_items_fixed_raw_path = \"data/all_items_fixed_raw.json\"\n",
    "# with open(all_items_fixed_raw_path, \"w\") as f:\n",
    "#        json.dump(all_items_fixed, f, indent=4)\n",
    "\n"
   ]
  },
  {
   "cell_type": "markdown",
   "id": "bfa4bde3",
   "metadata": {},
   "source": [
    "Every description is empty html???"
   ]
  },
  {
   "cell_type": "markdown",
   "id": "6bf6f940",
   "metadata": {},
   "source": [
    "Let's try and isolate only food items."
   ]
  },
  {
   "cell_type": "code",
   "execution_count": 199,
   "id": "80a4b77c",
   "metadata": {},
   "outputs": [],
   "source": [
    "nuts = [item['nutrition'] for item in all_items_hp_fixed]"
   ]
  },
  {
   "cell_type": "code",
   "execution_count": null,
   "id": "8a2746de",
   "metadata": {},
   "outputs": [],
   "source": [
    "# Get only items with non-empty nutrition information\n",
    "# This will be criterion for what counts as \"food\""
   ]
  },
  {
   "cell_type": "code",
   "execution_count": 203,
   "id": "29047ce0",
   "metadata": {},
   "outputs": [],
   "source": [
    "# nut_lens = [len(nut) for nut in nuts]"
   ]
  },
  {
   "cell_type": "markdown",
   "id": "ed6f42d1",
   "metadata": {},
   "source": [
    "#### Getting only the values we need from the json, making it relational"
   ]
  },
  {
   "cell_type": "code",
   "execution_count": null,
   "id": "e0e94425",
   "metadata": {},
   "outputs": [],
   "source": [
    "import json\n",
    "import polars as pl"
   ]
  },
  {
   "cell_type": "code",
   "execution_count": 204,
   "id": "7d4373f2",
   "metadata": {},
   "outputs": [],
   "source": [
    "with open('data/all_items_hp_fixed_raw.json', 'r') as f:\n",
    "    tjhp_raw = json.load(f)"
   ]
  },
  {
   "cell_type": "markdown",
   "id": "50442ff7",
   "metadata": {},
   "source": [
    "Recall that the `item_description` field is `null` for just about every entry except one where it is instead the unrelated `Broccoli & Kale Pizza Crust description`."
   ]
  },
  {
   "cell_type": "code",
   "execution_count": null,
   "id": "89cbc628",
   "metadata": {},
   "outputs": [],
   "source": [
    "# tj_raw = [item for item in tj_raw if item['item_description'] != 'Broccoli & Kale Pizza Crust description']"
   ]
  },
  {
   "cell_type": "code",
   "execution_count": null,
   "id": "5d77512f",
   "metadata": {},
   "outputs": [],
   "source": [
    "tjhp = pl.DataFrame(tjhp_raw)"
   ]
  },
  {
   "cell_type": "markdown",
   "id": "99ee952b",
   "metadata": {},
   "source": [
    "Need to:\n",
    "\n",
    "* Remove rows with null `nutrition`\n",
    "* Remove useless fields (`item_description`, `description`)\n",
    "* Drop duplicate rows\n",
    "* Turn nested fields into \n",
    "    * lists (ingredients)\n",
    "    * individual and possibly sparse columns (fiber, protein, calories)"
   ]
  },
  {
   "cell_type": "code",
   "execution_count": 206,
   "id": "5c22ea12",
   "metadata": {},
   "outputs": [],
   "source": [
    "tjhp = tjhp.drop(['item_description', 'description'])"
   ]
  },
  {
   "cell_type": "code",
   "execution_count": 207,
   "id": "64bab8d9",
   "metadata": {},
   "outputs": [
    {
     "data": {
      "text/plain": [
       "(25721, 11)"
      ]
     },
     "execution_count": 207,
     "metadata": {},
     "output_type": "execute_result"
    }
   ],
   "source": [
    "tjhp.shape"
   ]
  },
  {
   "cell_type": "code",
   "execution_count": 208,
   "id": "66ab037e",
   "metadata": {},
   "outputs": [
    {
     "data": {
      "text/plain": [
       "(4783, 11)"
      ]
     },
     "execution_count": 208,
     "metadata": {},
     "output_type": "execute_result"
    }
   ],
   "source": [
    "tjhp = tjhp.drop_nulls(subset=['nutrition', 'price'])\n",
    "tjhp.shape"
   ]
  },
  {
   "cell_type": "code",
   "execution_count": null,
   "id": "64652253",
   "metadata": {},
   "outputs": [],
   "source": [
    "# Drop dupes\n",
    "tjhp = tjhp.unique()"
   ]
  },
  {
   "cell_type": "code",
   "execution_count": null,
   "id": "6b9afb48",
   "metadata": {},
   "outputs": [
    {
     "name": "stdout",
     "output_type": "stream",
     "text": [
      "shape: (4_588, 12)\n",
      "┌────────┬────────────┬────────────┬───────────┬───┬───────────┬───────────┬───────────┬───────────┐\n",
      "│ sku    ┆ name       ┆ availabili ┆ stock_sta ┆ … ┆ price     ┆ country_o ┆ country_o ┆ nested_fi │\n",
      "│ ---    ┆ ---        ┆ ty         ┆ tus       ┆   ┆ ---       ┆ f_manufac ┆ f_origin  ┆ eld       │\n",
      "│ str    ┆ str        ┆ ---        ┆ ---       ┆   ┆ struct[1] ┆ ture      ┆ ---       ┆ ---       │\n",
      "│        ┆            ┆ str        ┆ str       ┆   ┆           ┆ ---       ┆ str       ┆ str       │\n",
      "│        ┆            ┆            ┆           ┆   ┆           ┆ null      ┆           ┆           │\n",
      "╞════════╪════════════╪════════════╪═══════════╪═══╪═══════════╪═══════════╪═══════════╪═══════════╡\n",
      "│ 075259 ┆ MEAL       ┆ 1          ┆ OUT_OF_ST ┆ … ┆ {{{3.99,\" ┆ null      ┆ Product   ┆ USD       │\n",
      "│        ┆ CASHEW     ┆            ┆ OCK       ┆   ┆ USD\"}}}   ┆           ┆ of Sri    ┆           │\n",
      "│        ┆ CURRY &    ┆            ┆           ┆   ┆           ┆           ┆ Lanka     ┆           │\n",
      "│        ┆ RICE       ┆            ┆           ┆   ┆           ┆           ┆           ┆           │\n",
      "│ 076838 ┆ HOL        ┆ 1          ┆ OUT_OF_ST ┆ … ┆ {{{4.99,\" ┆ null      ┆ Product   ┆ USD       │\n",
      "│        ┆ UNEXPECTED ┆            ┆ OCK       ┆   ┆ USD\"}}}   ┆           ┆ of United ┆           │\n",
      "│        ┆ CHEDDAR    ┆            ┆           ┆   ┆           ┆           ┆ States    ┆           │\n",
      "│        ┆ SPREAD-…   ┆            ┆           ┆   ┆           ┆           ┆           ┆           │\n",
      "│ 066838 ┆ SALMON HOT ┆ 1          ┆ OUT_OF_ST ┆ … ┆ {{{5.99,\" ┆ null      ┆ Raised in ┆ USD       │\n",
      "│        ┆ SMOKED 5   ┆            ┆ OCK       ┆   ┆ USD\"}}}   ┆           ┆ Scotland  ┆           │\n",
      "│        ┆ OZ         ┆            ┆           ┆   ┆           ┆           ┆ Processed ┆           │\n",
      "│        ┆            ┆            ┆           ┆   ┆           ┆           ┆ i…        ┆           │\n",
      "│ 054840 ┆ KALE & CAU ┆ 1          ┆ OUT_OF_ST ┆ … ┆ {{{3.99,\" ┆ null      ┆ Produced  ┆ USD       │\n",
      "│        ┆ LIFLOWER   ┆            ┆ OCK       ┆   ┆ USD\"}}}   ┆           ┆ in USA    ┆           │\n",
      "│        ┆ CURRY      ┆            ┆           ┆   ┆           ┆           ┆           ┆           │\n",
      "│        ┆ SALAD      ┆            ┆           ┆   ┆           ┆           ┆           ┆           │\n",
      "│ 074671 ┆ TUNA SOLID ┆ 1          ┆ OUT_OF_ST ┆ … ┆ {{{1.99,\" ┆ null      ┆ Packed in ┆ USD       │\n",
      "│        ┆ WHITE      ┆            ┆ OCK       ┆   ┆ USD\"}}}   ┆           ┆ United    ┆           │\n",
      "│        ┆ ALBACORE   ┆            ┆           ┆   ┆           ┆           ┆ States    ┆           │\n",
      "│        ┆ SALT…      ┆            ┆           ┆   ┆           ┆           ┆           ┆           │\n",
      "│ 054114 ┆ MRNTD GRLD ┆ 1          ┆ OUT_OF_ST ┆ … ┆ {{{3.49,\" ┆ null      ┆ product   ┆ USD       │\n",
      "│        ┆ ARTICHOKE  ┆            ┆ OCK       ┆   ┆ USD\"}}}   ┆           ┆ of Peru   ┆           │\n",
      "│        ┆ HALVES     ┆            ┆           ┆   ┆           ┆           ┆           ┆           │\n",
      "│ 035881 ┆ BREADED    ┆ 1          ┆ OUT_OF_ST ┆ … ┆ {{{8.99,\" ┆ null      ┆ Wild      ┆ USD       │\n",
      "│        ┆ COD        ┆            ┆ OCK       ┆   ┆ USD\"}}}   ┆           ┆ caught in ┆           │\n",
      "│        ┆ FILLETS    ┆            ┆           ┆   ┆           ┆           ┆ United    ┆           │\n",
      "│        ┆            ┆            ┆           ┆   ┆           ┆           ┆ States    ┆           │\n",
      "│ 008990 ┆ SUPERSWEET ┆ 1          ┆ OUT_OF_ST ┆ … ┆ {{{1.49,\" ┆ null      ┆ Product   ┆ USD       │\n",
      "│        ┆ CUT WHITE  ┆            ┆ OCK       ┆   ┆ USD\"}}}   ┆           ┆ of United ┆           │\n",
      "│        ┆ CORN       ┆            ┆           ┆   ┆           ┆           ┆ States    ┆           │\n",
      "│ 082847 ┆ EGGS LARGE ┆ 1          ┆ OUT_OF_ST ┆ … ┆ {{{4.69,\" ┆ null      ┆ Manufactu ┆ USD       │\n",
      "│        ┆ BROWN      ┆            ┆ OCK       ┆   ┆ USD\"}}}   ┆           ┆ red in    ┆           │\n",
      "│        ┆ DOZEN      ┆            ┆           ┆   ┆           ┆           ┆ USA       ┆           │\n",
      "│ 061297 ┆ HOL MIXED  ┆ 1          ┆ OUT_OF_ST ┆ … ┆ {{{3.99,\" ┆ null      ┆ Product   ┆ USD       │\n",
      "│        ┆ SUGAR      ┆            ┆ OCK       ┆   ┆ USD\"}}}   ┆           ┆ of USA    ┆           │\n",
      "│        ┆ GLAZED     ┆            ┆           ┆   ┆           ┆           ┆           ┆           │\n",
      "│ …      ┆ …          ┆ …          ┆ …         ┆ … ┆ …         ┆ …         ┆ …         ┆ …         │\n",
      "│ 076253 ┆ HOT DOG    ┆ 1          ┆ OUT_OF_ST ┆ … ┆ {{{5.99,\" ┆ null      ┆ Product   ┆ USD       │\n",
      "│        ┆ UNCURED    ┆            ┆ OCK       ┆   ┆ USD\"}}}   ┆           ┆ of United ┆           │\n",
      "│        ┆ BEEF       ┆            ┆           ┆   ┆           ┆           ┆ States    ┆           │\n",
      "│        ┆ ORGANIC    ┆            ┆           ┆   ┆           ┆           ┆           ┆           │\n",
      "│ 073802 ┆ VEGAN      ┆ 1          ┆ OUT_OF_ST ┆ … ┆ {{{3.99,\" ┆ null      ┆ Product   ┆ USD       │\n",
      "│        ┆ BUFFALO    ┆            ┆ OCK       ┆   ┆ USD\"}}}   ┆           ┆ of United ┆           │\n",
      "│        ┆ DIIP       ┆            ┆           ┆   ┆           ┆           ┆ States    ┆           │\n",
      "│ 063262 ┆ ALMOND     ┆ 1          ┆ OUT_OF_ST ┆ … ┆ {{{1.99,\" ┆ null      ┆ Product   ┆ USD       │\n",
      "│        ┆ CREAMER    ┆            ┆ OCK       ┆   ┆ USD\"}}}   ┆           ┆ of USA    ┆           │\n",
      "│        ┆ CHOCOLATE  ┆            ┆           ┆   ┆           ┆           ┆           ┆           │\n",
      "│        ┆ PEPPE…     ┆            ┆           ┆   ┆           ┆           ┆           ┆           │\n",
      "│ 078797 ┆ VANILLA    ┆ 1          ┆ OUT_OF_ST ┆ … ┆ {{{7.99,\" ┆ null      ┆ Product   ┆ USD       │\n",
      "│        ┆ EXTRACT 2  ┆            ┆ OCK       ┆   ┆ USD\"}}}   ┆           ┆ of        ┆           │\n",
      "│        ┆ FOLD       ┆            ┆           ┆   ┆           ┆           ┆ Mauritius ┆           │\n",
      "│        ┆ W/SEEDS…   ┆            ┆           ┆   ┆           ┆           ┆           ┆           │\n",
      "│ 073858 ┆ BREAD RYE  ┆ 1          ┆ OUT_OF_ST ┆ … ┆ {{{3.49,\" ┆ null      ┆ Made in   ┆ USD       │\n",
      "│        ┆ MARBLED    ┆            ┆ OCK       ┆   ┆ USD\"}}}   ┆           ┆ USA       ┆           │\n",
      "│ 057824 ┆ EGG SALAD  ┆ 1          ┆ OUT_OF_ST ┆ … ┆ {{{4.99,\" ┆ null      ┆ Product   ┆ USD       │\n",
      "│        ┆            ┆            ┆ OCK       ┆   ┆ USD\"}}}   ┆           ┆ of USA    ┆           │\n",
      "│ 162065 ┆ 1.25 LT    ┆ 1          ┆ OUT_OF_ST ┆ … ┆ {{{11.88, ┆ null      ┆ Product   ┆ USD       │\n",
      "│        ┆ STARFRUIT  ┆            ┆ OCK       ┆   ┆ \"USD\"}}}  ┆           ┆ of USA    ┆           │\n",
      "│        ┆ SPARKL     ┆            ┆           ┆   ┆           ┆           ┆           ┆           │\n",
      "│        ┆ MINER…     ┆            ┆           ┆   ┆           ┆           ┆           ┆           │\n",
      "│ 064669 ┆ MOCHI      ┆ 1          ┆ OUT_OF_ST ┆ … ┆ {{{4.99,\" ┆ null      ┆ Product   ┆ USD       │\n",
      "│        ┆ GREEN TEA  ┆            ┆ OCK       ┆   ┆ USD\"}}}   ┆           ┆ of United ┆           │\n",
      "│        ┆            ┆            ┆           ┆   ┆           ┆           ┆ States    ┆           │\n",
      "│ 078933 ┆ HOL BUTTER ┆ 1          ┆ OUT_OF_ST ┆ … ┆ {{{5.49,\" ┆ null      ┆ Product   ┆ USD       │\n",
      "│        ┆ MAPLE      ┆            ┆ OCK       ┆   ┆ USD\"}}}   ┆           ┆ of Canada ┆           │\n",
      "│        ┆ ORGANIC    ┆            ┆           ┆   ┆           ┆           ┆           ┆           │\n",
      "│ 099262 ┆ QUESO      ┆ 1          ┆ OUT_OF_ST ┆ … ┆ {{{2.49,\" ┆ null      ┆ Manufactu ┆ USD       │\n",
      "│        ┆ CHEESE DIP ┆            ┆ OCK       ┆   ┆ USD\"}}}   ┆           ┆ red in    ┆           │\n",
      "│        ┆            ┆            ┆           ┆   ┆           ┆           ┆ United    ┆           │\n",
      "│        ┆            ┆            ┆           ┆   ┆           ┆           ┆ States    ┆           │\n",
      "└────────┴────────────┴────────────┴───────────┴───┴───────────┴───────────┴───────────┴───────────┘\n"
     ]
    }
   ],
   "source": [
    "# fix price so it actually is a float of US dollars\n",
    "temp = tjhp.with_columns(\n",
    "    pl.col(\"price\").struct.field(\"regularPrice\").struct.field(\"amount\").struct.field(\"currency\").alias(\"nested_field\")\n",
    ")\n",
    "\n",
    "print(temp)"
   ]
  },
  {
   "cell_type": "code",
   "execution_count": 216,
   "id": "4ed4d91b",
   "metadata": {},
   "outputs": [
    {
     "data": {
      "text/html": [
       "<div><style>\n",
       ".dataframe > thead > tr,\n",
       ".dataframe > tbody > tr {\n",
       "  text-align: right;\n",
       "  white-space: pre-wrap;\n",
       "}\n",
       "</style>\n",
       "<small>shape: (1, 2)</small><table border=\"1\" class=\"dataframe\"><thead><tr><th>nested_field</th><th>count</th></tr><tr><td>str</td><td>u32</td></tr></thead><tbody><tr><td>&quot;USD&quot;</td><td>4588</td></tr></tbody></table></div>"
      ],
      "text/plain": [
       "shape: (1, 2)\n",
       "┌──────────────┬───────┐\n",
       "│ nested_field ┆ count │\n",
       "│ ---          ┆ ---   │\n",
       "│ str          ┆ u32   │\n",
       "╞══════════════╪═══════╡\n",
       "│ USD          ┆ 4588  │\n",
       "└──────────────┴───────┘"
      ]
     },
     "execution_count": 216,
     "metadata": {},
     "output_type": "execute_result"
    }
   ],
   "source": [
    "temp['nested_field'].value_counts()"
   ]
  },
  {
   "cell_type": "markdown",
   "id": "83bf10a9",
   "metadata": {},
   "source": [
    "OK, they are all in USD, proceed."
   ]
  },
  {
   "cell_type": "code",
   "execution_count": 217,
   "id": "6660ba47",
   "metadata": {},
   "outputs": [],
   "source": [
    "tjhp = tjhp.with_columns(\n",
    "    pl.col(\"price\").struct.field(\"regularPrice\").struct.field(\"amount\").struct.field(\"value\").alias(\"price_usd\")\n",
    ")\n"
   ]
  },
  {
   "cell_type": "markdown",
   "id": "57d3cb14",
   "metadata": {},
   "source": [
    "Onto the same nested json but for calories..."
   ]
  },
  {
   "cell_type": "markdown",
   "id": "12e87e0c",
   "metadata": {},
   "source": [
    "Wow, these nutrition items are formatted horrendously. The key is not a key whatsoever. Should go back and fix this in the original GraphQL query under `nutrition`."
   ]
  },
  {
   "cell_type": "code",
   "execution_count": 218,
   "id": "d534fed7",
   "metadata": {},
   "outputs": [
    {
     "data": {
      "text/html": [
       "<div><style>\n",
       ".dataframe > thead > tr,\n",
       ".dataframe > tbody > tr {\n",
       "  text-align: right;\n",
       "  white-space: pre-wrap;\n",
       "}\n",
       "</style>\n",
       "<small>shape: (2,)</small><table border=\"1\" class=\"dataframe\"><thead><tr><th></th></tr><tr><td>struct[7]</td></tr></thead><tbody><tr><td>{&quot;610 &quot;,[{&quot;38 g&quot;,1,&quot;Total Fat&quot;,&quot;.49&quot;}, {&quot;25 g&quot;,2,&quot;Saturated Fat&quot;,&quot;1.25&quot;}, … {&quot;530 mg&quot;,14,&quot;Potassium&quot;,&quot;.1&quot;}],0,1,&quot;Per 1 cup (250g)&quot;,&quot;1 package (375g)&quot;,&quot;Serves 1&quot;}</td></tr><tr><td>{&quot;910 &quot;,[{&quot;56 g&quot;,1,&quot;Total Fat&quot;,&quot;.72&quot;}, {&quot;37 g&quot;,2,&quot;Saturated Fat&quot;,&quot;1.85&quot;}, … {&quot;790 mg&quot;,14,&quot;Potassium&quot;,&quot;.15&quot;}],1,2,&quot;Per container&quot;,&quot;1 package (375g)&quot;,&quot;Serves 1&quot;}</td></tr></tbody></table></div>"
      ],
      "text/plain": [
       "shape: (2,)\n",
       "Series: '' [struct[7]]\n",
       "[\n",
       "\t{\"610 \",[{\"38 g\",1,\"Total Fat\",\".49\"}, {\"25 g\",2,\"Saturated Fat\",\"1.25\"}, … {\"530 mg\",14,\"Potassium\",\".1\"}],0,1,\"Per 1 cup (250g)\",\"1 package (375g)\",\"Serves 1\"}\n",
       "\t{\"910 \",[{\"56 g\",1,\"Total Fat\",\".72\"}, {\"37 g\",2,\"Saturated Fat\",\"1.85\"}, … {\"790 mg\",14,\"Potassium\",\".15\"}],1,2,\"Per container\",\"1 package (375g)\",\"Serves 1\"}\n",
       "]"
      ]
     },
     "execution_count": 218,
     "metadata": {},
     "output_type": "execute_result"
    }
   ],
   "source": [
    "tjhp['nutrition'][0]"
   ]
  },
  {
   "cell_type": "markdown",
   "id": "249d0a85",
   "metadata": {},
   "source": [
    "Oh, maybe not."
   ]
  },
  {
   "cell_type": "code",
   "execution_count": 219,
   "id": "f09cde0e",
   "metadata": {},
   "outputs": [
    {
     "data": {
      "text/plain": [
       "{'calories_per_serving': '610 ',\n",
       " 'details': [{'amount': '38 g',\n",
       "   'display_seq': 1,\n",
       "   'nutritional_item': 'Total Fat',\n",
       "   'percent_dv': '.49'},\n",
       "  {'amount': '25 g',\n",
       "   'display_seq': 2,\n",
       "   'nutritional_item': 'Saturated Fat',\n",
       "   'percent_dv': '1.25'},\n",
       "  {'amount': '0 g',\n",
       "   'display_seq': 3,\n",
       "   'nutritional_item': 'Trans Fat',\n",
       "   'percent_dv': ''},\n",
       "  {'amount': '0 mg',\n",
       "   'display_seq': 4,\n",
       "   'nutritional_item': 'Cholesterol',\n",
       "   'percent_dv': '0'},\n",
       "  {'amount': '500 mg',\n",
       "   'display_seq': 5,\n",
       "   'nutritional_item': 'Sodium',\n",
       "   'percent_dv': '.22'},\n",
       "  {'amount': '58 g',\n",
       "   'display_seq': 6,\n",
       "   'nutritional_item': 'Total Carbohydrate',\n",
       "   'percent_dv': '.21'},\n",
       "  {'amount': '4 g',\n",
       "   'display_seq': 7,\n",
       "   'nutritional_item': 'Dietary Fiber',\n",
       "   'percent_dv': '.14'},\n",
       "  {'amount': '4 g',\n",
       "   'display_seq': 8,\n",
       "   'nutritional_item': 'Total Sugars',\n",
       "   'percent_dv': ''},\n",
       "  {'amount': '0 g Added Sugars',\n",
       "   'display_seq': 9,\n",
       "   'nutritional_item': 'Includes',\n",
       "   'percent_dv': '0'},\n",
       "  {'amount': '11 g',\n",
       "   'display_seq': 10,\n",
       "   'nutritional_item': 'Protein',\n",
       "   'percent_dv': ''},\n",
       "  {'amount': '0.0 mcg',\n",
       "   'display_seq': 11,\n",
       "   'nutritional_item': 'Vitamin D',\n",
       "   'percent_dv': '0'},\n",
       "  {'amount': '20 mg',\n",
       "   'display_seq': 12,\n",
       "   'nutritional_item': 'Calcium',\n",
       "   'percent_dv': '.02'},\n",
       "  {'amount': '2.4 mg',\n",
       "   'display_seq': 13,\n",
       "   'nutritional_item': 'Iron',\n",
       "   'percent_dv': '.15'},\n",
       "  {'amount': '530 mg',\n",
       "   'display_seq': 14,\n",
       "   'nutritional_item': 'Potassium',\n",
       "   'percent_dv': '.1'}],\n",
       " 'display_sequence': 0,\n",
       " 'panel_id': 1,\n",
       " 'panel_title': 'Per 1 cup (250g)',\n",
       " 'serving_size': '1 package (375g)',\n",
       " 'servings_per_container': 'Serves 1'}"
      ]
     },
     "execution_count": 219,
     "metadata": {},
     "output_type": "execute_result"
    }
   ],
   "source": [
    "tjhp['nutrition'][0][0]"
   ]
  },
  {
   "cell_type": "code",
   "execution_count": 220,
   "id": "9258591e",
   "metadata": {},
   "outputs": [
    {
     "data": {
      "text/plain": [
       "'610 '"
      ]
     },
     "execution_count": 220,
     "metadata": {},
     "output_type": "execute_result"
    }
   ],
   "source": [
    "tjhp['nutrition'][0][0]['calories_per_serving']"
   ]
  },
  {
   "cell_type": "code",
   "execution_count": 221,
   "id": "16810a28",
   "metadata": {},
   "outputs": [
    {
     "data": {
      "text/html": [
       "<div><style>\n",
       ".dataframe > thead > tr,\n",
       ".dataframe > tbody > tr {\n",
       "  text-align: right;\n",
       "  white-space: pre-wrap;\n",
       "}\n",
       "</style>\n",
       "<small>shape: (3, 13)</small><table border=\"1\" class=\"dataframe\"><thead><tr><th>sku</th><th>name</th><th>availability</th><th>stock_status</th><th>only_x_left_in_stock</th><th>nutrition</th><th>ingredients</th><th>popularity</th><th>price</th><th>country_of_manufacture</th><th>country_of_origin</th><th>price_usd</th><th>calories_per_serving</th></tr><tr><td>str</td><td>str</td><td>str</td><td>str</td><td>null</td><td>list[struct[7]]</td><td>list[struct[2]]</td><td>str</td><td>struct[1]</td><td>null</td><td>str</td><td>f64</td><td>str</td></tr></thead><tbody><tr><td>&quot;075259&quot;</td><td>&quot;MEAL CASHEW CURRY &amp; RICE&quot;</td><td>&quot;1&quot;</td><td>&quot;OUT_OF_STOCK&quot;</td><td>null</td><td>[{&quot;610 &quot;,[{&quot;38 g&quot;,1,&quot;Total Fat&quot;,&quot;.49&quot;}, {&quot;25 g&quot;,2,&quot;Saturated Fat&quot;,&quot;1.25&quot;}, … {&quot;530 mg&quot;,14,&quot;Potassium&quot;,&quot;.1&quot;}],0,1,&quot;Per 1 cup (250g)&quot;,&quot;1 package (375g)&quot;,&quot;Serves 1&quot;}, {&quot;910 &quot;,[{&quot;56 g&quot;,1,&quot;Total Fat&quot;,&quot;.72&quot;}, {&quot;37 g&quot;,2,&quot;Saturated Fat&quot;,&quot;1.85&quot;}, … {&quot;790 mg&quot;,14,&quot;Potassium&quot;,&quot;.15&quot;}],1,2,&quot;Per container&quot;,&quot;1 package (375g)&quot;,&quot;Serves 1&quot;}]</td><td>[{1,&quot;ORGANIC COOKED SEASONED RICE PACKET (ORGANIC RICE, WATER, ORGANIC PARSLEY, ORGANIC CURRY LEAVES, ORGANIC NATURAL FLAVOR, ORGANIC COCONUT OIL, ORGANIC BLACK PEPPER, ORGANIC CUMIN SEED, ORGANIC CINNAMON, ORGANIC TURMERIC POWDER, ORGANIC CARDAMOM, SEA SALT)&quot;}, {2,&quot;ORGANIC SAUCE PACKET (ORGANIC COCONUT MILK, WATER, ORGANIC ONIONS, ORGANIC GARLIC, ORGANIC GINGER, ORGANIC CORIANDER, ORGANIC CUMIN SEED, ORGANIC CURRY LEAVES, ORGANIC TURMERIC POWDER, SEA SALT, ORGANIC CINNAMON, ORGANIC BLACK PEPPER, ORGANIC CARDAMOM)&quot;}, {3,&quot;ORGANIC CASHEW PACKET (ORGANIC CASHEWS)&quot;}]</td><td>&quot;49&quot;</td><td>{{{3.99,&quot;USD&quot;}}}</td><td>null</td><td>&quot;Product of Sri Lanka&quot;</td><td>3.99</td><td>&quot;610 &quot;</td></tr><tr><td>&quot;076838&quot;</td><td>&quot;HOL UNEXPECTED CHEDDAR SPREAD-…</td><td>&quot;1&quot;</td><td>&quot;OUT_OF_STOCK&quot;</td><td>null</td><td>[{&quot;90 &quot;,[{&quot;6 g&quot;,1,&quot;Total Fat&quot;,&quot;.08&quot;}, {&quot;4.0 g&quot;,2,&quot;Saturated Fat&quot;,&quot;.2&quot;}, … {&quot;180 mg&quot;,14,&quot;Potassium&quot;,&quot;.04&quot;}],0,1,&quot;&quot;,&quot;2 Tbsp. (28g)&quot;,&quot;Serves about 9&quot;}]</td><td>[{1,&quot;CHEDDAR CHEESE (PASTEURIZED MILK, CHEESE CULTURES, SALT, MICROBIAL ENZYME)&quot;}, {2,&quot;WATER&quot;}, … {11,&quot;CINNAMON.&quot;}]</td><td>&quot;10&quot;</td><td>{{{4.99,&quot;USD&quot;}}}</td><td>null</td><td>&quot;Product of United States&quot;</td><td>4.99</td><td>&quot;90 &quot;</td></tr><tr><td>&quot;066838&quot;</td><td>&quot;SALMON HOT SMOKED 5 OZ&quot;</td><td>&quot;1&quot;</td><td>&quot;OUT_OF_STOCK&quot;</td><td>null</td><td>[{&quot;110 &quot;,[{&quot;7 g&quot;,1,&quot;Total Fat&quot;,&quot;.09&quot;}, {&quot;1.5 g&quot;,2,&quot;Saturated Fat&quot;,&quot;.08&quot;}, … {&quot;210 mg&quot;,14,&quot;Potassium&quot;,&quot;.04&quot;}],0,1,&quot;Per Serving&quot;,&quot;2oz (56g)&quot;,&quot;Serves about 2.5&quot;}, {&quot;290 &quot;,[{&quot;17 g&quot;,1,&quot;Total Fat&quot;,&quot;.22&quot;}, {&quot;3.5 g&quot;,2,&quot;Saturated Fat&quot;,&quot;.18&quot;}, … {&quot;530 mg&quot;,14,&quot;Potassium&quot;,&quot;.1&quot;}],1,2,&quot;Per Container&quot;,&quot;2oz (56g)&quot;,&quot;Serves about 2.5&quot;}]</td><td>[{1,&quot;FARM RAISED ATLANTIC SALMON [COLOR ADDED]&quot;}, {2,&quot;SEA SALT&quot;}, {3,&quot;HARDWOOD SMOKE.&quot;}]</td><td>&quot;1&quot;</td><td>{{{5.99,&quot;USD&quot;}}}</td><td>null</td><td>&quot;Raised in Scotland Processed i…</td><td>5.99</td><td>&quot;110 &quot;</td></tr></tbody></table></div>"
      ],
      "text/plain": [
       "shape: (3, 13)\n",
       "┌────────┬────────────┬────────────┬───────────┬───┬───────────┬───────────┬───────────┬───────────┐\n",
       "│ sku    ┆ name       ┆ availabili ┆ stock_sta ┆ … ┆ country_o ┆ country_o ┆ price_usd ┆ calories_ │\n",
       "│ ---    ┆ ---        ┆ ty         ┆ tus       ┆   ┆ f_manufac ┆ f_origin  ┆ ---       ┆ per_servi │\n",
       "│ str    ┆ str        ┆ ---        ┆ ---       ┆   ┆ ture      ┆ ---       ┆ f64       ┆ ng        │\n",
       "│        ┆            ┆ str        ┆ str       ┆   ┆ ---       ┆ str       ┆           ┆ ---       │\n",
       "│        ┆            ┆            ┆           ┆   ┆ null      ┆           ┆           ┆ str       │\n",
       "╞════════╪════════════╪════════════╪═══════════╪═══╪═══════════╪═══════════╪═══════════╪═══════════╡\n",
       "│ 075259 ┆ MEAL       ┆ 1          ┆ OUT_OF_ST ┆ … ┆ null      ┆ Product   ┆ 3.99      ┆ 610       │\n",
       "│        ┆ CASHEW     ┆            ┆ OCK       ┆   ┆           ┆ of Sri    ┆           ┆           │\n",
       "│        ┆ CURRY &    ┆            ┆           ┆   ┆           ┆ Lanka     ┆           ┆           │\n",
       "│        ┆ RICE       ┆            ┆           ┆   ┆           ┆           ┆           ┆           │\n",
       "│ 076838 ┆ HOL        ┆ 1          ┆ OUT_OF_ST ┆ … ┆ null      ┆ Product   ┆ 4.99      ┆ 90        │\n",
       "│        ┆ UNEXPECTED ┆            ┆ OCK       ┆   ┆           ┆ of United ┆           ┆           │\n",
       "│        ┆ CHEDDAR    ┆            ┆           ┆   ┆           ┆ States    ┆           ┆           │\n",
       "│        ┆ SPREAD-…   ┆            ┆           ┆   ┆           ┆           ┆           ┆           │\n",
       "│ 066838 ┆ SALMON HOT ┆ 1          ┆ OUT_OF_ST ┆ … ┆ null      ┆ Raised in ┆ 5.99      ┆ 110       │\n",
       "│        ┆ SMOKED 5   ┆            ┆ OCK       ┆   ┆           ┆ Scotland  ┆           ┆           │\n",
       "│        ┆ OZ         ┆            ┆           ┆   ┆           ┆ Processed ┆           ┆           │\n",
       "│        ┆            ┆            ┆           ┆   ┆           ┆ i…        ┆           ┆           │\n",
       "└────────┴────────────┴────────────┴───────────┴───┴───────────┴───────────┴───────────┴───────────┘"
      ]
     },
     "execution_count": 221,
     "metadata": {},
     "output_type": "execute_result"
    }
   ],
   "source": [
    "tjhp = tjhp.with_columns(\n",
    "    # tjhp['nutrition']\n",
    "    pl.col(\"nutrition\").map_elements(lambda x: x[0]['calories_per_serving'] if len(x)>0 else None, return_dtype=str).alias(\"calories_per_serving\")\n",
    ")\n",
    "tjhp.head(3)"
   ]
  },
  {
   "cell_type": "markdown",
   "id": "08764795",
   "metadata": {},
   "source": [
    "These things definitely do not actually have 0 calories. Drop them."
   ]
  },
  {
   "cell_type": "code",
   "execution_count": 222,
   "id": "e1ae7d40",
   "metadata": {},
   "outputs": [
    {
     "data": {
      "text/html": [
       "<div><style>\n",
       ".dataframe > thead > tr,\n",
       ".dataframe > tbody > tr {\n",
       "  text-align: right;\n",
       "  white-space: pre-wrap;\n",
       "}\n",
       "</style>\n",
       "<small>shape: (6, 13)</small><table border=\"1\" class=\"dataframe\"><thead><tr><th>sku</th><th>name</th><th>availability</th><th>stock_status</th><th>only_x_left_in_stock</th><th>nutrition</th><th>ingredients</th><th>popularity</th><th>price</th><th>country_of_manufacture</th><th>country_of_origin</th><th>price_usd</th><th>calories_per_serving</th></tr><tr><td>str</td><td>str</td><td>str</td><td>str</td><td>null</td><td>list[struct[7]]</td><td>list[struct[2]]</td><td>str</td><td>struct[1]</td><td>null</td><td>str</td><td>f64</td><td>str</td></tr></thead><tbody><tr><td>&quot;063197&quot;</td><td>&quot;GRATIN BROCCOLI &amp; CAULIFLOWER&quot;</td><td>&quot;1&quot;</td><td>&quot;IN_STOCK&quot;</td><td>null</td><td>[{&quot;&quot;,[{&quot;7 g&quot;,1,&quot;Total Fat&quot;,&quot;.09&quot;}, {&quot;4.0 g&quot;,2,&quot;Saturated Fat&quot;,&quot;.2&quot;}, … {&quot;260 mg&quot;,14,&quot;Potassium&quot;,&quot;.06&quot;}],0,1,&quot;&quot;,&quot;1 cup (150g)&quot;,&quot;about 4&quot;}]</td><td>[{1,&quot;BROCCOLI&quot;}, {2,&quot;CAULIFLOWER&quot;}, … {11,&quot;BLACK PEPPER.&quot;}]</td><td>&quot;2&quot;</td><td>{{{4.49,&quot;USD&quot;}}}</td><td>null</td><td>&quot;Product of Italy&quot;</td><td>4.49</td><td>&quot;&quot;</td></tr><tr><td>&quot;066054&quot;</td><td>&quot;CHEESECAKE CONES&quot;</td><td>&quot;1&quot;</td><td>&quot;IN_STOCK&quot;</td><td>null</td><td>[{&quot;&quot;,[{&quot;13 g&quot;,1,&quot;Total Fat&quot;,&quot;.17&quot;}, {&quot;5 g&quot;,2,&quot;Saturated Fat&quot;,&quot;.25&quot;}, … {&quot;120 mg&quot;,14,&quot;Potassium&quot;,&quot;.02&quot;}],0,1,&quot;&quot;,&quot;1 cone (50g)&quot;,&quot;4&quot;}]</td><td>[{1,&quot;CONE (SUGAR, ALMONDS&quot;}, {2,&quot;GLUCOSE SYRUP&quot;}, … {13,&quot;SUGAR).&quot;}]</td><td>&quot;147&quot;</td><td>{{{4.99,&quot;USD&quot;}}}</td><td>null</td><td>&quot;Product of Italy&quot;</td><td>4.99</td><td>&quot;&quot;</td></tr><tr><td>&quot;072630&quot;</td><td>&quot;JOE&#x27;S CARVERY JERKY BITES&quot;</td><td>&quot;1&quot;</td><td>&quot;OUT_OF_STOCK&quot;</td><td>null</td><td>[{&quot;&quot;,[{&quot;&quot;,1,&quot;CRUDE PROTEIN (MIN)&quot;,&quot;.22&quot;}, {&quot;&quot;,2,&quot;CRUDE FAT (MIN)&quot;,&quot;.1&quot;}, … {&quot;&quot;,4,&quot;MOISTURE (MAX)&quot;,&quot;.22&quot;}],0,1,&quot;&quot;,&quot;1 treat&quot;,&quot;CALORIE CONTENT (CALCULATED) ME: 3500 kcal/kg; 25 kcal/treat&quot;}]</td><td>[{1,&quot;TURKEY&quot;}, {2,&quot;CHICKEN&quot;}, … {15,&quot;ROSEMARY EXTRACT.&quot;}]</td><td>&quot;19&quot;</td><td>{{{3.49,&quot;USD&quot;}}}</td><td>null</td><td>&quot;Made in USA&quot;</td><td>3.49</td><td>&quot;&quot;</td></tr><tr><td>&quot;076648&quot;</td><td>&quot;HOL PB DECO DOG COOKIES&quot;</td><td>&quot;1&quot;</td><td>&quot;OUT_OF_STOCK&quot;</td><td>null</td><td>[{&quot;&quot;,[{&quot;&quot;,1,&quot;CRUDE PROTEIN (MIN)&quot;,&quot;.09&quot;}, {&quot;&quot;,2,&quot;CRUDE FAT (MIN)&quot;,&quot;.05&quot;}, … {&quot;&quot;,4,&quot;MOISTURE (MAX)&quot;,&quot;.12&quot;}],0,1,&quot;&quot;,&quot;3400 kcal/kg&quot;,&quot;45 kcal/treat&quot;}]</td><td>[{1,&quot;WHEAT FLOUR&quot;}, {2,&quot;GLUCOSE&quot;}, … {17,&quot;CALCIUM CARBONATE.&quot;}]</td><td>&quot;17&quot;</td><td>{{{3.99,&quot;USD&quot;}}}</td><td>null</td><td>&quot;Product of Vietnam&quot;</td><td>3.99</td><td>&quot;&quot;</td></tr><tr><td>&quot;069471&quot;</td><td>&quot;HOL CREAMED GREENS&quot;</td><td>&quot;1&quot;</td><td>&quot;IN_STOCK&quot;</td><td>null</td><td>[{&quot;&quot;,[{&quot;7 g&quot;,1,&quot;Total Fat&quot;,&quot;.09&quot;}, {&quot;2.5 g&quot;,2,&quot;Saturated Fat&quot;,&quot;.13&quot;}, … {&quot;190 mg&quot;,14,&quot;Potassium&quot;,&quot;.04&quot;}],0,1,&quot;&quot;,&quot;1 cup (124g)&quot;,&quot;Serves about 4&quot;}]</td><td>[{1,&quot;MILK (MILK, VITAMIN D3), BRUSSELS SPROUTS, KALE&quot;}, {2,&quot;ONION&quot;}, … {11,&quot;DRIED ROSEMARY.&quot;}]</td><td>&quot;10&quot;</td><td>{{{5.99,&quot;USD&quot;}}}</td><td>null</td><td>&quot;Manufactured in USA&quot;</td><td>5.99</td><td>&quot;&quot;</td></tr><tr><td>&quot;070148&quot;</td><td>&quot;MILK ULTRA - FILTERED REDUCED …</td><td>&quot;1&quot;</td><td>&quot;IN_STOCK&quot;</td><td>null</td><td>[{&quot;&quot;,[{&quot;5g&quot;,1,&quot;Total Fat&quot;,&quot;.06&quot;}, {&quot;3g&quot;,2,&quot;Saturated Fat&quot;,&quot;.15&quot;}, … {&quot;200mcg&quot;,15,&quot;Vitamin A&quot;,&quot;.2&quot;}],0,1,&quot;&quot;,&quot;1 cup (240mL)&quot;,&quot;Serves about 7&quot;}]</td><td>[{1,&quot;ULTRA-FILTERED REDUCED FAT MILK&quot;}, {2,&quot;WATER&quot;}, … {5,&quot;VITAMIN D3&quot;}]</td><td>&quot;84&quot;</td><td>{{{3.99,&quot;USD&quot;}}}</td><td>null</td><td>&quot;Product of United States&quot;</td><td>3.99</td><td>&quot;&quot;</td></tr></tbody></table></div>"
      ],
      "text/plain": [
       "shape: (6, 13)\n",
       "┌────────┬────────────┬────────────┬───────────┬───┬───────────┬───────────┬───────────┬───────────┐\n",
       "│ sku    ┆ name       ┆ availabili ┆ stock_sta ┆ … ┆ country_o ┆ country_o ┆ price_usd ┆ calories_ │\n",
       "│ ---    ┆ ---        ┆ ty         ┆ tus       ┆   ┆ f_manufac ┆ f_origin  ┆ ---       ┆ per_servi │\n",
       "│ str    ┆ str        ┆ ---        ┆ ---       ┆   ┆ ture      ┆ ---       ┆ f64       ┆ ng        │\n",
       "│        ┆            ┆ str        ┆ str       ┆   ┆ ---       ┆ str       ┆           ┆ ---       │\n",
       "│        ┆            ┆            ┆           ┆   ┆ null      ┆           ┆           ┆ str       │\n",
       "╞════════╪════════════╪════════════╪═══════════╪═══╪═══════════╪═══════════╪═══════════╪═══════════╡\n",
       "│ 063197 ┆ GRATIN     ┆ 1          ┆ IN_STOCK  ┆ … ┆ null      ┆ Product   ┆ 4.49      ┆           │\n",
       "│        ┆ BROCCOLI & ┆            ┆           ┆   ┆           ┆ of Italy  ┆           ┆           │\n",
       "│        ┆ CAULIFLOWE ┆            ┆           ┆   ┆           ┆           ┆           ┆           │\n",
       "│        ┆ R          ┆            ┆           ┆   ┆           ┆           ┆           ┆           │\n",
       "│ 066054 ┆ CHEESECAKE ┆ 1          ┆ IN_STOCK  ┆ … ┆ null      ┆ Product   ┆ 4.99      ┆           │\n",
       "│        ┆ CONES      ┆            ┆           ┆   ┆           ┆ of Italy  ┆           ┆           │\n",
       "│ 072630 ┆ JOE'S      ┆ 1          ┆ OUT_OF_ST ┆ … ┆ null      ┆ Made in   ┆ 3.49      ┆           │\n",
       "│        ┆ CARVERY    ┆            ┆ OCK       ┆   ┆           ┆ USA       ┆           ┆           │\n",
       "│        ┆ JERKY      ┆            ┆           ┆   ┆           ┆           ┆           ┆           │\n",
       "│        ┆ BITES      ┆            ┆           ┆   ┆           ┆           ┆           ┆           │\n",
       "│ 076648 ┆ HOL PB     ┆ 1          ┆ OUT_OF_ST ┆ … ┆ null      ┆ Product   ┆ 3.99      ┆           │\n",
       "│        ┆ DECO DOG   ┆            ┆ OCK       ┆   ┆           ┆ of        ┆           ┆           │\n",
       "│        ┆ COOKIES    ┆            ┆           ┆   ┆           ┆ Vietnam   ┆           ┆           │\n",
       "│ 069471 ┆ HOL        ┆ 1          ┆ IN_STOCK  ┆ … ┆ null      ┆ Manufactu ┆ 5.99      ┆           │\n",
       "│        ┆ CREAMED    ┆            ┆           ┆   ┆           ┆ red in    ┆           ┆           │\n",
       "│        ┆ GREENS     ┆            ┆           ┆   ┆           ┆ USA       ┆           ┆           │\n",
       "│ 070148 ┆ MILK ULTRA ┆ 1          ┆ IN_STOCK  ┆ … ┆ null      ┆ Product   ┆ 3.99      ┆           │\n",
       "│        ┆ - FILTERED ┆            ┆           ┆   ┆           ┆ of United ┆           ┆           │\n",
       "│        ┆ REDUCED …  ┆            ┆           ┆   ┆           ┆ States    ┆           ┆           │\n",
       "└────────┴────────────┴────────────┴───────────┴───┴───────────┴───────────┴───────────┴───────────┘"
      ]
     },
     "execution_count": 222,
     "metadata": {},
     "output_type": "execute_result"
    }
   ],
   "source": [
    "tjhp.filter((pl.col(\"calories_per_serving\") == \"\"))"
   ]
  },
  {
   "cell_type": "code",
   "execution_count": 223,
   "id": "bc5a181d",
   "metadata": {},
   "outputs": [],
   "source": [
    "tjhp = tjhp.filter((pl.col(\"calories_per_serving\") != \"\"))"
   ]
  },
  {
   "cell_type": "markdown",
   "id": "47bb9fe1",
   "metadata": {},
   "source": [
    "More problematic calories per serving fields: `8 out of 4570 values: [\"3291 kcal/kg; 29 kcal/treat\", \"3200 kcal/kg; 18 kcal/treat\", … \"varied\"]`."
   ]
  },
  {
   "cell_type": "code",
   "execution_count": 224,
   "id": "8753041b",
   "metadata": {},
   "outputs": [
    {
     "data": {
      "text/plain": [
       "(4394, 13)"
      ]
     },
     "execution_count": 224,
     "metadata": {},
     "output_type": "execute_result"
    }
   ],
   "source": [
    "tjhp.shape"
   ]
  },
  {
   "cell_type": "code",
   "execution_count": 225,
   "id": "1c51ae9e",
   "metadata": {},
   "outputs": [
    {
     "data": {
      "text/plain": [
       "(4386, 13)"
      ]
     },
     "execution_count": 225,
     "metadata": {},
     "output_type": "execute_result"
    }
   ],
   "source": [
    "### DROP THEM. come back later to salvage whichever.\n",
    "tjhp = tjhp.filter(tjhp['calories_per_serving'].str.contains('^\\\\s*\\\\d+\\\\s*$'))\n",
    "tjhp.shape\n",
    "# Yes, this filters out those 8 values giving us trouble before"
   ]
  },
  {
   "cell_type": "code",
   "execution_count": 226,
   "id": "c314c53d",
   "metadata": {},
   "outputs": [],
   "source": [
    "tjhp = tjhp.with_columns(\n",
    "    pl.col('calories_per_serving').str.strip_chars(' ').cast(pl.Float32).alias('calories_per_serving')\n",
    ")"
   ]
  },
  {
   "cell_type": "markdown",
   "id": "c489236d",
   "metadata": {},
   "source": [
    "Now same for servings per container...."
   ]
  },
  {
   "cell_type": "code",
   "execution_count": 227,
   "id": "1886f026",
   "metadata": {},
   "outputs": [
    {
     "data": {
      "text/plain": [
       "'Serves 1'"
      ]
     },
     "execution_count": 227,
     "metadata": {},
     "output_type": "execute_result"
    }
   ],
   "source": [
    "tjhp['nutrition'][0][0]['servings_per_container']"
   ]
  },
  {
   "cell_type": "code",
   "execution_count": 230,
   "id": "75f41b1f",
   "metadata": {},
   "outputs": [],
   "source": [
    "# Create raw servings column\n",
    "tjhp = tjhp.with_columns(\n",
    "    pl.col(\"nutrition\").map_elements(lambda x: x[0]['servings_per_container'] if len(x)>0 else None, return_dtype=str).alias(\"servings_per_container_text\")\n",
    ")"
   ]
  },
  {
   "cell_type": "code",
   "execution_count": 232,
   "id": "bc54e73e",
   "metadata": {},
   "outputs": [
    {
     "name": "stdout",
     "output_type": "stream",
     "text": [
      "Serves About 6.5\n",
      "about 5\n",
      "Serves 50\n",
      "Serves About 7\n",
      "about 4\n",
      "Serves 57\n",
      "Servings Varied\n",
      "Serves About 4.5\n",
      "Serves about 60\n",
      "Serves About 3\n",
      "Serves 12 per box\n",
      "serves about 22\n",
      "Serves ABOUT 3\n",
      "Serves About 25\n",
      " serves 1\n",
      "Serves 74\n",
      "Serves about 1.5\n",
      "about 17\n",
      "Serves about 20\n",
      "Serves approx. 20\n",
      "Serves 14\n",
      "Serves 90\n",
      "Serves about 28\n",
      "Serves About 5 servings per container\n",
      "Serves about 28-30\n",
      "Serves about 81\n",
      "Serves about 59\n",
      "Serves about 384\n",
      "Serves 567\n",
      "Serves about 83\n",
      "Serves 1 bottle\n",
      "Serves 19\n",
      "Serves 85\n",
      "Serves about 40\n",
      "Serves 7\n",
      "Serves 500\n",
      "Serves about 18\n",
      "Serves 40\n",
      "Serves about 542\n",
      "Serves varied\n",
      "Serves 8 on 8oz and 12 on 12oz\n",
      "Serves about 47\n",
      "Serves about 107\n",
      "Serves 465\n",
      "Serves about 3\n",
      "Serves 68\n",
      "Serves 39\n",
      "Serves 88\n",
      "Serves 5.67\n",
      "Serves about 3.5\n",
      "Serves about 62\n",
      "Serves About 4\n",
      "Serves about 2.5\n",
      "Serves 120\n",
      "Serves does not need this since there is only one serving\n",
      "Serves about 74\n",
      "Serves 70\n",
      "Serves Varied\n",
      "Serves about 13\n",
      "Serves 5.5\n",
      "Serves about 68\n",
      "Serves about 45\n",
      "Serves about 102\n",
      "Serves 48\n",
      "Serves about 4\n",
      "Serves about 10\n",
      "Serves 75\n",
      "Serves About 2\n",
      "Serves Approx. 17\n",
      "Serves 3\n",
      "Serves About 2 servings\n",
      "Serves 21\n",
      "Serves 25\n",
      "Serves About 5 servings\n",
      "serves 1\n",
      "Serves about 30\n",
      "Serves 22\n",
      "about 23\n",
      "Serves varies\n",
      "Serves 536\n",
      "Serves 6\n",
      "Serves about 14\n",
      "Serves about 5\n",
      "1\n",
      "Serves 65\n",
      "Serves 1.5\n",
      "Serves ABOUT 5\n",
      "Serves about 85\n",
      "Serves ABOUT 9\n",
      "Serves 56\n",
      "Serves About 18\n",
      "about 6\n",
      "Serves 106\n",
      "Serves 4\n",
      "Serves About 12\n",
      "Serves 5\n",
      "Serves about 67\n",
      "Serves 72\n",
      "Serves About 24\n",
      "Serves about 2\n",
      "Serving varies\n",
      "Serves about 23\n",
      "Serves About 2.5 serving per container\n",
      "Serves About 454\n",
      "Serves about 97\n",
      "Serves About 15\n",
      "Serves 2.5\n",
      "Serves about 42\n",
      "Serves about 63\n",
      "About 3\n",
      "Serves 15.13\n",
      "Serves about 33\n",
      "Serves 60\n",
      "Servings 13\n",
      "Serves not specified\n",
      "Serves about 15\n",
      "Serves 2\n",
      "Serves 82\n",
      "Serves about  3\n",
      "Serves about 57\n",
      "Serves about 61\n",
      "Serves about 17\n",
      "Serves 28\n",
      "serves 2\n",
      "Serves about 96\n",
      "Serves about 25\n",
      "about 13\n",
      "Serves about 3 (About 2.5 without Dressing)\n",
      "Serves 564\n",
      "about 8\n",
      "Serves 30\n",
      "Serves 26\n",
      "Serves about 16 servings\n",
      "Serves 11\n",
      "Serves 18\n",
      "Serves about 77\n",
      "Serves 51\n",
      "Serves 4.5\n",
      "Serves about 11\n",
      "Serves about 50\n",
      "Serves about 13 per set\n",
      "Serves 36\n",
      "Serves about 7\n",
      "Serves About 28\n",
      "Serves about 66\n",
      "Serves about 6\n",
      "Seves 8\n",
      "Serves about 4.5\n",
      "Serves About 9\n",
      "Serves About 3.5\n",
      "Serves About 30\n",
      "Serves about 35\n",
      "Serves 10\n",
      "about 45\n",
      "Serves about 568\n",
      "Serves about 9\n",
      "Serves ABOUT 8\n",
      "about 4.5\n",
      "Serves About 8\n",
      "Serves about 65\n",
      "Serves about 7 servings\n",
      "Serves About 14\n",
      "Serves about 51\n",
      "about 75\n",
      "Serves 100\n",
      "Serves ??\n",
      "Serves about 26\n",
      "Serves about 32\n",
      "Serves 16\n",
      "Serves About 67\n",
      "Serves VARIED\n",
      "Serves about 29\n",
      "Serves about 31\n",
      "Servings varied\n",
      "Serves about 92\n",
      "Serves About 6\n",
      "Serves about 24\n",
      "Serves 81\n",
      "Serves ABOUT 7\n",
      "Serves about 129\n",
      "Serves 1.0\n",
      "Serves 1\n",
      "Serves 20\n",
      "Serves about 16\n",
      "Serves 125\n",
      "Serves 1 snowman (75g)\n",
      "Serves about 113\n",
      "Serves 3 Slices\n",
      "Serves approx. 6\n",
      "Serves about 71\n",
      "Serves about 21\n",
      "Serves about  7\n",
      "Serves About 13\n",
      "Serves 113\n",
      "Serves 2.8\n",
      "serves 4\n",
      "Serves 15\n",
      "16\n",
      "about 11\n",
      "serves 3\n",
      " Serves about 9\n",
      "Serves About 5\n",
      "Serves 45\n",
      "Servings varies\n",
      "Serves 71\n",
      "Seves 4\n",
      "Serves About 16\n",
      "Serves 154\n",
      "Serves aproximately 10\n",
      "Serves about 12\n",
      "Serves about 5 servings\n",
      "Serves 17\n",
      "Serves About 2.5 servings\n",
      "Serves about 22\n",
      "Serves 9\n",
      "Serves Varies\n",
      "Serves 32\n",
      "Serves 13\n",
      "Serves 64\n",
      "Serves 2 1/2\n",
      "about 7\n",
      "Serves about 27\n",
      "Serves 630\n",
      "Serves about 8 servings\n",
      "Serves about 34\n",
      "Serves 383\n",
      "Serves about 8\n",
      "4\n",
      "Serves 8\n",
      "Serves about 19\n",
      "Serves About 11\n",
      "Serves 24\n",
      "Serves 80\n",
      "Serves 720\n",
      "Serves 12\n",
      "2\n",
      "Serves About 2.5\n",
      "6\n",
      "about 16\n",
      "Serves 227 grams\n",
      "Serves about 88\n",
      "Serves about 152\n",
      "Serves 3.5\n"
     ]
    }
   ],
   "source": [
    "unique_spc = tjhp['servings_per_container'].unique() # alue_counts()['servings_per_container']\n",
    "for spc in unique_spc:\n",
    "    print(spc)"
   ]
  },
  {
   "cell_type": "code",
   "execution_count": 233,
   "id": "ff2b7392",
   "metadata": {},
   "outputs": [
    {
     "data": {
      "text/plain": [
       "(4386, 15)"
      ]
     },
     "execution_count": 233,
     "metadata": {},
     "output_type": "execute_result"
    }
   ],
   "source": [
    "tjhp.shape"
   ]
  },
  {
   "cell_type": "code",
   "execution_count": 234,
   "id": "fa2d4862",
   "metadata": {},
   "outputs": [],
   "source": [
    "# tjhp.head(3)"
   ]
  },
  {
   "cell_type": "markdown",
   "id": "42680c2a",
   "metadata": {},
   "source": [
    "The common problems with servings per container include:\n",
    "* `Serves one` and `Serves does not need this since there is only one serving` (manually replace with 1)\n",
    "* `Serves about 3 (About 2.5 without Dressing)` (just grab first numeric)\n",
    "* `Serves 8 on 8oz and 12 on 12oz` (This might be a problem depending on whether there is a single reported calorie value)\n",
    "* `Serves varied` (idek man)"
   ]
  },
  {
   "cell_type": "code",
   "execution_count": 235,
   "id": "d3adc9c8",
   "metadata": {},
   "outputs": [],
   "source": [
    "\n",
    "tjhp = tjhp.with_columns(\n",
    "    servings_per_container=pl.when(pl.col(\"servings_per_container\").str.contains(' one', literal=True))\n",
    "    .then(1)\n",
    "    .otherwise(pl.col(\"servings_per_container\"))\n",
    ")#.filter(tjhp['servings_per_container'].str.contains(' one', literal=True))"
   ]
  },
  {
   "cell_type": "code",
   "execution_count": 236,
   "id": "6bf6c97b",
   "metadata": {},
   "outputs": [],
   "source": [
    "# (?i)(serves about)|(serves)|(about)\n",
    "tjhp = tjhp.with_columns(\n",
    "    servings_per_container=tjhp['servings_per_container'].str.extract(r'(\\d+)').cast(pl.Float32)\n",
    ")"
   ]
  },
  {
   "cell_type": "code",
   "execution_count": 237,
   "id": "ba6f24b5",
   "metadata": {},
   "outputs": [],
   "source": [
    "tjhp = tjhp.with_columns(\n",
    "    calories_per_container = tjhp['calories_per_serving'] * tjhp['servings_per_container']\n",
    ")"
   ]
  },
  {
   "cell_type": "code",
   "execution_count": 238,
   "id": "5ced4043",
   "metadata": {},
   "outputs": [],
   "source": [
    "tjhp = tjhp.with_columns(\n",
    "    dollars_per_calorie = tjhp['price_usd'] / tjhp['calories_per_container']\n",
    ")"
   ]
  },
  {
   "cell_type": "code",
   "execution_count": 239,
   "id": "b162d2b6",
   "metadata": {},
   "outputs": [],
   "source": [
    "tjhp = tjhp.with_columns(\n",
    "    calories_per_dollar = 1 / pl.col('dollars_per_calorie')\n",
    ")"
   ]
  },
  {
   "cell_type": "code",
   "execution_count": 240,
   "id": "4708873e",
   "metadata": {},
   "outputs": [
    {
     "data": {
      "text/plain": [
       "['sku',\n",
       " 'name',\n",
       " 'availability',\n",
       " 'stock_status',\n",
       " 'only_x_left_in_stock',\n",
       " 'nutrition',\n",
       " 'ingredients',\n",
       " 'popularity',\n",
       " 'price',\n",
       " 'country_of_manufacture',\n",
       " 'country_of_origin',\n",
       " 'price_usd',\n",
       " 'calories_per_serving',\n",
       " 'servings_per_container',\n",
       " 'servings_per_container_text',\n",
       " 'calories_per_container',\n",
       " 'dollars_per_calorie',\n",
       " 'calories_per_dollar']"
      ]
     },
     "execution_count": 240,
     "metadata": {},
     "output_type": "execute_result"
    }
   ],
   "source": [
    "tjhp.columns"
   ]
  },
  {
   "cell_type": "code",
   "execution_count": 241,
   "id": "12e93573",
   "metadata": {},
   "outputs": [
    {
     "data": {
      "text/html": [
       "<div><style>\n",
       ".dataframe > thead > tr,\n",
       ".dataframe > tbody > tr {\n",
       "  text-align: right;\n",
       "  white-space: pre-wrap;\n",
       "}\n",
       "</style>\n",
       "<small>shape: (3_867, 8)</small><table border=\"1\" class=\"dataframe\"><thead><tr><th>sku</th><th>name</th><th>calories_per_dollar</th><th>dollars_per_calorie</th><th>price_usd</th><th>calories_per_container</th><th>calories_per_serving</th><th>servings_per_container</th></tr><tr><td>str</td><td>str</td><td>f64</td><td>f64</td><td>f64</td><td>f32</td><td>f32</td><td>f32</td></tr></thead><tbody><tr><td>&quot;075259&quot;</td><td>&quot;MEAL CASHEW CURRY &amp; RICE&quot;</td><td>152.882206</td><td>0.006541</td><td>3.99</td><td>610.0</td><td>610.0</td><td>1.0</td></tr><tr><td>&quot;076838&quot;</td><td>&quot;HOL UNEXPECTED CHEDDAR SPREAD-…</td><td>162.324649</td><td>0.00616</td><td>4.99</td><td>810.0</td><td>90.0</td><td>9.0</td></tr><tr><td>&quot;066838&quot;</td><td>&quot;SALMON HOT SMOKED 5 OZ&quot;</td><td>36.72788</td><td>0.027227</td><td>5.99</td><td>220.0</td><td>110.0</td><td>2.0</td></tr><tr><td>&quot;054840&quot;</td><td>&quot;KALE &amp; CAULIFLOWER CURRY SALAD&quot;</td><td>75.18797</td><td>0.0133</td><td>3.99</td><td>300.0</td><td>150.0</td><td>2.0</td></tr><tr><td>&quot;074671&quot;</td><td>&quot;TUNA SOLID WHITE ALBACORE SALT…</td><td>65.326633</td><td>0.015308</td><td>1.99</td><td>130.0</td><td>130.0</td><td>1.0</td></tr><tr><td>&quot;054114&quot;</td><td>&quot;MRNTD GRLD ARTICHOKE HALVES&quot;</td><td>100.286533</td><td>0.009971</td><td>3.49</td><td>350.0</td><td>50.0</td><td>7.0</td></tr><tr><td>&quot;035881&quot;</td><td>&quot;BREADED COD FILLETS&quot;</td><td>93.437152</td><td>0.010702</td><td>8.99</td><td>840.0</td><td>280.0</td><td>3.0</td></tr><tr><td>&quot;008990&quot;</td><td>&quot;SUPERSWEET CUT WHITE CORN&quot;</td><td>268.456376</td><td>0.003725</td><td>1.49</td><td>400.0</td><td>80.0</td><td>5.0</td></tr><tr><td>&quot;082847&quot;</td><td>&quot;EGGS LARGE BROWN DOZEN&quot;</td><td>89.552239</td><td>0.011167</td><td>4.69</td><td>420.0</td><td>35.0</td><td>12.0</td></tr><tr><td>&quot;061297&quot;</td><td>&quot;HOL MIXED SUGAR GLAZED&quot;</td><td>441.102757</td><td>0.002267</td><td>3.99</td><td>1760.0</td><td>160.0</td><td>11.0</td></tr><tr><td>&hellip;</td><td>&hellip;</td><td>&hellip;</td><td>&hellip;</td><td>&hellip;</td><td>&hellip;</td><td>&hellip;</td><td>&hellip;</td></tr><tr><td>&quot;080286&quot;</td><td>&quot;HALF &amp; HALF ORGANIC QUART&quot;</td><td>272.921109</td><td>0.003664</td><td>4.69</td><td>1280.0</td><td>40.0</td><td>32.0</td></tr><tr><td>&quot;059137&quot;</td><td>&quot;SPICE EVERYTHING BUT BAGEL 2.3…</td><td>163.316583</td><td>0.006123</td><td>1.99</td><td>325.0</td><td>5.0</td><td>65.0</td></tr><tr><td>&quot;076253&quot;</td><td>&quot;HOT DOG UNCURED BEEF ORGANIC&quot;</td><td>110.183639</td><td>0.009076</td><td>5.99</td><td>660.0</td><td>110.0</td><td>6.0</td></tr><tr><td>&quot;073802&quot;</td><td>&quot;VEGAN BUFFALO DIIP&quot;</td><td>90.225564</td><td>0.011083</td><td>3.99</td><td>360.0</td><td>40.0</td><td>9.0</td></tr><tr><td>&quot;063262&quot;</td><td>&quot;ALMOND CREAMER CHOCOLATE PEPPE…</td><td>643.21608</td><td>0.001555</td><td>1.99</td><td>1280.0</td><td>40.0</td><td>32.0</td></tr><tr><td>&quot;073858&quot;</td><td>&quot;BREAD RYE MARBLED&quot;</td><td>472.77937</td><td>0.002115</td><td>3.49</td><td>1650.0</td><td>110.0</td><td>15.0</td></tr><tr><td>&quot;057824&quot;</td><td>&quot;EGG SALAD&quot;</td><td>132.264529</td><td>0.007561</td><td>4.99</td><td>660.0</td><td>220.0</td><td>3.0</td></tr><tr><td>&quot;064669&quot;</td><td>&quot;MOCHI GREEN TEA&quot;</td><td>96.192385</td><td>0.010396</td><td>4.99</td><td>480.0</td><td>80.0</td><td>6.0</td></tr><tr><td>&quot;078933&quot;</td><td>&quot;HOL BUTTER MAPLE ORGANIC&quot;</td><td>118.397086</td><td>0.008446</td><td>5.49</td><td>650.0</td><td>130.0</td><td>5.0</td></tr><tr><td>&quot;099262&quot;</td><td>&quot;QUESO CHEESE DIP&quot;</td><td>88.353414</td><td>0.011318</td><td>2.49</td><td>220.0</td><td>20.0</td><td>11.0</td></tr></tbody></table></div>"
      ],
      "text/plain": [
       "shape: (3_867, 8)\n",
       "┌────────┬────────────┬────────────┬────────────┬───────────┬────────────┬────────────┬────────────┐\n",
       "│ sku    ┆ name       ┆ calories_p ┆ dollars_pe ┆ price_usd ┆ calories_p ┆ calories_p ┆ servings_p │\n",
       "│ ---    ┆ ---        ┆ er_dollar  ┆ r_calorie  ┆ ---       ┆ er_contain ┆ er_serving ┆ er_contain │\n",
       "│ str    ┆ str        ┆ ---        ┆ ---        ┆ f64       ┆ er         ┆ ---        ┆ er         │\n",
       "│        ┆            ┆ f64        ┆ f64        ┆           ┆ ---        ┆ f32        ┆ ---        │\n",
       "│        ┆            ┆            ┆            ┆           ┆ f32        ┆            ┆ f32        │\n",
       "╞════════╪════════════╪════════════╪════════════╪═══════════╪════════════╪════════════╪════════════╡\n",
       "│ 075259 ┆ MEAL       ┆ 152.882206 ┆ 0.006541   ┆ 3.99      ┆ 610.0      ┆ 610.0      ┆ 1.0        │\n",
       "│        ┆ CASHEW     ┆            ┆            ┆           ┆            ┆            ┆            │\n",
       "│        ┆ CURRY &    ┆            ┆            ┆           ┆            ┆            ┆            │\n",
       "│        ┆ RICE       ┆            ┆            ┆           ┆            ┆            ┆            │\n",
       "│ 076838 ┆ HOL        ┆ 162.324649 ┆ 0.00616    ┆ 4.99      ┆ 810.0      ┆ 90.0       ┆ 9.0        │\n",
       "│        ┆ UNEXPECTED ┆            ┆            ┆           ┆            ┆            ┆            │\n",
       "│        ┆ CHEDDAR    ┆            ┆            ┆           ┆            ┆            ┆            │\n",
       "│        ┆ SPREAD-…   ┆            ┆            ┆           ┆            ┆            ┆            │\n",
       "│ 066838 ┆ SALMON HOT ┆ 36.72788   ┆ 0.027227   ┆ 5.99      ┆ 220.0      ┆ 110.0      ┆ 2.0        │\n",
       "│        ┆ SMOKED 5   ┆            ┆            ┆           ┆            ┆            ┆            │\n",
       "│        ┆ OZ         ┆            ┆            ┆           ┆            ┆            ┆            │\n",
       "│ 054840 ┆ KALE & CAU ┆ 75.18797   ┆ 0.0133     ┆ 3.99      ┆ 300.0      ┆ 150.0      ┆ 2.0        │\n",
       "│        ┆ LIFLOWER   ┆            ┆            ┆           ┆            ┆            ┆            │\n",
       "│        ┆ CURRY      ┆            ┆            ┆           ┆            ┆            ┆            │\n",
       "│        ┆ SALAD      ┆            ┆            ┆           ┆            ┆            ┆            │\n",
       "│ 074671 ┆ TUNA SOLID ┆ 65.326633  ┆ 0.015308   ┆ 1.99      ┆ 130.0      ┆ 130.0      ┆ 1.0        │\n",
       "│        ┆ WHITE      ┆            ┆            ┆           ┆            ┆            ┆            │\n",
       "│        ┆ ALBACORE   ┆            ┆            ┆           ┆            ┆            ┆            │\n",
       "│        ┆ SALT…      ┆            ┆            ┆           ┆            ┆            ┆            │\n",
       "│ 054114 ┆ MRNTD GRLD ┆ 100.286533 ┆ 0.009971   ┆ 3.49      ┆ 350.0      ┆ 50.0       ┆ 7.0        │\n",
       "│        ┆ ARTICHOKE  ┆            ┆            ┆           ┆            ┆            ┆            │\n",
       "│        ┆ HALVES     ┆            ┆            ┆           ┆            ┆            ┆            │\n",
       "│ 035881 ┆ BREADED    ┆ 93.437152  ┆ 0.010702   ┆ 8.99      ┆ 840.0      ┆ 280.0      ┆ 3.0        │\n",
       "│        ┆ COD        ┆            ┆            ┆           ┆            ┆            ┆            │\n",
       "│        ┆ FILLETS    ┆            ┆            ┆           ┆            ┆            ┆            │\n",
       "│ 008990 ┆ SUPERSWEET ┆ 268.456376 ┆ 0.003725   ┆ 1.49      ┆ 400.0      ┆ 80.0       ┆ 5.0        │\n",
       "│        ┆ CUT WHITE  ┆            ┆            ┆           ┆            ┆            ┆            │\n",
       "│        ┆ CORN       ┆            ┆            ┆           ┆            ┆            ┆            │\n",
       "│ 082847 ┆ EGGS LARGE ┆ 89.552239  ┆ 0.011167   ┆ 4.69      ┆ 420.0      ┆ 35.0       ┆ 12.0       │\n",
       "│        ┆ BROWN      ┆            ┆            ┆           ┆            ┆            ┆            │\n",
       "│        ┆ DOZEN      ┆            ┆            ┆           ┆            ┆            ┆            │\n",
       "│ 061297 ┆ HOL MIXED  ┆ 441.102757 ┆ 0.002267   ┆ 3.99      ┆ 1760.0     ┆ 160.0      ┆ 11.0       │\n",
       "│        ┆ SUGAR      ┆            ┆            ┆           ┆            ┆            ┆            │\n",
       "│        ┆ GLAZED     ┆            ┆            ┆           ┆            ┆            ┆            │\n",
       "│ …      ┆ …          ┆ …          ┆ …          ┆ …         ┆ …          ┆ …          ┆ …          │\n",
       "│ 080286 ┆ HALF &     ┆ 272.921109 ┆ 0.003664   ┆ 4.69      ┆ 1280.0     ┆ 40.0       ┆ 32.0       │\n",
       "│        ┆ HALF       ┆            ┆            ┆           ┆            ┆            ┆            │\n",
       "│        ┆ ORGANIC    ┆            ┆            ┆           ┆            ┆            ┆            │\n",
       "│        ┆ QUART      ┆            ┆            ┆           ┆            ┆            ┆            │\n",
       "│ 059137 ┆ SPICE      ┆ 163.316583 ┆ 0.006123   ┆ 1.99      ┆ 325.0      ┆ 5.0        ┆ 65.0       │\n",
       "│        ┆ EVERYTHING ┆            ┆            ┆           ┆            ┆            ┆            │\n",
       "│        ┆ BUT BAGEL  ┆            ┆            ┆           ┆            ┆            ┆            │\n",
       "│        ┆ 2.3…       ┆            ┆            ┆           ┆            ┆            ┆            │\n",
       "│ 076253 ┆ HOT DOG    ┆ 110.183639 ┆ 0.009076   ┆ 5.99      ┆ 660.0      ┆ 110.0      ┆ 6.0        │\n",
       "│        ┆ UNCURED    ┆            ┆            ┆           ┆            ┆            ┆            │\n",
       "│        ┆ BEEF       ┆            ┆            ┆           ┆            ┆            ┆            │\n",
       "│        ┆ ORGANIC    ┆            ┆            ┆           ┆            ┆            ┆            │\n",
       "│ 073802 ┆ VEGAN      ┆ 90.225564  ┆ 0.011083   ┆ 3.99      ┆ 360.0      ┆ 40.0       ┆ 9.0        │\n",
       "│        ┆ BUFFALO    ┆            ┆            ┆           ┆            ┆            ┆            │\n",
       "│        ┆ DIIP       ┆            ┆            ┆           ┆            ┆            ┆            │\n",
       "│ 063262 ┆ ALMOND     ┆ 643.21608  ┆ 0.001555   ┆ 1.99      ┆ 1280.0     ┆ 40.0       ┆ 32.0       │\n",
       "│        ┆ CREAMER    ┆            ┆            ┆           ┆            ┆            ┆            │\n",
       "│        ┆ CHOCOLATE  ┆            ┆            ┆           ┆            ┆            ┆            │\n",
       "│        ┆ PEPPE…     ┆            ┆            ┆           ┆            ┆            ┆            │\n",
       "│ 073858 ┆ BREAD RYE  ┆ 472.77937  ┆ 0.002115   ┆ 3.49      ┆ 1650.0     ┆ 110.0      ┆ 15.0       │\n",
       "│        ┆ MARBLED    ┆            ┆            ┆           ┆            ┆            ┆            │\n",
       "│ 057824 ┆ EGG SALAD  ┆ 132.264529 ┆ 0.007561   ┆ 4.99      ┆ 660.0      ┆ 220.0      ┆ 3.0        │\n",
       "│ 064669 ┆ MOCHI      ┆ 96.192385  ┆ 0.010396   ┆ 4.99      ┆ 480.0      ┆ 80.0       ┆ 6.0        │\n",
       "│        ┆ GREEN TEA  ┆            ┆            ┆           ┆            ┆            ┆            │\n",
       "│ 078933 ┆ HOL BUTTER ┆ 118.397086 ┆ 0.008446   ┆ 5.49      ┆ 650.0      ┆ 130.0      ┆ 5.0        │\n",
       "│        ┆ MAPLE      ┆            ┆            ┆           ┆            ┆            ┆            │\n",
       "│        ┆ ORGANIC    ┆            ┆            ┆           ┆            ┆            ┆            │\n",
       "│ 099262 ┆ QUESO      ┆ 88.353414  ┆ 0.011318   ┆ 2.49      ┆ 220.0      ┆ 20.0       ┆ 11.0       │\n",
       "│        ┆ CHEESE DIP ┆            ┆            ┆           ┆            ┆            ┆            │\n",
       "└────────┴────────────┴────────────┴────────────┴───────────┴────────────┴────────────┴────────────┘"
      ]
     },
     "execution_count": 241,
     "metadata": {},
     "output_type": "execute_result"
    }
   ],
   "source": [
    "# Remove 0-calorie nothings like salt and tea and hot sauce\n",
    "# Remove items that are just fucking free i guess??!!\n",
    "tjhp_trim = tjhp[:, ['sku', 'name', 'calories_per_dollar', 'dollars_per_calorie', 'price_usd', 'calories_per_container', 'calories_per_serving', 'servings_per_container', ]].filter(\n",
    "    ~tjhp['dollars_per_calorie'].is_null() & ~tjhp['dollars_per_calorie'].is_nan() & (tjhp['calories_per_container']!=0) & (tjhp['price_usd']!=0)\n",
    ")\n",
    "tjhp_trim"
   ]
  },
  {
   "cell_type": "markdown",
   "id": "50763db3",
   "metadata": {},
   "source": [
    "Lol why are there polars `null` and also just `NaN` brother"
   ]
  },
  {
   "cell_type": "code",
   "execution_count": 242,
   "id": "ff95e48d",
   "metadata": {},
   "outputs": [
    {
     "data": {
      "text/html": [
       "<div><style>\n",
       ".dataframe > thead > tr,\n",
       ".dataframe > tbody > tr {\n",
       "  text-align: right;\n",
       "  white-space: pre-wrap;\n",
       "}\n",
       "</style>\n",
       "<small>shape: (3_867, 8)</small><table border=\"1\" class=\"dataframe\"><thead><tr><th>sku</th><th>name</th><th>calories_per_dollar</th><th>dollars_per_calorie</th><th>price_usd</th><th>calories_per_container</th><th>calories_per_serving</th><th>servings_per_container</th></tr><tr><td>str</td><td>str</td><td>f64</td><td>f64</td><td>f64</td><td>f32</td><td>f32</td><td>f32</td></tr></thead><tbody><tr><td>&quot;077826&quot;</td><td>&quot;KIT CHOCOLATE DIPPING&quot;</td><td>120000.0</td><td>0.000008</td><td>0.01</td><td>1200.0</td><td>150.0</td><td>8.0</td></tr><tr><td>&quot;073468&quot;</td><td>&quot;INCREDISAUCE&quot;</td><td>100000.0</td><td>0.00001</td><td>0.01</td><td>1000.0</td><td>100.0</td><td>10.0</td></tr><tr><td>&quot;077328&quot;</td><td>&quot;CINNAMON SWIZZLE STICKS&quot;</td><td>72000.0</td><td>0.000014</td><td>0.01</td><td>720.0</td><td>120.0</td><td>6.0</td></tr><tr><td>&quot;077036&quot;</td><td>&quot;CINNAMON BUN TRUFFLES&quot;</td><td>48000.0</td><td>0.000021</td><td>0.01</td><td>480.0</td><td>160.0</td><td>3.0</td></tr><tr><td>&quot;067699&quot;</td><td>&quot;ALMONDS DARK CHOC AMPED-UP&quot;</td><td>38000.0</td><td>0.000026</td><td>0.01</td><td>380.0</td><td>380.0</td><td>1.0</td></tr><tr><td>&quot;092925&quot;</td><td>&quot;CRYSTALLIZED CANDIED GINGER&quot;</td><td>15969.849246</td><td>0.000063</td><td>1.99</td><td>31780.0</td><td>140.0</td><td>227.0</td></tr><tr><td>&quot;058600&quot;</td><td>&quot;UNCRYSTALLIZED CANDIED GINGER&quot;</td><td>15969.849246</td><td>0.000063</td><td>1.99</td><td>31780.0</td><td>140.0</td><td>227.0</td></tr><tr><td>&quot;077616&quot;</td><td>&quot;TJ&#x27;S CRUNCHY PEANUT BUTTER ENE…</td><td>2722.689076</td><td>0.000367</td><td>1.19</td><td>3240.0</td><td>270.0</td><td>12.0</td></tr><tr><td>&quot;077618&quot;</td><td>&quot;TJ&#x27;S CHOCOLATE CHIP ENERGY&quot;</td><td>2621.848739</td><td>0.000381</td><td>1.19</td><td>3120.0</td><td>260.0</td><td>12.0</td></tr><tr><td>&quot;052029&quot;</td><td>&quot;OIL 100% CANOLA&quot;</td><td>2303.724928</td><td>0.000434</td><td>3.49</td><td>8040.0</td><td>120.0</td><td>67.0</td></tr><tr><td>&hellip;</td><td>&hellip;</td><td>&hellip;</td><td>&hellip;</td><td>&hellip;</td><td>&hellip;</td><td>&hellip;</td><td>&hellip;</td></tr><tr><td>&quot;061708&quot;</td><td>&quot;JUICE SHOT TURMERIC&quot;</td><td>5.025126</td><td>0.199</td><td>1.99</td><td>10.0</td><td>10.0</td><td>1.0</td></tr><tr><td>&quot;162207&quot;</td><td>&quot;SELTZER WITH BLOOD ORANGE ORGA…</td><td>4.559271</td><td>0.219333</td><td>3.29</td><td>15.0</td><td>15.0</td><td>1.0</td></tr><tr><td>&quot;080233&quot;</td><td>&quot;COLD BREW COFFEE&quot;</td><td>4.559271</td><td>0.219333</td><td>3.29</td><td>15.0</td><td>15.0</td><td>1.0</td></tr><tr><td>&quot;057159&quot;</td><td>&quot;MATCHA GREEN TEA STICKS&quot;</td><td>4.380476</td><td>0.228286</td><td>7.99</td><td>35.0</td><td>5.0</td><td>7.0</td></tr><tr><td>&quot;162362&quot;</td><td>&quot;TUNA WILD SKIPJACK POUCH 12 PK&quot;</td><td>4.189944</td><td>0.238667</td><td>21.48</td><td>90.0</td><td>90.0</td><td>1.0</td></tr><tr><td>&quot;161708&quot;</td><td>&quot;COLD PRESSED JUICE SHOT ORGANI…</td><td>3.297739</td><td>0.303238</td><td>31.84</td><td>105.0</td><td>35.0</td><td>3.0</td></tr><tr><td>&quot;170308&quot;</td><td>&quot;SPARKLING GREEN TEA PINEAPPLE …</td><td>2.506266</td><td>0.399</td><td>3.99</td><td>10.0</td><td>10.0</td><td>1.0</td></tr><tr><td>&quot;175077&quot;</td><td>&quot;COLD PRESSED PROBIOTIC JUICE S…</td><td>0.628141</td><td>1.592</td><td>31.84</td><td>20.0</td><td>20.0</td><td>1.0</td></tr><tr><td>&quot;168481&quot;</td><td>&quot;COLD PRESSED JUICE SHOT 100% A…</td><td>0.471106</td><td>2.122667</td><td>31.84</td><td>15.0</td><td>15.0</td><td>1.0</td></tr><tr><td>&quot;161707&quot;</td><td>&quot;COLD PRESSED JUICE SHOT ORGANI…</td><td>0.31407</td><td>3.184</td><td>31.84</td><td>10.0</td><td>10.0</td><td>1.0</td></tr></tbody></table></div>"
      ],
      "text/plain": [
       "shape: (3_867, 8)\n",
       "┌────────┬────────────┬────────────┬────────────┬───────────┬────────────┬────────────┬────────────┐\n",
       "│ sku    ┆ name       ┆ calories_p ┆ dollars_pe ┆ price_usd ┆ calories_p ┆ calories_p ┆ servings_p │\n",
       "│ ---    ┆ ---        ┆ er_dollar  ┆ r_calorie  ┆ ---       ┆ er_contain ┆ er_serving ┆ er_contain │\n",
       "│ str    ┆ str        ┆ ---        ┆ ---        ┆ f64       ┆ er         ┆ ---        ┆ er         │\n",
       "│        ┆            ┆ f64        ┆ f64        ┆           ┆ ---        ┆ f32        ┆ ---        │\n",
       "│        ┆            ┆            ┆            ┆           ┆ f32        ┆            ┆ f32        │\n",
       "╞════════╪════════════╪════════════╪════════════╪═══════════╪════════════╪════════════╪════════════╡\n",
       "│ 077826 ┆ KIT        ┆ 120000.0   ┆ 0.000008   ┆ 0.01      ┆ 1200.0     ┆ 150.0      ┆ 8.0        │\n",
       "│        ┆ CHOCOLATE  ┆            ┆            ┆           ┆            ┆            ┆            │\n",
       "│        ┆ DIPPING    ┆            ┆            ┆           ┆            ┆            ┆            │\n",
       "│ 073468 ┆ INCREDISAU ┆ 100000.0   ┆ 0.00001    ┆ 0.01      ┆ 1000.0     ┆ 100.0      ┆ 10.0       │\n",
       "│        ┆ CE         ┆            ┆            ┆           ┆            ┆            ┆            │\n",
       "│ 077328 ┆ CINNAMON   ┆ 72000.0    ┆ 0.000014   ┆ 0.01      ┆ 720.0      ┆ 120.0      ┆ 6.0        │\n",
       "│        ┆ SWIZZLE    ┆            ┆            ┆           ┆            ┆            ┆            │\n",
       "│        ┆ STICKS     ┆            ┆            ┆           ┆            ┆            ┆            │\n",
       "│ 077036 ┆ CINNAMON   ┆ 48000.0    ┆ 0.000021   ┆ 0.01      ┆ 480.0      ┆ 160.0      ┆ 3.0        │\n",
       "│        ┆ BUN        ┆            ┆            ┆           ┆            ┆            ┆            │\n",
       "│        ┆ TRUFFLES   ┆            ┆            ┆           ┆            ┆            ┆            │\n",
       "│ 067699 ┆ ALMONDS    ┆ 38000.0    ┆ 0.000026   ┆ 0.01      ┆ 380.0      ┆ 380.0      ┆ 1.0        │\n",
       "│        ┆ DARK CHOC  ┆            ┆            ┆           ┆            ┆            ┆            │\n",
       "│        ┆ AMPED-UP   ┆            ┆            ┆           ┆            ┆            ┆            │\n",
       "│ 092925 ┆ CRYSTALLIZ ┆ 15969.8492 ┆ 0.000063   ┆ 1.99      ┆ 31780.0    ┆ 140.0      ┆ 227.0      │\n",
       "│        ┆ ED CANDIED ┆ 46         ┆            ┆           ┆            ┆            ┆            │\n",
       "│        ┆ GINGER     ┆            ┆            ┆           ┆            ┆            ┆            │\n",
       "│ 058600 ┆ UNCRYSTALL ┆ 15969.8492 ┆ 0.000063   ┆ 1.99      ┆ 31780.0    ┆ 140.0      ┆ 227.0      │\n",
       "│        ┆ IZED       ┆ 46         ┆            ┆           ┆            ┆            ┆            │\n",
       "│        ┆ CANDIED    ┆            ┆            ┆           ┆            ┆            ┆            │\n",
       "│        ┆ GINGER     ┆            ┆            ┆           ┆            ┆            ┆            │\n",
       "│ 077616 ┆ TJ'S       ┆ 2722.68907 ┆ 0.000367   ┆ 1.19      ┆ 3240.0     ┆ 270.0      ┆ 12.0       │\n",
       "│        ┆ CRUNCHY    ┆ 6          ┆            ┆           ┆            ┆            ┆            │\n",
       "│        ┆ PEANUT     ┆            ┆            ┆           ┆            ┆            ┆            │\n",
       "│        ┆ BUTTER     ┆            ┆            ┆           ┆            ┆            ┆            │\n",
       "│        ┆ ENE…       ┆            ┆            ┆           ┆            ┆            ┆            │\n",
       "│ 077618 ┆ TJ'S       ┆ 2621.84873 ┆ 0.000381   ┆ 1.19      ┆ 3120.0     ┆ 260.0      ┆ 12.0       │\n",
       "│        ┆ CHOCOLATE  ┆ 9          ┆            ┆           ┆            ┆            ┆            │\n",
       "│        ┆ CHIP       ┆            ┆            ┆           ┆            ┆            ┆            │\n",
       "│        ┆ ENERGY     ┆            ┆            ┆           ┆            ┆            ┆            │\n",
       "│ 052029 ┆ OIL 100%   ┆ 2303.72492 ┆ 0.000434   ┆ 3.49      ┆ 8040.0     ┆ 120.0      ┆ 67.0       │\n",
       "│        ┆ CANOLA     ┆ 8          ┆            ┆           ┆            ┆            ┆            │\n",
       "│ …      ┆ …          ┆ …          ┆ …          ┆ …         ┆ …          ┆ …          ┆ …          │\n",
       "│ 061708 ┆ JUICE SHOT ┆ 5.025126   ┆ 0.199      ┆ 1.99      ┆ 10.0       ┆ 10.0       ┆ 1.0        │\n",
       "│        ┆ TURMERIC   ┆            ┆            ┆           ┆            ┆            ┆            │\n",
       "│ 162207 ┆ SELTZER    ┆ 4.559271   ┆ 0.219333   ┆ 3.29      ┆ 15.0       ┆ 15.0       ┆ 1.0        │\n",
       "│        ┆ WITH BLOOD ┆            ┆            ┆           ┆            ┆            ┆            │\n",
       "│        ┆ ORANGE     ┆            ┆            ┆           ┆            ┆            ┆            │\n",
       "│        ┆ ORGA…      ┆            ┆            ┆           ┆            ┆            ┆            │\n",
       "│ 080233 ┆ COLD BREW  ┆ 4.559271   ┆ 0.219333   ┆ 3.29      ┆ 15.0       ┆ 15.0       ┆ 1.0        │\n",
       "│        ┆ COFFEE     ┆            ┆            ┆           ┆            ┆            ┆            │\n",
       "│ 057159 ┆ MATCHA     ┆ 4.380476   ┆ 0.228286   ┆ 7.99      ┆ 35.0       ┆ 5.0        ┆ 7.0        │\n",
       "│        ┆ GREEN TEA  ┆            ┆            ┆           ┆            ┆            ┆            │\n",
       "│        ┆ STICKS     ┆            ┆            ┆           ┆            ┆            ┆            │\n",
       "│ 162362 ┆ TUNA WILD  ┆ 4.189944   ┆ 0.238667   ┆ 21.48     ┆ 90.0       ┆ 90.0       ┆ 1.0        │\n",
       "│        ┆ SKIPJACK   ┆            ┆            ┆           ┆            ┆            ┆            │\n",
       "│        ┆ POUCH 12   ┆            ┆            ┆           ┆            ┆            ┆            │\n",
       "│        ┆ PK         ┆            ┆            ┆           ┆            ┆            ┆            │\n",
       "│ 161708 ┆ COLD       ┆ 3.297739   ┆ 0.303238   ┆ 31.84     ┆ 105.0      ┆ 35.0       ┆ 3.0        │\n",
       "│        ┆ PRESSED    ┆            ┆            ┆           ┆            ┆            ┆            │\n",
       "│        ┆ JUICE SHOT ┆            ┆            ┆           ┆            ┆            ┆            │\n",
       "│        ┆ ORGANI…    ┆            ┆            ┆           ┆            ┆            ┆            │\n",
       "│ 170308 ┆ SPARKLING  ┆ 2.506266   ┆ 0.399      ┆ 3.99      ┆ 10.0       ┆ 10.0       ┆ 1.0        │\n",
       "│        ┆ GREEN TEA  ┆            ┆            ┆           ┆            ┆            ┆            │\n",
       "│        ┆ PINEAPPLE  ┆            ┆            ┆           ┆            ┆            ┆            │\n",
       "│        ┆ …          ┆            ┆            ┆           ┆            ┆            ┆            │\n",
       "│ 175077 ┆ COLD       ┆ 0.628141   ┆ 1.592      ┆ 31.84     ┆ 20.0       ┆ 20.0       ┆ 1.0        │\n",
       "│        ┆ PRESSED    ┆            ┆            ┆           ┆            ┆            ┆            │\n",
       "│        ┆ PROBIOTIC  ┆            ┆            ┆           ┆            ┆            ┆            │\n",
       "│        ┆ JUICE S…   ┆            ┆            ┆           ┆            ┆            ┆            │\n",
       "│ 168481 ┆ COLD       ┆ 0.471106   ┆ 2.122667   ┆ 31.84     ┆ 15.0       ┆ 15.0       ┆ 1.0        │\n",
       "│        ┆ PRESSED    ┆            ┆            ┆           ┆            ┆            ┆            │\n",
       "│        ┆ JUICE SHOT ┆            ┆            ┆           ┆            ┆            ┆            │\n",
       "│        ┆ 100% A…    ┆            ┆            ┆           ┆            ┆            ┆            │\n",
       "│ 161707 ┆ COLD       ┆ 0.31407    ┆ 3.184      ┆ 31.84     ┆ 10.0       ┆ 10.0       ┆ 1.0        │\n",
       "│        ┆ PRESSED    ┆            ┆            ┆           ┆            ┆            ┆            │\n",
       "│        ┆ JUICE SHOT ┆            ┆            ┆           ┆            ┆            ┆            │\n",
       "│        ┆ ORGANI…    ┆            ┆            ┆           ┆            ┆            ┆            │\n",
       "└────────┴────────────┴────────────┴────────────┴───────────┴────────────┴────────────┴────────────┘"
      ]
     },
     "execution_count": 242,
     "metadata": {},
     "output_type": "execute_result"
    }
   ],
   "source": [
    "tjhp_trim.sort(by='dollars_per_calorie', descending=False)\n",
    "# Chocolatey dipping kit limited time only, caloric maximum is a fucking cryptid, it's lost media\n",
    "# NO these fucking prices are just straight up wrong, 1 cent???"
   ]
  },
  {
   "cell_type": "code",
   "execution_count": 244,
   "id": "637a75ad",
   "metadata": {},
   "outputs": [
    {
     "data": {
      "text/html": [
       "<div><style>\n",
       ".dataframe > thead > tr,\n",
       ".dataframe > tbody > tr {\n",
       "  text-align: right;\n",
       "  white-space: pre-wrap;\n",
       "}\n",
       "</style>\n",
       "<small>shape: (20, 8)</small><table border=\"1\" class=\"dataframe\"><thead><tr><th>sku</th><th>name</th><th>calories_per_dollar</th><th>dollars_per_calorie</th><th>price_usd</th><th>calories_per_container</th><th>calories_per_serving</th><th>servings_per_container</th></tr><tr><td>str</td><td>str</td><td>f64</td><td>f64</td><td>f64</td><td>f32</td><td>f32</td><td>f32</td></tr></thead><tbody><tr><td>&quot;077826&quot;</td><td>&quot;KIT CHOCOLATE DIPPING&quot;</td><td>120000.0</td><td>0.000008</td><td>0.01</td><td>1200.0</td><td>150.0</td><td>8.0</td></tr><tr><td>&quot;073468&quot;</td><td>&quot;INCREDISAUCE&quot;</td><td>100000.0</td><td>0.00001</td><td>0.01</td><td>1000.0</td><td>100.0</td><td>10.0</td></tr><tr><td>&quot;077328&quot;</td><td>&quot;CINNAMON SWIZZLE STICKS&quot;</td><td>72000.0</td><td>0.000014</td><td>0.01</td><td>720.0</td><td>120.0</td><td>6.0</td></tr><tr><td>&quot;077036&quot;</td><td>&quot;CINNAMON BUN TRUFFLES&quot;</td><td>48000.0</td><td>0.000021</td><td>0.01</td><td>480.0</td><td>160.0</td><td>3.0</td></tr><tr><td>&quot;067699&quot;</td><td>&quot;ALMONDS DARK CHOC AMPED-UP&quot;</td><td>38000.0</td><td>0.000026</td><td>0.01</td><td>380.0</td><td>380.0</td><td>1.0</td></tr><tr><td>&hellip;</td><td>&hellip;</td><td>&hellip;</td><td>&hellip;</td><td>&hellip;</td><td>&hellip;</td><td>&hellip;</td><td>&hellip;</td></tr><tr><td>&quot;079176&quot;</td><td>&quot;HOL FESTIVELY SHAPED PRETZELS&quot;</td><td>1333.333333</td><td>0.00075</td><td>0.99</td><td>1320.0</td><td>120.0</td><td>11.0</td></tr><tr><td>&quot;070185&quot;</td><td>&quot;RICE CALROSE&quot;</td><td>1285.140562</td><td>0.000778</td><td>2.49</td><td>3200.0</td><td>160.0</td><td>20.0</td></tr><tr><td>&quot;038985&quot;</td><td>&quot;SALTED TORTILLA CHIPS 2 LB&quot;</td><td>1283.667622</td><td>0.000779</td><td>3.49</td><td>4480.0</td><td>140.0</td><td>32.0</td></tr><tr><td>&quot;065544&quot;</td><td>&quot;PASTA FETTUCCINE ORGANIC&quot;</td><td>1240.310078</td><td>0.000806</td><td>1.29</td><td>1600.0</td><td>200.0</td><td>8.0</td></tr><tr><td>&quot;056048&quot;</td><td>&quot;PEANUT BUTTER CREAMY NO STIR&quot;</td><td>1214.611872</td><td>0.000823</td><td>2.19</td><td>2660.0</td><td>190.0</td><td>14.0</td></tr></tbody></table></div>"
      ],
      "text/plain": [
       "shape: (20, 8)\n",
       "┌────────┬────────────┬────────────┬────────────┬───────────┬────────────┬────────────┬────────────┐\n",
       "│ sku    ┆ name       ┆ calories_p ┆ dollars_pe ┆ price_usd ┆ calories_p ┆ calories_p ┆ servings_p │\n",
       "│ ---    ┆ ---        ┆ er_dollar  ┆ r_calorie  ┆ ---       ┆ er_contain ┆ er_serving ┆ er_contain │\n",
       "│ str    ┆ str        ┆ ---        ┆ ---        ┆ f64       ┆ er         ┆ ---        ┆ er         │\n",
       "│        ┆            ┆ f64        ┆ f64        ┆           ┆ ---        ┆ f32        ┆ ---        │\n",
       "│        ┆            ┆            ┆            ┆           ┆ f32        ┆            ┆ f32        │\n",
       "╞════════╪════════════╪════════════╪════════════╪═══════════╪════════════╪════════════╪════════════╡\n",
       "│ 077826 ┆ KIT        ┆ 120000.0   ┆ 0.000008   ┆ 0.01      ┆ 1200.0     ┆ 150.0      ┆ 8.0        │\n",
       "│        ┆ CHOCOLATE  ┆            ┆            ┆           ┆            ┆            ┆            │\n",
       "│        ┆ DIPPING    ┆            ┆            ┆           ┆            ┆            ┆            │\n",
       "│ 073468 ┆ INCREDISAU ┆ 100000.0   ┆ 0.00001    ┆ 0.01      ┆ 1000.0     ┆ 100.0      ┆ 10.0       │\n",
       "│        ┆ CE         ┆            ┆            ┆           ┆            ┆            ┆            │\n",
       "│ 077328 ┆ CINNAMON   ┆ 72000.0    ┆ 0.000014   ┆ 0.01      ┆ 720.0      ┆ 120.0      ┆ 6.0        │\n",
       "│        ┆ SWIZZLE    ┆            ┆            ┆           ┆            ┆            ┆            │\n",
       "│        ┆ STICKS     ┆            ┆            ┆           ┆            ┆            ┆            │\n",
       "│ 077036 ┆ CINNAMON   ┆ 48000.0    ┆ 0.000021   ┆ 0.01      ┆ 480.0      ┆ 160.0      ┆ 3.0        │\n",
       "│        ┆ BUN        ┆            ┆            ┆           ┆            ┆            ┆            │\n",
       "│        ┆ TRUFFLES   ┆            ┆            ┆           ┆            ┆            ┆            │\n",
       "│ 067699 ┆ ALMONDS    ┆ 38000.0    ┆ 0.000026   ┆ 0.01      ┆ 380.0      ┆ 380.0      ┆ 1.0        │\n",
       "│        ┆ DARK CHOC  ┆            ┆            ┆           ┆            ┆            ┆            │\n",
       "│        ┆ AMPED-UP   ┆            ┆            ┆           ┆            ┆            ┆            │\n",
       "│ …      ┆ …          ┆ …          ┆ …          ┆ …         ┆ …          ┆ …          ┆ …          │\n",
       "│ 079176 ┆ HOL        ┆ 1333.33333 ┆ 0.00075    ┆ 0.99      ┆ 1320.0     ┆ 120.0      ┆ 11.0       │\n",
       "│        ┆ FESTIVELY  ┆ 3          ┆            ┆           ┆            ┆            ┆            │\n",
       "│        ┆ SHAPED     ┆            ┆            ┆           ┆            ┆            ┆            │\n",
       "│        ┆ PRETZELS   ┆            ┆            ┆           ┆            ┆            ┆            │\n",
       "│ 070185 ┆ RICE       ┆ 1285.14056 ┆ 0.000778   ┆ 2.49      ┆ 3200.0     ┆ 160.0      ┆ 20.0       │\n",
       "│        ┆ CALROSE    ┆ 2          ┆            ┆           ┆            ┆            ┆            │\n",
       "│ 038985 ┆ SALTED     ┆ 1283.66762 ┆ 0.000779   ┆ 3.49      ┆ 4480.0     ┆ 140.0      ┆ 32.0       │\n",
       "│        ┆ TORTILLA   ┆ 2          ┆            ┆           ┆            ┆            ┆            │\n",
       "│        ┆ CHIPS 2 LB ┆            ┆            ┆           ┆            ┆            ┆            │\n",
       "│ 065544 ┆ PASTA      ┆ 1240.31007 ┆ 0.000806   ┆ 1.29      ┆ 1600.0     ┆ 200.0      ┆ 8.0        │\n",
       "│        ┆ FETTUCCINE ┆ 8          ┆            ┆           ┆            ┆            ┆            │\n",
       "│        ┆ ORGANIC    ┆            ┆            ┆           ┆            ┆            ┆            │\n",
       "│ 056048 ┆ PEANUT     ┆ 1214.61187 ┆ 0.000823   ┆ 2.19      ┆ 2660.0     ┆ 190.0      ┆ 14.0       │\n",
       "│        ┆ BUTTER     ┆ 2          ┆            ┆           ┆            ┆            ┆            │\n",
       "│        ┆ CREAMY NO  ┆            ┆            ┆           ┆            ┆            ┆            │\n",
       "│        ┆ STIR       ┆            ┆            ┆           ┆            ┆            ┆            │\n",
       "└────────┴────────────┴────────────┴────────────┴───────────┴────────────┴────────────┴────────────┘"
      ]
     },
     "execution_count": 244,
     "metadata": {},
     "output_type": "execute_result"
    }
   ],
   "source": [
    "cfg = pl.Config()\n",
    "cfg.set_tbl_rows(10)\n",
    "# with pl.Config(tbl_rows=10):\n",
    "#     tjhp_trim.sort(by='dollars_per_calorie', descending=False)\n",
    "tjhp_trim.sort(by='calories_per_dollar', descending=True).head(20)\n",
    "# How can I do a HAVING filter after the sort? To remove crazy low dollars_per_calorie values\n",
    "## What did I mean by this. Maybe HAVING after the calories_per_container thing?"
   ]
  },
  {
   "cell_type": "markdown",
   "id": "835856b0",
   "metadata": {},
   "source": [
    "Let's filter out products that obviously make no sense, e.g. excessive calories in a container and $0.01 price tags."
   ]
  },
  {
   "cell_type": "code",
   "execution_count": 247,
   "id": "06cbd45d",
   "metadata": {},
   "outputs": [],
   "source": [
    "tjhp_clean = tjhp_trim.clone() # Deep copy"
   ]
  },
  {
   "cell_type": "code",
   "execution_count": 248,
   "id": "c6a594d4",
   "metadata": {},
   "outputs": [],
   "source": [
    "tjhp_clean = tjhp_clean.sort(by='calories_per_dollar', descending=True)\n"
   ]
  },
  {
   "cell_type": "code",
   "execution_count": 249,
   "id": "1cf3d1e5",
   "metadata": {},
   "outputs": [
    {
     "data": {
      "text/html": [
       "<div><style>\n",
       ".dataframe > thead > tr,\n",
       ".dataframe > tbody > tr {\n",
       "  text-align: right;\n",
       "  white-space: pre-wrap;\n",
       "}\n",
       "</style>\n",
       "<small>shape: (10, 3)</small><table border=\"1\" class=\"dataframe\"><thead><tr><th>breakpoint</th><th>category</th><th>count</th></tr><tr><td>f64</td><td>cat</td><td>u32</td></tr></thead><tbody><tr><td>3.193</td><td>&quot;[0.01, 3.193]&quot;</td><td>1351</td></tr><tr><td>6.376</td><td>&quot;(3.193, 6.376]&quot;</td><td>2154</td></tr><tr><td>9.559</td><td>&quot;(6.376, 9.559]&quot;</td><td>266</td></tr><tr><td>12.742</td><td>&quot;(9.559, 12.742]&quot;</td><td>61</td></tr><tr><td>15.925</td><td>&quot;(12.742, 15.925]&quot;</td><td>17</td></tr><tr><td>19.108</td><td>&quot;(15.925, 19.108]&quot;</td><td>6</td></tr><tr><td>22.291</td><td>&quot;(19.108, 22.291]&quot;</td><td>6</td></tr><tr><td>25.474</td><td>&quot;(22.291, 25.474]&quot;</td><td>2</td></tr><tr><td>28.657</td><td>&quot;(25.474, 28.657]&quot;</td><td>0</td></tr><tr><td>31.84</td><td>&quot;(28.657, 31.84]&quot;</td><td>4</td></tr></tbody></table></div>"
      ],
      "text/plain": [
       "shape: (10, 3)\n",
       "┌────────────┬──────────────────┬───────┐\n",
       "│ breakpoint ┆ category         ┆ count │\n",
       "│ ---        ┆ ---              ┆ ---   │\n",
       "│ f64        ┆ cat              ┆ u32   │\n",
       "╞════════════╪══════════════════╪═══════╡\n",
       "│ 3.193      ┆ [0.01, 3.193]    ┆ 1351  │\n",
       "│ 6.376      ┆ (3.193, 6.376]   ┆ 2154  │\n",
       "│ 9.559      ┆ (6.376, 9.559]   ┆ 266   │\n",
       "│ 12.742     ┆ (9.559, 12.742]  ┆ 61    │\n",
       "│ 15.925     ┆ (12.742, 15.925] ┆ 17    │\n",
       "│ 19.108     ┆ (15.925, 19.108] ┆ 6     │\n",
       "│ 22.291     ┆ (19.108, 22.291] ┆ 6     │\n",
       "│ 25.474     ┆ (22.291, 25.474] ┆ 2     │\n",
       "│ 28.657     ┆ (25.474, 28.657] ┆ 0     │\n",
       "│ 31.84      ┆ (28.657, 31.84]  ┆ 4     │\n",
       "└────────────┴──────────────────┴───────┘"
      ]
     },
     "execution_count": 249,
     "metadata": {},
     "output_type": "execute_result"
    }
   ],
   "source": [
    "tjhp_clean['price_usd'].hist()"
   ]
  },
  {
   "cell_type": "code",
   "execution_count": 258,
   "id": "f5228726",
   "metadata": {},
   "outputs": [
    {
     "data": {
      "text/html": [
       "<div><style>\n",
       ".dataframe > thead > tr,\n",
       ".dataframe > tbody > tr {\n",
       "  text-align: right;\n",
       "  white-space: pre-wrap;\n",
       "}\n",
       "</style>\n",
       "<small>shape: (11, 8)</small><table border=\"1\" class=\"dataframe\"><thead><tr><th>sku</th><th>name</th><th>calories_per_dollar</th><th>dollars_per_calorie</th><th>price_usd</th><th>calories_per_container</th><th>calories_per_serving</th><th>servings_per_container</th></tr><tr><td>str</td><td>str</td><td>f64</td><td>f64</td><td>f64</td><td>f32</td><td>f32</td><td>f32</td></tr></thead><tbody><tr><td>&quot;077826&quot;</td><td>&quot;KIT CHOCOLATE DIPPING&quot;</td><td>120000.0</td><td>0.000008</td><td>0.01</td><td>1200.0</td><td>150.0</td><td>8.0</td></tr><tr><td>&quot;073468&quot;</td><td>&quot;INCREDISAUCE&quot;</td><td>100000.0</td><td>0.00001</td><td>0.01</td><td>1000.0</td><td>100.0</td><td>10.0</td></tr><tr><td>&quot;077328&quot;</td><td>&quot;CINNAMON SWIZZLE STICKS&quot;</td><td>72000.0</td><td>0.000014</td><td>0.01</td><td>720.0</td><td>120.0</td><td>6.0</td></tr><tr><td>&quot;077036&quot;</td><td>&quot;CINNAMON BUN TRUFFLES&quot;</td><td>48000.0</td><td>0.000021</td><td>0.01</td><td>480.0</td><td>160.0</td><td>3.0</td></tr><tr><td>&quot;067699&quot;</td><td>&quot;ALMONDS DARK CHOC AMPED-UP&quot;</td><td>38000.0</td><td>0.000026</td><td>0.01</td><td>380.0</td><td>380.0</td><td>1.0</td></tr><tr><td>&hellip;</td><td>&hellip;</td><td>&hellip;</td><td>&hellip;</td><td>&hellip;</td><td>&hellip;</td><td>&hellip;</td><td>&hellip;</td></tr><tr><td>&quot;042974&quot;</td><td>&quot;ORG APPLE STRAWBERRY FRUIT WRA…</td><td>91.836735</td><td>0.010889</td><td>0.49</td><td>45.0</td><td>45.0</td><td>1.0</td></tr><tr><td>&quot;042973&quot;</td><td>&quot;ORG APPLE RASPBERRY FRUIT WRAP&quot;</td><td>91.836735</td><td>0.010889</td><td>0.49</td><td>45.0</td><td>45.0</td><td>1.0</td></tr><tr><td>&quot;081316&quot;</td><td>&quot;ORG SOUR WATERMELON BAR&quot;</td><td>91.836735</td><td>0.010889</td><td>0.49</td><td>45.0</td><td>45.0</td><td>1.0</td></tr><tr><td>&quot;097560&quot;</td><td>&quot;ORG APPLE BLUEBERRY FRUIT WRAP&quot;</td><td>91.836735</td><td>0.010889</td><td>0.49</td><td>45.0</td><td>45.0</td><td>1.0</td></tr><tr><td>&quot;043026&quot;</td><td>&quot;ORG APPLE WILD BERRY FRUIT WRA…</td><td>91.836735</td><td>0.010889</td><td>0.49</td><td>45.0</td><td>45.0</td><td>1.0</td></tr></tbody></table></div>"
      ],
      "text/plain": [
       "shape: (11, 8)\n",
       "┌────────┬────────────┬────────────┬────────────┬───────────┬────────────┬────────────┬────────────┐\n",
       "│ sku    ┆ name       ┆ calories_p ┆ dollars_pe ┆ price_usd ┆ calories_p ┆ calories_p ┆ servings_p │\n",
       "│ ---    ┆ ---        ┆ er_dollar  ┆ r_calorie  ┆ ---       ┆ er_contain ┆ er_serving ┆ er_contain │\n",
       "│ str    ┆ str        ┆ ---        ┆ ---        ┆ f64       ┆ er         ┆ ---        ┆ er         │\n",
       "│        ┆            ┆ f64        ┆ f64        ┆           ┆ ---        ┆ f32        ┆ ---        │\n",
       "│        ┆            ┆            ┆            ┆           ┆ f32        ┆            ┆ f32        │\n",
       "╞════════╪════════════╪════════════╪════════════╪═══════════╪════════════╪════════════╪════════════╡\n",
       "│ 077826 ┆ KIT        ┆ 120000.0   ┆ 0.000008   ┆ 0.01      ┆ 1200.0     ┆ 150.0      ┆ 8.0        │\n",
       "│        ┆ CHOCOLATE  ┆            ┆            ┆           ┆            ┆            ┆            │\n",
       "│        ┆ DIPPING    ┆            ┆            ┆           ┆            ┆            ┆            │\n",
       "│ 073468 ┆ INCREDISAU ┆ 100000.0   ┆ 0.00001    ┆ 0.01      ┆ 1000.0     ┆ 100.0      ┆ 10.0       │\n",
       "│        ┆ CE         ┆            ┆            ┆           ┆            ┆            ┆            │\n",
       "│ 077328 ┆ CINNAMON   ┆ 72000.0    ┆ 0.000014   ┆ 0.01      ┆ 720.0      ┆ 120.0      ┆ 6.0        │\n",
       "│        ┆ SWIZZLE    ┆            ┆            ┆           ┆            ┆            ┆            │\n",
       "│        ┆ STICKS     ┆            ┆            ┆           ┆            ┆            ┆            │\n",
       "│ 077036 ┆ CINNAMON   ┆ 48000.0    ┆ 0.000021   ┆ 0.01      ┆ 480.0      ┆ 160.0      ┆ 3.0        │\n",
       "│        ┆ BUN        ┆            ┆            ┆           ┆            ┆            ┆            │\n",
       "│        ┆ TRUFFLES   ┆            ┆            ┆           ┆            ┆            ┆            │\n",
       "│ 067699 ┆ ALMONDS    ┆ 38000.0    ┆ 0.000026   ┆ 0.01      ┆ 380.0      ┆ 380.0      ┆ 1.0        │\n",
       "│        ┆ DARK CHOC  ┆            ┆            ┆           ┆            ┆            ┆            │\n",
       "│        ┆ AMPED-UP   ┆            ┆            ┆           ┆            ┆            ┆            │\n",
       "│ …      ┆ …          ┆ …          ┆ …          ┆ …         ┆ …          ┆ …          ┆ …          │\n",
       "│ 042974 ┆ ORG APPLE  ┆ 91.836735  ┆ 0.010889   ┆ 0.49      ┆ 45.0       ┆ 45.0       ┆ 1.0        │\n",
       "│        ┆ STRAWBERRY ┆            ┆            ┆           ┆            ┆            ┆            │\n",
       "│        ┆ FRUIT WRA… ┆            ┆            ┆           ┆            ┆            ┆            │\n",
       "│ 042973 ┆ ORG APPLE  ┆ 91.836735  ┆ 0.010889   ┆ 0.49      ┆ 45.0       ┆ 45.0       ┆ 1.0        │\n",
       "│        ┆ RASPBERRY  ┆            ┆            ┆           ┆            ┆            ┆            │\n",
       "│        ┆ FRUIT WRAP ┆            ┆            ┆           ┆            ┆            ┆            │\n",
       "│ 081316 ┆ ORG SOUR   ┆ 91.836735  ┆ 0.010889   ┆ 0.49      ┆ 45.0       ┆ 45.0       ┆ 1.0        │\n",
       "│        ┆ WATERMELON ┆            ┆            ┆           ┆            ┆            ┆            │\n",
       "│        ┆ BAR        ┆            ┆            ┆           ┆            ┆            ┆            │\n",
       "│ 097560 ┆ ORG APPLE  ┆ 91.836735  ┆ 0.010889   ┆ 0.49      ┆ 45.0       ┆ 45.0       ┆ 1.0        │\n",
       "│        ┆ BLUEBERRY  ┆            ┆            ┆           ┆            ┆            ┆            │\n",
       "│        ┆ FRUIT WRAP ┆            ┆            ┆           ┆            ┆            ┆            │\n",
       "│ 043026 ┆ ORG APPLE  ┆ 91.836735  ┆ 0.010889   ┆ 0.49      ┆ 45.0       ┆ 45.0       ┆ 1.0        │\n",
       "│        ┆ WILD BERRY ┆            ┆            ┆           ┆            ┆            ┆            │\n",
       "│        ┆ FRUIT WRA… ┆            ┆            ┆           ┆            ┆            ┆            │\n",
       "└────────┴────────────┴────────────┴────────────┴───────────┴────────────┴────────────┴────────────┘"
      ]
     },
     "execution_count": 258,
     "metadata": {},
     "output_type": "execute_result"
    }
   ],
   "source": [
    "tjhp_clean.filter(tjhp_clean['price_usd'] <= 0.49)"
   ]
  },
  {
   "cell_type": "code",
   "execution_count": 259,
   "id": "6faf04fb",
   "metadata": {},
   "outputs": [],
   "source": [
    "# tjhp = tjhp.with_columns(\n",
    "#     calories_per_dollar = 1 / pl.col('dollars_per_calorie')\n",
    "# )\n",
    "\n",
    "# df.filter REMOVES (filters lol) things that satisfy the condition\n",
    "tjhp_clean = tjhp_clean.filter(\n",
    "        (tjhp_clean['calories_per_container'] < 30000) # Demon core candied ginger\n",
    "        &\n",
    "        (tjhp_clean['price_usd'] >= 0.48) # Threshold to just include fruit wraps and \"just a handful\"-type products\n",
    ")"
   ]
  },
  {
   "cell_type": "code",
   "execution_count": 260,
   "id": "172dfb0e",
   "metadata": {},
   "outputs": [],
   "source": [
    "# tjhp.filter(~tjhp['servings_per_container'].str.contains('[(serves)(Serves)(about)]'))"
   ]
  },
  {
   "cell_type": "code",
   "execution_count": 261,
   "id": "26984592",
   "metadata": {},
   "outputs": [],
   "source": [
    "# # Energy Bar Peanut Butter / tjhp'S CRUNCHY PEANUT BUTTER ENERGY\n",
    "# # Wrong, it is listing price of a single bar, but servings as 12 bars!!!!\n",
    "# tjhp.filter(tjhp['sku'] == '077616')\n",
    "\n",
    "# # Same issue with tjhp'S CHOCOLATE CHIP ENERGY"
   ]
  },
  {
   "cell_type": "code",
   "execution_count": 262,
   "id": "70909581",
   "metadata": {},
   "outputs": [
    {
     "data": {
      "text/html": [
       "<div><style>\n",
       ".dataframe > thead > tr,\n",
       ".dataframe > tbody > tr {\n",
       "  text-align: right;\n",
       "  white-space: pre-wrap;\n",
       "}\n",
       "</style>\n",
       "<small>shape: (1, 18)</small><table border=\"1\" class=\"dataframe\"><thead><tr><th>sku</th><th>name</th><th>availability</th><th>stock_status</th><th>only_x_left_in_stock</th><th>nutrition</th><th>ingredients</th><th>popularity</th><th>price</th><th>country_of_manufacture</th><th>country_of_origin</th><th>price_usd</th><th>calories_per_serving</th><th>servings_per_container</th><th>servings_per_container_text</th><th>calories_per_container</th><th>dollars_per_calorie</th><th>calories_per_dollar</th></tr><tr><td>str</td><td>str</td><td>str</td><td>str</td><td>null</td><td>list[struct[7]]</td><td>list[struct[2]]</td><td>str</td><td>struct[1]</td><td>null</td><td>str</td><td>f64</td><td>f32</td><td>f32</td><td>str</td><td>f32</td><td>f64</td><td>f64</td></tr></thead><tbody><tr><td>&quot;070379&quot;</td><td>&quot;OIL CANOLA SPRAY ORGANIC&quot;</td><td>&quot;1&quot;</td><td>&quot;OUT_OF_STOCK&quot;</td><td>null</td><td>[{&quot;0 &quot;,[{&quot;0 g&quot;,1,&quot;Total Fat&quot;,&quot;0&quot;}, {&quot;0 mg&quot;,2,&quot;Sodium&quot;,&quot;0&quot;}, … {&quot;0 g&quot;,10,&quot;Protein&quot;,&quot;&quot;}],0,1,&quot;&quot;,&quot;1/3 second spray (0.25g)&quot;,&quot;Serves 536&quot;}]</td><td>[{1,&quot;ORGANIC CANOLA OIL&quot;}]</td><td>&quot;52&quot;</td><td>{{{2.99,&quot;USD&quot;}}}</td><td>null</td><td>&quot;Product of Other (do not use) …</td><td>2.99</td><td>0.0</td><td>536.0</td><td>&quot;Serves 536&quot;</td><td>0.0</td><td>inf</td><td>0.0</td></tr></tbody></table></div>"
      ],
      "text/plain": [
       "shape: (1, 18)\n",
       "┌────────┬────────────┬────────────┬───────────┬───┬───────────┬───────────┬───────────┬───────────┐\n",
       "│ sku    ┆ name       ┆ availabili ┆ stock_sta ┆ … ┆ servings_ ┆ calories_ ┆ dollars_p ┆ calories_ │\n",
       "│ ---    ┆ ---        ┆ ty         ┆ tus       ┆   ┆ per_conta ┆ per_conta ┆ er_calori ┆ per_dolla │\n",
       "│ str    ┆ str        ┆ ---        ┆ ---       ┆   ┆ iner_text ┆ iner      ┆ e         ┆ r         │\n",
       "│        ┆            ┆ str        ┆ str       ┆   ┆ ---       ┆ ---       ┆ ---       ┆ ---       │\n",
       "│        ┆            ┆            ┆           ┆   ┆ str       ┆ f32       ┆ f64       ┆ f64       │\n",
       "╞════════╪════════════╪════════════╪═══════════╪═══╪═══════════╪═══════════╪═══════════╪═══════════╡\n",
       "│ 070379 ┆ OIL CANOLA ┆ 1          ┆ OUT_OF_ST ┆ … ┆ Serves    ┆ 0.0       ┆ inf       ┆ 0.0       │\n",
       "│        ┆ SPRAY      ┆            ┆ OCK       ┆   ┆ 536       ┆           ┆           ┆           │\n",
       "│        ┆ ORGANIC    ┆            ┆           ┆   ┆           ┆           ┆           ┆           │\n",
       "└────────┴────────────┴────────────┴───────────┴───┴───────────┴───────────┴───────────┴───────────┘"
      ]
     },
     "execution_count": 262,
     "metadata": {},
     "output_type": "execute_result"
    }
   ],
   "source": [
    "tjhp.filter(tjhp['sku'] == '070379')"
   ]
  },
  {
   "cell_type": "code",
   "execution_count": 263,
   "id": "63196e60",
   "metadata": {},
   "outputs": [
    {
     "data": {
      "text/html": [
       "<div><style>\n",
       ".dataframe > thead > tr,\n",
       ".dataframe > tbody > tr {\n",
       "  text-align: right;\n",
       "  white-space: pre-wrap;\n",
       "}\n",
       "</style>\n",
       "<small>shape: (1, 18)</small><table border=\"1\" class=\"dataframe\"><thead><tr><th>sku</th><th>name</th><th>availability</th><th>stock_status</th><th>only_x_left_in_stock</th><th>nutrition</th><th>ingredients</th><th>popularity</th><th>price</th><th>country_of_manufacture</th><th>country_of_origin</th><th>price_usd</th><th>calories_per_serving</th><th>servings_per_container</th><th>servings_per_container_text</th><th>calories_per_container</th><th>dollars_per_calorie</th><th>calories_per_dollar</th></tr><tr><td>str</td><td>str</td><td>str</td><td>str</td><td>null</td><td>list[struct[7]]</td><td>list[struct[2]]</td><td>str</td><td>struct[1]</td><td>null</td><td>str</td><td>f64</td><td>f32</td><td>f32</td><td>str</td><td>f32</td><td>f64</td><td>f64</td></tr></thead><tbody><tr><td>&quot;073468&quot;</td><td>&quot;INCREDISAUCE&quot;</td><td>&quot;1&quot;</td><td>&quot;OUT_OF_STOCK&quot;</td><td>null</td><td>[{&quot;100 &quot;,[{&quot;7 g&quot;,1,&quot;Total Fat&quot;,&quot;.09&quot;}, {&quot;1 g&quot;,2,&quot;Saturated Fat&quot;,&quot;.05&quot;}, … {&quot;20 mg&quot;,14,&quot;Potassium&quot;,&quot;0&quot;}],0,1,&quot;&quot;,&quot;2 Tbsp. (32g)&quot;,&quot;Serves about 10&quot;}]</td><td>[{1,&quot;WATER&quot;}, {2,&quot;CANE SUGAR&quot;}, … {20,&quot;PAPRIKA OLEORESIN FOR COLOR.&quot;}]</td><td>&quot;29&quot;</td><td>{{{0.01,&quot;USD&quot;}}}</td><td>null</td><td>&quot;Product of United States&quot;</td><td>0.01</td><td>100.0</td><td>10.0</td><td>&quot;Serves about 10&quot;</td><td>1000.0</td><td>0.00001</td><td>100000.0</td></tr></tbody></table></div>"
      ],
      "text/plain": [
       "shape: (1, 18)\n",
       "┌────────┬────────────┬────────────┬───────────┬───┬───────────┬───────────┬───────────┬───────────┐\n",
       "│ sku    ┆ name       ┆ availabili ┆ stock_sta ┆ … ┆ servings_ ┆ calories_ ┆ dollars_p ┆ calories_ │\n",
       "│ ---    ┆ ---        ┆ ty         ┆ tus       ┆   ┆ per_conta ┆ per_conta ┆ er_calori ┆ per_dolla │\n",
       "│ str    ┆ str        ┆ ---        ┆ ---       ┆   ┆ iner_text ┆ iner      ┆ e         ┆ r         │\n",
       "│        ┆            ┆ str        ┆ str       ┆   ┆ ---       ┆ ---       ┆ ---       ┆ ---       │\n",
       "│        ┆            ┆            ┆           ┆   ┆ str       ┆ f32       ┆ f64       ┆ f64       │\n",
       "╞════════╪════════════╪════════════╪═══════════╪═══╪═══════════╪═══════════╪═══════════╪═══════════╡\n",
       "│ 073468 ┆ INCREDISAU ┆ 1          ┆ OUT_OF_ST ┆ … ┆ Serves    ┆ 1000.0    ┆ 0.00001   ┆ 100000.0  │\n",
       "│        ┆ CE         ┆            ┆ OCK       ┆   ┆ about 10  ┆           ┆           ┆           │\n",
       "└────────┴────────────┴────────────┴───────────┴───┴───────────┴───────────┴───────────┴───────────┘"
      ]
     },
     "execution_count": 263,
     "metadata": {},
     "output_type": "execute_result"
    }
   ],
   "source": [
    "tjhp.filter(tjhp['sku'] == '073468')"
   ]
  },
  {
   "cell_type": "markdown",
   "id": "ac010ebb",
   "metadata": {},
   "source": [
    "To sanity check items that do not have accurate servings per container given the price, we can insert another variable for the price per serving to see if that is weird."
   ]
  },
  {
   "cell_type": "code",
   "execution_count": 265,
   "id": "c63052cf",
   "metadata": {},
   "outputs": [],
   "source": [
    "tjhp_clean = tjhp_clean.with_columns(\n",
    "    dollars_per_serving = tjhp_clean['price_usd'] / tjhp_clean['servings_per_container']\n",
    ")"
   ]
  },
  {
   "cell_type": "code",
   "execution_count": 266,
   "id": "64e0eb85",
   "metadata": {},
   "outputs": [
    {
     "data": {
      "text/html": [
       "<div><style>\n",
       ".dataframe > thead > tr,\n",
       ".dataframe > tbody > tr {\n",
       "  text-align: right;\n",
       "  white-space: pre-wrap;\n",
       "}\n",
       "</style>\n",
       "<small>shape: (3, 9)</small><table border=\"1\" class=\"dataframe\"><thead><tr><th>sku</th><th>name</th><th>calories_per_dollar</th><th>dollars_per_calorie</th><th>price_usd</th><th>calories_per_container</th><th>calories_per_serving</th><th>servings_per_container</th><th>dollars_per_serving</th></tr><tr><td>str</td><td>str</td><td>f64</td><td>f64</td><td>f64</td><td>f32</td><td>f32</td><td>f32</td><td>f64</td></tr></thead><tbody><tr><td>&quot;077616&quot;</td><td>&quot;TJ&#x27;S CRUNCHY PEANUT BUTTER ENE…</td><td>2722.689076</td><td>0.000367</td><td>1.19</td><td>3240.0</td><td>270.0</td><td>12.0</td><td>0.099167</td></tr><tr><td>&quot;077618&quot;</td><td>&quot;TJ&#x27;S CHOCOLATE CHIP ENERGY&quot;</td><td>2621.848739</td><td>0.000381</td><td>1.19</td><td>3120.0</td><td>260.0</td><td>12.0</td><td>0.099167</td></tr><tr><td>&quot;052029&quot;</td><td>&quot;OIL 100% CANOLA&quot;</td><td>2303.724928</td><td>0.000434</td><td>3.49</td><td>8040.0</td><td>120.0</td><td>67.0</td><td>0.05209</td></tr></tbody></table></div>"
      ],
      "text/plain": [
       "shape: (3, 9)\n",
       "┌────────┬────────────┬────────────┬───────────┬───┬───────────┬───────────┬───────────┬───────────┐\n",
       "│ sku    ┆ name       ┆ calories_p ┆ dollars_p ┆ … ┆ calories_ ┆ calories_ ┆ servings_ ┆ dollars_p │\n",
       "│ ---    ┆ ---        ┆ er_dollar  ┆ er_calori ┆   ┆ per_conta ┆ per_servi ┆ per_conta ┆ er_servin │\n",
       "│ str    ┆ str        ┆ ---        ┆ e         ┆   ┆ iner      ┆ ng        ┆ iner      ┆ g         │\n",
       "│        ┆            ┆ f64        ┆ ---       ┆   ┆ ---       ┆ ---       ┆ ---       ┆ ---       │\n",
       "│        ┆            ┆            ┆ f64       ┆   ┆ f32       ┆ f32       ┆ f32       ┆ f64       │\n",
       "╞════════╪════════════╪════════════╪═══════════╪═══╪═══════════╪═══════════╪═══════════╪═══════════╡\n",
       "│ 077616 ┆ TJ'S       ┆ 2722.68907 ┆ 0.000367  ┆ … ┆ 3240.0    ┆ 270.0     ┆ 12.0      ┆ 0.099167  │\n",
       "│        ┆ CRUNCHY    ┆ 6          ┆           ┆   ┆           ┆           ┆           ┆           │\n",
       "│        ┆ PEANUT     ┆            ┆           ┆   ┆           ┆           ┆           ┆           │\n",
       "│        ┆ BUTTER     ┆            ┆           ┆   ┆           ┆           ┆           ┆           │\n",
       "│        ┆ ENE…       ┆            ┆           ┆   ┆           ┆           ┆           ┆           │\n",
       "│ 077618 ┆ TJ'S       ┆ 2621.84873 ┆ 0.000381  ┆ … ┆ 3120.0    ┆ 260.0     ┆ 12.0      ┆ 0.099167  │\n",
       "│        ┆ CHOCOLATE  ┆ 9          ┆           ┆   ┆           ┆           ┆           ┆           │\n",
       "│        ┆ CHIP       ┆            ┆           ┆   ┆           ┆           ┆           ┆           │\n",
       "│        ┆ ENERGY     ┆            ┆           ┆   ┆           ┆           ┆           ┆           │\n",
       "│ 052029 ┆ OIL 100%   ┆ 2303.72492 ┆ 0.000434  ┆ … ┆ 8040.0    ┆ 120.0     ┆ 67.0      ┆ 0.05209   │\n",
       "│        ┆ CANOLA     ┆ 8          ┆           ┆   ┆           ┆           ┆           ┆           │\n",
       "└────────┴────────────┴────────────┴───────────┴───┴───────────┴───────────┴───────────┴───────────┘"
      ]
     },
     "execution_count": 266,
     "metadata": {},
     "output_type": "execute_result"
    }
   ],
   "source": [
    "tjhp_clean.head(3)"
   ]
  },
  {
   "cell_type": "markdown",
   "id": "2f601c08",
   "metadata": {},
   "source": [
    "Also, let's fix some obvious mistakes manually."
   ]
  },
  {
   "cell_type": "code",
   "execution_count": 267,
   "id": "e437578c",
   "metadata": {},
   "outputs": [],
   "source": [
    "tjhp_clean = tjhp_clean.with_columns(\n",
    "    pl.when(tjhp_clean['sku'].is_in([\"077616\", \"077618\"]))\n",
    "    .then(1)\n",
    "    .otherwise(pl.col(\"servings_per_container\"))\n",
    "    .alias(\"servings_per_container\")\n",
    ")\n"
   ]
  },
  {
   "cell_type": "code",
   "execution_count": 268,
   "id": "a0360108",
   "metadata": {},
   "outputs": [],
   "source": [
    "tjhp_clean = tjhp_clean.with_columns(\n",
    "    calories_per_container = tjhp_clean['calories_per_serving'] * tjhp_clean['servings_per_container']\n",
    ")"
   ]
  },
  {
   "cell_type": "code",
   "execution_count": 269,
   "id": "f2c59e7a",
   "metadata": {},
   "outputs": [],
   "source": [
    "tjhp_clean = tjhp_clean.with_columns(\n",
    "    calories_per_dollar = tjhp_clean['calories_per_container'] / tjhp_clean['price_usd']\n",
    ")"
   ]
  },
  {
   "cell_type": "code",
   "execution_count": 270,
   "id": "ddb58d1c",
   "metadata": {},
   "outputs": [],
   "source": [
    "tjhp_clean = tjhp_clean.with_columns(\n",
    "    dollars_per_calorie = 1 / tjhp_clean['calories_per_dollar']\n",
    ")"
   ]
  },
  {
   "cell_type": "code",
   "execution_count": 271,
   "id": "06868110",
   "metadata": {},
   "outputs": [],
   "source": [
    "tjhp_clean = tjhp_clean.sort(by='calories_per_dollar', descending=True)"
   ]
  },
  {
   "cell_type": "code",
   "execution_count": 336,
   "id": "667135b2",
   "metadata": {},
   "outputs": [],
   "source": [
    "# tjhp['nutrition'][0][0]['details']"
   ]
  },
  {
   "cell_type": "code",
   "execution_count": null,
   "id": "4d5d4765",
   "metadata": {},
   "outputs": [
    {
     "data": {
      "text/plain": [
       "['11 g']"
      ]
     },
     "execution_count": 342,
     "metadata": {},
     "output_type": "execute_result"
    }
   ],
   "source": [
    "\n",
    "[i['amount'] for i in tjhp['nutrition'][0][0]['details'] if i['nutritional_item']=='Protein']"
   ]
  },
  {
   "cell_type": "code",
   "execution_count": 354,
   "id": "3bb2cf98",
   "metadata": {},
   "outputs": [],
   "source": [
    "df = pl.DataFrame({\"nutritional_info\": tjhp['nutrition']})\n",
    "\n",
    "# Explode the list of dictionaries column\n",
    "df = df.explode(\"nutritional_info\")"
   ]
  },
  {
   "cell_type": "code",
   "execution_count": 359,
   "id": "f44b4fd7",
   "metadata": {},
   "outputs": [],
   "source": [
    "# tjhp['nutrition'][0][0]"
   ]
  },
  {
   "cell_type": "code",
   "execution_count": 370,
   "id": "d719c579",
   "metadata": {},
   "outputs": [],
   "source": [
    "data = [\n",
    "    [{'amount': '38 g', 'display_seq': 1, 'nutritional_item': 'Total Fat', 'percent_dv': '.49'}, \n",
    "     {'amount': '25 g', 'display_seq': 2, 'nutritional_item': 'Saturated Fat', 'percent_dv': '1.25'}, \n",
    "     {'amount': '0 g', 'display_seq': 3, 'nutritional_item': 'Trans Fat', 'percent_dv': ''}],\n",
    "    [{'amount': '15 g', 'display_seq': 4, 'nutritional_item': 'Protein', 'percent_dv': ''},\n",
    "     {'amount': '10 g', 'display_seq': 5, 'nutritional_item': 'Fiber', 'percent_dv': ''}],\n",
    "     [{'amount': '38 g', 'display_seq': 1, 'nutritional_item': 'Total Fat', 'percent_dv': '.49'}, \n",
    "     {'amount': '25 g', 'display_seq': 2, 'nutritional_item': 'Saturated Fat', 'percent_dv': '1.25'}, \n",
    "     {'amount': '0 g', 'display_seq': 3, 'nutritional_item': 'Trans Fat', 'percent_dv': ''}],\n",
    "    \n",
    "    [{'amount': '15 g', 'display_seq': 4, 'nutritional_item': 'Protein', 'percent_dv': ''},\n",
    "     {'amount': '10 g', 'display_seq': 5, 'nutritional_item': 'Fiber', 'percent_dv': ''}]\n",
    "]\n",
    "\n",
    "# Create a Polars DataFrame where each inner list is a column\n",
    "# This is a different structure than the previous example\n",
    "df = pl.DataFrame({\"nutritional_info\": data})\n"
   ]
  },
  {
   "cell_type": "code",
   "execution_count": 371,
   "id": "cd66b4bf",
   "metadata": {},
   "outputs": [
    {
     "data": {
      "text/html": [
       "<div><style>\n",
       ".dataframe > thead > tr,\n",
       ".dataframe > tbody > tr {\n",
       "  text-align: right;\n",
       "  white-space: pre-wrap;\n",
       "}\n",
       "</style>\n",
       "<small>shape: (4, 1)</small><table border=\"1\" class=\"dataframe\"><thead><tr><th>nutritional_info</th></tr><tr><td>list[struct[4]]</td></tr></thead><tbody><tr><td>[{&quot;38 g&quot;,1,&quot;Total Fat&quot;,&quot;.49&quot;}, {&quot;25 g&quot;,2,&quot;Saturated Fat&quot;,&quot;1.25&quot;}, {&quot;0 g&quot;,3,&quot;Trans Fat&quot;,&quot;&quot;}]</td></tr><tr><td>[{&quot;15 g&quot;,4,&quot;Protein&quot;,&quot;&quot;}, {&quot;10 g&quot;,5,&quot;Fiber&quot;,&quot;&quot;}]</td></tr><tr><td>[{&quot;38 g&quot;,1,&quot;Total Fat&quot;,&quot;.49&quot;}, {&quot;25 g&quot;,2,&quot;Saturated Fat&quot;,&quot;1.25&quot;}, {&quot;0 g&quot;,3,&quot;Trans Fat&quot;,&quot;&quot;}]</td></tr><tr><td>[{&quot;15 g&quot;,4,&quot;Protein&quot;,&quot;&quot;}, {&quot;10 g&quot;,5,&quot;Fiber&quot;,&quot;&quot;}]</td></tr></tbody></table></div>"
      ],
      "text/plain": [
       "shape: (4, 1)\n",
       "┌─────────────────────────────────┐\n",
       "│ nutritional_info                │\n",
       "│ ---                             │\n",
       "│ list[struct[4]]                 │\n",
       "╞═════════════════════════════════╡\n",
       "│ [{\"38 g\",1,\"Total Fat\",\".49\"},… │\n",
       "│ [{\"15 g\",4,\"Protein\",\"\"}, {\"10… │\n",
       "│ [{\"38 g\",1,\"Total Fat\",\".49\"},… │\n",
       "│ [{\"15 g\",4,\"Protein\",\"\"}, {\"10… │\n",
       "└─────────────────────────────────┘"
      ]
     },
     "execution_count": 371,
     "metadata": {},
     "output_type": "execute_result"
    }
   ],
   "source": [
    "df"
   ]
  },
  {
   "cell_type": "code",
   "execution_count": null,
   "id": "7fa79979",
   "metadata": {},
   "outputs": [],
   "source": [
    "\n",
    "# Explode the list of dictionaries column\n",
    "df = df.explode(\"nutritional_info\")\n",
    "\n",
    "# Extract the 'amount' where 'nutritional_item' is 'Protein' from the exploded data\n",
    "protein_amount = df.filter(pl.col(\"nutritional_info\").struct.field(\"nutritional_item\") == \"Protein\").select(pl.col(\"nutritional_info\").struct.field(\"amount\"))\n",
    "\n",
    "print(protein_amount)"
   ]
  },
  {
   "cell_type": "code",
   "execution_count": 389,
   "id": "29fe6ead",
   "metadata": {},
   "outputs": [
    {
     "data": {
      "text/plain": [
       "{'calories_per_serving': '610 ',\n",
       " 'details': [{'amount': '38 g',\n",
       "   'display_seq': 1,\n",
       "   'nutritional_item': 'Total Fat',\n",
       "   'percent_dv': '.49'},\n",
       "  {'amount': '25 g',\n",
       "   'display_seq': 2,\n",
       "   'nutritional_item': 'Saturated Fat',\n",
       "   'percent_dv': '1.25'},\n",
       "  {'amount': '0 g',\n",
       "   'display_seq': 3,\n",
       "   'nutritional_item': 'Trans Fat',\n",
       "   'percent_dv': ''},\n",
       "  {'amount': '0 mg',\n",
       "   'display_seq': 4,\n",
       "   'nutritional_item': 'Cholesterol',\n",
       "   'percent_dv': '0'},\n",
       "  {'amount': '500 mg',\n",
       "   'display_seq': 5,\n",
       "   'nutritional_item': 'Sodium',\n",
       "   'percent_dv': '.22'},\n",
       "  {'amount': '58 g',\n",
       "   'display_seq': 6,\n",
       "   'nutritional_item': 'Total Carbohydrate',\n",
       "   'percent_dv': '.21'},\n",
       "  {'amount': '4 g',\n",
       "   'display_seq': 7,\n",
       "   'nutritional_item': 'Dietary Fiber',\n",
       "   'percent_dv': '.14'},\n",
       "  {'amount': '4 g',\n",
       "   'display_seq': 8,\n",
       "   'nutritional_item': 'Total Sugars',\n",
       "   'percent_dv': ''},\n",
       "  {'amount': '0 g Added Sugars',\n",
       "   'display_seq': 9,\n",
       "   'nutritional_item': 'Includes',\n",
       "   'percent_dv': '0'},\n",
       "  {'amount': '11 g',\n",
       "   'display_seq': 10,\n",
       "   'nutritional_item': 'Protein',\n",
       "   'percent_dv': ''},\n",
       "  {'amount': '0.0 mcg',\n",
       "   'display_seq': 11,\n",
       "   'nutritional_item': 'Vitamin D',\n",
       "   'percent_dv': '0'},\n",
       "  {'amount': '20 mg',\n",
       "   'display_seq': 12,\n",
       "   'nutritional_item': 'Calcium',\n",
       "   'percent_dv': '.02'},\n",
       "  {'amount': '2.4 mg',\n",
       "   'display_seq': 13,\n",
       "   'nutritional_item': 'Iron',\n",
       "   'percent_dv': '.15'},\n",
       "  {'amount': '530 mg',\n",
       "   'display_seq': 14,\n",
       "   'nutritional_item': 'Potassium',\n",
       "   'percent_dv': '.1'}],\n",
       " 'display_sequence': 0,\n",
       " 'panel_id': 1,\n",
       " 'panel_title': 'Per 1 cup (250g)',\n",
       " 'serving_size': '1 package (375g)',\n",
       " 'servings_per_container': 'Serves 1'}"
      ]
     },
     "execution_count": 389,
     "metadata": {},
     "output_type": "execute_result"
    }
   ],
   "source": [
    "tjhp['nutrition'][0][0]"
   ]
  },
  {
   "cell_type": "code",
   "execution_count": null,
   "id": "61289efb",
   "metadata": {},
   "outputs": [
    {
     "name": "stderr",
     "output_type": "stream",
     "text": [
      "C:\\Users\\riley\\AppData\\Local\\Temp\\ipykernel_22168\\2695420405.py:3: MapWithoutReturnDtypeWarning: Calling `map_elements` without specifying `return_dtype` can lead to unpredictable results. Specify `return_dtype` to silence this warning.\n",
      "  tjhp_p = tjhp.with_columns(\n"
     ]
    }
   ],
   "source": [
    "# Try to extract nutrients (not calories)\n",
    "# Start with protein \n",
    "tjhp_p = tjhp.with_columns(\n",
    "    # tj['nutrition']\n",
    "    pl.col(\"nutrition\").map_elements(lambda x: x[0]['details'] if len(x)>0 else None).alias(\"nuts\")\n",
    "    # pl.col(\"nutrition\").map_elements(lambda x: x[0]['servings_per_container'] if len(x)>0 else None, return_dtype=str).alias(\"servings_per_container\")\n",
    "\n",
    ")\n",
    "# tjhp.head(3)\n"
   ]
  },
  {
   "cell_type": "code",
   "execution_count": 419,
   "id": "78883f4f",
   "metadata": {},
   "outputs": [],
   "source": [
    "tjhp_p = tjhp_p.with_columns(\n",
    "    pl.col('nuts').map_elements(lambda x: [i['amount'] for i in x if i['nutritional_item']=='Protein'], return_dtype=list[str]).alias('protein')\n",
    ")\n"
   ]
  },
  {
   "cell_type": "markdown",
   "id": "9f7ed3cb",
   "metadata": {},
   "source": [
    "Protein per serving, not just protein."
   ]
  },
  {
   "cell_type": "code",
   "execution_count": 421,
   "id": "c79cd28e",
   "metadata": {},
   "outputs": [],
   "source": [
    "x = None"
   ]
  },
  {
   "cell_type": "code",
   "execution_count": null,
   "id": "11a13d86",
   "metadata": {},
   "outputs": [],
   "source": [
    "def parse_nutritional_item(x, nutritional_unit=' g'):\n",
    "    '''Assumes x is a list of one element'''\n",
    "    try:\n",
    "        return x[0].strip(nutritional_unit)\n",
    "    except TypeError:\n",
    "        return 0\n",
    "\n",
    "tjhp_p.with_columns(\n",
    "    pl.col(\"protein\").map_elements(lambda x: parse_nutritional_item(x), return_dtype=float)\n",
    ")"
   ]
  },
  {
   "cell_type": "markdown",
   "id": "2e810167",
   "metadata": {},
   "source": [
    "Save."
   ]
  },
  {
   "cell_type": "code",
   "execution_count": null,
   "id": "ab2c2be6",
   "metadata": {},
   "outputs": [],
   "source": [
    "# tjhp_clean.write_csv(\"data/tjhp_clean.csv\")"
   ]
  }
 ],
 "metadata": {
  "kernelspec": {
   "display_name": "tallying-joules",
   "language": "python",
   "name": "python3"
  },
  "language_info": {
   "codemirror_mode": {
    "name": "ipython",
    "version": 3
   },
   "file_extension": ".py",
   "mimetype": "text/x-python",
   "name": "python",
   "nbconvert_exporter": "python",
   "pygments_lexer": "ipython3",
   "version": "3.13.7"
  }
 },
 "nbformat": 4,
 "nbformat_minor": 5
}
