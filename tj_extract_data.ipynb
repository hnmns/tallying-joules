{
 "cells": [
  {
   "cell_type": "code",
   "execution_count": null,
   "id": "f0fe6237",
   "metadata": {},
   "outputs": [],
   "source": [
    "import requests"
   ]
  },
  {
   "cell_type": "markdown",
   "id": "b4498cd9",
   "metadata": {},
   "source": [
    "1. Create a set of `visited` urls\n",
    "2. Visit \"Food\" page\n",
    "3. Grab the total number of food sub-pages from pagination element at bottom of page\n",
    "4. Fill in the sub-page index to the general page $i$ url\n",
    "5. On each page, open each product page and grab: \n",
    "    * Food category (`categories`)\n",
    "    * Price\n",
    "    * Weight\n",
    "    * Ingredients\n",
    "    * Serves X\n",
    "    * Serving size\n",
    "    * Calories per serving\n",
    "    * Create a dictionary of `nutrient_amt`, `nutrient_dv`\n",
    "    * `country_of_manufacture`\n",
    "    * `country_of_origin`"
   ]
  },
  {
   "cell_type": "markdown",
   "id": "bc480523",
   "metadata": {},
   "source": [
    "## Scraping without running JS, `selenium`"
   ]
  },
  {
   "cell_type": "code",
   "execution_count": null,
   "id": "4f7af811",
   "metadata": {},
   "outputs": [],
   "source": [
    "from bs4 import BeautifulSoup\n",
    "import lxml\n"
   ]
  },
  {
   "cell_type": "code",
   "execution_count": null,
   "id": "d3587097",
   "metadata": {},
   "outputs": [],
   "source": [
    "# url_food_main = 'https://www.traderjoes.com/home/products/category/food-8' \n",
    "# # \"Front page\" for food\n",
    "# # Get the max num of pages from \"ul class=Pagination_pagination__list__1JUIg\" (last item in that)\n",
    "\n",
    "# html_food_main = requests.get(url_food_main).text\n",
    "# soup_main = BeautifulSoup(html_food_main, 'html.parser')\n",
    "\n",
    "# print(soup_main.prettify())"
   ]
  },
  {
   "cell_type": "code",
   "execution_count": null,
   "id": "f6faff65",
   "metadata": {},
   "outputs": [],
   "source": [
    "# This is the url pattern for each page of food item results\n",
    "subpage_num = 1 # Use .format() so that it we don't have to overwrite url_pattern each time\n",
    "url_subpage_pattern = \"https://www.traderjoes.com/home/products/category/food-8?filters={{\\\"page\\\"%3A{}}}\"\n",
    "url_subpage_pattern.format(subpage_num)\n"
   ]
  },
  {
   "cell_type": "code",
   "execution_count": null,
   "id": "796b966d",
   "metadata": {},
   "outputs": [],
   "source": [
    "# Grab the html from subpage 1, no headers or JS evaluation\n",
    "html_subpage = requests.get(url_subpage_pattern.format(subpage_num)).text"
   ]
  },
  {
   "cell_type": "code",
   "execution_count": null,
   "id": "9520690a",
   "metadata": {},
   "outputs": [],
   "source": [
    "# Parse it\n",
    "soup_nojs = BeautifulSoup(html_subpage)"
   ]
  },
  {
   "cell_type": "code",
   "execution_count": null,
   "id": "5c62b5a9",
   "metadata": {},
   "outputs": [],
   "source": [
    "# Not finding elements we see in browser Inspect because the page gets populated by Javascript\n",
    "soup_nojs.find_all('div', class_='aem-container aem-Grid aem-Grid--12 aem-Grid--default--12')"
   ]
  },
  {
   "cell_type": "code",
   "execution_count": null,
   "id": "3fbfd942",
   "metadata": {},
   "outputs": [],
   "source": [
    "# Using item SKU, we can get the item page directly, but how would we ever know the SKU ahead of time?\n",
    "# This one is for Strawberry Doodle Cookies\n",
    "fromsku = requests.get('https://traderjoes.com/home/products/pdp/081523').content\n",
    "fromsku"
   ]
  },
  {
   "cell_type": "code",
   "execution_count": null,
   "id": "d76341ce",
   "metadata": {},
   "outputs": [],
   "source": [
    "from bs4 import BeautifulSoup\n",
    "import lxml\n",
    "from selenium import webdriver\n",
    "from selenium.webdriver.chrome.options import Options\n",
    "\n",
    "from selenium.webdriver.common.by import By\n",
    "from selenium.webdriver.support.ui import WebDriverWait\n",
    "from selenium.webdriver.support import expected_conditions as EC\n"
   ]
  },
  {
   "cell_type": "markdown",
   "id": "dcd18764",
   "metadata": {},
   "source": [
    "## GraphQL for grabbing Trader Joe's product info\n",
    "An API querying language. Apparently, Trader Joe's keeps a product endpoint available without the need for an authentication token. I still don't know where someone would find out about this information (the fact that Trader Joe's has this, and the url exactly).\n",
    "\n",
    "This way, we don't need to scrape or even render any JS. All we need to do now is understand the product schema. In particular, there seem to be tables for product "
   ]
  },
  {
   "cell_type": "code",
   "execution_count": 129,
   "id": "9c554c86",
   "metadata": {},
   "outputs": [],
   "source": [
    "url = \"https://www.traderjoes.com/api/graphql\"\n",
    "# Where does ^ even come from!? Network tab under F12, AJAX requests idk"
   ]
  },
  {
   "cell_type": "code",
   "execution_count": 130,
   "id": "e14fba2f",
   "metadata": {},
   "outputs": [],
   "source": [
    "import requests"
   ]
  },
  {
   "cell_type": "markdown",
   "id": "956f4ce3",
   "metadata": {},
   "source": [
    "### Example query of 100 products and their prices"
   ]
  },
  {
   "cell_type": "code",
   "execution_count": 131,
   "id": "f9c37a74",
   "metadata": {},
   "outputs": [
    {
     "name": "stdout",
     "output_type": "stream",
     "text": [
      "{'data': {'products': {'items': [{'sku': '080626', 'item_title': 'Organic Baby Red Butter Lettuce & Baby Arugula', 'retail_price': '2.49'}, {'sku': '097210', 'item_title': 'Fair Trade Turbinado Raw Cane Sugar', 'retail_price': '3.49'}, {'sku': '082077', 'item_title': 'Mango Pineapple Pico de Gallo Salsa', 'retail_price': '3.99'}, {'sku': '080470', 'item_title': 'Strawberry & Watermelon Marshmallows', 'retail_price': '2.99'}, {'sku': '073162', 'item_title': 'Chocolate Croissants', 'retail_price': '3.49'}, {'sku': '082097', 'item_title': 'Sunshine Mountain Vineyard Pinot Noir 2023', 'retail_price': '14.99'}, {'sku': '079658', 'item_title': 'Strawberries & Cream Cloud Cake', 'retail_price': '6.49'}, {'sku': '080323', 'item_title': 'Italian Pistachio & Fior di Latte Gelato Style Frozen Dessert', 'retail_price': '4.99'}, {'sku': '080233', 'item_title': 'Cold Brew Coffee', 'retail_price': '3.29'}, {'sku': '080349', 'item_title': 'Hot Honey Fudge', 'retail_price': '2.99'}, {'sku': '079518', 'item_title': 'Freeze-Dried Just Salmon with Skin for Pets', 'retail_price': '5.49'}, {'sku': '080967', 'item_title': 'Seasoned Lamb Shoulder Rack', 'retail_price': '11.99'}, {'sku': '081792', 'item_title': 'Unexpected Broccoli Cheddar Soup', 'retail_price': '4.99'}, {'sku': '080602', 'item_title': 'Risotto Semplice', 'retail_price': '3.99'}, {'sku': '078613', 'item_title': 'Greek YogurtHoney Made with Whole Milk', 'retail_price': '0.99'}, {'sku': '086453', 'item_title': 'Greek Lowfat Yogurt Plain', 'retail_price': '2.99'}, {'sku': '082031', 'item_title': 'Korean Style Bibim-Guksu', 'retail_price': '4.99'}, {'sku': '081310', 'item_title': 'Ranch Cottage Cheese Dip', 'retail_price': '3.99'}, {'sku': '079959', 'item_title': 'Sandwich Starters', 'retail_price': '3.49'}, {'sku': '080786', 'item_title': 'Watermelon Lip Mask', 'retail_price': '5.99'}, {'sku': '081476', 'item_title': 'Glow Anywhere Sun Care Set', 'retail_price': '14.99'}, {'sku': '079877', 'item_title': 'Strawberry Fields Gummy Candy', 'retail_price': '2.29'}, {'sku': '079073', 'item_title': 'Single Origin 72% Cacao Dark Chocolate', 'retail_price': '2.49'}, {'sku': '081510', 'item_title': 'Strawberry Mini Sheet Cake', 'retail_price': '5.99'}, {'sku': '081299', 'item_title': 'Flatbread', 'retail_price': '2.99'}, {'sku': '081523', 'item_title': 'Strawberry Doodle Cookies', 'retail_price': '5.49'}, {'sku': '079514', 'item_title': 'Dark Choclate Thins On the Go! No Sugar Added', 'retail_price': '2.99'}, {'sku': '081545', 'item_title': 'Patislove® Pistachio Dark Chocolate Dubai Style', 'retail_price': '3.99'}, {'sku': '078527', 'item_title': 'French Galettes Butter Cookies', 'retail_price': '3.49'}, {'sku': '080590', 'item_title': 'Organic Silken Tofu', 'retail_price': '2.49'}, {'sku': '080324', 'item_title': 'Passion Fruit Sorbet', 'retail_price': '4.99'}, {'sku': '078428', 'item_title': 'Spicy Dynamite Sauce', 'retail_price': '2.99'}, {'sku': '062909', 'item_title': \"Coffee Lover's Espresso Beans\", 'retail_price': '1.29'}, {'sku': '036420', 'item_title': 'Cilantro Salad Dressing', 'retail_price': '3.99'}, {'sku': '080040', 'item_title': 'Hard Top Chocolate Shell Topping', 'retail_price': '3.29'}, {'sku': '075995', 'item_title': 'Skipjack Tuna Fillets in Olive Oil', 'retail_price': '3.99'}, {'sku': '077645', 'item_title': 'Boneless Grilled Mackerel Fillets', 'retail_price': '3.49'}, {'sku': '080527', 'item_title': 'Meatball Calzone', 'retail_price': '6.99'}, {'sku': '081316', 'item_title': 'Organic Sour Apple Watermelon Fruit Leather Wrap', 'retail_price': '0.49'}, {'sku': '081067', 'item_title': 'Spicy Mango Habanero Guacamole', 'retail_price': '3.49'}, {'sku': '081050', 'item_title': 'Roasted Tomato Labneh Dip', 'retail_price': '3.49'}, {'sku': '080939', 'item_title': 'Cinnamon Swirl Bread Sliced', 'retail_price': '4.99'}, {'sku': '079652', 'item_title': 'Parsley Crackers', 'retail_price': '2.49'}, {'sku': '081300', 'item_title': 'Organic Guava Fruit Spread', 'retail_price': '2.99'}, {'sku': '079860', 'item_title': 'Raspberry, Vanilla & Blueberry Macarons', 'retail_price': '5.99'}, {'sku': '078104', 'item_title': 'Strawberry Baton Wafer Cookies', 'retail_price': '1.99'}, {'sku': '081419', 'item_title': 'Organic Columbia Anei Fair Trade Small Lot Coffee', 'retail_price': '9.99'}, {'sku': '080961', 'item_title': 'Toscano Cheese Crunchy Chili Onion', 'retail_price': '11.99'}, {'sku': '081429', 'item_title': 'Root Beer Float Pieces', 'retail_price': '3.79'}, {'sku': '081051', 'item_title': 'Sparkling Tea & Lemonade', 'retail_price': '1.99'}, {'sku': '079998', 'item_title': 'Pretzel Buns', 'retail_price': '2.99'}, {'sku': '079711', 'item_title': 'Potato Buns', 'retail_price': '3.49'}, {'sku': '081725', 'item_title': 'Diamond Reserve Cabernet Sauvignon Napa Valley 2023', 'retail_price': '19.99'}, {'sku': '081939', 'item_title': 'Copilot Pinot Noir 2023', 'retail_price': '7.99'}, {'sku': '081938', 'item_title': 'Copilot Chardonnay 2023', 'retail_price': '7.99'}, {'sku': '074895', 'item_title': 'Seedless Lemons', 'retail_price': '2.99'}, {'sku': '075348', 'item_title': 'Sea Breeze Castile Hand Soap', 'retail_price': '3.99'}, {'sku': '068492', 'item_title': 'Organic Ground Turmeric', 'retail_price': '1.99'}, {'sku': '179344', 'item_title': 'Josephsbrau Grapefruit Radler', 'retail_price': '5.99'}, {'sku': '081937', 'item_title': 'Tarongino Frizzante Sparkling Orange Wine', 'retail_price': '12.99'}, {'sku': '067705', 'item_title': 'Synergistically Seasoned Popcorn', 'retail_price': '2.49'}, {'sku': '061301', 'item_title': 'Lemon Basil Pasta Salad', 'retail_price': '4.99'}, {'sku': '051403', 'item_title': 'Solid LIght Yellowfin Tuna in Olive Oil', 'retail_price': '2.49'}, {'sku': '074667', 'item_title': 'Solid Light Yellowfin Tuna iin Extra Virgin Olive Oil', 'retail_price': '2.49'}, {'sku': '074954', 'item_title': 'Organic Lemon Torchietti Pasta', 'retail_price': '2.99'}, {'sku': '079429', 'item_title': 'Sweet & Spicy Rice Cracker Mix', 'retail_price': '2.49'}, {'sku': '080525', 'item_title': 'Milton Creamery Morning Harvest Cheese', 'retail_price': '4.99'}, {'sku': '081482', 'item_title': 'Teeny Tiny Strawberry Rhubarb Pies', 'retail_price': '5.49'}, {'sku': '006237', 'item_title': 'Organic Tofu', 'retail_price': '2.49'}, {'sku': '062988', 'item_title': 'Organic Mini Flour Tortillas', 'retail_price': '2.49'}, {'sku': '093474', 'item_title': 'Hass Avocado', 'retail_price': '1.49'}, {'sku': '080927', 'item_title': 'Buffalo Ranch Popcorn', 'retail_price': '2.99'}, {'sku': '080307', 'item_title': 'Premium Beef Bone-In Rib Eye Steak', 'retail_price': '17.99'}, {'sku': '081544', 'item_title': 'Garden Party Scented Candle', 'retail_price': '8.99'}, {'sku': '080530', 'item_title': 'Margherita Pizza', 'retail_price': '4.79'}, {'sku': '081060', 'item_title': 'Roasted Green Vegetables', 'retail_price': '4.99'}, {'sku': '081837', 'item_title': 'Fiesta Salad with Shrimp', 'retail_price': '6.99'}, {'sku': '079345', 'item_title': 'Citrus Berry Herbal Tea', 'retail_price': '2.99'}, {'sku': '078932', 'item_title': 'Sour Strawberry Candy Belts', 'retail_price': '3.49'}, {'sku': '079235', 'item_title': 'Sparkling Matcha Lemonade', 'retail_price': '1.99'}, {'sku': '081001', 'item_title': 'Organic Margarita Mix', 'retail_price': '3.99'}, {'sku': '080887', 'item_title': 'Peony Scented Bath Fizzer', 'retail_price': '4.99'}, {'sku': '081212', 'item_title': 'Berry Glow Body Set', 'retail_price': '12.99'}, {'sku': '080886', 'item_title': 'Invisible Gel Body Sunscreen SPF 40', 'retail_price': '12.99'}, {'sku': '080885', 'item_title': 'Daily Facial Mineral Sunscreen SPF 40', 'retail_price': '12.99'}, {'sku': '076362', 'item_title': 'Spicy Pink Salt with Crushed Red Chili Pepper', 'retail_price': '1.99'}, {'sku': '076300', 'item_title': 'Fine Grain Pink Salt', 'retail_price': '1.69'}, {'sku': '079679', 'item_title': 'Okonomiyaki Japanese Vegetable Pancake', 'retail_price': '4.99'}, {'sku': '077090', 'item_title': 'Okonomiyaki Japanese Vegetable Pancake', 'retail_price': '4.99'}, {'sku': '075997', 'item_title': 'Japanese Mini Taiyaki', 'retail_price': '4.99'}, {'sku': '081213', 'item_title': 'Fresh Blooms Ultra Moisturizing Hand Cream', 'retail_price': '4.99'}, {'sku': '075638', 'item_title': 'Sweet, Spicy & Tart Chile Lime Flavored Seasoned Dried Strawberries', 'retail_price': '3.99'}, {'sku': '072499', 'item_title': 'Balsamic Vinaigrette', 'retail_price': '2.79'}, {'sku': '079060', 'item_title': 'Cinsault Rosé Maison Barboulot', 'retail_price': '5.99'}, {'sku': '060276', 'item_title': 'Emma Reichart Rosé Pinot Noir', 'retail_price': '4.99'}, {'sku': '078999', 'item_title': 'Sunday Brunch Chicken & Blueberry Waffle Recipe Dog Treats', 'retail_price': '3.49'}, {'sku': '081225', 'item_title': 'Pineapple Teriyaki Chicken Meatballs', 'retail_price': '4.29'}, {'sku': '080359', 'item_title': 'Night Cream', 'retail_price': '9.99'}, {'sku': '079986', 'item_title': 'Mini Pastel Canvas Tote Bags', 'retail_price': '2.99'}, {'sku': '079817', 'item_title': 'Garlic Butter Irish Potato Chips', 'retail_price': '2.99'}], 'total_count': 25722}}}\n"
     ]
    }
   ],
   "source": [
    "# Just mimicking the Haskell one\n",
    "\n",
    "store_code = 706\n",
    "\n",
    "query_string = \"\"\"\n",
    "query {\n",
    "  products(search: \"\", pageSize: 100) {\n",
    "    items {\n",
    "      sku\n",
    "      item_title\n",
    "      retail_price\n",
    "    }\n",
    "    total_count\n",
    "  }\n",
    "}\n",
    "\"\"\"\n",
    "\n",
    "headers = {\n",
    "    \"accept\": \"*/*\",\n",
    "    \"accept-language\": \"en-US,en;q=0.9\",\n",
    "    \"content-type\": \"application/json\",\n",
    "    \"user-agent\": \"Mozilla/5.0 (Macintosh; Intel Mac OS X 10_15_7) AppleWebKit/537.36 (KHTML, like Gecko) Chrome/136.0.0.0 Safari/537.36\",\n",
    "}\n",
    "\n",
    "\n",
    "query = {\n",
    "    \"operationName\": \"SearchProduct\",\n",
    "    \"variables\": {\n",
    "        \"storeCode\": \"706\",\n",
    "        \"published\": \"1\",\n",
    "        \"currentPage\": 1,\n",
    "        \"pageSize\": 100\n",
    "    },\n",
    "    \"query\": query_string\n",
    "}\n",
    "\n",
    "response = requests.post(url, json=query, headers=headers)\n",
    "\n",
    "if response.status_code == 200:\n",
    "    data = response.json()\n",
    "    # Process the data as needed\n",
    "    print(data)\n",
    "else:\n",
    "    print(f\"Request failed with status code {response.status_code}\")"
   ]
  },
  {
   "cell_type": "code",
   "execution_count": 132,
   "id": "03809bf5",
   "metadata": {},
   "outputs": [
    {
     "data": {
      "text/plain": [
       "25722"
      ]
     },
     "execution_count": 132,
     "metadata": {},
     "output_type": "execute_result"
    }
   ],
   "source": [
    "data['data']['products']['total_count']"
   ]
  },
  {
   "cell_type": "code",
   "execution_count": 133,
   "id": "2b13701d",
   "metadata": {},
   "outputs": [
    {
     "data": {
      "text/plain": [
       "100"
      ]
     },
     "execution_count": 133,
     "metadata": {},
     "output_type": "execute_result"
    }
   ],
   "source": [
    "len(data['data']['products']['items'])"
   ]
  },
  {
   "cell_type": "code",
   "execution_count": 134,
   "id": "40975b2e",
   "metadata": {},
   "outputs": [
    {
     "data": {
      "text/plain": [
       "[{'sku': '080626',\n",
       "  'item_title': 'Organic Baby Red Butter Lettuce & Baby Arugula',\n",
       "  'retail_price': '2.49'},\n",
       " {'sku': '097210',\n",
       "  'item_title': 'Fair Trade Turbinado Raw Cane Sugar',\n",
       "  'retail_price': '3.49'},\n",
       " {'sku': '082077',\n",
       "  'item_title': 'Mango Pineapple Pico de Gallo Salsa',\n",
       "  'retail_price': '3.99'},\n",
       " {'sku': '080470',\n",
       "  'item_title': 'Strawberry & Watermelon Marshmallows',\n",
       "  'retail_price': '2.99'},\n",
       " {'sku': '073162',\n",
       "  'item_title': 'Chocolate Croissants',\n",
       "  'retail_price': '3.49'},\n",
       " {'sku': '082097',\n",
       "  'item_title': 'Sunshine Mountain Vineyard Pinot Noir 2023',\n",
       "  'retail_price': '14.99'},\n",
       " {'sku': '079658',\n",
       "  'item_title': 'Strawberries & Cream Cloud Cake',\n",
       "  'retail_price': '6.49'},\n",
       " {'sku': '080323',\n",
       "  'item_title': 'Italian Pistachio & Fior di Latte Gelato Style Frozen Dessert',\n",
       "  'retail_price': '4.99'},\n",
       " {'sku': '080233', 'item_title': 'Cold Brew Coffee', 'retail_price': '3.29'},\n",
       " {'sku': '080349', 'item_title': 'Hot Honey Fudge', 'retail_price': '2.99'},\n",
       " {'sku': '079518',\n",
       "  'item_title': 'Freeze-Dried Just Salmon with Skin for Pets',\n",
       "  'retail_price': '5.49'},\n",
       " {'sku': '080967',\n",
       "  'item_title': 'Seasoned Lamb Shoulder Rack',\n",
       "  'retail_price': '11.99'},\n",
       " {'sku': '081792',\n",
       "  'item_title': 'Unexpected Broccoli Cheddar Soup',\n",
       "  'retail_price': '4.99'},\n",
       " {'sku': '080602', 'item_title': 'Risotto Semplice', 'retail_price': '3.99'},\n",
       " {'sku': '078613',\n",
       "  'item_title': 'Greek YogurtHoney Made with Whole Milk',\n",
       "  'retail_price': '0.99'},\n",
       " {'sku': '086453',\n",
       "  'item_title': 'Greek Lowfat Yogurt Plain',\n",
       "  'retail_price': '2.99'},\n",
       " {'sku': '082031',\n",
       "  'item_title': 'Korean Style Bibim-Guksu',\n",
       "  'retail_price': '4.99'},\n",
       " {'sku': '081310',\n",
       "  'item_title': 'Ranch Cottage Cheese Dip',\n",
       "  'retail_price': '3.99'},\n",
       " {'sku': '079959', 'item_title': 'Sandwich Starters', 'retail_price': '3.49'},\n",
       " {'sku': '080786',\n",
       "  'item_title': 'Watermelon Lip Mask',\n",
       "  'retail_price': '5.99'},\n",
       " {'sku': '081476',\n",
       "  'item_title': 'Glow Anywhere Sun Care Set',\n",
       "  'retail_price': '14.99'},\n",
       " {'sku': '079877',\n",
       "  'item_title': 'Strawberry Fields Gummy Candy',\n",
       "  'retail_price': '2.29'},\n",
       " {'sku': '079073',\n",
       "  'item_title': 'Single Origin 72% Cacao Dark Chocolate',\n",
       "  'retail_price': '2.49'},\n",
       " {'sku': '081510',\n",
       "  'item_title': 'Strawberry Mini Sheet Cake',\n",
       "  'retail_price': '5.99'},\n",
       " {'sku': '081299', 'item_title': 'Flatbread', 'retail_price': '2.99'},\n",
       " {'sku': '081523',\n",
       "  'item_title': 'Strawberry Doodle Cookies',\n",
       "  'retail_price': '5.49'},\n",
       " {'sku': '079514',\n",
       "  'item_title': 'Dark Choclate Thins On the Go! No Sugar Added',\n",
       "  'retail_price': '2.99'},\n",
       " {'sku': '081545',\n",
       "  'item_title': 'Patislove® Pistachio Dark Chocolate Dubai Style',\n",
       "  'retail_price': '3.99'},\n",
       " {'sku': '078527',\n",
       "  'item_title': 'French Galettes Butter Cookies',\n",
       "  'retail_price': '3.49'},\n",
       " {'sku': '080590',\n",
       "  'item_title': 'Organic Silken Tofu',\n",
       "  'retail_price': '2.49'},\n",
       " {'sku': '080324',\n",
       "  'item_title': 'Passion Fruit Sorbet',\n",
       "  'retail_price': '4.99'},\n",
       " {'sku': '078428',\n",
       "  'item_title': 'Spicy Dynamite Sauce',\n",
       "  'retail_price': '2.99'},\n",
       " {'sku': '062909',\n",
       "  'item_title': \"Coffee Lover's Espresso Beans\",\n",
       "  'retail_price': '1.29'},\n",
       " {'sku': '036420',\n",
       "  'item_title': 'Cilantro Salad Dressing',\n",
       "  'retail_price': '3.99'},\n",
       " {'sku': '080040',\n",
       "  'item_title': 'Hard Top Chocolate Shell Topping',\n",
       "  'retail_price': '3.29'},\n",
       " {'sku': '075995',\n",
       "  'item_title': 'Skipjack Tuna Fillets in Olive Oil',\n",
       "  'retail_price': '3.99'},\n",
       " {'sku': '077645',\n",
       "  'item_title': 'Boneless Grilled Mackerel Fillets',\n",
       "  'retail_price': '3.49'},\n",
       " {'sku': '080527', 'item_title': 'Meatball Calzone', 'retail_price': '6.99'},\n",
       " {'sku': '081316',\n",
       "  'item_title': 'Organic Sour Apple Watermelon Fruit Leather Wrap',\n",
       "  'retail_price': '0.49'},\n",
       " {'sku': '081067',\n",
       "  'item_title': 'Spicy Mango Habanero Guacamole',\n",
       "  'retail_price': '3.49'},\n",
       " {'sku': '081050',\n",
       "  'item_title': 'Roasted Tomato Labneh Dip',\n",
       "  'retail_price': '3.49'},\n",
       " {'sku': '080939',\n",
       "  'item_title': 'Cinnamon Swirl Bread Sliced',\n",
       "  'retail_price': '4.99'},\n",
       " {'sku': '079652', 'item_title': 'Parsley Crackers', 'retail_price': '2.49'},\n",
       " {'sku': '081300',\n",
       "  'item_title': 'Organic Guava Fruit Spread',\n",
       "  'retail_price': '2.99'},\n",
       " {'sku': '079860',\n",
       "  'item_title': 'Raspberry, Vanilla & Blueberry Macarons',\n",
       "  'retail_price': '5.99'},\n",
       " {'sku': '078104',\n",
       "  'item_title': 'Strawberry Baton Wafer Cookies',\n",
       "  'retail_price': '1.99'},\n",
       " {'sku': '081419',\n",
       "  'item_title': 'Organic Columbia Anei Fair Trade Small Lot Coffee',\n",
       "  'retail_price': '9.99'},\n",
       " {'sku': '080961',\n",
       "  'item_title': 'Toscano Cheese Crunchy Chili Onion',\n",
       "  'retail_price': '11.99'},\n",
       " {'sku': '081429',\n",
       "  'item_title': 'Root Beer Float Pieces',\n",
       "  'retail_price': '3.79'},\n",
       " {'sku': '081051',\n",
       "  'item_title': 'Sparkling Tea & Lemonade',\n",
       "  'retail_price': '1.99'},\n",
       " {'sku': '079998', 'item_title': 'Pretzel Buns', 'retail_price': '2.99'},\n",
       " {'sku': '079711', 'item_title': 'Potato Buns', 'retail_price': '3.49'},\n",
       " {'sku': '081725',\n",
       "  'item_title': 'Diamond Reserve Cabernet Sauvignon Napa Valley 2023',\n",
       "  'retail_price': '19.99'},\n",
       " {'sku': '081939',\n",
       "  'item_title': 'Copilot Pinot Noir 2023',\n",
       "  'retail_price': '7.99'},\n",
       " {'sku': '081938',\n",
       "  'item_title': 'Copilot Chardonnay 2023',\n",
       "  'retail_price': '7.99'},\n",
       " {'sku': '074895', 'item_title': 'Seedless Lemons', 'retail_price': '2.99'},\n",
       " {'sku': '075348',\n",
       "  'item_title': 'Sea Breeze Castile Hand Soap',\n",
       "  'retail_price': '3.99'},\n",
       " {'sku': '068492',\n",
       "  'item_title': 'Organic Ground Turmeric',\n",
       "  'retail_price': '1.99'},\n",
       " {'sku': '179344',\n",
       "  'item_title': 'Josephsbrau Grapefruit Radler',\n",
       "  'retail_price': '5.99'},\n",
       " {'sku': '081937',\n",
       "  'item_title': 'Tarongino Frizzante Sparkling Orange Wine',\n",
       "  'retail_price': '12.99'},\n",
       " {'sku': '067705',\n",
       "  'item_title': 'Synergistically Seasoned Popcorn',\n",
       "  'retail_price': '2.49'},\n",
       " {'sku': '061301',\n",
       "  'item_title': 'Lemon Basil Pasta Salad',\n",
       "  'retail_price': '4.99'},\n",
       " {'sku': '051403',\n",
       "  'item_title': 'Solid LIght Yellowfin Tuna in Olive Oil',\n",
       "  'retail_price': '2.49'},\n",
       " {'sku': '074667',\n",
       "  'item_title': 'Solid Light Yellowfin Tuna iin Extra Virgin Olive Oil',\n",
       "  'retail_price': '2.49'},\n",
       " {'sku': '074954',\n",
       "  'item_title': 'Organic Lemon Torchietti Pasta',\n",
       "  'retail_price': '2.99'},\n",
       " {'sku': '079429',\n",
       "  'item_title': 'Sweet & Spicy Rice Cracker Mix',\n",
       "  'retail_price': '2.49'},\n",
       " {'sku': '080525',\n",
       "  'item_title': 'Milton Creamery Morning Harvest Cheese',\n",
       "  'retail_price': '4.99'},\n",
       " {'sku': '081482',\n",
       "  'item_title': 'Teeny Tiny Strawberry Rhubarb Pies',\n",
       "  'retail_price': '5.49'},\n",
       " {'sku': '006237', 'item_title': 'Organic Tofu', 'retail_price': '2.49'},\n",
       " {'sku': '062988',\n",
       "  'item_title': 'Organic Mini Flour Tortillas',\n",
       "  'retail_price': '2.49'},\n",
       " {'sku': '093474', 'item_title': 'Hass Avocado', 'retail_price': '1.49'},\n",
       " {'sku': '080927',\n",
       "  'item_title': 'Buffalo Ranch Popcorn',\n",
       "  'retail_price': '2.99'},\n",
       " {'sku': '080307',\n",
       "  'item_title': 'Premium Beef Bone-In Rib Eye Steak',\n",
       "  'retail_price': '17.99'},\n",
       " {'sku': '081544',\n",
       "  'item_title': 'Garden Party Scented Candle',\n",
       "  'retail_price': '8.99'},\n",
       " {'sku': '080530', 'item_title': 'Margherita Pizza', 'retail_price': '4.79'},\n",
       " {'sku': '081060',\n",
       "  'item_title': 'Roasted Green Vegetables',\n",
       "  'retail_price': '4.99'},\n",
       " {'sku': '081837',\n",
       "  'item_title': 'Fiesta Salad with Shrimp',\n",
       "  'retail_price': '6.99'},\n",
       " {'sku': '079345',\n",
       "  'item_title': 'Citrus Berry Herbal Tea',\n",
       "  'retail_price': '2.99'},\n",
       " {'sku': '078932',\n",
       "  'item_title': 'Sour Strawberry Candy Belts',\n",
       "  'retail_price': '3.49'},\n",
       " {'sku': '079235',\n",
       "  'item_title': 'Sparkling Matcha Lemonade',\n",
       "  'retail_price': '1.99'},\n",
       " {'sku': '081001',\n",
       "  'item_title': 'Organic Margarita Mix',\n",
       "  'retail_price': '3.99'},\n",
       " {'sku': '080887',\n",
       "  'item_title': 'Peony Scented Bath Fizzer',\n",
       "  'retail_price': '4.99'},\n",
       " {'sku': '081212',\n",
       "  'item_title': 'Berry Glow Body Set',\n",
       "  'retail_price': '12.99'},\n",
       " {'sku': '080886',\n",
       "  'item_title': 'Invisible Gel Body Sunscreen SPF 40',\n",
       "  'retail_price': '12.99'},\n",
       " {'sku': '080885',\n",
       "  'item_title': 'Daily Facial Mineral Sunscreen SPF 40',\n",
       "  'retail_price': '12.99'},\n",
       " {'sku': '076362',\n",
       "  'item_title': 'Spicy Pink Salt with Crushed Red Chili Pepper',\n",
       "  'retail_price': '1.99'},\n",
       " {'sku': '076300',\n",
       "  'item_title': 'Fine Grain Pink Salt',\n",
       "  'retail_price': '1.69'},\n",
       " {'sku': '079679',\n",
       "  'item_title': 'Okonomiyaki Japanese Vegetable Pancake',\n",
       "  'retail_price': '4.99'},\n",
       " {'sku': '077090',\n",
       "  'item_title': 'Okonomiyaki Japanese Vegetable Pancake',\n",
       "  'retail_price': '4.99'},\n",
       " {'sku': '075997',\n",
       "  'item_title': 'Japanese Mini Taiyaki',\n",
       "  'retail_price': '4.99'},\n",
       " {'sku': '081213',\n",
       "  'item_title': 'Fresh Blooms Ultra Moisturizing Hand Cream',\n",
       "  'retail_price': '4.99'},\n",
       " {'sku': '075638',\n",
       "  'item_title': 'Sweet, Spicy & Tart Chile Lime Flavored Seasoned Dried Strawberries',\n",
       "  'retail_price': '3.99'},\n",
       " {'sku': '072499',\n",
       "  'item_title': 'Balsamic Vinaigrette',\n",
       "  'retail_price': '2.79'},\n",
       " {'sku': '079060',\n",
       "  'item_title': 'Cinsault Rosé Maison Barboulot',\n",
       "  'retail_price': '5.99'},\n",
       " {'sku': '060276',\n",
       "  'item_title': 'Emma Reichart Rosé Pinot Noir',\n",
       "  'retail_price': '4.99'},\n",
       " {'sku': '078999',\n",
       "  'item_title': 'Sunday Brunch Chicken & Blueberry Waffle Recipe Dog Treats',\n",
       "  'retail_price': '3.49'},\n",
       " {'sku': '081225',\n",
       "  'item_title': 'Pineapple Teriyaki Chicken Meatballs',\n",
       "  'retail_price': '4.29'},\n",
       " {'sku': '080359', 'item_title': 'Night Cream', 'retail_price': '9.99'},\n",
       " {'sku': '079986',\n",
       "  'item_title': 'Mini Pastel Canvas Tote Bags',\n",
       "  'retail_price': '2.99'},\n",
       " {'sku': '079817',\n",
       "  'item_title': 'Garlic Butter Irish Potato Chips',\n",
       "  'retail_price': '2.99'}]"
      ]
     },
     "execution_count": 134,
     "metadata": {},
     "output_type": "execute_result"
    }
   ],
   "source": [
    "data['data']['products']['items']"
   ]
  },
  {
   "cell_type": "markdown",
   "id": "1b78eb95",
   "metadata": {},
   "source": [
    "### \"Introspecting\" all defined queries in the API"
   ]
  },
  {
   "cell_type": "markdown",
   "id": "3675165a",
   "metadata": {},
   "source": [
    "These are all of the queries available to use. The `description` explains vaguely how they are used.\n",
    "\n",
    "**NB: This is not telling us much about attributes that the queries return, only how to perform the query (how to search, filter, limit number of results).**"
   ]
  },
  {
   "cell_type": "code",
   "execution_count": 135,
   "id": "cf4fcbed",
   "metadata": {},
   "outputs": [
    {
     "data": {
      "text/plain": [
       "[{'name': 'availableStores',\n",
       "  'description': 'Get a list of available store views and their config information.',\n",
       "  'args': [{'name': 'useCurrentGroup',\n",
       "    'description': 'Filter store views by the current store group.',\n",
       "    'type': {'name': 'Boolean', 'kind': 'SCALAR', 'ofType': None},\n",
       "    'defaultValue': None}],\n",
       "  'type': {'name': None,\n",
       "   'kind': 'LIST',\n",
       "   'ofType': {'name': 'StoreConfig', 'kind': 'OBJECT'}}},\n",
       " {'name': 'cart',\n",
       "  'description': 'Return information about the specified shopping cart.',\n",
       "  'args': [{'name': 'cart_id',\n",
       "    'description': 'The unique ID of the cart to query.',\n",
       "    'type': {'name': None,\n",
       "     'kind': 'NON_NULL',\n",
       "     'ofType': {'name': 'String', 'kind': 'SCALAR'}},\n",
       "    'defaultValue': None}],\n",
       "  'type': {'name': 'Cart', 'kind': 'OBJECT', 'ofType': None}},\n",
       " {'name': 'categories',\n",
       "  'description': 'Return a list of categories that match the specified filter.',\n",
       "  'args': [{'name': 'filters',\n",
       "    'description': 'Identifies which Category filter inputs to search for and return.',\n",
       "    'type': {'name': 'CategoryFilterInput',\n",
       "     'kind': 'INPUT_OBJECT',\n",
       "     'ofType': None},\n",
       "    'defaultValue': None},\n",
       "   {'name': 'pageSize',\n",
       "    'description': 'Specifies the maximum number of results to return at once. The default value is 20.',\n",
       "    'type': {'name': 'Int', 'kind': 'SCALAR', 'ofType': None},\n",
       "    'defaultValue': '20'},\n",
       "   {'name': 'currentPage',\n",
       "    'description': 'Specifies which page of results to return. The default value is 1.',\n",
       "    'type': {'name': 'Int', 'kind': 'SCALAR', 'ofType': None},\n",
       "    'defaultValue': '1'}],\n",
       "  'type': {'name': 'CategoryResult', 'kind': 'OBJECT', 'ofType': None}},\n",
       " {'name': 'categoryList',\n",
       "  'description': 'Return an array of categories based on the specified filters.',\n",
       "  'args': [{'name': 'filters',\n",
       "    'description': 'Identifies which Category filter inputs to search for and return.',\n",
       "    'type': {'name': 'CategoryFilterInput',\n",
       "     'kind': 'INPUT_OBJECT',\n",
       "     'ofType': None},\n",
       "    'defaultValue': None}],\n",
       "  'type': {'name': None,\n",
       "   'kind': 'LIST',\n",
       "   'ofType': {'name': 'CategoryTree', 'kind': 'OBJECT'}}},\n",
       " {'name': 'checkoutAgreements',\n",
       "  'description': 'Return Terms and Conditions configuration information.',\n",
       "  'args': [],\n",
       "  'type': {'name': None,\n",
       "   'kind': 'LIST',\n",
       "   'ofType': {'name': 'CheckoutAgreement', 'kind': 'OBJECT'}}},\n",
       " {'name': 'cmsBlocks',\n",
       "  'description': 'Return information about CMS blocks.',\n",
       "  'args': [{'name': 'identifiers',\n",
       "    'description': 'An array of CMS block IDs.',\n",
       "    'type': {'name': None,\n",
       "     'kind': 'LIST',\n",
       "     'ofType': {'name': 'String', 'kind': 'SCALAR'}},\n",
       "    'defaultValue': None}],\n",
       "  'type': {'name': 'CmsBlocks', 'kind': 'OBJECT', 'ofType': None}},\n",
       " {'name': 'cmsPage',\n",
       "  'description': 'Return details about a CMS page.',\n",
       "  'args': [{'name': 'id',\n",
       "    'description': 'The ID of the CMS page.',\n",
       "    'type': {'name': 'Int', 'kind': 'SCALAR', 'ofType': None},\n",
       "    'defaultValue': None},\n",
       "   {'name': 'identifier',\n",
       "    'description': 'The identifier of the CMS page.',\n",
       "    'type': {'name': 'String', 'kind': 'SCALAR', 'ofType': None},\n",
       "    'defaultValue': None}],\n",
       "  'type': {'name': 'CmsPage', 'kind': 'OBJECT', 'ofType': None}},\n",
       " {'name': 'compareList',\n",
       "  'description': 'Return products that have been added to the specified compare list.',\n",
       "  'args': [{'name': 'uid',\n",
       "    'description': 'The unique ID of the compare list to be queried.',\n",
       "    'type': {'name': None,\n",
       "     'kind': 'NON_NULL',\n",
       "     'ofType': {'name': 'ID', 'kind': 'SCALAR'}},\n",
       "    'defaultValue': None}],\n",
       "  'type': {'name': 'CompareList', 'kind': 'OBJECT', 'ofType': None}},\n",
       " {'name': 'countries',\n",
       "  'description': 'The countries query provides information for all countries.',\n",
       "  'args': [],\n",
       "  'type': {'name': None,\n",
       "   'kind': 'LIST',\n",
       "   'ofType': {'name': 'Country', 'kind': 'OBJECT'}}},\n",
       " {'name': 'country',\n",
       "  'description': 'The countries query provides information for a single country.',\n",
       "  'args': [{'name': 'id',\n",
       "    'description': '',\n",
       "    'type': {'name': 'String', 'kind': 'SCALAR', 'ofType': None},\n",
       "    'defaultValue': None}],\n",
       "  'type': {'name': 'Country', 'kind': 'OBJECT', 'ofType': None}},\n",
       " {'name': 'currency',\n",
       "  'description': \"Return information about the store's currency.\",\n",
       "  'args': [],\n",
       "  'type': {'name': 'Currency', 'kind': 'OBJECT', 'ofType': None}},\n",
       " {'name': 'customAttributeMetadata',\n",
       "  'description': 'Return the attribute type, given an attribute code and entity type.',\n",
       "  'args': [{'name': 'attributes',\n",
       "    'description': 'An input object that specifies the attribute code and entity type to search.',\n",
       "    'type': {'name': None,\n",
       "     'kind': 'NON_NULL',\n",
       "     'ofType': {'name': None, 'kind': 'LIST'}},\n",
       "    'defaultValue': None}],\n",
       "  'type': {'name': 'CustomAttributeMetadata',\n",
       "   'kind': 'OBJECT',\n",
       "   'ofType': None}},\n",
       " {'name': 'customer',\n",
       "  'description': 'Return detailed information about a customer account.',\n",
       "  'args': [],\n",
       "  'type': {'name': 'Customer', 'kind': 'OBJECT', 'ofType': None}},\n",
       " {'name': 'customerCart',\n",
       "  'description': \"Return information about the customer's shopping cart.\",\n",
       "  'args': [],\n",
       "  'type': {'name': None,\n",
       "   'kind': 'NON_NULL',\n",
       "   'ofType': {'name': 'Cart', 'kind': 'OBJECT'}}},\n",
       " {'name': 'customerDownloadableProducts',\n",
       "  'description': 'Return a list of downloadable products the customer has purchased.',\n",
       "  'args': [],\n",
       "  'type': {'name': 'CustomerDownloadableProducts',\n",
       "   'kind': 'OBJECT',\n",
       "   'ofType': None}},\n",
       " {'name': 'customerPaymentTokens',\n",
       "  'description': 'Return a list of customer payment tokens stored in the vault.',\n",
       "  'args': [],\n",
       "  'type': {'name': 'CustomerPaymentTokens', 'kind': 'OBJECT', 'ofType': None}},\n",
       " {'name': 'dynamicBlocks',\n",
       "  'description': 'Return a list of dynamic blocks filtered by type, location, or UIDs.',\n",
       "  'args': [{'name': 'input',\n",
       "    'description': 'Defines the filter for returning matching dynamic blocks.',\n",
       "    'type': {'name': 'DynamicBlocksFilterInput',\n",
       "     'kind': 'INPUT_OBJECT',\n",
       "     'ofType': None},\n",
       "    'defaultValue': None},\n",
       "   {'name': 'pageSize',\n",
       "    'description': 'The maximum number of results to return at once. The default is 20.',\n",
       "    'type': {'name': 'Int', 'kind': 'SCALAR', 'ofType': None},\n",
       "    'defaultValue': '20'},\n",
       "   {'name': 'currentPage',\n",
       "    'description': 'The page of results to return. The default is 1.',\n",
       "    'type': {'name': 'Int', 'kind': 'SCALAR', 'ofType': None},\n",
       "    'defaultValue': '1'}],\n",
       "  'type': {'name': None,\n",
       "   'kind': 'NON_NULL',\n",
       "   'ofType': {'name': 'DynamicBlocks', 'kind': 'OBJECT'}}},\n",
       " {'name': 'getHostedProUrl',\n",
       "  'description': 'Retrieve the secure PayPal URL for a Payments Pro Hosted Solution transaction.',\n",
       "  'args': [{'name': 'input',\n",
       "    'description': 'An input object that specifies the cart ID.',\n",
       "    'type': {'name': None,\n",
       "     'kind': 'NON_NULL',\n",
       "     'ofType': {'name': 'HostedProUrlInput', 'kind': 'INPUT_OBJECT'}},\n",
       "    'defaultValue': None}],\n",
       "  'type': {'name': 'HostedProUrl', 'kind': 'OBJECT', 'ofType': None}},\n",
       " {'name': 'getPayflowLinkToken',\n",
       "  'description': 'Retrieve payment credentials for a transaction. Use this query for Payflow Link and Payments Advanced payment methods.',\n",
       "  'args': [{'name': 'input',\n",
       "    'description': 'An input object that defines the requirements to receive a payment token.',\n",
       "    'type': {'name': None,\n",
       "     'kind': 'NON_NULL',\n",
       "     'ofType': {'name': 'PayflowLinkTokenInput', 'kind': 'INPUT_OBJECT'}},\n",
       "    'defaultValue': None}],\n",
       "  'type': {'name': 'PayflowLinkToken', 'kind': 'OBJECT', 'ofType': None}},\n",
       " {'name': 'giftCardAccount',\n",
       "  'description': 'Return details about a specific gift card.',\n",
       "  'args': [{'name': 'input',\n",
       "    'description': 'An input object that specifies the gift card code.',\n",
       "    'type': {'name': None,\n",
       "     'kind': 'NON_NULL',\n",
       "     'ofType': {'name': 'GiftCardAccountInput', 'kind': 'INPUT_OBJECT'}},\n",
       "    'defaultValue': None}],\n",
       "  'type': {'name': 'GiftCardAccount', 'kind': 'OBJECT', 'ofType': None}},\n",
       " {'name': 'giftRegistry',\n",
       "  'description': 'Return the specified gift registry. Some details will not be available to guests.',\n",
       "  'args': [{'name': 'giftRegistryUid',\n",
       "    'description': 'The unique ID of the registry to search for.',\n",
       "    'type': {'name': None,\n",
       "     'kind': 'NON_NULL',\n",
       "     'ofType': {'name': 'ID', 'kind': 'SCALAR'}},\n",
       "    'defaultValue': None}],\n",
       "  'type': {'name': 'GiftRegistry', 'kind': 'OBJECT', 'ofType': None}},\n",
       " {'name': 'giftRegistryEmailSearch',\n",
       "  'description': 'Search for gift registries by specifying a registrant email address.',\n",
       "  'args': [{'name': 'email',\n",
       "    'description': \"The registrant's email.\",\n",
       "    'type': {'name': None,\n",
       "     'kind': 'NON_NULL',\n",
       "     'ofType': {'name': 'String', 'kind': 'SCALAR'}},\n",
       "    'defaultValue': None}],\n",
       "  'type': {'name': None,\n",
       "   'kind': 'LIST',\n",
       "   'ofType': {'name': 'GiftRegistrySearchResult', 'kind': 'OBJECT'}}},\n",
       " {'name': 'giftRegistryIdSearch',\n",
       "  'description': 'Search for gift registries by specifying a registry URL key.',\n",
       "  'args': [{'name': 'giftRegistryUid',\n",
       "    'description': 'The unique ID of the gift registry.',\n",
       "    'type': {'name': None,\n",
       "     'kind': 'NON_NULL',\n",
       "     'ofType': {'name': 'ID', 'kind': 'SCALAR'}},\n",
       "    'defaultValue': None}],\n",
       "  'type': {'name': None,\n",
       "   'kind': 'LIST',\n",
       "   'ofType': {'name': 'GiftRegistrySearchResult', 'kind': 'OBJECT'}}},\n",
       " {'name': 'giftRegistryTypeSearch',\n",
       "  'description': 'Search for gift registries by specifying the registrant name and registry type ID.',\n",
       "  'args': [{'name': 'firstName',\n",
       "    'description': 'The first name of the registrant.',\n",
       "    'type': {'name': None,\n",
       "     'kind': 'NON_NULL',\n",
       "     'ofType': {'name': 'String', 'kind': 'SCALAR'}},\n",
       "    'defaultValue': None},\n",
       "   {'name': 'lastName',\n",
       "    'description': 'The last name of the registrant.',\n",
       "    'type': {'name': None,\n",
       "     'kind': 'NON_NULL',\n",
       "     'ofType': {'name': 'String', 'kind': 'SCALAR'}},\n",
       "    'defaultValue': None},\n",
       "   {'name': 'giftRegistryTypeUid',\n",
       "    'description': 'The type UID of the registry.',\n",
       "    'type': {'name': 'ID', 'kind': 'SCALAR', 'ofType': None},\n",
       "    'defaultValue': None}],\n",
       "  'type': {'name': None,\n",
       "   'kind': 'LIST',\n",
       "   'ofType': {'name': 'GiftRegistrySearchResult', 'kind': 'OBJECT'}}},\n",
       " {'name': 'giftRegistryTypes',\n",
       "  'description': 'Get a list of available gift registry types.',\n",
       "  'args': [],\n",
       "  'type': {'name': None,\n",
       "   'kind': 'LIST',\n",
       "   'ofType': {'name': 'GiftRegistryType', 'kind': 'OBJECT'}}},\n",
       " {'name': 'isEmailAvailable',\n",
       "  'description': 'Check whether the specified email has already been used to create a customer account.',\n",
       "  'args': [{'name': 'email',\n",
       "    'description': 'The email address to check.',\n",
       "    'type': {'name': None,\n",
       "     'kind': 'NON_NULL',\n",
       "     'ofType': {'name': 'String', 'kind': 'SCALAR'}},\n",
       "    'defaultValue': None}],\n",
       "  'type': {'name': 'IsEmailAvailableOutput',\n",
       "   'kind': 'OBJECT',\n",
       "   'ofType': None}},\n",
       " {'name': 'pickupLocations',\n",
       "  'description': 'The pickup locations query searches for locations that match the search request requirements.',\n",
       "  'args': [{'name': 'area',\n",
       "    'description': 'Perform search by location using radius and search term.',\n",
       "    'type': {'name': 'AreaInput', 'kind': 'INPUT_OBJECT', 'ofType': None},\n",
       "    'defaultValue': None},\n",
       "   {'name': 'filters',\n",
       "    'description': 'Apply filters by attributes.',\n",
       "    'type': {'name': 'PickupLocationFilterInput',\n",
       "     'kind': 'INPUT_OBJECT',\n",
       "     'ofType': None},\n",
       "    'defaultValue': None},\n",
       "   {'name': 'sort',\n",
       "    'description': 'Specifies which attribute to sort on, and whether to return the results in ascending or descending order.',\n",
       "    'type': {'name': 'PickupLocationSortInput',\n",
       "     'kind': 'INPUT_OBJECT',\n",
       "     'ofType': None},\n",
       "    'defaultValue': None},\n",
       "   {'name': 'pageSize',\n",
       "    'description': 'The maximum number of pickup locations to return at once. The attribute is optional.',\n",
       "    'type': {'name': 'Int', 'kind': 'SCALAR', 'ofType': None},\n",
       "    'defaultValue': '20'},\n",
       "   {'name': 'currentPage',\n",
       "    'description': 'Specifies which page of results to return. The default value is 1.',\n",
       "    'type': {'name': 'Int', 'kind': 'SCALAR', 'ofType': None},\n",
       "    'defaultValue': '1'},\n",
       "   {'name': 'productsInfo',\n",
       "    'description': 'Information about products which should be delivered.',\n",
       "    'type': {'name': None,\n",
       "     'kind': 'LIST',\n",
       "     'ofType': {'name': 'ProductInfoInput', 'kind': 'INPUT_OBJECT'}},\n",
       "    'defaultValue': None}],\n",
       "  'type': {'name': 'PickupLocations', 'kind': 'OBJECT', 'ofType': None}},\n",
       " {'name': 'productReviewRatingsMetadata',\n",
       "  'description': 'Return the active ratings attributes and the values each rating can have.',\n",
       "  'args': [],\n",
       "  'type': {'name': None,\n",
       "   'kind': 'NON_NULL',\n",
       "   'ofType': {'name': 'ProductReviewRatingsMetadata', 'kind': 'OBJECT'}}},\n",
       " {'name': 'products',\n",
       "  'description': 'Search for products that match the criteria specified in the `search` and `filter` attributes.',\n",
       "  'args': [{'name': 'search',\n",
       "    'description': 'One or more keywords to use in a full-text search.',\n",
       "    'type': {'name': 'String', 'kind': 'SCALAR', 'ofType': None},\n",
       "    'defaultValue': None},\n",
       "   {'name': 'filter',\n",
       "    'description': 'The product attributes to search for and return.',\n",
       "    'type': {'name': 'ProductAttributeFilterInput',\n",
       "     'kind': 'INPUT_OBJECT',\n",
       "     'ofType': None},\n",
       "    'defaultValue': None},\n",
       "   {'name': 'pageSize',\n",
       "    'description': 'The maximum number of results to return at once. The default value is 20.',\n",
       "    'type': {'name': 'Int', 'kind': 'SCALAR', 'ofType': None},\n",
       "    'defaultValue': '20'},\n",
       "   {'name': 'currentPage',\n",
       "    'description': 'The page of results to return. The default value is 1.',\n",
       "    'type': {'name': 'Int', 'kind': 'SCALAR', 'ofType': None},\n",
       "    'defaultValue': '1'},\n",
       "   {'name': 'sort',\n",
       "    'description': 'Specifies which attributes to sort on, and whether to return the results in ascending or descending order.',\n",
       "    'type': {'name': 'ProductAttributeSortInput',\n",
       "     'kind': 'INPUT_OBJECT',\n",
       "     'ofType': None},\n",
       "    'defaultValue': None}],\n",
       "  'type': {'name': 'Products', 'kind': 'OBJECT', 'ofType': None}},\n",
       " {'name': 'route',\n",
       "  'description': 'Return the full details for a specified product, category, or CMS page.',\n",
       "  'args': [{'name': 'url',\n",
       "    'description': 'A `url_key` appended by the `url_suffix, if one exists.',\n",
       "    'type': {'name': None,\n",
       "     'kind': 'NON_NULL',\n",
       "     'ofType': {'name': 'String', 'kind': 'SCALAR'}},\n",
       "    'defaultValue': None}],\n",
       "  'type': {'name': 'RoutableInterface', 'kind': 'INTERFACE', 'ofType': None}},\n",
       " {'name': 'storeConfig',\n",
       "  'description': \"Return details about the store's configuration.\",\n",
       "  'args': [],\n",
       "  'type': {'name': 'StoreConfig', 'kind': 'OBJECT', 'ofType': None}},\n",
       " {'name': 'viewMoreFilter',\n",
       "  'description': 'The viewMoreFilter query searches for all values of a given filter name in a specific context.',\n",
       "  'args': [{'name': 'filterName',\n",
       "    'description': 'The filter name to get all values for.',\n",
       "    'type': {'name': None,\n",
       "     'kind': 'NON_NULL',\n",
       "     'ofType': {'name': 'String', 'kind': 'SCALAR'}},\n",
       "    'defaultValue': None},\n",
       "   {'name': 'search',\n",
       "    'description': 'Current search query of the product context, if any.',\n",
       "    'type': {'name': 'String', 'kind': 'SCALAR', 'ofType': None},\n",
       "    'defaultValue': None},\n",
       "   {'name': 'filter',\n",
       "    'description': 'Current applied filters of the product context, if any.',\n",
       "    'type': {'name': 'ProductAttributeFilterInput',\n",
       "     'kind': 'INPUT_OBJECT',\n",
       "     'ofType': None},\n",
       "    'defaultValue': None}],\n",
       "  'type': {'name': 'ViewMoreResult', 'kind': 'OBJECT', 'ofType': None}}]"
      ]
     },
     "execution_count": 135,
     "metadata": {},
     "output_type": "execute_result"
    }
   ],
   "source": [
    "query_query_schema = \"\"\"\n",
    "{\n",
    "  __type(name: \"Query\") {\n",
    "    name\n",
    "    kind\n",
    "    description\n",
    "    fields {\n",
    "      name\n",
    "      description\n",
    "      args {\n",
    "        name\n",
    "        description\n",
    "        type {\n",
    "          name\n",
    "          kind\n",
    "          ofType {\n",
    "            name\n",
    "            kind\n",
    "          }\n",
    "        }\n",
    "        defaultValue\n",
    "      }\n",
    "      type {\n",
    "        name\n",
    "        kind\n",
    "        ofType {\n",
    "          name\n",
    "          kind\n",
    "        }\n",
    "      }\n",
    "    }\n",
    "  }\n",
    "}\n",
    "\"\"\"\n",
    "response = requests.post(url, json={\"query\": query_query_schema}, headers=headers)\n",
    "qschema = response.json()\n",
    "qschema['data']['__type']['fields']\n"
   ]
  },
  {
   "cell_type": "code",
   "execution_count": null,
   "id": "642addf2",
   "metadata": {},
   "outputs": [],
   "source": [
    "# {'name': 'products',\n",
    "#   'description': 'Search for products that match the criteria specified in the `search` and `filter` attributes.',\n",
    "#   'args': [\n",
    "#    {'name': 'search',\n",
    "#     'description': 'One or more keywords to use in a full-text search.',\n",
    "#     'type': {'name': 'String', 'kind': 'SCALAR', 'ofType': None},\n",
    "#     'defaultValue': None},\n",
    "#    {'name': 'filter',\n",
    "#     'description': 'The product attributes to search for and return.',\n",
    "#     'type': {'name': 'ProductAttributeFilterInput',\n",
    "#      'kind': 'INPUT_OBJECT',\n",
    "#      'ofType': None},\n",
    "#     'defaultValue': None},\n",
    "#    {'name': 'pageSize',\n",
    "#     'description': 'The maximum number of results to return at once. The default value is 20.',\n",
    "#     'type': {'name': 'Int', 'kind': 'SCALAR', 'ofType': None},\n",
    "#     'defaultValue': '20'},\n",
    "#    {'name': 'currentPage',\n",
    "#     'description': 'The page of results to return. The default value is 1.',\n",
    "#     'type': {'name': 'Int', 'kind': 'SCALAR', 'ofType': None},\n",
    "#     'defaultValue': '1'},\n",
    "#    {'name': 'sort',\n",
    "#     'description': 'Specifies which attributes to sort on, and whether to return the results in ascending or descending order.',\n",
    "#     'type': {'name': 'ProductAttributeSortInput',\n",
    "#      'kind': 'INPUT_OBJECT',\n",
    "#      'ofType': None},\n",
    "#     'defaultValue': None}\n",
    "#    ],\n",
    "#   'type': {'name': 'Products', 'kind': 'OBJECT', 'ofType': None}}"
   ]
  },
  {
   "cell_type": "markdown",
   "id": "1d7c28a8",
   "metadata": {},
   "source": [
    "This actually gets the fields in a `Products` object."
   ]
  },
  {
   "cell_type": "code",
   "execution_count": 136,
   "id": "9d959e91",
   "metadata": {},
   "outputs": [],
   "source": [
    "query_product_fields = \"\"\"\n",
    "{\n",
    "  __type(name: \"Products\") {\n",
    "    name\n",
    "    kind\n",
    "    fields {\n",
    "      name\n",
    "      description\n",
    "      type {\n",
    "        name\n",
    "        kind\n",
    "        ofType {\n",
    "          name\n",
    "          kind\n",
    "        }\n",
    "      }\n",
    "    }\n",
    "  }\n",
    "}\n",
    "\"\"\"\n",
    "product_fields_response = requests.post(url, json={\"query\": query_product_fields}, headers=headers)\n",
    "\n",
    "product_fields = product_fields_response.json()\n",
    "# product_fields"
   ]
  },
  {
   "cell_type": "code",
   "execution_count": 137,
   "id": "27afd903",
   "metadata": {},
   "outputs": [
    {
     "data": {
      "text/plain": [
       "[{'name': 'aggregations',\n",
       "  'description': 'A bucket that contains the attribute code and label for each filterable option.',\n",
       "  'type': {'name': None,\n",
       "   'kind': 'LIST',\n",
       "   'ofType': {'name': 'Aggregation', 'kind': 'OBJECT'}}},\n",
       " {'name': 'items',\n",
       "  'description': 'An array of products that match the specified search criteria.',\n",
       "  'type': {'name': None,\n",
       "   'kind': 'LIST',\n",
       "   'ofType': {'name': 'ProductInterface', 'kind': 'INTERFACE'}}},\n",
       " {'name': 'page_info',\n",
       "  'description': 'An object that includes the page_info and currentPage values specified in the query.',\n",
       "  'type': {'name': 'SearchResultPageInfo', 'kind': 'OBJECT', 'ofType': None}},\n",
       " {'name': 'sort_fields',\n",
       "  'description': 'An object that includes the default sort field and all available sort fields.',\n",
       "  'type': {'name': 'SortFields', 'kind': 'OBJECT', 'ofType': None}},\n",
       " {'name': 'suggestions',\n",
       "  'description': 'An array of search suggestions for case when search query have no results.',\n",
       "  'type': {'name': None,\n",
       "   'kind': 'LIST',\n",
       "   'ofType': {'name': 'SearchSuggestion', 'kind': 'OBJECT'}}},\n",
       " {'name': 'total_count',\n",
       "  'description': 'The number of products that are marked as visible. By default, in complex products, parent products are visible, but their child products are not.',\n",
       "  'type': {'name': 'Int', 'kind': 'SCALAR', 'ofType': None}}]"
      ]
     },
     "execution_count": 137,
     "metadata": {},
     "output_type": "execute_result"
    }
   ],
   "source": [
    "product_fields['data']['__type']['fields']"
   ]
  },
  {
   "cell_type": "markdown",
   "id": "1f9d56ad",
   "metadata": {},
   "source": [
    "So apparently, `ProductInterface` is the actual class we are concerned with, as `Product` only contains an `items` attribute of many products that matched the given query."
   ]
  },
  {
   "cell_type": "code",
   "execution_count": 138,
   "id": "c9a44275",
   "metadata": {},
   "outputs": [],
   "source": [
    "query_productinterface_fields = \"\"\"\n",
    "{\n",
    "  __type(name: \"ProductInterface\") {\n",
    "    name\n",
    "    kind\n",
    "    fields {\n",
    "      name\n",
    "      description\n",
    "      type {\n",
    "        name\n",
    "        kind\n",
    "        ofType {\n",
    "          name\n",
    "          kind\n",
    "        }\n",
    "      }\n",
    "    }\n",
    "  }\n",
    "}\n",
    "\"\"\"\n",
    "productinterface_fields_response = requests.post(url, json={\"query\": query_productinterface_fields}, headers=headers)\n",
    "\n",
    "productinterface_fields = productinterface_fields_response.json()"
   ]
  },
  {
   "cell_type": "code",
   "execution_count": 139,
   "id": "73e85abf",
   "metadata": {},
   "outputs": [
    {
     "data": {
      "text/plain": [
       "[{'name': 'all_context_images',\n",
       "  'description': 'Array of all context images',\n",
       "  'type': {'name': None,\n",
       "   'kind': 'LIST',\n",
       "   'ofType': {'name': 'StoreSpecificImages', 'kind': 'OBJECT'}}},\n",
       " {'name': 'all_other_images',\n",
       "  'description': 'Array of all other image attributes info',\n",
       "  'type': {'name': None,\n",
       "   'kind': 'LIST',\n",
       "   'ofType': {'name': 'StoreSpecificImages', 'kind': 'OBJECT'}}},\n",
       " {'name': 'all_primary_images',\n",
       "  'description': 'Array of all primary images',\n",
       "  'type': {'name': None,\n",
       "   'kind': 'LIST',\n",
       "   'ofType': {'name': 'StoreSpecificImages', 'kind': 'OBJECT'}}},\n",
       " {'name': 'allergens',\n",
       "  'description': \"Product's Allergens\",\n",
       "  'type': {'name': None,\n",
       "   'kind': 'LIST',\n",
       "   'ofType': {'name': 'IngredientsAttribute', 'kind': 'OBJECT'}}},\n",
       " {'name': 'availability',\n",
       "  'description': 'Availability on the specified store',\n",
       "  'type': {'name': 'String', 'kind': 'SCALAR', 'ofType': None}},\n",
       " {'name': 'canonical_url',\n",
       "  'description': \"The relative canonical URL. This value is returned only if the system setting 'Use Canonical Link Meta Tag For Products' is enabled.\",\n",
       "  'type': {'name': 'String', 'kind': 'SCALAR', 'ofType': None}},\n",
       " {'name': 'categories',\n",
       "  'description': 'The categories assigned to a product.',\n",
       "  'type': {'name': None,\n",
       "   'kind': 'LIST',\n",
       "   'ofType': {'name': 'CategoryInterface', 'kind': 'INTERFACE'}}},\n",
       " {'name': 'category_code',\n",
       "  'description': None,\n",
       "  'type': {'name': 'String', 'kind': 'SCALAR', 'ofType': None}},\n",
       " {'name': 'category_hierarchy',\n",
       "  'description': \"Product's Category hierarchy\",\n",
       "  'type': {'name': None,\n",
       "   'kind': 'LIST',\n",
       "   'ofType': {'name': 'CategoryInterface', 'kind': 'INTERFACE'}}},\n",
       " {'name': 'color',\n",
       "  'description': None,\n",
       "  'type': {'name': 'Int', 'kind': 'SCALAR', 'ofType': None}},\n",
       " {'name': 'context_image',\n",
       "  'description': 'Retail price on the specified store',\n",
       "  'type': {'name': 'String', 'kind': 'SCALAR', 'ofType': None}},\n",
       " {'name': 'context_image_meta',\n",
       "  'description': 'Retail price on the specified store',\n",
       "  'type': {'name': 'ImageWithMeta', 'kind': 'OBJECT', 'ofType': None}},\n",
       " {'name': 'country_of_manufacture',\n",
       "  'description': \"The product's country of origin.\",\n",
       "  'type': {'name': 'String', 'kind': 'SCALAR', 'ofType': None}},\n",
       " {'name': 'country_of_origin',\n",
       "  'description': None,\n",
       "  'type': {'name': 'String', 'kind': 'SCALAR', 'ofType': None}},\n",
       " {'name': 'crosssell_products',\n",
       "  'description': 'An array of cross-sell products.',\n",
       "  'type': {'name': None,\n",
       "   'kind': 'LIST',\n",
       "   'ofType': {'name': 'ProductInterface', 'kind': 'INTERFACE'}}},\n",
       " {'name': 'description',\n",
       "  'description': 'Detailed information about the product. The value can include simple HTML tags.',\n",
       "  'type': {'name': 'ComplexTextValue', 'kind': 'OBJECT', 'ofType': None}},\n",
       " {'name': 'first_published_date',\n",
       "  'description': None,\n",
       "  'type': {'name': 'String', 'kind': 'SCALAR', 'ofType': None}},\n",
       " {'name': 'fun_tags',\n",
       "  'description': \"Product's Fun Tags\",\n",
       "  'type': {'name': None,\n",
       "   'kind': 'LIST',\n",
       "   'ofType': {'name': 'String', 'kind': 'SCALAR'}}},\n",
       " {'name': 'gift_message_available',\n",
       "  'description': 'Indicates whether a gift message is available.',\n",
       "  'type': {'name': 'String', 'kind': 'SCALAR', 'ofType': None}},\n",
       " {'name': 'image',\n",
       "  'description': 'The relative path to the main image on the product page.',\n",
       "  'type': {'name': 'ProductImage', 'kind': 'OBJECT', 'ofType': None}},\n",
       " {'name': 'image_file',\n",
       "  'description': 'Products image_file attribute value',\n",
       "  'type': {'name': 'String', 'kind': 'SCALAR', 'ofType': None}},\n",
       " {'name': 'ingredients',\n",
       "  'description': \"Product's Ingredients\",\n",
       "  'type': {'name': None,\n",
       "   'kind': 'LIST',\n",
       "   'ofType': {'name': 'IngredientsAttribute', 'kind': 'OBJECT'}}},\n",
       " {'name': 'is_imported',\n",
       "  'description': None,\n",
       "  'type': {'name': 'Int', 'kind': 'SCALAR', 'ofType': None}},\n",
       " {'name': 'is_returnable',\n",
       "  'description': 'Indicates whether the product can be returned.',\n",
       "  'type': {'name': 'String', 'kind': 'SCALAR', 'ofType': None}},\n",
       " {'name': 'item_characteristics',\n",
       "  'description': \"Product's Characteristics\",\n",
       "  'type': {'name': None,\n",
       "   'kind': 'LIST',\n",
       "   'ofType': {'name': 'String', 'kind': 'SCALAR'}}},\n",
       " {'name': 'item_description',\n",
       "  'description': None,\n",
       "  'type': {'name': 'String', 'kind': 'SCALAR', 'ofType': None}},\n",
       " {'name': 'item_story_marketing',\n",
       "  'description': None,\n",
       "  'type': {'name': 'String', 'kind': 'SCALAR', 'ofType': None}},\n",
       " {'name': 'item_story_qil',\n",
       "  'description': None,\n",
       "  'type': {'name': 'String', 'kind': 'SCALAR', 'ofType': None}},\n",
       " {'name': 'item_title',\n",
       "  'description': None,\n",
       "  'type': {'name': 'String', 'kind': 'SCALAR', 'ofType': None}},\n",
       " {'name': 'last_published_date',\n",
       "  'description': None,\n",
       "  'type': {'name': 'String', 'kind': 'SCALAR', 'ofType': None}},\n",
       " {'name': 'manufacturer',\n",
       "  'description': \"A number representing the product's manufacturer.\",\n",
       "  'type': {'name': 'Int', 'kind': 'SCALAR', 'ofType': None}},\n",
       " {'name': 'marketing_category_code',\n",
       "  'description': None,\n",
       "  'type': {'name': 'String', 'kind': 'SCALAR', 'ofType': None}},\n",
       " {'name': 'media_gallery',\n",
       "  'description': 'An array of media gallery objects.',\n",
       "  'type': {'name': None,\n",
       "   'kind': 'LIST',\n",
       "   'ofType': {'name': 'MediaGalleryInterface', 'kind': 'INTERFACE'}}},\n",
       " {'name': 'meta_description',\n",
       "  'description': 'A brief overview of the product for search results listings, maximum 255 characters.',\n",
       "  'type': {'name': 'String', 'kind': 'SCALAR', 'ofType': None}},\n",
       " {'name': 'meta_keyword',\n",
       "  'description': 'A comma-separated list of keywords that are visible only to search engines.',\n",
       "  'type': {'name': 'String', 'kind': 'SCALAR', 'ofType': None}},\n",
       " {'name': 'meta_title',\n",
       "  'description': 'A string that is displayed in the title bar and tab of the browser and in search results lists.',\n",
       "  'type': {'name': 'String', 'kind': 'SCALAR', 'ofType': None}},\n",
       " {'name': 'name',\n",
       "  'description': 'The product name. Customers use this name to identify the product.',\n",
       "  'type': {'name': 'String', 'kind': 'SCALAR', 'ofType': None}},\n",
       " {'name': 'new_product',\n",
       "  'description': 'Is product new',\n",
       "  'type': {'name': 'String', 'kind': 'SCALAR', 'ofType': None}},\n",
       " {'name': 'nutrition',\n",
       "  'description': 'Nutritions',\n",
       "  'type': {'name': None,\n",
       "   'kind': 'LIST',\n",
       "   'ofType': {'name': 'NutritionAttribute', 'kind': 'OBJECT'}}},\n",
       " {'name': 'only_x_left_in_stock',\n",
       "  'description': 'Product stock only x left count',\n",
       "  'type': {'name': 'Float', 'kind': 'SCALAR', 'ofType': None}},\n",
       " {'name': 'options_container',\n",
       "  'description': 'If the product has multiple options, determines where they appear on the product page.',\n",
       "  'type': {'name': 'String', 'kind': 'SCALAR', 'ofType': None}},\n",
       " {'name': 'other_images',\n",
       "  'description': 'Other images on the specified store',\n",
       "  'type': {'name': None,\n",
       "   'kind': 'LIST',\n",
       "   'ofType': {'name': 'String', 'kind': 'SCALAR'}}},\n",
       " {'name': 'other_images_meta',\n",
       "  'description': 'Other images on the specified store',\n",
       "  'type': {'name': None,\n",
       "   'kind': 'LIST',\n",
       "   'ofType': {'name': 'ImageWithMeta', 'kind': 'OBJECT'}}},\n",
       " {'name': 'popularity',\n",
       "  'description': 'Popularity',\n",
       "  'type': {'name': 'String', 'kind': 'SCALAR', 'ofType': None}},\n",
       " {'name': 'price_range',\n",
       "  'description': 'The range of prices for the product',\n",
       "  'type': {'name': None,\n",
       "   'kind': 'NON_NULL',\n",
       "   'ofType': {'name': 'PriceRange', 'kind': 'OBJECT'}}},\n",
       " {'name': 'price_tiers',\n",
       "  'description': 'An array of `TierPrice` objects.',\n",
       "  'type': {'name': None,\n",
       "   'kind': 'LIST',\n",
       "   'ofType': {'name': 'TierPrice', 'kind': 'OBJECT'}}},\n",
       " {'name': 'primary_image',\n",
       "  'description': 'Retail price on the specified store',\n",
       "  'type': {'name': 'String', 'kind': 'SCALAR', 'ofType': None}},\n",
       " {'name': 'primary_image_meta',\n",
       "  'description': 'Retail price on the specified store',\n",
       "  'type': {'name': 'ImageWithMeta', 'kind': 'OBJECT', 'ofType': None}},\n",
       " {'name': 'product_label',\n",
       "  'description': None,\n",
       "  'type': {'name': 'String', 'kind': 'SCALAR', 'ofType': None}},\n",
       " {'name': 'product_links',\n",
       "  'description': 'An array of `ProductLinks` objects.',\n",
       "  'type': {'name': None,\n",
       "   'kind': 'LIST',\n",
       "   'ofType': {'name': 'ProductLinksInterface', 'kind': 'INTERFACE'}}},\n",
       " {'name': 'promotion',\n",
       "  'description': \"Product's promotion on the specified store\",\n",
       "  'type': {'name': 'String', 'kind': 'SCALAR', 'ofType': None}},\n",
       " {'name': 'published',\n",
       "  'description': None,\n",
       "  'type': {'name': 'Int', 'kind': 'SCALAR', 'ofType': None}},\n",
       " {'name': 'rating_summary',\n",
       "  'description': 'The average of all the ratings given to the product.',\n",
       "  'type': {'name': None,\n",
       "   'kind': 'NON_NULL',\n",
       "   'ofType': {'name': 'Float', 'kind': 'SCALAR'}}},\n",
       " {'name': 'related_products',\n",
       "  'description': 'Recommended Products',\n",
       "  'type': {'name': None,\n",
       "   'kind': 'LIST',\n",
       "   'ofType': {'name': 'ProductInterface', 'kind': 'INTERFACE'}}},\n",
       " {'name': 'retail_price',\n",
       "  'description': 'Retail price on the specified store',\n",
       "  'type': {'name': 'String', 'kind': 'SCALAR', 'ofType': None}},\n",
       " {'name': 'review_count',\n",
       "  'description': 'The total count of all the reviews given to the product.',\n",
       "  'type': {'name': None,\n",
       "   'kind': 'NON_NULL',\n",
       "   'ofType': {'name': 'Int', 'kind': 'SCALAR'}}},\n",
       " {'name': 'reviews',\n",
       "  'description': 'The list of products reviews.',\n",
       "  'type': {'name': None,\n",
       "   'kind': 'NON_NULL',\n",
       "   'ofType': {'name': 'ProductReviews', 'kind': 'OBJECT'}}},\n",
       " {'name': 'sales_size',\n",
       "  'description': None,\n",
       "  'type': {'name': 'Float', 'kind': 'SCALAR', 'ofType': None}},\n",
       " {'name': 'sales_uom_code',\n",
       "  'description': None,\n",
       "  'type': {'name': 'String', 'kind': 'SCALAR', 'ofType': None}},\n",
       " {'name': 'sales_uom_description',\n",
       "  'description': None,\n",
       "  'type': {'name': 'String', 'kind': 'SCALAR', 'ofType': None}},\n",
       " {'name': 'short_description',\n",
       "  'description': 'A short description of the product. Its use depends on the theme.',\n",
       "  'type': {'name': 'ComplexTextValue', 'kind': 'OBJECT', 'ofType': None}},\n",
       " {'name': 'sku',\n",
       "  'description': 'A number or code assigned to a product to identify the product, options, price, and manufacturer.',\n",
       "  'type': {'name': 'String', 'kind': 'SCALAR', 'ofType': None}},\n",
       " {'name': 'small_image',\n",
       "  'description': 'The relative path to the small image, which is used on catalog pages.',\n",
       "  'type': {'name': 'ProductImage', 'kind': 'OBJECT', 'ofType': None}},\n",
       " {'name': 'special_price',\n",
       "  'description': 'The discounted price of the product.',\n",
       "  'type': {'name': 'Float', 'kind': 'SCALAR', 'ofType': None}},\n",
       " {'name': 'special_to_date',\n",
       "  'description': 'The end date for a product with a special price.',\n",
       "  'type': {'name': 'String', 'kind': 'SCALAR', 'ofType': None}},\n",
       " {'name': 'staged',\n",
       "  'description': 'Indicates whether the product is staged for a future campaign.',\n",
       "  'type': {'name': None,\n",
       "   'kind': 'NON_NULL',\n",
       "   'ofType': {'name': 'Boolean', 'kind': 'SCALAR'}}},\n",
       " {'name': 'stock_status',\n",
       "  'description': 'Stock status of the product',\n",
       "  'type': {'name': 'ProductStockStatus', 'kind': 'ENUM', 'ofType': None}},\n",
       " {'name': 'store_specific_info',\n",
       "  'description': 'Array of all regionality attributes info',\n",
       "  'type': {'name': None,\n",
       "   'kind': 'LIST',\n",
       "   'ofType': {'name': 'StoreSpecificInfo', 'kind': 'OBJECT'}}},\n",
       " {'name': 'swatch_image',\n",
       "  'description': 'The file name of a swatch image.',\n",
       "  'type': {'name': 'String', 'kind': 'SCALAR', 'ofType': None}},\n",
       " {'name': 'thumbnail',\n",
       "  'description': \"The relative path to the product's thumbnail image.\",\n",
       "  'type': {'name': 'ProductImage', 'kind': 'OBJECT', 'ofType': None}},\n",
       " {'name': 'uid',\n",
       "  'description': 'The unique ID for a `ProductInterface` object.',\n",
       "  'type': {'name': None,\n",
       "   'kind': 'NON_NULL',\n",
       "   'ofType': {'name': 'ID', 'kind': 'SCALAR'}}},\n",
       " {'name': 'upsell_products',\n",
       "  'description': 'An array of up-sell products.',\n",
       "  'type': {'name': None,\n",
       "   'kind': 'LIST',\n",
       "   'ofType': {'name': 'ProductInterface', 'kind': 'INTERFACE'}}},\n",
       " {'name': 'url_key',\n",
       "  'description': 'The part of the URL that identifies the product',\n",
       "  'type': {'name': 'String', 'kind': 'SCALAR', 'ofType': None}},\n",
       " {'name': 'url_rewrites',\n",
       "  'description': 'URL rewrites list',\n",
       "  'type': {'name': None,\n",
       "   'kind': 'LIST',\n",
       "   'ofType': {'name': 'UrlRewrite', 'kind': 'OBJECT'}}},\n",
       " {'name': 'url_suffix',\n",
       "  'description': 'The part of the product URL that is appended after the url key',\n",
       "  'type': {'name': 'String', 'kind': 'SCALAR', 'ofType': None}},\n",
       " {'name': 'use_and_demo',\n",
       "  'description': None,\n",
       "  'type': {'name': 'String', 'kind': 'SCALAR', 'ofType': None}}]"
      ]
     },
     "execution_count": 139,
     "metadata": {},
     "output_type": "execute_result"
    }
   ],
   "source": [
    "productinterface_fields['data']['__type']['fields']"
   ]
  },
  {
   "cell_type": "markdown",
   "id": "8e65ca6a",
   "metadata": {},
   "source": [
    "OK, we are getting somewhere. We now know that `Products` contains a list `items` of `ProductInterface`s, which then have their own `nutrition` attribute of type `NutritionAttribute`.\n",
    "\n",
    "I was confused by the naming scheme, but it is clear now that `NutritionAttribute` is not an attribute of a particular nutrition object, but the attribute containing nutrition information of a parent `ProductInterface`."
   ]
  },
  {
   "cell_type": "code",
   "execution_count": null,
   "id": "c190f744",
   "metadata": {},
   "outputs": [],
   "source": [
    "query_nutrition_fields = \"\"\"\n",
    "{\n",
    "  __type(name: \"NutritionAttribute\") {\n",
    "    name\n",
    "    kind\n",
    "    fields {\n",
    "      name\n",
    "      description\n",
    "      type {\n",
    "        name\n",
    "        kind\n",
    "        ofType {\n",
    "          name\n",
    "          kind\n",
    "        }\n",
    "      }\n",
    "    }\n",
    "  }\n",
    "}\n",
    "\"\"\"\n",
    "query_nutrition_fields_response = requests.post(url, json={\"query\": query_nutrition_fields}, headers=headers)\n",
    "\n",
    "nutrition_fields = query_nutrition_fields_response.json()"
   ]
  },
  {
   "cell_type": "code",
   "execution_count": null,
   "id": "1289a0cc",
   "metadata": {},
   "outputs": [],
   "source": [
    "[(field['name']) for field in nutrition_fields['data']['__type']['fields']]\n",
    "# nutrition_fields['data']['__type']['fields']"
   ]
  },
  {
   "cell_type": "markdown",
   "id": "b00e12b9",
   "metadata": {},
   "source": [
    "To summarize all of the objects and their fields that we desire:\n",
    "\n",
    "```\n",
    "Products\n",
    "|\n",
    "L Attributes include:\n",
    "    L sku\n",
    "    L item_title\n",
    "    L retail_price\n",
    "    L items\n",
    "        L nutrition\n",
    "            L calories_per_serving\n",
    "            L details\n",
    "            L serving_size\n",
    "            L servings_per_container\n",
    "L\n",
    "\n",
    "```"
   ]
  },
  {
   "cell_type": "code",
   "execution_count": null,
   "id": "96809b07",
   "metadata": {},
   "outputs": [],
   "source": [
    "# {'name': 'route',\n",
    "#   'description': 'Return the full details for a specified product, category, or CMS page.',\n",
    "#   'args': [{'name': 'url',\n",
    "#     'description': 'A `url_key` appended by the `url_suffix, if one exists.',\n",
    "#     'type': {'name': None,\n",
    "#      'kind': 'NON_NULL',\n",
    "#      'ofType': {'name': 'String', 'kind': 'SCALAR'}},\n",
    "#     'defaultValue': None}],\n",
    "#   'type': {'name': 'RoutableInterface', 'kind': 'INTERFACE', 'ofType': None}}\n"
   ]
  },
  {
   "cell_type": "code",
   "execution_count": null,
   "id": "e9bf4db3",
   "metadata": {},
   "outputs": [],
   "source": [
    "# query_string = \"\"\"\n",
    "# query {\n",
    "#   route(url: \"https://www.traderjoes.com/api/graphql\") {\n",
    "#     __typename\n",
    "#     ... on Product {\n",
    "#       sku\n",
    "#     }\n",
    "#   }\n",
    "# }\n",
    "# \"\"\"\n",
    "\n",
    "# query = {\n",
    "#     \"operationName\": \"SearchRoute\",\n",
    "#     \"variables\": {\n",
    "#         \"storeCode\": \"706\",\n",
    "#         \"published\": \"1\",\n",
    "#         \"currentPage\": 1,\n",
    "#         \"pageSize\": 100\n",
    "#     },\n",
    "#     \"query\": query_string\n",
    "# }\n",
    "\n",
    "# response = requests.post(url, json=query, headers=headers)\n",
    "\n",
    "# # data = response.json()\n",
    "# # data\n",
    "# response\n",
    "\n",
    "# How to use this `routes` query?"
   ]
  },
  {
   "cell_type": "markdown",
   "id": "2a43067a",
   "metadata": {},
   "source": [
    "Let's grab the full API schema and see if we can find which fields to query for our purposes."
   ]
  },
  {
   "cell_type": "code",
   "execution_count": null,
   "id": "91318a90",
   "metadata": {},
   "outputs": [],
   "source": [
    "query_schema = \"\"\"\n",
    "query {\n",
    "  __schema {\n",
    "    types {\n",
    "      name\n",
    "      kind\n",
    "      description\n",
    "    }\n",
    "  }\n",
    "}\n",
    "\"\"\"\n",
    "\n",
    "response = requests.post(url, json={\"query\": query_schema}, headers=headers)\n",
    "schema = response.json()\n",
    "# print(schema)"
   ]
  },
  {
   "cell_type": "code",
   "execution_count": null,
   "id": "e6e48a5b",
   "metadata": {},
   "outputs": [],
   "source": [
    "schema['data']['__schema']['types'] # ['data']['__type'].keys()"
   ]
  },
  {
   "cell_type": "code",
   "execution_count": null,
   "id": "533fbf17",
   "metadata": {},
   "outputs": [],
   "source": [
    "\n",
    "query_schema_nutrition = \"\"\"\n",
    "{\n",
    "  __type(name: \"NutritionDetails\") {\n",
    "    name\n",
    "    kind\n",
    "    description\n",
    "    fields {\n",
    "      name\n",
    "      type {\n",
    "        kind\n",
    "        name\n",
    "        ofType {\n",
    "          kind\n",
    "          name\n",
    "        }\n",
    "      }\n",
    "    }\n",
    "  }\n",
    "}\"\"\"\n",
    "\n",
    "response = requests.post(url, json={\"query\": query_schema_nutrition}, headers=headers)\n",
    "nutrition = response.json()\n",
    "print(nutrition)"
   ]
  },
  {
   "cell_type": "markdown",
   "id": "69d5a922",
   "metadata": {},
   "source": [
    "What is the relationship between `NutritionDetails` and `NutritionAttribute`?"
   ]
  },
  {
   "cell_type": "code",
   "execution_count": null,
   "id": "e2b871cc",
   "metadata": {},
   "outputs": [],
   "source": [
    "nutrition['data']['__type']['fields']"
   ]
  },
  {
   "cell_type": "code",
   "execution_count": null,
   "id": "314ab744",
   "metadata": {},
   "outputs": [],
   "source": [
    "query_schema_all = \"\"\"\n",
    "{\n",
    "  __schema {\n",
    "    queryType {\n",
    "      name\n",
    "    }\n",
    "    mutationType {\n",
    "      name\n",
    "    }\n",
    "    subscriptionType {\n",
    "      name\n",
    "    }\n",
    "    types {\n",
    "      name\n",
    "      kind\n",
    "      fields {\n",
    "        name\n",
    "        args {\n",
    "          name\n",
    "          type {\n",
    "            name\n",
    "            kind\n",
    "          }\n",
    "          defaultValue\n",
    "        }\n",
    "        type {\n",
    "          name\n",
    "          kind\n",
    "        }\n",
    "      }\n",
    "      inputFields {\n",
    "        name\n",
    "        type {\n",
    "          name\n",
    "          kind\n",
    "        }\n",
    "      }\n",
    "      interfaces {\n",
    "        name\n",
    "      }\n",
    "      enumValues {\n",
    "        name\n",
    "      }\n",
    "      possibleTypes {\n",
    "        name\n",
    "      }\n",
    "    }\n",
    "  }\n",
    "}\n",
    "\"\"\"\n",
    "response = requests.post(url, json={\"query\": query_schema_all}, headers=headers)\n",
    "schema_all = response.json()\n",
    "# print(schema_all)"
   ]
  },
  {
   "cell_type": "code",
   "execution_count": null,
   "id": "3b2fe5f6",
   "metadata": {},
   "outputs": [],
   "source": [
    "schema_all['data']['__schema']['types']"
   ]
  },
  {
   "cell_type": "markdown",
   "id": "af2a7457",
   "metadata": {},
   "source": [
    "### Finding fields in various attributes"
   ]
  },
  {
   "cell_type": "markdown",
   "id": "3ec2996f",
   "metadata": {},
   "source": [
    "This is how we get all available fields in an Object `NutritionAttribute`."
   ]
  },
  {
   "cell_type": "code",
   "execution_count": null,
   "id": "78189db7",
   "metadata": {},
   "outputs": [],
   "source": [
    "# NutritionAttribute\n",
    "# IngredientsAttribute\n",
    "query_nutschema = \"\"\"\n",
    "query {\n",
    "  __type(name: \"ComplexTextValue\") {\n",
    "    name\n",
    "    fields {\n",
    "      name\n",
    "      type {\n",
    "        name\n",
    "        kind\n",
    "      }\n",
    "    }\n",
    "  }\n",
    "}\n",
    "\"\"\"\n",
    "\n",
    "out = requests.post(url, json={\"query\": query_nutschema}, headers=headers)\n",
    "out = out.json()\n",
    "# print(out)\n",
    "out['data']['__type']"
   ]
  },
  {
   "cell_type": "code",
   "execution_count": null,
   "id": "8f817109",
   "metadata": {},
   "outputs": [],
   "source": [
    "query_prodschema = \"\"\"\n",
    "query {\n",
    "  __type(name: \"Products\") {\n",
    "    name\n",
    "    fields {\n",
    "      name\n",
    "      type {\n",
    "        name\n",
    "        kind\n",
    "      }\n",
    "    }\n",
    "  }\n",
    "}\n",
    "\"\"\"\n",
    "\n",
    "out = requests.post(url, json={\"query\": query_prodschema}, headers=headers)\n",
    "out = out.json()\n",
    "print(out)"
   ]
  },
  {
   "cell_type": "code",
   "execution_count": null,
   "id": "527ead8b",
   "metadata": {},
   "outputs": [],
   "source": [
    "out"
   ]
  },
  {
   "cell_type": "code",
   "execution_count": null,
   "id": "5d945c10",
   "metadata": {},
   "outputs": [],
   "source": [
    "query_types_schema = \"\"\"\n",
    "query {\n",
    "  __schema {\n",
    "    types {\n",
    "      name\n",
    "    }\n",
    "  }\n",
    "}\n",
    "\"\"\"\n",
    "\n",
    "out = requests.post(url, json={\"query\": query_types_schema}, headers=headers)\n",
    "out = out.json()\n",
    "out"
   ]
  },
  {
   "cell_type": "markdown",
   "id": "29dffd5b",
   "metadata": {},
   "source": [
    "### Test out querying one product"
   ]
  },
  {
   "cell_type": "code",
   "execution_count": null,
   "id": "d8cd9f37",
   "metadata": {},
   "outputs": [],
   "source": [
    "query_one_product = \"\"\"\n",
    "{\n",
    "  products(\n",
    "    storeCode: \"706\",\n",
    "    search: \"\",\n",
    "    filter: {},\n",
    "    pageSize: 3,\n",
    "    currentPage: 0\n",
    "  ) {\n",
    "    items {\n",
    "      sku\n",
    "      name\n",
    "      availability\n",
    "    }\n",
    "  }\n",
    "}\n",
    "\"\"\"\n",
    "\n",
    "response = requests.post(url, json={\"query\": query_one_product}, headers=headers)\n",
    "\n",
    "# Check if the response is successful\n",
    "if response.status_code == 200:\n",
    "    one_product = response.json()\n",
    "else:\n",
    "    # Handle potential errors\n",
    "    raise Exception(f\"Query failed with status code {response.status_code}: {response.text}\")\n",
    "\n",
    "print(one_product)\n"
   ]
  },
  {
   "cell_type": "code",
   "execution_count": null,
   "id": "65569a50",
   "metadata": {},
   "outputs": [],
   "source": [
    "one_product"
   ]
  },
  {
   "cell_type": "markdown",
   "id": "ba2b03d5",
   "metadata": {},
   "source": [
    "### Only querying items at Hyde Park location (and available?)"
   ]
  },
  {
   "cell_type": "code",
   "execution_count": null,
   "id": "6ec5d7e2",
   "metadata": {},
   "outputs": [],
   "source": [
    "import requests\n",
    "import json\n",
    "\n",
    "def items_by_store(store_code, page):\n",
    "    url = \"https://www.traderjoes.com/api/graphql\"\n",
    "    headers = {\n",
    "        \"accept\": \"*/*\",\n",
    "        \"accept-language\": \"en-US,en;q=0.9\",\n",
    "        \"cache-control\": \"no-cache\",\n",
    "        \"content-type\": \"application/json\",\n",
    "        \"pragma\": \"no-cache\",\n",
    "        \"accept-encoding\": \"gzip, deflate, br\",\n",
    "        \"user-agent\": \"Mozilla/5.0 (Macintosh; Intel Mac OS X 10_15_7) AppleWebKit/537.36 \\\n",
    "                       (KHTML, like Gecko) Chrome/136.0.0.0 Safari/537.36\"\n",
    "    }\n",
    "\n",
    "    query = f\"\"\"\n",
    "    {{\n",
    "      products(\n",
    "        search: \"\",\n",
    "        filter: {{}},\n",
    "        currentPage: {page},\n",
    "        pageSize: 100\n",
    "      ) {{\n",
    "        items {{\n",
    "          sku\n",
    "          name\n",
    "          availability\n",
    "        }}\n",
    "        total_count\n",
    "      }}\n",
    "    }}\n",
    "    \"\"\"\n",
    "\n",
    "    # Construct the payload\n",
    "    payload = {\n",
    "        \"operationName\": \"SearchProduct\",\n",
    "        \"query\": query\n",
    "    }\n",
    "\n",
    "    # Send the request\n",
    "    response = requests.post(url, json=payload, headers=headers)\n",
    "\n",
    "    # Check if the response is successful\n",
    "    if response.status_code == 200:\n",
    "        try:\n",
    "            data = response.json()\n",
    "            return data.get('data', {}).get('products', {}).get('items', [])\n",
    "        except json.JSONDecodeError:\n",
    "            raise Exception(\"Failed to parse response JSON\")\n",
    "    else:\n",
    "        raise Exception(f\"Query failed with status code {response.status_code}: {response.text}\")\n",
    "\n",
    "# Example usage\n",
    "items = items_by_store(\"706\", 1)\n",
    "for item in items:\n",
    "    print(item)"
   ]
  },
  {
   "cell_type": "code",
   "execution_count": null,
   "id": "de2fe6a1",
   "metadata": {},
   "outputs": [],
   "source": [
    "items[0]['availability']"
   ]
  },
  {
   "cell_type": "code",
   "execution_count": null,
   "id": "b0213a76",
   "metadata": {},
   "outputs": [],
   "source": [
    "len(items)"
   ]
  },
  {
   "cell_type": "code",
   "execution_count": null,
   "id": "b0ed7119",
   "metadata": {},
   "outputs": [],
   "source": [
    "[item for item in items if item['availability']=='0']"
   ]
  },
  {
   "cell_type": "markdown",
   "id": "f75bbac5",
   "metadata": {},
   "source": [
    "### Actually query all fields from all products (including nutrition)"
   ]
  },
  {
   "cell_type": "markdown",
   "id": "ee34895a",
   "metadata": {},
   "source": [
    "Now, query the nutritional information.\n",
    "\n",
    "uid vs sku? Both unique identifiers."
   ]
  },
  {
   "cell_type": "code",
   "execution_count": null,
   "id": "4d1541f4",
   "metadata": {},
   "outputs": [],
   "source": [
    "# Get total number of products\n",
    "query_number_products = \"\"\"\n",
    "{\n",
    "  products(\n",
    "    search: \"\",\n",
    "    filter: {},\n",
    "    pageSize: 100,\n",
    "    currentPage: 0\n",
    "  ) \n",
    "  {\n",
    "    total_count\n",
    "    page_info {\n",
    "      current_page\n",
    "      page_size\n",
    "      total_pages\n",
    "    }\n",
    "  }\n",
    "}\n",
    "\"\"\"\n",
    "number_products = requests.post(url, json={\"query\": query_number_products}, headers=headers)\n",
    "number_products = number_products.json()\n",
    "# print(number_products)\n"
   ]
  },
  {
   "cell_type": "code",
   "execution_count": null,
   "id": "779b055c",
   "metadata": {},
   "outputs": [],
   "source": [
    "number_products['data']"
   ]
  },
  {
   "cell_type": "markdown",
   "id": "29e13ca1",
   "metadata": {},
   "source": [
    "Let's query 256 pages of 100 products."
   ]
  },
  {
   "cell_type": "code",
   "execution_count": 140,
   "id": "c632b42a",
   "metadata": {},
   "outputs": [],
   "source": [
    "page_info = number_products['data']['products']['page_info']\n",
    "page_size = page_info['page_size']\n",
    "num_pages = page_info['total_pages']\n",
    "\n",
    "query_product_page = \"\"\"\n",
    "{{\n",
    "  products(\n",
    "    search: \"\",\n",
    "    filter: {{}},\n",
    "    pageSize: {},\n",
    "    currentPage: {}\n",
    "  )\n",
    "  {{\n",
    "    items {{\n",
    "      sku\n",
    "      name\n",
    "      nutrition {{\n",
    "        calories_per_serving\n",
    "        details {{\n",
    "            amount\n",
    "            display_seq\n",
    "            nutritional_item\n",
    "            percent_dv\n",
    "        }}\n",
    "        display_sequence\n",
    "        panel_id\n",
    "        panel_title\n",
    "        serving_size\n",
    "        servings_per_container\n",
    "      }}\n",
    "      ingredients {{\n",
    "        display_sequence\n",
    "        ingredient\n",
    "      }}\n",
    "      item_description\n",
    "      popularity\n",
    "      price {{\n",
    "        regularPrice {{\n",
    "          amount {{\n",
    "            value\n",
    "            currency\n",
    "          }}\n",
    "        }}\n",
    "      }}\n",
    "      country_of_manufacture\n",
    "      country_of_origin\n",
    "      description {{\n",
    "        html\n",
    "      }}\n",
    "    }}\n",
    "    total_count\n",
    "    page_info {{\n",
    "      current_page\n",
    "      page_size\n",
    "      total_pages\n",
    "    }}\n",
    "  }}\n",
    "}}\n",
    "\"\"\"\n"
   ]
  },
  {
   "cell_type": "code",
   "execution_count": null,
   "id": "2a386cb1",
   "metadata": {},
   "outputs": [],
   "source": [
    "num_pages"
   ]
  },
  {
   "cell_type": "code",
   "execution_count": null,
   "id": "9ad326e9",
   "metadata": {},
   "outputs": [],
   "source": [
    "all_items = []"
   ]
  },
  {
   "cell_type": "code",
   "execution_count": null,
   "id": "4c08a70f",
   "metadata": {},
   "outputs": [],
   "source": [
    "# # Last run time: 3m 42.6s!\n",
    "# # Page 0 is identical to page 1!!\n",
    "# for page_idx in range(1, num_pages+1):\n",
    "#     query_page_i = {\"query\": query_product_page.format(page_size, page_idx)}\n",
    "#     product_page = requests.post(url, json=query_page_i, headers=headers)\n",
    "#     product_page = product_page.json()\n",
    "#     all_items = all_items + product_page['data']['products']['items']\n"
   ]
  },
  {
   "cell_type": "code",
   "execution_count": 128,
   "id": "2d91425c",
   "metadata": {},
   "outputs": [
    {
     "data": {
      "text/plain": [
       "0"
      ]
     },
     "execution_count": 128,
     "metadata": {},
     "output_type": "execute_result"
    }
   ],
   "source": [
    "len(all_items)"
   ]
  },
  {
   "cell_type": "code",
   "execution_count": null,
   "id": "3d6d6896",
   "metadata": {},
   "outputs": [],
   "source": [
    "skus = [item['sku'] for item in all_items]"
   ]
  },
  {
   "cell_type": "code",
   "execution_count": null,
   "id": "86073881",
   "metadata": {},
   "outputs": [],
   "source": [
    "len(skus)"
   ]
  },
  {
   "cell_type": "code",
   "execution_count": null,
   "id": "4e579a65",
   "metadata": {},
   "outputs": [],
   "source": [
    "len(set(skus))"
   ]
  },
  {
   "cell_type": "code",
   "execution_count": null,
   "id": "5c87d237",
   "metadata": {},
   "outputs": [],
   "source": [
    "25564"
   ]
  },
  {
   "cell_type": "code",
   "execution_count": null,
   "id": "a54cd224",
   "metadata": {},
   "outputs": [],
   "source": [
    "len(set(skus[100:])) == len(set(skus))\n",
    "# Ah-ha! Yes, page 0 is identical to page 1"
   ]
  },
  {
   "cell_type": "code",
   "execution_count": null,
   "id": "0f597046",
   "metadata": {},
   "outputs": [],
   "source": [
    "query_page_256 = {\"query\": query_product_page.format(page_size, 256)}\n",
    "product_page_256 = requests.post(url, json=query_page_256, headers=headers)\n",
    "product_page_256 = product_page_256.json()\n",
    "all_items_fixed = all_items[100:]\n",
    "\n",
    "all_items_fixed = all_items_fixed + product_page_256['data']['products']['items']"
   ]
  },
  {
   "cell_type": "code",
   "execution_count": null,
   "id": "86c7338a",
   "metadata": {},
   "outputs": [],
   "source": [
    "skus_fixed = [item['sku'] for item in all_items_fixed]\n",
    "len(set(skus_fixed))"
   ]
  },
  {
   "cell_type": "markdown",
   "id": "1705c858",
   "metadata": {},
   "source": [
    "### Query all items from Hyde Park location"
   ]
  },
  {
   "cell_type": "code",
   "execution_count": 144,
   "id": "c58e02a2",
   "metadata": {},
   "outputs": [],
   "source": [
    "query_product_page = \"\"\"\n",
    "{{\n",
    "  products(\n",
    "    search: \"\",\n",
    "    filter: {{}},\n",
    "    pageSize: {},\n",
    "    currentPage: {}\n",
    "  )\n",
    "  {{\n",
    "    items {{\n",
    "      sku\n",
    "      name\n",
    "      availability\n",
    "      stock_status\n",
    "      only_x_left_in_stock\n",
    "      nutrition {{\n",
    "        calories_per_serving\n",
    "        details {{\n",
    "            amount\n",
    "            display_seq\n",
    "            nutritional_item\n",
    "            percent_dv\n",
    "        }}\n",
    "        display_sequence\n",
    "        panel_id\n",
    "        panel_title\n",
    "        serving_size\n",
    "        servings_per_container\n",
    "      }}\n",
    "      ingredients {{\n",
    "        display_sequence\n",
    "        ingredient\n",
    "      }}\n",
    "      item_description\n",
    "      popularity\n",
    "      price {{\n",
    "        regularPrice {{\n",
    "          amount {{\n",
    "            value\n",
    "            currency\n",
    "          }}\n",
    "        }}\n",
    "      }}\n",
    "      country_of_manufacture\n",
    "      country_of_origin\n",
    "      description {{\n",
    "        html\n",
    "      }}\n",
    "    }}\n",
    "    total_count\n",
    "    page_info {{\n",
    "      current_page\n",
    "      page_size\n",
    "      total_pages\n",
    "    }}\n",
    "  }}\n",
    "}}\n",
    "\"\"\""
   ]
  },
  {
   "cell_type": "code",
   "execution_count": 145,
   "id": "9a4b7d17",
   "metadata": {},
   "outputs": [
    {
     "name": "stdout",
     "output_type": "stream",
     "text": [
      "{'data': {'products': {'items': [{'sku': '080626', 'name': 'R-SALAD BABY RED BUTTER & ARUGULA ORG', 'availability': '1', 'stock_status': 'OUT_OF_STOCK', 'only_x_left_in_stock': None, 'nutrition': [{'calories_per_serving': '15 ', 'details': [{'amount': '0 g', 'display_seq': 1, 'nutritional_item': 'Total Fat', 'percent_dv': '0'}, {'amount': '0 g', 'display_seq': 2, 'nutritional_item': 'Saturated Fat', 'percent_dv': '0'}, {'amount': '0 g', 'display_seq': 3, 'nutritional_item': 'Trans Fat', 'percent_dv': None}, {'amount': '0 mg', 'display_seq': 4, 'nutritional_item': 'Cholesterol', 'percent_dv': '0'}, {'amount': '10 mg', 'display_seq': 5, 'nutritional_item': 'Sodium', 'percent_dv': '0'}, {'amount': '2 g', 'display_seq': 6, 'nutritional_item': 'Total Carbohydrate', 'percent_dv': '.01'}, {'amount': '1 g', 'display_seq': 7, 'nutritional_item': 'Dietary Fiber', 'percent_dv': '.04'}, {'amount': '1 g', 'display_seq': 8, 'nutritional_item': 'Total Sugars', 'percent_dv': None}, {'amount': '0 g Added Sugars', 'display_seq': 9, 'nutritional_item': 'Includes', 'percent_dv': '0'}, {'amount': '2 g', 'display_seq': 10, 'nutritional_item': 'Protein', 'percent_dv': None}, {'amount': '0.0 mcg', 'display_seq': 11, 'nutritional_item': 'Vitamin D', 'percent_dv': '0'}, {'amount': '70 mg', 'display_seq': 12, 'nutritional_item': 'Calcium', 'percent_dv': '.06'}, {'amount': '1.1 mg', 'display_seq': 13, 'nutritional_item': 'Iron', 'percent_dv': '.06'}, {'amount': '250 mg', 'display_seq': 14, 'nutritional_item': 'Potassium', 'percent_dv': '.06'}], 'display_sequence': 0, 'panel_id': 1, 'panel_title': 'per serving', 'serving_size': '1/2 package (85g)', 'servings_per_container': 'Serves 2'}, {'calories_per_serving': '30 ', 'details': [{'amount': '0.5 g', 'display_seq': 1, 'nutritional_item': 'Total Fat', 'percent_dv': '.01'}, {'amount': '0 g', 'display_seq': 2, 'nutritional_item': 'Saturated Fat', 'percent_dv': '0'}, {'amount': '0 g', 'display_seq': 3, 'nutritional_item': 'Trans Fat', 'percent_dv': None}, {'amount': '0 mg', 'display_seq': 4, 'nutritional_item': 'Cholesterol', 'percent_dv': '0'}, {'amount': '25 mg', 'display_seq': 5, 'nutritional_item': 'Sodium', 'percent_dv': '.01'}, {'amount': '5 g', 'display_seq': 6, 'nutritional_item': 'Total Carbohydrate', 'percent_dv': '.02'}, {'amount': '2 g', 'display_seq': 7, 'nutritional_item': 'Dietary Fiber', 'percent_dv': '.07'}, {'amount': '2 g', 'display_seq': 8, 'nutritional_item': 'Total Sugars', 'percent_dv': None}, {'amount': '0 g Added Sugars', 'display_seq': 9, 'nutritional_item': 'Includes', 'percent_dv': '0'}, {'amount': '3 g', 'display_seq': 10, 'nutritional_item': 'Protein', 'percent_dv': None}, {'amount': '0.0 mcg', 'display_seq': 11, 'nutritional_item': 'Vitamin D', 'percent_dv': '0'}, {'amount': '140 mg', 'display_seq': 12, 'nutritional_item': 'Calcium', 'percent_dv': '.1'}, {'amount': '2.3 mg', 'display_seq': 13, 'nutritional_item': 'Iron', 'percent_dv': '.15'}, {'amount': '490 mg', 'display_seq': 14, 'nutritional_item': 'Potassium', 'percent_dv': '.1'}], 'display_sequence': 1, 'panel_id': 2, 'panel_title': 'per container', 'serving_size': '1/2 package (85g)', 'servings_per_container': 'Serves 2'}], 'ingredients': [{'display_sequence': 1, 'ingredient': 'ORGANIC BABY RED BUTTER LETTUCE'}, {'display_sequence': 2, 'ingredient': 'ORGANIC BABY ARUGULA'}], 'item_description': None, 'popularity': '107', 'price': {'regularPrice': {'amount': {'value': 2.49, 'currency': 'USD'}}}, 'country_of_manufacture': None, 'country_of_origin': 'Product of USA', 'description': {'html': ''}}, {'sku': '097210', 'name': 'TURBINADO RAW CANE SUGAR', 'availability': '1', 'stock_status': 'OUT_OF_STOCK', 'only_x_left_in_stock': None, 'nutrition': [{'calories_per_serving': '30', 'details': [{'amount': '0 g', 'display_seq': 1, 'nutritional_item': 'Total Fat', 'percent_dv': '0'}, {'amount': '0 g', 'display_seq': 2, 'nutritional_item': 'Saturated Fat', 'percent_dv': '0'}, {'amount': '0 g', 'display_seq': 3, 'nutritional_item': 'Trans Fat', 'percent_dv': ''}, {'amount': '0 mg', 'display_seq': 4, 'nutritional_item': 'Cholesterol', 'percent_dv': '0'}, {'amount': '0 mg', 'display_seq': 5, 'nutritional_item': 'Sodium', 'percent_dv': '0'}, {'amount': '8 g', 'display_seq': 6, 'nutritional_item': 'Total Carbohydrate', 'percent_dv': '.03'}, {'amount': '0 g', 'display_seq': 7, 'nutritional_item': 'Dietary Fiber', 'percent_dv': '0'}, {'amount': '8 g', 'display_seq': 8, 'nutritional_item': 'Total Sugars', 'percent_dv': ''}, {'amount': '8 g Added Sugars', 'display_seq': 9, 'nutritional_item': 'Includes', 'percent_dv': '.16'}, {'amount': '0 g', 'display_seq': 10, 'nutritional_item': 'Protein', 'percent_dv': ''}, {'amount': '0.0 mcg', 'display_seq': 11, 'nutritional_item': 'Vitamin D', 'percent_dv': '0'}, {'amount': '0 mg', 'display_seq': 12, 'nutritional_item': 'Calcium', 'percent_dv': '0'}, {'amount': '0.0 mg', 'display_seq': 13, 'nutritional_item': 'Iron', 'percent_dv': '0'}, {'amount': '0 mg', 'display_seq': 14, 'nutritional_item': 'Potassium', 'percent_dv': '0'}], 'display_sequence': 0, 'panel_id': 1, 'panel_title': '', 'serving_size': '2 tsp (8 g)', 'servings_per_container': 'Serves 85'}], 'ingredients': [{'display_sequence': 1, 'ingredient': 'TURBINADO RAW CANE SUGAR'}], 'item_description': None, 'popularity': '95', 'price': {'regularPrice': {'amount': {'value': 3.49, 'currency': 'USD'}}}, 'country_of_manufacture': None, 'country_of_origin': 'Product of Malawi Product of', 'description': {'html': ''}}, {'sku': '082077', 'name': 'SALSA MANGO PINEAPPLE PICO DE GALLO', 'availability': '1', 'stock_status': 'OUT_OF_STOCK', 'only_x_left_in_stock': None, 'nutrition': [{'calories_per_serving': '10 ', 'details': [{'amount': '0 g', 'display_seq': 1, 'nutritional_item': 'Total Fat', 'percent_dv': '0'}, {'amount': '0 g', 'display_seq': 2, 'nutritional_item': 'Saturated Fat', 'percent_dv': '0'}, {'amount': '0 g', 'display_seq': 3, 'nutritional_item': 'Trans Fat', 'percent_dv': None}, {'amount': '0 mg', 'display_seq': 4, 'nutritional_item': 'Cholesterol', 'percent_dv': '0'}, {'amount': '80 mg', 'display_seq': 5, 'nutritional_item': 'Sodium', 'percent_dv': '.03'}, {'amount': '3 g', 'display_seq': 6, 'nutritional_item': 'Total Carbohydrate', 'percent_dv': '.01'}, {'amount': '0 g', 'display_seq': 7, 'nutritional_item': 'Dietary Fiber', 'percent_dv': '0'}, {'amount': '2 g', 'display_seq': 8, 'nutritional_item': 'Total Sugars', 'percent_dv': None}, {'amount': '0 g Added Sugars', 'display_seq': 9, 'nutritional_item': 'Includes', 'percent_dv': '0'}, {'amount': '0 g', 'display_seq': 10, 'nutritional_item': 'Protein', 'percent_dv': None}, {'amount': '0.0 mcg', 'display_seq': 11, 'nutritional_item': 'Vitamin D', 'percent_dv': '0'}, {'amount': '0 mg', 'display_seq': 12, 'nutritional_item': 'Calcium', 'percent_dv': '0'}, {'amount': '0.1 mg', 'display_seq': 13, 'nutritional_item': 'Iron', 'percent_dv': '0'}, {'amount': '50 mg', 'display_seq': 14, 'nutritional_item': 'Potassium', 'percent_dv': '.02'}], 'display_sequence': 0, 'panel_id': 1, 'panel_title': None, 'serving_size': '2 Tbsp. (30g)', 'servings_per_container': 'Serves about 11'}], 'ingredients': [{'display_sequence': 1, 'ingredient': 'TOMATO'}, {'display_sequence': 2, 'ingredient': 'YELLOW ONION'}, {'display_sequence': 3, 'ingredient': 'MANGO'}, {'display_sequence': 4, 'ingredient': 'PINEAPPLE'}, {'display_sequence': 5, 'ingredient': 'JALAPENO PEPPERS'}, {'display_sequence': 6, 'ingredient': 'LIME JUICE'}, {'display_sequence': 7, 'ingredient': 'CILANTRO'}, {'display_sequence': 8, 'ingredient': 'SALT'}], 'item_description': None, 'popularity': '236', 'price': {'regularPrice': {'amount': {'value': 3.99, 'currency': 'USD'}}}, 'country_of_manufacture': None, 'country_of_origin': 'Made in United States', 'description': {'html': ''}}, {'sku': '080470', 'name': 'MARSHMALLOWS STRAWBERRY & WATERMELON', 'availability': '1', 'stock_status': 'OUT_OF_STOCK', 'only_x_left_in_stock': None, 'nutrition': [{'calories_per_serving': '100 ', 'details': [{'amount': '0 g', 'display_seq': 1, 'nutritional_item': 'Total Fat', 'percent_dv': '0'}, {'amount': '0 g', 'display_seq': 2, 'nutritional_item': 'Saturated Fat', 'percent_dv': '0'}, {'amount': '0 g', 'display_seq': 3, 'nutritional_item': 'Trans Fat', 'percent_dv': None}, {'amount': '0 mg', 'display_seq': 4, 'nutritional_item': 'Cholesterol', 'percent_dv': '0'}, {'amount': '0 mg', 'display_seq': 5, 'nutritional_item': 'Sodium', 'percent_dv': '0'}, {'amount': '23 g', 'display_seq': 6, 'nutritional_item': 'Total Carbohydrate', 'percent_dv': '.08'}, {'amount': '0 g', 'display_seq': 7, 'nutritional_item': 'Dietary Fiber', 'percent_dv': '0'}, {'amount': '22 g', 'display_seq': 8, 'nutritional_item': 'Total Sugars', 'percent_dv': None}, {'amount': '22 g Added Sugars', 'display_seq': 9, 'nutritional_item': 'Includes', 'percent_dv': '.44'}, {'amount': '2 g', 'display_seq': 10, 'nutritional_item': 'Protein', 'percent_dv': None}, {'amount': '0.0 mcg', 'display_seq': 11, 'nutritional_item': 'Vitamin D', 'percent_dv': '0'}, {'amount': '0 mg', 'display_seq': 12, 'nutritional_item': 'Calcium', 'percent_dv': '0'}, {'amount': '0.0 mg', 'display_seq': 13, 'nutritional_item': 'Iron', 'percent_dv': '0'}, {'amount': '0 mg', 'display_seq': 14, 'nutritional_item': 'Potassium', 'percent_dv': '0'}], 'display_sequence': 0, 'panel_id': 1, 'panel_title': None, 'serving_size': '6 pieces (30g)', 'servings_per_container': 'Serves about 8'}], 'ingredients': [{'display_sequence': 1, 'ingredient': 'GLUCOSE-FRUCTOSE SYRUP'}, {'display_sequence': 2, 'ingredient': 'SUGAR'}, {'display_sequence': 3, 'ingredient': 'WATER'}, {'display_sequence': 4, 'ingredient': 'BOVINE GELATIN'}, {'display_sequence': 5, 'ingredient': 'CORNSTARCH'}, {'display_sequence': 6, 'ingredient': 'COLOR ADDED (VEGETABLE JUICE, SPIRULINA EXTRACT, TURMERIC)'}, {'display_sequence': 7, 'ingredient': 'NATURAL FLAVORS'}, {'display_sequence': 8, 'ingredient': 'STRAWBERRY POWDER (STRAWBERRY PUREE CONCENTRATE, MALTODEXTRIN)'}, {'display_sequence': 9, 'ingredient': 'WATERMELON POWDER (MALTODEXTRIN, WATERMELON JUICE CONCENTRATE, CITRIC ACID [ACIDIFIER]).'}], 'item_description': None, 'popularity': '371', 'price': {'regularPrice': {'amount': {'value': 2.99, 'currency': 'USD'}}}, 'country_of_manufacture': None, 'country_of_origin': 'Product of Spain', 'description': {'html': ''}}, {'sku': '073162', 'name': 'CROISSANT CHOCOLATE', 'availability': '1', 'stock_status': 'OUT_OF_STOCK', 'only_x_left_in_stock': None, 'nutrition': [{'calories_per_serving': '350 ', 'details': [{'amount': '20 g', 'display_seq': 1, 'nutritional_item': 'Total Fat', 'percent_dv': '.26'}, {'amount': '12 g', 'display_seq': 2, 'nutritional_item': 'Saturated Fat', 'percent_dv': '.6'}, {'amount': '0.5 g', 'display_seq': 3, 'nutritional_item': 'Trans Fat', 'percent_dv': ''}, {'amount': '50 mg', 'display_seq': 4, 'nutritional_item': 'Cholesterol', 'percent_dv': '.17'}, {'amount': '360 mg', 'display_seq': 5, 'nutritional_item': 'Sodium', 'percent_dv': '.16'}, {'amount': '40 g', 'display_seq': 6, 'nutritional_item': 'Total Carbohydrate', 'percent_dv': '.15'}, {'amount': '2 g', 'display_seq': 7, 'nutritional_item': 'Dietary Fiber', 'percent_dv': '.07'}, {'amount': '14 g', 'display_seq': 8, 'nutritional_item': 'Total Sugars', 'percent_dv': ''}, {'amount': '12 g Added Sugars', 'display_seq': 9, 'nutritional_item': 'Includes', 'percent_dv': '.24'}, {'amount': '6 g', 'display_seq': 10, 'nutritional_item': 'Protein', 'percent_dv': ''}, {'amount': '0.1 mcg', 'display_seq': 11, 'nutritional_item': 'Vitamin D', 'percent_dv': '0'}, {'amount': '30 mg', 'display_seq': 12, 'nutritional_item': 'Calcium', 'percent_dv': '.02'}, {'amount': '1.1 mg', 'display_seq': 13, 'nutritional_item': 'Iron', 'percent_dv': '.06'}, {'amount': '140 mg', 'display_seq': 14, 'nutritional_item': 'Potassium', 'percent_dv': '.02'}], 'display_sequence': 0, 'panel_id': 1, 'panel_title': 'Per serving', 'serving_size': '1 croissant (83g)', 'servings_per_container': 'Serves 2'}, {'calories_per_serving': '710 ', 'details': [{'amount': '40 g', 'display_seq': 1, 'nutritional_item': 'Total Fat', 'percent_dv': '.51'}, {'amount': '23 g', 'display_seq': 2, 'nutritional_item': 'Saturated Fat', 'percent_dv': '1.15'}, {'amount': '1.0 g', 'display_seq': 3, 'nutritional_item': 'Trans Fat', 'percent_dv': ''}, {'amount': '95 mg', 'display_seq': 4, 'nutritional_item': 'Cholesterol', 'percent_dv': '.32'}, {'amount': '710 mg', 'display_seq': 5, 'nutritional_item': 'Sodium', 'percent_dv': '.31'}, {'amount': '79 g', 'display_seq': 6, 'nutritional_item': 'Total Carbohydrate', 'percent_dv': '.29'}, {'amount': '4 g', 'display_seq': 7, 'nutritional_item': 'Dietary Fiber', 'percent_dv': '.14'}, {'amount': '27 g', 'display_seq': 8, 'nutritional_item': 'Total Sugars', 'percent_dv': ''}, {'amount': '25 g Added Sugars', 'display_seq': 9, 'nutritional_item': 'Includes', 'percent_dv': '.5'}, {'amount': '13 g', 'display_seq': 10, 'nutritional_item': 'Protein', 'percent_dv': ''}, {'amount': '0.3 mcg', 'display_seq': 11, 'nutritional_item': 'Vitamin D', 'percent_dv': '.02'}, {'amount': '70 mg', 'display_seq': 12, 'nutritional_item': 'Calcium', 'percent_dv': '.06'}, {'amount': '2.3 mg', 'display_seq': 13, 'nutritional_item': 'Iron', 'percent_dv': '.15'}, {'amount': '280 mg', 'display_seq': 14, 'nutritional_item': 'Potassium', 'percent_dv': '.06'}], 'display_sequence': 1, 'panel_id': 2, 'panel_title': 'Per container', 'serving_size': '1 croissant (83g)', 'servings_per_container': 'Serves 2'}], 'ingredients': [{'display_sequence': 1, 'ingredient': 'UNBLEACHED WHEAT FLOUR (WHEAT FLOUR, ENZYME)'}, {'display_sequence': 2, 'ingredient': 'WATER'}, {'display_sequence': 3, 'ingredient': 'BUTTER (CREAM [MILK], NATURAL FLAVOR)'}, {'display_sequence': 4, 'ingredient': 'SEMISWEET CHOCOLATE (SUGAR, UNSWEETENED CHOCOLATE, COCOA BUTTER, ANHYDROUS DEXTROSE, SOY LECITHIN [EMULSIFIER], NATURAL FLAVOR)'}, {'display_sequence': 5, 'ingredient': 'SUGAR'}, {'display_sequence': 6, 'ingredient': 'MILK POWDER'}, {'display_sequence': 7, 'ingredient': 'YEAST'}, {'display_sequence': 8, 'ingredient': 'SALT'}, {'display_sequence': 9, 'ingredient': 'MILK PROTEIN'}, {'display_sequence': 10, 'ingredient': 'DOUGH CONDITIONER (XANTHAN GUM, DEACTIVATED YEAST, ASCORBIC ACID)'}, {'display_sequence': 11, 'ingredient': 'GUAR GUM'}, {'display_sequence': 12, 'ingredient': 'ENZYMES.'}], 'item_description': None, 'popularity': '158', 'price': {'regularPrice': {'amount': {'value': 3.49, 'currency': 'USD'}}}, 'country_of_manufacture': None, 'country_of_origin': 'Product of USA', 'description': {'html': ''}}, {'sku': '082097', 'name': 'NORTHWEST COLLECTIVE PINOT NOIR SUNSHINE MOUNTAIN', 'availability': '1', 'stock_status': 'OUT_OF_STOCK', 'only_x_left_in_stock': None, 'nutrition': None, 'ingredients': None, 'item_description': None, 'popularity': '65', 'price': {'regularPrice': {'amount': {'value': 14.99, 'currency': 'USD'}}}, 'country_of_manufacture': None, 'country_of_origin': 'Columbia Valley, OR', 'description': {'html': ''}}, {'sku': '079658', 'name': 'CAKE STRAWBERRIES & CREAM CLOUD', 'availability': '1', 'stock_status': 'OUT_OF_STOCK', 'only_x_left_in_stock': None, 'nutrition': [{'calories_per_serving': '160 ', 'details': [{'amount': '7 g', 'display_seq': 1, 'nutritional_item': 'Total Fat', 'percent_dv': '.09'}, {'amount': '4.0 g', 'display_seq': 2, 'nutritional_item': 'Saturated Fat', 'percent_dv': '.2'}, {'amount': '0 g', 'display_seq': 3, 'nutritional_item': 'Trans Fat', 'percent_dv': None}, {'amount': '55 mg', 'display_seq': 4, 'nutritional_item': 'Cholesterol', 'percent_dv': '.18'}, {'amount': '100 mg', 'display_seq': 5, 'nutritional_item': 'Sodium', 'percent_dv': '.04'}, {'amount': '23 g', 'display_seq': 6, 'nutritional_item': 'Total Carbohydrate', 'percent_dv': '.08'}, {'amount': '1 g', 'display_seq': 7, 'nutritional_item': 'Dietary Fiber', 'percent_dv': '.04'}, {'amount': '13 g', 'display_seq': 8, 'nutritional_item': 'Total Sugars', 'percent_dv': None}, {'amount': '12 g Added Sugars', 'display_seq': 9, 'nutritional_item': 'Includes', 'percent_dv': '.24'}, {'amount': '2 g', 'display_seq': 10, 'nutritional_item': 'Protein', 'percent_dv': None}, {'amount': '0.0 mcg', 'display_seq': 11, 'nutritional_item': 'Vitamin D', 'percent_dv': '0'}, {'amount': '40 mg', 'display_seq': 12, 'nutritional_item': 'Calcium', 'percent_dv': '.04'}, {'amount': '0.3 mg', 'display_seq': 13, 'nutritional_item': 'Iron', 'percent_dv': '.02'}, {'amount': '60 mg', 'display_seq': 14, 'nutritional_item': 'Potassium', 'percent_dv': '.02'}], 'display_sequence': 0, 'panel_id': 1, 'panel_title': None, 'serving_size': '1/6 cake (83g)', 'servings_per_container': 'Serves 6'}], 'ingredients': [{'display_sequence': 1, 'ingredient': 'HEAVY CREAM'}, {'display_sequence': 2, 'ingredient': 'WATER'}, {'display_sequence': 3, 'ingredient': 'STRAWBERRIES'}, {'display_sequence': 4, 'ingredient': 'SUGAR'}, {'display_sequence': 5, 'ingredient': 'STRAWBERRY SAUCE (WATER, SUGAR, GLUCOSE-FRUCTOSE SYRUP, STRAWBERRIES, MODIFIED CORNSTARCH, CITRIC ACID [ACIDIFIER], FRUIT JUICE [COLOR], PECTIN, TRISODIUM CITRATE, NATURAL FLAVOR)'}, {'display_sequence': 6, 'ingredient': 'EGG'}, {'display_sequence': 7, 'ingredient': 'WHEAT FLOUR'}, {'display_sequence': 8, 'ingredient': 'POTATO STARCH'}, {'display_sequence': 9, 'ingredient': 'CONTAINS 2% OR LESS OF COCONUT OIL'}, {'display_sequence': 10, 'ingredient': 'MODIFIED CORNSTARCH'}, {'display_sequence': 11, 'ingredient': 'MONO- AND DIGLYCERIDES OF FATTY ACIDS'}, {'display_sequence': 12, 'ingredient': 'GLUCOSE SYRUP'}, {'display_sequence': 13, 'ingredient': 'DISODIUM DIPHOSPHATE'}, {'display_sequence': 14, 'ingredient': 'SODIUM BICARBONATE'}, {'display_sequence': 15, 'ingredient': 'NONFAT DRY MILK'}, {'display_sequence': 16, 'ingredient': 'CAROB BEAN GUM'}, {'display_sequence': 17, 'ingredient': 'SODIUM CASEINATE'}, {'display_sequence': 18, 'ingredient': 'HAZELNUT'}, {'display_sequence': 19, 'ingredient': 'ALMOND'}, {'display_sequence': 20, 'ingredient': 'SALT'}, {'display_sequence': 21, 'ingredient': 'NATURAL FLAVORS'}, {'display_sequence': 22, 'ingredient': 'WHEAT MALT'}, {'display_sequence': 23, 'ingredient': 'BETA CAROTENE (COLOR)'}, {'display_sequence': 24, 'ingredient': 'ASCORBIC ACID (DOUGH CONDITIONER).'}], 'item_description': None, 'popularity': '817', 'price': {'regularPrice': {'amount': {'value': 6.49, 'currency': 'USD'}}}, 'country_of_manufacture': None, 'country_of_origin': 'Product of Sweden', 'description': {'html': ''}}, {'sku': '080323', 'name': 'GELATO STYLE PISTACHIO & FIOR DI LATTE', 'availability': '1', 'stock_status': 'OUT_OF_STOCK', 'only_x_left_in_stock': None, 'nutrition': [{'calories_per_serving': '200 ', 'details': [{'amount': '9 g', 'display_seq': 1, 'nutritional_item': 'Total Fat', 'percent_dv': '.12'}, {'amount': '7 g', 'display_seq': 2, 'nutritional_item': 'Saturated Fat', 'percent_dv': '.35'}, {'amount': '0 g', 'display_seq': 3, 'nutritional_item': 'Trans Fat', 'percent_dv': None}, {'amount': 'less than 5mg', 'display_seq': 4, 'nutritional_item': 'Cholesterol', 'percent_dv': '.01'}, {'amount': '65 mg', 'display_seq': 5, 'nutritional_item': 'Sodium', 'percent_dv': '.03'}, {'amount': '26 g', 'display_seq': 6, 'nutritional_item': 'Total Carbohydrate', 'percent_dv': '.09'}, {'amount': '1 g', 'display_seq': 7, 'nutritional_item': 'Dietary Fiber', 'percent_dv': '.04'}, {'amount': '23 g', 'display_seq': 8, 'nutritional_item': 'Total Sugars', 'percent_dv': None}, {'amount': '18 g Added Sugars', 'display_seq': 9, 'nutritional_item': 'Includes', 'percent_dv': '.36'}, {'amount': '3 g', 'display_seq': 10, 'nutritional_item': 'Protein', 'percent_dv': None}, {'amount': '0.0 mcg', 'display_seq': 11, 'nutritional_item': 'Vitamin D', 'percent_dv': '0'}, {'amount': '100 mg', 'display_seq': 12, 'nutritional_item': 'Calcium', 'percent_dv': '.08'}, {'amount': '0.1 mg', 'display_seq': 13, 'nutritional_item': 'Iron', 'percent_dv': '0'}, {'amount': '190 mg', 'display_seq': 14, 'nutritional_item': 'Potassium', 'percent_dv': '.04'}], 'display_sequence': 0, 'panel_id': 1, 'panel_title': None, 'serving_size': '2/3 cup (104g)', 'servings_per_container': 'Serves about 5'}], 'ingredients': [{'display_sequence': 1, 'ingredient': 'FIOR DI LATTE GELATO (WATER, SUGAR, COCONUT OIL, GLUCOSE SYRUP [WHEAT, CORN], NONFAT DRY MILK, DEXTROSE [WHEAT, CORN], WHEY SOLIDS, MONO- AND DIGLYCERIDES OF FATTY ACIDS, GUAR GUM, CAROB BEAN GUM, NATURAL FLAVOR)'}, {'display_sequence': 2, 'ingredient': 'PISTACHIO GELATO (WATER, SUGAR, COCONUT OIL, GLUCOSE SYRUP [WHEAT, CORN], NONFAT DRY MILK, PISTACHIO, DEXTROSE [WHEAT, CORN], WHEY SOLIDS, MONO- AND DIGLYCERIDES OF FATTY ACIDS, GUAR GUM, CAROB BEAN GUM, SPIRULINA EXTRACT [COLOR], NATURAL FLAVOR, SALT, TURMERIC EXTRACT [COLOR]).'}], 'item_description': None, 'popularity': '721', 'price': {'regularPrice': {'amount': {'value': 4.99, 'currency': 'USD'}}}, 'country_of_manufacture': None, 'country_of_origin': 'Product of Italy', 'description': {'html': ''}}, {'sku': '080233', 'name': 'COLD BREW COFFEE', 'availability': '1', 'stock_status': 'OUT_OF_STOCK', 'only_x_left_in_stock': None, 'nutrition': [{'calories_per_serving': '15 ', 'details': [{'amount': '0 g', 'display_seq': 1, 'nutritional_item': 'Total Fat', 'percent_dv': '0'}, {'amount': '0 g', 'display_seq': 2, 'nutritional_item': 'Saturated Fat', 'percent_dv': '0'}, {'amount': '0 g', 'display_seq': 3, 'nutritional_item': 'Trans Fat', 'percent_dv': None}, {'amount': '0 mg', 'display_seq': 4, 'nutritional_item': 'Cholesterol', 'percent_dv': '0'}, {'amount': '10 mg', 'display_seq': 5, 'nutritional_item': 'Sodium', 'percent_dv': '0'}, {'amount': '2 g', 'display_seq': 6, 'nutritional_item': 'Total Carbohydrate', 'percent_dv': '.01'}, {'amount': '0 g', 'display_seq': 7, 'nutritional_item': 'Dietary Fiber', 'percent_dv': '0'}, {'amount': '0 g', 'display_seq': 8, 'nutritional_item': 'Total Sugars', 'percent_dv': None}, {'amount': '0 g Added Sugars', 'display_seq': 9, 'nutritional_item': 'Includes', 'percent_dv': '0'}, {'amount': 'less than 1g', 'display_seq': 10, 'nutritional_item': 'Protein', 'percent_dv': None}, {'amount': '0.0 mcg', 'display_seq': 11, 'nutritional_item': 'Vitamin D', 'percent_dv': '0'}, {'amount': '30 mg', 'display_seq': 12, 'nutritional_item': 'Calcium', 'percent_dv': '.02'}, {'amount': '0.0 mg', 'display_seq': 13, 'nutritional_item': 'Iron', 'percent_dv': '0'}, {'amount': '340 mg', 'display_seq': 14, 'nutritional_item': 'Potassium', 'percent_dv': '.08'}], 'display_sequence': 0, 'panel_id': 1, 'panel_title': None, 'serving_size': '1 Bottle (300mL)', 'servings_per_container': 'Serves 1'}], 'ingredients': [{'display_sequence': 1, 'ingredient': 'WATER'}, {'display_sequence': 2, 'ingredient': 'ARABICA COFFEE'}], 'item_description': None, 'popularity': '295', 'price': {'regularPrice': {'amount': {'value': 3.29, 'currency': 'USD'}}}, 'country_of_manufacture': None, 'country_of_origin': 'Product of United States', 'description': {'html': ''}}, {'sku': '080349', 'name': 'FUDGE HOT HONEY', 'availability': '1', 'stock_status': 'OUT_OF_STOCK', 'only_x_left_in_stock': None, 'nutrition': [{'calories_per_serving': '110 ', 'details': [{'amount': '3.0 g', 'display_seq': 1, 'nutritional_item': 'Total Fat', 'percent_dv': '.04'}, {'amount': '2.5 g', 'display_seq': 2, 'nutritional_item': 'Saturated Fat', 'percent_dv': '.13'}, {'amount': '0 g', 'display_seq': 3, 'nutritional_item': 'Trans Fat', 'percent_dv': None}, {'amount': '0 mg', 'display_seq': 4, 'nutritional_item': 'Cholesterol', 'percent_dv': '0'}, {'amount': '50 mg', 'display_seq': 5, 'nutritional_item': 'Sodium', 'percent_dv': '.02'}, {'amount': '19 g', 'display_seq': 6, 'nutritional_item': 'Total Carbohydrate', 'percent_dv': '.07'}, {'amount': '0 g', 'display_seq': 7, 'nutritional_item': 'Dietary Fiber', 'percent_dv': '0'}, {'amount': '17 g', 'display_seq': 8, 'nutritional_item': 'Total Sugars', 'percent_dv': None}, {'amount': '16 g Added Sugars', 'display_seq': 9, 'nutritional_item': 'Includes', 'percent_dv': '.32'}, {'amount': 'less than 1g', 'display_seq': 10, 'nutritional_item': 'Protein', 'percent_dv': None}, {'amount': '0.0 mcg', 'display_seq': 11, 'nutritional_item': 'Vitamin D', 'percent_dv': '0'}, {'amount': '0 mg', 'display_seq': 12, 'nutritional_item': 'Calcium', 'percent_dv': '0'}, {'amount': '0.0 mg', 'display_seq': 13, 'nutritional_item': 'Iron', 'percent_dv': '0'}, {'amount': '0 mg', 'display_seq': 14, 'nutritional_item': 'Potassium', 'percent_dv': '0'}], 'display_sequence': 0, 'panel_id': 1, 'panel_title': None, 'serving_size': '2 pieces (25g)', 'servings_per_container': 'Serves about 6'}], 'ingredients': [{'display_sequence': 1, 'ingredient': 'SUGAR'}, {'display_sequence': 2, 'ingredient': 'GLUCOSE SYRUP (CORN, WHEAT)'}, {'display_sequence': 3, 'ingredient': 'SWEETENED CONDENSED MILK (MILK, SUGAR)'}, {'display_sequence': 4, 'ingredient': 'COCONUT OIL'}, {'display_sequence': 5, 'ingredient': 'SALTED BUTTER (CREAM, SALT)'}, {'display_sequence': 6, 'ingredient': 'INVERT SUGAR SYRUP'}, {'display_sequence': 7, 'ingredient': 'MILK CHOCOLATE (SUGAR, COCOA BUTTER, WHOLE MILK POWDER, UNSWEETENED CHOCOLATE, SOY LECITHIN [EMULSIFIER], NATURAL FLAVOR)'}, {'display_sequence': 8, 'ingredient': 'HONEY'}, {'display_sequence': 9, 'ingredient': 'NATURAL FLAVOR (INCLUDING CHILI EXTRACT)'}, {'display_sequence': 10, 'ingredient': 'SALT.'}], 'item_description': None, 'popularity': '325', 'price': {'regularPrice': {'amount': {'value': 2.99, 'currency': 'USD'}}}, 'country_of_manufacture': None, 'country_of_origin': 'Product of United Kingdom', 'description': {'html': ''}}, {'sku': '079518', 'name': 'JUST SALMON WITH SKIN FOR PETS', 'availability': '1', 'stock_status': 'OUT_OF_STOCK', 'only_x_left_in_stock': None, 'nutrition': None, 'ingredients': [{'display_sequence': 1, 'ingredient': 'SALMON'}], 'item_description': None, 'popularity': '200', 'price': {'regularPrice': {'amount': {'value': 5.49, 'currency': 'USD'}}}, 'country_of_manufacture': None, 'country_of_origin': 'Product of USA', 'description': {'html': ''}}, {'sku': '080967', 'name': 'LAMB SHOULDER RACK SEASONED', 'availability': '1', 'stock_status': 'OUT_OF_STOCK', 'only_x_left_in_stock': None, 'nutrition': [{'calories_per_serving': '290 ', 'details': [{'amount': '23 g', 'display_seq': 1, 'nutritional_item': 'Total Fat', 'percent_dv': '.29'}, {'amount': '11 g', 'display_seq': 2, 'nutritional_item': 'Saturated Fat', 'percent_dv': '.55'}, {'amount': '0 g', 'display_seq': 3, 'nutritional_item': 'Trans Fat', 'percent_dv': None}, {'amount': '70 mg', 'display_seq': 4, 'nutritional_item': 'Cholesterol', 'percent_dv': '.23'}, {'amount': '640 mg', 'display_seq': 5, 'nutritional_item': 'Sodium', 'percent_dv': '.28'}, {'amount': 'less than 1g', 'display_seq': 6, 'nutritional_item': 'Total Carbohydrate', 'percent_dv': '0'}, {'amount': '0 g', 'display_seq': 7, 'nutritional_item': 'Dietary Fiber', 'percent_dv': '0'}, {'amount': '0 g', 'display_seq': 8, 'nutritional_item': 'Total Sugars', 'percent_dv': None}, {'amount': '0 g Added Sugars', 'display_seq': 9, 'nutritional_item': 'Includes', 'percent_dv': '0'}, {'amount': '18 g', 'display_seq': 10, 'nutritional_item': 'Protein', 'percent_dv': None}, {'amount': '0.0 mcg', 'display_seq': 11, 'nutritional_item': 'Vitamin D', 'percent_dv': '0'}, {'amount': '40 mg', 'display_seq': 12, 'nutritional_item': 'Calcium', 'percent_dv': '.04'}, {'amount': '1.9 mg', 'display_seq': 13, 'nutritional_item': 'Iron', 'percent_dv': '.1'}, {'amount': '310 mg', 'display_seq': 14, 'nutritional_item': 'Potassium', 'percent_dv': '.06'}], 'display_sequence': 0, 'panel_id': 1, 'panel_title': None, 'serving_size': '4 oz (112g)', 'servings_per_container': 'Serves Varied'}], 'ingredients': [{'display_sequence': 1, 'ingredient': 'LAMB'}, {'display_sequence': 2, 'ingredient': 'SEASONING BLEND (SALT, SPICES [CELERY SEED, THYME, ROSEMARY, BLACK PEPPER], SESAME SEEDS, DEHYDRATED GARLIC)'}, {'display_sequence': 3, 'ingredient': 'VINEGAR POWDER'}, {'display_sequence': 4, 'ingredient': 'ROSEMARY EXTRACT'}], 'item_description': None, 'popularity': '318', 'price': {'regularPrice': {'amount': {'value': 11.99, 'currency': 'USD'}}}, 'country_of_manufacture': None, 'country_of_origin': 'Product of Australia', 'description': {'html': ''}}, {'sku': '081792', 'name': 'SOUP BROCCOLI UNEXPECTED CHEDDAR', 'availability': '1', 'stock_status': 'OUT_OF_STOCK', 'only_x_left_in_stock': None, 'nutrition': [{'calories_per_serving': '310 ', 'details': [{'amount': '23 g', 'display_seq': 1, 'nutritional_item': 'Total Fat', 'percent_dv': '.29'}, {'amount': '14 g', 'display_seq': 2, 'nutritional_item': 'Saturated Fat', 'percent_dv': '.7'}, {'amount': '0.5 g', 'display_seq': 3, 'nutritional_item': 'Trans Fat', 'percent_dv': None}, {'amount': '75 mg', 'display_seq': 4, 'nutritional_item': 'Cholesterol', 'percent_dv': '.25'}, {'amount': '690 mg', 'display_seq': 5, 'nutritional_item': 'Sodium', 'percent_dv': '.3'}, {'amount': '13 g', 'display_seq': 6, 'nutritional_item': 'Total Carbohydrate', 'percent_dv': '.05'}, {'amount': '2 g', 'display_seq': 7, 'nutritional_item': 'Dietary Fiber', 'percent_dv': '.07'}, {'amount': '5 g', 'display_seq': 8, 'nutritional_item': 'Total Sugars', 'percent_dv': None}, {'amount': '0 g Added Sugars', 'display_seq': 9, 'nutritional_item': 'Includes', 'percent_dv': '0'}, {'amount': '13 g', 'display_seq': 10, 'nutritional_item': 'Protein', 'percent_dv': None}, {'amount': '3.1 mcg', 'display_seq': 11, 'nutritional_item': 'Vitamin D', 'percent_dv': '.15'}, {'amount': '400 mg', 'display_seq': 12, 'nutritional_item': 'Calcium', 'percent_dv': '.3'}, {'amount': '0.3 mg', 'display_seq': 13, 'nutritional_item': 'Iron', 'percent_dv': '.02'}, {'amount': '240 mg', 'display_seq': 14, 'nutritional_item': 'Potassium', 'percent_dv': '.06'}], 'display_sequence': 0, 'panel_id': 1, 'panel_title': 'Per serving', 'serving_size': '1 cup (245g)', 'servings_per_container': 'Serves about 2.5'}, {'calories_per_serving': '720 ', 'details': [{'amount': '53 g', 'display_seq': 1, 'nutritional_item': 'Total Fat', 'percent_dv': '.68'}, {'amount': '33 g', 'display_seq': 2, 'nutritional_item': 'Saturated Fat', 'percent_dv': '1.65'}, {'amount': '1.0 g', 'display_seq': 3, 'nutritional_item': 'Trans Fat', 'percent_dv': None}, {'amount': '175 mg', 'display_seq': 4, 'nutritional_item': 'Cholesterol', 'percent_dv': '.58'}, {'amount': '1590 mg', 'display_seq': 5, 'nutritional_item': 'Sodium', 'percent_dv': '.69'}, {'amount': '31 g', 'display_seq': 6, 'nutritional_item': 'Total Carbohydrate', 'percent_dv': '.11'}, {'amount': '4 g', 'display_seq': 7, 'nutritional_item': 'Dietary Fiber', 'percent_dv': '.14'}, {'amount': '11 g', 'display_seq': 8, 'nutritional_item': 'Total Sugars', 'percent_dv': None}, {'amount': '0 g Added Sugars', 'display_seq': 9, 'nutritional_item': 'Includes', 'percent_dv': '0'}, {'amount': '30 g', 'display_seq': 10, 'nutritional_item': 'Protein', 'percent_dv': None}, {'amount': '7.1 mcg', 'display_seq': 11, 'nutritional_item': 'Vitamin D', 'percent_dv': '.35'}, {'amount': '920 mg', 'display_seq': 12, 'nutritional_item': 'Calcium', 'percent_dv': '.7'}, {'amount': '0.7 mg', 'display_seq': 13, 'nutritional_item': 'Iron', 'percent_dv': '.04'}, {'amount': '540 mg', 'display_seq': 14, 'nutritional_item': 'Potassium', 'percent_dv': '.1'}], 'display_sequence': 1, 'panel_id': 2, 'panel_title': 'Per container', 'serving_size': '1 cup (245g)', 'servings_per_container': 'Serves about 2.5'}], 'ingredients': [{'display_sequence': 1, 'ingredient': 'MILK (MILK, VITAMIN D3)'}, {'display_sequence': 2, 'ingredient': 'WATER'}, {'display_sequence': 3, 'ingredient': 'BROCCOLI'}, {'display_sequence': 4, 'ingredient': 'UNEXPECTED CHEDDAR CHEESE (CHEDDAR CHEESE [PASTEURIZED MILK, CHEESE CULTURES, SALT, MICROBIAL ENZYMES], POWDERED CELLULOSE [ANTI-CAKING])'}, {'display_sequence': 5, 'ingredient': 'CHEDDAR CHEESE (PASTEURIZED MILK, CHEESE CULTURES, SALT, MICROBIAL ENZYMES)'}, {'display_sequence': 6, 'ingredient': 'HEAVY CREAM'}, {'display_sequence': 7, 'ingredient': 'CARROTS'}, {'display_sequence': 8, 'ingredient': 'ONIONS'}, {'display_sequence': 9, 'ingredient': 'CONTAINS 2% OR LESS OF MODIFIED CORNSTARCH'}, {'display_sequence': 10, 'ingredient': 'BUTTER (PASTEURIZED CREAM, SALT)'}, {'display_sequence': 11, 'ingredient': 'SOY SAUCE (WATER, SOYBEANS, SALT, ALCOHOL)'}, {'display_sequence': 12, 'ingredient': 'GARLIC PUREE'}, {'display_sequence': 13, 'ingredient': 'SEA SALT'}, {'display_sequence': 14, 'ingredient': 'YEAST EXTRACT'}, {'display_sequence': 15, 'ingredient': 'SALT'}, {'display_sequence': 16, 'ingredient': 'DIJON MUSTARD (WATER, DISTILLED WHITE VINEGAR, MUSTARD SEED, SALT, CONTAINS 2% OR LESS OF WHITE WINE, CITRIC ACID [ACIDULANT], TARTARIC ACID, FRUIT PECTIN, SUGAR, SPICE)'}, {'display_sequence': 17, 'ingredient': 'ONION POWDER'}, {'display_sequence': 18, 'ingredient': 'WHITE PEPPER'}, {'display_sequence': 19, 'ingredient': 'LACTIC ACID'}, {'display_sequence': 20, 'ingredient': 'CALCIUM LACTATE'}, {'display_sequence': 21, 'ingredient': 'SILICON DIOXIDE.'}], 'item_description': None, 'popularity': '268', 'price': {'regularPrice': {'amount': {'value': 4.99, 'currency': 'USD'}}}, 'country_of_manufacture': None, 'country_of_origin': 'Made in United States', 'description': {'html': ''}}, {'sku': '080602', 'name': 'RISOTTO SEMPLICE', 'availability': '1', 'stock_status': 'OUT_OF_STOCK', 'only_x_left_in_stock': None, 'nutrition': [{'calories_per_serving': '330 ', 'details': [{'amount': '17 g', 'display_seq': 1, 'nutritional_item': 'Total Fat', 'percent_dv': '.22'}, {'amount': '7 g', 'display_seq': 2, 'nutritional_item': 'Saturated Fat', 'percent_dv': '.35'}, {'amount': '0 g', 'display_seq': 3, 'nutritional_item': 'Trans Fat', 'percent_dv': None}, {'amount': '25 mg', 'display_seq': 4, 'nutritional_item': 'Cholesterol', 'percent_dv': '.08'}, {'amount': '680 mg', 'display_seq': 5, 'nutritional_item': 'Sodium', 'percent_dv': '.3'}, {'amount': '38 g', 'display_seq': 6, 'nutritional_item': 'Total Carbohydrate', 'percent_dv': '.14'}, {'amount': '0 g', 'display_seq': 7, 'nutritional_item': 'Dietary Fiber', 'percent_dv': '0'}, {'amount': '0 g', 'display_seq': 8, 'nutritional_item': 'Total Sugars', 'percent_dv': None}, {'amount': '0 g Added Sugars', 'display_seq': 9, 'nutritional_item': 'Includes', 'percent_dv': '0'}, {'amount': '8 g', 'display_seq': 10, 'nutritional_item': 'Protein', 'percent_dv': None}, {'amount': '0.0 mcg', 'display_seq': 11, 'nutritional_item': 'Vitamin D', 'percent_dv': '0'}, {'amount': '130 mg', 'display_seq': 12, 'nutritional_item': 'Calcium', 'percent_dv': '.1'}, {'amount': '0.0 mg', 'display_seq': 13, 'nutritional_item': 'Iron', 'percent_dv': '0'}, {'amount': '40 mg', 'display_seq': 14, 'nutritional_item': 'Potassium', 'percent_dv': '0'}], 'display_sequence': 0, 'panel_id': 1, 'panel_title': 'Per serving', 'serving_size': '1/2 package (227g)', 'servings_per_container': 'Serves 2'}, {'calories_per_serving': '670 ', 'details': [{'amount': '34 g', 'display_seq': 1, 'nutritional_item': 'Total Fat', 'percent_dv': '.44'}, {'amount': '14 g', 'display_seq': 2, 'nutritional_item': 'Saturated Fat', 'percent_dv': '.7'}, {'amount': '0.5 g', 'display_seq': 3, 'nutritional_item': 'Trans Fat', 'percent_dv': None}, {'amount': '50 mg', 'display_seq': 4, 'nutritional_item': 'Cholesterol', 'percent_dv': '.17'}, {'amount': '1360 mg', 'display_seq': 5, 'nutritional_item': 'Sodium', 'percent_dv': '.59'}, {'amount': '75 g', 'display_seq': 6, 'nutritional_item': 'Total Carbohydrate', 'percent_dv': '.27'}, {'amount': '0 g', 'display_seq': 7, 'nutritional_item': 'Dietary Fiber', 'percent_dv': '0'}, {'amount': '0 g', 'display_seq': 8, 'nutritional_item': 'Total Sugars', 'percent_dv': None}, {'amount': '0 g Added Sugars', 'display_seq': 9, 'nutritional_item': 'Includes', 'percent_dv': '0'}, {'amount': '15 g', 'display_seq': 10, 'nutritional_item': 'Protein', 'percent_dv': None}, {'amount': '0.0 mcg', 'display_seq': 11, 'nutritional_item': 'Vitamin D', 'percent_dv': '0'}, {'amount': '260 mg', 'display_seq': 12, 'nutritional_item': 'Calcium', 'percent_dv': '.2'}, {'amount': '0.0 mg', 'display_seq': 13, 'nutritional_item': 'Iron', 'percent_dv': '0'}, {'amount': '80 mg', 'display_seq': 14, 'nutritional_item': 'Potassium', 'percent_dv': '.02'}], 'display_sequence': 1, 'panel_id': 2, 'panel_title': 'Per package', 'serving_size': '1/2 package (227g)', 'servings_per_container': 'Serves 2'}], 'ingredients': [{'display_sequence': 1, 'ingredient': 'COOKED CARNAROLI RICE (WATER, CARNAROLI RICE)'}, {'display_sequence': 2, 'ingredient': 'WATER'}, {'display_sequence': 3, 'ingredient': 'HARD GRATING CHEESE (MILK, SALT, MICROBIAL RENNET)'}, {'display_sequence': 4, 'ingredient': 'RICE FLOUR'}, {'display_sequence': 5, 'ingredient': 'SUNFLOWER OIL'}, {'display_sequence': 6, 'ingredient': 'CULTURED BUTTER (CREAM, LACTIC ACID STARTER CULTURE)'}, {'display_sequence': 7, 'ingredient': 'CREAM'}, {'display_sequence': 8, 'ingredient': 'EXTRA VIRGIN OLIVE OIL'}, {'display_sequence': 9, 'ingredient': 'ONION'}, {'display_sequence': 10, 'ingredient': 'SEA SALT'}, {'display_sequence': 11, 'ingredient': 'GRANULATED VEGETABLE BROTH (SALT, POTATO STARCH, POTATO MALTODEXTRIN, DRIED VEGETABLES [CARROT, ONION, CELERY, PARSLEY], SUNFLOWER OIL, NATURAL FLAVORS, SPICES)'}, {'display_sequence': 12, 'ingredient': 'SAFFRON'}, {'display_sequence': 13, 'ingredient': 'TURMERIC.'}], 'item_description': None, 'popularity': '512', 'price': {'regularPrice': {'amount': {'value': 3.99, 'currency': 'USD'}}}, 'country_of_manufacture': None, 'country_of_origin': 'Product of Italy', 'description': {'html': ''}}, {'sku': '078613', 'name': 'YOGURT GREEK HONEY 5.3 OZ WHOLE', 'availability': '1', 'stock_status': 'OUT_OF_STOCK', 'only_x_left_in_stock': None, 'nutrition': [{'calories_per_serving': '210 ', 'details': [{'amount': '13 g', 'display_seq': 1, 'nutritional_item': 'Total Fat', 'percent_dv': '.17'}, {'amount': '8 g', 'display_seq': 2, 'nutritional_item': 'Saturated Fat', 'percent_dv': '.4'}, {'amount': '0 g', 'display_seq': 3, 'nutritional_item': 'Trans Fat', 'percent_dv': ''}, {'amount': '40 mg', 'display_seq': 4, 'nutritional_item': 'Cholesterol', 'percent_dv': '.13'}, {'amount': '65 mg', 'display_seq': 5, 'nutritional_item': 'Sodium', 'percent_dv': '.03'}, {'amount': '17 g', 'display_seq': 6, 'nutritional_item': 'Total Carbohydrate', 'percent_dv': '.06'}, {'amount': '0 g', 'display_seq': 7, 'nutritional_item': 'Dietary Fiber', 'percent_dv': '0'}, {'amount': '15 g', 'display_seq': 8, 'nutritional_item': 'Total Sugars', 'percent_dv': ''}, {'amount': '10 g Added Sugars', 'display_seq': 9, 'nutritional_item': 'Includes', 'percent_dv': '.2'}, {'amount': '5 g', 'display_seq': 10, 'nutritional_item': 'Protein', 'percent_dv': '.1'}, {'amount': '0.0 mcg', 'display_seq': 11, 'nutritional_item': 'Vitamin D', 'percent_dv': '0'}, {'amount': '180 mg', 'display_seq': 12, 'nutritional_item': 'Calcium', 'percent_dv': '.15'}, {'amount': '0.0 mg', 'display_seq': 13, 'nutritional_item': 'Iron', 'percent_dv': '0'}, {'amount': '210 mg', 'display_seq': 14, 'nutritional_item': 'Potassium', 'percent_dv': '.04'}], 'display_sequence': 0, 'panel_id': 1, 'panel_title': '', 'serving_size': '1 container (150g)', 'servings_per_container': 'Serves 1'}], 'ingredients': [{'display_sequence': 1, 'ingredient': 'GRADE A PASTEURIZED MILK (SKIM MILK, CREAM)'}, {'display_sequence': 2, 'ingredient': 'HONEY'}, {'display_sequence': 3, 'ingredient': 'LIVE ACTIVE CULTURES (STREPTOCOCCUS THERMOPHILUS, LACTOBICILLUS BULGARICUS, L. ACIDOPHILUS, BIFIDUS, L. CASEI)'}], 'item_description': None, 'popularity': '90', 'price': {'regularPrice': {'amount': {'value': 0.99, 'currency': 'USD'}}}, 'country_of_manufacture': None, 'country_of_origin': 'Product of USA', 'description': {'html': ''}}, {'sku': '086453', 'name': 'YOGURT GREEK PLAIN LOW FAT 2%', 'availability': '1', 'stock_status': 'OUT_OF_STOCK', 'only_x_left_in_stock': None, 'nutrition': [{'calories_per_serving': '130 ', 'details': [{'amount': '3.5 g', 'display_seq': 1, 'nutritional_item': 'Total Fat', 'percent_dv': '.04'}, {'amount': '2.0 g', 'display_seq': 2, 'nutritional_item': 'Saturated Fat', 'percent_dv': '.1'}, {'amount': '0 g', 'display_seq': 3, 'nutritional_item': 'Trans Fat', 'percent_dv': ''}, {'amount': '20 mg', 'display_seq': 4, 'nutritional_item': 'Cholesterol', 'percent_dv': '.07'}, {'amount': '75 mg', 'display_seq': 5, 'nutritional_item': 'Sodium', 'percent_dv': '.03'}, {'amount': '8 g', 'display_seq': 6, 'nutritional_item': 'Total Carbohydrate', 'percent_dv': '.03'}, {'amount': '0 g', 'display_seq': 7, 'nutritional_item': 'Dietary Fiber', 'percent_dv': '0'}, {'amount': '5 g', 'display_seq': 8, 'nutritional_item': 'Total Sugars', 'percent_dv': ''}, {'amount': '0 g Added Sugars', 'display_seq': 9, 'nutritional_item': 'Includes', 'percent_dv': '0'}, {'amount': '16 g', 'display_seq': 10, 'nutritional_item': 'Protein', 'percent_dv': '.32'}, {'amount': '0.0 mcg', 'display_seq': 11, 'nutritional_item': 'Vitamin D', 'percent_dv': '0'}, {'amount': '160 mg', 'display_seq': 12, 'nutritional_item': 'Calcium', 'percent_dv': '.1'}, {'amount': '0.3 mg', 'display_seq': 13, 'nutritional_item': 'Iron', 'percent_dv': '0'}, {'amount': '200 mg', 'display_seq': 14, 'nutritional_item': 'Potassium', 'percent_dv': '.04'}], 'display_sequence': 0, 'panel_id': 1, 'panel_title': 'Per Serving', 'serving_size': '3/4 Cup (170g )', 'servings_per_container': 'Serves about 2.5'}, {'calories_per_serving': '340 ', 'details': [{'amount': '9 g', 'display_seq': 1, 'nutritional_item': 'Total Fat', 'percent_dv': '.12'}, {'amount': '5 g', 'display_seq': 2, 'nutritional_item': 'Saturated Fat', 'percent_dv': '.25'}, {'amount': '0 g', 'display_seq': 3, 'nutritional_item': 'Trans Fat', 'percent_dv': ''}, {'amount': '55 mg', 'display_seq': 4, 'nutritional_item': 'Cholesterol', 'percent_dv': '.18'}, {'amount': '200 mg', 'display_seq': 5, 'nutritional_item': 'Sodium', 'percent_dv': '.09'}, {'amount': '20 g', 'display_seq': 6, 'nutritional_item': 'Total Carbohydrate', 'percent_dv': '.07'}, {'amount': '0 g', 'display_seq': 7, 'nutritional_item': 'Dietary Fiber', 'percent_dv': '0'}, {'amount': '13 g', 'display_seq': 8, 'nutritional_item': 'Total Sugars', 'percent_dv': ''}, {'amount': '0 g Added Sugars', 'display_seq': 9, 'nutritional_item': 'Includes', 'percent_dv': '0'}, {'amount': '42 g', 'display_seq': 10, 'nutritional_item': 'Protein', 'percent_dv': '.84'}, {'amount': '0.0 mcg', 'display_seq': 11, 'nutritional_item': 'Vitamin D', 'percent_dv': '0'}, {'amount': '430 mg', 'display_seq': 12, 'nutritional_item': 'Calcium', 'percent_dv': '.35'}, {'amount': '0.8 mg', 'display_seq': 13, 'nutritional_item': 'Iron', 'percent_dv': '.04'}, {'amount': '540 mg', 'display_seq': 14, 'nutritional_item': 'Potassium', 'percent_dv': '.1'}], 'display_sequence': 1, 'panel_id': 2, 'panel_title': 'Per Container', 'serving_size': '3/4 Cup (170g )', 'servings_per_container': 'Serves about 2.5'}], 'ingredients': [{'display_sequence': 1, 'ingredient': 'GRADE A PASTEURIZED MILK (PASTEURIZED SKIM MILK, PASTEURIZED CREAM)'}, {'display_sequence': 2, 'ingredient': 'LIVE ACTIVE CULTURES (BIFIDOBACTERIUM LACTIS, LACTOBACILLUS ACIDOPHILUS, L. BULGARICUS, L. PARACASEI, STREPTOCOCCUS THERMOPHILUS )'}], 'item_description': None, 'popularity': '84', 'price': {'regularPrice': {'amount': {'value': 2.99, 'currency': 'USD'}}}, 'country_of_manufacture': None, 'country_of_origin': 'Product of USA', 'description': {'html': ''}}, {'sku': '082031', 'name': 'SIDE KOREAN BIBIM GUKSU', 'availability': '1', 'stock_status': 'OUT_OF_STOCK', 'only_x_left_in_stock': None, 'nutrition': [{'calories_per_serving': '250 ', 'details': [{'amount': '6 g', 'display_seq': 1, 'nutritional_item': 'Total Fat', 'percent_dv': '.08'}, {'amount': '1.0 g', 'display_seq': 2, 'nutritional_item': 'Saturated Fat', 'percent_dv': '.05'}, {'amount': '0 g', 'display_seq': 3, 'nutritional_item': 'Trans Fat', 'percent_dv': ''}, {'amount': '0 mg', 'display_seq': 4, 'nutritional_item': 'Cholesterol', 'percent_dv': '0'}, {'amount': '920 mg', 'display_seq': 5, 'nutritional_item': 'Sodium', 'percent_dv': '.4'}, {'amount': '44 g', 'display_seq': 6, 'nutritional_item': 'Total Carbohydrate', 'percent_dv': '.16'}, {'amount': '3 g', 'display_seq': 7, 'nutritional_item': 'Dietary Fiber', 'percent_dv': '.11'}, {'amount': '13 g', 'display_seq': 8, 'nutritional_item': 'Total Sugars', 'percent_dv': ''}, {'amount': '10 g Added Sugars', 'display_seq': 9, 'nutritional_item': 'Includes', 'percent_dv': '.2'}, {'amount': '5 g', 'display_seq': 10, 'nutritional_item': 'Protein', 'percent_dv': ''}, {'amount': '0.0 mcg', 'display_seq': 11, 'nutritional_item': 'Vitamin D', 'percent_dv': '0'}, {'amount': '100 mg', 'display_seq': 12, 'nutritional_item': 'Calcium', 'percent_dv': '.08'}, {'amount': '1.1 mg', 'display_seq': 13, 'nutritional_item': 'Iron', 'percent_dv': '.06'}, {'amount': '380 mg', 'display_seq': 14, 'nutritional_item': 'Potassium', 'percent_dv': '.08'}], 'display_sequence': 0, 'panel_id': 1, 'panel_title': '', 'serving_size': '1 container (278g)', 'servings_per_container': 'Serves 1'}], 'ingredients': [{'display_sequence': 1, 'ingredient': 'SALAD (COOKED SOMEN NOODLES [WATER, SOMEN NOODLES {WHEAT FLOUR, SALT}, CANOLA OIL, EXTRA VIRGIN OLIVE OIL], NAPA CABBAGE, CUCUMBER, CARROTS, KOREAN STYLE KIMCHI [NAPA CABBAGE, GREEN ONIONS, WAKAME SEAWEED, CHILI PEPPER, SEA SALT, SESAME SEEDS, GARLIC, GINGER], GREEN ONION, SESAME SEEDS)'}, {'display_sequence': 2, 'ingredient': 'GOCHUJANG DRESSING (WATER, CANE SUGAR, RED PEPPER PASTE [WATER, TAPIOCA SYRUP, BROWN RICE, GROUND RED PEPPER, SALT GARLIC, ONION], ONION PUREE, SOY SAUCE [WATER, SOYBEANS, WHEAT, SALT], PEAR PUREE, APPLE PUREE, SESAME OIL, RICE VINEGAR, CHOPPED GARLIC, DISTILLED VINEGAR, HONEY, CORNSTARCH, CANOLA OIL, SALT, SESAME SEEDS, RED CHILI PEPPER, PAPRIKA OLEORESIN [COLOR]).'}], 'item_description': None, 'popularity': '657', 'price': {'regularPrice': {'amount': {'value': 4.99, 'currency': 'USD'}}}, 'country_of_manufacture': None, 'country_of_origin': 'Product of USA', 'description': {'html': ''}}, {'sku': '081310', 'name': 'DIP RANCH COTTAGE CHEESE', 'availability': '1', 'stock_status': 'OUT_OF_STOCK', 'only_x_left_in_stock': None, 'nutrition': [{'calories_per_serving': '25 ', 'details': [{'amount': '1.5 g', 'display_seq': 1, 'nutritional_item': 'Total Fat', 'percent_dv': '.02'}, {'amount': '1.0 g', 'display_seq': 2, 'nutritional_item': 'Saturated Fat', 'percent_dv': '.05'}, {'amount': '0 g', 'display_seq': 3, 'nutritional_item': 'Trans Fat', 'percent_dv': None}, {'amount': '5 mg', 'display_seq': 4, 'nutritional_item': 'Cholesterol', 'percent_dv': '.02'}, {'amount': '210 mg', 'display_seq': 5, 'nutritional_item': 'Sodium', 'percent_dv': '.09'}, {'amount': '1 g', 'display_seq': 6, 'nutritional_item': 'Total Carbohydrate', 'percent_dv': '0'}, {'amount': '0 g', 'display_seq': 7, 'nutritional_item': 'Dietary Fiber', 'percent_dv': '0'}, {'amount': 'less than 1g', 'display_seq': 8, 'nutritional_item': 'Total Sugars', 'percent_dv': None}, {'amount': '0 g Added Sugars', 'display_seq': 9, 'nutritional_item': 'Includes', 'percent_dv': '0'}, {'amount': '3 g', 'display_seq': 10, 'nutritional_item': 'Protein', 'percent_dv': None}, {'amount': '0.1 mcg', 'display_seq': 11, 'nutritional_item': 'Vitamin D', 'percent_dv': '0'}, {'amount': '30 mg', 'display_seq': 12, 'nutritional_item': 'Calcium', 'percent_dv': '.02'}, {'amount': '0.1 mg', 'display_seq': 13, 'nutritional_item': 'Iron', 'percent_dv': '0'}, {'amount': '30 mg', 'display_seq': 14, 'nutritional_item': 'Potassium', 'percent_dv': '0'}], 'display_sequence': 0, 'panel_id': 1, 'panel_title': None, 'serving_size': '2 Tbsp. (27g)', 'servings_per_container': 'Serves about 8'}], 'ingredients': [{'display_sequence': 1, 'ingredient': 'COTTAGE CHEESE (SKIM MILK, MILK, CREAM, SEA SALT, CHEESE CULTURES)'}, {'display_sequence': 2, 'ingredient': 'GREEK STYLE YOGURT (CULTURED PASTEURIZED MILK AND CREAM, SKIM MILK, WHEY PROTEIN CONCENTRATE, PECTIN)'}, {'display_sequence': 3, 'ingredient': 'BUTTERMILK (CULTURED PASTEURIZED LOWFAT MILK, SALT)'}, {'display_sequence': 4, 'ingredient': 'RANCH SEASONING (SALT, NATURAL FLAVOR, GARLIC POWDER, ONION POWDER, PARSLEY, BLACK PEPPER, CARRAGEENAN)'}, {'display_sequence': 5, 'ingredient': 'CONTAINS 2% OR LESS OF CULTURED DEXTROSE (TO PRESERVE)'}, {'display_sequence': 6, 'ingredient': 'DISTILLED WHITE VINEGAR'}, {'display_sequence': 7, 'ingredient': 'CULTURED NONFAT DRY MILK POWDER'}, {'display_sequence': 8, 'ingredient': 'MODIFIED CORNSTARCH'}, {'display_sequence': 9, 'ingredient': 'BLACK PEPPER'}, {'display_sequence': 10, 'ingredient': 'DRIED CHIVES'}, {'display_sequence': 11, 'ingredient': 'PARSLEY'}, {'display_sequence': 12, 'ingredient': 'XANTHAN GUM'}, {'display_sequence': 13, 'ingredient': 'DILL WEED.'}], 'item_description': None, 'popularity': '346', 'price': {'regularPrice': {'amount': {'value': 3.99, 'currency': 'USD'}}}, 'country_of_manufacture': None, 'country_of_origin': 'Product of United States', 'description': {'html': ''}}, {'sku': '079959', 'name': 'SANDWICH STARTERS', 'availability': '1', 'stock_status': 'OUT_OF_STOCK', 'only_x_left_in_stock': None, 'nutrition': [{'calories_per_serving': '180 ', 'details': [{'amount': '5.0 g', 'display_seq': 1, 'nutritional_item': 'Total Fat', 'percent_dv': '.06'}, {'amount': '0.5 g', 'display_seq': 2, 'nutritional_item': 'Saturated Fat', 'percent_dv': '.03'}, {'amount': '0 g', 'display_seq': 3, 'nutritional_item': 'Trans Fat', 'percent_dv': ''}, {'amount': '0 mg', 'display_seq': 4, 'nutritional_item': 'Cholesterol', 'percent_dv': '0'}, {'amount': '430 mg', 'display_seq': 5, 'nutritional_item': 'Sodium', 'percent_dv': '.19'}, {'amount': '31 g', 'display_seq': 6, 'nutritional_item': 'Total Carbohydrate', 'percent_dv': '.11'}, {'amount': '1 g', 'display_seq': 7, 'nutritional_item': 'Dietary Fiber', 'percent_dv': '.04'}, {'amount': '1 g', 'display_seq': 8, 'nutritional_item': 'Total Sugars', 'percent_dv': ''}, {'amount': 'less than 1 g Added Sugars', 'display_seq': 9, 'nutritional_item': 'Includes', 'percent_dv': '.02'}, {'amount': '6 g', 'display_seq': 10, 'nutritional_item': 'Protein', 'percent_dv': ''}, {'amount': '0.2 mcg', 'display_seq': 11, 'nutritional_item': 'Vitamin D', 'percent_dv': '.02'}, {'amount': '130 mg', 'display_seq': 12, 'nutritional_item': 'Calcium', 'percent_dv': '.1'}, {'amount': '2.0 mg', 'display_seq': 13, 'nutritional_item': 'Iron', 'percent_dv': '.1'}, {'amount': '10 mg', 'display_seq': 14, 'nutritional_item': 'Potassium', 'percent_dv': '0'}], 'display_sequence': 0, 'panel_id': 1, 'panel_title': '', 'serving_size': '1 bun (66g)', 'servings_per_container': 'Serves 6'}], 'ingredients': [{'display_sequence': 1, 'ingredient': 'UNBLEACHED ENRICHED WHEAT FLOUR (WHEAT FLOUR, MALTED BARLEY FLOUR, NIACIN, REDUCED IRON, THIAMINE MONONITRATE, RIBOFLAVIN, FOLIC ACID), WATER, EXTRA VIRGIN OLIVE OIL, CONTAINS 2% OR LESS OF WHEAT GLUTEN, WHEAT FLOUR, SEA SALT, YEAST, SUGAR, SUNFLOWER OIL, RYE SOURDOUGH STARTER (UNBLEACHED ENRICHED WHEAT FLOUR [WHEAT FLOUR, MALTED BARLEY FLOUR, NIACIN, REDUCED IRON, THIAMINE MONONITRATE, RIBOFLAVIN, FOLIC ACID], RYE FLOUR, WATER), MOLD INHIBITORS (CULTURED WHEAT STARCH, VINEGAR POWDER, CULTURED SUGAR), BAKING SODA, GUAR GUM, ENZYMES, FUMARIC ACID, DOUGH CONDITIONER (ASCORBIC ACID, MICROCRYSTALLINE CELLULOSE, CORNSTARCH, MAGNESIUM STEARATE).'}], 'item_description': None, 'popularity': '552', 'price': {'regularPrice': {'amount': {'value': 3.49, 'currency': 'USD'}}}, 'country_of_manufacture': None, 'country_of_origin': 'Made in USA', 'description': {'html': ''}}, {'sku': '080786', 'name': 'LIP MASK WATERMELON', 'availability': '1', 'stock_status': 'OUT_OF_STOCK', 'only_x_left_in_stock': None, 'nutrition': None, 'ingredients': [{'display_sequence': 1, 'ingredient': 'HYDROGENATED POLY(C6-14 OLEFIN), DIISOSTEARYL MALATE, SYNTHETIC WAX, HYDROGENATED POLYISOBUTENE, PHYTOSTERYL/ISOSTEARYL/CETYL/STEARYL/BEHENYL DIMER DILINOLEATE, BUTYROSPERMUM PARKII (SHEA) BUTTER, POLYBUTENE, ETHYLENE/PROPYLENE/STYRENE COPOLYMER, COCOS NUCIFERA (COCONUT) OIL, COPERNICIA CERIFERA (CARNAUBA) WAX, FLAVOR, MICA, SIRAITIA GROSVENORII FRUIT EXTRACT, 1,2-HEXANEDIOL, CAPRYLYL GLYCOL, BUTYLENE/ETHYLENE/STYRENE COPOLYMER,, TETRAHEXYLDECYL ASCORBATE, CITRULLUS LANATUS (WATERMELON) SEED OIL, TOCOPHERYL ACETATE, RICINUS COMMUNIS (CASTOR) SEED OIL, PENTAERYTHRITYL TETRA-DI-T-BUTYL HYDROXYHYDROCINNAMATE, TOCOPHEROL, ISOPROPYL TITANIUM TRIISOSTEARATE, BENZYL ALCOHOL, BENZYL BENZOATE, CITRAL, GERANIOL, LIMONENE, LINALOOL, IRON OXIDES (CI 77491).'}], 'item_description': None, 'popularity': '149', 'price': {'regularPrice': {'amount': {'value': 5.99, 'currency': 'USD'}}}, 'country_of_manufacture': None, 'country_of_origin': 'U.S.A.', 'description': {'html': ''}}, {'sku': '081476', 'name': 'GLOW ANYWHERE SUNSCREEN AND SERUM SET', 'availability': '1', 'stock_status': 'OUT_OF_STOCK', 'only_x_left_in_stock': None, 'nutrition': None, 'ingredients': [{'display_sequence': 1, 'ingredient': 'SHIMMER OIL SUNSCREEN: ACTIVE INGREDIENTS: Avobenzone 3%; Homosalate 7.5%; Octisalate 5%; Octocrylene 7%; INACTIVE INGREDIENTS: Carthamus Tinctorius (Safflower) Seed Oil, Caprylic/Capric Triglyceride, Isododecane, Butyloctyl Salicylate, Fragrance, Ethylhexyl Methoxycrylene, Phenoxyethanol, Mica, Calcium Sodium Borosilicate, Diethylhexyl 2,6-Naphthalate, Iron Oxides, Titanium Dioxide, Hydrogenated Poly(C6-20 Olefin), Ethylhexylglycerin, HDI/Trimethylol Hexyllactone Crosspolymer, Tocopherol, Maleated Soybean Oil Glyceryl/Octyldodecanol Esters, Pongamia Glabra Seed Oil, Tocopheryl Acetate, Oenocarpus Bataua Fruit Oil.'}, {'display_sequence': 2, 'ingredient': 'SHIMMER GLOW STICK SUNSCREEN ACTIVE INGREDIENTS: Avobenzone 3%; Octisalate 5%;AFTER SUN BODY SERUM Octocrylene 10%; NACTIVE INGREDIENTS: C12-15 Alkyl Benzoate, Octyldodecanol, Dicaprylyl Carbonate, Helianthus Annuus (Sunflower) Seed Oil, Isododecane, Polyester-8, Isohexadecane, Dibutyl Ethylhexanoyl Glutamide, Dibutyl Lauroyl Glutamide, Limnanthes Alba (Meadowfoam) Seed Oil, Pentaclethra Macroloba Seed Oil, Diethylhexyl Syringylidenemalonate, Tocopherol, Calophyllum Inophyllum Seed Oil, Calendula Officinalis Flower Extract, Caprylic/Capric Triglyceride, Synthetic Fluorphlogopite, Mica, Iron Oxides, Titanium Dioxide, Mauritia Flexuosa Fruit Oil.'}, {'display_sequence': 3, 'ingredient': 'AFTER SUN BODY SERUM INGREDIENTS: Water, Dicaprylyl Carbonate, Glycerin, Niacinamide, Ammonium Acryloyldimethyltaurate/VP Copolymer, Propanediol, C13-15 Alkane, Phenoxyethanol, Fragrance, Potassium Sorbate, Ethylhexylglycerin, Caprylic/Capric Triglyceride, Gluconolactone, Trisodium Ethylenediamine Disuccinate, Sodium Benzoate, Pentylene Glycol, Phytosterols, Ceramide NP, Aloe Barbadensis Leaf Juice Powder, Sodium Stearoyl Glutamate, Caprylyl Glycol, Glyceryl Caprylate, Oleic Acid, Palmitic Acid, Stearic Acid, Ceramide AP, Sodium Hyaluronate, Calcium Gluconate, Sodium Acetylated Hyaluronate, Sodium Hyaluronate Crosspolymer, Hydrolyzed Sodium Hyaluronate.'}], 'item_description': None, 'popularity': '377', 'price': {'regularPrice': {'amount': {'value': 14.99, 'currency': 'USD'}}}, 'country_of_manufacture': None, 'country_of_origin': 'U.S.A.', 'description': {'html': ''}}, {'sku': '079877', 'name': 'STRAWBERRY FIELDS GUMMY', 'availability': '1', 'stock_status': 'OUT_OF_STOCK', 'only_x_left_in_stock': None, 'nutrition': [{'calories_per_serving': '100 ', 'details': [{'amount': '0 g', 'display_seq': 1, 'nutritional_item': 'Total Fat', 'percent_dv': '0'}, {'amount': '0 g', 'display_seq': 2, 'nutritional_item': 'Saturated Fat', 'percent_dv': '0'}, {'amount': '0 g', 'display_seq': 3, 'nutritional_item': 'Trans Fat', 'percent_dv': ''}, {'amount': '0 mg', 'display_seq': 4, 'nutritional_item': 'Cholesterol', 'percent_dv': '0'}, {'amount': '0 mg', 'display_seq': 5, 'nutritional_item': 'Sodium', 'percent_dv': '0'}, {'amount': '26 g', 'display_seq': 6, 'nutritional_item': 'Total Carbohydrate', 'percent_dv': '.09'}, {'amount': '0 g', 'display_seq': 7, 'nutritional_item': 'Dietary Fiber', 'percent_dv': '0'}, {'amount': '21 g', 'display_seq': 8, 'nutritional_item': 'Total Sugars', 'percent_dv': ''}, {'amount': '21 g Added Sugars', 'display_seq': 9, 'nutritional_item': 'Includes', 'percent_dv': '.42'}, {'amount': '0 g', 'display_seq': 10, 'nutritional_item': 'Protein', 'percent_dv': ''}, {'amount': '0.0 mcg', 'display_seq': 11, 'nutritional_item': 'Vitamin D', 'percent_dv': '0'}, {'amount': '0 mg', 'display_seq': 12, 'nutritional_item': 'Calcium', 'percent_dv': '0'}, {'amount': '0.0 mg', 'display_seq': 13, 'nutritional_item': 'Iron', 'percent_dv': '0'}, {'amount': '0 mg', 'display_seq': 14, 'nutritional_item': 'Potassium', 'percent_dv': '0'}], 'display_sequence': 0, 'panel_id': 1, 'panel_title': '', 'serving_size': '1/4 cup (33g)', 'servings_per_container': 'Serves about 6'}], 'ingredients': [{'display_sequence': 1, 'ingredient': 'GLUCOSE SYRUP (CORN, WHEAT)'}, {'display_sequence': 2, 'ingredient': 'SUGAR'}, {'display_sequence': 3, 'ingredient': 'CORNSTARCH'}, {'display_sequence': 4, 'ingredient': 'CITRIC ACID (ACIDULANT)'}, {'display_sequence': 5, 'ingredient': 'NATURAL FLAVORS'}, {'display_sequence': 6, 'ingredient': 'LACTIC ACID'}, {'display_sequence': 7, 'ingredient': 'SODIUM CITRATE'}, {'display_sequence': 8, 'ingredient': 'COLOR ADDED (FRUIT JUICE, VEGETABLE JUICE, SPIRULINA EXTRACT)'}, {'display_sequence': 9, 'ingredient': 'GLAZING AGENT (SUNFLOWER OIL, CARNAUBA WAX)'}, {'display_sequence': 10, 'ingredient': 'WHEAT STARCH.'}], 'item_description': None, 'popularity': '312', 'price': {'regularPrice': {'amount': {'value': 2.29, 'currency': 'USD'}}}, 'country_of_manufacture': None, 'country_of_origin': 'Product of France', 'description': {'html': ''}}, {'sku': '079073', 'name': 'CASANARE BAR SINGLE STATE DARK CHOCOLATE 72.5%', 'availability': '1', 'stock_status': 'OUT_OF_STOCK', 'only_x_left_in_stock': None, 'nutrition': [{'calories_per_serving': '180 ', 'details': [{'amount': '14g', 'display_seq': 1, 'nutritional_item': 'Total Fat', 'percent_dv': '.18'}, {'amount': '8g', 'display_seq': 2, 'nutritional_item': 'Saturated Fat', 'percent_dv': '.4'}, {'amount': '0g', 'display_seq': 3, 'nutritional_item': 'Trans Fat', 'percent_dv': ''}, {'amount': '0mg', 'display_seq': 4, 'nutritional_item': 'Cholesterol', 'percent_dv': '0'}, {'amount': '0mg', 'display_seq': 5, 'nutritional_item': 'Sodium', 'percent_dv': '0'}, {'amount': '13g', 'display_seq': 6, 'nutritional_item': 'Total Carbohydrate', 'percent_dv': '.05'}, {'amount': '3g', 'display_seq': 7, 'nutritional_item': 'Dietary Fiber', 'percent_dv': '.11'}, {'amount': '8g', 'display_seq': 8, 'nutritional_item': 'Total Sugars', 'percent_dv': ''}, {'amount': '8g Added Sugars', 'display_seq': 9, 'nutritional_item': 'Includes', 'percent_dv': '.16'}, {'amount': '2g', 'display_seq': 10, 'nutritional_item': 'Protein', 'percent_dv': ''}, {'amount': '0mcg', 'display_seq': 11, 'nutritional_item': 'Vitamin D', 'percent_dv': '0'}, {'amount': '30mg', 'display_seq': 12, 'nutritional_item': 'Calcium', 'percent_dv': '.02'}, {'amount': '0.5mg', 'display_seq': 13, 'nutritional_item': 'Iron', 'percent_dv': '.02'}, {'amount': '140mg', 'display_seq': 14, 'nutritional_item': 'Potassium', 'percent_dv': '.02'}], 'display_sequence': 0, 'panel_id': 1, 'panel_title': '', 'serving_size': '10 pieces (31g)', 'servings_per_container': 'Serves About 3'}], 'ingredients': [{'display_sequence': 1, 'ingredient': 'UNSWEETENED CHOCOLATE'}, {'display_sequence': 2, 'ingredient': 'SUGAR'}, {'display_sequence': 3, 'ingredient': 'COCOA BUTTER'}, {'display_sequence': 4, 'ingredient': 'SUNFLOWER LECITHIN [EMULSIFIER]'}], 'item_description': None, 'popularity': '124', 'price': {'regularPrice': {'amount': {'value': 2.49, 'currency': 'USD'}}}, 'country_of_manufacture': None, 'country_of_origin': 'Product of Colombia', 'description': {'html': ''}}, {'sku': '081510', 'name': 'CAKE STRAWBERRY SHEET MINI', 'availability': '1', 'stock_status': 'OUT_OF_STOCK', 'only_x_left_in_stock': None, 'nutrition': [{'calories_per_serving': '320', 'details': [{'amount': '16g', 'display_seq': 1, 'nutritional_item': 'Total Fat', 'percent_dv': '.21'}, {'amount': '7g', 'display_seq': 2, 'nutritional_item': 'Saturated Fat', 'percent_dv': '.35'}, {'amount': '0g', 'display_seq': 3, 'nutritional_item': 'Trans Fat', 'percent_dv': ''}, {'amount': '40mg', 'display_seq': 4, 'nutritional_item': 'Cholesterol', 'percent_dv': '.13'}, {'amount': '220mg', 'display_seq': 5, 'nutritional_item': 'Sodium', 'percent_dv': '.1'}, {'amount': '43g', 'display_seq': 6, 'nutritional_item': 'Total Carbohydrate', 'percent_dv': '.16'}, {'amount': '0g', 'display_seq': 7, 'nutritional_item': 'Fiber', 'percent_dv': '0'}, {'amount': '35g', 'display_seq': 8, 'nutritional_item': 'Total Sugars', 'percent_dv': ''}, {'amount': '34g Added Sugars', 'display_seq': 9, 'nutritional_item': 'Includes', 'percent_dv': '.68'}, {'amount': '2g', 'display_seq': 10, 'nutritional_item': 'Protein', 'percent_dv': ''}, {'amount': '', 'display_seq': 11, 'nutritional_item': 'Vitamin D', 'percent_dv': '0'}, {'amount': '', 'display_seq': 12, 'nutritional_item': 'Calcium', 'percent_dv': '.02'}, {'amount': '', 'display_seq': 13, 'nutritional_item': 'Iron', 'percent_dv': '.04'}, {'amount': '', 'display_seq': 14, 'nutritional_item': 'Potassium', 'percent_dv': '0'}], 'display_sequence': 0, 'panel_id': 1, 'panel_title': '', 'serving_size': '1/6 cake (85g)', 'servings_per_container': 'Serves 6'}], 'ingredients': [{'display_sequence': 1, 'ingredient': 'CAKE (CANE SUGAR, ENRICHED WHEAT FLOUR [WHEAT FLOUR, MALTED BARLEY FLOUR, NIACIN, IRON, THIAMINE MONONITRATE, RIBOFLAVIN, FOLIC ACID], WATER, STRAWBERRY PRESERVES [ORGANIC STRAWBERRIES, ORGANIC CANE SUGAR, APPLE PECTIN, ASCORBIC ACID {TO PRESERVE}, CITRIC ACID {ACIDIFIER}], CANOLA OIL, EGGS, BUTTERMILK [CULTURED PASTEURIZED MILK, NONFAT MILK POWDER, SALT], BAKING SODA, NATURAL FLAVOR, SEA SALT)'}, {'display_sequence': 2, 'ingredient': 'FROSTING (POWDERED SUGAR [SUGAR, CORNSTARCH], UNSALTED BUTTER [CREAM [MILK], NATURAL FLAVOR], CREAM CHEESE [PASTEURIZED CULTURED MILK AND CREAM, SALT, GUAR GUM, CAROB BEAN GUM], STRAWBERRY PUREE [STRAWBERRIES, CANE SUGAR, FRUIT PECTIN, ASCORBIC ACID {TO MAINTAIN COLOR}], FREEZE DRIED STRAWBERRY, NATURAL FLAVORS, SEA SALT).'}], 'item_description': None, 'popularity': '316', 'price': {'regularPrice': {'amount': {'value': 5.99, 'currency': 'USD'}}}, 'country_of_manufacture': None, 'country_of_origin': 'Made in USA', 'description': {'html': ''}}, {'sku': '081299', 'name': 'FLATBREAD', 'availability': '1', 'stock_status': 'OUT_OF_STOCK', 'only_x_left_in_stock': None, 'nutrition': [{'calories_per_serving': '180 ', 'details': [{'amount': '3.5 g', 'display_seq': 1, 'nutritional_item': 'Total Fat', 'percent_dv': '.04'}, {'amount': '0.5 g', 'display_seq': 2, 'nutritional_item': 'Saturated Fat', 'percent_dv': '.03'}, {'amount': '0 g', 'display_seq': 3, 'nutritional_item': 'Trans Fat', 'percent_dv': ''}, {'amount': '0 mg', 'display_seq': 4, 'nutritional_item': 'Cholesterol', 'percent_dv': '0'}, {'amount': '300 mg', 'display_seq': 5, 'nutritional_item': 'Sodium', 'percent_dv': '.13'}, {'amount': '29 g', 'display_seq': 6, 'nutritional_item': 'Total Carbohydrate', 'percent_dv': '.11'}, {'amount': '1 g', 'display_seq': 7, 'nutritional_item': 'Dietary Fiber', 'percent_dv': '.04'}, {'amount': '1 g', 'display_seq': 8, 'nutritional_item': 'Total Sugars', 'percent_dv': ''}, {'amount': 'less than 1 g Added Sugars', 'display_seq': 9, 'nutritional_item': 'Includes', 'percent_dv': '.02'}, {'amount': '6 g', 'display_seq': 10, 'nutritional_item': 'Protein', 'percent_dv': ''}, {'amount': '0.0 mcg', 'display_seq': 11, 'nutritional_item': 'Vitamin D', 'percent_dv': '0'}, {'amount': '30 mg', 'display_seq': 12, 'nutritional_item': 'Calcium', 'percent_dv': '.02'}, {'amount': '0.5 mg', 'display_seq': 13, 'nutritional_item': 'Iron', 'percent_dv': '.02'}, {'amount': '60 mg', 'display_seq': 14, 'nutritional_item': 'Potassium', 'percent_dv': '.02'}], 'display_sequence': 0, 'panel_id': 1, 'panel_title': '', 'serving_size': '1 flatbread (57g)', 'servings_per_container': 'Serves 6'}], 'ingredients': [{'display_sequence': 1, 'ingredient': 'WHEAT FLOUR'}, {'display_sequence': 2, 'ingredient': 'WATER'}, {'display_sequence': 3, 'ingredient': 'OLIVE OIL'}, {'display_sequence': 4, 'ingredient': 'CONTAINS 2% OR LESS OF VITAL WHEAT GLUTEN'}, {'display_sequence': 5, 'ingredient': 'SUGAR'}, {'display_sequence': 6, 'ingredient': 'CULTURED WHEAT FLOUR (TO PRESERVE)'}, {'display_sequence': 7, 'ingredient': 'ENZYMES'}, {'display_sequence': 8, 'ingredient': 'SALT'}, {'display_sequence': 9, 'ingredient': 'YEAST'}, {'display_sequence': 10, 'ingredient': 'BAKING POWDER (SODIUM ACID PYROPHOSPHATE, SODIUM BICARBONATE, CORNSTARCH, MONOCALCIUM PHOSPHATE).'}], 'item_description': None, 'popularity': '126', 'price': {'regularPrice': {'amount': {'value': 2.99, 'currency': 'USD'}}}, 'country_of_manufacture': None, 'country_of_origin': 'Made in USA', 'description': {'html': ''}}, {'sku': '081523', 'name': 'COOKIES STRAWBERRY DOODLE', 'availability': '1', 'stock_status': 'OUT_OF_STOCK', 'only_x_left_in_stock': None, 'nutrition': [{'calories_per_serving': '230 ', 'details': [{'amount': '10 g', 'display_seq': 1, 'nutritional_item': 'Total Fat', 'percent_dv': '.13'}, {'amount': '5 g', 'display_seq': 2, 'nutritional_item': 'Saturated Fat', 'percent_dv': '.25'}, {'amount': '0 g', 'display_seq': 3, 'nutritional_item': 'Trans Fat', 'percent_dv': None}, {'amount': '15 mg', 'display_seq': 4, 'nutritional_item': 'Cholesterol', 'percent_dv': '.05'}, {'amount': '220 mg', 'display_seq': 5, 'nutritional_item': 'Sodium', 'percent_dv': '.1'}, {'amount': '31 g', 'display_seq': 6, 'nutritional_item': 'Total Carbohydrate', 'percent_dv': '.11'}, {'amount': '0 g', 'display_seq': 7, 'nutritional_item': 'Dietary Fiber', 'percent_dv': '0'}, {'amount': '18 g', 'display_seq': 8, 'nutritional_item': 'Total Sugars', 'percent_dv': None}, {'amount': '17 g Added Sugars', 'display_seq': 9, 'nutritional_item': 'Includes', 'percent_dv': '.34'}, {'amount': '2 g', 'display_seq': 10, 'nutritional_item': 'Protein', 'percent_dv': None}, {'amount': '2.0 mcg', 'display_seq': 11, 'nutritional_item': 'Vitamin D', 'percent_dv': '.1'}, {'amount': '10 mg', 'display_seq': 12, 'nutritional_item': 'Calcium', 'percent_dv': '0'}, {'amount': '1.0 mg', 'display_seq': 13, 'nutritional_item': 'Iron', 'percent_dv': '.06'}, {'amount': '50 mg', 'display_seq': 14, 'nutritional_item': 'Potassium', 'percent_dv': '.02'}], 'display_sequence': 0, 'panel_id': 1, 'panel_title': None, 'serving_size': '1 cookie (50 g)', 'servings_per_container': 'Serves 6'}], 'ingredients': [{'display_sequence': 1, 'ingredient': 'UNBLEACHED ENRICHED FLOUR (UNBLEACHED WHEAT FLOUR, NIACIN, REDUCED IRON, THIAMINE MONONITRATE, RIBOFLAVIN, FOLIC ACID, ENZYME)'}, {'display_sequence': 2, 'ingredient': 'MARGARINE (PALM OIL, PALM KERNEL OIL, WATER, SALT, MONOGLYCERIDES, SUNFLOWER LECITHIN [EMULSIFIER], NATURAL FLAVOR, CITRIC ACID [ACIDULANT], VITAMIN A PALMITATE, VITAMIN D2)'}, {'display_sequence': 3, 'ingredient': 'SUGAR'}, {'display_sequence': 4, 'ingredient': 'BROWN SUGAR'}, {'display_sequence': 5, 'ingredient': 'EGGS'}, {'display_sequence': 6, 'ingredient': 'APPLE STRAWBERRY PIECES (FRUIT PUREE [APPLE PUREE, STRAWBERRY PUREE], INVERT SUGAR, SUGAR, GLYCEROL, WHEAT FIBER, PECTIN, NATURAL FLAVOR, FRUIT AND VEGETABLE CONCENTRATES [COLOR], CITRIC ACID [ACIDULANT])'}, {'display_sequence': 7, 'ingredient': 'BROWN RICE SYRUP'}, {'display_sequence': 8, 'ingredient': 'NATURAL FLAVOR'}, {'display_sequence': 9, 'ingredient': 'BAKING POWDER (SODIUM ACID PYROPHOSPHATE, SODIUM BICARBONATE, CORNSTARCH, MONOCALCIUM PHOSPHATE)'}, {'display_sequence': 10, 'ingredient': 'CORNSTARCH'}, {'display_sequence': 11, 'ingredient': 'STRAWBERRY POWDER (STRAWBERRY, MALTODEXTRIN, CORNSTARCH)'}, {'display_sequence': 12, 'ingredient': 'SEA SALT'}, {'display_sequence': 14, 'ingredient': 'BAKING SODA'}, {'display_sequence': 15, 'ingredient': 'RED BEET POWDER (COLOR)'}, {'display_sequence': 16, 'ingredient': 'CITRIC ACID (ACIDULANT).'}], 'item_description': None, 'popularity': '258', 'price': {'regularPrice': {'amount': {'value': 5.49, 'currency': 'USD'}}}, 'country_of_manufacture': None, 'country_of_origin': 'Product of United States', 'description': {'html': ''}}, {'sku': '079514', 'name': 'DARK CHOCOLATE THINS NO SUGAR ADDED', 'availability': '1', 'stock_status': 'OUT_OF_STOCK', 'only_x_left_in_stock': None, 'nutrition': [{'calories_per_serving': '140 ', 'details': [{'amount': '12 g', 'display_seq': 1, 'nutritional_item': 'Total Fat', 'percent_dv': '.15'}, {'amount': '7 g', 'display_seq': 2, 'nutritional_item': 'Saturated Fat', 'percent_dv': '.35'}, {'amount': '0 g', 'display_seq': 3, 'nutritional_item': 'Trans Fat', 'percent_dv': None}, {'amount': '0 mg', 'display_seq': 4, 'nutritional_item': 'Cholesterol', 'percent_dv': '0'}, {'amount': '60 mg', 'display_seq': 5, 'nutritional_item': 'Sodium', 'percent_dv': '.03'}, {'amount': '16 g', 'display_seq': 6, 'nutritional_item': 'Total Carbohydrate', 'percent_dv': '.06'}, {'amount': '2 g', 'display_seq': 7, 'nutritional_item': 'Dietary Fiber', 'percent_dv': '.07'}, {'amount': '0 g', 'display_seq': 8, 'nutritional_item': 'Total Sugars', 'percent_dv': None}, {'amount': '0 g Added Sugars', 'display_seq': 9, 'nutritional_item': 'Includes', 'percent_dv': '0'}, {'amount': '2 g', 'display_seq': 10, 'nutritional_item': 'Protein', 'percent_dv': None}, {'amount': '0.0 mcg', 'display_seq': 11, 'nutritional_item': 'Vitamin D', 'percent_dv': '0'}, {'amount': '30 mg', 'display_seq': 12, 'nutritional_item': 'Calcium', 'percent_dv': '.02'}, {'amount': '0.4 mg', 'display_seq': 13, 'nutritional_item': 'Iron', 'percent_dv': '.02'}, {'amount': '120 mg', 'display_seq': 14, 'nutritional_item': 'Potassium', 'percent_dv': '.02'}], 'display_sequence': 0, 'panel_id': 1, 'panel_title': None, 'serving_size': '4 pieces (32g)', 'servings_per_container': 'Serves 3'}], 'ingredients': [{'display_sequence': 1, 'ingredient': 'UNSWEETENED CHOCOLATE'}, {'display_sequence': 2, 'ingredient': 'ALLULOSE'}, {'display_sequence': 3, 'ingredient': 'COCOA BUTTER'}, {'display_sequence': 4, 'ingredient': 'ROASTED COCOA NIBS'}, {'display_sequence': 5, 'ingredient': 'SEA SALT'}, {'display_sequence': 6, 'ingredient': 'SUNFLOWER LECITHIN (EMULSIFIER)'}], 'item_description': None, 'popularity': '325', 'price': {'regularPrice': {'amount': {'value': 2.99, 'currency': 'USD'}}}, 'country_of_manufacture': None, 'country_of_origin': 'Product of Colombia', 'description': {'html': ''}}, {'sku': '081545', 'name': 'DUBAI STYLE PISTACHIO CHOCOLATE BAR', 'availability': '1', 'stock_status': 'OUT_OF_STOCK', 'only_x_left_in_stock': None, 'nutrition': None, 'ingredients': [{'display_sequence': 1, 'ingredient': '*Product details/images for convenience only. Please review packaging in-store for current details.'}], 'item_description': None, 'popularity': '970', 'price': {'regularPrice': {'amount': {'value': 3.99, 'currency': 'USD'}}}, 'country_of_manufacture': None, 'country_of_origin': None, 'description': {'html': ''}}, {'sku': '078527', 'name': 'COOKIES FRENCH BUTTER GALETTES', 'availability': '1', 'stock_status': 'OUT_OF_STOCK', 'only_x_left_in_stock': None, 'nutrition': [{'calories_per_serving': '180 ', 'details': [{'amount': '8 g', 'display_seq': 1, 'nutritional_item': 'Total Fat', 'percent_dv': '.1'}, {'amount': '5 g', 'display_seq': 2, 'nutritional_item': 'Saturated Fat', 'percent_dv': '.25'}, {'amount': '0 g', 'display_seq': 3, 'nutritional_item': 'Trans Fat', 'percent_dv': None}, {'amount': '0 mg', 'display_seq': 4, 'nutritional_item': 'Cholesterol', 'percent_dv': '0'}, {'amount': '55 mg', 'display_seq': 5, 'nutritional_item': 'Sodium', 'percent_dv': '.02'}, {'amount': '24 g', 'display_seq': 6, 'nutritional_item': 'Total Carbohydrate', 'percent_dv': '.09'}, {'amount': 'less than 1g', 'display_seq': 7, 'nutritional_item': 'Dietary Fiber', 'percent_dv': '.02'}, {'amount': '9 g', 'display_seq': 8, 'nutritional_item': 'Total Sugars', 'percent_dv': None}, {'amount': '8 g Added Sugars', 'display_seq': 9, 'nutritional_item': 'Includes', 'percent_dv': '.16'}, {'amount': '2 g', 'display_seq': 10, 'nutritional_item': 'Protein', 'percent_dv': None}, {'amount': '0.2 mcg', 'display_seq': 11, 'nutritional_item': 'Vitamin D', 'percent_dv': '.02'}, {'amount': '10 mg', 'display_seq': 12, 'nutritional_item': 'Calcium', 'percent_dv': '0'}, {'amount': '0.3 mg', 'display_seq': 13, 'nutritional_item': 'Iron', 'percent_dv': '.02'}, {'amount': '40 mg', 'display_seq': 14, 'nutritional_item': 'Potassium', 'percent_dv': '0'}], 'display_sequence': 0, 'panel_id': 1, 'panel_title': None, 'serving_size': '2 cookies (36g)', 'servings_per_container': 'Serves about 6'}], 'ingredients': [{'display_sequence': 1, 'ingredient': 'WHEAT FLOUR'}, {'display_sequence': 2, 'ingredient': 'CULTURED BUTTER (CREAM [MILK], LACTIC ACID STARTER CULTURE)'}, {'display_sequence': 3, 'ingredient': 'SUGAR'}, {'display_sequence': 4, 'ingredient': 'EGGS'}, {'display_sequence': 5, 'ingredient': 'SEA SALT'}], 'item_description': None, 'popularity': '218', 'price': {'regularPrice': {'amount': {'value': 3.49, 'currency': 'USD'}}}, 'country_of_manufacture': None, 'country_of_origin': 'Product of France', 'description': {'html': ''}}, {'sku': '080590', 'name': 'TOFU SILKEN ORGANIC', 'availability': '1', 'stock_status': 'OUT_OF_STOCK', 'only_x_left_in_stock': None, 'nutrition': [{'calories_per_serving': '40 ', 'details': [{'amount': '2.0 g', 'display_seq': 1, 'nutritional_item': 'Total Fat', 'percent_dv': '.03'}, {'amount': '0 g', 'display_seq': 2, 'nutritional_item': 'Saturated Fat', 'percent_dv': '0'}, {'amount': '0 g', 'display_seq': 3, 'nutritional_item': 'Trans Fat', 'percent_dv': None}, {'amount': '0 mg', 'display_seq': 4, 'nutritional_item': 'Cholesterol', 'percent_dv': '0'}, {'amount': '5 mg', 'display_seq': 5, 'nutritional_item': 'Sodium', 'percent_dv': '0'}, {'amount': '2 g', 'display_seq': 6, 'nutritional_item': 'Total Carbohydrate', 'percent_dv': '.01'}, {'amount': '0 g', 'display_seq': 7, 'nutritional_item': 'Dietary Fiber', 'percent_dv': '0'}, {'amount': 'less than 1g', 'display_seq': 8, 'nutritional_item': 'Total Sugars', 'percent_dv': None}, {'amount': '0 g Added Sugars', 'display_seq': 9, 'nutritional_item': 'Includes', 'percent_dv': '0'}, {'amount': '4 g', 'display_seq': 10, 'nutritional_item': 'Protein', 'percent_dv': None}, {'amount': '0.0 mcg', 'display_seq': 11, 'nutritional_item': 'Vitamin D', 'percent_dv': '0'}, {'amount': '70 mg', 'display_seq': 12, 'nutritional_item': 'Calcium', 'percent_dv': '.06'}, {'amount': '0.6 mg', 'display_seq': 13, 'nutritional_item': 'Iron', 'percent_dv': '.04'}, {'amount': '190 mg', 'display_seq': 14, 'nutritional_item': 'Potassium', 'percent_dv': '.04'}], 'display_sequence': 0, 'panel_id': 1, 'panel_title': None, 'serving_size': '3 oz (85g / about 1/5 package)', 'servings_per_container': 'Serves about 5'}], 'ingredients': [{'display_sequence': 1, 'ingredient': 'WATER'}, {'display_sequence': 2, 'ingredient': 'ORGANIC SOYBEANS'}, {'display_sequence': 3, 'ingredient': 'CALCIUM SULFATE'}, {'display_sequence': 4, 'ingredient': 'MAGNESIUM CHLORIDE'}], 'item_description': None, 'popularity': '188', 'price': {'regularPrice': {'amount': {'value': 2.49, 'currency': 'USD'}}}, 'country_of_manufacture': None, 'country_of_origin': 'Made in USA', 'description': {'html': ''}}, {'sku': '080324', 'name': 'SORBET PASSION FRUIT', 'availability': '1', 'stock_status': 'OUT_OF_STOCK', 'only_x_left_in_stock': None, 'nutrition': [{'calories_per_serving': '200 ', 'details': [{'amount': '0 g', 'display_seq': 1, 'nutritional_item': 'Total Fat', 'percent_dv': '0'}, {'amount': '0 g', 'display_seq': 2, 'nutritional_item': 'Saturated Fat', 'percent_dv': '0'}, {'amount': '0 g', 'display_seq': 3, 'nutritional_item': 'Trans Fat', 'percent_dv': None}, {'amount': '0 mg', 'display_seq': 4, 'nutritional_item': 'Cholesterol', 'percent_dv': '0'}, {'amount': '65 mg', 'display_seq': 5, 'nutritional_item': 'Sodium', 'percent_dv': '.03'}, {'amount': '49 g', 'display_seq': 6, 'nutritional_item': 'Total Carbohydrate', 'percent_dv': '.18'}, {'amount': 'less than 1g', 'display_seq': 7, 'nutritional_item': 'Dietary Fiber', 'percent_dv': '.03'}, {'amount': '39 g', 'display_seq': 8, 'nutritional_item': 'Total Sugars', 'percent_dv': None}, {'amount': '31 g Added Sugars', 'display_seq': 9, 'nutritional_item': 'Includes', 'percent_dv': '.62'}, {'amount': 'less than 1g', 'display_seq': 10, 'nutritional_item': 'Protein', 'percent_dv': None}, {'amount': '0.0 mcg', 'display_seq': 11, 'nutritional_item': 'Vitamin D', 'percent_dv': '0'}, {'amount': '10 mg', 'display_seq': 12, 'nutritional_item': 'Calcium', 'percent_dv': '0'}, {'amount': '0.3 mg', 'display_seq': 13, 'nutritional_item': 'Iron', 'percent_dv': '.02'}, {'amount': '180 mg', 'display_seq': 14, 'nutritional_item': 'Potassium', 'percent_dv': '.04'}], 'display_sequence': 0, 'panel_id': 1, 'panel_title': 'Per serving', 'serving_size': '2/3 cup (160g)', 'servings_per_container': 'Serves 2.5'}, {'calories_per_serving': '490 ', 'details': [{'amount': '0 g', 'display_seq': 1, 'nutritional_item': 'Total Fat', 'percent_dv': '0'}, {'amount': '0 g', 'display_seq': 2, 'nutritional_item': 'Saturated Fat', 'percent_dv': '0'}, {'amount': '0 g', 'display_seq': 3, 'nutritional_item': 'Trans Fat', 'percent_dv': None}, {'amount': '0 mg', 'display_seq': 4, 'nutritional_item': 'Cholesterol', 'percent_dv': '0'}, {'amount': '160 mg', 'display_seq': 5, 'nutritional_item': 'Sodium', 'percent_dv': '.07'}, {'amount': '122 g', 'display_seq': 6, 'nutritional_item': 'Total Carbohydrate', 'percent_dv': '.44'}, {'amount': '2 g', 'display_seq': 7, 'nutritional_item': 'Dietary Fiber', 'percent_dv': '.07'}, {'amount': '97 g', 'display_seq': 8, 'nutritional_item': 'Total Sugars', 'percent_dv': None}, {'amount': '76 g Added Sugars', 'display_seq': 9, 'nutritional_item': 'Includes', 'percent_dv': '1.52'}, {'amount': '2 g', 'display_seq': 10, 'nutritional_item': 'Protein', 'percent_dv': None}, {'amount': '0.0 mcg', 'display_seq': 11, 'nutritional_item': 'Vitamin D', 'percent_dv': '0'}, {'amount': '30 mg', 'display_seq': 12, 'nutritional_item': 'Calcium', 'percent_dv': '.02'}, {'amount': '0.7 mg', 'display_seq': 13, 'nutritional_item': 'Iron', 'percent_dv': '.04'}, {'amount': '440 mg', 'display_seq': 14, 'nutritional_item': 'Potassium', 'percent_dv': '.1'}], 'display_sequence': 1, 'panel_id': 2, 'panel_title': 'Per container', 'serving_size': '2/3 cup (160g)', 'servings_per_container': 'Serves 2.5'}], 'ingredients': [{'display_sequence': 1, 'ingredient': 'WATER'}, {'display_sequence': 2, 'ingredient': 'SEEDLESS PASSION FRUIT PUREE'}, {'display_sequence': 3, 'ingredient': 'CANE SUGAR'}, {'display_sequence': 4, 'ingredient': 'MALTODEXTRIN'}, {'display_sequence': 5, 'ingredient': 'GLUCOSE SYRUP (TAPIOCA)'}, {'display_sequence': 6, 'ingredient': 'CAROB BEAN GUM'}, {'display_sequence': 7, 'ingredient': 'CITRUS FIBER'}, {'display_sequence': 8, 'ingredient': 'MONO- AND DIGLYCERIDES OF FATTY ACIDS'}, {'display_sequence': 9, 'ingredient': 'SEA SALT'}, {'display_sequence': 10, 'ingredient': 'GUAR GUM'}, {'display_sequence': 11, 'ingredient': 'XANTHAN GUM.'}], 'item_description': None, 'popularity': '224', 'price': {'regularPrice': {'amount': {'value': 4.99, 'currency': 'USD'}}}, 'country_of_manufacture': None, 'country_of_origin': 'Product of Thailand', 'description': {'html': ''}}, {'sku': '078428', 'name': 'DYNAMITE SAUCE', 'availability': '1', 'stock_status': 'OUT_OF_STOCK', 'only_x_left_in_stock': None, 'nutrition': [{'calories_per_serving': '45 ', 'details': [{'amount': '3.0 g', 'display_seq': 1, 'nutritional_item': 'Total Fat', 'percent_dv': '.04'}, {'amount': '0 g', 'display_seq': 2, 'nutritional_item': 'Saturated Fat', 'percent_dv': '0'}, {'amount': '0 g', 'display_seq': 3, 'nutritional_item': 'Trans Fat', 'percent_dv': ''}, {'amount': '0 mg', 'display_seq': 4, 'nutritional_item': 'Cholesterol', 'percent_dv': '0'}, {'amount': '200 mg', 'display_seq': 5, 'nutritional_item': 'Sodium', 'percent_dv': '.09'}, {'amount': '4 g', 'display_seq': 6, 'nutritional_item': 'Total Carbohydrate', 'percent_dv': '.01'}, {'amount': '0 g', 'display_seq': 7, 'nutritional_item': 'Dietary Fiber', 'percent_dv': '0'}, {'amount': '3 g', 'display_seq': 8, 'nutritional_item': 'Total Sugars', 'percent_dv': ''}, {'amount': '3 g Added Sugars', 'display_seq': 9, 'nutritional_item': 'Includes', 'percent_dv': '.06'}, {'amount': '0 g', 'display_seq': 10, 'nutritional_item': 'Protein', 'percent_dv': ''}, {'amount': '0.0 mcg', 'display_seq': 11, 'nutritional_item': 'Vitamin D', 'percent_dv': '0'}, {'amount': '0 mg', 'display_seq': 12, 'nutritional_item': 'Calcium', 'percent_dv': '0'}, {'amount': '0.1 mg', 'display_seq': 13, 'nutritional_item': 'Iron', 'percent_dv': '0'}, {'amount': '10 mg', 'display_seq': 14, 'nutritional_item': 'Potassium', 'percent_dv': '0'}], 'display_sequence': 0, 'panel_id': 1, 'panel_title': '', 'serving_size': '1 Tbsp. (16 g)', 'servings_per_container': 'Serves about 18'}], 'ingredients': [{'display_sequence': 1, 'ingredient': 'VEGAN MAYO SPREAD (WATER, SOYBEAN OIL, SESAME OIL, MODIFIED TAPIOCA STARCH, DISTILLED VINEGAR, MIXED TOCOPHEROLS [TO PRESERVE])'}, {'display_sequence': 2, 'ingredient': 'WATER'}, {'display_sequence': 3, 'ingredient': 'SUGAR'}, {'display_sequence': 4, 'ingredient': 'PICKLED RED CHILI PEPPERS (RED CHILI PEPPER FLAKES, SALT, ACETIC ACID)'}, {'display_sequence': 5, 'ingredient': 'TOASTED SESAME OIL'}, {'display_sequence': 6, 'ingredient': 'MUSTARD PASTE (WATER, MUSTARD POWDER, DISTILLED VINEGAR, HORSERADISH, SALT, SUGAR, TURMERIC POWDER, CITRIC ACID [ACIDULANT], XANTHAN GUM)'}, {'display_sequence': 7, 'ingredient': 'SALT'}, {'display_sequence': 8, 'ingredient': 'DISTILLED VINEGAR'}, {'display_sequence': 9, 'ingredient': 'GARLIC'}, {'display_sequence': 10, 'ingredient': 'MODIFIED TAPIOCA STARCH'}, {'display_sequence': 11, 'ingredient': 'ACETIC ACID'}, {'display_sequence': 12, 'ingredient': 'OLEORESIN CAPSICUM'}, {'display_sequence': 13, 'ingredient': 'RED CHILI PEPPER POWDER'}, {'display_sequence': 14, 'ingredient': 'PAPRIKA EXTRACT'}, {'display_sequence': 15, 'ingredient': 'CITRIC ACID (ACIDIFIER).'}], 'item_description': None, 'popularity': '374', 'price': {'regularPrice': {'amount': {'value': 2.99, 'currency': 'USD'}}}, 'country_of_manufacture': None, 'country_of_origin': 'Product of Thailand', 'description': {'html': ''}}, {'sku': '062909', 'name': 'ESPRESSO BEANS COFFEE LOVERS', 'availability': '1', 'stock_status': 'OUT_OF_STOCK', 'only_x_left_in_stock': None, 'nutrition': [{'calories_per_serving': '180 ', 'details': [{'amount': '11 g', 'display_seq': 1, 'nutritional_item': 'Total Fat', 'percent_dv': '.14'}, {'amount': '7 g', 'display_seq': 2, 'nutritional_item': 'Saturated Fat', 'percent_dv': '.35'}, {'amount': '0 g', 'display_seq': 3, 'nutritional_item': 'Trans Fat', 'percent_dv': ''}, {'amount': 'Less than 5mg mg', 'display_seq': 4, 'nutritional_item': 'Cholesterol', 'percent_dv': '.01'}, {'amount': '20 mg', 'display_seq': 5, 'nutritional_item': 'Sodium', 'percent_dv': '.01'}, {'amount': '21 g', 'display_seq': 6, 'nutritional_item': 'Total Carbohydrate', 'percent_dv': '.08'}, {'amount': '2 g', 'display_seq': 7, 'nutritional_item': 'Dietary Fiber', 'percent_dv': '.07'}, {'amount': '17 g', 'display_seq': 8, 'nutritional_item': 'Total Sugars', 'percent_dv': ''}, {'amount': '16 g Added Sugars', 'display_seq': 9, 'nutritional_item': 'Includes', 'percent_dv': '.32'}, {'amount': '2 g', 'display_seq': 10, 'nutritional_item': 'Protein', 'percent_dv': ''}, {'amount': '0.1 mcg', 'display_seq': 11, 'nutritional_item': 'Vitamin D', 'percent_dv': '0'}, {'amount': '40 mg', 'display_seq': 12, 'nutritional_item': 'Calcium', 'percent_dv': '.04'}, {'amount': '1.2 mg', 'display_seq': 13, 'nutritional_item': 'Iron', 'percent_dv': '.06'}, {'amount': '170 mg', 'display_seq': 14, 'nutritional_item': 'Potassium', 'percent_dv': '.04'}], 'display_sequence': 0, 'panel_id': 1, 'panel_title': 'Per serving', 'serving_size': '1/2 package (35g)', 'servings_per_container': 'Serves 2'}, {'calories_per_serving': '360 ', 'details': [{'amount': '22 g', 'display_seq': 1, 'nutritional_item': 'Total Fat', 'percent_dv': '.28'}, {'amount': '13 g', 'display_seq': 2, 'nutritional_item': 'Saturated Fat', 'percent_dv': '.65'}, {'amount': '0 g', 'display_seq': 3, 'nutritional_item': 'Trans Fat', 'percent_dv': ''}, {'amount': '5 mg', 'display_seq': 4, 'nutritional_item': 'Cholesterol', 'percent_dv': '.02'}, {'amount': '40 mg', 'display_seq': 5, 'nutritional_item': 'Sodium', 'percent_dv': '.02'}, {'amount': '43 g', 'display_seq': 6, 'nutritional_item': 'Total Carbohydrate', 'percent_dv': '.16'}, {'amount': '3 g', 'display_seq': 7, 'nutritional_item': 'Dietary Fiber', 'percent_dv': '.11'}, {'amount': '35 g', 'display_seq': 8, 'nutritional_item': 'Total Sugars', 'percent_dv': ''}, {'amount': '32 g Added Sugars', 'display_seq': 9, 'nutritional_item': 'Includes', 'percent_dv': '.64'}, {'amount': '4 g', 'display_seq': 10, 'nutritional_item': 'Protein', 'percent_dv': ''}, {'amount': '0.2 mcg', 'display_seq': 11, 'nutritional_item': 'Vitamin D', 'percent_dv': '0'}, {'amount': '90 mg', 'display_seq': 12, 'nutritional_item': 'Calcium', 'percent_dv': '.06'}, {'amount': '2.5 mg', 'display_seq': 13, 'nutritional_item': 'Iron', 'percent_dv': '.15'}, {'amount': '340 mg', 'display_seq': 14, 'nutritional_item': 'Potassium', 'percent_dv': '.08'}], 'display_sequence': 1, 'panel_id': 2, 'panel_title': 'Per container', 'serving_size': '1/2 package (35g)', 'servings_per_container': 'Serves 2'}], 'ingredients': [{'display_sequence': 1, 'ingredient': 'MILK CHOCOLATE (SUGAR, COCOA BUTTER, CHOCOLATE LIQUOR, WHOLE MILK POWDER, SOY LECITHIN [EMULSIFIER], NATURAL VANILLA FLAVOR)'}, {'display_sequence': 2, 'ingredient': 'DARK CHOCOLATE (UNSWEETENED CHOCOLATE PROCESSED WITH ALKALI, SUGAR, COCOA BUTTER, COCOA POWDER, MILK FAT, SOY LECITHIN [EMULSIFIER], NATURAL VANILLA FLAVOR)'}, {'display_sequence': 3, 'ingredient': 'WHITE CHOCOLATE COATING (SUGAR, COCOA BUTTER, WHOLE MILK POWDER, SOY LECITHIN [EMULSIFIER], NATURAL  VANILLA FLAVOR)'}, {'display_sequence': 4, 'ingredient': 'SWEET WAFER (SUGAR, PALM KERNEL OIL, NONFAT DRY MILK, MILK, COCOA POWDER, SOY LECITHIN [EMULSIFIER], NATURAL FLAVOR, SALT, PAPRIKA EXTRACT  [FOR COLOR])'}, {'display_sequence': 5, 'ingredient': 'COFFEE BEANS'}, {'display_sequence': 6, 'ingredient': 'DEXTRIN'}, {'display_sequence': 7, 'ingredient': \"CONFECTIONER'S GLAZE\"}, {'display_sequence': 8, 'ingredient': 'NATURAL FLAVOR.'}], 'item_description': None, 'popularity': '165', 'price': {'regularPrice': {'amount': {'value': 1.29, 'currency': 'USD'}}}, 'country_of_manufacture': None, 'country_of_origin': 'Product of United States', 'description': {'html': ''}}, {'sku': '036420', 'name': 'SALAD DRSNG CILANTRO RF', 'availability': '1', 'stock_status': 'OUT_OF_STOCK', 'only_x_left_in_stock': None, 'nutrition': [{'calories_per_serving': '50 ', 'details': [{'amount': '4.0 g', 'display_seq': 1, 'nutritional_item': 'Total Fat', 'percent_dv': '.05'}, {'amount': '0.5 g', 'display_seq': 2, 'nutritional_item': 'Saturated Fat', 'percent_dv': '.03'}, {'amount': '0 g', 'display_seq': 3, 'nutritional_item': 'Trans Fat', 'percent_dv': ''}, {'amount': '0 mg', 'display_seq': 4, 'nutritional_item': 'Cholesterol', 'percent_dv': '0'}, {'amount': '120 mg', 'display_seq': 5, 'nutritional_item': 'Sodium', 'percent_dv': '.05'}, {'amount': '2 g', 'display_seq': 6, 'nutritional_item': 'Total Carbohydrate', 'percent_dv': '.01'}, {'amount': '0 g', 'display_seq': 7, 'nutritional_item': 'Dietary Fiber', 'percent_dv': '0'}, {'amount': '0 g', 'display_seq': 8, 'nutritional_item': 'Total Sugars', 'percent_dv': ''}, {'amount': '0 g Added Sugars', 'display_seq': 9, 'nutritional_item': 'Includes', 'percent_dv': '0'}, {'amount': '1 g', 'display_seq': 10, 'nutritional_item': 'Protein', 'percent_dv': ''}, {'amount': '', 'display_seq': 11, 'nutritional_item': 'Vitamin D', 'percent_dv': '0'}, {'amount': '', 'display_seq': 12, 'nutritional_item': 'Calcium', 'percent_dv': '.02'}, {'amount': '', 'display_seq': 13, 'nutritional_item': 'Iron', 'percent_dv': '.02'}, {'amount': '', 'display_seq': 14, 'nutritional_item': 'Potassium', 'percent_dv': '0'}], 'display_sequence': 0, 'panel_id': 1, 'panel_title': '', 'serving_size': '2 Tbsp. (30mL)', 'servings_per_container': 'Serves about 12'}], 'ingredients': [{'display_sequence': 1, 'ingredient': 'MAYONNAISE DRESSING (WATER, CANOLA OIL, DISTILLED VINEGAR, MODIFIED FOOD STARCH, CONTAINS LESS THAN 2% OF ISOLATED SOY PROTEIN, CIDER VINEGAR, SALT, NON-FAT DRY MILK SOLIDS, LEMON JUICE CONCENTRATE, DEHYDRATED ONION, XANTHAN GUM, NATURAL FLAVORS, SPICE), NON-FAT MILK (NON-FAT MILK, VITAMIN A PALMITATE, VITAMIN D3), RED WINE VINEGAR (CONTAINS SULFITES), CILANTRO, ANAHEIM CHILES, COTIJA CHEESE (CULTURED PASTEURIZED GRADE A MILK AND SKIM MILK, SEA SALT, MICROBIAL ENZYME), GARLIC, PUMPKIN SEEDS (PUMPKIN SEEDS, SOYBEAN OIL), XANTHAN GUM.'}], 'item_description': None, 'popularity': '175', 'price': {'regularPrice': {'amount': {'value': 3.99, 'currency': 'USD'}}}, 'country_of_manufacture': None, 'country_of_origin': 'Packed in United States', 'description': {'html': ''}}, {'sku': '080040', 'name': 'CHOCOLATE HARD TOP', 'availability': '1', 'stock_status': 'OUT_OF_STOCK', 'only_x_left_in_stock': None, 'nutrition': [{'calories_per_serving': '210 ', 'details': [{'amount': '17 g', 'display_seq': 1, 'nutritional_item': 'Total Fat', 'percent_dv': '.22'}, {'amount': '13 g', 'display_seq': 2, 'nutritional_item': 'Saturated Fat', 'percent_dv': '.65'}, {'amount': '0 g', 'display_seq': 3, 'nutritional_item': 'Trans Fat', 'percent_dv': None}, {'amount': '0 mg', 'display_seq': 4, 'nutritional_item': 'Cholesterol', 'percent_dv': '0'}, {'amount': '20 mg', 'display_seq': 5, 'nutritional_item': 'Sodium', 'percent_dv': '.01'}, {'amount': '15 g', 'display_seq': 6, 'nutritional_item': 'Total Carbohydrate', 'percent_dv': '.05'}, {'amount': '1 g', 'display_seq': 7, 'nutritional_item': 'Dietary Fiber', 'percent_dv': '.04'}, {'amount': '13 g', 'display_seq': 8, 'nutritional_item': 'Total Sugars', 'percent_dv': None}, {'amount': '13 g Added Sugars', 'display_seq': 9, 'nutritional_item': 'Includes', 'percent_dv': '.26'}, {'amount': '1 g', 'display_seq': 10, 'nutritional_item': 'Protein', 'percent_dv': None}, {'amount': '0.0 mcg', 'display_seq': 11, 'nutritional_item': 'Vitamin D', 'percent_dv': '0'}, {'amount': '10 mg', 'display_seq': 12, 'nutritional_item': 'Calcium', 'percent_dv': '0'}, {'amount': '4.1 mg', 'display_seq': 13, 'nutritional_item': 'Iron', 'percent_dv': '.25'}, {'amount': '150 mg', 'display_seq': 14, 'nutritional_item': 'Potassium', 'percent_dv': '.04'}], 'display_sequence': 0, 'panel_id': 1, 'panel_title': None, 'serving_size': '2 Tbsp. (34g)', 'servings_per_container': 'Serves about 5'}], 'ingredients': [{'display_sequence': 1, 'ingredient': 'COCONUT OIL'}, {'display_sequence': 2, 'ingredient': 'SUGAR'}, {'display_sequence': 3, 'ingredient': 'COCOA POWDER PROCESSED WITH ALKALI'}, {'display_sequence': 4, 'ingredient': 'DARK CHOCOLATE (SUGAR, COCOA MASS, COCOA BUTTER, CANOLA LECITHIN, NATURAL FLAVOR)'}, {'display_sequence': 5, 'ingredient': 'SKIM MILK POWDER'}, {'display_sequence': 6, 'ingredient': 'HAZELNUTS'}, {'display_sequence': 7, 'ingredient': 'SUNFLOWER LECITHIN'}, {'display_sequence': 8, 'ingredient': 'SALT'}], 'item_description': None, 'popularity': '195', 'price': {'regularPrice': {'amount': {'value': 3.29, 'currency': 'USD'}}}, 'country_of_manufacture': None, 'country_of_origin': 'Product of Denmark', 'description': {'html': ''}}, {'sku': '075995', 'name': 'TUNA FILETS IN XVOO', 'availability': '1', 'stock_status': 'OUT_OF_STOCK', 'only_x_left_in_stock': None, 'nutrition': [{'calories_per_serving': '230 ', 'details': [{'amount': '11 g', 'display_seq': 1, 'nutritional_item': 'Total Fat', 'percent_dv': '.14'}, {'amount': '2.0 g', 'display_seq': 2, 'nutritional_item': 'Saturated Fat', 'percent_dv': '.1'}, {'amount': '0 g', 'display_seq': 3, 'nutritional_item': 'Trans Fat', 'percent_dv': None}, {'amount': '35 mg', 'display_seq': 4, 'nutritional_item': 'Cholesterol', 'percent_dv': '.12'}, {'amount': '240 mg', 'display_seq': 5, 'nutritional_item': 'Sodium', 'percent_dv': '.1'}, {'amount': '0 g', 'display_seq': 6, 'nutritional_item': 'Total Carbohydrate', 'percent_dv': '0'}, {'amount': '0 g', 'display_seq': 7, 'nutritional_item': 'Dietary Fiber', 'percent_dv': '0'}, {'amount': '0 g', 'display_seq': 8, 'nutritional_item': 'Total Sugars', 'percent_dv': None}, {'amount': '0 g Added Sugars', 'display_seq': 9, 'nutritional_item': 'Includes', 'percent_dv': '0'}, {'amount': '34 g', 'display_seq': 10, 'nutritional_item': 'Protein', 'percent_dv': None}, {'amount': '0.3 mcg', 'display_seq': 11, 'nutritional_item': 'Vitamin D', 'percent_dv': '.02'}, {'amount': '10 mg', 'display_seq': 12, 'nutritional_item': 'Calcium', 'percent_dv': '0'}, {'amount': '0.9 mg', 'display_seq': 13, 'nutritional_item': 'Iron', 'percent_dv': '.06'}, {'amount': '400 mg', 'display_seq': 14, 'nutritional_item': 'Potassium', 'percent_dv': '.08'}], 'display_sequence': 0, 'panel_id': 1, 'panel_title': None, 'serving_size': '1 can drained  (120g)', 'servings_per_container': 'Serves 1'}], 'ingredients': [{'display_sequence': 1, 'ingredient': 'SKIPJACK TUNA'}, {'display_sequence': 2, 'ingredient': 'OLIVE OIL'}, {'display_sequence': 3, 'ingredient': 'SALT'}], 'item_description': None, 'popularity': '189', 'price': {'regularPrice': {'amount': {'value': 3.99, 'currency': 'USD'}}}, 'country_of_manufacture': None, 'country_of_origin': 'Product of Tunisia', 'description': {'html': ''}}, {'sku': '077645', 'name': 'MACKEREL GRILLED BONELESS EXVOO', 'availability': '1', 'stock_status': 'OUT_OF_STOCK', 'only_x_left_in_stock': None, 'nutrition': [{'calories_per_serving': '230 ', 'details': [{'amount': '11 g', 'display_seq': 1, 'nutritional_item': 'Total Fat', 'percent_dv': '.14'}, {'amount': '2.5 g', 'display_seq': 2, 'nutritional_item': 'Saturated Fat', 'percent_dv': '.13'}, {'amount': '0 g', 'display_seq': 3, 'nutritional_item': 'Trans Fat', 'percent_dv': None}, {'amount': '65 mg', 'display_seq': 4, 'nutritional_item': 'Cholesterol', 'percent_dv': '.22'}, {'amount': '200 mg', 'display_seq': 5, 'nutritional_item': 'Sodium', 'percent_dv': '.09'}, {'amount': '0 g', 'display_seq': 6, 'nutritional_item': 'Total Carbohydrate', 'percent_dv': '0'}, {'amount': '0 g', 'display_seq': 7, 'nutritional_item': 'Dietary Fiber', 'percent_dv': '0'}, {'amount': '0 g', 'display_seq': 8, 'nutritional_item': 'Total Sugars', 'percent_dv': None}, {'amount': '0 g Added Sugars', 'display_seq': 9, 'nutritional_item': 'Includes', 'percent_dv': '0'}, {'amount': '32 g', 'display_seq': 10, 'nutritional_item': 'Protein', 'percent_dv': None}, {'amount': '5.9 mcg', 'display_seq': 11, 'nutritional_item': 'Vitamin D', 'percent_dv': '.3'}, {'amount': '30 mg', 'display_seq': 12, 'nutritional_item': 'Calcium', 'percent_dv': '.02'}, {'amount': '1.8 mg', 'display_seq': 13, 'nutritional_item': 'Iron', 'percent_dv': '.1'}, {'amount': '0 mg', 'display_seq': 14, 'nutritional_item': 'Potassium', 'percent_dv': '0'}], 'display_sequence': 0, 'panel_id': 1, 'panel_title': None, 'serving_size': '1 can drained (120g)', 'servings_per_container': 'Serves 1'}], 'ingredients': [{'display_sequence': 1, 'ingredient': 'MACKEREL'}, {'display_sequence': 2, 'ingredient': 'EXTRA VIRGIN OLIVE OIL'}, {'display_sequence': 3, 'ingredient': 'SALT'}], 'item_description': None, 'popularity': '44', 'price': {'regularPrice': {'amount': {'value': 3.49, 'currency': 'USD'}}}, 'country_of_manufacture': None, 'country_of_origin': 'Product of Tunisia', 'description': {'html': ''}}, {'sku': '080527', 'name': 'ENTREE MEATBALL CALZONE', 'availability': '1', 'stock_status': 'OUT_OF_STOCK', 'only_x_left_in_stock': None, 'nutrition': [{'calories_per_serving': '390 ', 'details': [{'amount': '23 g', 'display_seq': 1, 'nutritional_item': 'Total Fat', 'percent_dv': '.29'}, {'amount': '11 g', 'display_seq': 2, 'nutritional_item': 'Saturated Fat', 'percent_dv': '.55'}, {'amount': '0 g', 'display_seq': 3, 'nutritional_item': 'Trans Fat', 'percent_dv': None}, {'amount': '45 mg', 'display_seq': 4, 'nutritional_item': 'Cholesterol', 'percent_dv': '.15'}, {'amount': '870 mg', 'display_seq': 5, 'nutritional_item': 'Sodium', 'percent_dv': '.38'}, {'amount': '29 g', 'display_seq': 6, 'nutritional_item': 'Total Carbohydrate', 'percent_dv': '.11'}, {'amount': '4 g', 'display_seq': 7, 'nutritional_item': 'Dietary Fiber', 'percent_dv': '.14'}, {'amount': '6 g', 'display_seq': 8, 'nutritional_item': 'Total Sugars', 'percent_dv': None}, {'amount': '4 g Added Sugars', 'display_seq': 9, 'nutritional_item': 'Includes', 'percent_dv': '.08'}, {'amount': '17 g', 'display_seq': 10, 'nutritional_item': 'Protein', 'percent_dv': None}, {'amount': '0.0 mcg', 'display_seq': 11, 'nutritional_item': 'Vitamin D', 'percent_dv': '0'}, {'amount': '130 mg', 'display_seq': 12, 'nutritional_item': 'Calcium', 'percent_dv': '.1'}, {'amount': '2.7 mg', 'display_seq': 13, 'nutritional_item': 'Iron', 'percent_dv': '.15'}, {'amount': '330 mg', 'display_seq': 14, 'nutritional_item': 'Potassium', 'percent_dv': '.08'}], 'display_sequence': 0, 'panel_id': 1, 'panel_title': None, 'serving_size': '1/3 calzone (151g)', 'servings_per_container': 'Serves 3'}], 'ingredients': [{'display_sequence': 1, 'ingredient': 'ENRICHED WHEAT FLOUR (WHEAT FLOUR, MALTED BARLEY FLOUR, NIACIN, REDUCED IRON, THIAMINE MONONITRATE, RIBOFLAVIN, FOLIC ACID)'}, {'display_sequence': 2, 'ingredient': 'MEATBALLS (GROUND PORK, GROUND BEEF, PARMESAN CHEESE [PASTEURIZED PART SKIM MILK, CHEESE CULTURES, SALT, MICROBIAL ENZYME], ONIONS, WATER, EGGS, EXTRA VIRGIN OLIVE OIL, GARLIC, PARSLEY, BLACK PEPPER)'}, {'display_sequence': 3, 'ingredient': 'WATER'}, {'display_sequence': 4, 'ingredient': 'SAUCE (TOMATOES, SUGAR, SEA SALT, CORNSTARCH, OLIVE OIL, DEHYDRATED ONION, OREGANO, DEHYDRATED GARLIC, BLACK PEPPER, BASIL, CITRIC ACID [TO PRESERVE], JALAPENO PEPPERS, NATURAL FLAVORS)'}, {'display_sequence': 5, 'ingredient': 'MOZZARELLA CHEESE (PASTEURIZED MILK, NONFAT MILK, CHEESE CULTURES, SALT, MICROBIAL ENZYME)'}, {'display_sequence': 6, 'ingredient': 'SUGAR'}, {'display_sequence': 7, 'ingredient': 'EXTRA VIRGIN OLIVE OIL'}, {'display_sequence': 8, 'ingredient': 'SALT'}, {'display_sequence': 9, 'ingredient': 'BLACK PEPPER'}, {'display_sequence': 10, 'ingredient': 'DOUGH CONDITIONER (ENRICHED WHEAT FLOUR [WHEAT FLOUR, NIACIN, REDUCED IRON, THIAMINE MONONITRATE, FOLIC ACID, RIBOFLAVIN], ENZYMES)'}, {'display_sequence': 11, 'ingredient': 'OREGANO'}, {'display_sequence': 12, 'ingredient': 'YEAST'}, {'display_sequence': 13, 'ingredient': 'CALCIUM SULFATE.'}], 'item_description': None, 'popularity': '311', 'price': {'regularPrice': {'amount': {'value': 6.99, 'currency': 'USD'}}}, 'country_of_manufacture': None, 'country_of_origin': 'Made in USA', 'description': {'html': ''}}, {'sku': '081316', 'name': 'ORG SOUR WATERMELON BAR', 'availability': '1', 'stock_status': 'OUT_OF_STOCK', 'only_x_left_in_stock': None, 'nutrition': [{'calories_per_serving': '45 ', 'details': [{'amount': '0 g', 'display_seq': 1, 'nutritional_item': 'Total Fat', 'percent_dv': '0'}, {'amount': '0 g', 'display_seq': 2, 'nutritional_item': 'Saturated Fat', 'percent_dv': '0'}, {'amount': '0 g', 'display_seq': 3, 'nutritional_item': 'Trans Fat', 'percent_dv': None}, {'amount': '0 mg', 'display_seq': 4, 'nutritional_item': 'Cholesterol', 'percent_dv': '0'}, {'amount': '30 mg', 'display_seq': 5, 'nutritional_item': 'Sodium', 'percent_dv': '.01'}, {'amount': '11 g', 'display_seq': 6, 'nutritional_item': 'Total Carbohydrate', 'percent_dv': '.04'}, {'amount': 'less than 1g', 'display_seq': 7, 'nutritional_item': 'Dietary Fiber', 'percent_dv': '.03'}, {'amount': '10 g', 'display_seq': 8, 'nutritional_item': 'Total Sugars', 'percent_dv': None}, {'amount': '4 g Added Sugars', 'display_seq': 9, 'nutritional_item': 'Includes', 'percent_dv': '.08'}, {'amount': '0 g', 'display_seq': 10, 'nutritional_item': 'Protein', 'percent_dv': None}, {'amount': '0.0 mcg', 'display_seq': 11, 'nutritional_item': 'Vitamin D', 'percent_dv': '0'}, {'amount': '0 mg', 'display_seq': 12, 'nutritional_item': 'Calcium', 'percent_dv': '0'}, {'amount': '0.1 mg', 'display_seq': 13, 'nutritional_item': 'Iron', 'percent_dv': '0'}, {'amount': '100 mg', 'display_seq': 14, 'nutritional_item': 'Potassium', 'percent_dv': '.02'}], 'display_sequence': 0, 'panel_id': 1, 'panel_title': None, 'serving_size': '1 bar (14g)', 'servings_per_container': 'Serves 1'}], 'ingredients': [{'display_sequence': 1, 'ingredient': 'ORGANIC APPLE PUREE CONCENTRATE'}, {'display_sequence': 2, 'ingredient': 'ORGANIC APPLE JUICE CONCENTRATE'}, {'display_sequence': 3, 'ingredient': 'MALIC ACID'}, {'display_sequence': 4, 'ingredient': 'CITRUS PECTIN'}, {'display_sequence': 5, 'ingredient': 'NATURAL FLAVOR'}, {'display_sequence': 6, 'ingredient': 'SODIUM CITRATE'}, {'display_sequence': 7, 'ingredient': 'ORGANIC WATERMELON JUICE CONCENTRATE'}, {'display_sequence': 8, 'ingredient': 'ORGANIC ELDERBERRY JUICE CONCENTRATE'}], 'item_description': None, 'popularity': '104', 'price': {'regularPrice': {'amount': {'value': 0.49, 'currency': 'USD'}}}, 'country_of_manufacture': None, 'country_of_origin': 'Product of Canada', 'description': {'html': ''}}, {'sku': '081067', 'name': 'GUACAMOLE MANGO HABANERO', 'availability': '1', 'stock_status': 'OUT_OF_STOCK', 'only_x_left_in_stock': None, 'nutrition': [{'calories_per_serving': '35 ', 'details': [{'amount': '2.5 g', 'display_seq': 1, 'nutritional_item': 'Total Fat', 'percent_dv': '.03'}, {'amount': '0 g', 'display_seq': 2, 'nutritional_item': 'Saturated Fat', 'percent_dv': '0'}, {'amount': '0 g', 'display_seq': 3, 'nutritional_item': 'Trans Fat', 'percent_dv': None}, {'amount': '0 mg', 'display_seq': 4, 'nutritional_item': 'Cholesterol', 'percent_dv': '0'}, {'amount': '120 mg', 'display_seq': 5, 'nutritional_item': 'Sodium', 'percent_dv': '.05'}, {'amount': '3 g', 'display_seq': 6, 'nutritional_item': 'Total Carbohydrate', 'percent_dv': '.01'}, {'amount': '1 g', 'display_seq': 7, 'nutritional_item': 'Dietary Fiber', 'percent_dv': '.04'}, {'amount': '1 g', 'display_seq': 8, 'nutritional_item': 'Total Sugars', 'percent_dv': None}, {'amount': '0 g Added Sugars', 'display_seq': 9, 'nutritional_item': 'Includes', 'percent_dv': '0'}, {'amount': '0 g', 'display_seq': 10, 'nutritional_item': 'Protein', 'percent_dv': None}, {'amount': '0.0 mcg', 'display_seq': 11, 'nutritional_item': 'Vitamin D', 'percent_dv': '0'}, {'amount': '0 mg', 'display_seq': 12, 'nutritional_item': 'Calcium', 'percent_dv': '0'}, {'amount': '0.1 mg', 'display_seq': 13, 'nutritional_item': 'Iron', 'percent_dv': '0'}, {'amount': '110 mg', 'display_seq': 14, 'nutritional_item': 'Potassium', 'percent_dv': '.02'}], 'display_sequence': 0, 'panel_id': 1, 'panel_title': None, 'serving_size': '2 Tbsp. (30g)', 'servings_per_container': 'Serves about 9'}], 'ingredients': [{'display_sequence': 1, 'ingredient': 'HASS AVOCADO'}, {'display_sequence': 2, 'ingredient': 'MANGO'}, {'display_sequence': 3, 'ingredient': 'ONION'}, {'display_sequence': 4, 'ingredient': 'JALAPENO PEPPERS (JALAPENO PEPPERS, WATER, SALT, ACETIC ACID, CALCIUM CHLORIDE)'}, {'display_sequence': 5, 'ingredient': 'RED BELL PEPPER'}, {'display_sequence': 6, 'ingredient': 'DISTILLED WHITE VINEGAR'}, {'display_sequence': 7, 'ingredient': 'SEA SALT'}, {'display_sequence': 8, 'ingredient': 'HABANERO PEPPERS PUREE'}, {'display_sequence': 9, 'ingredient': 'CILANTRO.'}], 'item_description': None, 'popularity': '943', 'price': {'regularPrice': {'amount': {'value': 3.49, 'currency': 'USD'}}}, 'country_of_manufacture': None, 'country_of_origin': 'Product of Mexico', 'description': {'html': ''}}, {'sku': '081050', 'name': 'ROASTED TOMATO LABNEH DIP', 'availability': '1', 'stock_status': 'OUT_OF_STOCK', 'only_x_left_in_stock': None, 'nutrition': [{'calories_per_serving': '45 ', 'details': [{'amount': '3.5 g', 'display_seq': 1, 'nutritional_item': 'Total Fat', 'percent_dv': '.04'}, {'amount': '1.5 g', 'display_seq': 2, 'nutritional_item': 'Saturated Fat', 'percent_dv': '.08'}, {'amount': '0 g', 'display_seq': 3, 'nutritional_item': 'Trans Fat', 'percent_dv': None}, {'amount': '5 mg', 'display_seq': 4, 'nutritional_item': 'Cholesterol', 'percent_dv': '.02'}, {'amount': '95 mg', 'display_seq': 5, 'nutritional_item': 'Sodium', 'percent_dv': '.04'}, {'amount': '3 g', 'display_seq': 6, 'nutritional_item': 'Total Carbohydrate', 'percent_dv': '.01'}, {'amount': '0 g', 'display_seq': 7, 'nutritional_item': 'Dietary Fiber', 'percent_dv': '0'}, {'amount': '2 g', 'display_seq': 8, 'nutritional_item': 'Total Sugars', 'percent_dv': None}, {'amount': '0 g Added Sugars', 'display_seq': 9, 'nutritional_item': 'Includes', 'percent_dv': '0'}, {'amount': '1 g', 'display_seq': 10, 'nutritional_item': 'Protein', 'percent_dv': None}, {'amount': '0.0 mcg', 'display_seq': 11, 'nutritional_item': 'Vitamin D', 'percent_dv': '0'}, {'amount': '40 mg', 'display_seq': 12, 'nutritional_item': 'Calcium', 'percent_dv': '.04'}, {'amount': '0.1 mg', 'display_seq': 13, 'nutritional_item': 'Iron', 'percent_dv': '0'}, {'amount': '110 mg', 'display_seq': 14, 'nutritional_item': 'Potassium', 'percent_dv': '.02'}], 'display_sequence': 0, 'panel_id': 1, 'panel_title': None, 'serving_size': '2 Tbsp. (28g)', 'servings_per_container': 'Serves about 9'}], 'ingredients': [{'display_sequence': 1, 'ingredient': 'LABNEH (PASTEURIZED CULTURED MILK AND CREAM, NONFAT MILK, PECTIN, LIVE ACTIVE CULTURES [BIFIDOBACTERIUM, LACTOBACILLUS RHAMNOSUS, LACTOBACILLUS DELBRUECKII, STREPTOCOCCUS THERMOPHILUS , LACTOBACILLUS ACIDOPHILUS, LACTOBACILLUS PARACASEI])'}, {'display_sequence': 2, 'ingredient': 'ROASTED TOMATOES (ROASTED TOMATO, SUNFLOWER OIL, SALT, GARLIC, OREGANO)'}, {'display_sequence': 3, 'ingredient': 'CANOLA OIL'}, {'display_sequence': 4, 'ingredient': 'RED WINE VINEGAR'}, {'display_sequence': 5, 'ingredient': 'SEA SALT'}, {'display_sequence': 6, 'ingredient': 'DEHYDRATED GARLIC'}, {'display_sequence': 7, 'ingredient': 'BALSAMIC VINEGAR (WINE VINEGAR, CONCENTRATED GRAPE MUST)'}, {'display_sequence': 8, 'ingredient': 'DRIED GREEN ONION'}, {'display_sequence': 9, 'ingredient': 'DILL WEED'}, {'display_sequence': 10, 'ingredient': 'BLACK PEPPER'}, {'display_sequence': 11, 'ingredient': 'DRIED PARSLEY'}, {'display_sequence': 12, 'ingredient': 'DRIED SPEARMINT'}, {'display_sequence': 13, 'ingredient': 'CULTURED DEXTROSE (TO PRESERVE).'}], 'item_description': None, 'popularity': '158', 'price': {'regularPrice': {'amount': {'value': 3.49, 'currency': 'USD'}}}, 'country_of_manufacture': None, 'country_of_origin': 'Product of USA', 'description': {'html': ''}}, {'sku': '080939', 'name': 'BREAD CINNAMON SLICED', 'availability': '1', 'stock_status': 'OUT_OF_STOCK', 'only_x_left_in_stock': None, 'nutrition': [{'calories_per_serving': '110 ', 'details': [{'amount': '4.0 g', 'display_seq': 1, 'nutritional_item': 'Total Fat', 'percent_dv': '.05'}, {'amount': '1.0 g', 'display_seq': 2, 'nutritional_item': 'Saturated Fat', 'percent_dv': '.05'}, {'amount': '0 g', 'display_seq': 3, 'nutritional_item': 'Trans Fat', 'percent_dv': None}, {'amount': '10 mg', 'display_seq': 4, 'nutritional_item': 'Cholesterol', 'percent_dv': '.03'}, {'amount': '110 mg', 'display_seq': 5, 'nutritional_item': 'Sodium', 'percent_dv': '.05'}, {'amount': '16 g', 'display_seq': 6, 'nutritional_item': 'Total Carbohydrate', 'percent_dv': '.06'}, {'amount': 'less than 1g', 'display_seq': 7, 'nutritional_item': 'Dietary Fiber', 'percent_dv': '.02'}, {'amount': '4 g', 'display_seq': 8, 'nutritional_item': 'Total Sugars', 'percent_dv': None}, {'amount': '4 g Added Sugars', 'display_seq': 9, 'nutritional_item': 'Includes', 'percent_dv': '.08'}, {'amount': '2 g', 'display_seq': 10, 'nutritional_item': 'Protein', 'percent_dv': None}, {'amount': '0.0 mcg', 'display_seq': 11, 'nutritional_item': 'Vitamin D', 'percent_dv': '0'}, {'amount': '20 mg', 'display_seq': 12, 'nutritional_item': 'Calcium', 'percent_dv': '.02'}, {'amount': '0.9 mg', 'display_seq': 13, 'nutritional_item': 'Iron', 'percent_dv': '.06'}, {'amount': '30 mg', 'display_seq': 14, 'nutritional_item': 'Potassium', 'percent_dv': '0'}], 'display_sequence': 0, 'panel_id': 1, 'panel_title': None, 'serving_size': '1 slice (34g)', 'servings_per_container': 'Serves about 15'}], 'ingredients': [{'display_sequence': 1, 'ingredient': 'UNBLEACHED ENRICHED FLOUR (WHEAT FLOUR, MALTED BARLEY FLOUR, NIACIN, REDUCED IRON, THIAMINE MONONITRATE, RIBOFLAVIN, FOLIC ACID)'}, {'display_sequence': 2, 'ingredient': 'WATER'}, {'display_sequence': 3, 'ingredient': 'SUGAR'}, {'display_sequence': 4, 'ingredient': 'CANOLA OIL'}, {'display_sequence': 5, 'ingredient': 'BROWN CANE SUGAR'}, {'display_sequence': 6, 'ingredient': 'UNSALTED BUTTER (CREAM [MILK], NATURAL FLAVOR)'}, {'display_sequence': 7, 'ingredient': 'EGGS'}, {'display_sequence': 8, 'ingredient': 'CONTAINS 2% OR LESS OF YEAST'}, {'display_sequence': 9, 'ingredient': 'CINNAMON'}, {'display_sequence': 10, 'ingredient': 'SALT'}, {'display_sequence': 11, 'ingredient': 'VANILLA EXTRACT (WATER, ETHYL ALCOHOL, VANILLA BEAN EXTRACTIVES)'}, {'display_sequence': 12, 'ingredient': 'CULTURED WHEAT FLOUR (TO PRESERVE)'}, {'display_sequence': 13, 'ingredient': 'MILK (MILK, VITAMIN D3)'}, {'display_sequence': 14, 'ingredient': 'ANNATTO EXTRACT (COLOR)'}, {'display_sequence': 15, 'ingredient': 'TURMERIC OLEORESIN (COLOR)'}, {'display_sequence': 16, 'ingredient': 'ENZYMES'}, {'display_sequence': 17, 'ingredient': 'WHEAT GLUTEN'}, {'display_sequence': 18, 'ingredient': 'ASCORBIC ACID (DOUGH CONDITIONER).'}], 'item_description': None, 'popularity': '77', 'price': {'regularPrice': {'amount': {'value': 4.99, 'currency': 'USD'}}}, 'country_of_manufacture': None, 'country_of_origin': 'Made in USA', 'description': {'html': ''}}, {'sku': '079652', 'name': 'CRACKERS PARSLEY', 'availability': '1', 'stock_status': 'OUT_OF_STOCK', 'only_x_left_in_stock': None, 'nutrition': [{'calories_per_serving': '120 ', 'details': [{'amount': '2.5 g', 'display_seq': 1, 'nutritional_item': 'Total Fat', 'percent_dv': '.03'}, {'amount': '0 g', 'display_seq': 2, 'nutritional_item': 'Saturated Fat', 'percent_dv': '0'}, {'amount': '0 g', 'display_seq': 3, 'nutritional_item': 'Trans Fat', 'percent_dv': None}, {'amount': '0 mg', 'display_seq': 4, 'nutritional_item': 'Cholesterol', 'percent_dv': '0'}, {'amount': '340 mg', 'display_seq': 5, 'nutritional_item': 'Sodium', 'percent_dv': '.15'}, {'amount': '21 g', 'display_seq': 6, 'nutritional_item': 'Total Carbohydrate', 'percent_dv': '.08'}, {'amount': '2 g', 'display_seq': 7, 'nutritional_item': 'Dietary Fiber', 'percent_dv': '.07'}, {'amount': '1 g', 'display_seq': 8, 'nutritional_item': 'Total Sugars', 'percent_dv': None}, {'amount': '0 g Added Sugars', 'display_seq': 9, 'nutritional_item': 'Includes', 'percent_dv': '0'}, {'amount': '4 g', 'display_seq': 10, 'nutritional_item': 'Protein', 'percent_dv': None}, {'amount': '0.0 mcg', 'display_seq': 11, 'nutritional_item': 'Vitamin D', 'percent_dv': '0'}, {'amount': '20 mg', 'display_seq': 12, 'nutritional_item': 'Calcium', 'percent_dv': '.02'}, {'amount': '0.8 mg', 'display_seq': 13, 'nutritional_item': 'Iron', 'percent_dv': '.04'}, {'amount': '100 mg', 'display_seq': 14, 'nutritional_item': 'Potassium', 'percent_dv': '.02'}], 'display_sequence': 0, 'panel_id': 1, 'panel_title': None, 'serving_size': '14 crackers (30g)', 'servings_per_container': 'Serves about 5'}], 'ingredients': [{'display_sequence': 1, 'ingredient': 'WHEAT FLOUR'}, {'display_sequence': 2, 'ingredient': 'GARLIC'}, {'display_sequence': 3, 'ingredient': 'SUNFLOWER OIL'}, {'display_sequence': 4, 'ingredient': 'PARSLEY'}, {'display_sequence': 5, 'ingredient': 'YEAST'}, {'display_sequence': 6, 'ingredient': 'SALT'}, {'display_sequence': 7, 'ingredient': 'MALTED FLOUR (MALTED WHEAT FLOUR, BARLEY MALT EXTRACT)'}, {'display_sequence': 8, 'ingredient': 'SUGAR'}], 'item_description': None, 'popularity': '219', 'price': {'regularPrice': {'amount': {'value': 2.49, 'currency': 'USD'}}}, 'country_of_manufacture': None, 'country_of_origin': 'Product of Italy', 'description': {'html': ''}}, {'sku': '081300', 'name': 'ORGANIC GUAVA SPREAD', 'availability': '1', 'stock_status': 'OUT_OF_STOCK', 'only_x_left_in_stock': None, 'nutrition': [{'calories_per_serving': '40 ', 'details': [{'amount': '0 g', 'display_seq': 1, 'nutritional_item': 'Total Fat', 'percent_dv': '0'}, {'amount': '0 g', 'display_seq': 2, 'nutritional_item': 'Saturated Fat', 'percent_dv': '0'}, {'amount': '0 g', 'display_seq': 3, 'nutritional_item': 'Trans Fat', 'percent_dv': None}, {'amount': '0 mg', 'display_seq': 4, 'nutritional_item': 'Cholesterol', 'percent_dv': '0'}, {'amount': '0 mg', 'display_seq': 5, 'nutritional_item': 'Sodium', 'percent_dv': '0'}, {'amount': '10 g', 'display_seq': 6, 'nutritional_item': 'Total Carbohydrate', 'percent_dv': '.04'}, {'amount': '0 g', 'display_seq': 7, 'nutritional_item': 'Dietary Fiber', 'percent_dv': '0'}, {'amount': '10 g', 'display_seq': 8, 'nutritional_item': 'Total Sugars', 'percent_dv': None}, {'amount': '9 g Added Sugars', 'display_seq': 9, 'nutritional_item': 'Includes', 'percent_dv': '.18'}, {'amount': '0 g', 'display_seq': 10, 'nutritional_item': 'Protein', 'percent_dv': None}, {'amount': '0.0 mcg', 'display_seq': 11, 'nutritional_item': 'Vitamin D', 'percent_dv': '0'}, {'amount': '0 mg', 'display_seq': 12, 'nutritional_item': 'Calcium', 'percent_dv': '0'}, {'amount': '0.3 mg', 'display_seq': 13, 'nutritional_item': 'Iron', 'percent_dv': '.02'}, {'amount': '30 mg', 'display_seq': 14, 'nutritional_item': 'Potassium', 'percent_dv': '0'}], 'display_sequence': 0, 'panel_id': 1, 'panel_title': None, 'serving_size': '1 Tbsp. (19g)', 'servings_per_container': 'Serves about 16'}], 'ingredients': [{'display_sequence': 1, 'ingredient': 'ORGANIC GUAVA'}, {'display_sequence': 2, 'ingredient': 'ORGANIC CANE SUGAR'}, {'display_sequence': 3, 'ingredient': 'FRUIT PECTIN'}, {'display_sequence': 4, 'ingredient': 'WATER'}, {'display_sequence': 5, 'ingredient': 'ASCORBIC ACID (TO PRESERVE)'}, {'display_sequence': 6, 'ingredient': 'CITRIC ACID (ACIDIFIER).'}], 'item_description': None, 'popularity': '220', 'price': {'regularPrice': {'amount': {'value': 2.99, 'currency': 'USD'}}}, 'country_of_manufacture': None, 'country_of_origin': 'Product of Canada', 'description': {'html': ''}}, {'sku': '079860', 'name': 'MACARONS RASPBERRY, VANILLA & BLUEBERRY', 'availability': '1', 'stock_status': 'OUT_OF_STOCK', 'only_x_left_in_stock': None, 'nutrition': [{'calories_per_serving': '100 ', 'details': [{'amount': '3.5 g', 'display_seq': 1, 'nutritional_item': 'Total Fat', 'percent_dv': '.04'}, {'amount': '0.5 g', 'display_seq': 2, 'nutritional_item': 'Saturated Fat', 'percent_dv': '.03'}, {'amount': '0 g', 'display_seq': 3, 'nutritional_item': 'Trans Fat', 'percent_dv': None}, {'amount': 'less than 5mg', 'display_seq': 4, 'nutritional_item': 'Cholesterol', 'percent_dv': '.01'}, {'amount': '15 mg', 'display_seq': 5, 'nutritional_item': 'Sodium', 'percent_dv': '.01'}, {'amount': '13 g', 'display_seq': 6, 'nutritional_item': 'Total Carbohydrate', 'percent_dv': '.05'}, {'amount': 'less than 1g', 'display_seq': 7, 'nutritional_item': 'Dietary Fiber', 'percent_dv': '.02'}, {'amount': '13 g', 'display_seq': 8, 'nutritional_item': 'Total Sugars', 'percent_dv': None}, {'amount': '12 g Added Sugars', 'display_seq': 9, 'nutritional_item': 'Includes', 'percent_dv': '.24'}, {'amount': '2 g', 'display_seq': 10, 'nutritional_item': 'Protein', 'percent_dv': None}, {'amount': '0.0 mcg', 'display_seq': 11, 'nutritional_item': 'Vitamin D', 'percent_dv': '0'}, {'amount': '20 mg', 'display_seq': 12, 'nutritional_item': 'Calcium', 'percent_dv': '.02'}, {'amount': '0.3 mg', 'display_seq': 13, 'nutritional_item': 'Iron', 'percent_dv': '.02'}, {'amount': '60 mg', 'display_seq': 14, 'nutritional_item': 'Potassium', 'percent_dv': '.02'}], 'display_sequence': 0, 'panel_id': 1, 'panel_title': None, 'serving_size': '2 macarons (26g)', 'servings_per_container': 'Serves 6'}], 'ingredients': [{'display_sequence': 1, 'ingredient': 'SUGAR'}, {'display_sequence': 2, 'ingredient': 'BLANCHED GROUND ALMONDS'}, {'display_sequence': 3, 'ingredient': 'EGG WHITES'}, {'display_sequence': 4, 'ingredient': 'RASPBERRY FILLING (RASPBERRIES, SUGAR, APPLE PUREE CONCENTRATE, GLUCOSE SYRUP [WHEAT], LEMON JUICE)'}, {'display_sequence': 5, 'ingredient': 'CULTURED BUTTER (CREAM, LACTIC ACID STARTER CULTURE)'}, {'display_sequence': 6, 'ingredient': 'BLUEBERRY PUREE'}, {'display_sequence': 7, 'ingredient': 'EGGS'}, {'display_sequence': 8, 'ingredient': 'CORNSTARCH'}, {'display_sequence': 9, 'ingredient': 'ALMOND PASTE'}, {'display_sequence': 10, 'ingredient': 'LEMON CONCENTRATE (LEMON JUICE CONCENTRATE, CITRIC ACID [ACIDIFIER], LEMON OIL ESSENCE)'}, {'display_sequence': 11, 'ingredient': 'GLUCOSE SYRUP'}, {'display_sequence': 12, 'ingredient': 'NATURAL FLAVORS'}, {'display_sequence': 13, 'ingredient': 'SPIRULINA EXTRACT (COLOR)'}, {'display_sequence': 14, 'ingredient': 'FRUIT AND VEGETABLE JUICE (COLOR)'}, {'display_sequence': 15, 'ingredient': 'APPLE SAUCE (APPLES, SUGAR)'}, {'display_sequence': 16, 'ingredient': 'PECTIN'}, {'display_sequence': 17, 'ingredient': 'PAPRIKA (COLOR)'}, {'display_sequence': 18, 'ingredient': 'XANTHAN GUM (SOY, WHEAT)'}, {'display_sequence': 19, 'ingredient': 'NONFAT DRY MILK'}, {'display_sequence': 20, 'ingredient': 'VANILLA BEAN SPECKS.'}], 'item_description': None, 'popularity': '161', 'price': {'regularPrice': {'amount': {'value': 5.99, 'currency': 'USD'}}}, 'country_of_manufacture': None, 'country_of_origin': 'Product of France', 'description': {'html': ''}}, {'sku': '078104', 'name': 'BATONS STRAWBERRY', 'availability': '1', 'stock_status': 'OUT_OF_STOCK', 'only_x_left_in_stock': None, 'nutrition': [{'calories_per_serving': '130 ', 'details': [{'amount': '5.0 g', 'display_seq': 1, 'nutritional_item': 'Total Fat', 'percent_dv': '.06'}, {'amount': '2.0 g', 'display_seq': 2, 'nutritional_item': 'Saturated Fat', 'percent_dv': '.1'}, {'amount': '0 g', 'display_seq': 3, 'nutritional_item': 'Trans Fat', 'percent_dv': None}, {'amount': '0 mg', 'display_seq': 4, 'nutritional_item': 'Cholesterol', 'percent_dv': '0'}, {'amount': '55 mg', 'display_seq': 5, 'nutritional_item': 'Sodium', 'percent_dv': '.02'}, {'amount': '21 g', 'display_seq': 6, 'nutritional_item': 'Total Carbohydrate', 'percent_dv': '.08'}, {'amount': '2 g', 'display_seq': 7, 'nutritional_item': 'Dietary Fiber', 'percent_dv': '.07'}, {'amount': '12 g', 'display_seq': 8, 'nutritional_item': 'Total Sugars', 'percent_dv': None}, {'amount': '11 g Added Sugars', 'display_seq': 9, 'nutritional_item': 'Includes', 'percent_dv': '.22'}, {'amount': '1 g', 'display_seq': 10, 'nutritional_item': 'Protein', 'percent_dv': None}, {'amount': '0.4 mcg', 'display_seq': 11, 'nutritional_item': 'Vitamin D', 'percent_dv': '.02'}, {'amount': '10 mg', 'display_seq': 12, 'nutritional_item': 'Calcium', 'percent_dv': '0'}, {'amount': '1.0 mg', 'display_seq': 13, 'nutritional_item': 'Iron', 'percent_dv': '.06'}, {'amount': '50 mg', 'display_seq': 14, 'nutritional_item': 'Potassium', 'percent_dv': '.02'}], 'display_sequence': 0, 'panel_id': 1, 'panel_title': None, 'serving_size': '3 pieces (28g)', 'servings_per_container': 'Serves about 5'}], 'ingredients': [{'display_sequence': 1, 'ingredient': 'SUGAR'}, {'display_sequence': 2, 'ingredient': 'UNBLEACHED ENRICHED FLOUR (WHEAT FLOUR, NIACIN, IRON, THIAMINE MONONITRATE, RIBOFLAVIN, FOLIC ACID)'}, {'display_sequence': 3, 'ingredient': 'PALM OIL'}, {'display_sequence': 4, 'ingredient': 'MALTODEXTRIN'}, {'display_sequence': 5, 'ingredient': 'TAPIOCA STARCH'}, {'display_sequence': 6, 'ingredient': 'WHEY'}, {'display_sequence': 7, 'ingredient': 'WHOLE MILK POWDER'}, {'display_sequence': 8, 'ingredient': 'RICE FLOUR'}, {'display_sequence': 9, 'ingredient': 'SALT'}, {'display_sequence': 10, 'ingredient': 'SOY LECITHIN (EMULSIFIER)'}, {'display_sequence': 11, 'ingredient': 'VEGETABLE JUICE (COLOR)'}, {'display_sequence': 12, 'ingredient': 'STRAWBERRY POWDER'}, {'display_sequence': 13, 'ingredient': 'NATURAL FLAVOR.'}], 'item_description': None, 'popularity': '32', 'price': {'regularPrice': {'amount': {'value': 1.99, 'currency': 'USD'}}}, 'country_of_manufacture': None, 'country_of_origin': 'Product of Indonesia', 'description': {'html': ''}}, {'sku': '081419', 'name': 'FTO COLOMBIAN ANEI SAILBOAT COFFEE', 'availability': '1', 'stock_status': 'OUT_OF_STOCK', 'only_x_left_in_stock': None, 'nutrition': [], 'ingredients': [{'display_sequence': 1, 'ingredient': 'ORGANIC ARABICA COFFEE BEANS'}], 'item_description': None, 'popularity': '79', 'price': {'regularPrice': {'amount': {'value': 9.99, 'currency': 'USD'}}}, 'country_of_manufacture': None, 'country_of_origin': 'Product of Canada', 'description': {'html': ''}}, {'sku': '080961', 'name': 'CUT CHILI ONION CRUNCH TOSCANO', 'availability': '1', 'stock_status': 'OUT_OF_STOCK', 'only_x_left_in_stock': None, 'nutrition': [{'calories_per_serving': '120', 'details': [{'amount': '9g', 'display_seq': 1, 'nutritional_item': 'Total Fat', 'percent_dv': '.12'}, {'amount': '6g', 'display_seq': 2, 'nutritional_item': 'Saturated Fat', 'percent_dv': '.3'}, {'amount': '0g', 'display_seq': 3, 'nutritional_item': 'Trans Fat', 'percent_dv': ''}, {'amount': '25mg', 'display_seq': 4, 'nutritional_item': 'Cholesterol', 'percent_dv': '.08'}, {'amount': '200mg', 'display_seq': 5, 'nutritional_item': 'Sodium', 'percent_dv': '.09'}, {'amount': '2g', 'display_seq': 6, 'nutritional_item': 'Total Carbohydrate', 'percent_dv': '.01'}, {'amount': '0g', 'display_seq': 7, 'nutritional_item': 'Fiber', 'percent_dv': '0'}, {'amount': '0g', 'display_seq': 8, 'nutritional_item': 'Total Sugars', 'percent_dv': ''}, {'amount': '0g Added Sugars', 'display_seq': 9, 'nutritional_item': 'Includes', 'percent_dv': '0'}, {'amount': '7g', 'display_seq': 10, 'nutritional_item': 'Protein', 'percent_dv': '0'}, {'amount': '', 'display_seq': 11, 'nutritional_item': 'Vitamin D', 'percent_dv': '0'}, {'amount': '', 'display_seq': 12, 'nutritional_item': 'Calcium', 'percent_dv': '.15'}, {'amount': '', 'display_seq': 13, 'nutritional_item': 'Iron', 'percent_dv': '0'}, {'amount': '', 'display_seq': 14, 'nutritional_item': 'Potassium', 'percent_dv': '0'}], 'display_sequence': 0, 'panel_id': 1, 'panel_title': '', 'serving_size': '1 oz (28g/about 1 inch cube)', 'servings_per_container': 'Servings varied'}], 'ingredients': [{'display_sequence': 1, 'ingredient': 'TOSCANO CHEESE (PASTEURIZED MILK, CHEESE CULTURES, SALT, MICROBIAL ENZYME), EXTRA VIRGIN OLIVE OIL, SEASONING BLEND (DEHYDRATED GARLIC, DEHYDRATED ONION, GRANULATED RED BELL PEPPER, CHILI FLAKES, SEA SALT, NATURAL FLAVORS, PAPRIKA OLEORESIN [COLOR])'}], 'item_description': None, 'popularity': '67', 'price': {'regularPrice': {'amount': {'value': 11.99, 'currency': 'USD'}}}, 'country_of_manufacture': None, 'country_of_origin': 'U.S.A.', 'description': {'html': ''}}, {'sku': '081429', 'name': 'ROOT BEER FLOAT PIECES', 'availability': '1', 'stock_status': 'OUT_OF_STOCK', 'only_x_left_in_stock': None, 'nutrition': [{'calories_per_serving': '140 ', 'details': [{'amount': '6 g', 'display_seq': 1, 'nutritional_item': 'Total Fat', 'percent_dv': '.08'}, {'amount': '3.5 g', 'display_seq': 2, 'nutritional_item': 'Saturated Fat', 'percent_dv': '.18'}, {'amount': '0 g', 'display_seq': 3, 'nutritional_item': 'Trans Fat', 'percent_dv': None}, {'amount': '0 mg', 'display_seq': 4, 'nutritional_item': 'Cholesterol', 'percent_dv': '0'}, {'amount': '55 mg', 'display_seq': 5, 'nutritional_item': 'Sodium', 'percent_dv': '.02'}, {'amount': '20 g', 'display_seq': 6, 'nutritional_item': 'Total Carbohydrate', 'percent_dv': '.07'}, {'amount': '0 g', 'display_seq': 7, 'nutritional_item': 'Dietary Fiber', 'percent_dv': '0'}, {'amount': '13 g', 'display_seq': 8, 'nutritional_item': 'Total Sugars', 'percent_dv': None}, {'amount': '12 g Added Sugars', 'display_seq': 9, 'nutritional_item': 'Includes', 'percent_dv': '.24'}, {'amount': 'less than 1g', 'display_seq': 10, 'nutritional_item': 'Protein', 'percent_dv': None}, {'amount': '0.0 mcg', 'display_seq': 11, 'nutritional_item': 'Vitamin D', 'percent_dv': '0'}, {'amount': '20 mg', 'display_seq': 12, 'nutritional_item': 'Calcium', 'percent_dv': '.02'}, {'amount': '0.5 mg', 'display_seq': 13, 'nutritional_item': 'Iron', 'percent_dv': '.02'}, {'amount': '40 mg', 'display_seq': 14, 'nutritional_item': 'Potassium', 'percent_dv': '0'}], 'display_sequence': 0, 'panel_id': 1, 'panel_title': None, 'serving_size': '4 pieces (28g)', 'servings_per_container': 'Serves about 7'}], 'ingredients': [{'display_sequence': 1, 'ingredient': 'VANILLA SANDWICH COOKIES WITH POPPING CANDY (ENRICHED WHEAT FLOUR [WHEAT FLOUR, NIACIN, REDUCED IRON, THIAMINE MONONITRATE, RIBOFLAVIN, FOLIC ACID], ICING SUGAR, CANE SUGAR, CANOLA OIL, PALM OIL, POPPING CANDY [CANE SUGAR, LACTOSE, CORN SYRUP SOLIDS, COCOA BUTTER, POWDERED SUGAR, CARBON DIOXIDE], INVERT SUGAR SYRUP, SEA SALT, NATURAL FLAVORS, BAKING SODA, SOY LECITHIN [EMULSIFIER], VANILLA BEAN SPECKS)'}, {'display_sequence': 2, 'ingredient': 'WHITE CONFECTIONERY COATING (SUGAR, PALM KERNEL OIL, NONFAT MILK POWDER, WHOLE MILK POWDER, WHEY POWDER, PALM OIL, SOY LECITHIN [EMULSIFIER], NATURAL VANILLA FLAVOR)'}, {'display_sequence': 3, 'ingredient': 'DARK CONFECTIONERY COATING (SUGAR, PALM KERNEL OIL, PALM OIL, COCOA POWDER, COCOA POWDER PROCESSED WITH ALKALI, WHEY POWDER, SOY LECITHIN [EMULSIFIER], NATURAL VANILLA FLAVOR)'}, {'display_sequence': 4, 'ingredient': 'NATURAL FLAVOR.'}], 'item_description': None, 'popularity': '422', 'price': {'regularPrice': {'amount': {'value': 3.79, 'currency': 'USD'}}}, 'country_of_manufacture': None, 'country_of_origin': 'Product of United States', 'description': {'html': ''}}, {'sku': '081051', 'name': 'SPARKLING TEA & LEMONADE', 'availability': '1', 'stock_status': 'OUT_OF_STOCK', 'only_x_left_in_stock': None, 'nutrition': [{'calories_per_serving': '80 ', 'details': [{'amount': '0 g', 'display_seq': 1, 'nutritional_item': 'Total Fat', 'percent_dv': '0'}, {'amount': '0 g', 'display_seq': 2, 'nutritional_item': 'Saturated Fat', 'percent_dv': '0'}, {'amount': '0 g', 'display_seq': 3, 'nutritional_item': 'Trans Fat', 'percent_dv': None}, {'amount': '0 mg', 'display_seq': 4, 'nutritional_item': 'Cholesterol', 'percent_dv': '0'}, {'amount': '30 mg', 'display_seq': 5, 'nutritional_item': 'Sodium', 'percent_dv': '.01'}, {'amount': '20 g', 'display_seq': 6, 'nutritional_item': 'Total Carbohydrate', 'percent_dv': '.07'}, {'amount': '0 g', 'display_seq': 7, 'nutritional_item': 'Dietary Fiber', 'percent_dv': '0'}, {'amount': '15 g', 'display_seq': 8, 'nutritional_item': 'Total Sugars', 'percent_dv': None}, {'amount': '15 g Added Sugars', 'display_seq': 9, 'nutritional_item': 'Includes', 'percent_dv': '.3'}, {'amount': '0 g', 'display_seq': 10, 'nutritional_item': 'Protein', 'percent_dv': None}, {'amount': '0.0 mcg', 'display_seq': 11, 'nutritional_item': 'Vitamin D', 'percent_dv': '0'}, {'amount': '20 mg', 'display_seq': 12, 'nutritional_item': 'Calcium', 'percent_dv': '.02'}, {'amount': '0.0 mg', 'display_seq': 13, 'nutritional_item': 'Iron', 'percent_dv': '0'}, {'amount': '80 mg', 'display_seq': 14, 'nutritional_item': 'Potassium', 'percent_dv': '.02'}], 'display_sequence': 0, 'panel_id': 1, 'panel_title': None, 'serving_size': '1 can (355mL)', 'servings_per_container': 'Serves 1'}], 'ingredients': [{'display_sequence': 1, 'ingredient': 'CARBONATED WATER (WATER, CARBON DIOXIDE)'}, {'display_sequence': 2, 'ingredient': 'ORGANIC CANE SUGAR'}, {'display_sequence': 3, 'ingredient': 'ORGANIC BLACK TEA'}, {'display_sequence': 4, 'ingredient': 'LEMON JUICE CONCENTRATE'}, {'display_sequence': 5, 'ingredient': 'NATURAL FLAVORS'}, {'display_sequence': 6, 'ingredient': 'ORGANIC LEMON PEELS'}, {'display_sequence': 7, 'ingredient': 'ORGANIC LEMON EXTRACT (WATER, ORGANIC GUM ARABIC, ORGANIC ROSEMARY EXTRACT [TO PRESERVE], ORGANIC LEMON OIL)'}, {'display_sequence': 8, 'ingredient': 'ORGANIC LEMON OIL.'}], 'item_description': None, 'popularity': '154', 'price': {'regularPrice': {'amount': {'value': 1.99, 'currency': 'USD'}}}, 'country_of_manufacture': None, 'country_of_origin': 'Product of United States', 'description': {'html': ''}}, {'sku': '079998', 'name': 'BUNS PRETZEL', 'availability': '1', 'stock_status': 'OUT_OF_STOCK', 'only_x_left_in_stock': None, 'nutrition': [{'calories_per_serving': '250 ', 'details': [{'amount': '5 g', 'display_seq': 1, 'nutritional_item': 'Total Fat', 'percent_dv': '.06'}, {'amount': '0 g', 'display_seq': 2, 'nutritional_item': 'Saturated Fat', 'percent_dv': '0'}, {'amount': '0 g', 'display_seq': 3, 'nutritional_item': 'Trans Fat', 'percent_dv': None}, {'amount': '0 mg', 'display_seq': 4, 'nutritional_item': 'Cholesterol', 'percent_dv': '0'}, {'amount': '270 mg', 'display_seq': 5, 'nutritional_item': 'Sodium', 'percent_dv': '.12'}, {'amount': '43 g', 'display_seq': 6, 'nutritional_item': 'Total Carbohydrate', 'percent_dv': '.16'}, {'amount': '0 g', 'display_seq': 7, 'nutritional_item': 'Dietary Fiber', 'percent_dv': '0'}, {'amount': '4 g', 'display_seq': 8, 'nutritional_item': 'Total Sugars', 'percent_dv': None}, {'amount': '3 g Added Sugars', 'display_seq': 9, 'nutritional_item': 'Includes', 'percent_dv': '.06'}, {'amount': '7 g', 'display_seq': 10, 'nutritional_item': 'Protein', 'percent_dv': None}, {'amount': '0.0 mcg', 'display_seq': 11, 'nutritional_item': 'Vitamin D', 'percent_dv': '0'}, {'amount': '10 mg', 'display_seq': 12, 'nutritional_item': 'Calcium', 'percent_dv': '0'}, {'amount': '2.6 mg', 'display_seq': 13, 'nutritional_item': 'Iron', 'percent_dv': '.15'}, {'amount': '70 mg', 'display_seq': 14, 'nutritional_item': 'Potassium', 'percent_dv': '.02'}], 'display_sequence': 0, 'panel_id': 1, 'panel_title': None, 'serving_size': '1 bun (90g)', 'servings_per_container': 'Serves 4'}], 'ingredients': [{'display_sequence': 1, 'ingredient': 'ENRICHED WHEAT FLOUR (WHEAT FLOUR, MALTED BARLEY FLOUR, NIACIN, REDUCED IRON, THIAMINE MONONITRATE, RIBOFLAVIN, FOLIC ACID)'}, {'display_sequence': 2, 'ingredient': 'WATER'}, {'display_sequence': 3, 'ingredient': 'VEGETABLE OIL (CANOLA OIL AND/OR SUNFLOWER OIL)'}, {'display_sequence': 4, 'ingredient': 'SUGAR'}, {'display_sequence': 5, 'ingredient': 'YEAST'}, {'display_sequence': 6, 'ingredient': 'CONTAINS 2% OR LESS OF CULTURED WHEAT FLOUR'}, {'display_sequence': 7, 'ingredient': 'SALT'}, {'display_sequence': 8, 'ingredient': 'DISTILLED WHITE VINEGAR'}, {'display_sequence': 9, 'ingredient': 'MALTED BARLEY FLOUR'}, {'display_sequence': 10, 'ingredient': 'ASCORBIC ACID (DOUGH CONDITIONER)'}, {'display_sequence': 11, 'ingredient': 'ENZYMES'}, {'display_sequence': 12, 'ingredient': 'SODIUM HYDROXIDE (PROCESSING AID).'}], 'item_description': None, 'popularity': '148', 'price': {'regularPrice': {'amount': {'value': 2.99, 'currency': 'USD'}}}, 'country_of_manufacture': None, 'country_of_origin': 'Product of United States', 'description': {'html': ''}}, {'sku': '079711', 'name': 'BUNS POTATO', 'availability': '1', 'stock_status': 'OUT_OF_STOCK', 'only_x_left_in_stock': None, 'nutrition': [{'calories_per_serving': '130 ', 'details': [{'amount': '1.5 g', 'display_seq': 1, 'nutritional_item': 'Total Fat', 'percent_dv': '.02'}, {'amount': '0 g', 'display_seq': 2, 'nutritional_item': 'Saturated Fat', 'percent_dv': '0'}, {'amount': '0 g', 'display_seq': 3, 'nutritional_item': 'Trans Fat', 'percent_dv': ''}, {'amount': '0 mg', 'display_seq': 4, 'nutritional_item': 'Cholesterol', 'percent_dv': '0'}, {'amount': '220 mg', 'display_seq': 5, 'nutritional_item': 'Sodium', 'percent_dv': '.1'}, {'amount': '26 g', 'display_seq': 6, 'nutritional_item': 'Total Carbohydrate', 'percent_dv': '.09'}, {'amount': 'less than 1g', 'display_seq': 7, 'nutritional_item': 'Dietary Fiber', 'percent_dv': '.03'}, {'amount': '4 g', 'display_seq': 8, 'nutritional_item': 'Total Sugars', 'percent_dv': ''}, {'amount': '4 g Added Sugars', 'display_seq': 9, 'nutritional_item': 'Includes', 'percent_dv': '.08'}, {'amount': '5 g', 'display_seq': 10, 'nutritional_item': 'Protein', 'percent_dv': ''}, {'amount': '0.0 mcg', 'display_seq': 11, 'nutritional_item': 'Vitamin D', 'percent_dv': '0'}, {'amount': '10 mg', 'display_seq': 12, 'nutritional_item': 'Calcium', 'percent_dv': '0'}, {'amount': '1.4 mg', 'display_seq': 13, 'nutritional_item': 'Iron', 'percent_dv': '.08'}, {'amount': '20 mg', 'display_seq': 14, 'nutritional_item': 'Potassium', 'percent_dv': '0'}], 'display_sequence': 0, 'panel_id': 1, 'panel_title': '', 'serving_size': '1 bun (53g)', 'servings_per_container': 'Serves 8'}], 'ingredients': [{'display_sequence': 1, 'ingredient': 'UNBLEACHED ENRICHED FLOUR (WHEAT FLOUR, MALTED BARLEY FLOUR, NIACIN, REDUCED IRON, THIAMINE MONONITRATE, RIBOFLAVIN, FOLIC ACID)'}, {'display_sequence': 2, 'ingredient': 'WATER'}, {'display_sequence': 3, 'ingredient': 'SUGAR'}, {'display_sequence': 4, 'ingredient': 'CORN OIL'}, {'display_sequence': 5, 'ingredient': 'POTATO FLOUR'}, {'display_sequence': 6, 'ingredient': 'YEAST'}, {'display_sequence': 7, 'ingredient': 'SALT'}, {'display_sequence': 8, 'ingredient': 'WHEAT GLUTEN'}, {'display_sequence': 9, 'ingredient': 'SOY LECITHIN (EMULSIFIER)'}, {'display_sequence': 10, 'ingredient': 'PAPRIKA (COLOR)'}, {'display_sequence': 11, 'ingredient': 'CULTURED WHEAT FLOUR (TO PRESERVE)'}, {'display_sequence': 12, 'ingredient': 'ENZYMES'}, {'display_sequence': 13, 'ingredient': 'ASCORBIC ACID (DOUGH CONDITIONER).'}], 'item_description': None, 'popularity': '130', 'price': {'regularPrice': {'amount': {'value': 3.49, 'currency': 'USD'}}}, 'country_of_manufacture': None, 'country_of_origin': 'Made in United States', 'description': {'html': ''}}, {'sku': '081725', 'name': 'TJS DIAMOND RESERVE CABERNET SAUV NAPA VALLEY LOT9', 'availability': '1', 'stock_status': 'OUT_OF_STOCK', 'only_x_left_in_stock': None, 'nutrition': None, 'ingredients': None, 'item_description': None, 'popularity': '44', 'price': {'regularPrice': {'amount': {'value': 19.99, 'currency': 'USD'}}}, 'country_of_manufacture': None, 'country_of_origin': 'U.S.A.', 'description': {'html': ''}}, {'sku': '081939', 'name': 'COPILOT PINOT NOIR CARNEROS NAPA VALLEY', 'availability': '1', 'stock_status': 'OUT_OF_STOCK', 'only_x_left_in_stock': None, 'nutrition': None, 'ingredients': None, 'item_description': None, 'popularity': '38', 'price': {'regularPrice': {'amount': {'value': 7.99, 'currency': 'USD'}}}, 'country_of_manufacture': None, 'country_of_origin': 'U.S.A.', 'description': {'html': ''}}, {'sku': '081938', 'name': 'COPILOT CHARDONNAY CARNEROS NAPA VALLEY', 'availability': '1', 'stock_status': 'OUT_OF_STOCK', 'only_x_left_in_stock': None, 'nutrition': None, 'ingredients': None, 'item_description': None, 'popularity': '36', 'price': {'regularPrice': {'amount': {'value': 7.99, 'currency': 'USD'}}}, 'country_of_manufacture': None, 'country_of_origin': 'U.S.A.', 'description': {'html': ''}}, {'sku': '074895', 'name': 'A-LEMONS SEEDLESS BAG 2LB', 'availability': '1', 'stock_status': 'OUT_OF_STOCK', 'only_x_left_in_stock': None, 'nutrition': None, 'ingredients': None, 'item_description': None, 'popularity': '66', 'price': {'regularPrice': {'amount': {'value': 2.99, 'currency': 'USD'}}}, 'country_of_manufacture': None, 'country_of_origin': None, 'description': {'html': ''}}, {'sku': '075348', 'name': 'CASTILE HAND SOAP SEA BREEZE', 'availability': '1', 'stock_status': 'OUT_OF_STOCK', 'only_x_left_in_stock': None, 'nutrition': None, 'ingredients': [{'display_sequence': 1, 'ingredient': ' WATER (AQUA), POTASSIUM OLIVATE, POTASSIUM COCOATE, SODIUM CHLORIDE, GLYCERIN, FRAGRANCE, CITRIC ACID, RISSOELLA VERRUCULOSA (RED ALGAE) EXTRACT, XANTHAN GUM.'}], 'item_description': None, 'popularity': '76', 'price': {'regularPrice': {'amount': {'value': 3.99, 'currency': 'USD'}}}, 'country_of_manufacture': None, 'country_of_origin': 'U.S.A.', 'description': {'html': ''}}, {'sku': '068492', 'name': 'SPICE TURMERIC 2OZ ORGANIC', 'availability': '1', 'stock_status': 'OUT_OF_STOCK', 'only_x_left_in_stock': None, 'nutrition': None, 'ingredients': [{'display_sequence': 1, 'ingredient': 'ORGANIC GROUND TURMERIC'}], 'item_description': None, 'popularity': '45', 'price': {'regularPrice': {'amount': {'value': 1.99, 'currency': 'USD'}}}, 'country_of_manufacture': None, 'country_of_origin': 'Packed in USA Product of India', 'description': {'html': ''}}, {'sku': '179344', 'name': 'JOSEPHSBRAU HEFEWEIZEN GRAPEFRUIT RADLER 4PK', 'availability': '1', 'stock_status': 'OUT_OF_STOCK', 'only_x_left_in_stock': None, 'nutrition': None, 'ingredients': None, 'item_description': None, 'popularity': '86', 'price': {'regularPrice': {'amount': {'value': 5.99, 'currency': 'USD'}}}, 'country_of_manufacture': None, 'country_of_origin': 'USA', 'description': {'html': ''}}, {'sku': '081937', 'name': 'TARONGINO FRIZZANTE ORANGE WINE NV', 'availability': '1', 'stock_status': 'OUT_OF_STOCK', 'only_x_left_in_stock': None, 'nutrition': None, 'ingredients': None, 'item_description': None, 'popularity': '91', 'price': {'regularPrice': {'amount': {'value': 12.99, 'currency': 'USD'}}}, 'country_of_manufacture': None, 'country_of_origin': 'Spain', 'description': {'html': ''}}, {'sku': '067705', 'name': 'POPCORN SYNERGISTICALLY SEASONED', 'availability': '1', 'stock_status': 'OUT_OF_STOCK', 'only_x_left_in_stock': None, 'nutrition': [{'calories_per_serving': '140 ', 'details': [{'amount': '9 g', 'display_seq': 1, 'nutritional_item': 'Total Fat', 'percent_dv': '.12'}, {'amount': '7 g', 'display_seq': 2, 'nutritional_item': 'Saturated Fat', 'percent_dv': '.35'}, {'amount': '0 g', 'display_seq': 3, 'nutritional_item': 'Trans Fat', 'percent_dv': ''}, {'amount': '0 mg', 'display_seq': 4, 'nutritional_item': 'Cholesterol', 'percent_dv': '0'}, {'amount': '350 mg', 'display_seq': 5, 'nutritional_item': 'Sodium', 'percent_dv': '.15'}, {'amount': '15 g', 'display_seq': 6, 'nutritional_item': 'Total Carbohydrate', 'percent_dv': '.05'}, {'amount': '2 g', 'display_seq': 7, 'nutritional_item': 'Dietary Fiber', 'percent_dv': '.07'}, {'amount': '2 g', 'display_seq': 8, 'nutritional_item': 'Total Sugars', 'percent_dv': ''}, {'amount': '2 g Added Sugars', 'display_seq': 9, 'nutritional_item': 'Includes', 'percent_dv': '.04'}, {'amount': '2 g', 'display_seq': 10, 'nutritional_item': 'Protein', 'percent_dv': ''}, {'amount': '0.0 mcg', 'display_seq': 11, 'nutritional_item': 'Vitamin D', 'percent_dv': '0'}, {'amount': '10 mg', 'display_seq': 12, 'nutritional_item': 'Calcium', 'percent_dv': '0'}, {'amount': '0.5 mg', 'display_seq': 13, 'nutritional_item': 'Iron', 'percent_dv': '.02'}, {'amount': '60 mg', 'display_seq': 14, 'nutritional_item': 'Potassium', 'percent_dv': '.02'}], 'display_sequence': 0, 'panel_id': 1, 'panel_title': '', 'serving_size': '2 cups (30g)', 'servings_per_container': 'Serves about 6'}], 'ingredients': [{'display_sequence': 1, 'ingredient': 'POPCORN'}, {'display_sequence': 2, 'ingredient': 'COCONUT OIL'}, {'display_sequence': 3, 'ingredient': 'CANE SUGAR'}, {'display_sequence': 4, 'ingredient': 'VINEGAR POWDER (MALTODEXTERIN, DISTILLED VINEGAR)'}, {'display_sequence': 5, 'ingredient': 'SEA SALT'}, {'display_sequence': 6, 'ingredient': 'CONTAINS 2% OF LESS OF YEAST EXTRACT'}, {'display_sequence': 7, 'ingredient': 'CAYENNE PEPPER'}, {'display_sequence': 8, 'ingredient': 'GARLIC POWDER'}, {'display_sequence': 9, 'ingredient': 'CITRIC ACID (ACIDULANT)'}, {'display_sequence': 10, 'ingredient': 'COLOR ADDED (PAPRIKA OLEORESIN, TURMERIC OLEORESIN, BETA-CAROTENE)'}, {'display_sequence': 11, 'ingredient': 'NATURAL SMOKE FLAVOR'}, {'display_sequence': 12, 'ingredient': 'ROSEMARY EXTRACT (TO PRESERVE).'}], 'item_description': None, 'popularity': '151', 'price': {'regularPrice': {'amount': {'value': 2.49, 'currency': 'USD'}}}, 'country_of_manufacture': None, 'country_of_origin': 'Product of United States', 'description': {'html': ''}}, {'sku': '061301', 'name': 'SIDE LEMON BASIL PASTA SALAD', 'availability': '1', 'stock_status': 'OUT_OF_STOCK', 'only_x_left_in_stock': None, 'nutrition': [{'calories_per_serving': '220', 'details': [{'amount': '9 g', 'display_seq': 1, 'nutritional_item': 'Total Fat', 'percent_dv': '.12'}, {'amount': '2.0 g', 'display_seq': 2, 'nutritional_item': 'Saturated Fat', 'percent_dv': '.1'}, {'amount': '0 g', 'display_seq': 3, 'nutritional_item': 'Trans Fat', 'percent_dv': ''}, {'amount': '5 mg', 'display_seq': 4, 'nutritional_item': 'Cholesterol', 'percent_dv': '.02'}, {'amount': '240 mg', 'display_seq': 5, 'nutritional_item': 'Sodium', 'percent_dv': '.1'}, {'amount': '26 g', 'display_seq': 6, 'nutritional_item': 'Total Carbohydrate', 'percent_dv': '.09'}, {'amount': '3 g', 'display_seq': 7, 'nutritional_item': 'Dietary Fiber', 'percent_dv': '.11'}, {'amount': '3 g', 'display_seq': 8, 'nutritional_item': 'Total Sugars', 'percent_dv': ''}, {'amount': 'Less than 1g Added Sugars', 'display_seq': 9, 'nutritional_item': 'Includes', 'percent_dv': '.02'}, {'amount': '7 g', 'display_seq': 10, 'nutritional_item': 'Protein', 'percent_dv': ''}, {'amount': '', 'display_seq': 11, 'nutritional_item': 'Vitamin D', 'percent_dv': '.02'}, {'amount': '', 'display_seq': 12, 'nutritional_item': 'Calcium', 'percent_dv': '.06'}, {'amount': '', 'display_seq': 13, 'nutritional_item': 'Iron', 'percent_dv': '.08'}, {'amount': '', 'display_seq': 14, 'nutritional_item': 'Potassium', 'percent_dv': '.04'}], 'display_sequence': 0, 'panel_id': 1, 'panel_title': 'Per serving', 'serving_size': '1 1/4 cup (140g)', 'servings_per_container': 'Serves about 2.5'}], 'ingredients': [{'display_sequence': 1, 'ingredient': 'LEMON BASIL PASTA BLEND (COOKED FARFALLE PASTA [WATER, ENRICHED FARFALLE PASTA {DURUM WHEAT SEMOLINA, NIACIN, FERROUS SULFATE, THIAMINE MONONITRATE, RIBOFLAVIN, FOLIC ACID}, OIL BLEND {CANOLA OIL, EXTRA VIRGIN OLIVE OIL}]'}, {'display_sequence': 2, 'ingredient': 'BLANCHED GREEN PEAS'}, {'display_sequence': 3, 'ingredient': 'ZUCCHINI'}, {'display_sequence': 4, 'ingredient': 'BASIL LEMON VINAIGRETTE [SOYBEAN AND/OR CANOLA OIL, WATER, WHITE BALSAMIC VINEGAR {WHITE WINE VINEGAR, CONCENTRATED GRAPE MUST}, BASIL, OLIVE OIL, HONEY, GARLIC, SHALLOTS, CONTAINS 2% OR LESS OF DĲON MUSTARD {APPLE CIDER VINEGAR, WATER, MUSTARD SEED, SALT, SPICES}, LEMON JUICE CONCENTRATE, SALT, NATURAL FLAVORS, ORANGE JUICE CONCENTRATE, SUGAR, SPICES, XANTHAN GUM, EXTRACTIVES OF BASIL, FRUIT AND VEGETABLE JUICE {COLOR}, LEMON OIL]'}, {'display_sequence': 5, 'ingredient': 'SEA SALT'}, {'display_sequence': 6, 'ingredient': 'BLACK PEPPER)'}, {'display_sequence': 7, 'ingredient': 'SPINACH'}, {'display_sequence': 8, 'ingredient': 'SHREDDED ASIAGO CHEESE (ASIAGO CHEESE [PASTEURIZED MILK, CHEESE CULTURES, SALT, MICROBIAL ENZYMES], POWDERED CELLULOSE [ANTI-CAKING])'}, {'display_sequence': 9, 'ingredient': 'LEMON.'}], 'item_description': None, 'popularity': '239', 'price': {'regularPrice': {'amount': {'value': 4.99, 'currency': 'USD'}}}, 'country_of_manufacture': None, 'country_of_origin': 'Packed in USA', 'description': {'html': ''}}, {'sku': '051403', 'name': 'SOLID LIGHT TUNA IN OLIVE OIL', 'availability': '1', 'stock_status': 'OUT_OF_STOCK', 'only_x_left_in_stock': None, 'nutrition': [{'calories_per_serving': '260 ', 'details': [{'amount': '17 g', 'display_seq': 1, 'nutritional_item': 'Total Fat', 'percent_dv': '.22'}, {'amount': '3.0 g', 'display_seq': 2, 'nutritional_item': 'Saturated Fat', 'percent_dv': '.15'}, {'amount': '0 g', 'display_seq': 3, 'nutritional_item': 'Trans Fat', 'percent_dv': ''}, {'amount': '50 mg', 'display_seq': 6, 'nutritional_item': 'Cholesterol', 'percent_dv': '.17'}, {'amount': '400 mg', 'display_seq': 7, 'nutritional_item': 'Sodium', 'percent_dv': '.17'}, {'amount': '0 g', 'display_seq': 8, 'nutritional_item': 'Total Carbohydrate', 'percent_dv': '0'}, {'amount': '0 g', 'display_seq': 9, 'nutritional_item': 'Dietary Fiber', 'percent_dv': '0'}, {'amount': '0 g', 'display_seq': 10, 'nutritional_item': 'Total Sugars', 'percent_dv': ''}, {'amount': '0 g Added Sugars', 'display_seq': 11, 'nutritional_item': 'Includes', 'percent_dv': '0'}, {'amount': '26 g', 'display_seq': 12, 'nutritional_item': 'Protein', 'percent_dv': ''}, {'amount': '', 'display_seq': 13, 'nutritional_item': 'Vitamin D', 'percent_dv': '.06'}, {'amount': '', 'display_seq': 14, 'nutritional_item': 'Calcium', 'percent_dv': '0'}, {'amount': '', 'display_seq': 15, 'nutritional_item': 'Iron', 'percent_dv': '.04'}, {'amount': '', 'display_seq': 16, 'nutritional_item': 'Potassium', 'percent_dv': '.06'}], 'display_sequence': 0, 'panel_id': 1, 'panel_title': '', 'serving_size': '1 can drained (113g)', 'servings_per_container': 'Serves 1'}], 'ingredients': [{'display_sequence': 1, 'ingredient': 'SOLID LIGHT TUNA'}, {'display_sequence': 2, 'ingredient': 'OLIVE OIL'}, {'display_sequence': 3, 'ingredient': 'SALT'}], 'item_description': None, 'popularity': '60', 'price': {'regularPrice': {'amount': {'value': 2.49, 'currency': 'USD'}}}, 'country_of_manufacture': None, 'country_of_origin': None, 'description': {'html': ''}}, {'sku': '074667', 'name': 'TUNA SOLID LIGHT YELLOWFIN IN OLIVE OIL', 'availability': '1', 'stock_status': 'OUT_OF_STOCK', 'only_x_left_in_stock': None, 'nutrition': [{'calories_per_serving': '260 ', 'details': [{'amount': '17 g', 'display_seq': 1, 'nutritional_item': 'Total Fat', 'percent_dv': '.22'}, {'amount': '3.0 g', 'display_seq': 2, 'nutritional_item': 'Saturated Fat', 'percent_dv': '.15'}, {'amount': '0 g', 'display_seq': 3, 'nutritional_item': 'Trans Fat', 'percent_dv': ''}, {'amount': '55 mg', 'display_seq': 4, 'nutritional_item': 'Cholesterol', 'percent_dv': '.18'}, {'amount': '400 mg', 'display_seq': 5, 'nutritional_item': 'Sodium', 'percent_dv': '.17'}, {'amount': '0 g', 'display_seq': 6, 'nutritional_item': 'Total Carbohydrate', 'percent_dv': '0'}, {'amount': '0 g', 'display_seq': 7, 'nutritional_item': 'Dietary Fiber', 'percent_dv': '0'}, {'amount': '0 g', 'display_seq': 8, 'nutritional_item': 'Total Sugars', 'percent_dv': ''}, {'amount': '0 g Added Sugars', 'display_seq': 9, 'nutritional_item': 'Includes', 'percent_dv': '0'}, {'amount': '26 g', 'display_seq': 10, 'nutritional_item': 'Protein', 'percent_dv': ''}, {'amount': '1.3 mcg', 'display_seq': 11, 'nutritional_item': 'Vitamin D', 'percent_dv': '.06'}, {'amount': '10 mg', 'display_seq': 12, 'nutritional_item': 'Calcium', 'percent_dv': '0'}, {'amount': '0.9 mg', 'display_seq': 13, 'nutritional_item': 'Iron', 'percent_dv': '.06'}, {'amount': '360 mg', 'display_seq': 14, 'nutritional_item': 'Potassium', 'percent_dv': '.08'}], 'display_sequence': 0, 'panel_id': 1, 'panel_title': '', 'serving_size': '1 can, drained (113g)', 'servings_per_container': 'Serves 1'}], 'ingredients': [{'display_sequence': 1, 'ingredient': 'SOLID LIGHT TUNA'}, {'display_sequence': 2, 'ingredient': 'EXTRA VIRGIN OLIVE OIL'}, {'display_sequence': 3, 'ingredient': 'SEA SALT'}], 'item_description': None, 'popularity': '31', 'price': {'regularPrice': {'amount': {'value': 2.49, 'currency': 'USD'}}}, 'country_of_manufacture': None, 'country_of_origin': 'Packed in United States', 'description': {'html': ''}}, {'sku': '074954', 'name': 'PASTA TORCHIETTI LEMON ORGANIC', 'availability': '1', 'stock_status': 'OUT_OF_STOCK', 'only_x_left_in_stock': None, 'nutrition': [{'calories_per_serving': '200 ', 'details': [{'amount': '1.0 g', 'display_seq': 1, 'nutritional_item': 'Total Fat', 'percent_dv': '.01'}, {'amount': '0 g', 'display_seq': 2, 'nutritional_item': 'Saturated Fat', 'percent_dv': '0'}, {'amount': '0 g', 'display_seq': 3, 'nutritional_item': 'Trans Fat', 'percent_dv': ''}, {'amount': '0 mg', 'display_seq': 4, 'nutritional_item': 'Cholesterol', 'percent_dv': '0'}, {'amount': '0 mg', 'display_seq': 5, 'nutritional_item': 'Sodium', 'percent_dv': '0'}, {'amount': '40 g', 'display_seq': 6, 'nutritional_item': 'Total Carbohydrate', 'percent_dv': '.15'}, {'amount': '1 g', 'display_seq': 7, 'nutritional_item': 'Dietary Fiber', 'percent_dv': '.04'}, {'amount': '1 g', 'display_seq': 8, 'nutritional_item': 'Total Sugars', 'percent_dv': ''}, {'amount': '0 g Added Sugars', 'display_seq': 9, 'nutritional_item': 'Includes', 'percent_dv': '0'}, {'amount': '7 g', 'display_seq': 10, 'nutritional_item': 'Protein', 'percent_dv': ''}, {'amount': '0.0 mcg', 'display_seq': 11, 'nutritional_item': 'Vitamin D', 'percent_dv': '0'}, {'amount': '100 mg', 'display_seq': 12, 'nutritional_item': 'Calcium', 'percent_dv': '.08'}, {'amount': '0.6 mg', 'display_seq': 13, 'nutritional_item': 'Iron', 'percent_dv': '.04'}, {'amount': '180 mg', 'display_seq': 14, 'nutritional_item': 'Potassium', 'percent_dv': '.04'}], 'display_sequence': 0, 'panel_id': 1, 'panel_title': '', 'serving_size': '2 oz (56g/ 1/8 package) dry', 'servings_per_container': 'Serves 8'}], 'ingredients': [{'display_sequence': 1, 'ingredient': 'ORGANIC DURUM WHEAT SEMOLINA'}, {'display_sequence': 2, 'ingredient': 'WATER'}, {'display_sequence': 3, 'ingredient': 'ORGANIC LEMON OIL'}, {'display_sequence': 4, 'ingredient': 'ORGANIC TURMERIC (COLOR)'}], 'item_description': None, 'popularity': '142', 'price': {'regularPrice': {'amount': {'value': 2.99, 'currency': 'USD'}}}, 'country_of_manufacture': None, 'country_of_origin': 'Product of Italy', 'description': {'html': ''}}, {'sku': '079429', 'name': 'RICE CRACKERS SWEET & SPICY MIX', 'availability': '1', 'stock_status': 'OUT_OF_STOCK', 'only_x_left_in_stock': None, 'nutrition': [{'calories_per_serving': '110 ', 'details': [{'amount': '0 g', 'display_seq': 1, 'nutritional_item': 'Total Fat', 'percent_dv': '0'}, {'amount': '0 g', 'display_seq': 2, 'nutritional_item': 'Saturated Fat', 'percent_dv': '0'}, {'amount': '0 g', 'display_seq': 3, 'nutritional_item': 'Trans Fat', 'percent_dv': None}, {'amount': '0 mg', 'display_seq': 4, 'nutritional_item': 'Cholesterol', 'percent_dv': '0'}, {'amount': '210 mg', 'display_seq': 5, 'nutritional_item': 'Sodium', 'percent_dv': '.09'}, {'amount': '26 g', 'display_seq': 6, 'nutritional_item': 'Total Carbohydrate', 'percent_dv': '.09'}, {'amount': '0 g', 'display_seq': 7, 'nutritional_item': 'Dietary Fiber', 'percent_dv': '0'}, {'amount': '5 g', 'display_seq': 8, 'nutritional_item': 'Total Sugars', 'percent_dv': None}, {'amount': '5 g Added Sugars', 'display_seq': 9, 'nutritional_item': 'Includes', 'percent_dv': '.1'}, {'amount': '2 g', 'display_seq': 10, 'nutritional_item': 'Protein', 'percent_dv': None}, {'amount': '0.0 mcg', 'display_seq': 11, 'nutritional_item': 'Vitamin D', 'percent_dv': '0'}, {'amount': '0 mg', 'display_seq': 12, 'nutritional_item': 'Calcium', 'percent_dv': '0'}, {'amount': '0.0 mg', 'display_seq': 13, 'nutritional_item': 'Iron', 'percent_dv': '0'}, {'amount': '20 mg', 'display_seq': 14, 'nutritional_item': 'Potassium', 'percent_dv': '0'}], 'display_sequence': 0, 'panel_id': 1, 'panel_title': None, 'serving_size': '3/4 cup (30g)', 'servings_per_container': 'Serves about 8'}], 'ingredients': [{'display_sequence': 1, 'ingredient': 'RICE'}, {'display_sequence': 2, 'ingredient': 'SUGAR'}, {'display_sequence': 3, 'ingredient': 'SOY SAUCE (WATER, SOYBEANS, RICE, SALT)'}, {'display_sequence': 4, 'ingredient': 'MALTODEXTRIN'}, {'display_sequence': 5, 'ingredient': 'HONEY'}, {'display_sequence': 6, 'ingredient': 'NATURAL FLAVOR'}, {'display_sequence': 7, 'ingredient': 'SALT'}, {'display_sequence': 8, 'ingredient': 'TAPIOCA STARCH'}, {'display_sequence': 9, 'ingredient': 'CHILI POWDER'}, {'display_sequence': 10, 'ingredient': 'YEAST EXTRACT'}, {'display_sequence': 11, 'ingredient': 'PAPRIKA OLEORESIN (COLOR)'}, {'display_sequence': 12, 'ingredient': 'ONION POWDER.'}], 'item_description': None, 'popularity': '160', 'price': {'regularPrice': {'amount': {'value': 2.49, 'currency': 'USD'}}}, 'country_of_manufacture': None, 'country_of_origin': 'Product of Thailand', 'description': {'html': ''}}, {'sku': '080525', 'name': 'MILTON CREAMERY MORNING HARVEST', 'availability': '1', 'stock_status': 'OUT_OF_STOCK', 'only_x_left_in_stock': None, 'nutrition': None, 'ingredients': [{'display_sequence': 1, 'ingredient': '*Product details/images for convenience only. Please review packaging in-store for current details.'}], 'item_description': None, 'popularity': '26', 'price': {'regularPrice': {'amount': {'value': 4.99, 'currency': 'USD'}}}, 'country_of_manufacture': None, 'country_of_origin': 'Iowa, U.S.A.', 'description': {'html': ''}}, {'sku': '081482', 'name': 'TEENY TINY STRAWBERRY RHUBARB PIES', 'availability': '1', 'stock_status': 'OUT_OF_STOCK', 'only_x_left_in_stock': None, 'nutrition': [{'calories_per_serving': '400 ', 'details': [{'amount': '20 g', 'display_seq': 1, 'nutritional_item': 'Total Fat', 'percent_dv': '.26'}, {'amount': '10 g', 'display_seq': 2, 'nutritional_item': 'Saturated Fat', 'percent_dv': '.5'}, {'amount': '0 g', 'display_seq': 3, 'nutritional_item': 'Trans Fat', 'percent_dv': None}, {'amount': '20 mg', 'display_seq': 4, 'nutritional_item': 'Cholesterol', 'percent_dv': '.07'}, {'amount': '350 mg', 'display_seq': 5, 'nutritional_item': 'Sodium', 'percent_dv': '.15'}, {'amount': '52 g', 'display_seq': 6, 'nutritional_item': 'Total Carbohydrate', 'percent_dv': '.19'}, {'amount': '2 g', 'display_seq': 7, 'nutritional_item': 'Dietary Fiber', 'percent_dv': '.07'}, {'amount': '19 g', 'display_seq': 8, 'nutritional_item': 'Total Sugars', 'percent_dv': None}, {'amount': '16 g Added Sugars', 'display_seq': 9, 'nutritional_item': 'Includes', 'percent_dv': '.32'}, {'amount': '5 g', 'display_seq': 10, 'nutritional_item': 'Protein', 'percent_dv': None}, {'amount': '0.0 mcg', 'display_seq': 11, 'nutritional_item': 'Vitamin D', 'percent_dv': '0'}, {'amount': '50 mg', 'display_seq': 12, 'nutritional_item': 'Calcium', 'percent_dv': '.04'}, {'amount': '2.0 mg', 'display_seq': 13, 'nutritional_item': 'Iron', 'percent_dv': '.1'}, {'amount': '110 mg', 'display_seq': 14, 'nutritional_item': 'Potassium', 'percent_dv': '.02'}], 'display_sequence': 0, 'panel_id': 1, 'panel_title': 'Per serving', 'serving_size': '2 pieces (130g)', 'servings_per_container': 'Serves 2'}, {'calories_per_serving': '800 ', 'details': [{'amount': '39 g', 'display_seq': 1, 'nutritional_item': 'Total Fat', 'percent_dv': '.5'}, {'amount': '19 g', 'display_seq': 2, 'nutritional_item': 'Saturated Fat', 'percent_dv': '.95'}, {'amount': '0 g', 'display_seq': 3, 'nutritional_item': 'Trans Fat', 'percent_dv': None}, {'amount': '35 mg', 'display_seq': 4, 'nutritional_item': 'Cholesterol', 'percent_dv': '.12'}, {'amount': '700 mg', 'display_seq': 5, 'nutritional_item': 'Sodium', 'percent_dv': '.3'}, {'amount': '103 g', 'display_seq': 6, 'nutritional_item': 'Total Carbohydrate', 'percent_dv': '.37'}, {'amount': '4 g', 'display_seq': 7, 'nutritional_item': 'Dietary Fiber', 'percent_dv': '.14'}, {'amount': '38 g', 'display_seq': 8, 'nutritional_item': 'Total Sugars', 'percent_dv': None}, {'amount': '31 g Added Sugars', 'display_seq': 9, 'nutritional_item': 'Includes', 'percent_dv': '.62'}, {'amount': '10 g', 'display_seq': 10, 'nutritional_item': 'Protein', 'percent_dv': None}, {'amount': '0.1 mcg', 'display_seq': 11, 'nutritional_item': 'Vitamin D', 'percent_dv': '0'}, {'amount': '100 mg', 'display_seq': 12, 'nutritional_item': 'Calcium', 'percent_dv': '.08'}, {'amount': '3.9 mg', 'display_seq': 13, 'nutritional_item': 'Iron', 'percent_dv': '.2'}, {'amount': '220 mg', 'display_seq': 14, 'nutritional_item': 'Potassium', 'percent_dv': '.04'}], 'display_sequence': 1, 'panel_id': 2, 'panel_title': 'Per container', 'serving_size': '2 pieces (130g)', 'servings_per_container': 'Serves 2'}], 'ingredients': [{'display_sequence': 1, 'ingredient': 'UNBLEACHED ENRICHED FLOUR (WHEAT FLOUR, NIACIN, REDUCED IRON, THIAMINE MONONITRATE, RIBOFLAVIN, FOLIC ACID)'}, {'display_sequence': 2, 'ingredient': 'STRAWBERRIES'}, {'display_sequence': 3, 'ingredient': 'PALM OIL SHORTENING'}, {'display_sequence': 4, 'ingredient': 'RHUBARB'}, {'display_sequence': 5, 'ingredient': 'SUGAR'}, {'display_sequence': 6, 'ingredient': 'WATER'}, {'display_sequence': 7, 'ingredient': 'EGGS'}, {'display_sequence': 8, 'ingredient': 'MODIFIED TAPIOCA STARCH'}, {'display_sequence': 9, 'ingredient': 'MODIFIED CORN STARCH'}, {'display_sequence': 10, 'ingredient': 'CONCENTRATED LEMON JUICE'}, {'display_sequence': 11, 'ingredient': 'SALT'}, {'display_sequence': 12, 'ingredient': 'DEXTROSE'}, {'display_sequence': 13, 'ingredient': 'DISTILLED WHITE VINEGAR'}, {'display_sequence': 14, 'ingredient': 'CULTURED WHEAT STARCH (TO PRESERVE)'}, {'display_sequence': 15, 'ingredient': 'SUGARED ORANGE (ORANGE PEEL ZEST, CANE SUGAR, ORANGE OIL ESSENCE)'}, {'display_sequence': 16, 'ingredient': 'NATURAL FLAVOR'}, {'display_sequence': 17, 'ingredient': 'YEAST'}, {'display_sequence': 18, 'ingredient': 'FRUIT AND VEGETABLE JUICE (COLOR)'}, {'display_sequence': 19, 'ingredient': 'ENZYMES.'}], 'item_description': None, 'popularity': '48', 'price': {'regularPrice': {'amount': {'value': 5.49, 'currency': 'USD'}}}, 'country_of_manufacture': None, 'country_of_origin': 'Product of Canada', 'description': {'html': ''}}, {'sku': '006237', 'name': 'TOFU ORGANIC 19 OZ', 'availability': '1', 'stock_status': 'OUT_OF_STOCK', 'only_x_left_in_stock': None, 'nutrition': [{'calories_per_serving': '60 ', 'details': [{'amount': '3 g', 'display_seq': 1, 'nutritional_item': 'Total Fat', 'percent_dv': '.04'}, {'amount': '0 g', 'display_seq': 2, 'nutritional_item': 'Saturated Fat', 'percent_dv': '0'}, {'amount': '0 g', 'display_seq': 3, 'nutritional_item': 'Trans Fat', 'percent_dv': ''}, {'amount': '0 mg', 'display_seq': 4, 'nutritional_item': 'Cholesterol', 'percent_dv': '0'}, {'amount': '10 mg', 'display_seq': 5, 'nutritional_item': 'Sodium', 'percent_dv': '0'}, {'amount': '2 g', 'display_seq': 6, 'nutritional_item': 'Total Carbohydrate', 'percent_dv': '.01'}, {'amount': '1 g', 'display_seq': 7, 'nutritional_item': 'Dietary Fiber', 'percent_dv': '.04'}, {'amount': '0 g', 'display_seq': 8, 'nutritional_item': 'Total Sugars', 'percent_dv': ''}, {'amount': '0 g Added Sugars', 'display_seq': 9, 'nutritional_item': 'Includes', 'percent_dv': '0'}, {'amount': '6 g', 'display_seq': 10, 'nutritional_item': 'Protein', 'percent_dv': ''}, {'amount': '0.0 mcg', 'display_seq': 11, 'nutritional_item': 'Vitamin D', 'percent_dv': '0'}, {'amount': '100 mg', 'display_seq': 12, 'nutritional_item': 'Calcium', 'percent_dv': '.08'}, {'amount': '1.0 mg', 'display_seq': 13, 'nutritional_item': 'Iron', 'percent_dv': '.06'}, {'amount': '150 mg', 'display_seq': 14, 'nutritional_item': 'Potassium', 'percent_dv': '.04'}], 'display_sequence': 0, 'panel_id': 1, 'panel_title': '', 'serving_size': '3 oz (84g/about 1/6 pkg)', 'servings_per_container': 'Serves about 6'}], 'ingredients': [{'display_sequence': 1, 'ingredient': 'WATER'}, {'display_sequence': 2, 'ingredient': 'ORGANIC SOYBEANS'}, {'display_sequence': 3, 'ingredient': 'CALCIUM SULFATE'}], 'item_description': None, 'popularity': '75', 'price': {'regularPrice': {'amount': {'value': 2.49, 'currency': 'USD'}}}, 'country_of_manufacture': None, 'country_of_origin': 'Made in United States', 'description': {'html': ''}}, {'sku': '062988', 'name': 'TORTILLAS MINI FLOUR ORGANIC', 'availability': '1', 'stock_status': 'OUT_OF_STOCK', 'only_x_left_in_stock': None, 'nutrition': [{'calories_per_serving': '120 ', 'details': [{'amount': '3.0 g', 'display_seq': 1, 'nutritional_item': 'Total Fat', 'percent_dv': '.04'}, {'amount': '1.0 g', 'display_seq': 2, 'nutritional_item': 'Saturated Fat', 'percent_dv': '.05'}, {'amount': '0 g', 'display_seq': 3, 'nutritional_item': 'Trans Fat', 'percent_dv': ''}, {'amount': '0 mg', 'display_seq': 4, 'nutritional_item': 'Cholesterol', 'percent_dv': '0'}, {'amount': '220 mg', 'display_seq': 5, 'nutritional_item': 'Sodium', 'percent_dv': '.1'}, {'amount': '21 g', 'display_seq': 6, 'nutritional_item': 'Total Carbohydrate', 'percent_dv': '.08'}, {'amount': 'less than 1 g', 'display_seq': 7, 'nutritional_item': 'Dietary Fiber', 'percent_dv': '.03'}, {'amount': '0 g', 'display_seq': 8, 'nutritional_item': 'Total Sugars', 'percent_dv': ''}, {'amount': '0 g Added Sugars', 'display_seq': 9, 'nutritional_item': 'Includes', 'percent_dv': '0'}, {'amount': '3 g', 'display_seq': 10, 'nutritional_item': 'Protein', 'percent_dv': ''}, {'amount': '0.0 mcg', 'display_seq': 11, 'nutritional_item': 'Vitamin D', 'percent_dv': '0'}, {'amount': '60 mg', 'display_seq': 12, 'nutritional_item': 'Calcium', 'percent_dv': '.04'}, {'amount': '0.3 mg', 'display_seq': 13, 'nutritional_item': 'Iron', 'percent_dv': '.02'}, {'amount': '30 mg', 'display_seq': 14, 'nutritional_item': 'Potassium', 'percent_dv': '0'}], 'display_sequence': 0, 'panel_id': 1, 'panel_title': '', 'serving_size': '2 tortillas (40g)', 'servings_per_container': 'Serves 6'}], 'ingredients': [{'display_sequence': 1, 'ingredient': 'ORGANIC WHEAT FLOUR'}, {'display_sequence': 2, 'ingredient': 'WATER'}, {'display_sequence': 3, 'ingredient': 'ORGANIC SUNFLOWER OIL'}, {'display_sequence': 4, 'ingredient': 'ORGANIC PALM OIL'}, {'display_sequence': 5, 'ingredient': 'ORGANIC CULTURED WHEAT FLOUR (TO PRESERVE)'}, {'display_sequence': 6, 'ingredient': 'CONTAINS 2% OR LESS OF CITRIC ACID (ACIDIFIER)'}, {'display_sequence': 7, 'ingredient': 'ORGANIC RICE FLOUR'}, {'display_sequence': 8, 'ingredient': 'MICROBIAL ENZYME'}, {'display_sequence': 9, 'ingredient': 'SALT'}, {'display_sequence': 10, 'ingredient': 'ORGANIC SUGAR'}, {'display_sequence': 11, 'ingredient': 'SODIUM BICARBONATE'}, {'display_sequence': 12, 'ingredient': 'ORGANIC SUNFLOWER LECITHIN'}, {'display_sequence': 13, 'ingredient': 'XANTHAN GUM'}, {'display_sequence': 14, 'ingredient': 'SODIUM ACID PYROPHOSPHATE'}, {'display_sequence': 15, 'ingredient': 'ORGANIC GUAR GUM'}, {'display_sequence': 16, 'ingredient': 'MONOCALCIUM PHOSPHATE.'}], 'item_description': None, 'popularity': '137', 'price': {'regularPrice': {'amount': {'value': 2.49, 'currency': 'USD'}}}, 'country_of_manufacture': None, 'country_of_origin': 'Made in USA', 'description': {'html': ''}}, {'sku': '093474', 'name': 'A-AVOCADO HASS LARGE EACH', 'availability': '1', 'stock_status': 'OUT_OF_STOCK', 'only_x_left_in_stock': None, 'nutrition': None, 'ingredients': None, 'item_description': None, 'popularity': '50', 'price': {'regularPrice': {'amount': {'value': 1.49, 'currency': 'USD'}}}, 'country_of_manufacture': None, 'country_of_origin': 'California, Mexico or Peru \\n', 'description': {'html': ''}}, {'sku': '080927', 'name': 'POPCORN BUFFALO RANCH', 'availability': '1', 'stock_status': 'OUT_OF_STOCK', 'only_x_left_in_stock': None, 'nutrition': [{'calories_per_serving': '180 ', 'details': [{'amount': '14 g', 'display_seq': 1, 'nutritional_item': 'Total Fat', 'percent_dv': '.18'}, {'amount': '7 g', 'display_seq': 2, 'nutritional_item': 'Saturated Fat', 'percent_dv': '.35'}, {'amount': '0 g', 'display_seq': 3, 'nutritional_item': 'Trans Fat', 'percent_dv': None}, {'amount': '0 mg', 'display_seq': 4, 'nutritional_item': 'Cholesterol', 'percent_dv': '0'}, {'amount': '420 mg', 'display_seq': 5, 'nutritional_item': 'Sodium', 'percent_dv': '.18'}, {'amount': '12 g', 'display_seq': 6, 'nutritional_item': 'Total Carbohydrate', 'percent_dv': '.04'}, {'amount': '2 g', 'display_seq': 7, 'nutritional_item': 'Dietary Fiber', 'percent_dv': '.07'}, {'amount': '1 g', 'display_seq': 8, 'nutritional_item': 'Total Sugars', 'percent_dv': None}, {'amount': '0 g Added Sugars', 'display_seq': 9, 'nutritional_item': 'Includes', 'percent_dv': '0'}, {'amount': '2 g', 'display_seq': 10, 'nutritional_item': 'Protein', 'percent_dv': None}, {'amount': '0.0 mcg', 'display_seq': 11, 'nutritional_item': 'Vitamin D', 'percent_dv': '0'}, {'amount': '20 mg', 'display_seq': 12, 'nutritional_item': 'Calcium', 'percent_dv': '.02'}, {'amount': '0.4 mg', 'display_seq': 13, 'nutritional_item': 'Iron', 'percent_dv': '.02'}, {'amount': '80 mg', 'display_seq': 14, 'nutritional_item': 'Potassium', 'percent_dv': '.02'}], 'display_sequence': 0, 'panel_id': 1, 'panel_title': None, 'serving_size': '2 cups (30g)', 'servings_per_container': 'Serves about 5'}], 'ingredients': [{'display_sequence': 1, 'ingredient': 'POPCORN'}, {'display_sequence': 2, 'ingredient': 'COCONUT OIL'}, {'display_sequence': 3, 'ingredient': 'SUNFLOWER OIL'}, {'display_sequence': 4, 'ingredient': 'BUFFALO STYLE RANCH SEASONING (WHEY POWDER, MALTODEXTRIN, SALT, HOT SAUCE [CAYENNE PEPPER, VINEGAR POWDER, SALT, GARLIC], BUTTERMILK POWDER, ONION POWDER, YEAST EXTRACT, SPICE, SUGAR, CITRIC ACID [ACIDULANT], VINEGAR POWDER, NATURAL FLAVOR, SILICON DIOXIDE [ANTI-CAKING], GARLIC POWDER, PAPRIKA [SPICE AND COLOR], TRICALCIUM PHOSPHATE)'}, {'display_sequence': 5, 'ingredient': 'SUNFLOWER LECITHIN (EMULSIFIER)'}], 'item_description': None, 'popularity': '57', 'price': {'regularPrice': {'amount': {'value': 2.99, 'currency': 'USD'}}}, 'country_of_manufacture': None, 'country_of_origin': 'Product of United States', 'description': {'html': ''}}, {'sku': '080307', 'name': 'BEEF PREM CHOICE BONE IN RIBEYE (7/PK)', 'availability': '1', 'stock_status': 'OUT_OF_STOCK', 'only_x_left_in_stock': None, 'nutrition': [{'calories_per_serving': '290 ', 'details': [{'amount': '24 g', 'display_seq': 1, 'nutritional_item': 'Total Fat', 'percent_dv': '.31'}, {'amount': '10 g', 'display_seq': 2, 'nutritional_item': 'Saturated Fat', 'percent_dv': '.5'}, {'amount': '1.5 g', 'display_seq': 3, 'nutritional_item': 'Trans Fat', 'percent_dv': ''}, {'amount': '80 mg', 'display_seq': 4, 'nutritional_item': 'Cholesterol', 'percent_dv': '.27'}, {'amount': '65 mg', 'display_seq': 5, 'nutritional_item': 'Sodium', 'percent_dv': '.03'}, {'amount': '0 g', 'display_seq': 6, 'nutritional_item': 'Total Carbohydrate', 'percent_dv': '0'}, {'amount': '0 g', 'display_seq': 7, 'nutritional_item': 'Dietary Fiber', 'percent_dv': '0'}, {'amount': '0 g', 'display_seq': 8, 'nutritional_item': 'Total Sugars', 'percent_dv': ''}, {'amount': '0 g Added Sugars', 'display_seq': 9, 'nutritional_item': 'Includes', 'percent_dv': '0'}, {'amount': '20 g', 'display_seq': 10, 'nutritional_item': 'Protein', 'percent_dv': ''}, {'amount': '0.2 mcg', 'display_seq': 11, 'nutritional_item': 'Vitamin D', 'percent_dv': '.02'}, {'amount': '10 mg', 'display_seq': 12, 'nutritional_item': 'Calcium', 'percent_dv': '0'}, {'amount': '1.9 mg', 'display_seq': 13, 'nutritional_item': 'Iron', 'percent_dv': '.1'}, {'amount': '260 mg', 'display_seq': 14, 'nutritional_item': 'Potassium', 'percent_dv': '.06'}], 'display_sequence': 0, 'panel_id': 1, 'panel_title': '', 'serving_size': '4 oz (112g)', 'servings_per_container': 'Serving varies'}], 'ingredients': [{'display_sequence': 1, 'ingredient': 'BEEF'}], 'item_description': None, 'popularity': '105', 'price': {'regularPrice': {'amount': {'value': 17.99, 'currency': 'USD'}}}, 'country_of_manufacture': None, 'country_of_origin': 'Product of United States', 'description': {'html': ''}}, {'sku': '081544', 'name': 'CANDLE TIN GARDEN PARTY', 'availability': '1', 'stock_status': 'OUT_OF_STOCK', 'only_x_left_in_stock': None, 'nutrition': None, 'ingredients': None, 'item_description': None, 'popularity': '48', 'price': {'regularPrice': {'amount': {'value': 8.99, 'currency': 'USD'}}}, 'country_of_manufacture': None, 'country_of_origin': 'U.S.A.', 'description': {'html': ''}}, {'sku': '080530', 'name': 'MARGHERITA PIZZA WOOD FIRED', 'availability': '1', 'stock_status': 'OUT_OF_STOCK', 'only_x_left_in_stock': None, 'nutrition': [{'calories_per_serving': '310 ', 'details': [{'amount': '8 g', 'display_seq': 1, 'nutritional_item': 'Total Fat', 'percent_dv': '.1'}, {'amount': '4.0 g', 'display_seq': 2, 'nutritional_item': 'Saturated Fat', 'percent_dv': '.2'}, {'amount': '0 g', 'display_seq': 3, 'nutritional_item': 'Trans Fat', 'percent_dv': None}, {'amount': '10 mg', 'display_seq': 4, 'nutritional_item': 'Cholesterol', 'percent_dv': '.03'}, {'amount': '810 mg', 'display_seq': 5, 'nutritional_item': 'Sodium', 'percent_dv': '.35'}, {'amount': '47 g', 'display_seq': 6, 'nutritional_item': 'Total Carbohydrate', 'percent_dv': '.17'}, {'amount': '1 g', 'display_seq': 7, 'nutritional_item': 'Dietary Fiber', 'percent_dv': '.04'}, {'amount': '5 g', 'display_seq': 8, 'nutritional_item': 'Total Sugars', 'percent_dv': None}, {'amount': '0 g Added Sugars', 'display_seq': 9, 'nutritional_item': 'Includes', 'percent_dv': '0'}, {'amount': '14 g', 'display_seq': 10, 'nutritional_item': 'Protein', 'percent_dv': None}, {'amount': '0.0 mcg', 'display_seq': 11, 'nutritional_item': 'Vitamin D', 'percent_dv': '0'}, {'amount': '230 mg', 'display_seq': 12, 'nutritional_item': 'Calcium', 'percent_dv': '.2'}, {'amount': '1.0 mg', 'display_seq': 13, 'nutritional_item': 'Iron', 'percent_dv': '.06'}, {'amount': '260 mg', 'display_seq': 14, 'nutritional_item': 'Potassium', 'percent_dv': '.06'}], 'display_sequence': 0, 'panel_id': 1, 'panel_title': None, 'serving_size': '1/3 pizza (142g)', 'servings_per_container': 'Serves 3'}], 'ingredients': [{'display_sequence': 1, 'ingredient': 'WHEAT FLOUR'}, {'display_sequence': 2, 'ingredient': 'TOMATO PUREE'}, {'display_sequence': 3, 'ingredient': 'WATER'}, {'display_sequence': 4, 'ingredient': 'LOW-MOISTURE PART-SKIM MOZZARELLA CHEESE (MILK, SALT, MICROBIAL ENZYME)'}, {'display_sequence': 5, 'ingredient': 'GRANA PADANO PDO CHEESE (MILK, SALT, ANIMAL RENNET, EGG LYSOZYME)'}, {'display_sequence': 6, 'ingredient': 'SUNFLOWER OIL'}, {'display_sequence': 7, 'ingredient': 'SALT'}, {'display_sequence': 8, 'ingredient': 'BASIL'}, {'display_sequence': 9, 'ingredient': 'YEAST'}, {'display_sequence': 10, 'ingredient': 'CORNSTARCH.'}], 'item_description': None, 'popularity': '223', 'price': {'regularPrice': {'amount': {'value': 4.79, 'currency': 'USD'}}}, 'country_of_manufacture': None, 'country_of_origin': 'Product of Italy', 'description': {'html': ''}}, {'sku': '081060', 'name': 'SIDE ROASTED GREEN VEGETABLES', 'availability': '1', 'stock_status': 'OUT_OF_STOCK', 'only_x_left_in_stock': None, 'nutrition': [{'calories_per_serving': '70 ', 'details': [{'amount': '3.5 g', 'display_seq': 1, 'nutritional_item': 'Total Fat', 'percent_dv': '.04'}, {'amount': '0 g', 'display_seq': 2, 'nutritional_item': 'Saturated Fat', 'percent_dv': '0'}, {'amount': '0 g', 'display_seq': 3, 'nutritional_item': 'Trans Fat', 'percent_dv': None}, {'amount': '0 mg', 'display_seq': 4, 'nutritional_item': 'Cholesterol', 'percent_dv': '0'}, {'amount': '230 mg', 'display_seq': 5, 'nutritional_item': 'Sodium', 'percent_dv': '.1'}, {'amount': '6 g', 'display_seq': 6, 'nutritional_item': 'Total Carbohydrate', 'percent_dv': '.02'}, {'amount': '3 g', 'display_seq': 7, 'nutritional_item': 'Dietary Fiber', 'percent_dv': '.11'}, {'amount': '2 g', 'display_seq': 8, 'nutritional_item': 'Total Sugars', 'percent_dv': None}, {'amount': '0 g Added Sugars', 'display_seq': 9, 'nutritional_item': 'Includes', 'percent_dv': '0'}, {'amount': '2 g', 'display_seq': 10, 'nutritional_item': 'Protein', 'percent_dv': None}, {'amount': '0.0 mcg', 'display_seq': 11, 'nutritional_item': 'Vitamin D', 'percent_dv': '0'}, {'amount': '60 mg', 'display_seq': 12, 'nutritional_item': 'Calcium', 'percent_dv': '.04'}, {'amount': '1.0 mg', 'display_seq': 13, 'nutritional_item': 'Iron', 'percent_dv': '.06'}, {'amount': '320 mg', 'display_seq': 14, 'nutritional_item': 'Potassium', 'percent_dv': '.06'}], 'display_sequence': 0, 'panel_id': 1, 'panel_title': None, 'serving_size': '3/4 cup (85g)', 'servings_per_container': 'Serves 4'}], 'ingredients': [{'display_sequence': 1, 'ingredient': 'SHREDDED BRUSSELS SPROUTS'}, {'display_sequence': 2, 'ingredient': 'BROCCOLI'}, {'display_sequence': 3, 'ingredient': 'EDAMAME'}, {'display_sequence': 4, 'ingredient': 'KALE'}, {'display_sequence': 5, 'ingredient': 'OLIVE OIL BLEND (OLIVE OIL, EXTRA VIRGIN OLIVE OIL)'}, {'display_sequence': 6, 'ingredient': 'SEA SALT'}, {'display_sequence': 7, 'ingredient': 'DEHYDRATED GARLIC'}, {'display_sequence': 8, 'ingredient': 'DEHYDRATED ONION'}, {'display_sequence': 9, 'ingredient': 'BLACK PEPPER.'}], 'item_description': None, 'popularity': '200', 'price': {'regularPrice': {'amount': {'value': 4.99, 'currency': 'USD'}}}, 'country_of_manufacture': None, 'country_of_origin': 'Made in United States', 'description': {'html': ''}}, {'sku': '081837', 'name': 'SALAD FIESTA STYLE WITH SHRIMP', 'availability': '1', 'stock_status': 'OUT_OF_STOCK', 'only_x_left_in_stock': None, 'nutrition': [{'calories_per_serving': '130 ', 'details': [{'amount': '9 g', 'display_seq': 1, 'nutritional_item': 'Total Fat', 'percent_dv': '.12'}, {'amount': '1.0 g', 'display_seq': 2, 'nutritional_item': 'Saturated Fat', 'percent_dv': '.05'}, {'amount': '0 g', 'display_seq': 3, 'nutritional_item': 'Trans Fat', 'percent_dv': None}, {'amount': '30 mg', 'display_seq': 4, 'nutritional_item': 'Cholesterol', 'percent_dv': '.1'}, {'amount': '190 mg', 'display_seq': 5, 'nutritional_item': 'Sodium', 'percent_dv': '.08'}, {'amount': '8 g', 'display_seq': 6, 'nutritional_item': 'Total Carbohydrate', 'percent_dv': '.03'}, {'amount': '2 g', 'display_seq': 7, 'nutritional_item': 'Dietary Fiber', 'percent_dv': '.07'}, {'amount': '2 g', 'display_seq': 8, 'nutritional_item': 'Total Sugars', 'percent_dv': None}, {'amount': '0 g Added Sugars', 'display_seq': 9, 'nutritional_item': 'Includes', 'percent_dv': '0'}, {'amount': '4 g', 'display_seq': 10, 'nutritional_item': 'Protein', 'percent_dv': None}, {'amount': '0.0 mcg', 'display_seq': 11, 'nutritional_item': 'Vitamin D', 'percent_dv': '0'}, {'amount': '40 mg', 'display_seq': 12, 'nutritional_item': 'Calcium', 'percent_dv': '.04'}, {'amount': '0.7 mg', 'display_seq': 13, 'nutritional_item': 'Iron', 'percent_dv': '.04'}, {'amount': '200 mg', 'display_seq': 14, 'nutritional_item': 'Potassium', 'percent_dv': '.04'}], 'display_sequence': 0, 'panel_id': 1, 'panel_title': 'Per serving - salad + dressing (100g)', 'serving_size': '3/4 cup salad + dressing (100g)', 'servings_per_container': 'Serves about 3'}, {'calories_per_serving': '60 ', 'details': [{'amount': '1.5 g', 'display_seq': 1, 'nutritional_item': 'Total Fat', 'percent_dv': '.02'}, {'amount': '0 g', 'display_seq': 2, 'nutritional_item': 'Saturated Fat', 'percent_dv': '0'}, {'amount': '0 g', 'display_seq': 3, 'nutritional_item': 'Trans Fat', 'percent_dv': None}, {'amount': '20 mg', 'display_seq': 4, 'nutritional_item': 'Cholesterol', 'percent_dv': '.07'}, {'amount': '70 mg', 'display_seq': 5, 'nutritional_item': 'Sodium', 'percent_dv': '.03'}, {'amount': '8 g', 'display_seq': 6, 'nutritional_item': 'Total Carbohydrate', 'percent_dv': '.03'}, {'amount': '2 g', 'display_seq': 7, 'nutritional_item': 'Dietary Fiber', 'percent_dv': '.07'}, {'amount': '1 g', 'display_seq': 8, 'nutritional_item': 'Total Sugars', 'percent_dv': None}, {'amount': '0 g Added Sugars', 'display_seq': 9, 'nutritional_item': 'Includes', 'percent_dv': '0'}, {'amount': '4 g', 'display_seq': 10, 'nutritional_item': 'Protein', 'percent_dv': None}, {'amount': '0.0 mcg', 'display_seq': 11, 'nutritional_item': 'Vitamin D', 'percent_dv': '0'}, {'amount': '40 mg', 'display_seq': 12, 'nutritional_item': 'Calcium', 'percent_dv': '.04'}, {'amount': '0.6 mg', 'display_seq': 13, 'nutritional_item': 'Iron', 'percent_dv': '.04'}, {'amount': '180 mg', 'display_seq': 14, 'nutritional_item': 'Potassium', 'percent_dv': '.04'}], 'display_sequence': 1, 'panel_id': 2, 'panel_title': 'Per serving - salad only (83g)', 'serving_size': '3/4 cup salad + dressing (100g)', 'servings_per_container': 'Serves about 3'}], 'ingredients': [{'display_sequence': 1, 'ingredient': 'SALAD (ROMAINE LETTUCE, COOKED SHRIMP [SHRIMP, SALT], PICO DE GALLO [ROMA TOMATOES, YELLOW ONION, CILANTRO, JALAPENO PEPPERS], FIRE ROASTED CORN, COOKED BLACK BEANS [BLACK BEANS, WATER], LIME, TORTILLA STRIPS [YELLOW AND BLUE CORN MASA FLOUR, SUNFLOWER OIL, SEA SALT, TRACE OF LIME])'}, {'display_sequence': 2, 'ingredient': 'CREAMY POBLANO DRESSING (CANOLA AND/OR SOYBEAN OIL, WATER, ROASTED POBLANO PEPPER PUREE, COTIJA CHEESE [PASTEURIZED PART SKIM MILK, SALT, CHEESE CULTURE, MICROBIAL ENZYME], GARLIC, RED WINE VINEGAR, CILANTRO, SALT, EGG YOLK, DISTILLED VINEGAR, SUGAR, SPICES, LIME JUICE CONCENTRATE, MUSTARD FLOUR, CORNSTARCH, XANTHAN GUM, LEMON JUICE CONCENTRATE).'}], 'item_description': None, 'popularity': '142', 'price': {'regularPrice': {'amount': {'value': 6.99, 'currency': 'USD'}}}, 'country_of_manufacture': None, 'country_of_origin': 'Product of USA', 'description': {'html': ''}}, {'sku': '079345', 'name': 'CITRUS BERRY HERBAL TEA', 'availability': '1', 'stock_status': 'OUT_OF_STOCK', 'only_x_left_in_stock': None, 'nutrition': [], 'ingredients': [{'display_sequence': 1, 'ingredient': 'ORANGE PEEL'}, {'display_sequence': 2, 'ingredient': 'HIBISCUS'}, {'display_sequence': 3, 'ingredient': 'ROSE HIP'}, {'display_sequence': 4, 'ingredient': 'LEMONGRASS'}, {'display_sequence': 5, 'ingredient': 'APPLE'}, {'display_sequence': 6, 'ingredient': 'LICORICE'}, {'display_sequence': 7, 'ingredient': 'SWEET BLACKBERRY LEAF'}, {'display_sequence': 8, 'ingredient': 'NATURAL FLAVOR'}, {'display_sequence': 9, 'ingredient': 'CITRIC ACID (ACIDULANT)'}, {'display_sequence': 10, 'ingredient': 'STRAWBERRY'}], 'item_description': None, 'popularity': '56', 'price': {'regularPrice': {'amount': {'value': 2.99, 'currency': 'USD'}}}, 'country_of_manufacture': None, 'country_of_origin': 'Packed in United States', 'description': {'html': ''}}, {'sku': '078932', 'name': 'SOUR STRAWBERRY BELTS', 'availability': '1', 'stock_status': 'OUT_OF_STOCK', 'only_x_left_in_stock': None, 'nutrition': [{'calories_per_serving': '110 ', 'details': [{'amount': '0 g', 'display_seq': 1, 'nutritional_item': 'Total Fat', 'percent_dv': '0'}, {'amount': '0 g', 'display_seq': 2, 'nutritional_item': 'Saturated Fat', 'percent_dv': '0'}, {'amount': '0 g', 'display_seq': 3, 'nutritional_item': 'Trans Fat', 'percent_dv': None}, {'amount': '0 mg', 'display_seq': 4, 'nutritional_item': 'Cholesterol', 'percent_dv': '0'}, {'amount': '0 mg', 'display_seq': 5, 'nutritional_item': 'Sodium', 'percent_dv': '0'}, {'amount': '26 g', 'display_seq': 6, 'nutritional_item': 'Total Carbohydrate', 'percent_dv': '.09'}, {'amount': 'less than 1g', 'display_seq': 7, 'nutritional_item': 'Dietary Fiber', 'percent_dv': '.02'}, {'amount': '18 g', 'display_seq': 8, 'nutritional_item': 'Total Sugars', 'percent_dv': None}, {'amount': '17 g Added Sugars', 'display_seq': 9, 'nutritional_item': 'Includes', 'percent_dv': '.34'}, {'amount': 'less than 1g', 'display_seq': 10, 'nutritional_item': 'Protein', 'percent_dv': None}, {'amount': '0.0 mcg', 'display_seq': 11, 'nutritional_item': 'Vitamin D', 'percent_dv': '0'}, {'amount': '10 mg', 'display_seq': 12, 'nutritional_item': 'Calcium', 'percent_dv': '0'}, {'amount': '0.3 mg', 'display_seq': 13, 'nutritional_item': 'Iron', 'percent_dv': '.02'}, {'amount': '20 mg', 'display_seq': 14, 'nutritional_item': 'Potassium', 'percent_dv': '0'}], 'display_sequence': 0, 'panel_id': 1, 'panel_title': None, 'serving_size': '3 pieces (30g)', 'servings_per_container': 'Serves about 10'}], 'ingredients': [{'display_sequence': 1, 'ingredient': 'SUGAR'}, {'display_sequence': 2, 'ingredient': 'GLUCOSE-FRUCTOSE SYRUP'}, {'display_sequence': 3, 'ingredient': 'WHEAT FLOUR'}, {'display_sequence': 4, 'ingredient': 'WATER'}, {'display_sequence': 5, 'ingredient': 'CITRIC ACID (ACIDULANT)'}, {'display_sequence': 6, 'ingredient': 'DEXTROSE'}, {'display_sequence': 7, 'ingredient': 'COCONUT OIL'}, {'display_sequence': 8, 'ingredient': 'APPLE JUICE CONCENTRATE'}, {'display_sequence': 9, 'ingredient': 'NATURAL FLAVOR'}, {'display_sequence': 10, 'ingredient': 'FRUIT AND VEGETABLE JUICE (COLOR)'}, {'display_sequence': 11, 'ingredient': 'MONOGLYCERIDES.'}], 'item_description': None, 'popularity': '153', 'price': {'regularPrice': {'amount': {'value': 3.49, 'currency': 'USD'}}}, 'country_of_manufacture': None, 'country_of_origin': 'Product of Turkey', 'description': {'html': ''}}, {'sku': '079235', 'name': 'SPARKLING MATCHA LEMONADE', 'availability': '1', 'stock_status': 'OUT_OF_STOCK', 'only_x_left_in_stock': None, 'nutrition': [{'calories_per_serving': '80 ', 'details': [{'amount': '0 g', 'display_seq': 1, 'nutritional_item': 'Total Fat', 'percent_dv': '0'}, {'amount': '0 g', 'display_seq': 2, 'nutritional_item': 'Saturated Fat', 'percent_dv': '0'}, {'amount': '0 g', 'display_seq': 3, 'nutritional_item': 'Trans Fat', 'percent_dv': None}, {'amount': '0 mg', 'display_seq': 4, 'nutritional_item': 'Cholesterol', 'percent_dv': '0'}, {'amount': '35 mg', 'display_seq': 5, 'nutritional_item': 'Sodium', 'percent_dv': '.02'}, {'amount': '20 g', 'display_seq': 6, 'nutritional_item': 'Total Carbohydrate', 'percent_dv': '.07'}, {'amount': '0 g', 'display_seq': 7, 'nutritional_item': 'Dietary Fiber', 'percent_dv': '0'}, {'amount': '18 g', 'display_seq': 8, 'nutritional_item': 'Total Sugars', 'percent_dv': None}, {'amount': '18 g Added Sugars', 'display_seq': 9, 'nutritional_item': 'Includes', 'percent_dv': '.36'}, {'amount': '0 g', 'display_seq': 10, 'nutritional_item': 'Protein', 'percent_dv': None}, {'amount': '0.0 mcg', 'display_seq': 11, 'nutritional_item': 'Vitamin D', 'percent_dv': '0'}, {'amount': '30 mg', 'display_seq': 12, 'nutritional_item': 'Calcium', 'percent_dv': '.02'}, {'amount': '0.0 mg', 'display_seq': 13, 'nutritional_item': 'Iron', 'percent_dv': '0'}, {'amount': '40 mg', 'display_seq': 14, 'nutritional_item': 'Potassium', 'percent_dv': '0'}], 'display_sequence': 0, 'panel_id': 1, 'panel_title': None, 'serving_size': '1 can (355mL)', 'servings_per_container': 'Serves 1'}], 'ingredients': [{'display_sequence': 1, 'ingredient': 'CARBONATED WATER (WATER, CARBON DIOXIDE)'}, {'display_sequence': 2, 'ingredient': 'CANE SUGAR'}, {'display_sequence': 3, 'ingredient': 'LEMON JUICE CONCENTRATE'}, {'display_sequence': 4, 'ingredient': 'MATCHA GREEN TEA POWDER'}, {'display_sequence': 5, 'ingredient': 'NATURAL FLAVORS'}, {'display_sequence': 6, 'ingredient': 'LEMON PEEL'}, {'display_sequence': 7, 'ingredient': 'LEMON EXTRACT'}, {'display_sequence': 8, 'ingredient': 'GREEN TEA EXTRACT'}, {'display_sequence': 9, 'ingredient': 'SODIUM COPPER CHLOROPHYLLIN (COLOR)'}, {'display_sequence': 10, 'ingredient': 'LEMON OIL.'}], 'item_description': None, 'popularity': '92', 'price': {'regularPrice': {'amount': {'value': 1.99, 'currency': 'USD'}}}, 'country_of_manufacture': None, 'country_of_origin': 'Product of United States', 'description': {'html': ''}}, {'sku': '081001', 'name': 'MARGARITA MIX ORGANIC', 'availability': '1', 'stock_status': 'OUT_OF_STOCK', 'only_x_left_in_stock': None, 'nutrition': [{'calories_per_serving': '100 ', 'details': [{'amount': '0 g', 'display_seq': 1, 'nutritional_item': 'Total Fat', 'percent_dv': '0'}, {'amount': '0 g', 'display_seq': 2, 'nutritional_item': 'Saturated Fat', 'percent_dv': '0'}, {'amount': '0 g', 'display_seq': 3, 'nutritional_item': 'Trans Fat', 'percent_dv': ''}, {'amount': '0 mg', 'display_seq': 4, 'nutritional_item': 'Cholesterol', 'percent_dv': '0'}, {'amount': '20 mg', 'display_seq': 5, 'nutritional_item': 'Sodium', 'percent_dv': '.01'}, {'amount': '26 g', 'display_seq': 6, 'nutritional_item': 'Total Carbohydrate', 'percent_dv': '.09'}, {'amount': '0 g', 'display_seq': 7, 'nutritional_item': 'Dietary Fiber', 'percent_dv': '0'}, {'amount': '23 g', 'display_seq': 8, 'nutritional_item': 'Total Sugars', 'percent_dv': ''}, {'amount': '23 g Added Sugars', 'display_seq': 9, 'nutritional_item': 'Includes', 'percent_dv': '.46'}, {'amount': '0 g', 'display_seq': 10, 'nutritional_item': 'Protein', 'percent_dv': ''}, {'amount': '0.0 mcg', 'display_seq': 11, 'nutritional_item': 'Vitamin D', 'percent_dv': '0'}, {'amount': '10 mg', 'display_seq': 12, 'nutritional_item': 'Calcium', 'percent_dv': '0'}, {'amount': '0.1 mg', 'display_seq': 13, 'nutritional_item': 'Iron', 'percent_dv': '0'}, {'amount': '20 mg', 'display_seq': 14, 'nutritional_item': 'Potassium', 'percent_dv': '0'}], 'display_sequence': 0, 'panel_id': 1, 'panel_title': '', 'serving_size': '4 fl oz (120mL)', 'servings_per_container': 'Serves 8'}], 'ingredients': [{'display_sequence': 1, 'ingredient': 'WATER'}, {'display_sequence': 2, 'ingredient': 'ORGANIC LIME JUICE'}, {'display_sequence': 3, 'ingredient': 'ORGANIC AGAVE SYRUP'}, {'display_sequence': 4, 'ingredient': 'ORGANIC CANE SUGAR'}, {'display_sequence': 5, 'ingredient': 'ORGANIC LIME JUICE CONCENTRATE'}, {'display_sequence': 6, 'ingredient': 'ORGANIC NATURAL FLAVORS'}, {'display_sequence': 7, 'ingredient': 'CITRIC ACID (ACIDULANT)'}, {'display_sequence': 8, 'ingredient': 'SEA SALT'}], 'item_description': None, 'popularity': '133', 'price': {'regularPrice': {'amount': {'value': 3.99, 'currency': 'USD'}}}, 'country_of_manufacture': None, 'country_of_origin': 'Product of United States', 'description': {'html': ''}}, {'sku': '080887', 'name': 'PEONY BATH FIZZER', 'availability': '1', 'stock_status': 'OUT_OF_STOCK', 'only_x_left_in_stock': None, 'nutrition': None, 'ingredients': [{'display_sequence': 1, 'ingredient': 'SODIUM BICARBONATE, CITRIC ACID, POLYSORBATE 80, MALTODEXTRIN, FRAGRANCE, THEOBROMA CACAO (COCOA) SEED BUTTER, VITIS VINIFERA (GRAPE SEED) OIL, KAOLIN (CLAY), IRON OXIDE, WATER, MICA, TITANIUM DIOXID'}], 'item_description': None, 'popularity': '35', 'price': {'regularPrice': {'amount': {'value': 4.99, 'currency': 'USD'}}}, 'country_of_manufacture': None, 'country_of_origin': 'U.S.A.', 'description': {'html': ''}}, {'sku': '081212', 'name': 'BERRY GLOW GIFT SET', 'availability': '1', 'stock_status': 'OUT_OF_STOCK', 'only_x_left_in_stock': None, 'nutrition': None, 'ingredients': [{'display_sequence': 1, 'ingredient': 'BODY MIST: WATER, FRAGRANCE, GLYCERIN, GLYCERETH-7 TRIMETHYL ETHER, HYDROXYACETOPHENONE, ACER SACCHARUM EXTRACT, CITRULLUS LANATUS (WATERMELON) FRUIT EXTRACT, CITRUS AURANTIUM DULCIS FRUIT EXTRACT, CITRUS LIMON FRUIT EXTRACT, FRAGARIA VESCA (STRAWBERRY) FRUIT EXTRACT, SACCHARUM OFFICINARUM EXTRACT, VACCINIUM ANGUSTIFOLIUM (BLUEBERRY) FRUIT EXTRACT, VACCINIUM MYRTILLUS FRUIT EXTRACT, PHENOXYETHANOL, ALOE BARBADENSIS LEAF JUICE, BENZALDEHYDE, BENZYL ALCOHOL, LINALOOL, ROSE KETONES, TETRAMETHYLACETYLOCTAHYDRO NAPHTHALENES (OTNE), VANILLIN.'}, {'display_sequence': 2, 'ingredient': 'BODY WASH: WATER, SODIUM C14-16 OLEFIN SULFONATE, COCAMIDOPROPYL HYDROXYSULTAINE, GLYCERIN, SODIUM CHLORIDE, FRAGRANCE, ACRYLATES CROSSPOLYMER-4, PHENOXYETHANOL, SODIUM COCOYL GLUTAMATE, CITRIC ACID, SODIUM HYDROXIDE, POLYQUATERNIUM-73, SODIUM BENZOATE, ACER SACCHARUM EXTRACT, CITRULLUS LANATUS (WATERMELON) FRUIT EXTRACT, CITRUS AURANTIUM DULCIS FRUIT EXTRACT, CITRUS LIMON FRUIT EXTRACT, FRAGARIA VESCA (STRAWBERRY) FRUIT EXTRACT, SACCHARUM OFFICINARUM EXTRACT, VACCINIUM ANGUSTIFOLIUM (BLUEBERRY) FRUIT EXTRACT, VACCINIUM MYRTILLUS FRUIT EXTRACT, ISOPROPYL ALCOHOL, HYDROXYACETOPHENONE, PROPANEDIOL, MAGNOLIA OFFICINALIS BARK EXTRACT, BENZALDEHYDE, BENZYL ALCOHOL, HEXAMETHYLINDANOPYRAN (GALAXOLIDE), LINALOOL, ROSE KETONES, TETRAMETHYLACETYLOCTAHYDRO NAPHTHALENES (OTNE), VANILLIN'}, {'display_sequence': 3, 'ingredient': 'BODY BUTTER: INGREDIENTS: WATER, CAPRYLIC/CAPRIC TRIGLYCERIDE, CETYL ALCOHOL, PROPANEDIOL, STEARIC ACID, GLYCERYL STEARATE, GLYCERIN, PEG-100 STEARATE, HELIANTHUS ANNUUS SEED OIL, ISOPROPYL MYRISTATE, OLEA EUROPAEA FRUIT OIL, PERSEA GRATISSIMA OIL, BUTYROSPERMUM PARKII (SHEA) BUTTER, PHENOXYETHANOL, FRAGRANCE, MICA, CARBOMER, SODIUM BENZOATE, POTASSIUM SORBATE, ACER SACCHARUM EXTRACT, CITRULLUS LANATUS (WATERMELON) FRUIT EXTRACT, CITRUS AURANTIUM DULCIS FRUIT EXTRACT, CITRUS LIMON FRUIT EXTRACT, FRAGARIA VESCA (STRAWBERRY) FRUIT EXTRACT, SACCHARUM OFFICINARUM EXTRACT, VACCINIUM ANGUSTIFOLIUM (BLUEBERRY) FRUIT EXTRACT, VACCINIUM MYRTILLUS FRUIT EXTRACT, HYDROXYACETOPHENONE, COCOS NUCIFERA (COCONUT) OIL, SODIUM HYDROXIDE, MAGNOLIA OFFICINALIS BARK EXTRACT, BENZALDEHYDE, BENZYL ALCOHOL, HEXAMETHYLINDANOPYRAN, LINALOOL, ROSE KETONES, TETRAMETHYL ACETYLOCTAHYDRONAPHTHALENES, VANILLIN, TITANIUM DIOXIDE (CI 77891).'}], 'item_description': None, 'popularity': '89', 'price': {'regularPrice': {'amount': {'value': 12.99, 'currency': 'USD'}}}, 'country_of_manufacture': None, 'country_of_origin': 'U.S.A.', 'description': {'html': ''}}, {'sku': '080886', 'name': 'SUNSCREEN INVISIBLE GEL SPF 40', 'availability': '1', 'stock_status': 'OUT_OF_STOCK', 'only_x_left_in_stock': None, 'nutrition': None, 'ingredients': [{'display_sequence': 1, 'ingredient': 'ACTIVE INGREDIENTS: Avobenzone 3% Sunscreen, Homosalate 12% Sunscreen, Octisalate 5% Sunscreen, Octocrylene 6% Sunscreen'}, {'display_sequence': 2, 'ingredient': 'INACTIVE INGREDIENTS: Isododecane, Dimethicone Crosspolymer, Polymethylsilsesquioxane, Dimethicone/Bis-Isobutyl PPG-20 Crosspolymer, Neopentyl Glycol Diheptanoate, Polyester-7, Isohexadecane, Jojoba Esters, Silica, Butyrospermum Parkii (Shea) Butter, Dicaprylyl Carbonate, Tocopheryl Acetate, Caprylic/Capric Triglyceride, Tocopherol.'}], 'item_description': None, 'popularity': '234', 'price': {'regularPrice': {'amount': {'value': 12.99, 'currency': 'USD'}}}, 'country_of_manufacture': None, 'country_of_origin': 'U.S.A.', 'description': {'html': ''}}, {'sku': '080885', 'name': 'SUNSCREEN DAILY FACIAL MINERAL SPF 40', 'availability': '1', 'stock_status': 'OUT_OF_STOCK', 'only_x_left_in_stock': None, 'nutrition': None, 'ingredients': [{'display_sequence': 1, 'ingredient': 'ACTIVE INGREDIENT: ZINC OXIDE 20.4% SUNSCREEN'}, {'display_sequence': 2, 'ingredient': 'INACTIVE INGREDIENTS: SODODECANE, CAPRYLIC/CAPRIC TRIGLYCERIDE, DIMETHICONE CROSSPOLYMER, NEOPENTYL GLYCOL DIHEPTANOATE, POLYMETHYLSILSESQUIOXANE, CAPRYLOYL GLYCERIN/SEBACIC ACID COPOLYMER, POLYHYDROXYSTEARIC ACID, DIMETHICONE/BIS-ISOBUTYL PPG-20 CROSSPOLYMER'}], 'item_description': None, 'popularity': '390', 'price': {'regularPrice': {'amount': {'value': 12.99, 'currency': 'USD'}}}, 'country_of_manufacture': None, 'country_of_origin': 'U.S.A.', 'description': {'html': ''}}, {'sku': '076362', 'name': 'SPICE SALT PINK CHILE HIMALAYAN', 'availability': '1', 'stock_status': 'OUT_OF_STOCK', 'only_x_left_in_stock': None, 'nutrition': [{'calories_per_serving': '0 ', 'details': [{'amount': '0 g', 'display_seq': 1, 'nutritional_item': 'Total Fat', 'percent_dv': '0'}, {'amount': '0 g', 'display_seq': 2, 'nutritional_item': 'Saturated Fat', 'percent_dv': '0'}, {'amount': '0 g', 'display_seq': 3, 'nutritional_item': 'Trans Fat', 'percent_dv': None}, {'amount': '0 mg', 'display_seq': 4, 'nutritional_item': 'Cholesterol', 'percent_dv': '0'}, {'amount': '460 mg', 'display_seq': 5, 'nutritional_item': 'Sodium', 'percent_dv': '.2'}, {'amount': '0 g', 'display_seq': 6, 'nutritional_item': 'Total Carbohydrate', 'percent_dv': '0'}, {'amount': '0 g', 'display_seq': 7, 'nutritional_item': 'Dietary Fiber', 'percent_dv': '0'}, {'amount': '0 g', 'display_seq': 8, 'nutritional_item': 'Total Sugars', 'percent_dv': None}, {'amount': '0 g Added Sugars', 'display_seq': 9, 'nutritional_item': 'Includes', 'percent_dv': '0'}, {'amount': '0 g', 'display_seq': 10, 'nutritional_item': 'Protein', 'percent_dv': None}, {'amount': '0.0 mcg', 'display_seq': 11, 'nutritional_item': 'Vitamin D', 'percent_dv': '0'}, {'amount': '0 mg', 'display_seq': 12, 'nutritional_item': 'Calcium', 'percent_dv': '0'}, {'amount': '0.0 mg', 'display_seq': 13, 'nutritional_item': 'Iron', 'percent_dv': '0'}, {'amount': '0 mg', 'display_seq': 14, 'nutritional_item': 'Potassium', 'percent_dv': '0'}], 'display_sequence': 0, 'panel_id': 1, 'panel_title': None, 'serving_size': '1/4 tsp (1.3g)', 'servings_per_container': 'Serves about 152'}], 'ingredients': [{'display_sequence': 1, 'ingredient': 'PINK SALT'}, {'display_sequence': 2, 'ingredient': 'CRUSHED RED CHILI PEPPER'}], 'item_description': None, 'popularity': '67', 'price': {'regularPrice': {'amount': {'value': 1.99, 'currency': 'USD'}}}, 'country_of_manufacture': None, 'country_of_origin': 'Product of Pakistan', 'description': {'html': ''}}, {'sku': '076300', 'name': 'SPICE SALT PINK HIMALAYAN FINE GRAIN', 'availability': '1', 'stock_status': 'OUT_OF_STOCK', 'only_x_left_in_stock': None, 'nutrition': [{'calories_per_serving': '0 ', 'details': [{'amount': '0 g', 'display_seq': 1, 'nutritional_item': 'Total Fat', 'percent_dv': '0'}, {'amount': '0 g', 'display_seq': 2, 'nutritional_item': 'Saturated Fat', 'percent_dv': '0'}, {'amount': '0 g', 'display_seq': 3, 'nutritional_item': 'Trans Fat', 'percent_dv': None}, {'amount': '0 mg', 'display_seq': 4, 'nutritional_item': 'Cholesterol', 'percent_dv': '0'}, {'amount': '500 mg', 'display_seq': 5, 'nutritional_item': 'Sodium', 'percent_dv': '.22'}, {'amount': '0 g', 'display_seq': 6, 'nutritional_item': 'Total Carbohydrate', 'percent_dv': '0'}, {'amount': '0 g', 'display_seq': 7, 'nutritional_item': 'Dietary Fiber', 'percent_dv': '0'}, {'amount': '0 g', 'display_seq': 8, 'nutritional_item': 'Total Sugars', 'percent_dv': None}, {'amount': '0 g Added Sugars', 'display_seq': 9, 'nutritional_item': 'Includes', 'percent_dv': '0'}, {'amount': '0 g', 'display_seq': 10, 'nutritional_item': 'Protein', 'percent_dv': None}, {'amount': '0.0 mcg', 'display_seq': 11, 'nutritional_item': 'Vitamin D', 'percent_dv': '0'}, {'amount': '0 mg', 'display_seq': 12, 'nutritional_item': 'Calcium', 'percent_dv': '0'}, {'amount': '0.0 mg', 'display_seq': 13, 'nutritional_item': 'Iron', 'percent_dv': '0'}, {'amount': '0 mg', 'display_seq': 14, 'nutritional_item': 'Potassium', 'percent_dv': '0'}], 'display_sequence': 0, 'panel_id': 1, 'panel_title': None, 'serving_size': '1/4 tsp (1.3g)', 'servings_per_container': 'Serves about 384'}], 'ingredients': [{'display_sequence': 1, 'ingredient': 'PINK SALT'}], 'item_description': None, 'popularity': '70', 'price': {'regularPrice': {'amount': {'value': 1.69, 'currency': 'USD'}}}, 'country_of_manufacture': None, 'country_of_origin': 'Product of Pakistan', 'description': {'html': ''}}, {'sku': '079679', 'name': 'OKONOMIYAKI JAPANESE VEG PANCAKE-CA', 'availability': '1', 'stock_status': 'OUT_OF_STOCK', 'only_x_left_in_stock': None, 'nutrition': [{'calories_per_serving': '180 ', 'details': [{'amount': '7 g', 'display_seq': 1, 'nutritional_item': 'Total Fat', 'percent_dv': '.09'}, {'amount': '1.0 g', 'display_seq': 2, 'nutritional_item': 'Saturated Fat', 'percent_dv': '.05'}, {'amount': '0 g', 'display_seq': 3, 'nutritional_item': 'Trans Fat', 'percent_dv': None}, {'amount': '55 mg', 'display_seq': 4, 'nutritional_item': 'Cholesterol', 'percent_dv': '.18'}, {'amount': '410 mg', 'display_seq': 5, 'nutritional_item': 'Sodium', 'percent_dv': '.18'}, {'amount': '25 g', 'display_seq': 6, 'nutritional_item': 'Total Carbohydrate', 'percent_dv': '.09'}, {'amount': '3 g', 'display_seq': 7, 'nutritional_item': 'Dietary Fiber', 'percent_dv': '.11'}, {'amount': '10 g', 'display_seq': 8, 'nutritional_item': 'Total Sugars', 'percent_dv': None}, {'amount': '5 g Added Sugars', 'display_seq': 9, 'nutritional_item': 'Includes', 'percent_dv': '.1'}, {'amount': '5 g', 'display_seq': 10, 'nutritional_item': 'Protein', 'percent_dv': None}, {'amount': '0.0 mcg', 'display_seq': 11, 'nutritional_item': 'Vitamin D', 'percent_dv': '0'}, {'amount': '40 mg', 'display_seq': 12, 'nutritional_item': 'Calcium', 'percent_dv': '.04'}, {'amount': '0.0 mg', 'display_seq': 13, 'nutritional_item': 'Iron', 'percent_dv': '0'}, {'amount': '180 mg', 'display_seq': 14, 'nutritional_item': 'Potassium', 'percent_dv': '.04'}], 'display_sequence': 0, 'panel_id': 1, 'panel_title': 'Per serving', 'serving_size': '1/2 package (145g)', 'servings_per_container': 'Serves 2'}, {'calories_per_serving': '360 ', 'details': [{'amount': '14 g', 'display_seq': 1, 'nutritional_item': 'Total Fat', 'percent_dv': '.18'}, {'amount': '2.0 g', 'display_seq': 2, 'nutritional_item': 'Saturated Fat', 'percent_dv': '.1'}, {'amount': '0 g', 'display_seq': 3, 'nutritional_item': 'Trans Fat', 'percent_dv': None}, {'amount': '110 mg', 'display_seq': 4, 'nutritional_item': 'Cholesterol', 'percent_dv': '.37'}, {'amount': '830 mg', 'display_seq': 5, 'nutritional_item': 'Sodium', 'percent_dv': '.36'}, {'amount': '49 g', 'display_seq': 6, 'nutritional_item': 'Total Carbohydrate', 'percent_dv': '.18'}, {'amount': '5 g', 'display_seq': 7, 'nutritional_item': 'Dietary Fiber', 'percent_dv': '.18'}, {'amount': '20 g', 'display_seq': 8, 'nutritional_item': 'Total Sugars', 'percent_dv': None}, {'amount': '11 g Added Sugars', 'display_seq': 9, 'nutritional_item': 'Includes', 'percent_dv': '.22'}, {'amount': '9 g', 'display_seq': 10, 'nutritional_item': 'Protein', 'percent_dv': None}, {'amount': '0.0 mcg', 'display_seq': 11, 'nutritional_item': 'Vitamin D', 'percent_dv': '0'}, {'amount': '80 mg', 'display_seq': 12, 'nutritional_item': 'Calcium', 'percent_dv': '.06'}, {'amount': '0.0 mg', 'display_seq': 13, 'nutritional_item': 'Iron', 'percent_dv': '0'}, {'amount': '370 mg', 'display_seq': 14, 'nutritional_item': 'Potassium', 'percent_dv': '.08'}], 'display_sequence': 1, 'panel_id': 2, 'panel_title': 'Per container', 'serving_size': '1/2 package (145g)', 'servings_per_container': 'Serves 2'}], 'ingredients': [{'display_sequence': 1, 'ingredient': 'PANCAKE (CABBAGE, EGG, WHEAT FLOUR, WATER, CANOLA OIL, GREEN ONION, GRATED JAPANESE YAM, SKIPJACK TUNA POWDER, SALT, KELP EXTRACT [WATER, KELP, SALT], SUGAR, DRIED YEAST EXTRACT, BLACK PEPPER BLEND [CORN FLOUR, BLACK PEPPER, RICE FLOUR], GUAR GUM, DEXTRIN)'}, {'display_sequence': 2, 'ingredient': 'SAUCE (WATER, SUGAR, MOLASSES, SALT, TOMATO PASTE, SOY SAUCE [SOYBEANS, WATER, SALT], MODIFIED CORNSTARCH, APPLE PUREE, DISTILLED WHITE VINEGAR, ONION PUREE, SPICES, YEAST EXTRACT, DATE JUICE CONCENTRATE, XANTHAN GUM, SHIITAKE MUSHROOM POWDER)'}, {'display_sequence': 3, 'ingredient': 'DRIED SKIPJACK TUNA FLAKES'}], 'item_description': None, 'popularity': '843', 'price': {'regularPrice': {'amount': {'value': 4.99, 'currency': 'USD'}}}, 'country_of_manufacture': None, 'country_of_origin': 'Product of Japan', 'description': {'html': ''}}, {'sku': '077090', 'name': 'OKONOMIYAKI JAPANESE VEG PANCAKE', 'availability': '1', 'stock_status': 'OUT_OF_STOCK', 'only_x_left_in_stock': None, 'nutrition': [{'calories_per_serving': '180 ', 'details': [{'amount': '7 g', 'display_seq': 1, 'nutritional_item': 'Total Fat', 'percent_dv': '.09'}, {'amount': '1.0 g', 'display_seq': 2, 'nutritional_item': 'Saturated Fat', 'percent_dv': '.05'}, {'amount': '0 g', 'display_seq': 3, 'nutritional_item': 'Trans Fat', 'percent_dv': None}, {'amount': '55 mg', 'display_seq': 4, 'nutritional_item': 'Cholesterol', 'percent_dv': '.18'}, {'amount': '410 mg', 'display_seq': 5, 'nutritional_item': 'Sodium', 'percent_dv': '.18'}, {'amount': '25 g', 'display_seq': 6, 'nutritional_item': 'Total Carbohydrate', 'percent_dv': '.09'}, {'amount': '3 g', 'display_seq': 7, 'nutritional_item': 'Dietary Fiber', 'percent_dv': '.11'}, {'amount': '10 g', 'display_seq': 8, 'nutritional_item': 'Total Sugars', 'percent_dv': None}, {'amount': '5 g Added Sugars', 'display_seq': 9, 'nutritional_item': 'Includes', 'percent_dv': '.1'}, {'amount': '5 g', 'display_seq': 10, 'nutritional_item': 'Protein', 'percent_dv': None}, {'amount': '0.0 mcg', 'display_seq': 11, 'nutritional_item': 'Vitamin D', 'percent_dv': '0'}, {'amount': '40 mg', 'display_seq': 12, 'nutritional_item': 'Calcium', 'percent_dv': '.04'}, {'amount': '0.0 mg', 'display_seq': 13, 'nutritional_item': 'Iron', 'percent_dv': '0'}, {'amount': '180 mg', 'display_seq': 14, 'nutritional_item': 'Potassium', 'percent_dv': '.04'}], 'display_sequence': 0, 'panel_id': 1, 'panel_title': 'Per serving', 'serving_size': '1/2 package (145g)', 'servings_per_container': 'Serves 2'}, {'calories_per_serving': '360 ', 'details': [{'amount': '14 g', 'display_seq': 1, 'nutritional_item': 'Total Fat', 'percent_dv': '.18'}, {'amount': '2.0 g', 'display_seq': 2, 'nutritional_item': 'Saturated Fat', 'percent_dv': '.1'}, {'amount': '0 g', 'display_seq': 3, 'nutritional_item': 'Trans Fat', 'percent_dv': None}, {'amount': '110 mg', 'display_seq': 4, 'nutritional_item': 'Cholesterol', 'percent_dv': '.37'}, {'amount': '830 mg', 'display_seq': 5, 'nutritional_item': 'Sodium', 'percent_dv': '.36'}, {'amount': '49 g', 'display_seq': 6, 'nutritional_item': 'Total Carbohydrate', 'percent_dv': '.18'}, {'amount': '5 g', 'display_seq': 7, 'nutritional_item': 'Dietary Fiber', 'percent_dv': '.18'}, {'amount': '20 g', 'display_seq': 8, 'nutritional_item': 'Total Sugars', 'percent_dv': None}, {'amount': '11 g Added Sugars', 'display_seq': 9, 'nutritional_item': 'Includes', 'percent_dv': '.22'}, {'amount': '9 g', 'display_seq': 10, 'nutritional_item': 'Protein', 'percent_dv': None}, {'amount': '0.0 mcg', 'display_seq': 11, 'nutritional_item': 'Vitamin D', 'percent_dv': '0'}, {'amount': '80 mg', 'display_seq': 12, 'nutritional_item': 'Calcium', 'percent_dv': '.06'}, {'amount': '0.0 mg', 'display_seq': 13, 'nutritional_item': 'Iron', 'percent_dv': '0'}, {'amount': '370 mg', 'display_seq': 14, 'nutritional_item': 'Potassium', 'percent_dv': '.08'}], 'display_sequence': 1, 'panel_id': 2, 'panel_title': 'Per container', 'serving_size': '1/2 package (145g)', 'servings_per_container': 'Serves 2'}], 'ingredients': [{'display_sequence': 1, 'ingredient': 'PANCAKE (CABBAGE, EGG, WHEAT FLOUR, WATER, CANOLA OIL, GREEN ONION, GRATED JAPANESE YAM, SKIPJACK TUNA POWDER, SALT, KELP EXTRACT [WATER, KELP, SALT], SUGAR, DRIED YEAST EXTRACT, BLACK PEPPER BLEND [CORN FLOUR, BLACK PEPPER, RICE FLOUR], GUAR GUM, DEXTRIN)'}, {'display_sequence': 2, 'ingredient': 'SAUCE (WATER, SUGAR, MOLASSES, SALT, TOMATO PASTE, SOY SAUCE [SOYBEANS, WATER, SALT], MODIFIED CORNSTARCH, APPLE PUREE, DISTILLED WHITE VINEGAR, ONION PUREE, SPICES, YEAST EXTRACT, DATE JUICE CONCENTRATE, XANTHAN GUM, SHIITAKE MUSHROOM POWDER)'}, {'display_sequence': 3, 'ingredient': 'DRIED SKIPJACK TUNA FLAKES'}], 'item_description': None, 'popularity': '190', 'price': {'regularPrice': {'amount': {'value': 4.99, 'currency': 'USD'}}}, 'country_of_manufacture': None, 'country_of_origin': 'Product of Japan', 'description': {'html': ''}}, {'sku': '075997', 'name': 'TAIYAKI JAPANESE WAFFLES', 'availability': '1', 'stock_status': 'OUT_OF_STOCK', 'only_x_left_in_stock': None, 'nutrition': [{'calories_per_serving': '250 ', 'details': [{'amount': '9 g', 'display_seq': 1, 'nutritional_item': 'Total Fat', 'percent_dv': '.12'}, {'amount': '3.5 g', 'display_seq': 2, 'nutritional_item': 'Saturated Fat', 'percent_dv': '.18'}, {'amount': '0 g', 'display_seq': 3, 'nutritional_item': 'Trans Fat', 'percent_dv': None}, {'amount': '20 mg', 'display_seq': 4, 'nutritional_item': 'Cholesterol', 'percent_dv': '.07'}, {'amount': '240 mg', 'display_seq': 5, 'nutritional_item': 'Sodium', 'percent_dv': '.1'}, {'amount': '39 g', 'display_seq': 6, 'nutritional_item': 'Total Carbohydrate', 'percent_dv': '.14'}, {'amount': 'less than 1g', 'display_seq': 7, 'nutritional_item': 'Dietary Fiber', 'percent_dv': '.03'}, {'amount': '12 g', 'display_seq': 8, 'nutritional_item': 'Total Sugars', 'percent_dv': None}, {'amount': '10 g Added Sugars', 'display_seq': 9, 'nutritional_item': 'Includes', 'percent_dv': '.2'}, {'amount': '4 g', 'display_seq': 10, 'nutritional_item': 'Protein', 'percent_dv': None}, {'amount': '0.0 mcg', 'display_seq': 11, 'nutritional_item': 'Vitamin D', 'percent_dv': '0'}, {'amount': '70 mg', 'display_seq': 12, 'nutritional_item': 'Calcium', 'percent_dv': '.06'}, {'amount': '0.3 mg', 'display_seq': 13, 'nutritional_item': 'Iron', 'percent_dv': '.02'}, {'amount': '100 mg', 'display_seq': 14, 'nutritional_item': 'Potassium', 'percent_dv': '.02'}], 'display_sequence': 0, 'panel_id': 1, 'panel_title': 'Per serving', 'serving_size': '3 pieces (84g)', 'servings_per_container': 'Serves about 2.5'}, {'calories_per_serving': '670 ', 'details': [{'amount': '24 g', 'display_seq': 1, 'nutritional_item': 'Total Fat', 'percent_dv': '.31'}, {'amount': '9 g', 'display_seq': 2, 'nutritional_item': 'Saturated Fat', 'percent_dv': '.45'}, {'amount': '0 g', 'display_seq': 3, 'nutritional_item': 'Trans Fat', 'percent_dv': None}, {'amount': '50 mg', 'display_seq': 4, 'nutritional_item': 'Cholesterol', 'percent_dv': '.17'}, {'amount': '640 mg', 'display_seq': 5, 'nutritional_item': 'Sodium', 'percent_dv': '.28'}, {'amount': '103 g', 'display_seq': 6, 'nutritional_item': 'Total Carbohydrate', 'percent_dv': '.37'}, {'amount': '2 g', 'display_seq': 7, 'nutritional_item': 'Dietary Fiber', 'percent_dv': '.07'}, {'amount': '33 g', 'display_seq': 8, 'nutritional_item': 'Total Sugars', 'percent_dv': None}, {'amount': '27 g Added Sugars', 'display_seq': 9, 'nutritional_item': 'Includes', 'percent_dv': '.54'}, {'amount': '10 g', 'display_seq': 10, 'nutritional_item': 'Protein', 'percent_dv': None}, {'amount': '0.0 mcg', 'display_seq': 11, 'nutritional_item': 'Vitamin D', 'percent_dv': '0'}, {'amount': '180 mg', 'display_seq': 12, 'nutritional_item': 'Calcium', 'percent_dv': '.15'}, {'amount': '0.9 mg', 'display_seq': 13, 'nutritional_item': 'Iron', 'percent_dv': '.06'}, {'amount': '260 mg', 'display_seq': 14, 'nutritional_item': 'Potassium', 'percent_dv': '.06'}], 'display_sequence': 1, 'panel_id': 2, 'panel_title': 'Per container', 'serving_size': '3 pieces (84g)', 'servings_per_container': 'Serves about 2.5'}], 'ingredients': [{'display_sequence': 1, 'ingredient': 'MIXED FLOUR BLEND (WHEAT FLOUR, RICE STARCH, DEXTRIN, SUGAR, BAKING POWDER, SALT, GUAR GUM, SUCROSE FATTY ACID ESTERS [EMULSIFIER])'}, {'display_sequence': 2, 'ingredient': 'CUSTARD FLOUR PASTE (WATER, SUGAR, CANOLA OIL, MODIFIED FOOD STARCH [MODIFIED TAPIOCA STARCH, MODIFIED CORNSTARCH], NONFAT DRY MILK, VANILLA SYRUP [SUGAR, WATER, VANILLA BEANS], WHEY PROTEIN CONCENTRATE, WHOLE EGG POWDER, VEGETABLE JUICE [COLOR], GELLAN GUM, EGG WHITE POWDER, WHEAT FLOUR, SALT, CITRIC ACID [ACIDULANT])'}, {'display_sequence': 3, 'ingredient': 'WATER'}, {'display_sequence': 4, 'ingredient': 'EGGS'}, {'display_sequence': 5, 'ingredient': 'SUNFLOWER OIL.'}], 'item_description': None, 'popularity': '188', 'price': {'regularPrice': {'amount': {'value': 4.99, 'currency': 'USD'}}}, 'country_of_manufacture': None, 'country_of_origin': 'Product of Japan', 'description': {'html': ''}}, {'sku': '081213', 'name': 'HAND CREAM FRESH BLOOMS', 'availability': '1', 'stock_status': 'OUT_OF_STOCK', 'only_x_left_in_stock': None, 'nutrition': None, 'ingredients': [{'display_sequence': 1, 'ingredient': 'WATER, BUTYROSPERMUM PARKII (SHEA) BUTTER, DIMETHICONE, COCOS NUCIFERA (COCONUT) OIL, GLYCERYL STEARATE, CETEARYL ALCOHOL, POLYACRYLAMIDE, GLYCERIN, PEG-100 STEARATE, GLOBULARIA ALYPUM LEAF EXTRACT (BLUE DAISY), LIMON PEEL OIL, CITRUS SINENSIS PEEL OIL, HELIANTHUS ANNUUS SEED OIL, TOCOPHERYL ACETATE, PHENOXYETHANOL, C13-14 ISOPARAFFIN, LAURETH-7, CETEARETH-20, BENZYL ALCOHOL, XANTHAN GUM, ETHYLHEXYLGLYCERIN, BRASSICA CAMPESTRIS STEROLS, FRAGRANCE, LINALOOL, ALPHA-ISOMETHYL IONONE, HYDROXYCITRONELLAL, LIMONENE, CITRONELLOL, GERANIOL, HEXYL CINNAMAL.'}], 'item_description': None, 'popularity': '42', 'price': {'regularPrice': {'amount': {'value': 4.99, 'currency': 'USD'}}}, 'country_of_manufacture': None, 'country_of_origin': 'U.S.A.', 'description': {'html': ''}}, {'sku': '075638', 'name': 'STRAWBERRIES SALTED CHILI LIME', 'availability': '1', 'stock_status': 'OUT_OF_STOCK', 'only_x_left_in_stock': None, 'nutrition': [{'calories_per_serving': '200 ', 'details': [{'amount': '1.0 g', 'display_seq': 1, 'nutritional_item': 'Total Fat', 'percent_dv': '.01'}, {'amount': '0.5 g', 'display_seq': 2, 'nutritional_item': 'Saturated Fat', 'percent_dv': '.03'}, {'amount': '0 g', 'display_seq': 3, 'nutritional_item': 'Trans Fat', 'percent_dv': None}, {'amount': '0 mg', 'display_seq': 4, 'nutritional_item': 'Cholesterol', 'percent_dv': '0'}, {'amount': '320 mg', 'display_seq': 5, 'nutritional_item': 'Sodium', 'percent_dv': '.14'}, {'amount': '46 g', 'display_seq': 6, 'nutritional_item': 'Total Carbohydrate', 'percent_dv': '.17'}, {'amount': '5 g', 'display_seq': 7, 'nutritional_item': 'Dietary Fiber', 'percent_dv': '.18'}, {'amount': '37 g', 'display_seq': 8, 'nutritional_item': 'Total Sugars', 'percent_dv': None}, {'amount': '19 g Added Sugars', 'display_seq': 9, 'nutritional_item': 'Includes', 'percent_dv': '.38'}, {'amount': '2 g', 'display_seq': 10, 'nutritional_item': 'Protein', 'percent_dv': None}, {'amount': '0.0 mcg', 'display_seq': 11, 'nutritional_item': 'Vitamin D', 'percent_dv': '0'}, {'amount': '100 mg', 'display_seq': 12, 'nutritional_item': 'Calcium', 'percent_dv': '.08'}, {'amount': '1.3 mg', 'display_seq': 13, 'nutritional_item': 'Iron', 'percent_dv': '.08'}, {'amount': '170 mg', 'display_seq': 14, 'nutritional_item': 'Potassium', 'percent_dv': '.04'}], 'display_sequence': 0, 'panel_id': 1, 'panel_title': None, 'serving_size': '1 bag (57g)', 'servings_per_container': 'Serves 1'}], 'ingredients': [{'display_sequence': 1, 'ingredient': 'STRAWBERRIES'}, {'display_sequence': 2, 'ingredient': 'CANE SUGAR'}, {'display_sequence': 3, 'ingredient': 'CHILE SEASONING MIX (CANE SUGAR, CHILE FLAKES, SALT, CITRIC ACID [ACIDULANT], NATURAL FLAVOR)'}, {'display_sequence': 4, 'ingredient': 'CALCIUM LACTATE'}, {'display_sequence': 5, 'ingredient': 'LIME JUICE CONCENTRATE'}, {'display_sequence': 6, 'ingredient': 'NATURAL FLAVOR'}, {'display_sequence': 7, 'ingredient': 'VEGETABLE JUICE (COLOR)'}], 'item_description': None, 'popularity': '94', 'price': {'regularPrice': {'amount': {'value': 3.99, 'currency': 'USD'}}}, 'country_of_manufacture': None, 'country_of_origin': 'Product of Mexico', 'description': {'html': ''}}, {'sku': '072499', 'name': 'DRESSING BALSAMIC VINAIGRETTE', 'availability': '1', 'stock_status': 'OUT_OF_STOCK', 'only_x_left_in_stock': None, 'nutrition': [{'calories_per_serving': '90 ', 'details': [{'amount': '7 g', 'display_seq': 0, 'nutritional_item': 'Total Fat', 'percent_dv': '.09'}, {'amount': '0 g', 'display_seq': 1, 'nutritional_item': 'Saturated Fat', 'percent_dv': '0'}, {'amount': '0 g', 'display_seq': 2, 'nutritional_item': 'Trans Fat', 'percent_dv': None}, {'amount': '0 mg', 'display_seq': 3, 'nutritional_item': 'Cholesterol', 'percent_dv': '0'}, {'amount': '55 mg', 'display_seq': 4, 'nutritional_item': 'Sodium', 'percent_dv': '.02'}, {'amount': '6 g', 'display_seq': 5, 'nutritional_item': 'Total Carbohydrate', 'percent_dv': '.02'}, {'amount': '0 g', 'display_seq': 6, 'nutritional_item': 'Dietary Fiber', 'percent_dv': '0'}, {'amount': '6 g', 'display_seq': 7, 'nutritional_item': 'Total Sugars', 'percent_dv': None}, {'amount': '4 g Added Sugars', 'display_seq': 8, 'nutritional_item': 'Includes', 'percent_dv': '.08'}, {'amount': '0 g', 'display_seq': 9, 'nutritional_item': 'Protein', 'percent_dv': None}, {'amount': '0.0 mcg', 'display_seq': 10, 'nutritional_item': 'Vitamin D', 'percent_dv': '0'}, {'amount': '0 mg', 'display_seq': 11, 'nutritional_item': 'Calcium', 'percent_dv': '0'}, {'amount': '0.1 mg', 'display_seq': 12, 'nutritional_item': 'Iron', 'percent_dv': '0'}, {'amount': '20 mg', 'display_seq': 13, 'nutritional_item': 'Potassium', 'percent_dv': '0'}], 'display_sequence': 0, 'panel_id': 1, 'panel_title': None, 'serving_size': '2 Tbsp. (30mL)', 'servings_per_container': 'Serves about 12'}], 'ingredients': [{'display_sequence': 1, 'ingredient': 'WATER'}, {'display_sequence': 2, 'ingredient': 'BALSAMIC VINEGAR (WINE VINEGAR, CONCENTRATED GRAPE MUST)'}, {'display_sequence': 3, 'ingredient': 'CANOLA OIL'}, {'display_sequence': 4, 'ingredient': 'SUGAR'}, {'display_sequence': 5, 'ingredient': 'CONTAINS 2% OR LESS OF SALT'}, {'display_sequence': 6, 'ingredient': 'GARLIC POWDER'}, {'display_sequence': 7, 'ingredient': 'XANTHAN GUM'}], 'item_description': None, 'popularity': '117', 'price': {'regularPrice': {'amount': {'value': 2.79, 'currency': 'USD'}}}, 'country_of_manufacture': None, 'country_of_origin': 'Product of USA', 'description': {'html': ''}}, {'sku': '079060', 'name': 'MAISON BARBOULOT IGP PAYS DOC ROSE', 'availability': '1', 'stock_status': 'OUT_OF_STOCK', 'only_x_left_in_stock': None, 'nutrition': None, 'ingredients': None, 'item_description': None, 'popularity': '29', 'price': {'regularPrice': {'amount': {'value': 5.99, 'currency': 'USD'}}}, 'country_of_manufacture': None, 'country_of_origin': 'France', 'description': {'html': ''}}, {'sku': '060276', 'name': 'EMMA REICHART PINOT NOIR ROSE', 'availability': '1', 'stock_status': 'OUT_OF_STOCK', 'only_x_left_in_stock': None, 'nutrition': None, 'ingredients': None, 'item_description': None, 'popularity': '43', 'price': {'regularPrice': {'amount': {'value': 4.99, 'currency': 'USD'}}}, 'country_of_manufacture': None, 'country_of_origin': 'Germany', 'description': {'html': ''}}, {'sku': '078999', 'name': 'SUNDAY BRUNCH CHICKEN & BLUEBERRY WAFFLE RECIPE', 'availability': '1', 'stock_status': 'OUT_OF_STOCK', 'only_x_left_in_stock': None, 'nutrition': None, 'ingredients': [{'display_sequence': 1, 'ingredient': 'CHICKEN'}, {'display_sequence': 2, 'ingredient': 'BROWN RICE FLOUR'}, {'display_sequence': 3, 'ingredient': 'GLYCERIN'}, {'display_sequence': 4, 'ingredient': 'SWEETENED DRIED BLUEBERRIES (BLUEBERRIES, CANE SUGAR, SUNFLOWER OIL)'}, {'display_sequence': 5, 'ingredient': 'DRIED BACON (UNCURED BACON, Incidental Additive (SALT, SUGAR)'}, {'display_sequence': 6, 'ingredient': 'NATURAL FLAVOR'}, {'display_sequence': 7, 'ingredient': 'CANE MOLASSES'}, {'display_sequence': 8, 'ingredient': 'SALT (SALT, YELLOW PRUSSIATE OF SODA [YPS] (PROCESSING AID ONLY))'}, {'display_sequence': 9, 'ingredient': 'NATURAL MAPLE WOOD SMOKE FLAVOR WITH OTHER NATURAL FLAVORS (Incidental Additive (GLYCERIN, WATER) NATURAL FLAVOR)'}, {'display_sequence': 10, 'ingredient': 'ORGANIC APPLE CIDER VINEGAR POWDER (incidental additive (ORGANIC MALTODEXTRIN) ORGANIC APPLE CIDER VINEGAR)'}, {'display_sequence': 11, 'ingredient': 'MIXED TOCOPHEROLS (TO PRESERVE) (Incidental Additive (SILICON DIOXIDE (ANTI-CAKING)'}, {'display_sequence': 12, 'ingredient': 'SOYBEAN OIL) MIXED TOCOPHEROLS (TO PRESERVE)).'}], 'item_description': None, 'popularity': '19', 'price': {'regularPrice': {'amount': {'value': 3.49, 'currency': 'USD'}}}, 'country_of_manufacture': None, 'country_of_origin': 'Made in United States', 'description': {'html': ''}}, {'sku': '081225', 'name': 'PINEAPPLE TERIYAKI CHICKEN MEATBALLS', 'availability': '1', 'stock_status': 'OUT_OF_STOCK', 'only_x_left_in_stock': None, 'nutrition': [{'calories_per_serving': '160 ', 'details': [{'amount': '9 g', 'display_seq': 1, 'nutritional_item': 'Total Fat', 'percent_dv': '.12'}, {'amount': '2.0 g', 'display_seq': 2, 'nutritional_item': 'Saturated Fat', 'percent_dv': '.1'}, {'amount': '0 g', 'display_seq': 3, 'nutritional_item': 'Trans Fat', 'percent_dv': None}, {'amount': '65 mg', 'display_seq': 4, 'nutritional_item': 'Cholesterol', 'percent_dv': '.22'}, {'amount': '440 mg', 'display_seq': 5, 'nutritional_item': 'Sodium', 'percent_dv': '.19'}, {'amount': '8 g', 'display_seq': 6, 'nutritional_item': 'Total Carbohydrate', 'percent_dv': '.03'}, {'amount': '0 g', 'display_seq': 7, 'nutritional_item': 'Dietary Fiber', 'percent_dv': '0'}, {'amount': '5 g', 'display_seq': 8, 'nutritional_item': 'Total Sugars', 'percent_dv': None}, {'amount': '4 g Added Sugars', 'display_seq': 9, 'nutritional_item': 'Includes', 'percent_dv': '.08'}, {'amount': '13 g', 'display_seq': 10, 'nutritional_item': 'Protein', 'percent_dv': None}, {'amount': '0.1 mcg', 'display_seq': 11, 'nutritional_item': 'Vitamin D', 'percent_dv': '0'}, {'amount': '10 mg', 'display_seq': 12, 'nutritional_item': 'Calcium', 'percent_dv': '0'}, {'amount': '1.0 mg', 'display_seq': 13, 'nutritional_item': 'Iron', 'percent_dv': '.06'}, {'amount': '370 mg', 'display_seq': 14, 'nutritional_item': 'Potassium', 'percent_dv': '.08'}], 'display_sequence': 0, 'panel_id': 1, 'panel_title': None, 'serving_size': '6 meatballs (85g)', 'servings_per_container': 'Serves about 4'}], 'ingredients': [{'display_sequence': 1, 'ingredient': 'CHICKEN'}, {'display_sequence': 2, 'ingredient': 'DRIED PINEAPPLE (PINEAPPLE, SUGAR, CITRIC ACID [ACIDIFIER])'}, {'display_sequence': 3, 'ingredient': 'CONTAINS 2% OR LESS OF TAMARI SOY SAUCE POWDER (TAMARI SOY SAUCE [SOYBEANS, SALT], MALTODEXTRIN, SALT)'}, {'display_sequence': 4, 'ingredient': 'MIRIN SWEET COOKING RICE WINE (WATER, SUGAR, RICE, ETHYL ALCOHOL, SALT, LACTIC ACID)'}, {'display_sequence': 5, 'ingredient': 'CARAMELIZED ONIONS'}, {'display_sequence': 6, 'ingredient': 'SEA SALT'}, {'display_sequence': 7, 'ingredient': 'SUGAR'}, {'display_sequence': 8, 'ingredient': 'VINEGAR POWDER'}, {'display_sequence': 9, 'ingredient': 'PINEAPPLE JUICE CONCENTRATE'}, {'display_sequence': 10, 'ingredient': 'BLACK PEPPER'}, {'display_sequence': 11, 'ingredient': 'GROUND GINGER'}, {'display_sequence': 12, 'ingredient': 'GARLIC POWDER'}, {'display_sequence': 13, 'ingredient': 'ROSEMARY EXTRACT (TO PRESERVE).'}], 'item_description': None, 'popularity': '287', 'price': {'regularPrice': {'amount': {'value': 4.29, 'currency': 'USD'}}}, 'country_of_manufacture': None, 'country_of_origin': 'Made in USA', 'description': {'html': ''}}, {'sku': '080359', 'name': 'NIGHT CREAM', 'availability': '1', 'stock_status': 'OUT_OF_STOCK', 'only_x_left_in_stock': None, 'nutrition': None, 'ingredients': [{'display_sequence': 1, 'ingredient': ' WATER, BUTYROSPERMUM PARKII (SHEA) BUTTER, CETYL ALCOHOL, GLYCERIN, GLYCERYL STEARATE, PEG-100 STEARATE, CAPRYLIC/CAPRIC TRIGLYCERIDE, DICAPRYLYL CARBONATE, SIMMONDSIA CHINENSIS (JOJOBA) SEED OIL, CHAMOMILLA RECUTITA (MATRICARIA) FLOWER EXTRACT, CHONDRUS CRISPUS (IRISH SEA MOSS) EXTRACT, GLYCINE SOJA (SOYBEAN) STEROLS, HELICHRYSUM ITALICUM EXTRACT, PHASEOLUS ANGULARIS SEED EXTRACT, ARGANIA SPINOSA (ARGAN) KERNEL OIL, VETIVERIA ZIZANIOIDES ROOT OIL, HELIANTHUS ANNUUS (SUNFLOWER) SEED OIL, MACADAMIA TERNIFOLIA (MACADAMIA) SEED OIL, OLEA EUROPAEA (OLIVE) FRUIT OIL, SCLEROCARYA BIRREA (MARULA) SEED OIL, BACILLUS/CORDYCEPS SINENSIS/GANODERMA LUCIDUM/INONOTUS OBLIQUUS/LENTINUS EDODES/PHELLINUS LINTEUS/SCHIZOPHYLLUM COMMUNE/TRICHOLOMA MATSUTAKE EXTRACT FERMENT FILTRATE, LACTOBACILLUS FERMENT, LACTOBACILLUS/CENTELLA ASIATICA/GLEDITSIA SINENSIS THORN/HOUTTUYNIA CORDATA EXTRACT/PHELLODENDRON AMURENSE BARK/POLYGONUM CUSPIDATUM ROOT/PRUNELLA VULGARIS/TORILIS JAPONICA EXTRACT FERMENT FILTRATE, LACTOBACILLUS/RICE FERMENT FILTRATE, SACCHAROMYCES/CAMELLIA SINENSIS EXTRACT FERMENT FILTRATE, TOCOPHERYL ACETATE, PHENOXYETHANOL, BISABOLOL, XYLITYLGLUCOSIDE, ACRYLATES/C10-30 ALKYL ACRYLATE CROSSPOLYMER, ANHYDROXYLITOL, PENTYLENE GLYCOL, ETHYLHEXYLGLYCERIN, CAFFEINE, DIPOTASSIUM GLYCYRRHIZATE, SODIUM HYALURONATE, XANTHAN GUM, BUTYLENE GLYCOL, XYLITOL, PHOSPHOLIPIDS, SODIUM HYDROXIDE, DISODIUM EDTA, TETRAHEXYLDECYL ASCORBATE, SPHINGOLIPIDS, LINOLEIC ACID, ACETIC ACID, POTASSIUM SORBATE, ACETYL HEXAPEPTIDE-8.'}], 'item_description': None, 'popularity': '131', 'price': {'regularPrice': {'amount': {'value': 9.99, 'currency': 'USD'}}}, 'country_of_manufacture': None, 'country_of_origin': 'U.S.A.', 'description': {'html': ''}}, {'sku': '079986', 'name': 'BAG CANVAS MINI PASTEL', 'availability': '1', 'stock_status': 'OUT_OF_STOCK', 'only_x_left_in_stock': None, 'nutrition': None, 'ingredients': None, 'item_description': None, 'popularity': '519', 'price': {'regularPrice': {'amount': {'value': 2.99, 'currency': 'USD'}}}, 'country_of_manufacture': None, 'country_of_origin': 'Vietnam', 'description': {'html': ''}}, {'sku': '079817', 'name': 'POTATO CHIPS BUTTER GARLIC', 'availability': '1', 'stock_status': 'OUT_OF_STOCK', 'only_x_left_in_stock': None, 'nutrition': [{'calories_per_serving': '140 ', 'details': [{'amount': '9 g', 'display_seq': 1, 'nutritional_item': 'Total Fat', 'percent_dv': '.12'}, {'amount': '0.5 g', 'display_seq': 2, 'nutritional_item': 'Saturated Fat', 'percent_dv': '.03'}, {'amount': '0 g', 'display_seq': 3, 'nutritional_item': 'Trans Fat', 'percent_dv': None}, {'amount': '0 mg', 'display_seq': 4, 'nutritional_item': 'Cholesterol', 'percent_dv': '0'}, {'amount': '200 mg', 'display_seq': 5, 'nutritional_item': 'Sodium', 'percent_dv': '.09'}, {'amount': '16 g', 'display_seq': 6, 'nutritional_item': 'Total Carbohydrate', 'percent_dv': '.06'}, {'amount': '2 g', 'display_seq': 7, 'nutritional_item': 'Dietary Fiber', 'percent_dv': '.07'}, {'amount': '1 g', 'display_seq': 8, 'nutritional_item': 'Total Sugars', 'percent_dv': None}, {'amount': '0 g Added Sugars', 'display_seq': 9, 'nutritional_item': 'Includes', 'percent_dv': '0'}, {'amount': '2 g', 'display_seq': 10, 'nutritional_item': 'Protein', 'percent_dv': None}, {'amount': '0.0 mcg', 'display_seq': 11, 'nutritional_item': 'Vitamin D', 'percent_dv': '0'}, {'amount': '0 mg', 'display_seq': 12, 'nutritional_item': 'Calcium', 'percent_dv': '0'}, {'amount': '0.4 mg', 'display_seq': 13, 'nutritional_item': 'Iron', 'percent_dv': '.02'}, {'amount': '320 mg', 'display_seq': 14, 'nutritional_item': 'Potassium', 'percent_dv': '.06'}], 'display_sequence': 0, 'panel_id': 1, 'panel_title': None, 'serving_size': '1 oz (28g/about 13 chips)', 'servings_per_container': 'Serves about 6'}], 'ingredients': [{'display_sequence': 1, 'ingredient': 'POTATOES'}, {'display_sequence': 2, 'ingredient': 'SUNFLOWER OIL'}, {'display_sequence': 3, 'ingredient': 'LACTOSE'}, {'display_sequence': 4, 'ingredient': 'GARLIC'}, {'display_sequence': 5, 'ingredient': 'SALT'}, {'display_sequence': 6, 'ingredient': 'SUGAR'}, {'display_sequence': 7, 'ingredient': 'YEAST EXTRACT'}, {'display_sequence': 8, 'ingredient': 'ONION'}, {'display_sequence': 9, 'ingredient': 'BUTTERMILK POWDER'}, {'display_sequence': 10, 'ingredient': 'BUTTER POWDER (BUTTER [CREAM, SALT], SKIM MILK POWDER, TRISODIUM PHOSPHATE, TRISODIUM CITRATE)'}, {'display_sequence': 11, 'ingredient': 'MUSHROOM EXTRACT'}, {'display_sequence': 12, 'ingredient': 'NATURAL FLAVOR'}, {'display_sequence': 13, 'ingredient': 'PARSLEY'}, {'display_sequence': 14, 'ingredient': 'LEMON JUICE POWDER (MALTODEXTRIN, LEMON JUICE)'}, {'display_sequence': 15, 'ingredient': 'CITRIC ACID (ACIDULANT).'}], 'item_description': None, 'popularity': '189', 'price': {'regularPrice': {'amount': {'value': 2.99, 'currency': 'USD'}}}, 'country_of_manufacture': None, 'country_of_origin': 'Product of Ireland', 'description': {'html': ''}}], 'total_count': 25722, 'page_info': {'current_page': 1, 'page_size': 100, 'total_pages': 258}}}}\n"
     ]
    }
   ],
   "source": [
    "# Just mimicking the Haskell one\n",
    "\n",
    "store_code = 706\n",
    "\n",
    "headers = {\n",
    "    \"accept\": \"*/*\",\n",
    "    \"accept-language\": \"en-US,en;q=0.9\",\n",
    "    \"content-type\": \"application/json\",\n",
    "    \"user-agent\": \"Mozilla/5.0 (Macintosh; Intel Mac OS X 10_15_7) AppleWebKit/537.36 (KHTML, like Gecko) Chrome/136.0.0.0 Safari/537.36\",\n",
    "}\n",
    "\n",
    "page_idx=1\n",
    "query_product_page_filled = query_product_page.format(page_size, page_idx)\n",
    "query = {\n",
    "    \"operationName\": \"SearchProduct\",\n",
    "    \"variables\": {\n",
    "        \"storeCode\": \"706\",\n",
    "        \"published\": \"1\",\n",
    "        \"currentPage\": 1,\n",
    "        \"pageSize\": 100\n",
    "    },\n",
    "    \"query\": query_product_page_filled\n",
    "}\n",
    "\n",
    "response = requests.post(url, json=query, headers=headers)\n",
    "\n",
    "if response.status_code == 200:\n",
    "    data = response.json()\n",
    "    # Process the data as needed\n",
    "    print(data)\n",
    "else:\n",
    "    print(f\"Request failed with status code {response.status_code}\")"
   ]
  },
  {
   "cell_type": "code",
   "execution_count": 184,
   "id": "d271303e",
   "metadata": {},
   "outputs": [
    {
     "data": {
      "text/plain": [
       "258"
      ]
     },
     "execution_count": 184,
     "metadata": {},
     "output_type": "execute_result"
    }
   ],
   "source": [
    "num_pages"
   ]
  },
  {
   "cell_type": "code",
   "execution_count": 150,
   "id": "404e08ab",
   "metadata": {},
   "outputs": [
    {
     "data": {
      "text/plain": [
       "100"
      ]
     },
     "execution_count": 150,
     "metadata": {},
     "output_type": "execute_result"
    }
   ],
   "source": [
    "page_size"
   ]
  },
  {
   "cell_type": "code",
   "execution_count": null,
   "id": "3e0aaa9f",
   "metadata": {},
   "outputs": [],
   "source": [
    "# all_items_hp = []\n",
    "# # Last run time: 5m 47.0s!\n",
    "# # Page 0 is identical to page 1!!\n",
    "# for page_idx in range(1, num_pages+1):\n",
    "    \n",
    "#     query_product_page_filled = query_product_page.format(page_size, page_idx)\n",
    "#     query_page_i = {\n",
    "#         \"operationName\": \"SearchProduct\",\n",
    "#         \"variables\": {\n",
    "#             \"storeCode\": \"706\",\n",
    "#             \"published\": \"1\",\n",
    "#             \"currentPage\": 1,\n",
    "#             \"pageSize\": 100\n",
    "#         },\n",
    "#         \"query\": query_product_page_filled\n",
    "#     }\n",
    "#     # query_page_i = {\"query\": query_product_page.format(page_size, page_idx)}\n",
    "#     product_page = requests.post(url, json=query_page_i, headers=headers)\n",
    "#     product_page = product_page.json()\n",
    "#     all_items_hp = all_items_hp + product_page['data']['products']['items']\n"
   ]
  },
  {
   "cell_type": "code",
   "execution_count": null,
   "id": "17a98cdf",
   "metadata": {},
   "outputs": [
    {
     "data": {
      "text/plain": [
       "25722"
      ]
     },
     "execution_count": 154,
     "metadata": {},
     "output_type": "execute_result"
    }
   ],
   "source": [
    "# len(all_items_hp) # 25722 on 06/29/2025"
   ]
  },
  {
   "cell_type": "markdown",
   "id": "01386ef1",
   "metadata": {},
   "source": [
    "## Converting json output to `polars`"
   ]
  },
  {
   "cell_type": "markdown",
   "id": "3de39fac",
   "metadata": {},
   "source": [
    "### Hyde Park list"
   ]
  },
  {
   "cell_type": "code",
   "execution_count": 156,
   "id": "5baefda7",
   "metadata": {},
   "outputs": [],
   "source": [
    "skus = [item['sku'] for item in all_items_hp]"
   ]
  },
  {
   "cell_type": "code",
   "execution_count": 157,
   "id": "8b44f4fc",
   "metadata": {},
   "outputs": [
    {
     "data": {
      "text/plain": [
       "25722"
      ]
     },
     "execution_count": 157,
     "metadata": {},
     "output_type": "execute_result"
    }
   ],
   "source": [
    "len(skus)"
   ]
  },
  {
   "cell_type": "code",
   "execution_count": 158,
   "id": "6c234654",
   "metadata": {},
   "outputs": [
    {
     "data": {
      "text/plain": [
       "23150"
      ]
     },
     "execution_count": 158,
     "metadata": {},
     "output_type": "execute_result"
    }
   ],
   "source": [
    "len(set(skus))"
   ]
  },
  {
   "cell_type": "code",
   "execution_count": 160,
   "id": "b4d05d24",
   "metadata": {},
   "outputs": [
    {
     "data": {
      "text/plain": [
       "258"
      ]
     },
     "execution_count": 160,
     "metadata": {},
     "output_type": "execute_result"
    }
   ],
   "source": [
    "num_pages"
   ]
  },
  {
   "cell_type": "code",
   "execution_count": 165,
   "id": "80fc6aa7",
   "metadata": {},
   "outputs": [],
   "source": [
    "from collections import Counter"
   ]
  },
  {
   "cell_type": "code",
   "execution_count": 169,
   "id": "48dccce1",
   "metadata": {},
   "outputs": [],
   "source": [
    "skus = [i['sku'] for i in all_items_hp]\n",
    "skus_ct = Counter(skus)"
   ]
  },
  {
   "cell_type": "code",
   "execution_count": 182,
   "id": "3b3dc172",
   "metadata": {},
   "outputs": [],
   "source": [
    "# skus_ct"
   ]
  },
  {
   "cell_type": "code",
   "execution_count": 180,
   "id": "2f5f2c0d",
   "metadata": {},
   "outputs": [
    {
     "data": {
      "text/plain": [
       "2572"
      ]
     },
     "execution_count": 180,
     "metadata": {},
     "output_type": "execute_result"
    }
   ],
   "source": [
    "sum([1 if i==2 else 0 for i in skus_ct.values()])"
   ]
  },
  {
   "cell_type": "code",
   "execution_count": 183,
   "id": "0fd2ffa1",
   "metadata": {},
   "outputs": [
    {
     "data": {
      "text/plain": [
       "[{'sku': '007363',\n",
       "  'name': 'JAGERMEISTER LIQUEUR 750ML',\n",
       "  'availability': '1',\n",
       "  'stock_status': 'OUT_OF_STOCK',\n",
       "  'only_x_left_in_stock': None,\n",
       "  'nutrition': None,\n",
       "  'ingredients': None,\n",
       "  'item_description': None,\n",
       "  'popularity': '0',\n",
       "  'price': {'regularPrice': {'amount': {'value': 18.99, 'currency': 'USD'}}},\n",
       "  'country_of_manufacture': None,\n",
       "  'country_of_origin': None,\n",
       "  'description': {'html': ''}},\n",
       " {'sku': '007363',\n",
       "  'name': 'JAGERMEISTER LIQUEUR 750ML',\n",
       "  'availability': '1',\n",
       "  'stock_status': 'OUT_OF_STOCK',\n",
       "  'only_x_left_in_stock': None,\n",
       "  'nutrition': None,\n",
       "  'ingredients': None,\n",
       "  'item_description': None,\n",
       "  'popularity': '0',\n",
       "  'price': {'regularPrice': {'amount': {'value': 18.99, 'currency': 'USD'}}},\n",
       "  'country_of_manufacture': None,\n",
       "  'country_of_origin': None,\n",
       "  'description': {'html': ''}}]"
      ]
     },
     "execution_count": 183,
     "metadata": {},
     "output_type": "execute_result"
    }
   ],
   "source": [
    "[i for i in all_items_hp if i['sku']=='007363']"
   ]
  },
  {
   "cell_type": "code",
   "execution_count": 168,
   "id": "020845d7",
   "metadata": {},
   "outputs": [
    {
     "data": {
      "text/plain": [
       "25722"
      ]
     },
     "execution_count": 168,
     "metadata": {},
     "output_type": "execute_result"
    }
   ],
   "source": [
    "len(all_items_hp)"
   ]
  },
  {
   "cell_type": "markdown",
   "id": "0c3eff0f",
   "metadata": {},
   "source": [
    "Uh-oh, remove duplicates and sponges."
   ]
  },
  {
   "cell_type": "markdown",
   "id": "0b08f876",
   "metadata": {},
   "source": [
    "Oh, sku 10032021 \"POP UP SPONGES\" for some reason contains information for pizza crusts? The problematic `\"item_description\": \"Broccoli & Kale Pizza Crust description\"`."
   ]
  },
  {
   "cell_type": "code",
   "execution_count": 191,
   "id": "ae6833f3",
   "metadata": {},
   "outputs": [],
   "source": [
    "all_items_hp_fixed = [item for item in all_items_hp if item['sku']!='10032021']"
   ]
  },
  {
   "cell_type": "code",
   "execution_count": 192,
   "id": "1e026257",
   "metadata": {},
   "outputs": [
    {
     "data": {
      "text/plain": [
       "25721"
      ]
     },
     "execution_count": 192,
     "metadata": {},
     "output_type": "execute_result"
    }
   ],
   "source": [
    "len(all_items_hp_fixed)"
   ]
  },
  {
   "cell_type": "markdown",
   "id": "0c41c6df",
   "metadata": {},
   "source": [
    "Save Hyde Park json."
   ]
  },
  {
   "cell_type": "code",
   "execution_count": null,
   "id": "f584ef65",
   "metadata": {},
   "outputs": [],
   "source": [
    "# import json\n",
    "# all_items_hp_fixed_raw_path = \"data/all_items_hp_fixed_raw.json\"\n",
    "# with open(all_items_hp_fixed_raw_path, \"w\") as f:\n",
    "#        json.dump(all_items_hp_fixed, f, indent=4)\n",
    "\n"
   ]
  },
  {
   "cell_type": "code",
   "execution_count": 196,
   "id": "75640a54",
   "metadata": {},
   "outputs": [],
   "source": [
    "import polars as pl"
   ]
  },
  {
   "cell_type": "code",
   "execution_count": null,
   "id": "21dfadf0",
   "metadata": {},
   "outputs": [
    {
     "data": {
      "text/html": [
       "<div><style>\n",
       ".dataframe > thead > tr,\n",
       ".dataframe > tbody > tr {\n",
       "  text-align: right;\n",
       "  white-space: pre-wrap;\n",
       "}\n",
       "</style>\n",
       "<small>shape: (5, 14)</small><table border=\"1\" class=\"dataframe\"><thead><tr><th>sku</th><th>name</th><th>availability</th><th>stock_status</th><th>only_x_left_in_stock</th><th>nutrition</th><th>ingredients</th><th>item_description</th><th>popularity</th><th>country_of_manufacture</th><th>country_of_origin</th><th>price.regularPrice.amount.value</th><th>price.regularPrice.amount.currency</th><th>description.html</th></tr><tr><td>str</td><td>str</td><td>str</td><td>str</td><td>null</td><td>list[struct[7]]</td><td>list[struct[2]]</td><td>null</td><td>str</td><td>null</td><td>str</td><td>f64</td><td>str</td><td>str</td></tr></thead><tbody><tr><td>&quot;080626&quot;</td><td>&quot;R-SALAD BABY RED BUTTER &amp; ARUG…</td><td>&quot;1&quot;</td><td>&quot;OUT_OF_STOCK&quot;</td><td>null</td><td>[{&quot;15 &quot;,[{&quot;0 g&quot;,1,&quot;Total Fat&quot;,&quot;0&quot;}, {&quot;0 g&quot;,2,&quot;Saturated Fat&quot;,&quot;0&quot;}, … {&quot;250 mg&quot;,14,&quot;Potassium&quot;,&quot;.06&quot;}],0,1,&quot;per serving&quot;,&quot;1/2 package (85g)&quot;,&quot;Serves 2&quot;}, {&quot;30 &quot;,[{&quot;0.5 g&quot;,1,&quot;Total Fat&quot;,&quot;.01&quot;}, {&quot;0 g&quot;,2,&quot;Saturated Fat&quot;,&quot;0&quot;}, … {&quot;490 mg&quot;,14,&quot;Potassium&quot;,&quot;.1&quot;}],1,2,&quot;per container&quot;,&quot;1/2 package (85g)&quot;,&quot;Serves 2&quot;}]</td><td>[{1,&quot;ORGANIC BABY RED BUTTER LETTUCE&quot;}, {2,&quot;ORGANIC BABY ARUGULA&quot;}]</td><td>null</td><td>&quot;107&quot;</td><td>null</td><td>&quot;Product of USA&quot;</td><td>2.49</td><td>&quot;USD&quot;</td><td>&quot;&quot;</td></tr><tr><td>&quot;097210&quot;</td><td>&quot;TURBINADO RAW CANE SUGAR&quot;</td><td>&quot;1&quot;</td><td>&quot;OUT_OF_STOCK&quot;</td><td>null</td><td>[{&quot;30&quot;,[{&quot;0 g&quot;,1,&quot;Total Fat&quot;,&quot;0&quot;}, {&quot;0 g&quot;,2,&quot;Saturated Fat&quot;,&quot;0&quot;}, … {&quot;0 mg&quot;,14,&quot;Potassium&quot;,&quot;0&quot;}],0,1,&quot;&quot;,&quot;2 tsp (8 g)&quot;,&quot;Serves 85&quot;}]</td><td>[{1,&quot;TURBINADO RAW CANE SUGAR&quot;}]</td><td>null</td><td>&quot;95&quot;</td><td>null</td><td>&quot;Product of Malawi Product of&quot;</td><td>3.49</td><td>&quot;USD&quot;</td><td>&quot;&quot;</td></tr><tr><td>&quot;082077&quot;</td><td>&quot;SALSA MANGO PINEAPPLE PICO DE …</td><td>&quot;1&quot;</td><td>&quot;OUT_OF_STOCK&quot;</td><td>null</td><td>[{&quot;10 &quot;,[{&quot;0 g&quot;,1,&quot;Total Fat&quot;,&quot;0&quot;}, {&quot;0 g&quot;,2,&quot;Saturated Fat&quot;,&quot;0&quot;}, … {&quot;50 mg&quot;,14,&quot;Potassium&quot;,&quot;.02&quot;}],0,1,null,&quot;2 Tbsp. (30g)&quot;,&quot;Serves about 11&quot;}]</td><td>[{1,&quot;TOMATO&quot;}, {2,&quot;YELLOW ONION&quot;}, … {8,&quot;SALT&quot;}]</td><td>null</td><td>&quot;236&quot;</td><td>null</td><td>&quot;Made in United States&quot;</td><td>3.99</td><td>&quot;USD&quot;</td><td>&quot;&quot;</td></tr><tr><td>&quot;080470&quot;</td><td>&quot;MARSHMALLOWS STRAWBERRY &amp; WATE…</td><td>&quot;1&quot;</td><td>&quot;OUT_OF_STOCK&quot;</td><td>null</td><td>[{&quot;100 &quot;,[{&quot;0 g&quot;,1,&quot;Total Fat&quot;,&quot;0&quot;}, {&quot;0 g&quot;,2,&quot;Saturated Fat&quot;,&quot;0&quot;}, … {&quot;0 mg&quot;,14,&quot;Potassium&quot;,&quot;0&quot;}],0,1,null,&quot;6 pieces (30g)&quot;,&quot;Serves about 8&quot;}]</td><td>[{1,&quot;GLUCOSE-FRUCTOSE SYRUP&quot;}, {2,&quot;SUGAR&quot;}, … {9,&quot;WATERMELON POWDER (MALTODEXTRIN, WATERMELON JUICE CONCENTRATE, CITRIC ACID [ACIDIFIER]).&quot;}]</td><td>null</td><td>&quot;371&quot;</td><td>null</td><td>&quot;Product of Spain&quot;</td><td>2.99</td><td>&quot;USD&quot;</td><td>&quot;&quot;</td></tr><tr><td>&quot;073162&quot;</td><td>&quot;CROISSANT CHOCOLATE&quot;</td><td>&quot;1&quot;</td><td>&quot;OUT_OF_STOCK&quot;</td><td>null</td><td>[{&quot;350 &quot;,[{&quot;20 g&quot;,1,&quot;Total Fat&quot;,&quot;.26&quot;}, {&quot;12 g&quot;,2,&quot;Saturated Fat&quot;,&quot;.6&quot;}, … {&quot;140 mg&quot;,14,&quot;Potassium&quot;,&quot;.02&quot;}],0,1,&quot;Per serving&quot;,&quot;1 croissant (83g)&quot;,&quot;Serves 2&quot;}, {&quot;710 &quot;,[{&quot;40 g&quot;,1,&quot;Total Fat&quot;,&quot;.51&quot;}, {&quot;23 g&quot;,2,&quot;Saturated Fat&quot;,&quot;1.15&quot;}, … {&quot;280 mg&quot;,14,&quot;Potassium&quot;,&quot;.06&quot;}],1,2,&quot;Per container&quot;,&quot;1 croissant (83g)&quot;,&quot;Serves 2&quot;}]</td><td>[{1,&quot;UNBLEACHED WHEAT FLOUR (WHEAT FLOUR, ENZYME)&quot;}, {2,&quot;WATER&quot;}, … {12,&quot;ENZYMES.&quot;}]</td><td>null</td><td>&quot;158&quot;</td><td>null</td><td>&quot;Product of USA&quot;</td><td>3.49</td><td>&quot;USD&quot;</td><td>&quot;&quot;</td></tr></tbody></table></div>"
      ],
      "text/plain": [
       "shape: (5, 14)\n",
       "┌────────┬────────────┬────────────┬───────────┬───┬───────────┬───────────┬───────────┬───────────┐\n",
       "│ sku    ┆ name       ┆ availabili ┆ stock_sta ┆ … ┆ country_o ┆ price.reg ┆ price.reg ┆ descripti │\n",
       "│ ---    ┆ ---        ┆ ty         ┆ tus       ┆   ┆ f_origin  ┆ ularPrice ┆ ularPrice ┆ on.html   │\n",
       "│ str    ┆ str        ┆ ---        ┆ ---       ┆   ┆ ---       ┆ .amount.v ┆ .amount.c ┆ ---       │\n",
       "│        ┆            ┆ str        ┆ str       ┆   ┆ str       ┆ alu…      ┆ urr…      ┆ str       │\n",
       "│        ┆            ┆            ┆           ┆   ┆           ┆ ---       ┆ ---       ┆           │\n",
       "│        ┆            ┆            ┆           ┆   ┆           ┆ f64       ┆ str       ┆           │\n",
       "╞════════╪════════════╪════════════╪═══════════╪═══╪═══════════╪═══════════╪═══════════╪═══════════╡\n",
       "│ 080626 ┆ R-SALAD    ┆ 1          ┆ OUT_OF_ST ┆ … ┆ Product   ┆ 2.49      ┆ USD       ┆           │\n",
       "│        ┆ BABY RED   ┆            ┆ OCK       ┆   ┆ of USA    ┆           ┆           ┆           │\n",
       "│        ┆ BUTTER &   ┆            ┆           ┆   ┆           ┆           ┆           ┆           │\n",
       "│        ┆ ARUG…      ┆            ┆           ┆   ┆           ┆           ┆           ┆           │\n",
       "│ 097210 ┆ TURBINADO  ┆ 1          ┆ OUT_OF_ST ┆ … ┆ Product   ┆ 3.49      ┆ USD       ┆           │\n",
       "│        ┆ RAW CANE   ┆            ┆ OCK       ┆   ┆ of Malawi ┆           ┆           ┆           │\n",
       "│        ┆ SUGAR      ┆            ┆           ┆   ┆ Product   ┆           ┆           ┆           │\n",
       "│        ┆            ┆            ┆           ┆   ┆ of        ┆           ┆           ┆           │\n",
       "│ 082077 ┆ SALSA      ┆ 1          ┆ OUT_OF_ST ┆ … ┆ Made in   ┆ 3.99      ┆ USD       ┆           │\n",
       "│        ┆ MANGO      ┆            ┆ OCK       ┆   ┆ United    ┆           ┆           ┆           │\n",
       "│        ┆ PINEAPPLE  ┆            ┆           ┆   ┆ States    ┆           ┆           ┆           │\n",
       "│        ┆ PICO DE …  ┆            ┆           ┆   ┆           ┆           ┆           ┆           │\n",
       "│ 080470 ┆ MARSHMALLO ┆ 1          ┆ OUT_OF_ST ┆ … ┆ Product   ┆ 2.99      ┆ USD       ┆           │\n",
       "│        ┆ WS         ┆            ┆ OCK       ┆   ┆ of Spain  ┆           ┆           ┆           │\n",
       "│        ┆ STRAWBERRY ┆            ┆           ┆   ┆           ┆           ┆           ┆           │\n",
       "│        ┆ & WATE…    ┆            ┆           ┆   ┆           ┆           ┆           ┆           │\n",
       "│ 073162 ┆ CROISSANT  ┆ 1          ┆ OUT_OF_ST ┆ … ┆ Product   ┆ 3.49      ┆ USD       ┆           │\n",
       "│        ┆ CHOCOLATE  ┆            ┆ OCK       ┆   ┆ of USA    ┆           ┆           ┆           │\n",
       "└────────┴────────────┴────────────┴───────────┴───┴───────────┴───────────┴───────────┴───────────┘"
      ]
     },
     "execution_count": 198,
     "metadata": {},
     "output_type": "execute_result"
    }
   ],
   "source": [
    "df_hp = pl.json_normalize(all_items_hp_fixed)\n",
    "df_hp.head(5)"
   ]
  },
  {
   "cell_type": "markdown",
   "id": "e88d9203",
   "metadata": {},
   "source": [
    "Beyond just dumping each json object from `all_items_fixed` into `pl.json_normalize()`, we also need to further handle the `nutrition` and `ingredients` dictionaries."
   ]
  },
  {
   "cell_type": "code",
   "execution_count": null,
   "id": "4cb2afbd",
   "metadata": {},
   "outputs": [],
   "source": [
    "# df_all_items_raw.write_csv('data/all_items_raw.csv')\n",
    "# # Nested columns 2 and 3 do not work with CSV"
   ]
  },
  {
   "cell_type": "code",
   "execution_count": null,
   "id": "418e611d",
   "metadata": {},
   "outputs": [],
   "source": [
    "# import json\n",
    "# all_items_fixed_raw_path = \"data/all_items_fixed_raw.json\"\n",
    "# with open(all_items_fixed_raw_path, \"w\") as f:\n",
    "#        json.dump(all_items_fixed, f, indent=4)\n",
    "\n"
   ]
  },
  {
   "cell_type": "markdown",
   "id": "bfa4bde3",
   "metadata": {},
   "source": [
    "Every description is empty html???"
   ]
  },
  {
   "cell_type": "markdown",
   "id": "6bf6f940",
   "metadata": {},
   "source": [
    "Let's try and isolate only food items."
   ]
  },
  {
   "cell_type": "code",
   "execution_count": 199,
   "id": "80a4b77c",
   "metadata": {},
   "outputs": [],
   "source": [
    "nuts = [item['nutrition'] for item in all_items_hp_fixed]"
   ]
  },
  {
   "cell_type": "code",
   "execution_count": null,
   "id": "8a2746de",
   "metadata": {},
   "outputs": [],
   "source": [
    "# Get only items with non-empty nutrition information\n",
    "# This will be criterion for what counts as \"food\""
   ]
  },
  {
   "cell_type": "code",
   "execution_count": 203,
   "id": "29047ce0",
   "metadata": {},
   "outputs": [],
   "source": [
    "# nut_lens = [len(nut) for nut in nuts]"
   ]
  },
  {
   "cell_type": "markdown",
   "id": "ed6f42d1",
   "metadata": {},
   "source": [
    "#### Getting only the values we need from the json, making it relational"
   ]
  },
  {
   "cell_type": "code",
   "execution_count": null,
   "id": "e0e94425",
   "metadata": {},
   "outputs": [],
   "source": [
    "import json\n",
    "import polars as pl"
   ]
  },
  {
   "cell_type": "code",
   "execution_count": 204,
   "id": "7d4373f2",
   "metadata": {},
   "outputs": [],
   "source": [
    "with open('data/all_items_hp_fixed_raw.json', 'r') as f:\n",
    "    tjhp_raw = json.load(f)"
   ]
  },
  {
   "cell_type": "markdown",
   "id": "50442ff7",
   "metadata": {},
   "source": [
    "Recall that the `item_description` field is `null` for just about every entry except one where it is instead the unrelated `Broccoli & Kale Pizza Crust description`."
   ]
  },
  {
   "cell_type": "code",
   "execution_count": null,
   "id": "89cbc628",
   "metadata": {},
   "outputs": [],
   "source": [
    "# tj_raw = [item for item in tj_raw if item['item_description'] != 'Broccoli & Kale Pizza Crust description']"
   ]
  },
  {
   "cell_type": "code",
   "execution_count": null,
   "id": "5d77512f",
   "metadata": {},
   "outputs": [],
   "source": [
    "tjhp = pl.DataFrame(tjhp_raw)"
   ]
  },
  {
   "cell_type": "markdown",
   "id": "99ee952b",
   "metadata": {},
   "source": [
    "Need to:\n",
    "\n",
    "* Remove rows with null `nutrition`\n",
    "* Remove useless fields (`item_description`, `description`)\n",
    "* Drop duplicate rows\n",
    "* Turn nested fields into \n",
    "    * lists (ingredients)\n",
    "    * individual and possibly sparse columns (fiber, protein, calories)"
   ]
  },
  {
   "cell_type": "code",
   "execution_count": 206,
   "id": "5c22ea12",
   "metadata": {},
   "outputs": [],
   "source": [
    "tjhp = tjhp.drop(['item_description', 'description'])"
   ]
  },
  {
   "cell_type": "code",
   "execution_count": 207,
   "id": "64bab8d9",
   "metadata": {},
   "outputs": [
    {
     "data": {
      "text/plain": [
       "(25721, 11)"
      ]
     },
     "execution_count": 207,
     "metadata": {},
     "output_type": "execute_result"
    }
   ],
   "source": [
    "tjhp.shape"
   ]
  },
  {
   "cell_type": "code",
   "execution_count": 208,
   "id": "66ab037e",
   "metadata": {},
   "outputs": [
    {
     "data": {
      "text/plain": [
       "(4783, 11)"
      ]
     },
     "execution_count": 208,
     "metadata": {},
     "output_type": "execute_result"
    }
   ],
   "source": [
    "tjhp = tjhp.drop_nulls(subset=['nutrition', 'price'])\n",
    "tjhp.shape"
   ]
  },
  {
   "cell_type": "code",
   "execution_count": null,
   "id": "64652253",
   "metadata": {},
   "outputs": [],
   "source": [
    "# Drop dupes\n",
    "tjhp = tjhp.unique()"
   ]
  },
  {
   "cell_type": "code",
   "execution_count": null,
   "id": "6b9afb48",
   "metadata": {},
   "outputs": [
    {
     "name": "stdout",
     "output_type": "stream",
     "text": [
      "shape: (4_588, 12)\n",
      "┌────────┬────────────┬────────────┬───────────┬───┬───────────┬───────────┬───────────┬───────────┐\n",
      "│ sku    ┆ name       ┆ availabili ┆ stock_sta ┆ … ┆ price     ┆ country_o ┆ country_o ┆ nested_fi │\n",
      "│ ---    ┆ ---        ┆ ty         ┆ tus       ┆   ┆ ---       ┆ f_manufac ┆ f_origin  ┆ eld       │\n",
      "│ str    ┆ str        ┆ ---        ┆ ---       ┆   ┆ struct[1] ┆ ture      ┆ ---       ┆ ---       │\n",
      "│        ┆            ┆ str        ┆ str       ┆   ┆           ┆ ---       ┆ str       ┆ str       │\n",
      "│        ┆            ┆            ┆           ┆   ┆           ┆ null      ┆           ┆           │\n",
      "╞════════╪════════════╪════════════╪═══════════╪═══╪═══════════╪═══════════╪═══════════╪═══════════╡\n",
      "│ 075259 ┆ MEAL       ┆ 1          ┆ OUT_OF_ST ┆ … ┆ {{{3.99,\" ┆ null      ┆ Product   ┆ USD       │\n",
      "│        ┆ CASHEW     ┆            ┆ OCK       ┆   ┆ USD\"}}}   ┆           ┆ of Sri    ┆           │\n",
      "│        ┆ CURRY &    ┆            ┆           ┆   ┆           ┆           ┆ Lanka     ┆           │\n",
      "│        ┆ RICE       ┆            ┆           ┆   ┆           ┆           ┆           ┆           │\n",
      "│ 076838 ┆ HOL        ┆ 1          ┆ OUT_OF_ST ┆ … ┆ {{{4.99,\" ┆ null      ┆ Product   ┆ USD       │\n",
      "│        ┆ UNEXPECTED ┆            ┆ OCK       ┆   ┆ USD\"}}}   ┆           ┆ of United ┆           │\n",
      "│        ┆ CHEDDAR    ┆            ┆           ┆   ┆           ┆           ┆ States    ┆           │\n",
      "│        ┆ SPREAD-…   ┆            ┆           ┆   ┆           ┆           ┆           ┆           │\n",
      "│ 066838 ┆ SALMON HOT ┆ 1          ┆ OUT_OF_ST ┆ … ┆ {{{5.99,\" ┆ null      ┆ Raised in ┆ USD       │\n",
      "│        ┆ SMOKED 5   ┆            ┆ OCK       ┆   ┆ USD\"}}}   ┆           ┆ Scotland  ┆           │\n",
      "│        ┆ OZ         ┆            ┆           ┆   ┆           ┆           ┆ Processed ┆           │\n",
      "│        ┆            ┆            ┆           ┆   ┆           ┆           ┆ i…        ┆           │\n",
      "│ 054840 ┆ KALE & CAU ┆ 1          ┆ OUT_OF_ST ┆ … ┆ {{{3.99,\" ┆ null      ┆ Produced  ┆ USD       │\n",
      "│        ┆ LIFLOWER   ┆            ┆ OCK       ┆   ┆ USD\"}}}   ┆           ┆ in USA    ┆           │\n",
      "│        ┆ CURRY      ┆            ┆           ┆   ┆           ┆           ┆           ┆           │\n",
      "│        ┆ SALAD      ┆            ┆           ┆   ┆           ┆           ┆           ┆           │\n",
      "│ 074671 ┆ TUNA SOLID ┆ 1          ┆ OUT_OF_ST ┆ … ┆ {{{1.99,\" ┆ null      ┆ Packed in ┆ USD       │\n",
      "│        ┆ WHITE      ┆            ┆ OCK       ┆   ┆ USD\"}}}   ┆           ┆ United    ┆           │\n",
      "│        ┆ ALBACORE   ┆            ┆           ┆   ┆           ┆           ┆ States    ┆           │\n",
      "│        ┆ SALT…      ┆            ┆           ┆   ┆           ┆           ┆           ┆           │\n",
      "│ 054114 ┆ MRNTD GRLD ┆ 1          ┆ OUT_OF_ST ┆ … ┆ {{{3.49,\" ┆ null      ┆ product   ┆ USD       │\n",
      "│        ┆ ARTICHOKE  ┆            ┆ OCK       ┆   ┆ USD\"}}}   ┆           ┆ of Peru   ┆           │\n",
      "│        ┆ HALVES     ┆            ┆           ┆   ┆           ┆           ┆           ┆           │\n",
      "│ 035881 ┆ BREADED    ┆ 1          ┆ OUT_OF_ST ┆ … ┆ {{{8.99,\" ┆ null      ┆ Wild      ┆ USD       │\n",
      "│        ┆ COD        ┆            ┆ OCK       ┆   ┆ USD\"}}}   ┆           ┆ caught in ┆           │\n",
      "│        ┆ FILLETS    ┆            ┆           ┆   ┆           ┆           ┆ United    ┆           │\n",
      "│        ┆            ┆            ┆           ┆   ┆           ┆           ┆ States    ┆           │\n",
      "│ 008990 ┆ SUPERSWEET ┆ 1          ┆ OUT_OF_ST ┆ … ┆ {{{1.49,\" ┆ null      ┆ Product   ┆ USD       │\n",
      "│        ┆ CUT WHITE  ┆            ┆ OCK       ┆   ┆ USD\"}}}   ┆           ┆ of United ┆           │\n",
      "│        ┆ CORN       ┆            ┆           ┆   ┆           ┆           ┆ States    ┆           │\n",
      "│ 082847 ┆ EGGS LARGE ┆ 1          ┆ OUT_OF_ST ┆ … ┆ {{{4.69,\" ┆ null      ┆ Manufactu ┆ USD       │\n",
      "│        ┆ BROWN      ┆            ┆ OCK       ┆   ┆ USD\"}}}   ┆           ┆ red in    ┆           │\n",
      "│        ┆ DOZEN      ┆            ┆           ┆   ┆           ┆           ┆ USA       ┆           │\n",
      "│ 061297 ┆ HOL MIXED  ┆ 1          ┆ OUT_OF_ST ┆ … ┆ {{{3.99,\" ┆ null      ┆ Product   ┆ USD       │\n",
      "│        ┆ SUGAR      ┆            ┆ OCK       ┆   ┆ USD\"}}}   ┆           ┆ of USA    ┆           │\n",
      "│        ┆ GLAZED     ┆            ┆           ┆   ┆           ┆           ┆           ┆           │\n",
      "│ …      ┆ …          ┆ …          ┆ …         ┆ … ┆ …         ┆ …         ┆ …         ┆ …         │\n",
      "│ 076253 ┆ HOT DOG    ┆ 1          ┆ OUT_OF_ST ┆ … ┆ {{{5.99,\" ┆ null      ┆ Product   ┆ USD       │\n",
      "│        ┆ UNCURED    ┆            ┆ OCK       ┆   ┆ USD\"}}}   ┆           ┆ of United ┆           │\n",
      "│        ┆ BEEF       ┆            ┆           ┆   ┆           ┆           ┆ States    ┆           │\n",
      "│        ┆ ORGANIC    ┆            ┆           ┆   ┆           ┆           ┆           ┆           │\n",
      "│ 073802 ┆ VEGAN      ┆ 1          ┆ OUT_OF_ST ┆ … ┆ {{{3.99,\" ┆ null      ┆ Product   ┆ USD       │\n",
      "│        ┆ BUFFALO    ┆            ┆ OCK       ┆   ┆ USD\"}}}   ┆           ┆ of United ┆           │\n",
      "│        ┆ DIIP       ┆            ┆           ┆   ┆           ┆           ┆ States    ┆           │\n",
      "│ 063262 ┆ ALMOND     ┆ 1          ┆ OUT_OF_ST ┆ … ┆ {{{1.99,\" ┆ null      ┆ Product   ┆ USD       │\n",
      "│        ┆ CREAMER    ┆            ┆ OCK       ┆   ┆ USD\"}}}   ┆           ┆ of USA    ┆           │\n",
      "│        ┆ CHOCOLATE  ┆            ┆           ┆   ┆           ┆           ┆           ┆           │\n",
      "│        ┆ PEPPE…     ┆            ┆           ┆   ┆           ┆           ┆           ┆           │\n",
      "│ 078797 ┆ VANILLA    ┆ 1          ┆ OUT_OF_ST ┆ … ┆ {{{7.99,\" ┆ null      ┆ Product   ┆ USD       │\n",
      "│        ┆ EXTRACT 2  ┆            ┆ OCK       ┆   ┆ USD\"}}}   ┆           ┆ of        ┆           │\n",
      "│        ┆ FOLD       ┆            ┆           ┆   ┆           ┆           ┆ Mauritius ┆           │\n",
      "│        ┆ W/SEEDS…   ┆            ┆           ┆   ┆           ┆           ┆           ┆           │\n",
      "│ 073858 ┆ BREAD RYE  ┆ 1          ┆ OUT_OF_ST ┆ … ┆ {{{3.49,\" ┆ null      ┆ Made in   ┆ USD       │\n",
      "│        ┆ MARBLED    ┆            ┆ OCK       ┆   ┆ USD\"}}}   ┆           ┆ USA       ┆           │\n",
      "│ 057824 ┆ EGG SALAD  ┆ 1          ┆ OUT_OF_ST ┆ … ┆ {{{4.99,\" ┆ null      ┆ Product   ┆ USD       │\n",
      "│        ┆            ┆            ┆ OCK       ┆   ┆ USD\"}}}   ┆           ┆ of USA    ┆           │\n",
      "│ 162065 ┆ 1.25 LT    ┆ 1          ┆ OUT_OF_ST ┆ … ┆ {{{11.88, ┆ null      ┆ Product   ┆ USD       │\n",
      "│        ┆ STARFRUIT  ┆            ┆ OCK       ┆   ┆ \"USD\"}}}  ┆           ┆ of USA    ┆           │\n",
      "│        ┆ SPARKL     ┆            ┆           ┆   ┆           ┆           ┆           ┆           │\n",
      "│        ┆ MINER…     ┆            ┆           ┆   ┆           ┆           ┆           ┆           │\n",
      "│ 064669 ┆ MOCHI      ┆ 1          ┆ OUT_OF_ST ┆ … ┆ {{{4.99,\" ┆ null      ┆ Product   ┆ USD       │\n",
      "│        ┆ GREEN TEA  ┆            ┆ OCK       ┆   ┆ USD\"}}}   ┆           ┆ of United ┆           │\n",
      "│        ┆            ┆            ┆           ┆   ┆           ┆           ┆ States    ┆           │\n",
      "│ 078933 ┆ HOL BUTTER ┆ 1          ┆ OUT_OF_ST ┆ … ┆ {{{5.49,\" ┆ null      ┆ Product   ┆ USD       │\n",
      "│        ┆ MAPLE      ┆            ┆ OCK       ┆   ┆ USD\"}}}   ┆           ┆ of Canada ┆           │\n",
      "│        ┆ ORGANIC    ┆            ┆           ┆   ┆           ┆           ┆           ┆           │\n",
      "│ 099262 ┆ QUESO      ┆ 1          ┆ OUT_OF_ST ┆ … ┆ {{{2.49,\" ┆ null      ┆ Manufactu ┆ USD       │\n",
      "│        ┆ CHEESE DIP ┆            ┆ OCK       ┆   ┆ USD\"}}}   ┆           ┆ red in    ┆           │\n",
      "│        ┆            ┆            ┆           ┆   ┆           ┆           ┆ United    ┆           │\n",
      "│        ┆            ┆            ┆           ┆   ┆           ┆           ┆ States    ┆           │\n",
      "└────────┴────────────┴────────────┴───────────┴───┴───────────┴───────────┴───────────┴───────────┘\n"
     ]
    }
   ],
   "source": [
    "# fix price so it actually is a float of US dollars\n",
    "temp = tjhp.with_columns(\n",
    "    pl.col(\"price\").struct.field(\"regularPrice\").struct.field(\"amount\").struct.field(\"currency\").alias(\"nested_field\")\n",
    ")\n",
    "\n",
    "print(temp)"
   ]
  },
  {
   "cell_type": "code",
   "execution_count": 216,
   "id": "4ed4d91b",
   "metadata": {},
   "outputs": [
    {
     "data": {
      "text/html": [
       "<div><style>\n",
       ".dataframe > thead > tr,\n",
       ".dataframe > tbody > tr {\n",
       "  text-align: right;\n",
       "  white-space: pre-wrap;\n",
       "}\n",
       "</style>\n",
       "<small>shape: (1, 2)</small><table border=\"1\" class=\"dataframe\"><thead><tr><th>nested_field</th><th>count</th></tr><tr><td>str</td><td>u32</td></tr></thead><tbody><tr><td>&quot;USD&quot;</td><td>4588</td></tr></tbody></table></div>"
      ],
      "text/plain": [
       "shape: (1, 2)\n",
       "┌──────────────┬───────┐\n",
       "│ nested_field ┆ count │\n",
       "│ ---          ┆ ---   │\n",
       "│ str          ┆ u32   │\n",
       "╞══════════════╪═══════╡\n",
       "│ USD          ┆ 4588  │\n",
       "└──────────────┴───────┘"
      ]
     },
     "execution_count": 216,
     "metadata": {},
     "output_type": "execute_result"
    }
   ],
   "source": [
    "temp['nested_field'].value_counts()"
   ]
  },
  {
   "cell_type": "markdown",
   "id": "83bf10a9",
   "metadata": {},
   "source": [
    "OK, they are all in USD, proceed."
   ]
  },
  {
   "cell_type": "code",
   "execution_count": 217,
   "id": "6660ba47",
   "metadata": {},
   "outputs": [],
   "source": [
    "tjhp = tjhp.with_columns(\n",
    "    pl.col(\"price\").struct.field(\"regularPrice\").struct.field(\"amount\").struct.field(\"value\").alias(\"price_usd\")\n",
    ")\n"
   ]
  },
  {
   "cell_type": "markdown",
   "id": "57d3cb14",
   "metadata": {},
   "source": [
    "Onto the same nested json but for calories..."
   ]
  },
  {
   "cell_type": "markdown",
   "id": "12e87e0c",
   "metadata": {},
   "source": [
    "Wow, these nutrition items are formatted horrendously. The key is not a key whatsoever. Should go back and fix this in the original GraphQL query under `nutrition`."
   ]
  },
  {
   "cell_type": "code",
   "execution_count": 218,
   "id": "d534fed7",
   "metadata": {},
   "outputs": [
    {
     "data": {
      "text/html": [
       "<div><style>\n",
       ".dataframe > thead > tr,\n",
       ".dataframe > tbody > tr {\n",
       "  text-align: right;\n",
       "  white-space: pre-wrap;\n",
       "}\n",
       "</style>\n",
       "<small>shape: (2,)</small><table border=\"1\" class=\"dataframe\"><thead><tr><th></th></tr><tr><td>struct[7]</td></tr></thead><tbody><tr><td>{&quot;610 &quot;,[{&quot;38 g&quot;,1,&quot;Total Fat&quot;,&quot;.49&quot;}, {&quot;25 g&quot;,2,&quot;Saturated Fat&quot;,&quot;1.25&quot;}, … {&quot;530 mg&quot;,14,&quot;Potassium&quot;,&quot;.1&quot;}],0,1,&quot;Per 1 cup (250g)&quot;,&quot;1 package (375g)&quot;,&quot;Serves 1&quot;}</td></tr><tr><td>{&quot;910 &quot;,[{&quot;56 g&quot;,1,&quot;Total Fat&quot;,&quot;.72&quot;}, {&quot;37 g&quot;,2,&quot;Saturated Fat&quot;,&quot;1.85&quot;}, … {&quot;790 mg&quot;,14,&quot;Potassium&quot;,&quot;.15&quot;}],1,2,&quot;Per container&quot;,&quot;1 package (375g)&quot;,&quot;Serves 1&quot;}</td></tr></tbody></table></div>"
      ],
      "text/plain": [
       "shape: (2,)\n",
       "Series: '' [struct[7]]\n",
       "[\n",
       "\t{\"610 \",[{\"38 g\",1,\"Total Fat\",\".49\"}, {\"25 g\",2,\"Saturated Fat\",\"1.25\"}, … {\"530 mg\",14,\"Potassium\",\".1\"}],0,1,\"Per 1 cup (250g)\",\"1 package (375g)\",\"Serves 1\"}\n",
       "\t{\"910 \",[{\"56 g\",1,\"Total Fat\",\".72\"}, {\"37 g\",2,\"Saturated Fat\",\"1.85\"}, … {\"790 mg\",14,\"Potassium\",\".15\"}],1,2,\"Per container\",\"1 package (375g)\",\"Serves 1\"}\n",
       "]"
      ]
     },
     "execution_count": 218,
     "metadata": {},
     "output_type": "execute_result"
    }
   ],
   "source": [
    "tjhp['nutrition'][0]"
   ]
  },
  {
   "cell_type": "markdown",
   "id": "249d0a85",
   "metadata": {},
   "source": [
    "Oh, maybe not."
   ]
  },
  {
   "cell_type": "code",
   "execution_count": 219,
   "id": "f09cde0e",
   "metadata": {},
   "outputs": [
    {
     "data": {
      "text/plain": [
       "{'calories_per_serving': '610 ',\n",
       " 'details': [{'amount': '38 g',\n",
       "   'display_seq': 1,\n",
       "   'nutritional_item': 'Total Fat',\n",
       "   'percent_dv': '.49'},\n",
       "  {'amount': '25 g',\n",
       "   'display_seq': 2,\n",
       "   'nutritional_item': 'Saturated Fat',\n",
       "   'percent_dv': '1.25'},\n",
       "  {'amount': '0 g',\n",
       "   'display_seq': 3,\n",
       "   'nutritional_item': 'Trans Fat',\n",
       "   'percent_dv': ''},\n",
       "  {'amount': '0 mg',\n",
       "   'display_seq': 4,\n",
       "   'nutritional_item': 'Cholesterol',\n",
       "   'percent_dv': '0'},\n",
       "  {'amount': '500 mg',\n",
       "   'display_seq': 5,\n",
       "   'nutritional_item': 'Sodium',\n",
       "   'percent_dv': '.22'},\n",
       "  {'amount': '58 g',\n",
       "   'display_seq': 6,\n",
       "   'nutritional_item': 'Total Carbohydrate',\n",
       "   'percent_dv': '.21'},\n",
       "  {'amount': '4 g',\n",
       "   'display_seq': 7,\n",
       "   'nutritional_item': 'Dietary Fiber',\n",
       "   'percent_dv': '.14'},\n",
       "  {'amount': '4 g',\n",
       "   'display_seq': 8,\n",
       "   'nutritional_item': 'Total Sugars',\n",
       "   'percent_dv': ''},\n",
       "  {'amount': '0 g Added Sugars',\n",
       "   'display_seq': 9,\n",
       "   'nutritional_item': 'Includes',\n",
       "   'percent_dv': '0'},\n",
       "  {'amount': '11 g',\n",
       "   'display_seq': 10,\n",
       "   'nutritional_item': 'Protein',\n",
       "   'percent_dv': ''},\n",
       "  {'amount': '0.0 mcg',\n",
       "   'display_seq': 11,\n",
       "   'nutritional_item': 'Vitamin D',\n",
       "   'percent_dv': '0'},\n",
       "  {'amount': '20 mg',\n",
       "   'display_seq': 12,\n",
       "   'nutritional_item': 'Calcium',\n",
       "   'percent_dv': '.02'},\n",
       "  {'amount': '2.4 mg',\n",
       "   'display_seq': 13,\n",
       "   'nutritional_item': 'Iron',\n",
       "   'percent_dv': '.15'},\n",
       "  {'amount': '530 mg',\n",
       "   'display_seq': 14,\n",
       "   'nutritional_item': 'Potassium',\n",
       "   'percent_dv': '.1'}],\n",
       " 'display_sequence': 0,\n",
       " 'panel_id': 1,\n",
       " 'panel_title': 'Per 1 cup (250g)',\n",
       " 'serving_size': '1 package (375g)',\n",
       " 'servings_per_container': 'Serves 1'}"
      ]
     },
     "execution_count": 219,
     "metadata": {},
     "output_type": "execute_result"
    }
   ],
   "source": [
    "tjhp['nutrition'][0][0]"
   ]
  },
  {
   "cell_type": "code",
   "execution_count": 220,
   "id": "9258591e",
   "metadata": {},
   "outputs": [
    {
     "data": {
      "text/plain": [
       "'610 '"
      ]
     },
     "execution_count": 220,
     "metadata": {},
     "output_type": "execute_result"
    }
   ],
   "source": [
    "tjhp['nutrition'][0][0]['calories_per_serving']"
   ]
  },
  {
   "cell_type": "code",
   "execution_count": 221,
   "id": "16810a28",
   "metadata": {},
   "outputs": [
    {
     "data": {
      "text/html": [
       "<div><style>\n",
       ".dataframe > thead > tr,\n",
       ".dataframe > tbody > tr {\n",
       "  text-align: right;\n",
       "  white-space: pre-wrap;\n",
       "}\n",
       "</style>\n",
       "<small>shape: (3, 13)</small><table border=\"1\" class=\"dataframe\"><thead><tr><th>sku</th><th>name</th><th>availability</th><th>stock_status</th><th>only_x_left_in_stock</th><th>nutrition</th><th>ingredients</th><th>popularity</th><th>price</th><th>country_of_manufacture</th><th>country_of_origin</th><th>price_usd</th><th>calories_per_serving</th></tr><tr><td>str</td><td>str</td><td>str</td><td>str</td><td>null</td><td>list[struct[7]]</td><td>list[struct[2]]</td><td>str</td><td>struct[1]</td><td>null</td><td>str</td><td>f64</td><td>str</td></tr></thead><tbody><tr><td>&quot;075259&quot;</td><td>&quot;MEAL CASHEW CURRY &amp; RICE&quot;</td><td>&quot;1&quot;</td><td>&quot;OUT_OF_STOCK&quot;</td><td>null</td><td>[{&quot;610 &quot;,[{&quot;38 g&quot;,1,&quot;Total Fat&quot;,&quot;.49&quot;}, {&quot;25 g&quot;,2,&quot;Saturated Fat&quot;,&quot;1.25&quot;}, … {&quot;530 mg&quot;,14,&quot;Potassium&quot;,&quot;.1&quot;}],0,1,&quot;Per 1 cup (250g)&quot;,&quot;1 package (375g)&quot;,&quot;Serves 1&quot;}, {&quot;910 &quot;,[{&quot;56 g&quot;,1,&quot;Total Fat&quot;,&quot;.72&quot;}, {&quot;37 g&quot;,2,&quot;Saturated Fat&quot;,&quot;1.85&quot;}, … {&quot;790 mg&quot;,14,&quot;Potassium&quot;,&quot;.15&quot;}],1,2,&quot;Per container&quot;,&quot;1 package (375g)&quot;,&quot;Serves 1&quot;}]</td><td>[{1,&quot;ORGANIC COOKED SEASONED RICE PACKET (ORGANIC RICE, WATER, ORGANIC PARSLEY, ORGANIC CURRY LEAVES, ORGANIC NATURAL FLAVOR, ORGANIC COCONUT OIL, ORGANIC BLACK PEPPER, ORGANIC CUMIN SEED, ORGANIC CINNAMON, ORGANIC TURMERIC POWDER, ORGANIC CARDAMOM, SEA SALT)&quot;}, {2,&quot;ORGANIC SAUCE PACKET (ORGANIC COCONUT MILK, WATER, ORGANIC ONIONS, ORGANIC GARLIC, ORGANIC GINGER, ORGANIC CORIANDER, ORGANIC CUMIN SEED, ORGANIC CURRY LEAVES, ORGANIC TURMERIC POWDER, SEA SALT, ORGANIC CINNAMON, ORGANIC BLACK PEPPER, ORGANIC CARDAMOM)&quot;}, {3,&quot;ORGANIC CASHEW PACKET (ORGANIC CASHEWS)&quot;}]</td><td>&quot;49&quot;</td><td>{{{3.99,&quot;USD&quot;}}}</td><td>null</td><td>&quot;Product of Sri Lanka&quot;</td><td>3.99</td><td>&quot;610 &quot;</td></tr><tr><td>&quot;076838&quot;</td><td>&quot;HOL UNEXPECTED CHEDDAR SPREAD-…</td><td>&quot;1&quot;</td><td>&quot;OUT_OF_STOCK&quot;</td><td>null</td><td>[{&quot;90 &quot;,[{&quot;6 g&quot;,1,&quot;Total Fat&quot;,&quot;.08&quot;}, {&quot;4.0 g&quot;,2,&quot;Saturated Fat&quot;,&quot;.2&quot;}, … {&quot;180 mg&quot;,14,&quot;Potassium&quot;,&quot;.04&quot;}],0,1,&quot;&quot;,&quot;2 Tbsp. (28g)&quot;,&quot;Serves about 9&quot;}]</td><td>[{1,&quot;CHEDDAR CHEESE (PASTEURIZED MILK, CHEESE CULTURES, SALT, MICROBIAL ENZYME)&quot;}, {2,&quot;WATER&quot;}, … {11,&quot;CINNAMON.&quot;}]</td><td>&quot;10&quot;</td><td>{{{4.99,&quot;USD&quot;}}}</td><td>null</td><td>&quot;Product of United States&quot;</td><td>4.99</td><td>&quot;90 &quot;</td></tr><tr><td>&quot;066838&quot;</td><td>&quot;SALMON HOT SMOKED 5 OZ&quot;</td><td>&quot;1&quot;</td><td>&quot;OUT_OF_STOCK&quot;</td><td>null</td><td>[{&quot;110 &quot;,[{&quot;7 g&quot;,1,&quot;Total Fat&quot;,&quot;.09&quot;}, {&quot;1.5 g&quot;,2,&quot;Saturated Fat&quot;,&quot;.08&quot;}, … {&quot;210 mg&quot;,14,&quot;Potassium&quot;,&quot;.04&quot;}],0,1,&quot;Per Serving&quot;,&quot;2oz (56g)&quot;,&quot;Serves about 2.5&quot;}, {&quot;290 &quot;,[{&quot;17 g&quot;,1,&quot;Total Fat&quot;,&quot;.22&quot;}, {&quot;3.5 g&quot;,2,&quot;Saturated Fat&quot;,&quot;.18&quot;}, … {&quot;530 mg&quot;,14,&quot;Potassium&quot;,&quot;.1&quot;}],1,2,&quot;Per Container&quot;,&quot;2oz (56g)&quot;,&quot;Serves about 2.5&quot;}]</td><td>[{1,&quot;FARM RAISED ATLANTIC SALMON [COLOR ADDED]&quot;}, {2,&quot;SEA SALT&quot;}, {3,&quot;HARDWOOD SMOKE.&quot;}]</td><td>&quot;1&quot;</td><td>{{{5.99,&quot;USD&quot;}}}</td><td>null</td><td>&quot;Raised in Scotland Processed i…</td><td>5.99</td><td>&quot;110 &quot;</td></tr></tbody></table></div>"
      ],
      "text/plain": [
       "shape: (3, 13)\n",
       "┌────────┬────────────┬────────────┬───────────┬───┬───────────┬───────────┬───────────┬───────────┐\n",
       "│ sku    ┆ name       ┆ availabili ┆ stock_sta ┆ … ┆ country_o ┆ country_o ┆ price_usd ┆ calories_ │\n",
       "│ ---    ┆ ---        ┆ ty         ┆ tus       ┆   ┆ f_manufac ┆ f_origin  ┆ ---       ┆ per_servi │\n",
       "│ str    ┆ str        ┆ ---        ┆ ---       ┆   ┆ ture      ┆ ---       ┆ f64       ┆ ng        │\n",
       "│        ┆            ┆ str        ┆ str       ┆   ┆ ---       ┆ str       ┆           ┆ ---       │\n",
       "│        ┆            ┆            ┆           ┆   ┆ null      ┆           ┆           ┆ str       │\n",
       "╞════════╪════════════╪════════════╪═══════════╪═══╪═══════════╪═══════════╪═══════════╪═══════════╡\n",
       "│ 075259 ┆ MEAL       ┆ 1          ┆ OUT_OF_ST ┆ … ┆ null      ┆ Product   ┆ 3.99      ┆ 610       │\n",
       "│        ┆ CASHEW     ┆            ┆ OCK       ┆   ┆           ┆ of Sri    ┆           ┆           │\n",
       "│        ┆ CURRY &    ┆            ┆           ┆   ┆           ┆ Lanka     ┆           ┆           │\n",
       "│        ┆ RICE       ┆            ┆           ┆   ┆           ┆           ┆           ┆           │\n",
       "│ 076838 ┆ HOL        ┆ 1          ┆ OUT_OF_ST ┆ … ┆ null      ┆ Product   ┆ 4.99      ┆ 90        │\n",
       "│        ┆ UNEXPECTED ┆            ┆ OCK       ┆   ┆           ┆ of United ┆           ┆           │\n",
       "│        ┆ CHEDDAR    ┆            ┆           ┆   ┆           ┆ States    ┆           ┆           │\n",
       "│        ┆ SPREAD-…   ┆            ┆           ┆   ┆           ┆           ┆           ┆           │\n",
       "│ 066838 ┆ SALMON HOT ┆ 1          ┆ OUT_OF_ST ┆ … ┆ null      ┆ Raised in ┆ 5.99      ┆ 110       │\n",
       "│        ┆ SMOKED 5   ┆            ┆ OCK       ┆   ┆           ┆ Scotland  ┆           ┆           │\n",
       "│        ┆ OZ         ┆            ┆           ┆   ┆           ┆ Processed ┆           ┆           │\n",
       "│        ┆            ┆            ┆           ┆   ┆           ┆ i…        ┆           ┆           │\n",
       "└────────┴────────────┴────────────┴───────────┴───┴───────────┴───────────┴───────────┴───────────┘"
      ]
     },
     "execution_count": 221,
     "metadata": {},
     "output_type": "execute_result"
    }
   ],
   "source": [
    "tjhp = tjhp.with_columns(\n",
    "    # tjhp['nutrition']\n",
    "    pl.col(\"nutrition\").map_elements(lambda x: x[0]['calories_per_serving'] if len(x)>0 else None, return_dtype=str).alias(\"calories_per_serving\")\n",
    ")\n",
    "tjhp.head(3)"
   ]
  },
  {
   "cell_type": "markdown",
   "id": "08764795",
   "metadata": {},
   "source": [
    "These things definitely do not actually have 0 calories. Drop them."
   ]
  },
  {
   "cell_type": "code",
   "execution_count": 222,
   "id": "e1ae7d40",
   "metadata": {},
   "outputs": [
    {
     "data": {
      "text/html": [
       "<div><style>\n",
       ".dataframe > thead > tr,\n",
       ".dataframe > tbody > tr {\n",
       "  text-align: right;\n",
       "  white-space: pre-wrap;\n",
       "}\n",
       "</style>\n",
       "<small>shape: (6, 13)</small><table border=\"1\" class=\"dataframe\"><thead><tr><th>sku</th><th>name</th><th>availability</th><th>stock_status</th><th>only_x_left_in_stock</th><th>nutrition</th><th>ingredients</th><th>popularity</th><th>price</th><th>country_of_manufacture</th><th>country_of_origin</th><th>price_usd</th><th>calories_per_serving</th></tr><tr><td>str</td><td>str</td><td>str</td><td>str</td><td>null</td><td>list[struct[7]]</td><td>list[struct[2]]</td><td>str</td><td>struct[1]</td><td>null</td><td>str</td><td>f64</td><td>str</td></tr></thead><tbody><tr><td>&quot;063197&quot;</td><td>&quot;GRATIN BROCCOLI &amp; CAULIFLOWER&quot;</td><td>&quot;1&quot;</td><td>&quot;IN_STOCK&quot;</td><td>null</td><td>[{&quot;&quot;,[{&quot;7 g&quot;,1,&quot;Total Fat&quot;,&quot;.09&quot;}, {&quot;4.0 g&quot;,2,&quot;Saturated Fat&quot;,&quot;.2&quot;}, … {&quot;260 mg&quot;,14,&quot;Potassium&quot;,&quot;.06&quot;}],0,1,&quot;&quot;,&quot;1 cup (150g)&quot;,&quot;about 4&quot;}]</td><td>[{1,&quot;BROCCOLI&quot;}, {2,&quot;CAULIFLOWER&quot;}, … {11,&quot;BLACK PEPPER.&quot;}]</td><td>&quot;2&quot;</td><td>{{{4.49,&quot;USD&quot;}}}</td><td>null</td><td>&quot;Product of Italy&quot;</td><td>4.49</td><td>&quot;&quot;</td></tr><tr><td>&quot;066054&quot;</td><td>&quot;CHEESECAKE CONES&quot;</td><td>&quot;1&quot;</td><td>&quot;IN_STOCK&quot;</td><td>null</td><td>[{&quot;&quot;,[{&quot;13 g&quot;,1,&quot;Total Fat&quot;,&quot;.17&quot;}, {&quot;5 g&quot;,2,&quot;Saturated Fat&quot;,&quot;.25&quot;}, … {&quot;120 mg&quot;,14,&quot;Potassium&quot;,&quot;.02&quot;}],0,1,&quot;&quot;,&quot;1 cone (50g)&quot;,&quot;4&quot;}]</td><td>[{1,&quot;CONE (SUGAR, ALMONDS&quot;}, {2,&quot;GLUCOSE SYRUP&quot;}, … {13,&quot;SUGAR).&quot;}]</td><td>&quot;147&quot;</td><td>{{{4.99,&quot;USD&quot;}}}</td><td>null</td><td>&quot;Product of Italy&quot;</td><td>4.99</td><td>&quot;&quot;</td></tr><tr><td>&quot;072630&quot;</td><td>&quot;JOE&#x27;S CARVERY JERKY BITES&quot;</td><td>&quot;1&quot;</td><td>&quot;OUT_OF_STOCK&quot;</td><td>null</td><td>[{&quot;&quot;,[{&quot;&quot;,1,&quot;CRUDE PROTEIN (MIN)&quot;,&quot;.22&quot;}, {&quot;&quot;,2,&quot;CRUDE FAT (MIN)&quot;,&quot;.1&quot;}, … {&quot;&quot;,4,&quot;MOISTURE (MAX)&quot;,&quot;.22&quot;}],0,1,&quot;&quot;,&quot;1 treat&quot;,&quot;CALORIE CONTENT (CALCULATED) ME: 3500 kcal/kg; 25 kcal/treat&quot;}]</td><td>[{1,&quot;TURKEY&quot;}, {2,&quot;CHICKEN&quot;}, … {15,&quot;ROSEMARY EXTRACT.&quot;}]</td><td>&quot;19&quot;</td><td>{{{3.49,&quot;USD&quot;}}}</td><td>null</td><td>&quot;Made in USA&quot;</td><td>3.49</td><td>&quot;&quot;</td></tr><tr><td>&quot;076648&quot;</td><td>&quot;HOL PB DECO DOG COOKIES&quot;</td><td>&quot;1&quot;</td><td>&quot;OUT_OF_STOCK&quot;</td><td>null</td><td>[{&quot;&quot;,[{&quot;&quot;,1,&quot;CRUDE PROTEIN (MIN)&quot;,&quot;.09&quot;}, {&quot;&quot;,2,&quot;CRUDE FAT (MIN)&quot;,&quot;.05&quot;}, … {&quot;&quot;,4,&quot;MOISTURE (MAX)&quot;,&quot;.12&quot;}],0,1,&quot;&quot;,&quot;3400 kcal/kg&quot;,&quot;45 kcal/treat&quot;}]</td><td>[{1,&quot;WHEAT FLOUR&quot;}, {2,&quot;GLUCOSE&quot;}, … {17,&quot;CALCIUM CARBONATE.&quot;}]</td><td>&quot;17&quot;</td><td>{{{3.99,&quot;USD&quot;}}}</td><td>null</td><td>&quot;Product of Vietnam&quot;</td><td>3.99</td><td>&quot;&quot;</td></tr><tr><td>&quot;069471&quot;</td><td>&quot;HOL CREAMED GREENS&quot;</td><td>&quot;1&quot;</td><td>&quot;IN_STOCK&quot;</td><td>null</td><td>[{&quot;&quot;,[{&quot;7 g&quot;,1,&quot;Total Fat&quot;,&quot;.09&quot;}, {&quot;2.5 g&quot;,2,&quot;Saturated Fat&quot;,&quot;.13&quot;}, … {&quot;190 mg&quot;,14,&quot;Potassium&quot;,&quot;.04&quot;}],0,1,&quot;&quot;,&quot;1 cup (124g)&quot;,&quot;Serves about 4&quot;}]</td><td>[{1,&quot;MILK (MILK, VITAMIN D3), BRUSSELS SPROUTS, KALE&quot;}, {2,&quot;ONION&quot;}, … {11,&quot;DRIED ROSEMARY.&quot;}]</td><td>&quot;10&quot;</td><td>{{{5.99,&quot;USD&quot;}}}</td><td>null</td><td>&quot;Manufactured in USA&quot;</td><td>5.99</td><td>&quot;&quot;</td></tr><tr><td>&quot;070148&quot;</td><td>&quot;MILK ULTRA - FILTERED REDUCED …</td><td>&quot;1&quot;</td><td>&quot;IN_STOCK&quot;</td><td>null</td><td>[{&quot;&quot;,[{&quot;5g&quot;,1,&quot;Total Fat&quot;,&quot;.06&quot;}, {&quot;3g&quot;,2,&quot;Saturated Fat&quot;,&quot;.15&quot;}, … {&quot;200mcg&quot;,15,&quot;Vitamin A&quot;,&quot;.2&quot;}],0,1,&quot;&quot;,&quot;1 cup (240mL)&quot;,&quot;Serves about 7&quot;}]</td><td>[{1,&quot;ULTRA-FILTERED REDUCED FAT MILK&quot;}, {2,&quot;WATER&quot;}, … {5,&quot;VITAMIN D3&quot;}]</td><td>&quot;84&quot;</td><td>{{{3.99,&quot;USD&quot;}}}</td><td>null</td><td>&quot;Product of United States&quot;</td><td>3.99</td><td>&quot;&quot;</td></tr></tbody></table></div>"
      ],
      "text/plain": [
       "shape: (6, 13)\n",
       "┌────────┬────────────┬────────────┬───────────┬───┬───────────┬───────────┬───────────┬───────────┐\n",
       "│ sku    ┆ name       ┆ availabili ┆ stock_sta ┆ … ┆ country_o ┆ country_o ┆ price_usd ┆ calories_ │\n",
       "│ ---    ┆ ---        ┆ ty         ┆ tus       ┆   ┆ f_manufac ┆ f_origin  ┆ ---       ┆ per_servi │\n",
       "│ str    ┆ str        ┆ ---        ┆ ---       ┆   ┆ ture      ┆ ---       ┆ f64       ┆ ng        │\n",
       "│        ┆            ┆ str        ┆ str       ┆   ┆ ---       ┆ str       ┆           ┆ ---       │\n",
       "│        ┆            ┆            ┆           ┆   ┆ null      ┆           ┆           ┆ str       │\n",
       "╞════════╪════════════╪════════════╪═══════════╪═══╪═══════════╪═══════════╪═══════════╪═══════════╡\n",
       "│ 063197 ┆ GRATIN     ┆ 1          ┆ IN_STOCK  ┆ … ┆ null      ┆ Product   ┆ 4.49      ┆           │\n",
       "│        ┆ BROCCOLI & ┆            ┆           ┆   ┆           ┆ of Italy  ┆           ┆           │\n",
       "│        ┆ CAULIFLOWE ┆            ┆           ┆   ┆           ┆           ┆           ┆           │\n",
       "│        ┆ R          ┆            ┆           ┆   ┆           ┆           ┆           ┆           │\n",
       "│ 066054 ┆ CHEESECAKE ┆ 1          ┆ IN_STOCK  ┆ … ┆ null      ┆ Product   ┆ 4.99      ┆           │\n",
       "│        ┆ CONES      ┆            ┆           ┆   ┆           ┆ of Italy  ┆           ┆           │\n",
       "│ 072630 ┆ JOE'S      ┆ 1          ┆ OUT_OF_ST ┆ … ┆ null      ┆ Made in   ┆ 3.49      ┆           │\n",
       "│        ┆ CARVERY    ┆            ┆ OCK       ┆   ┆           ┆ USA       ┆           ┆           │\n",
       "│        ┆ JERKY      ┆            ┆           ┆   ┆           ┆           ┆           ┆           │\n",
       "│        ┆ BITES      ┆            ┆           ┆   ┆           ┆           ┆           ┆           │\n",
       "│ 076648 ┆ HOL PB     ┆ 1          ┆ OUT_OF_ST ┆ … ┆ null      ┆ Product   ┆ 3.99      ┆           │\n",
       "│        ┆ DECO DOG   ┆            ┆ OCK       ┆   ┆           ┆ of        ┆           ┆           │\n",
       "│        ┆ COOKIES    ┆            ┆           ┆   ┆           ┆ Vietnam   ┆           ┆           │\n",
       "│ 069471 ┆ HOL        ┆ 1          ┆ IN_STOCK  ┆ … ┆ null      ┆ Manufactu ┆ 5.99      ┆           │\n",
       "│        ┆ CREAMED    ┆            ┆           ┆   ┆           ┆ red in    ┆           ┆           │\n",
       "│        ┆ GREENS     ┆            ┆           ┆   ┆           ┆ USA       ┆           ┆           │\n",
       "│ 070148 ┆ MILK ULTRA ┆ 1          ┆ IN_STOCK  ┆ … ┆ null      ┆ Product   ┆ 3.99      ┆           │\n",
       "│        ┆ - FILTERED ┆            ┆           ┆   ┆           ┆ of United ┆           ┆           │\n",
       "│        ┆ REDUCED …  ┆            ┆           ┆   ┆           ┆ States    ┆           ┆           │\n",
       "└────────┴────────────┴────────────┴───────────┴───┴───────────┴───────────┴───────────┴───────────┘"
      ]
     },
     "execution_count": 222,
     "metadata": {},
     "output_type": "execute_result"
    }
   ],
   "source": [
    "tjhp.filter((pl.col(\"calories_per_serving\") == \"\"))"
   ]
  },
  {
   "cell_type": "code",
   "execution_count": 223,
   "id": "bc5a181d",
   "metadata": {},
   "outputs": [],
   "source": [
    "tjhp = tjhp.filter((pl.col(\"calories_per_serving\") != \"\"))"
   ]
  },
  {
   "cell_type": "markdown",
   "id": "47bb9fe1",
   "metadata": {},
   "source": [
    "More problematic calories per serving fields: `8 out of 4570 values: [\"3291 kcal/kg; 29 kcal/treat\", \"3200 kcal/kg; 18 kcal/treat\", … \"varied\"]`."
   ]
  },
  {
   "cell_type": "code",
   "execution_count": 224,
   "id": "8753041b",
   "metadata": {},
   "outputs": [
    {
     "data": {
      "text/plain": [
       "(4394, 13)"
      ]
     },
     "execution_count": 224,
     "metadata": {},
     "output_type": "execute_result"
    }
   ],
   "source": [
    "tjhp.shape"
   ]
  },
  {
   "cell_type": "code",
   "execution_count": 225,
   "id": "1c51ae9e",
   "metadata": {},
   "outputs": [
    {
     "data": {
      "text/plain": [
       "(4386, 13)"
      ]
     },
     "execution_count": 225,
     "metadata": {},
     "output_type": "execute_result"
    }
   ],
   "source": [
    "### DROP THEM. come back later to salvage whichever.\n",
    "tjhp = tjhp.filter(tjhp['calories_per_serving'].str.contains('^\\\\s*\\\\d+\\\\s*$'))\n",
    "tjhp.shape\n",
    "# Yes, this filters out those 8 values giving us trouble before"
   ]
  },
  {
   "cell_type": "code",
   "execution_count": 226,
   "id": "c314c53d",
   "metadata": {},
   "outputs": [],
   "source": [
    "tjhp = tjhp.with_columns(\n",
    "    pl.col('calories_per_serving').str.strip_chars(' ').cast(pl.Float32).alias('calories_per_serving')\n",
    ")"
   ]
  },
  {
   "cell_type": "markdown",
   "id": "c489236d",
   "metadata": {},
   "source": [
    "Now same for servings per container...."
   ]
  },
  {
   "cell_type": "code",
   "execution_count": 227,
   "id": "1886f026",
   "metadata": {},
   "outputs": [
    {
     "data": {
      "text/plain": [
       "'Serves 1'"
      ]
     },
     "execution_count": 227,
     "metadata": {},
     "output_type": "execute_result"
    }
   ],
   "source": [
    "tjhp['nutrition'][0][0]['servings_per_container']"
   ]
  },
  {
   "cell_type": "code",
   "execution_count": 230,
   "id": "75f41b1f",
   "metadata": {},
   "outputs": [],
   "source": [
    "# Create raw servings column\n",
    "tjhp = tjhp.with_columns(\n",
    "    pl.col(\"nutrition\").map_elements(lambda x: x[0]['servings_per_container'] if len(x)>0 else None, return_dtype=str).alias(\"servings_per_container_text\")\n",
    ")"
   ]
  },
  {
   "cell_type": "code",
   "execution_count": 232,
   "id": "bc54e73e",
   "metadata": {},
   "outputs": [
    {
     "name": "stdout",
     "output_type": "stream",
     "text": [
      "Serves About 6.5\n",
      "about 5\n",
      "Serves 50\n",
      "Serves About 7\n",
      "about 4\n",
      "Serves 57\n",
      "Servings Varied\n",
      "Serves About 4.5\n",
      "Serves about 60\n",
      "Serves About 3\n",
      "Serves 12 per box\n",
      "serves about 22\n",
      "Serves ABOUT 3\n",
      "Serves About 25\n",
      " serves 1\n",
      "Serves 74\n",
      "Serves about 1.5\n",
      "about 17\n",
      "Serves about 20\n",
      "Serves approx. 20\n",
      "Serves 14\n",
      "Serves 90\n",
      "Serves about 28\n",
      "Serves About 5 servings per container\n",
      "Serves about 28-30\n",
      "Serves about 81\n",
      "Serves about 59\n",
      "Serves about 384\n",
      "Serves 567\n",
      "Serves about 83\n",
      "Serves 1 bottle\n",
      "Serves 19\n",
      "Serves 85\n",
      "Serves about 40\n",
      "Serves 7\n",
      "Serves 500\n",
      "Serves about 18\n",
      "Serves 40\n",
      "Serves about 542\n",
      "Serves varied\n",
      "Serves 8 on 8oz and 12 on 12oz\n",
      "Serves about 47\n",
      "Serves about 107\n",
      "Serves 465\n",
      "Serves about 3\n",
      "Serves 68\n",
      "Serves 39\n",
      "Serves 88\n",
      "Serves 5.67\n",
      "Serves about 3.5\n",
      "Serves about 62\n",
      "Serves About 4\n",
      "Serves about 2.5\n",
      "Serves 120\n",
      "Serves does not need this since there is only one serving\n",
      "Serves about 74\n",
      "Serves 70\n",
      "Serves Varied\n",
      "Serves about 13\n",
      "Serves 5.5\n",
      "Serves about 68\n",
      "Serves about 45\n",
      "Serves about 102\n",
      "Serves 48\n",
      "Serves about 4\n",
      "Serves about 10\n",
      "Serves 75\n",
      "Serves About 2\n",
      "Serves Approx. 17\n",
      "Serves 3\n",
      "Serves About 2 servings\n",
      "Serves 21\n",
      "Serves 25\n",
      "Serves About 5 servings\n",
      "serves 1\n",
      "Serves about 30\n",
      "Serves 22\n",
      "about 23\n",
      "Serves varies\n",
      "Serves 536\n",
      "Serves 6\n",
      "Serves about 14\n",
      "Serves about 5\n",
      "1\n",
      "Serves 65\n",
      "Serves 1.5\n",
      "Serves ABOUT 5\n",
      "Serves about 85\n",
      "Serves ABOUT 9\n",
      "Serves 56\n",
      "Serves About 18\n",
      "about 6\n",
      "Serves 106\n",
      "Serves 4\n",
      "Serves About 12\n",
      "Serves 5\n",
      "Serves about 67\n",
      "Serves 72\n",
      "Serves About 24\n",
      "Serves about 2\n",
      "Serving varies\n",
      "Serves about 23\n",
      "Serves About 2.5 serving per container\n",
      "Serves About 454\n",
      "Serves about 97\n",
      "Serves About 15\n",
      "Serves 2.5\n",
      "Serves about 42\n",
      "Serves about 63\n",
      "About 3\n",
      "Serves 15.13\n",
      "Serves about 33\n",
      "Serves 60\n",
      "Servings 13\n",
      "Serves not specified\n",
      "Serves about 15\n",
      "Serves 2\n",
      "Serves 82\n",
      "Serves about  3\n",
      "Serves about 57\n",
      "Serves about 61\n",
      "Serves about 17\n",
      "Serves 28\n",
      "serves 2\n",
      "Serves about 96\n",
      "Serves about 25\n",
      "about 13\n",
      "Serves about 3 (About 2.5 without Dressing)\n",
      "Serves 564\n",
      "about 8\n",
      "Serves 30\n",
      "Serves 26\n",
      "Serves about 16 servings\n",
      "Serves 11\n",
      "Serves 18\n",
      "Serves about 77\n",
      "Serves 51\n",
      "Serves 4.5\n",
      "Serves about 11\n",
      "Serves about 50\n",
      "Serves about 13 per set\n",
      "Serves 36\n",
      "Serves about 7\n",
      "Serves About 28\n",
      "Serves about 66\n",
      "Serves about 6\n",
      "Seves 8\n",
      "Serves about 4.5\n",
      "Serves About 9\n",
      "Serves About 3.5\n",
      "Serves About 30\n",
      "Serves about 35\n",
      "Serves 10\n",
      "about 45\n",
      "Serves about 568\n",
      "Serves about 9\n",
      "Serves ABOUT 8\n",
      "about 4.5\n",
      "Serves About 8\n",
      "Serves about 65\n",
      "Serves about 7 servings\n",
      "Serves About 14\n",
      "Serves about 51\n",
      "about 75\n",
      "Serves 100\n",
      "Serves ??\n",
      "Serves about 26\n",
      "Serves about 32\n",
      "Serves 16\n",
      "Serves About 67\n",
      "Serves VARIED\n",
      "Serves about 29\n",
      "Serves about 31\n",
      "Servings varied\n",
      "Serves about 92\n",
      "Serves About 6\n",
      "Serves about 24\n",
      "Serves 81\n",
      "Serves ABOUT 7\n",
      "Serves about 129\n",
      "Serves 1.0\n",
      "Serves 1\n",
      "Serves 20\n",
      "Serves about 16\n",
      "Serves 125\n",
      "Serves 1 snowman (75g)\n",
      "Serves about 113\n",
      "Serves 3 Slices\n",
      "Serves approx. 6\n",
      "Serves about 71\n",
      "Serves about 21\n",
      "Serves about  7\n",
      "Serves About 13\n",
      "Serves 113\n",
      "Serves 2.8\n",
      "serves 4\n",
      "Serves 15\n",
      "16\n",
      "about 11\n",
      "serves 3\n",
      " Serves about 9\n",
      "Serves About 5\n",
      "Serves 45\n",
      "Servings varies\n",
      "Serves 71\n",
      "Seves 4\n",
      "Serves About 16\n",
      "Serves 154\n",
      "Serves aproximately 10\n",
      "Serves about 12\n",
      "Serves about 5 servings\n",
      "Serves 17\n",
      "Serves About 2.5 servings\n",
      "Serves about 22\n",
      "Serves 9\n",
      "Serves Varies\n",
      "Serves 32\n",
      "Serves 13\n",
      "Serves 64\n",
      "Serves 2 1/2\n",
      "about 7\n",
      "Serves about 27\n",
      "Serves 630\n",
      "Serves about 8 servings\n",
      "Serves about 34\n",
      "Serves 383\n",
      "Serves about 8\n",
      "4\n",
      "Serves 8\n",
      "Serves about 19\n",
      "Serves About 11\n",
      "Serves 24\n",
      "Serves 80\n",
      "Serves 720\n",
      "Serves 12\n",
      "2\n",
      "Serves About 2.5\n",
      "6\n",
      "about 16\n",
      "Serves 227 grams\n",
      "Serves about 88\n",
      "Serves about 152\n",
      "Serves 3.5\n"
     ]
    }
   ],
   "source": [
    "unique_spc = tjhp['servings_per_container'].unique() # alue_counts()['servings_per_container']\n",
    "for spc in unique_spc:\n",
    "    print(spc)"
   ]
  },
  {
   "cell_type": "code",
   "execution_count": 233,
   "id": "ff2b7392",
   "metadata": {},
   "outputs": [
    {
     "data": {
      "text/plain": [
       "(4386, 15)"
      ]
     },
     "execution_count": 233,
     "metadata": {},
     "output_type": "execute_result"
    }
   ],
   "source": [
    "tjhp.shape"
   ]
  },
  {
   "cell_type": "code",
   "execution_count": 234,
   "id": "fa2d4862",
   "metadata": {},
   "outputs": [],
   "source": [
    "# tjhp.head(3)"
   ]
  },
  {
   "cell_type": "markdown",
   "id": "42680c2a",
   "metadata": {},
   "source": [
    "The common problems with servings per container include:\n",
    "* `Serves one` and `Serves does not need this since there is only one serving` (manually replace with 1)\n",
    "* `Serves about 3 (About 2.5 without Dressing)` (just grab first numeric)\n",
    "* `Serves 8 on 8oz and 12 on 12oz` (This might be a problem depending on whether there is a single reported calorie value)\n",
    "* `Serves varied` (idek man)"
   ]
  },
  {
   "cell_type": "code",
   "execution_count": 235,
   "id": "d3adc9c8",
   "metadata": {},
   "outputs": [],
   "source": [
    "\n",
    "tjhp = tjhp.with_columns(\n",
    "    servings_per_container=pl.when(pl.col(\"servings_per_container\").str.contains(' one', literal=True))\n",
    "    .then(1)\n",
    "    .otherwise(pl.col(\"servings_per_container\"))\n",
    ")#.filter(tjhp['servings_per_container'].str.contains(' one', literal=True))"
   ]
  },
  {
   "cell_type": "code",
   "execution_count": 236,
   "id": "6bf6c97b",
   "metadata": {},
   "outputs": [],
   "source": [
    "# (?i)(serves about)|(serves)|(about)\n",
    "tjhp = tjhp.with_columns(\n",
    "    servings_per_container=tjhp['servings_per_container'].str.extract(r'(\\d+)').cast(pl.Float32)\n",
    ")"
   ]
  },
  {
   "cell_type": "code",
   "execution_count": 237,
   "id": "ba6f24b5",
   "metadata": {},
   "outputs": [],
   "source": [
    "tjhp = tjhp.with_columns(\n",
    "    calories_per_container = tjhp['calories_per_serving'] * tjhp['servings_per_container']\n",
    ")"
   ]
  },
  {
   "cell_type": "code",
   "execution_count": 238,
   "id": "5ced4043",
   "metadata": {},
   "outputs": [],
   "source": [
    "tjhp = tjhp.with_columns(\n",
    "    dollars_per_calorie = tjhp['price_usd'] / tjhp['calories_per_container']\n",
    ")"
   ]
  },
  {
   "cell_type": "code",
   "execution_count": 239,
   "id": "b162d2b6",
   "metadata": {},
   "outputs": [],
   "source": [
    "tjhp = tjhp.with_columns(\n",
    "    calories_per_dollar = 1 / pl.col('dollars_per_calorie')\n",
    ")"
   ]
  },
  {
   "cell_type": "code",
   "execution_count": 240,
   "id": "4708873e",
   "metadata": {},
   "outputs": [
    {
     "data": {
      "text/plain": [
       "['sku',\n",
       " 'name',\n",
       " 'availability',\n",
       " 'stock_status',\n",
       " 'only_x_left_in_stock',\n",
       " 'nutrition',\n",
       " 'ingredients',\n",
       " 'popularity',\n",
       " 'price',\n",
       " 'country_of_manufacture',\n",
       " 'country_of_origin',\n",
       " 'price_usd',\n",
       " 'calories_per_serving',\n",
       " 'servings_per_container',\n",
       " 'servings_per_container_text',\n",
       " 'calories_per_container',\n",
       " 'dollars_per_calorie',\n",
       " 'calories_per_dollar']"
      ]
     },
     "execution_count": 240,
     "metadata": {},
     "output_type": "execute_result"
    }
   ],
   "source": [
    "tjhp.columns"
   ]
  },
  {
   "cell_type": "code",
   "execution_count": 241,
   "id": "12e93573",
   "metadata": {},
   "outputs": [
    {
     "data": {
      "text/html": [
       "<div><style>\n",
       ".dataframe > thead > tr,\n",
       ".dataframe > tbody > tr {\n",
       "  text-align: right;\n",
       "  white-space: pre-wrap;\n",
       "}\n",
       "</style>\n",
       "<small>shape: (3_867, 8)</small><table border=\"1\" class=\"dataframe\"><thead><tr><th>sku</th><th>name</th><th>calories_per_dollar</th><th>dollars_per_calorie</th><th>price_usd</th><th>calories_per_container</th><th>calories_per_serving</th><th>servings_per_container</th></tr><tr><td>str</td><td>str</td><td>f64</td><td>f64</td><td>f64</td><td>f32</td><td>f32</td><td>f32</td></tr></thead><tbody><tr><td>&quot;075259&quot;</td><td>&quot;MEAL CASHEW CURRY &amp; RICE&quot;</td><td>152.882206</td><td>0.006541</td><td>3.99</td><td>610.0</td><td>610.0</td><td>1.0</td></tr><tr><td>&quot;076838&quot;</td><td>&quot;HOL UNEXPECTED CHEDDAR SPREAD-…</td><td>162.324649</td><td>0.00616</td><td>4.99</td><td>810.0</td><td>90.0</td><td>9.0</td></tr><tr><td>&quot;066838&quot;</td><td>&quot;SALMON HOT SMOKED 5 OZ&quot;</td><td>36.72788</td><td>0.027227</td><td>5.99</td><td>220.0</td><td>110.0</td><td>2.0</td></tr><tr><td>&quot;054840&quot;</td><td>&quot;KALE &amp; CAULIFLOWER CURRY SALAD&quot;</td><td>75.18797</td><td>0.0133</td><td>3.99</td><td>300.0</td><td>150.0</td><td>2.0</td></tr><tr><td>&quot;074671&quot;</td><td>&quot;TUNA SOLID WHITE ALBACORE SALT…</td><td>65.326633</td><td>0.015308</td><td>1.99</td><td>130.0</td><td>130.0</td><td>1.0</td></tr><tr><td>&quot;054114&quot;</td><td>&quot;MRNTD GRLD ARTICHOKE HALVES&quot;</td><td>100.286533</td><td>0.009971</td><td>3.49</td><td>350.0</td><td>50.0</td><td>7.0</td></tr><tr><td>&quot;035881&quot;</td><td>&quot;BREADED COD FILLETS&quot;</td><td>93.437152</td><td>0.010702</td><td>8.99</td><td>840.0</td><td>280.0</td><td>3.0</td></tr><tr><td>&quot;008990&quot;</td><td>&quot;SUPERSWEET CUT WHITE CORN&quot;</td><td>268.456376</td><td>0.003725</td><td>1.49</td><td>400.0</td><td>80.0</td><td>5.0</td></tr><tr><td>&quot;082847&quot;</td><td>&quot;EGGS LARGE BROWN DOZEN&quot;</td><td>89.552239</td><td>0.011167</td><td>4.69</td><td>420.0</td><td>35.0</td><td>12.0</td></tr><tr><td>&quot;061297&quot;</td><td>&quot;HOL MIXED SUGAR GLAZED&quot;</td><td>441.102757</td><td>0.002267</td><td>3.99</td><td>1760.0</td><td>160.0</td><td>11.0</td></tr><tr><td>&hellip;</td><td>&hellip;</td><td>&hellip;</td><td>&hellip;</td><td>&hellip;</td><td>&hellip;</td><td>&hellip;</td><td>&hellip;</td></tr><tr><td>&quot;080286&quot;</td><td>&quot;HALF &amp; HALF ORGANIC QUART&quot;</td><td>272.921109</td><td>0.003664</td><td>4.69</td><td>1280.0</td><td>40.0</td><td>32.0</td></tr><tr><td>&quot;059137&quot;</td><td>&quot;SPICE EVERYTHING BUT BAGEL 2.3…</td><td>163.316583</td><td>0.006123</td><td>1.99</td><td>325.0</td><td>5.0</td><td>65.0</td></tr><tr><td>&quot;076253&quot;</td><td>&quot;HOT DOG UNCURED BEEF ORGANIC&quot;</td><td>110.183639</td><td>0.009076</td><td>5.99</td><td>660.0</td><td>110.0</td><td>6.0</td></tr><tr><td>&quot;073802&quot;</td><td>&quot;VEGAN BUFFALO DIIP&quot;</td><td>90.225564</td><td>0.011083</td><td>3.99</td><td>360.0</td><td>40.0</td><td>9.0</td></tr><tr><td>&quot;063262&quot;</td><td>&quot;ALMOND CREAMER CHOCOLATE PEPPE…</td><td>643.21608</td><td>0.001555</td><td>1.99</td><td>1280.0</td><td>40.0</td><td>32.0</td></tr><tr><td>&quot;073858&quot;</td><td>&quot;BREAD RYE MARBLED&quot;</td><td>472.77937</td><td>0.002115</td><td>3.49</td><td>1650.0</td><td>110.0</td><td>15.0</td></tr><tr><td>&quot;057824&quot;</td><td>&quot;EGG SALAD&quot;</td><td>132.264529</td><td>0.007561</td><td>4.99</td><td>660.0</td><td>220.0</td><td>3.0</td></tr><tr><td>&quot;064669&quot;</td><td>&quot;MOCHI GREEN TEA&quot;</td><td>96.192385</td><td>0.010396</td><td>4.99</td><td>480.0</td><td>80.0</td><td>6.0</td></tr><tr><td>&quot;078933&quot;</td><td>&quot;HOL BUTTER MAPLE ORGANIC&quot;</td><td>118.397086</td><td>0.008446</td><td>5.49</td><td>650.0</td><td>130.0</td><td>5.0</td></tr><tr><td>&quot;099262&quot;</td><td>&quot;QUESO CHEESE DIP&quot;</td><td>88.353414</td><td>0.011318</td><td>2.49</td><td>220.0</td><td>20.0</td><td>11.0</td></tr></tbody></table></div>"
      ],
      "text/plain": [
       "shape: (3_867, 8)\n",
       "┌────────┬────────────┬────────────┬────────────┬───────────┬────────────┬────────────┬────────────┐\n",
       "│ sku    ┆ name       ┆ calories_p ┆ dollars_pe ┆ price_usd ┆ calories_p ┆ calories_p ┆ servings_p │\n",
       "│ ---    ┆ ---        ┆ er_dollar  ┆ r_calorie  ┆ ---       ┆ er_contain ┆ er_serving ┆ er_contain │\n",
       "│ str    ┆ str        ┆ ---        ┆ ---        ┆ f64       ┆ er         ┆ ---        ┆ er         │\n",
       "│        ┆            ┆ f64        ┆ f64        ┆           ┆ ---        ┆ f32        ┆ ---        │\n",
       "│        ┆            ┆            ┆            ┆           ┆ f32        ┆            ┆ f32        │\n",
       "╞════════╪════════════╪════════════╪════════════╪═══════════╪════════════╪════════════╪════════════╡\n",
       "│ 075259 ┆ MEAL       ┆ 152.882206 ┆ 0.006541   ┆ 3.99      ┆ 610.0      ┆ 610.0      ┆ 1.0        │\n",
       "│        ┆ CASHEW     ┆            ┆            ┆           ┆            ┆            ┆            │\n",
       "│        ┆ CURRY &    ┆            ┆            ┆           ┆            ┆            ┆            │\n",
       "│        ┆ RICE       ┆            ┆            ┆           ┆            ┆            ┆            │\n",
       "│ 076838 ┆ HOL        ┆ 162.324649 ┆ 0.00616    ┆ 4.99      ┆ 810.0      ┆ 90.0       ┆ 9.0        │\n",
       "│        ┆ UNEXPECTED ┆            ┆            ┆           ┆            ┆            ┆            │\n",
       "│        ┆ CHEDDAR    ┆            ┆            ┆           ┆            ┆            ┆            │\n",
       "│        ┆ SPREAD-…   ┆            ┆            ┆           ┆            ┆            ┆            │\n",
       "│ 066838 ┆ SALMON HOT ┆ 36.72788   ┆ 0.027227   ┆ 5.99      ┆ 220.0      ┆ 110.0      ┆ 2.0        │\n",
       "│        ┆ SMOKED 5   ┆            ┆            ┆           ┆            ┆            ┆            │\n",
       "│        ┆ OZ         ┆            ┆            ┆           ┆            ┆            ┆            │\n",
       "│ 054840 ┆ KALE & CAU ┆ 75.18797   ┆ 0.0133     ┆ 3.99      ┆ 300.0      ┆ 150.0      ┆ 2.0        │\n",
       "│        ┆ LIFLOWER   ┆            ┆            ┆           ┆            ┆            ┆            │\n",
       "│        ┆ CURRY      ┆            ┆            ┆           ┆            ┆            ┆            │\n",
       "│        ┆ SALAD      ┆            ┆            ┆           ┆            ┆            ┆            │\n",
       "│ 074671 ┆ TUNA SOLID ┆ 65.326633  ┆ 0.015308   ┆ 1.99      ┆ 130.0      ┆ 130.0      ┆ 1.0        │\n",
       "│        ┆ WHITE      ┆            ┆            ┆           ┆            ┆            ┆            │\n",
       "│        ┆ ALBACORE   ┆            ┆            ┆           ┆            ┆            ┆            │\n",
       "│        ┆ SALT…      ┆            ┆            ┆           ┆            ┆            ┆            │\n",
       "│ 054114 ┆ MRNTD GRLD ┆ 100.286533 ┆ 0.009971   ┆ 3.49      ┆ 350.0      ┆ 50.0       ┆ 7.0        │\n",
       "│        ┆ ARTICHOKE  ┆            ┆            ┆           ┆            ┆            ┆            │\n",
       "│        ┆ HALVES     ┆            ┆            ┆           ┆            ┆            ┆            │\n",
       "│ 035881 ┆ BREADED    ┆ 93.437152  ┆ 0.010702   ┆ 8.99      ┆ 840.0      ┆ 280.0      ┆ 3.0        │\n",
       "│        ┆ COD        ┆            ┆            ┆           ┆            ┆            ┆            │\n",
       "│        ┆ FILLETS    ┆            ┆            ┆           ┆            ┆            ┆            │\n",
       "│ 008990 ┆ SUPERSWEET ┆ 268.456376 ┆ 0.003725   ┆ 1.49      ┆ 400.0      ┆ 80.0       ┆ 5.0        │\n",
       "│        ┆ CUT WHITE  ┆            ┆            ┆           ┆            ┆            ┆            │\n",
       "│        ┆ CORN       ┆            ┆            ┆           ┆            ┆            ┆            │\n",
       "│ 082847 ┆ EGGS LARGE ┆ 89.552239  ┆ 0.011167   ┆ 4.69      ┆ 420.0      ┆ 35.0       ┆ 12.0       │\n",
       "│        ┆ BROWN      ┆            ┆            ┆           ┆            ┆            ┆            │\n",
       "│        ┆ DOZEN      ┆            ┆            ┆           ┆            ┆            ┆            │\n",
       "│ 061297 ┆ HOL MIXED  ┆ 441.102757 ┆ 0.002267   ┆ 3.99      ┆ 1760.0     ┆ 160.0      ┆ 11.0       │\n",
       "│        ┆ SUGAR      ┆            ┆            ┆           ┆            ┆            ┆            │\n",
       "│        ┆ GLAZED     ┆            ┆            ┆           ┆            ┆            ┆            │\n",
       "│ …      ┆ …          ┆ …          ┆ …          ┆ …         ┆ …          ┆ …          ┆ …          │\n",
       "│ 080286 ┆ HALF &     ┆ 272.921109 ┆ 0.003664   ┆ 4.69      ┆ 1280.0     ┆ 40.0       ┆ 32.0       │\n",
       "│        ┆ HALF       ┆            ┆            ┆           ┆            ┆            ┆            │\n",
       "│        ┆ ORGANIC    ┆            ┆            ┆           ┆            ┆            ┆            │\n",
       "│        ┆ QUART      ┆            ┆            ┆           ┆            ┆            ┆            │\n",
       "│ 059137 ┆ SPICE      ┆ 163.316583 ┆ 0.006123   ┆ 1.99      ┆ 325.0      ┆ 5.0        ┆ 65.0       │\n",
       "│        ┆ EVERYTHING ┆            ┆            ┆           ┆            ┆            ┆            │\n",
       "│        ┆ BUT BAGEL  ┆            ┆            ┆           ┆            ┆            ┆            │\n",
       "│        ┆ 2.3…       ┆            ┆            ┆           ┆            ┆            ┆            │\n",
       "│ 076253 ┆ HOT DOG    ┆ 110.183639 ┆ 0.009076   ┆ 5.99      ┆ 660.0      ┆ 110.0      ┆ 6.0        │\n",
       "│        ┆ UNCURED    ┆            ┆            ┆           ┆            ┆            ┆            │\n",
       "│        ┆ BEEF       ┆            ┆            ┆           ┆            ┆            ┆            │\n",
       "│        ┆ ORGANIC    ┆            ┆            ┆           ┆            ┆            ┆            │\n",
       "│ 073802 ┆ VEGAN      ┆ 90.225564  ┆ 0.011083   ┆ 3.99      ┆ 360.0      ┆ 40.0       ┆ 9.0        │\n",
       "│        ┆ BUFFALO    ┆            ┆            ┆           ┆            ┆            ┆            │\n",
       "│        ┆ DIIP       ┆            ┆            ┆           ┆            ┆            ┆            │\n",
       "│ 063262 ┆ ALMOND     ┆ 643.21608  ┆ 0.001555   ┆ 1.99      ┆ 1280.0     ┆ 40.0       ┆ 32.0       │\n",
       "│        ┆ CREAMER    ┆            ┆            ┆           ┆            ┆            ┆            │\n",
       "│        ┆ CHOCOLATE  ┆            ┆            ┆           ┆            ┆            ┆            │\n",
       "│        ┆ PEPPE…     ┆            ┆            ┆           ┆            ┆            ┆            │\n",
       "│ 073858 ┆ BREAD RYE  ┆ 472.77937  ┆ 0.002115   ┆ 3.49      ┆ 1650.0     ┆ 110.0      ┆ 15.0       │\n",
       "│        ┆ MARBLED    ┆            ┆            ┆           ┆            ┆            ┆            │\n",
       "│ 057824 ┆ EGG SALAD  ┆ 132.264529 ┆ 0.007561   ┆ 4.99      ┆ 660.0      ┆ 220.0      ┆ 3.0        │\n",
       "│ 064669 ┆ MOCHI      ┆ 96.192385  ┆ 0.010396   ┆ 4.99      ┆ 480.0      ┆ 80.0       ┆ 6.0        │\n",
       "│        ┆ GREEN TEA  ┆            ┆            ┆           ┆            ┆            ┆            │\n",
       "│ 078933 ┆ HOL BUTTER ┆ 118.397086 ┆ 0.008446   ┆ 5.49      ┆ 650.0      ┆ 130.0      ┆ 5.0        │\n",
       "│        ┆ MAPLE      ┆            ┆            ┆           ┆            ┆            ┆            │\n",
       "│        ┆ ORGANIC    ┆            ┆            ┆           ┆            ┆            ┆            │\n",
       "│ 099262 ┆ QUESO      ┆ 88.353414  ┆ 0.011318   ┆ 2.49      ┆ 220.0      ┆ 20.0       ┆ 11.0       │\n",
       "│        ┆ CHEESE DIP ┆            ┆            ┆           ┆            ┆            ┆            │\n",
       "└────────┴────────────┴────────────┴────────────┴───────────┴────────────┴────────────┴────────────┘"
      ]
     },
     "execution_count": 241,
     "metadata": {},
     "output_type": "execute_result"
    }
   ],
   "source": [
    "# Remove 0-calorie nothings like salt and tea and hot sauce\n",
    "# Remove items that are just fucking free i guess??!!\n",
    "tjhp_trim = tjhp[:, ['sku', 'name', 'calories_per_dollar', 'dollars_per_calorie', 'price_usd', 'calories_per_container', 'calories_per_serving', 'servings_per_container', ]].filter(\n",
    "    ~tjhp['dollars_per_calorie'].is_null() & ~tjhp['dollars_per_calorie'].is_nan() & (tjhp['calories_per_container']!=0) & (tjhp['price_usd']!=0)\n",
    ")\n",
    "tjhp_trim"
   ]
  },
  {
   "cell_type": "markdown",
   "id": "50763db3",
   "metadata": {},
   "source": [
    "Lol why are there polars `null` and also just `NaN` brother"
   ]
  },
  {
   "cell_type": "code",
   "execution_count": 242,
   "id": "ff95e48d",
   "metadata": {},
   "outputs": [
    {
     "data": {
      "text/html": [
       "<div><style>\n",
       ".dataframe > thead > tr,\n",
       ".dataframe > tbody > tr {\n",
       "  text-align: right;\n",
       "  white-space: pre-wrap;\n",
       "}\n",
       "</style>\n",
       "<small>shape: (3_867, 8)</small><table border=\"1\" class=\"dataframe\"><thead><tr><th>sku</th><th>name</th><th>calories_per_dollar</th><th>dollars_per_calorie</th><th>price_usd</th><th>calories_per_container</th><th>calories_per_serving</th><th>servings_per_container</th></tr><tr><td>str</td><td>str</td><td>f64</td><td>f64</td><td>f64</td><td>f32</td><td>f32</td><td>f32</td></tr></thead><tbody><tr><td>&quot;077826&quot;</td><td>&quot;KIT CHOCOLATE DIPPING&quot;</td><td>120000.0</td><td>0.000008</td><td>0.01</td><td>1200.0</td><td>150.0</td><td>8.0</td></tr><tr><td>&quot;073468&quot;</td><td>&quot;INCREDISAUCE&quot;</td><td>100000.0</td><td>0.00001</td><td>0.01</td><td>1000.0</td><td>100.0</td><td>10.0</td></tr><tr><td>&quot;077328&quot;</td><td>&quot;CINNAMON SWIZZLE STICKS&quot;</td><td>72000.0</td><td>0.000014</td><td>0.01</td><td>720.0</td><td>120.0</td><td>6.0</td></tr><tr><td>&quot;077036&quot;</td><td>&quot;CINNAMON BUN TRUFFLES&quot;</td><td>48000.0</td><td>0.000021</td><td>0.01</td><td>480.0</td><td>160.0</td><td>3.0</td></tr><tr><td>&quot;067699&quot;</td><td>&quot;ALMONDS DARK CHOC AMPED-UP&quot;</td><td>38000.0</td><td>0.000026</td><td>0.01</td><td>380.0</td><td>380.0</td><td>1.0</td></tr><tr><td>&quot;092925&quot;</td><td>&quot;CRYSTALLIZED CANDIED GINGER&quot;</td><td>15969.849246</td><td>0.000063</td><td>1.99</td><td>31780.0</td><td>140.0</td><td>227.0</td></tr><tr><td>&quot;058600&quot;</td><td>&quot;UNCRYSTALLIZED CANDIED GINGER&quot;</td><td>15969.849246</td><td>0.000063</td><td>1.99</td><td>31780.0</td><td>140.0</td><td>227.0</td></tr><tr><td>&quot;077616&quot;</td><td>&quot;TJ&#x27;S CRUNCHY PEANUT BUTTER ENE…</td><td>2722.689076</td><td>0.000367</td><td>1.19</td><td>3240.0</td><td>270.0</td><td>12.0</td></tr><tr><td>&quot;077618&quot;</td><td>&quot;TJ&#x27;S CHOCOLATE CHIP ENERGY&quot;</td><td>2621.848739</td><td>0.000381</td><td>1.19</td><td>3120.0</td><td>260.0</td><td>12.0</td></tr><tr><td>&quot;052029&quot;</td><td>&quot;OIL 100% CANOLA&quot;</td><td>2303.724928</td><td>0.000434</td><td>3.49</td><td>8040.0</td><td>120.0</td><td>67.0</td></tr><tr><td>&hellip;</td><td>&hellip;</td><td>&hellip;</td><td>&hellip;</td><td>&hellip;</td><td>&hellip;</td><td>&hellip;</td><td>&hellip;</td></tr><tr><td>&quot;061708&quot;</td><td>&quot;JUICE SHOT TURMERIC&quot;</td><td>5.025126</td><td>0.199</td><td>1.99</td><td>10.0</td><td>10.0</td><td>1.0</td></tr><tr><td>&quot;162207&quot;</td><td>&quot;SELTZER WITH BLOOD ORANGE ORGA…</td><td>4.559271</td><td>0.219333</td><td>3.29</td><td>15.0</td><td>15.0</td><td>1.0</td></tr><tr><td>&quot;080233&quot;</td><td>&quot;COLD BREW COFFEE&quot;</td><td>4.559271</td><td>0.219333</td><td>3.29</td><td>15.0</td><td>15.0</td><td>1.0</td></tr><tr><td>&quot;057159&quot;</td><td>&quot;MATCHA GREEN TEA STICKS&quot;</td><td>4.380476</td><td>0.228286</td><td>7.99</td><td>35.0</td><td>5.0</td><td>7.0</td></tr><tr><td>&quot;162362&quot;</td><td>&quot;TUNA WILD SKIPJACK POUCH 12 PK&quot;</td><td>4.189944</td><td>0.238667</td><td>21.48</td><td>90.0</td><td>90.0</td><td>1.0</td></tr><tr><td>&quot;161708&quot;</td><td>&quot;COLD PRESSED JUICE SHOT ORGANI…</td><td>3.297739</td><td>0.303238</td><td>31.84</td><td>105.0</td><td>35.0</td><td>3.0</td></tr><tr><td>&quot;170308&quot;</td><td>&quot;SPARKLING GREEN TEA PINEAPPLE …</td><td>2.506266</td><td>0.399</td><td>3.99</td><td>10.0</td><td>10.0</td><td>1.0</td></tr><tr><td>&quot;175077&quot;</td><td>&quot;COLD PRESSED PROBIOTIC JUICE S…</td><td>0.628141</td><td>1.592</td><td>31.84</td><td>20.0</td><td>20.0</td><td>1.0</td></tr><tr><td>&quot;168481&quot;</td><td>&quot;COLD PRESSED JUICE SHOT 100% A…</td><td>0.471106</td><td>2.122667</td><td>31.84</td><td>15.0</td><td>15.0</td><td>1.0</td></tr><tr><td>&quot;161707&quot;</td><td>&quot;COLD PRESSED JUICE SHOT ORGANI…</td><td>0.31407</td><td>3.184</td><td>31.84</td><td>10.0</td><td>10.0</td><td>1.0</td></tr></tbody></table></div>"
      ],
      "text/plain": [
       "shape: (3_867, 8)\n",
       "┌────────┬────────────┬────────────┬────────────┬───────────┬────────────┬────────────┬────────────┐\n",
       "│ sku    ┆ name       ┆ calories_p ┆ dollars_pe ┆ price_usd ┆ calories_p ┆ calories_p ┆ servings_p │\n",
       "│ ---    ┆ ---        ┆ er_dollar  ┆ r_calorie  ┆ ---       ┆ er_contain ┆ er_serving ┆ er_contain │\n",
       "│ str    ┆ str        ┆ ---        ┆ ---        ┆ f64       ┆ er         ┆ ---        ┆ er         │\n",
       "│        ┆            ┆ f64        ┆ f64        ┆           ┆ ---        ┆ f32        ┆ ---        │\n",
       "│        ┆            ┆            ┆            ┆           ┆ f32        ┆            ┆ f32        │\n",
       "╞════════╪════════════╪════════════╪════════════╪═══════════╪════════════╪════════════╪════════════╡\n",
       "│ 077826 ┆ KIT        ┆ 120000.0   ┆ 0.000008   ┆ 0.01      ┆ 1200.0     ┆ 150.0      ┆ 8.0        │\n",
       "│        ┆ CHOCOLATE  ┆            ┆            ┆           ┆            ┆            ┆            │\n",
       "│        ┆ DIPPING    ┆            ┆            ┆           ┆            ┆            ┆            │\n",
       "│ 073468 ┆ INCREDISAU ┆ 100000.0   ┆ 0.00001    ┆ 0.01      ┆ 1000.0     ┆ 100.0      ┆ 10.0       │\n",
       "│        ┆ CE         ┆            ┆            ┆           ┆            ┆            ┆            │\n",
       "│ 077328 ┆ CINNAMON   ┆ 72000.0    ┆ 0.000014   ┆ 0.01      ┆ 720.0      ┆ 120.0      ┆ 6.0        │\n",
       "│        ┆ SWIZZLE    ┆            ┆            ┆           ┆            ┆            ┆            │\n",
       "│        ┆ STICKS     ┆            ┆            ┆           ┆            ┆            ┆            │\n",
       "│ 077036 ┆ CINNAMON   ┆ 48000.0    ┆ 0.000021   ┆ 0.01      ┆ 480.0      ┆ 160.0      ┆ 3.0        │\n",
       "│        ┆ BUN        ┆            ┆            ┆           ┆            ┆            ┆            │\n",
       "│        ┆ TRUFFLES   ┆            ┆            ┆           ┆            ┆            ┆            │\n",
       "│ 067699 ┆ ALMONDS    ┆ 38000.0    ┆ 0.000026   ┆ 0.01      ┆ 380.0      ┆ 380.0      ┆ 1.0        │\n",
       "│        ┆ DARK CHOC  ┆            ┆            ┆           ┆            ┆            ┆            │\n",
       "│        ┆ AMPED-UP   ┆            ┆            ┆           ┆            ┆            ┆            │\n",
       "│ 092925 ┆ CRYSTALLIZ ┆ 15969.8492 ┆ 0.000063   ┆ 1.99      ┆ 31780.0    ┆ 140.0      ┆ 227.0      │\n",
       "│        ┆ ED CANDIED ┆ 46         ┆            ┆           ┆            ┆            ┆            │\n",
       "│        ┆ GINGER     ┆            ┆            ┆           ┆            ┆            ┆            │\n",
       "│ 058600 ┆ UNCRYSTALL ┆ 15969.8492 ┆ 0.000063   ┆ 1.99      ┆ 31780.0    ┆ 140.0      ┆ 227.0      │\n",
       "│        ┆ IZED       ┆ 46         ┆            ┆           ┆            ┆            ┆            │\n",
       "│        ┆ CANDIED    ┆            ┆            ┆           ┆            ┆            ┆            │\n",
       "│        ┆ GINGER     ┆            ┆            ┆           ┆            ┆            ┆            │\n",
       "│ 077616 ┆ TJ'S       ┆ 2722.68907 ┆ 0.000367   ┆ 1.19      ┆ 3240.0     ┆ 270.0      ┆ 12.0       │\n",
       "│        ┆ CRUNCHY    ┆ 6          ┆            ┆           ┆            ┆            ┆            │\n",
       "│        ┆ PEANUT     ┆            ┆            ┆           ┆            ┆            ┆            │\n",
       "│        ┆ BUTTER     ┆            ┆            ┆           ┆            ┆            ┆            │\n",
       "│        ┆ ENE…       ┆            ┆            ┆           ┆            ┆            ┆            │\n",
       "│ 077618 ┆ TJ'S       ┆ 2621.84873 ┆ 0.000381   ┆ 1.19      ┆ 3120.0     ┆ 260.0      ┆ 12.0       │\n",
       "│        ┆ CHOCOLATE  ┆ 9          ┆            ┆           ┆            ┆            ┆            │\n",
       "│        ┆ CHIP       ┆            ┆            ┆           ┆            ┆            ┆            │\n",
       "│        ┆ ENERGY     ┆            ┆            ┆           ┆            ┆            ┆            │\n",
       "│ 052029 ┆ OIL 100%   ┆ 2303.72492 ┆ 0.000434   ┆ 3.49      ┆ 8040.0     ┆ 120.0      ┆ 67.0       │\n",
       "│        ┆ CANOLA     ┆ 8          ┆            ┆           ┆            ┆            ┆            │\n",
       "│ …      ┆ …          ┆ …          ┆ …          ┆ …         ┆ …          ┆ …          ┆ …          │\n",
       "│ 061708 ┆ JUICE SHOT ┆ 5.025126   ┆ 0.199      ┆ 1.99      ┆ 10.0       ┆ 10.0       ┆ 1.0        │\n",
       "│        ┆ TURMERIC   ┆            ┆            ┆           ┆            ┆            ┆            │\n",
       "│ 162207 ┆ SELTZER    ┆ 4.559271   ┆ 0.219333   ┆ 3.29      ┆ 15.0       ┆ 15.0       ┆ 1.0        │\n",
       "│        ┆ WITH BLOOD ┆            ┆            ┆           ┆            ┆            ┆            │\n",
       "│        ┆ ORANGE     ┆            ┆            ┆           ┆            ┆            ┆            │\n",
       "│        ┆ ORGA…      ┆            ┆            ┆           ┆            ┆            ┆            │\n",
       "│ 080233 ┆ COLD BREW  ┆ 4.559271   ┆ 0.219333   ┆ 3.29      ┆ 15.0       ┆ 15.0       ┆ 1.0        │\n",
       "│        ┆ COFFEE     ┆            ┆            ┆           ┆            ┆            ┆            │\n",
       "│ 057159 ┆ MATCHA     ┆ 4.380476   ┆ 0.228286   ┆ 7.99      ┆ 35.0       ┆ 5.0        ┆ 7.0        │\n",
       "│        ┆ GREEN TEA  ┆            ┆            ┆           ┆            ┆            ┆            │\n",
       "│        ┆ STICKS     ┆            ┆            ┆           ┆            ┆            ┆            │\n",
       "│ 162362 ┆ TUNA WILD  ┆ 4.189944   ┆ 0.238667   ┆ 21.48     ┆ 90.0       ┆ 90.0       ┆ 1.0        │\n",
       "│        ┆ SKIPJACK   ┆            ┆            ┆           ┆            ┆            ┆            │\n",
       "│        ┆ POUCH 12   ┆            ┆            ┆           ┆            ┆            ┆            │\n",
       "│        ┆ PK         ┆            ┆            ┆           ┆            ┆            ┆            │\n",
       "│ 161708 ┆ COLD       ┆ 3.297739   ┆ 0.303238   ┆ 31.84     ┆ 105.0      ┆ 35.0       ┆ 3.0        │\n",
       "│        ┆ PRESSED    ┆            ┆            ┆           ┆            ┆            ┆            │\n",
       "│        ┆ JUICE SHOT ┆            ┆            ┆           ┆            ┆            ┆            │\n",
       "│        ┆ ORGANI…    ┆            ┆            ┆           ┆            ┆            ┆            │\n",
       "│ 170308 ┆ SPARKLING  ┆ 2.506266   ┆ 0.399      ┆ 3.99      ┆ 10.0       ┆ 10.0       ┆ 1.0        │\n",
       "│        ┆ GREEN TEA  ┆            ┆            ┆           ┆            ┆            ┆            │\n",
       "│        ┆ PINEAPPLE  ┆            ┆            ┆           ┆            ┆            ┆            │\n",
       "│        ┆ …          ┆            ┆            ┆           ┆            ┆            ┆            │\n",
       "│ 175077 ┆ COLD       ┆ 0.628141   ┆ 1.592      ┆ 31.84     ┆ 20.0       ┆ 20.0       ┆ 1.0        │\n",
       "│        ┆ PRESSED    ┆            ┆            ┆           ┆            ┆            ┆            │\n",
       "│        ┆ PROBIOTIC  ┆            ┆            ┆           ┆            ┆            ┆            │\n",
       "│        ┆ JUICE S…   ┆            ┆            ┆           ┆            ┆            ┆            │\n",
       "│ 168481 ┆ COLD       ┆ 0.471106   ┆ 2.122667   ┆ 31.84     ┆ 15.0       ┆ 15.0       ┆ 1.0        │\n",
       "│        ┆ PRESSED    ┆            ┆            ┆           ┆            ┆            ┆            │\n",
       "│        ┆ JUICE SHOT ┆            ┆            ┆           ┆            ┆            ┆            │\n",
       "│        ┆ 100% A…    ┆            ┆            ┆           ┆            ┆            ┆            │\n",
       "│ 161707 ┆ COLD       ┆ 0.31407    ┆ 3.184      ┆ 31.84     ┆ 10.0       ┆ 10.0       ┆ 1.0        │\n",
       "│        ┆ PRESSED    ┆            ┆            ┆           ┆            ┆            ┆            │\n",
       "│        ┆ JUICE SHOT ┆            ┆            ┆           ┆            ┆            ┆            │\n",
       "│        ┆ ORGANI…    ┆            ┆            ┆           ┆            ┆            ┆            │\n",
       "└────────┴────────────┴────────────┴────────────┴───────────┴────────────┴────────────┴────────────┘"
      ]
     },
     "execution_count": 242,
     "metadata": {},
     "output_type": "execute_result"
    }
   ],
   "source": [
    "tjhp_trim.sort(by='dollars_per_calorie', descending=False)\n",
    "# Chocolatey dipping kit limited time only, caloric maximum is a fucking cryptid, it's lost media\n",
    "# NO these fucking prices are just straight up wrong, 1 cent???"
   ]
  },
  {
   "cell_type": "code",
   "execution_count": 244,
   "id": "637a75ad",
   "metadata": {},
   "outputs": [
    {
     "data": {
      "text/html": [
       "<div><style>\n",
       ".dataframe > thead > tr,\n",
       ".dataframe > tbody > tr {\n",
       "  text-align: right;\n",
       "  white-space: pre-wrap;\n",
       "}\n",
       "</style>\n",
       "<small>shape: (20, 8)</small><table border=\"1\" class=\"dataframe\"><thead><tr><th>sku</th><th>name</th><th>calories_per_dollar</th><th>dollars_per_calorie</th><th>price_usd</th><th>calories_per_container</th><th>calories_per_serving</th><th>servings_per_container</th></tr><tr><td>str</td><td>str</td><td>f64</td><td>f64</td><td>f64</td><td>f32</td><td>f32</td><td>f32</td></tr></thead><tbody><tr><td>&quot;077826&quot;</td><td>&quot;KIT CHOCOLATE DIPPING&quot;</td><td>120000.0</td><td>0.000008</td><td>0.01</td><td>1200.0</td><td>150.0</td><td>8.0</td></tr><tr><td>&quot;073468&quot;</td><td>&quot;INCREDISAUCE&quot;</td><td>100000.0</td><td>0.00001</td><td>0.01</td><td>1000.0</td><td>100.0</td><td>10.0</td></tr><tr><td>&quot;077328&quot;</td><td>&quot;CINNAMON SWIZZLE STICKS&quot;</td><td>72000.0</td><td>0.000014</td><td>0.01</td><td>720.0</td><td>120.0</td><td>6.0</td></tr><tr><td>&quot;077036&quot;</td><td>&quot;CINNAMON BUN TRUFFLES&quot;</td><td>48000.0</td><td>0.000021</td><td>0.01</td><td>480.0</td><td>160.0</td><td>3.0</td></tr><tr><td>&quot;067699&quot;</td><td>&quot;ALMONDS DARK CHOC AMPED-UP&quot;</td><td>38000.0</td><td>0.000026</td><td>0.01</td><td>380.0</td><td>380.0</td><td>1.0</td></tr><tr><td>&hellip;</td><td>&hellip;</td><td>&hellip;</td><td>&hellip;</td><td>&hellip;</td><td>&hellip;</td><td>&hellip;</td><td>&hellip;</td></tr><tr><td>&quot;079176&quot;</td><td>&quot;HOL FESTIVELY SHAPED PRETZELS&quot;</td><td>1333.333333</td><td>0.00075</td><td>0.99</td><td>1320.0</td><td>120.0</td><td>11.0</td></tr><tr><td>&quot;070185&quot;</td><td>&quot;RICE CALROSE&quot;</td><td>1285.140562</td><td>0.000778</td><td>2.49</td><td>3200.0</td><td>160.0</td><td>20.0</td></tr><tr><td>&quot;038985&quot;</td><td>&quot;SALTED TORTILLA CHIPS 2 LB&quot;</td><td>1283.667622</td><td>0.000779</td><td>3.49</td><td>4480.0</td><td>140.0</td><td>32.0</td></tr><tr><td>&quot;065544&quot;</td><td>&quot;PASTA FETTUCCINE ORGANIC&quot;</td><td>1240.310078</td><td>0.000806</td><td>1.29</td><td>1600.0</td><td>200.0</td><td>8.0</td></tr><tr><td>&quot;056048&quot;</td><td>&quot;PEANUT BUTTER CREAMY NO STIR&quot;</td><td>1214.611872</td><td>0.000823</td><td>2.19</td><td>2660.0</td><td>190.0</td><td>14.0</td></tr></tbody></table></div>"
      ],
      "text/plain": [
       "shape: (20, 8)\n",
       "┌────────┬────────────┬────────────┬────────────┬───────────┬────────────┬────────────┬────────────┐\n",
       "│ sku    ┆ name       ┆ calories_p ┆ dollars_pe ┆ price_usd ┆ calories_p ┆ calories_p ┆ servings_p │\n",
       "│ ---    ┆ ---        ┆ er_dollar  ┆ r_calorie  ┆ ---       ┆ er_contain ┆ er_serving ┆ er_contain │\n",
       "│ str    ┆ str        ┆ ---        ┆ ---        ┆ f64       ┆ er         ┆ ---        ┆ er         │\n",
       "│        ┆            ┆ f64        ┆ f64        ┆           ┆ ---        ┆ f32        ┆ ---        │\n",
       "│        ┆            ┆            ┆            ┆           ┆ f32        ┆            ┆ f32        │\n",
       "╞════════╪════════════╪════════════╪════════════╪═══════════╪════════════╪════════════╪════════════╡\n",
       "│ 077826 ┆ KIT        ┆ 120000.0   ┆ 0.000008   ┆ 0.01      ┆ 1200.0     ┆ 150.0      ┆ 8.0        │\n",
       "│        ┆ CHOCOLATE  ┆            ┆            ┆           ┆            ┆            ┆            │\n",
       "│        ┆ DIPPING    ┆            ┆            ┆           ┆            ┆            ┆            │\n",
       "│ 073468 ┆ INCREDISAU ┆ 100000.0   ┆ 0.00001    ┆ 0.01      ┆ 1000.0     ┆ 100.0      ┆ 10.0       │\n",
       "│        ┆ CE         ┆            ┆            ┆           ┆            ┆            ┆            │\n",
       "│ 077328 ┆ CINNAMON   ┆ 72000.0    ┆ 0.000014   ┆ 0.01      ┆ 720.0      ┆ 120.0      ┆ 6.0        │\n",
       "│        ┆ SWIZZLE    ┆            ┆            ┆           ┆            ┆            ┆            │\n",
       "│        ┆ STICKS     ┆            ┆            ┆           ┆            ┆            ┆            │\n",
       "│ 077036 ┆ CINNAMON   ┆ 48000.0    ┆ 0.000021   ┆ 0.01      ┆ 480.0      ┆ 160.0      ┆ 3.0        │\n",
       "│        ┆ BUN        ┆            ┆            ┆           ┆            ┆            ┆            │\n",
       "│        ┆ TRUFFLES   ┆            ┆            ┆           ┆            ┆            ┆            │\n",
       "│ 067699 ┆ ALMONDS    ┆ 38000.0    ┆ 0.000026   ┆ 0.01      ┆ 380.0      ┆ 380.0      ┆ 1.0        │\n",
       "│        ┆ DARK CHOC  ┆            ┆            ┆           ┆            ┆            ┆            │\n",
       "│        ┆ AMPED-UP   ┆            ┆            ┆           ┆            ┆            ┆            │\n",
       "│ …      ┆ …          ┆ …          ┆ …          ┆ …         ┆ …          ┆ …          ┆ …          │\n",
       "│ 079176 ┆ HOL        ┆ 1333.33333 ┆ 0.00075    ┆ 0.99      ┆ 1320.0     ┆ 120.0      ┆ 11.0       │\n",
       "│        ┆ FESTIVELY  ┆ 3          ┆            ┆           ┆            ┆            ┆            │\n",
       "│        ┆ SHAPED     ┆            ┆            ┆           ┆            ┆            ┆            │\n",
       "│        ┆ PRETZELS   ┆            ┆            ┆           ┆            ┆            ┆            │\n",
       "│ 070185 ┆ RICE       ┆ 1285.14056 ┆ 0.000778   ┆ 2.49      ┆ 3200.0     ┆ 160.0      ┆ 20.0       │\n",
       "│        ┆ CALROSE    ┆ 2          ┆            ┆           ┆            ┆            ┆            │\n",
       "│ 038985 ┆ SALTED     ┆ 1283.66762 ┆ 0.000779   ┆ 3.49      ┆ 4480.0     ┆ 140.0      ┆ 32.0       │\n",
       "│        ┆ TORTILLA   ┆ 2          ┆            ┆           ┆            ┆            ┆            │\n",
       "│        ┆ CHIPS 2 LB ┆            ┆            ┆           ┆            ┆            ┆            │\n",
       "│ 065544 ┆ PASTA      ┆ 1240.31007 ┆ 0.000806   ┆ 1.29      ┆ 1600.0     ┆ 200.0      ┆ 8.0        │\n",
       "│        ┆ FETTUCCINE ┆ 8          ┆            ┆           ┆            ┆            ┆            │\n",
       "│        ┆ ORGANIC    ┆            ┆            ┆           ┆            ┆            ┆            │\n",
       "│ 056048 ┆ PEANUT     ┆ 1214.61187 ┆ 0.000823   ┆ 2.19      ┆ 2660.0     ┆ 190.0      ┆ 14.0       │\n",
       "│        ┆ BUTTER     ┆ 2          ┆            ┆           ┆            ┆            ┆            │\n",
       "│        ┆ CREAMY NO  ┆            ┆            ┆           ┆            ┆            ┆            │\n",
       "│        ┆ STIR       ┆            ┆            ┆           ┆            ┆            ┆            │\n",
       "└────────┴────────────┴────────────┴────────────┴───────────┴────────────┴────────────┴────────────┘"
      ]
     },
     "execution_count": 244,
     "metadata": {},
     "output_type": "execute_result"
    }
   ],
   "source": [
    "cfg = pl.Config()\n",
    "cfg.set_tbl_rows(10)\n",
    "# with pl.Config(tbl_rows=10):\n",
    "#     tjhp_trim.sort(by='dollars_per_calorie', descending=False)\n",
    "tjhp_trim.sort(by='calories_per_dollar', descending=True).head(20)\n",
    "# How can I do a HAVING filter after the sort? To remove crazy low dollars_per_calorie values\n",
    "## What did I mean by this. Maybe HAVING after the calories_per_container thing?"
   ]
  },
  {
   "cell_type": "markdown",
   "id": "835856b0",
   "metadata": {},
   "source": [
    "Let's filter out products that obviously make no sense, e.g. excessive calories in a container and $0.01 price tags."
   ]
  },
  {
   "cell_type": "code",
   "execution_count": 247,
   "id": "06cbd45d",
   "metadata": {},
   "outputs": [],
   "source": [
    "tjhp_clean = tjhp_trim.clone() # Deep copy"
   ]
  },
  {
   "cell_type": "code",
   "execution_count": 248,
   "id": "c6a594d4",
   "metadata": {},
   "outputs": [],
   "source": [
    "tjhp_clean = tjhp_clean.sort(by='calories_per_dollar', descending=True)\n"
   ]
  },
  {
   "cell_type": "code",
   "execution_count": 249,
   "id": "1cf3d1e5",
   "metadata": {},
   "outputs": [
    {
     "data": {
      "text/html": [
       "<div><style>\n",
       ".dataframe > thead > tr,\n",
       ".dataframe > tbody > tr {\n",
       "  text-align: right;\n",
       "  white-space: pre-wrap;\n",
       "}\n",
       "</style>\n",
       "<small>shape: (10, 3)</small><table border=\"1\" class=\"dataframe\"><thead><tr><th>breakpoint</th><th>category</th><th>count</th></tr><tr><td>f64</td><td>cat</td><td>u32</td></tr></thead><tbody><tr><td>3.193</td><td>&quot;[0.01, 3.193]&quot;</td><td>1351</td></tr><tr><td>6.376</td><td>&quot;(3.193, 6.376]&quot;</td><td>2154</td></tr><tr><td>9.559</td><td>&quot;(6.376, 9.559]&quot;</td><td>266</td></tr><tr><td>12.742</td><td>&quot;(9.559, 12.742]&quot;</td><td>61</td></tr><tr><td>15.925</td><td>&quot;(12.742, 15.925]&quot;</td><td>17</td></tr><tr><td>19.108</td><td>&quot;(15.925, 19.108]&quot;</td><td>6</td></tr><tr><td>22.291</td><td>&quot;(19.108, 22.291]&quot;</td><td>6</td></tr><tr><td>25.474</td><td>&quot;(22.291, 25.474]&quot;</td><td>2</td></tr><tr><td>28.657</td><td>&quot;(25.474, 28.657]&quot;</td><td>0</td></tr><tr><td>31.84</td><td>&quot;(28.657, 31.84]&quot;</td><td>4</td></tr></tbody></table></div>"
      ],
      "text/plain": [
       "shape: (10, 3)\n",
       "┌────────────┬──────────────────┬───────┐\n",
       "│ breakpoint ┆ category         ┆ count │\n",
       "│ ---        ┆ ---              ┆ ---   │\n",
       "│ f64        ┆ cat              ┆ u32   │\n",
       "╞════════════╪══════════════════╪═══════╡\n",
       "│ 3.193      ┆ [0.01, 3.193]    ┆ 1351  │\n",
       "│ 6.376      ┆ (3.193, 6.376]   ┆ 2154  │\n",
       "│ 9.559      ┆ (6.376, 9.559]   ┆ 266   │\n",
       "│ 12.742     ┆ (9.559, 12.742]  ┆ 61    │\n",
       "│ 15.925     ┆ (12.742, 15.925] ┆ 17    │\n",
       "│ 19.108     ┆ (15.925, 19.108] ┆ 6     │\n",
       "│ 22.291     ┆ (19.108, 22.291] ┆ 6     │\n",
       "│ 25.474     ┆ (22.291, 25.474] ┆ 2     │\n",
       "│ 28.657     ┆ (25.474, 28.657] ┆ 0     │\n",
       "│ 31.84      ┆ (28.657, 31.84]  ┆ 4     │\n",
       "└────────────┴──────────────────┴───────┘"
      ]
     },
     "execution_count": 249,
     "metadata": {},
     "output_type": "execute_result"
    }
   ],
   "source": [
    "tjhp_clean['price_usd'].hist()"
   ]
  },
  {
   "cell_type": "code",
   "execution_count": 258,
   "id": "f5228726",
   "metadata": {},
   "outputs": [
    {
     "data": {
      "text/html": [
       "<div><style>\n",
       ".dataframe > thead > tr,\n",
       ".dataframe > tbody > tr {\n",
       "  text-align: right;\n",
       "  white-space: pre-wrap;\n",
       "}\n",
       "</style>\n",
       "<small>shape: (11, 8)</small><table border=\"1\" class=\"dataframe\"><thead><tr><th>sku</th><th>name</th><th>calories_per_dollar</th><th>dollars_per_calorie</th><th>price_usd</th><th>calories_per_container</th><th>calories_per_serving</th><th>servings_per_container</th></tr><tr><td>str</td><td>str</td><td>f64</td><td>f64</td><td>f64</td><td>f32</td><td>f32</td><td>f32</td></tr></thead><tbody><tr><td>&quot;077826&quot;</td><td>&quot;KIT CHOCOLATE DIPPING&quot;</td><td>120000.0</td><td>0.000008</td><td>0.01</td><td>1200.0</td><td>150.0</td><td>8.0</td></tr><tr><td>&quot;073468&quot;</td><td>&quot;INCREDISAUCE&quot;</td><td>100000.0</td><td>0.00001</td><td>0.01</td><td>1000.0</td><td>100.0</td><td>10.0</td></tr><tr><td>&quot;077328&quot;</td><td>&quot;CINNAMON SWIZZLE STICKS&quot;</td><td>72000.0</td><td>0.000014</td><td>0.01</td><td>720.0</td><td>120.0</td><td>6.0</td></tr><tr><td>&quot;077036&quot;</td><td>&quot;CINNAMON BUN TRUFFLES&quot;</td><td>48000.0</td><td>0.000021</td><td>0.01</td><td>480.0</td><td>160.0</td><td>3.0</td></tr><tr><td>&quot;067699&quot;</td><td>&quot;ALMONDS DARK CHOC AMPED-UP&quot;</td><td>38000.0</td><td>0.000026</td><td>0.01</td><td>380.0</td><td>380.0</td><td>1.0</td></tr><tr><td>&hellip;</td><td>&hellip;</td><td>&hellip;</td><td>&hellip;</td><td>&hellip;</td><td>&hellip;</td><td>&hellip;</td><td>&hellip;</td></tr><tr><td>&quot;042974&quot;</td><td>&quot;ORG APPLE STRAWBERRY FRUIT WRA…</td><td>91.836735</td><td>0.010889</td><td>0.49</td><td>45.0</td><td>45.0</td><td>1.0</td></tr><tr><td>&quot;042973&quot;</td><td>&quot;ORG APPLE RASPBERRY FRUIT WRAP&quot;</td><td>91.836735</td><td>0.010889</td><td>0.49</td><td>45.0</td><td>45.0</td><td>1.0</td></tr><tr><td>&quot;081316&quot;</td><td>&quot;ORG SOUR WATERMELON BAR&quot;</td><td>91.836735</td><td>0.010889</td><td>0.49</td><td>45.0</td><td>45.0</td><td>1.0</td></tr><tr><td>&quot;097560&quot;</td><td>&quot;ORG APPLE BLUEBERRY FRUIT WRAP&quot;</td><td>91.836735</td><td>0.010889</td><td>0.49</td><td>45.0</td><td>45.0</td><td>1.0</td></tr><tr><td>&quot;043026&quot;</td><td>&quot;ORG APPLE WILD BERRY FRUIT WRA…</td><td>91.836735</td><td>0.010889</td><td>0.49</td><td>45.0</td><td>45.0</td><td>1.0</td></tr></tbody></table></div>"
      ],
      "text/plain": [
       "shape: (11, 8)\n",
       "┌────────┬────────────┬────────────┬────────────┬───────────┬────────────┬────────────┬────────────┐\n",
       "│ sku    ┆ name       ┆ calories_p ┆ dollars_pe ┆ price_usd ┆ calories_p ┆ calories_p ┆ servings_p │\n",
       "│ ---    ┆ ---        ┆ er_dollar  ┆ r_calorie  ┆ ---       ┆ er_contain ┆ er_serving ┆ er_contain │\n",
       "│ str    ┆ str        ┆ ---        ┆ ---        ┆ f64       ┆ er         ┆ ---        ┆ er         │\n",
       "│        ┆            ┆ f64        ┆ f64        ┆           ┆ ---        ┆ f32        ┆ ---        │\n",
       "│        ┆            ┆            ┆            ┆           ┆ f32        ┆            ┆ f32        │\n",
       "╞════════╪════════════╪════════════╪════════════╪═══════════╪════════════╪════════════╪════════════╡\n",
       "│ 077826 ┆ KIT        ┆ 120000.0   ┆ 0.000008   ┆ 0.01      ┆ 1200.0     ┆ 150.0      ┆ 8.0        │\n",
       "│        ┆ CHOCOLATE  ┆            ┆            ┆           ┆            ┆            ┆            │\n",
       "│        ┆ DIPPING    ┆            ┆            ┆           ┆            ┆            ┆            │\n",
       "│ 073468 ┆ INCREDISAU ┆ 100000.0   ┆ 0.00001    ┆ 0.01      ┆ 1000.0     ┆ 100.0      ┆ 10.0       │\n",
       "│        ┆ CE         ┆            ┆            ┆           ┆            ┆            ┆            │\n",
       "│ 077328 ┆ CINNAMON   ┆ 72000.0    ┆ 0.000014   ┆ 0.01      ┆ 720.0      ┆ 120.0      ┆ 6.0        │\n",
       "│        ┆ SWIZZLE    ┆            ┆            ┆           ┆            ┆            ┆            │\n",
       "│        ┆ STICKS     ┆            ┆            ┆           ┆            ┆            ┆            │\n",
       "│ 077036 ┆ CINNAMON   ┆ 48000.0    ┆ 0.000021   ┆ 0.01      ┆ 480.0      ┆ 160.0      ┆ 3.0        │\n",
       "│        ┆ BUN        ┆            ┆            ┆           ┆            ┆            ┆            │\n",
       "│        ┆ TRUFFLES   ┆            ┆            ┆           ┆            ┆            ┆            │\n",
       "│ 067699 ┆ ALMONDS    ┆ 38000.0    ┆ 0.000026   ┆ 0.01      ┆ 380.0      ┆ 380.0      ┆ 1.0        │\n",
       "│        ┆ DARK CHOC  ┆            ┆            ┆           ┆            ┆            ┆            │\n",
       "│        ┆ AMPED-UP   ┆            ┆            ┆           ┆            ┆            ┆            │\n",
       "│ …      ┆ …          ┆ …          ┆ …          ┆ …         ┆ …          ┆ …          ┆ …          │\n",
       "│ 042974 ┆ ORG APPLE  ┆ 91.836735  ┆ 0.010889   ┆ 0.49      ┆ 45.0       ┆ 45.0       ┆ 1.0        │\n",
       "│        ┆ STRAWBERRY ┆            ┆            ┆           ┆            ┆            ┆            │\n",
       "│        ┆ FRUIT WRA… ┆            ┆            ┆           ┆            ┆            ┆            │\n",
       "│ 042973 ┆ ORG APPLE  ┆ 91.836735  ┆ 0.010889   ┆ 0.49      ┆ 45.0       ┆ 45.0       ┆ 1.0        │\n",
       "│        ┆ RASPBERRY  ┆            ┆            ┆           ┆            ┆            ┆            │\n",
       "│        ┆ FRUIT WRAP ┆            ┆            ┆           ┆            ┆            ┆            │\n",
       "│ 081316 ┆ ORG SOUR   ┆ 91.836735  ┆ 0.010889   ┆ 0.49      ┆ 45.0       ┆ 45.0       ┆ 1.0        │\n",
       "│        ┆ WATERMELON ┆            ┆            ┆           ┆            ┆            ┆            │\n",
       "│        ┆ BAR        ┆            ┆            ┆           ┆            ┆            ┆            │\n",
       "│ 097560 ┆ ORG APPLE  ┆ 91.836735  ┆ 0.010889   ┆ 0.49      ┆ 45.0       ┆ 45.0       ┆ 1.0        │\n",
       "│        ┆ BLUEBERRY  ┆            ┆            ┆           ┆            ┆            ┆            │\n",
       "│        ┆ FRUIT WRAP ┆            ┆            ┆           ┆            ┆            ┆            │\n",
       "│ 043026 ┆ ORG APPLE  ┆ 91.836735  ┆ 0.010889   ┆ 0.49      ┆ 45.0       ┆ 45.0       ┆ 1.0        │\n",
       "│        ┆ WILD BERRY ┆            ┆            ┆           ┆            ┆            ┆            │\n",
       "│        ┆ FRUIT WRA… ┆            ┆            ┆           ┆            ┆            ┆            │\n",
       "└────────┴────────────┴────────────┴────────────┴───────────┴────────────┴────────────┴────────────┘"
      ]
     },
     "execution_count": 258,
     "metadata": {},
     "output_type": "execute_result"
    }
   ],
   "source": [
    "tjhp_clean.filter(tjhp_clean['price_usd'] <= 0.49)"
   ]
  },
  {
   "cell_type": "code",
   "execution_count": 259,
   "id": "6faf04fb",
   "metadata": {},
   "outputs": [],
   "source": [
    "# tjhp = tjhp.with_columns(\n",
    "#     calories_per_dollar = 1 / pl.col('dollars_per_calorie')\n",
    "# )\n",
    "\n",
    "# df.filter REMOVES (filters lol) things that satisfy the condition\n",
    "tjhp_clean = tjhp_clean.filter(\n",
    "        (tjhp_clean['calories_per_container'] < 30000) # Demon core candied ginger\n",
    "        &\n",
    "        (tjhp_clean['price_usd'] >= 0.48) # Threshold to just include fruit wraps and \"just a handful\"-type products\n",
    ")"
   ]
  },
  {
   "cell_type": "code",
   "execution_count": 260,
   "id": "172dfb0e",
   "metadata": {},
   "outputs": [],
   "source": [
    "# tjhp.filter(~tjhp['servings_per_container'].str.contains('[(serves)(Serves)(about)]'))"
   ]
  },
  {
   "cell_type": "code",
   "execution_count": 261,
   "id": "26984592",
   "metadata": {},
   "outputs": [],
   "source": [
    "# # Energy Bar Peanut Butter / tjhp'S CRUNCHY PEANUT BUTTER ENERGY\n",
    "# # Wrong, it is listing price of a single bar, but servings as 12 bars!!!!\n",
    "# tjhp.filter(tjhp['sku'] == '077616')\n",
    "\n",
    "# # Same issue with tjhp'S CHOCOLATE CHIP ENERGY"
   ]
  },
  {
   "cell_type": "code",
   "execution_count": 262,
   "id": "70909581",
   "metadata": {},
   "outputs": [
    {
     "data": {
      "text/html": [
       "<div><style>\n",
       ".dataframe > thead > tr,\n",
       ".dataframe > tbody > tr {\n",
       "  text-align: right;\n",
       "  white-space: pre-wrap;\n",
       "}\n",
       "</style>\n",
       "<small>shape: (1, 18)</small><table border=\"1\" class=\"dataframe\"><thead><tr><th>sku</th><th>name</th><th>availability</th><th>stock_status</th><th>only_x_left_in_stock</th><th>nutrition</th><th>ingredients</th><th>popularity</th><th>price</th><th>country_of_manufacture</th><th>country_of_origin</th><th>price_usd</th><th>calories_per_serving</th><th>servings_per_container</th><th>servings_per_container_text</th><th>calories_per_container</th><th>dollars_per_calorie</th><th>calories_per_dollar</th></tr><tr><td>str</td><td>str</td><td>str</td><td>str</td><td>null</td><td>list[struct[7]]</td><td>list[struct[2]]</td><td>str</td><td>struct[1]</td><td>null</td><td>str</td><td>f64</td><td>f32</td><td>f32</td><td>str</td><td>f32</td><td>f64</td><td>f64</td></tr></thead><tbody><tr><td>&quot;070379&quot;</td><td>&quot;OIL CANOLA SPRAY ORGANIC&quot;</td><td>&quot;1&quot;</td><td>&quot;OUT_OF_STOCK&quot;</td><td>null</td><td>[{&quot;0 &quot;,[{&quot;0 g&quot;,1,&quot;Total Fat&quot;,&quot;0&quot;}, {&quot;0 mg&quot;,2,&quot;Sodium&quot;,&quot;0&quot;}, … {&quot;0 g&quot;,10,&quot;Protein&quot;,&quot;&quot;}],0,1,&quot;&quot;,&quot;1/3 second spray (0.25g)&quot;,&quot;Serves 536&quot;}]</td><td>[{1,&quot;ORGANIC CANOLA OIL&quot;}]</td><td>&quot;52&quot;</td><td>{{{2.99,&quot;USD&quot;}}}</td><td>null</td><td>&quot;Product of Other (do not use) …</td><td>2.99</td><td>0.0</td><td>536.0</td><td>&quot;Serves 536&quot;</td><td>0.0</td><td>inf</td><td>0.0</td></tr></tbody></table></div>"
      ],
      "text/plain": [
       "shape: (1, 18)\n",
       "┌────────┬────────────┬────────────┬───────────┬───┬───────────┬───────────┬───────────┬───────────┐\n",
       "│ sku    ┆ name       ┆ availabili ┆ stock_sta ┆ … ┆ servings_ ┆ calories_ ┆ dollars_p ┆ calories_ │\n",
       "│ ---    ┆ ---        ┆ ty         ┆ tus       ┆   ┆ per_conta ┆ per_conta ┆ er_calori ┆ per_dolla │\n",
       "│ str    ┆ str        ┆ ---        ┆ ---       ┆   ┆ iner_text ┆ iner      ┆ e         ┆ r         │\n",
       "│        ┆            ┆ str        ┆ str       ┆   ┆ ---       ┆ ---       ┆ ---       ┆ ---       │\n",
       "│        ┆            ┆            ┆           ┆   ┆ str       ┆ f32       ┆ f64       ┆ f64       │\n",
       "╞════════╪════════════╪════════════╪═══════════╪═══╪═══════════╪═══════════╪═══════════╪═══════════╡\n",
       "│ 070379 ┆ OIL CANOLA ┆ 1          ┆ OUT_OF_ST ┆ … ┆ Serves    ┆ 0.0       ┆ inf       ┆ 0.0       │\n",
       "│        ┆ SPRAY      ┆            ┆ OCK       ┆   ┆ 536       ┆           ┆           ┆           │\n",
       "│        ┆ ORGANIC    ┆            ┆           ┆   ┆           ┆           ┆           ┆           │\n",
       "└────────┴────────────┴────────────┴───────────┴───┴───────────┴───────────┴───────────┴───────────┘"
      ]
     },
     "execution_count": 262,
     "metadata": {},
     "output_type": "execute_result"
    }
   ],
   "source": [
    "tjhp.filter(tjhp['sku'] == '070379')"
   ]
  },
  {
   "cell_type": "code",
   "execution_count": 263,
   "id": "63196e60",
   "metadata": {},
   "outputs": [
    {
     "data": {
      "text/html": [
       "<div><style>\n",
       ".dataframe > thead > tr,\n",
       ".dataframe > tbody > tr {\n",
       "  text-align: right;\n",
       "  white-space: pre-wrap;\n",
       "}\n",
       "</style>\n",
       "<small>shape: (1, 18)</small><table border=\"1\" class=\"dataframe\"><thead><tr><th>sku</th><th>name</th><th>availability</th><th>stock_status</th><th>only_x_left_in_stock</th><th>nutrition</th><th>ingredients</th><th>popularity</th><th>price</th><th>country_of_manufacture</th><th>country_of_origin</th><th>price_usd</th><th>calories_per_serving</th><th>servings_per_container</th><th>servings_per_container_text</th><th>calories_per_container</th><th>dollars_per_calorie</th><th>calories_per_dollar</th></tr><tr><td>str</td><td>str</td><td>str</td><td>str</td><td>null</td><td>list[struct[7]]</td><td>list[struct[2]]</td><td>str</td><td>struct[1]</td><td>null</td><td>str</td><td>f64</td><td>f32</td><td>f32</td><td>str</td><td>f32</td><td>f64</td><td>f64</td></tr></thead><tbody><tr><td>&quot;073468&quot;</td><td>&quot;INCREDISAUCE&quot;</td><td>&quot;1&quot;</td><td>&quot;OUT_OF_STOCK&quot;</td><td>null</td><td>[{&quot;100 &quot;,[{&quot;7 g&quot;,1,&quot;Total Fat&quot;,&quot;.09&quot;}, {&quot;1 g&quot;,2,&quot;Saturated Fat&quot;,&quot;.05&quot;}, … {&quot;20 mg&quot;,14,&quot;Potassium&quot;,&quot;0&quot;}],0,1,&quot;&quot;,&quot;2 Tbsp. (32g)&quot;,&quot;Serves about 10&quot;}]</td><td>[{1,&quot;WATER&quot;}, {2,&quot;CANE SUGAR&quot;}, … {20,&quot;PAPRIKA OLEORESIN FOR COLOR.&quot;}]</td><td>&quot;29&quot;</td><td>{{{0.01,&quot;USD&quot;}}}</td><td>null</td><td>&quot;Product of United States&quot;</td><td>0.01</td><td>100.0</td><td>10.0</td><td>&quot;Serves about 10&quot;</td><td>1000.0</td><td>0.00001</td><td>100000.0</td></tr></tbody></table></div>"
      ],
      "text/plain": [
       "shape: (1, 18)\n",
       "┌────────┬────────────┬────────────┬───────────┬───┬───────────┬───────────┬───────────┬───────────┐\n",
       "│ sku    ┆ name       ┆ availabili ┆ stock_sta ┆ … ┆ servings_ ┆ calories_ ┆ dollars_p ┆ calories_ │\n",
       "│ ---    ┆ ---        ┆ ty         ┆ tus       ┆   ┆ per_conta ┆ per_conta ┆ er_calori ┆ per_dolla │\n",
       "│ str    ┆ str        ┆ ---        ┆ ---       ┆   ┆ iner_text ┆ iner      ┆ e         ┆ r         │\n",
       "│        ┆            ┆ str        ┆ str       ┆   ┆ ---       ┆ ---       ┆ ---       ┆ ---       │\n",
       "│        ┆            ┆            ┆           ┆   ┆ str       ┆ f32       ┆ f64       ┆ f64       │\n",
       "╞════════╪════════════╪════════════╪═══════════╪═══╪═══════════╪═══════════╪═══════════╪═══════════╡\n",
       "│ 073468 ┆ INCREDISAU ┆ 1          ┆ OUT_OF_ST ┆ … ┆ Serves    ┆ 1000.0    ┆ 0.00001   ┆ 100000.0  │\n",
       "│        ┆ CE         ┆            ┆ OCK       ┆   ┆ about 10  ┆           ┆           ┆           │\n",
       "└────────┴────────────┴────────────┴───────────┴───┴───────────┴───────────┴───────────┴───────────┘"
      ]
     },
     "execution_count": 263,
     "metadata": {},
     "output_type": "execute_result"
    }
   ],
   "source": [
    "tjhp.filter(tjhp['sku'] == '073468')"
   ]
  },
  {
   "cell_type": "markdown",
   "id": "ac010ebb",
   "metadata": {},
   "source": [
    "To sanity check items that do not have accurate servings per container given the price, we can insert another variable for the price per serving to see if that is weird."
   ]
  },
  {
   "cell_type": "code",
   "execution_count": 265,
   "id": "c63052cf",
   "metadata": {},
   "outputs": [],
   "source": [
    "tjhp_clean = tjhp_clean.with_columns(\n",
    "    dollars_per_serving = tjhp_clean['price_usd'] / tjhp_clean['servings_per_container']\n",
    ")"
   ]
  },
  {
   "cell_type": "code",
   "execution_count": 266,
   "id": "64e0eb85",
   "metadata": {},
   "outputs": [
    {
     "data": {
      "text/html": [
       "<div><style>\n",
       ".dataframe > thead > tr,\n",
       ".dataframe > tbody > tr {\n",
       "  text-align: right;\n",
       "  white-space: pre-wrap;\n",
       "}\n",
       "</style>\n",
       "<small>shape: (3, 9)</small><table border=\"1\" class=\"dataframe\"><thead><tr><th>sku</th><th>name</th><th>calories_per_dollar</th><th>dollars_per_calorie</th><th>price_usd</th><th>calories_per_container</th><th>calories_per_serving</th><th>servings_per_container</th><th>dollars_per_serving</th></tr><tr><td>str</td><td>str</td><td>f64</td><td>f64</td><td>f64</td><td>f32</td><td>f32</td><td>f32</td><td>f64</td></tr></thead><tbody><tr><td>&quot;077616&quot;</td><td>&quot;TJ&#x27;S CRUNCHY PEANUT BUTTER ENE…</td><td>2722.689076</td><td>0.000367</td><td>1.19</td><td>3240.0</td><td>270.0</td><td>12.0</td><td>0.099167</td></tr><tr><td>&quot;077618&quot;</td><td>&quot;TJ&#x27;S CHOCOLATE CHIP ENERGY&quot;</td><td>2621.848739</td><td>0.000381</td><td>1.19</td><td>3120.0</td><td>260.0</td><td>12.0</td><td>0.099167</td></tr><tr><td>&quot;052029&quot;</td><td>&quot;OIL 100% CANOLA&quot;</td><td>2303.724928</td><td>0.000434</td><td>3.49</td><td>8040.0</td><td>120.0</td><td>67.0</td><td>0.05209</td></tr></tbody></table></div>"
      ],
      "text/plain": [
       "shape: (3, 9)\n",
       "┌────────┬────────────┬────────────┬───────────┬───┬───────────┬───────────┬───────────┬───────────┐\n",
       "│ sku    ┆ name       ┆ calories_p ┆ dollars_p ┆ … ┆ calories_ ┆ calories_ ┆ servings_ ┆ dollars_p │\n",
       "│ ---    ┆ ---        ┆ er_dollar  ┆ er_calori ┆   ┆ per_conta ┆ per_servi ┆ per_conta ┆ er_servin │\n",
       "│ str    ┆ str        ┆ ---        ┆ e         ┆   ┆ iner      ┆ ng        ┆ iner      ┆ g         │\n",
       "│        ┆            ┆ f64        ┆ ---       ┆   ┆ ---       ┆ ---       ┆ ---       ┆ ---       │\n",
       "│        ┆            ┆            ┆ f64       ┆   ┆ f32       ┆ f32       ┆ f32       ┆ f64       │\n",
       "╞════════╪════════════╪════════════╪═══════════╪═══╪═══════════╪═══════════╪═══════════╪═══════════╡\n",
       "│ 077616 ┆ TJ'S       ┆ 2722.68907 ┆ 0.000367  ┆ … ┆ 3240.0    ┆ 270.0     ┆ 12.0      ┆ 0.099167  │\n",
       "│        ┆ CRUNCHY    ┆ 6          ┆           ┆   ┆           ┆           ┆           ┆           │\n",
       "│        ┆ PEANUT     ┆            ┆           ┆   ┆           ┆           ┆           ┆           │\n",
       "│        ┆ BUTTER     ┆            ┆           ┆   ┆           ┆           ┆           ┆           │\n",
       "│        ┆ ENE…       ┆            ┆           ┆   ┆           ┆           ┆           ┆           │\n",
       "│ 077618 ┆ TJ'S       ┆ 2621.84873 ┆ 0.000381  ┆ … ┆ 3120.0    ┆ 260.0     ┆ 12.0      ┆ 0.099167  │\n",
       "│        ┆ CHOCOLATE  ┆ 9          ┆           ┆   ┆           ┆           ┆           ┆           │\n",
       "│        ┆ CHIP       ┆            ┆           ┆   ┆           ┆           ┆           ┆           │\n",
       "│        ┆ ENERGY     ┆            ┆           ┆   ┆           ┆           ┆           ┆           │\n",
       "│ 052029 ┆ OIL 100%   ┆ 2303.72492 ┆ 0.000434  ┆ … ┆ 8040.0    ┆ 120.0     ┆ 67.0      ┆ 0.05209   │\n",
       "│        ┆ CANOLA     ┆ 8          ┆           ┆   ┆           ┆           ┆           ┆           │\n",
       "└────────┴────────────┴────────────┴───────────┴───┴───────────┴───────────┴───────────┴───────────┘"
      ]
     },
     "execution_count": 266,
     "metadata": {},
     "output_type": "execute_result"
    }
   ],
   "source": [
    "tjhp_clean.head(3)"
   ]
  },
  {
   "cell_type": "markdown",
   "id": "2f601c08",
   "metadata": {},
   "source": [
    "Also, let's fix some obvious mistakes manually."
   ]
  },
  {
   "cell_type": "code",
   "execution_count": 267,
   "id": "e437578c",
   "metadata": {},
   "outputs": [],
   "source": [
    "tjhp_clean = tjhp_clean.with_columns(\n",
    "    pl.when(tjhp_clean['sku'].is_in([\"077616\", \"077618\"]))\n",
    "    .then(1)\n",
    "    .otherwise(pl.col(\"servings_per_container\"))\n",
    "    .alias(\"servings_per_container\")\n",
    ")\n"
   ]
  },
  {
   "cell_type": "code",
   "execution_count": 268,
   "id": "a0360108",
   "metadata": {},
   "outputs": [],
   "source": [
    "tjhp_clean = tjhp_clean.with_columns(\n",
    "    calories_per_container = tjhp_clean['calories_per_serving'] * tjhp_clean['servings_per_container']\n",
    ")"
   ]
  },
  {
   "cell_type": "code",
   "execution_count": 269,
   "id": "f2c59e7a",
   "metadata": {},
   "outputs": [],
   "source": [
    "tjhp_clean = tjhp_clean.with_columns(\n",
    "    calories_per_dollar = tjhp_clean['calories_per_container'] / tjhp_clean['price_usd']\n",
    ")"
   ]
  },
  {
   "cell_type": "code",
   "execution_count": 270,
   "id": "ddb58d1c",
   "metadata": {},
   "outputs": [],
   "source": [
    "tjhp_clean = tjhp_clean.with_columns(\n",
    "    dollars_per_calorie = 1 / tjhp_clean['calories_per_dollar']\n",
    ")"
   ]
  },
  {
   "cell_type": "code",
   "execution_count": 271,
   "id": "06868110",
   "metadata": {},
   "outputs": [],
   "source": [
    "tjhp_clean = tjhp_clean.sort(by='calories_per_dollar', descending=True)"
   ]
  },
  {
   "cell_type": "code",
   "execution_count": 336,
   "id": "667135b2",
   "metadata": {},
   "outputs": [],
   "source": [
    "# tjhp['nutrition'][0][0]['details']"
   ]
  },
  {
   "cell_type": "code",
   "execution_count": null,
   "id": "4d5d4765",
   "metadata": {},
   "outputs": [
    {
     "data": {
      "text/plain": [
       "['11 g']"
      ]
     },
     "execution_count": 342,
     "metadata": {},
     "output_type": "execute_result"
    }
   ],
   "source": [
    "\n",
    "[i['amount'] for i in tjhp['nutrition'][0][0]['details'] if i['nutritional_item']=='Protein']"
   ]
  },
  {
   "cell_type": "code",
   "execution_count": 354,
   "id": "3bb2cf98",
   "metadata": {},
   "outputs": [],
   "source": [
    "df = pl.DataFrame({\"nutritional_info\": tjhp['nutrition']})\n",
    "\n",
    "# Explode the list of dictionaries column\n",
    "df = df.explode(\"nutritional_info\")"
   ]
  },
  {
   "cell_type": "code",
   "execution_count": 359,
   "id": "f44b4fd7",
   "metadata": {},
   "outputs": [],
   "source": [
    "# tjhp['nutrition'][0][0]"
   ]
  },
  {
   "cell_type": "code",
   "execution_count": 370,
   "id": "d719c579",
   "metadata": {},
   "outputs": [],
   "source": [
    "data = [\n",
    "    [{'amount': '38 g', 'display_seq': 1, 'nutritional_item': 'Total Fat', 'percent_dv': '.49'}, \n",
    "     {'amount': '25 g', 'display_seq': 2, 'nutritional_item': 'Saturated Fat', 'percent_dv': '1.25'}, \n",
    "     {'amount': '0 g', 'display_seq': 3, 'nutritional_item': 'Trans Fat', 'percent_dv': ''}],\n",
    "    [{'amount': '15 g', 'display_seq': 4, 'nutritional_item': 'Protein', 'percent_dv': ''},\n",
    "     {'amount': '10 g', 'display_seq': 5, 'nutritional_item': 'Fiber', 'percent_dv': ''}],\n",
    "     [{'amount': '38 g', 'display_seq': 1, 'nutritional_item': 'Total Fat', 'percent_dv': '.49'}, \n",
    "     {'amount': '25 g', 'display_seq': 2, 'nutritional_item': 'Saturated Fat', 'percent_dv': '1.25'}, \n",
    "     {'amount': '0 g', 'display_seq': 3, 'nutritional_item': 'Trans Fat', 'percent_dv': ''}],\n",
    "    \n",
    "    [{'amount': '15 g', 'display_seq': 4, 'nutritional_item': 'Protein', 'percent_dv': ''},\n",
    "     {'amount': '10 g', 'display_seq': 5, 'nutritional_item': 'Fiber', 'percent_dv': ''}]\n",
    "]\n",
    "\n",
    "# Create a Polars DataFrame where each inner list is a column\n",
    "# This is a different structure than the previous example\n",
    "df = pl.DataFrame({\"nutritional_info\": data})\n"
   ]
  },
  {
   "cell_type": "code",
   "execution_count": 371,
   "id": "cd66b4bf",
   "metadata": {},
   "outputs": [
    {
     "data": {
      "text/html": [
       "<div><style>\n",
       ".dataframe > thead > tr,\n",
       ".dataframe > tbody > tr {\n",
       "  text-align: right;\n",
       "  white-space: pre-wrap;\n",
       "}\n",
       "</style>\n",
       "<small>shape: (4, 1)</small><table border=\"1\" class=\"dataframe\"><thead><tr><th>nutritional_info</th></tr><tr><td>list[struct[4]]</td></tr></thead><tbody><tr><td>[{&quot;38 g&quot;,1,&quot;Total Fat&quot;,&quot;.49&quot;}, {&quot;25 g&quot;,2,&quot;Saturated Fat&quot;,&quot;1.25&quot;}, {&quot;0 g&quot;,3,&quot;Trans Fat&quot;,&quot;&quot;}]</td></tr><tr><td>[{&quot;15 g&quot;,4,&quot;Protein&quot;,&quot;&quot;}, {&quot;10 g&quot;,5,&quot;Fiber&quot;,&quot;&quot;}]</td></tr><tr><td>[{&quot;38 g&quot;,1,&quot;Total Fat&quot;,&quot;.49&quot;}, {&quot;25 g&quot;,2,&quot;Saturated Fat&quot;,&quot;1.25&quot;}, {&quot;0 g&quot;,3,&quot;Trans Fat&quot;,&quot;&quot;}]</td></tr><tr><td>[{&quot;15 g&quot;,4,&quot;Protein&quot;,&quot;&quot;}, {&quot;10 g&quot;,5,&quot;Fiber&quot;,&quot;&quot;}]</td></tr></tbody></table></div>"
      ],
      "text/plain": [
       "shape: (4, 1)\n",
       "┌─────────────────────────────────┐\n",
       "│ nutritional_info                │\n",
       "│ ---                             │\n",
       "│ list[struct[4]]                 │\n",
       "╞═════════════════════════════════╡\n",
       "│ [{\"38 g\",1,\"Total Fat\",\".49\"},… │\n",
       "│ [{\"15 g\",4,\"Protein\",\"\"}, {\"10… │\n",
       "│ [{\"38 g\",1,\"Total Fat\",\".49\"},… │\n",
       "│ [{\"15 g\",4,\"Protein\",\"\"}, {\"10… │\n",
       "└─────────────────────────────────┘"
      ]
     },
     "execution_count": 371,
     "metadata": {},
     "output_type": "execute_result"
    }
   ],
   "source": [
    "df"
   ]
  },
  {
   "cell_type": "code",
   "execution_count": null,
   "id": "7fa79979",
   "metadata": {},
   "outputs": [],
   "source": [
    "\n",
    "# Explode the list of dictionaries column\n",
    "df = df.explode(\"nutritional_info\")\n",
    "\n",
    "# Extract the 'amount' where 'nutritional_item' is 'Protein' from the exploded data\n",
    "protein_amount = df.filter(pl.col(\"nutritional_info\").struct.field(\"nutritional_item\") == \"Protein\").select(pl.col(\"nutritional_info\").struct.field(\"amount\"))\n",
    "\n",
    "print(protein_amount)"
   ]
  },
  {
   "cell_type": "code",
   "execution_count": 389,
   "id": "29fe6ead",
   "metadata": {},
   "outputs": [
    {
     "data": {
      "text/plain": [
       "{'calories_per_serving': '610 ',\n",
       " 'details': [{'amount': '38 g',\n",
       "   'display_seq': 1,\n",
       "   'nutritional_item': 'Total Fat',\n",
       "   'percent_dv': '.49'},\n",
       "  {'amount': '25 g',\n",
       "   'display_seq': 2,\n",
       "   'nutritional_item': 'Saturated Fat',\n",
       "   'percent_dv': '1.25'},\n",
       "  {'amount': '0 g',\n",
       "   'display_seq': 3,\n",
       "   'nutritional_item': 'Trans Fat',\n",
       "   'percent_dv': ''},\n",
       "  {'amount': '0 mg',\n",
       "   'display_seq': 4,\n",
       "   'nutritional_item': 'Cholesterol',\n",
       "   'percent_dv': '0'},\n",
       "  {'amount': '500 mg',\n",
       "   'display_seq': 5,\n",
       "   'nutritional_item': 'Sodium',\n",
       "   'percent_dv': '.22'},\n",
       "  {'amount': '58 g',\n",
       "   'display_seq': 6,\n",
       "   'nutritional_item': 'Total Carbohydrate',\n",
       "   'percent_dv': '.21'},\n",
       "  {'amount': '4 g',\n",
       "   'display_seq': 7,\n",
       "   'nutritional_item': 'Dietary Fiber',\n",
       "   'percent_dv': '.14'},\n",
       "  {'amount': '4 g',\n",
       "   'display_seq': 8,\n",
       "   'nutritional_item': 'Total Sugars',\n",
       "   'percent_dv': ''},\n",
       "  {'amount': '0 g Added Sugars',\n",
       "   'display_seq': 9,\n",
       "   'nutritional_item': 'Includes',\n",
       "   'percent_dv': '0'},\n",
       "  {'amount': '11 g',\n",
       "   'display_seq': 10,\n",
       "   'nutritional_item': 'Protein',\n",
       "   'percent_dv': ''},\n",
       "  {'amount': '0.0 mcg',\n",
       "   'display_seq': 11,\n",
       "   'nutritional_item': 'Vitamin D',\n",
       "   'percent_dv': '0'},\n",
       "  {'amount': '20 mg',\n",
       "   'display_seq': 12,\n",
       "   'nutritional_item': 'Calcium',\n",
       "   'percent_dv': '.02'},\n",
       "  {'amount': '2.4 mg',\n",
       "   'display_seq': 13,\n",
       "   'nutritional_item': 'Iron',\n",
       "   'percent_dv': '.15'},\n",
       "  {'amount': '530 mg',\n",
       "   'display_seq': 14,\n",
       "   'nutritional_item': 'Potassium',\n",
       "   'percent_dv': '.1'}],\n",
       " 'display_sequence': 0,\n",
       " 'panel_id': 1,\n",
       " 'panel_title': 'Per 1 cup (250g)',\n",
       " 'serving_size': '1 package (375g)',\n",
       " 'servings_per_container': 'Serves 1'}"
      ]
     },
     "execution_count": 389,
     "metadata": {},
     "output_type": "execute_result"
    }
   ],
   "source": [
    "tjhp['nutrition'][0][0]"
   ]
  },
  {
   "cell_type": "code",
   "execution_count": null,
   "id": "61289efb",
   "metadata": {},
   "outputs": [
    {
     "name": "stderr",
     "output_type": "stream",
     "text": [
      "C:\\Users\\riley\\AppData\\Local\\Temp\\ipykernel_22168\\2695420405.py:3: MapWithoutReturnDtypeWarning: Calling `map_elements` without specifying `return_dtype` can lead to unpredictable results. Specify `return_dtype` to silence this warning.\n",
      "  tjhp_p = tjhp.with_columns(\n"
     ]
    }
   ],
   "source": [
    "# Try to extract nutrients (not calories)\n",
    "# Start with protein \n",
    "tjhp_p = tjhp.with_columns(\n",
    "    # tj['nutrition']\n",
    "    pl.col(\"nutrition\").map_elements(lambda x: x[0]['details'] if len(x)>0 else None).alias(\"nuts\")\n",
    "    # pl.col(\"nutrition\").map_elements(lambda x: x[0]['servings_per_container'] if len(x)>0 else None, return_dtype=str).alias(\"servings_per_container\")\n",
    "\n",
    ")\n",
    "# tjhp.head(3)\n"
   ]
  },
  {
   "cell_type": "code",
   "execution_count": 419,
   "id": "78883f4f",
   "metadata": {},
   "outputs": [],
   "source": [
    "tjhp_p = tjhp_p.with_columns(\n",
    "    pl.col('nuts').map_elements(lambda x: [i['amount'] for i in x if i['nutritional_item']=='Protein'], return_dtype=list[str]).alias('protein')\n",
    ")\n"
   ]
  },
  {
   "cell_type": "markdown",
   "id": "9f7ed3cb",
   "metadata": {},
   "source": [
    "Protein per serving, not just protein."
   ]
  },
  {
   "cell_type": "code",
   "execution_count": 421,
   "id": "c79cd28e",
   "metadata": {},
   "outputs": [],
   "source": [
    "x = None"
   ]
  },
  {
   "cell_type": "code",
   "execution_count": null,
   "id": "11a13d86",
   "metadata": {},
   "outputs": [],
   "source": [
    "def parse_nutritional_item(x, nutritional_unit=' g'):\n",
    "    '''Assumes x is a list of one element'''\n",
    "    try:\n",
    "        return x[0].strip(nutritional_unit)\n",
    "    except TypeError:\n",
    "        return 0\n",
    "\n",
    "tjhp_p.with_columns(\n",
    "    pl.col(\"protein\").map_elements(lambda x: parse_nutritional_item(x), return_dtype=float)\n",
    ")"
   ]
  },
  {
   "cell_type": "markdown",
   "id": "2e810167",
   "metadata": {},
   "source": [
    "Save."
   ]
  },
  {
   "cell_type": "code",
   "execution_count": null,
   "id": "ab2c2be6",
   "metadata": {},
   "outputs": [],
   "source": [
    "# tjhp_clean.write_csv(\"data/tjhp_clean.csv\")"
   ]
  },
  {
   "cell_type": "markdown",
   "id": "5a47799b",
   "metadata": {},
   "source": [
    "#### Load Hyde Park."
   ]
  },
  {
   "cell_type": "code",
   "execution_count": null,
   "id": "b9ae89ac",
   "metadata": {},
   "outputs": [],
   "source": [
    "tjhp_clean = pl.read_csv(\"data/tjhp_clean.csv\")"
   ]
  },
  {
   "cell_type": "markdown",
   "id": "a5ae985a",
   "metadata": {},
   "source": [
    "### Hyde Park Viz"
   ]
  },
  {
   "cell_type": "code",
   "execution_count": 312,
   "id": "51eb14de",
   "metadata": {},
   "outputs": [
    {
     "data": {
      "text/html": [
       "\n",
       "<style>\n",
       "  #altair-viz-3cd785aab7424739bf1268ecbc087e66.vega-embed {\n",
       "    width: 100%;\n",
       "    display: flex;\n",
       "  }\n",
       "\n",
       "  #altair-viz-3cd785aab7424739bf1268ecbc087e66.vega-embed details,\n",
       "  #altair-viz-3cd785aab7424739bf1268ecbc087e66.vega-embed details summary {\n",
       "    position: relative;\n",
       "  }\n",
       "</style>\n",
       "<div id=\"altair-viz-3cd785aab7424739bf1268ecbc087e66\"></div>\n",
       "<script type=\"text/javascript\">\n",
       "  var VEGA_DEBUG = (typeof VEGA_DEBUG == \"undefined\") ? {} : VEGA_DEBUG;\n",
       "  (function(spec, embedOpt){\n",
       "    let outputDiv = document.currentScript.previousElementSibling;\n",
       "    if (outputDiv.id !== \"altair-viz-3cd785aab7424739bf1268ecbc087e66\") {\n",
       "      outputDiv = document.getElementById(\"altair-viz-3cd785aab7424739bf1268ecbc087e66\");\n",
       "    }\n",
       "\n",
       "    const paths = {\n",
       "      \"vega\": \"https://cdn.jsdelivr.net/npm/vega@5?noext\",\n",
       "      \"vega-lib\": \"https://cdn.jsdelivr.net/npm/vega-lib?noext\",\n",
       "      \"vega-lite\": \"https://cdn.jsdelivr.net/npm/vega-lite@5.20.1?noext\",\n",
       "      \"vega-embed\": \"https://cdn.jsdelivr.net/npm/vega-embed@6?noext\",\n",
       "    };\n",
       "\n",
       "    function maybeLoadScript(lib, version) {\n",
       "      var key = `${lib.replace(\"-\", \"\")}_version`;\n",
       "      return (VEGA_DEBUG[key] == version) ?\n",
       "        Promise.resolve(paths[lib]) :\n",
       "        new Promise(function(resolve, reject) {\n",
       "          var s = document.createElement('script');\n",
       "          document.getElementsByTagName(\"head\")[0].appendChild(s);\n",
       "          s.async = true;\n",
       "          s.onload = () => {\n",
       "            VEGA_DEBUG[key] = version;\n",
       "            return resolve(paths[lib]);\n",
       "          };\n",
       "          s.onerror = () => reject(`Error loading script: ${paths[lib]}`);\n",
       "          s.src = paths[lib];\n",
       "        });\n",
       "    }\n",
       "\n",
       "    function showError(err) {\n",
       "      outputDiv.innerHTML = `<div class=\"error\" style=\"color:red;\">${err}</div>`;\n",
       "      throw err;\n",
       "    }\n",
       "\n",
       "    function displayChart(vegaEmbed) {\n",
       "      vegaEmbed(outputDiv, spec, embedOpt)\n",
       "        .catch(err => showError(`Javascript Error: ${err.message}<br>This usually means there's a typo in your chart specification. See the javascript console for the full traceback.`));\n",
       "    }\n",
       "\n",
       "    if(typeof define === \"function\" && define.amd) {\n",
       "      requirejs.config({paths});\n",
       "      let deps = [\"vega-embed\"];\n",
       "      require(deps, displayChart, err => showError(`Error loading script: ${err.message}`));\n",
       "    } else {\n",
       "      maybeLoadScript(\"vega\", \"5\")\n",
       "        .then(() => maybeLoadScript(\"vega-lite\", \"5.20.1\"))\n",
       "        .then(() => maybeLoadScript(\"vega-embed\", \"6\"))\n",
       "        .catch(showError)\n",
       "        .then(() => displayChart(vegaEmbed));\n",
       "    }\n",
       "  })({\"config\": {\"view\": {\"continuousWidth\": 300, \"continuousHeight\": 300}, \"axis\": {\"labelFontSize\": 15, \"titleFontSize\": 20}, \"title\": {\"anchor\": \"middle\", \"color\": \"black\", \"fontSize\": 24}}, \"data\": {\"name\": \"data-781043010ee570d98f2c574028608284\"}, \"mark\": {\"type\": \"bar\"}, \"encoding\": {\"color\": {\"field\": \"dollars_per_serving\", \"scale\": {\"scheme\": \"greens\"}, \"title\": \"$ per Serving\", \"type\": \"quantitative\"}, \"tooltip\": [{\"field\": \"sku\", \"type\": \"nominal\"}, {\"field\": \"name\", \"type\": \"nominal\"}, {\"field\": \"price_usd\", \"type\": \"quantitative\"}, {\"field\": \"dollars_per_calorie\", \"type\": \"quantitative\"}, {\"field\": \"servings_per_container\", \"type\": \"quantitative\"}], \"x\": {\"axis\": {\"labelAngle\": -45}, \"field\": \"name\", \"sort\": null, \"title\": \"Product\", \"type\": \"nominal\"}, \"y\": {\"field\": \"dollars_per_100calorie\", \"title\": \"$ per 100 Calories\", \"type\": \"quantitative\"}}, \"height\": 300, \"params\": [{\"name\": \"param_70\", \"select\": {\"type\": \"interval\", \"encodings\": [\"x\", \"y\"]}, \"bind\": \"scales\"}], \"title\": \"Hyde Park TJ's 20 items with the cheapest calories\", \"transform\": [{\"calculate\": \"datum.dollars_per_calorie * 100\", \"as\": \"dollars_per_100calorie\"}], \"width\": 800, \"$schema\": \"https://vega.github.io/schema/vega-lite/v5.20.1.json\", \"datasets\": {\"data-781043010ee570d98f2c574028608284\": [{\"sku\": \"052029\", \"name\": \"OIL 100% CANOLA\", \"calories_per_dollar\": 2303.724928366762, \"dollars_per_calorie\": 0.0004340796019900498, \"price_usd\": 3.49, \"calories_per_container\": 8040.0, \"calories_per_serving\": 120.0, \"servings_per_container\": 67.0, \"dollars_per_serving\": 0.05208955223880597}, {\"sku\": \"095389\", \"name\": \"PASTA RIGATONI\", \"calories_per_dollar\": 1616.1616161616162, \"dollars_per_calorie\": 0.00061875, \"price_usd\": 0.99, \"calories_per_container\": 1600.0, \"calories_per_serving\": 200.0, \"servings_per_container\": 8.0, \"dollars_per_serving\": 0.12375}, {\"sku\": \"051153\", \"name\": \"PASTA MACARONI\", \"calories_per_dollar\": 1616.1616161616162, \"dollars_per_calorie\": 0.00061875, \"price_usd\": 0.99, \"calories_per_container\": 1600.0, \"calories_per_serving\": 200.0, \"servings_per_container\": 8.0, \"dollars_per_serving\": 0.12375}, {\"sku\": \"069793\", \"name\": \"UNBLEACHED ORGANIC AP FLOUR\", \"calories_per_dollar\": 1502.7322404371585, \"dollars_per_calorie\": 0.0006654545454545455, \"price_usd\": 5.49, \"calories_per_container\": 8250.0, \"calories_per_serving\": 110.0, \"servings_per_container\": 75.0, \"dollars_per_serving\": 0.0732}, {\"sku\": \"001482\", \"name\": \"REAL MAYONNAISE\", \"calories_per_dollar\": 1478.6967418546365, \"dollars_per_calorie\": 0.000676271186440678, \"price_usd\": 3.99, \"calories_per_container\": 5900.0, \"calories_per_serving\": 100.0, \"servings_per_container\": 59.0, \"dollars_per_serving\": 0.0676271186440678}, {\"sku\": \"052252\", \"name\": \"RICE JASMINE FROM THAILAND\", \"calories_per_dollar\": 1458.966565349544, \"dollars_per_calorie\": 0.0006854166666666667, \"price_usd\": 3.29, \"calories_per_container\": 4800.0, \"calories_per_serving\": 160.0, \"servings_per_container\": 30.0, \"dollars_per_serving\": 0.10966666666666666}, {\"sku\": \"079176\", \"name\": \"HOL FESTIVELY SHAPED PRETZELS\", \"calories_per_dollar\": 1333.3333333333333, \"dollars_per_calorie\": 0.00075, \"price_usd\": 0.99, \"calories_per_container\": 1320.0, \"calories_per_serving\": 120.0, \"servings_per_container\": 11.0, \"dollars_per_serving\": 0.09}, {\"sku\": \"070185\", \"name\": \"RICE CALROSE\", \"calories_per_dollar\": 1285.1405622489958, \"dollars_per_calorie\": 0.0007781250000000001, \"price_usd\": 2.49, \"calories_per_container\": 3200.0, \"calories_per_serving\": 160.0, \"servings_per_container\": 20.0, \"dollars_per_serving\": 0.12450000000000001}, {\"sku\": \"038985\", \"name\": \"SALTED TORTILLA CHIPS 2 LB\", \"calories_per_dollar\": 1283.6676217765041, \"dollars_per_calorie\": 0.0007790178571428572, \"price_usd\": 3.49, \"calories_per_container\": 4480.0, \"calories_per_serving\": 140.0, \"servings_per_container\": 32.0, \"dollars_per_serving\": 0.1090625}, {\"sku\": \"065544\", \"name\": \"PASTA FETTUCCINE ORGANIC\", \"calories_per_dollar\": 1240.3100775193798, \"dollars_per_calorie\": 0.00080625, \"price_usd\": 1.29, \"calories_per_container\": 1600.0, \"calories_per_serving\": 200.0, \"servings_per_container\": 8.0, \"dollars_per_serving\": 0.16125}, {\"sku\": \"056048\", \"name\": \"PEANUT BUTTER CREAMY NO STIR\", \"calories_per_dollar\": 1214.6118721461187, \"dollars_per_calorie\": 0.0008233082706766918, \"price_usd\": 2.19, \"calories_per_container\": 2660.0, \"calories_per_serving\": 190.0, \"servings_per_container\": 14.0, \"dollars_per_serving\": 0.15642857142857142}, {\"sku\": \"006215\", \"name\": \"MILK QUART FAT FREE\", \"calories_per_dollar\": 1210.0840336134454, \"dollars_per_calorie\": 0.0008263888888888889, \"price_usd\": 1.19, \"calories_per_container\": 1440.0, \"calories_per_serving\": 90.0, \"servings_per_container\": 16.0, \"dollars_per_serving\": 0.074375}, {\"sku\": \"052418\", \"name\": \"RICE BROWN JASMINE FROM\", \"calories_per_dollar\": 1203.0075187969924, \"dollars_per_calorie\": 0.0008312500000000001, \"price_usd\": 3.99, \"calories_per_container\": 4800.0, \"calories_per_serving\": 160.0, \"servings_per_container\": 30.0, \"dollars_per_serving\": 0.133}, {\"sku\": \"076084\", \"name\": \"TJ's ORG OATMEAL BAR CHOCOLATE CHIP\", \"calories_per_dollar\": 1139.240506329114, \"dollars_per_calorie\": 0.0008777777777777778, \"price_usd\": 0.79, \"calories_per_container\": 900.0, \"calories_per_serving\": 150.0, \"servings_per_container\": 6.0, \"dollars_per_serving\": 0.13166666666666668}, {\"sku\": \"076082\", \"name\": \"ORG OATMEAL BAR ICED CINNAMON\", \"calories_per_dollar\": 1139.240506329114, \"dollars_per_calorie\": 0.0008777777777777778, \"price_usd\": 0.79, \"calories_per_container\": 900.0, \"calories_per_serving\": 150.0, \"servings_per_container\": 6.0, \"dollars_per_serving\": 0.13166666666666668}, {\"sku\": \"001464\", \"name\": \"EVOO PACKED IN ITALY 500ML\", \"calories_per_dollar\": 1134.6704871060172, \"dollars_per_calorie\": 0.0008813131313131314, \"price_usd\": 3.49, \"calories_per_container\": 3960.0, \"calories_per_serving\": 120.0, \"servings_per_container\": 33.0, \"dollars_per_serving\": 0.10575757575757576}, {\"sku\": \"097504\", \"name\": \"SPINACH FLOUR TORTILLAS\", \"calories_per_dollar\": 1084.3373493975903, \"dollars_per_calorie\": 0.0009222222222222223, \"price_usd\": 2.49, \"calories_per_container\": 2700.0, \"calories_per_serving\": 270.0, \"servings_per_container\": 10.0, \"dollars_per_serving\": 0.24900000000000003}, {\"sku\": \"078011\", \"name\": \"PASTA ORG SPAGHETTI\", \"calories_per_dollar\": 1073.8255033557048, \"dollars_per_calorie\": 0.0009312499999999999, \"price_usd\": 1.49, \"calories_per_container\": 1600.0, \"calories_per_serving\": 200.0, \"servings_per_container\": 8.0, \"dollars_per_serving\": 0.18625}, {\"sku\": \"078009\", \"name\": \"PASTA ORG PENNE RIGATE\", \"calories_per_dollar\": 1073.8255033557048, \"dollars_per_calorie\": 0.0009312499999999999, \"price_usd\": 1.49, \"calories_per_container\": 1600.0, \"calories_per_serving\": 200.0, \"servings_per_container\": 8.0, \"dollars_per_serving\": 0.18625}, {\"sku\": \"032367\", \"name\": \"PASTA ORG WHOLE WHEAT FUSILLI\", \"calories_per_dollar\": 1073.8255033557048, \"dollars_per_calorie\": 0.0009312499999999999, \"price_usd\": 1.49, \"calories_per_container\": 1600.0, \"calories_per_serving\": 200.0, \"servings_per_container\": 8.0, \"dollars_per_serving\": 0.18625}]}}, {\"mode\": \"vega-lite\"});\n",
       "</script>"
      ],
      "text/plain": [
       "alt.Chart(...)"
      ]
     },
     "execution_count": 312,
     "metadata": {},
     "output_type": "execute_result"
    }
   ],
   "source": [
    "import altair as alt\n",
    "\n",
    "# alt.Chart(tjhp_clean).mark_point().encode(\n",
    "#     x='price_usd',\n",
    "#     y='calories_per_container',\n",
    "#     color='calories_per_serving',\n",
    "#     tooltip=['sku', 'name']\n",
    "# ).interactive()\n",
    "\n",
    "# https://github.com/vega/altair/issues/1245\n",
    "# How to disable automatic alphabetic sorting of x value\n",
    "alt.Chart(tjhp_clean.sort(by='dollars_per_calorie', descending=False).head(20)).mark_bar().encode(\n",
    "    # x='name',\n",
    "    x=alt.X('name', title='Product', type='nominal', sort=None, axis=alt.Axis(labelAngle=-45)),\n",
    "    y=alt.Y(field='dollars_per_100calorie', type='quantitative', title='$ per 100 Calories'),\n",
    "    color=alt.Color('dollars_per_serving', title='$ per Serving').scale(scheme=\"greens\"),\n",
    "    tooltip=['sku', 'name', 'price_usd', 'dollars_per_calorie', 'servings_per_container']\n",
    ").transform_calculate(\n",
    "    dollars_per_100calorie='datum.dollars_per_calorie * 100' # Calculate the new field\n",
    ").interactive(\n",
    "\n",
    ").properties(\n",
    "    title='Hyde Park TJ\\'s 20 items with the cheapest calories',\n",
    "    width=800,\n",
    "    height=300\n",
    ").configure_title(\n",
    "    fontSize=24,\n",
    "    # font='IMPACT',\n",
    "    anchor='middle',\n",
    "    color='black'\n",
    ").configure_axis(\n",
    "    labelFontSize=15,\n",
    "    titleFontSize=20\n",
    ")\n",
    "\n",
    "# tjhp_clean.columns"
   ]
  },
  {
   "cell_type": "code",
   "execution_count": 315,
   "id": "d4034f41",
   "metadata": {},
   "outputs": [],
   "source": [
    "pretzel = [i for i in all_items_hp if i['sku']=='079176']"
   ]
  },
  {
   "cell_type": "code",
   "execution_count": 316,
   "id": "5a927bcf",
   "metadata": {},
   "outputs": [
    {
     "data": {
      "text/plain": [
       "1"
      ]
     },
     "execution_count": 316,
     "metadata": {},
     "output_type": "execute_result"
    }
   ],
   "source": [
    "len(pretzel)"
   ]
  },
  {
   "cell_type": "code",
   "execution_count": 329,
   "id": "262de6bc",
   "metadata": {},
   "outputs": [
    {
     "data": {
      "text/plain": [
       "[{'amount': '38 g',\n",
       "  'display_seq': 1,\n",
       "  'nutritional_item': 'Total Fat',\n",
       "  'percent_dv': '.49'},\n",
       " {'amount': '25 g',\n",
       "  'display_seq': 2,\n",
       "  'nutritional_item': 'Saturated Fat',\n",
       "  'percent_dv': '1.25'},\n",
       " {'amount': '0 g',\n",
       "  'display_seq': 3,\n",
       "  'nutritional_item': 'Trans Fat',\n",
       "  'percent_dv': ''},\n",
       " {'amount': '0 mg',\n",
       "  'display_seq': 4,\n",
       "  'nutritional_item': 'Cholesterol',\n",
       "  'percent_dv': '0'},\n",
       " {'amount': '500 mg',\n",
       "  'display_seq': 5,\n",
       "  'nutritional_item': 'Sodium',\n",
       "  'percent_dv': '.22'},\n",
       " {'amount': '58 g',\n",
       "  'display_seq': 6,\n",
       "  'nutritional_item': 'Total Carbohydrate',\n",
       "  'percent_dv': '.21'},\n",
       " {'amount': '4 g',\n",
       "  'display_seq': 7,\n",
       "  'nutritional_item': 'Dietary Fiber',\n",
       "  'percent_dv': '.14'},\n",
       " {'amount': '4 g',\n",
       "  'display_seq': 8,\n",
       "  'nutritional_item': 'Total Sugars',\n",
       "  'percent_dv': ''},\n",
       " {'amount': '0 g Added Sugars',\n",
       "  'display_seq': 9,\n",
       "  'nutritional_item': 'Includes',\n",
       "  'percent_dv': '0'},\n",
       " {'amount': '11 g',\n",
       "  'display_seq': 10,\n",
       "  'nutritional_item': 'Protein',\n",
       "  'percent_dv': ''},\n",
       " {'amount': '0.0 mcg',\n",
       "  'display_seq': 11,\n",
       "  'nutritional_item': 'Vitamin D',\n",
       "  'percent_dv': '0'},\n",
       " {'amount': '20 mg',\n",
       "  'display_seq': 12,\n",
       "  'nutritional_item': 'Calcium',\n",
       "  'percent_dv': '.02'},\n",
       " {'amount': '2.4 mg',\n",
       "  'display_seq': 13,\n",
       "  'nutritional_item': 'Iron',\n",
       "  'percent_dv': '.15'},\n",
       " {'amount': '530 mg',\n",
       "  'display_seq': 14,\n",
       "  'nutritional_item': 'Potassium',\n",
       "  'percent_dv': '.1'}]"
      ]
     },
     "execution_count": 329,
     "metadata": {},
     "output_type": "execute_result"
    }
   ],
   "source": [
    "tjhp['nutrition'][0][0]['details']"
   ]
  },
  {
   "cell_type": "markdown",
   "id": "d0d5f2b3",
   "metadata": {},
   "source": [
    "### All list"
   ]
  },
  {
   "cell_type": "code",
   "execution_count": null,
   "id": "52e97c0f",
   "metadata": {},
   "outputs": [],
   "source": [
    "import polars as pl"
   ]
  },
  {
   "cell_type": "code",
   "execution_count": null,
   "id": "9681d747",
   "metadata": {},
   "outputs": [],
   "source": [
    "# pl.json_normalize(all_items_fixed[100:102])"
   ]
  },
  {
   "cell_type": "markdown",
   "id": "f91edd2f",
   "metadata": {},
   "source": [
    "Beyond just dumping each json object from `all_items_fixed` into `pl.json_normalize()`, we also need to further handle the `nutrition` and `ingredients` dictionaries."
   ]
  },
  {
   "cell_type": "code",
   "execution_count": null,
   "id": "4708feb5",
   "metadata": {},
   "outputs": [],
   "source": [
    "pl.json_normalize(all_items_fixed[100]['nutrition'])"
   ]
  },
  {
   "cell_type": "markdown",
   "id": "1ca3970a",
   "metadata": {},
   "source": [
    "For now, just save it as expressly as possible."
   ]
  },
  {
   "cell_type": "code",
   "execution_count": null,
   "id": "c7cd11f1",
   "metadata": {},
   "outputs": [],
   "source": [
    "# df_all_items_raw = pl.json_normalize(all_items_fixed,\n",
    "#                                      infer_schema_length=None)"
   ]
  },
  {
   "cell_type": "code",
   "execution_count": null,
   "id": "952d0865",
   "metadata": {},
   "outputs": [],
   "source": [
    "df_all_items_raw.tail(3)\n",
    "# Columns 2 and 3 are Lists of Structs of...\n"
   ]
  },
  {
   "cell_type": "code",
   "execution_count": null,
   "id": "88ebbcab",
   "metadata": {},
   "outputs": [],
   "source": [
    "# df_all_items_raw.write_csv('data/all_items_raw.csv')\n",
    "# # Nested columns 2 and 3 do not work with CSV"
   ]
  },
  {
   "cell_type": "code",
   "execution_count": null,
   "id": "80c4245e",
   "metadata": {},
   "outputs": [],
   "source": [
    "# import json\n",
    "# all_items_fixed_raw_path = \"data/all_items_fixed_raw.json\"\n",
    "# with open(all_items_fixed_raw_path, \"w\") as f:\n",
    "#        json.dump(all_items_fixed, f, indent=4)\n",
    "\n"
   ]
  },
  {
   "cell_type": "markdown",
   "id": "a6dd2061",
   "metadata": {},
   "source": [
    "Every description is empty html???"
   ]
  },
  {
   "cell_type": "code",
   "execution_count": null,
   "id": "f32de880",
   "metadata": {},
   "outputs": [],
   "source": [
    "broc = [item['name'] for item in all_items_fixed if 'KALE' in item['name']]\n",
    "\n",
    "\n",
    "\n",
    "broc"
   ]
  },
  {
   "cell_type": "code",
   "execution_count": null,
   "id": "b54697ec",
   "metadata": {},
   "outputs": [],
   "source": [
    "df_all_items_raw.write_csv()"
   ]
  },
  {
   "cell_type": "markdown",
   "id": "2e2f760f",
   "metadata": {},
   "source": [
    "Let's try and isolate only food items."
   ]
  },
  {
   "cell_type": "code",
   "execution_count": null,
   "id": "9cd3e7f2",
   "metadata": {},
   "outputs": [],
   "source": [
    "pl.json_normalize(all_items_fixed[100], max_level=4)"
   ]
  },
  {
   "cell_type": "code",
   "execution_count": null,
   "id": "5a431c5c",
   "metadata": {},
   "outputs": [],
   "source": [
    "nuts = [item['nutrition'] for item in all_items_fixed]"
   ]
  },
  {
   "cell_type": "code",
   "execution_count": null,
   "id": "0c11c2a7",
   "metadata": {},
   "outputs": [],
   "source": [
    "# Get only items with non-empty nutrition information\n",
    "# This will be criterion for what counts as \"food\""
   ]
  },
  {
   "cell_type": "code",
   "execution_count": null,
   "id": "5e47194c",
   "metadata": {},
   "outputs": [],
   "source": []
  },
  {
   "cell_type": "code",
   "execution_count": null,
   "id": "5d2fac07",
   "metadata": {},
   "outputs": [],
   "source": [
    "# nut_lens = [len(nut) for nut in nuts]"
   ]
  },
  {
   "cell_type": "markdown",
   "id": "3a5b7a54",
   "metadata": {},
   "source": [
    "Oh, sku 10032021 \"POP UP SPONGES\" for some reason contains information for pizza crusts? The problematic `\"item_description\": \"Broccoli & Kale Pizza Crust description\"`."
   ]
  },
  {
   "cell_type": "code",
   "execution_count": null,
   "id": "35dd7e0f",
   "metadata": {},
   "outputs": [],
   "source": []
  },
  {
   "cell_type": "markdown",
   "id": "9f063cb9",
   "metadata": {},
   "source": [
    "#### Getting only the values we need from the json, making it relational"
   ]
  },
  {
   "cell_type": "code",
   "execution_count": null,
   "id": "d767259a",
   "metadata": {},
   "outputs": [],
   "source": [
    "import json\n",
    "import polars as pl"
   ]
  },
  {
   "cell_type": "code",
   "execution_count": null,
   "id": "74139884",
   "metadata": {},
   "outputs": [],
   "source": [
    "with open('data/all_items_fixed_raw.json', 'r') as f:\n",
    "    tj_raw = json.load(f)"
   ]
  },
  {
   "cell_type": "markdown",
   "id": "2c6d6610",
   "metadata": {},
   "source": [
    "Recall that the `item_description` field is `null` for just about every entry except one where it is instead the unrelated `Broccoli & Kale Pizza Crust description`."
   ]
  },
  {
   "cell_type": "code",
   "execution_count": null,
   "id": "4d348591",
   "metadata": {},
   "outputs": [],
   "source": [
    "tj_raw = [item for item in tj_raw if item['item_description'] != 'Broccoli & Kale Pizza Crust description']"
   ]
  },
  {
   "cell_type": "code",
   "execution_count": null,
   "id": "ce02ed21",
   "metadata": {},
   "outputs": [],
   "source": [
    "tj = pl.DataFrame(tj_raw)"
   ]
  },
  {
   "cell_type": "markdown",
   "id": "5dc0c00c",
   "metadata": {},
   "source": [
    "Need to:\n",
    "\n",
    "* Remove rows with null `nutrition`\n",
    "* Remove useless fields (`item_description`, `description`)\n",
    "* Turn nested fields into \n",
    "    * lists (ingredients)\n",
    "    * individual and possibly sparse columns (fiber, protein, calories)"
   ]
  },
  {
   "cell_type": "code",
   "execution_count": null,
   "id": "f980f593",
   "metadata": {},
   "outputs": [],
   "source": [
    "tj = tj.drop(['item_description', 'description'])"
   ]
  },
  {
   "cell_type": "code",
   "execution_count": null,
   "id": "1375839c",
   "metadata": {},
   "outputs": [],
   "source": [
    "tj.shape"
   ]
  },
  {
   "cell_type": "code",
   "execution_count": null,
   "id": "9df39395",
   "metadata": {},
   "outputs": [],
   "source": [
    "tj = tj.drop_nulls(subset=['nutrition', 'price'])\n",
    "tj.shape"
   ]
  },
  {
   "cell_type": "code",
   "execution_count": null,
   "id": "ea3508ff",
   "metadata": {},
   "outputs": [],
   "source": [
    "tj.head()"
   ]
  },
  {
   "cell_type": "code",
   "execution_count": null,
   "id": "379b2bbb",
   "metadata": {},
   "outputs": [],
   "source": [
    "tj['price'].str"
   ]
  },
  {
   "cell_type": "code",
   "execution_count": null,
   "id": "77e9a042",
   "metadata": {},
   "outputs": [],
   "source": [
    "temp = tj.with_columns(\n",
    "    pl.col(\"price\").struct.field(\"regularPrice\").struct.field(\"amount\").struct.field(\"currency\").alias(\"nested_field\")\n",
    ")\n",
    "\n",
    "print(temp)"
   ]
  },
  {
   "cell_type": "code",
   "execution_count": null,
   "id": "e246f56d",
   "metadata": {},
   "outputs": [],
   "source": [
    "temp['nested_field'].value_counts()"
   ]
  },
  {
   "cell_type": "markdown",
   "id": "70f3f70d",
   "metadata": {},
   "source": [
    "OK, they are all in USD, proceed."
   ]
  },
  {
   "cell_type": "code",
   "execution_count": null,
   "id": "1e8c832a",
   "metadata": {},
   "outputs": [],
   "source": [
    "tj = tj.with_columns(\n",
    "    pl.col(\"price\").struct.field(\"regularPrice\").struct.field(\"amount\").struct.field(\"value\").alias(\"price_usd\")\n",
    ")\n"
   ]
  },
  {
   "cell_type": "markdown",
   "id": "e87fa1d0",
   "metadata": {},
   "source": [
    "Onto the same nested json but for calories..."
   ]
  },
  {
   "cell_type": "markdown",
   "id": "703830c5",
   "metadata": {},
   "source": [
    "Wow, these nutrition items are formatted horrendously. The key is not a key whatsoever. Should go back and fix this in the original GraphQL query under `nutrition`."
   ]
  },
  {
   "cell_type": "code",
   "execution_count": null,
   "id": "4d52e7cd",
   "metadata": {},
   "outputs": [],
   "source": [
    "tj['nutrition'][0]"
   ]
  },
  {
   "cell_type": "markdown",
   "id": "54afb47c",
   "metadata": {},
   "source": [
    "Oh, maybe not."
   ]
  },
  {
   "cell_type": "code",
   "execution_count": null,
   "id": "b381b102",
   "metadata": {},
   "outputs": [],
   "source": [
    "tj['nutrition'][0][0]"
   ]
  },
  {
   "cell_type": "code",
   "execution_count": null,
   "id": "43c44541",
   "metadata": {},
   "outputs": [],
   "source": [
    "tj['nutrition'][0][0]['calories_per_serving']"
   ]
  },
  {
   "cell_type": "code",
   "execution_count": null,
   "id": "1a231747",
   "metadata": {},
   "outputs": [],
   "source": [
    "tj = tj.with_columns(\n",
    "    # tj['nutrition']\n",
    "    pl.col(\"nutrition\").map_elements(lambda x: x[0]['calories_per_serving'] if len(x)>0 else None, return_dtype=str).alias(\"calories_per_serving\")\n",
    ")\n",
    "tj.head(3)"
   ]
  },
  {
   "cell_type": "markdown",
   "id": "8d57cf7b",
   "metadata": {},
   "source": [
    "These things definitely do not actually have 0 calories. Drop them."
   ]
  },
  {
   "cell_type": "code",
   "execution_count": null,
   "id": "09f4a834",
   "metadata": {},
   "outputs": [],
   "source": [
    "tj.filter((pl.col(\"calories_per_serving\") == \"\"))"
   ]
  },
  {
   "cell_type": "code",
   "execution_count": null,
   "id": "06cbb332",
   "metadata": {},
   "outputs": [],
   "source": [
    "tj = tj.filter((pl.col(\"calories_per_serving\") != \"\"))"
   ]
  },
  {
   "cell_type": "markdown",
   "id": "24f418d5",
   "metadata": {},
   "source": [
    "More problematic calories per serving fields: `8 out of 4570 values: [\"3291 kcal/kg; 29 kcal/treat\", \"3200 kcal/kg; 18 kcal/treat\", … \"varied\"]`."
   ]
  },
  {
   "cell_type": "code",
   "execution_count": null,
   "id": "0708e970",
   "metadata": {},
   "outputs": [],
   "source": [
    "tj.shape"
   ]
  },
  {
   "cell_type": "code",
   "execution_count": null,
   "id": "bc85c4a5",
   "metadata": {},
   "outputs": [],
   "source": [
    "### DROP THEM. come back later to salvage whichever.\n",
    "tj = tj.filter(tj['calories_per_serving'].str.contains('^\\\\s*\\\\d+\\\\s*$'))\n",
    "tj.shape\n",
    "# Yes, this filters out those 8 values giving us trouble before"
   ]
  },
  {
   "cell_type": "code",
   "execution_count": null,
   "id": "287376f5",
   "metadata": {},
   "outputs": [],
   "source": [
    "tj = tj.with_columns(\n",
    "    pl.col('calories_per_serving').str.strip_chars(' ').cast(pl.Float32).alias('calories_per_serving')\n",
    ")"
   ]
  },
  {
   "cell_type": "markdown",
   "id": "6a58f4a8",
   "metadata": {},
   "source": [
    "Now same for servings per container...."
   ]
  },
  {
   "cell_type": "code",
   "execution_count": null,
   "id": "30624b35",
   "metadata": {},
   "outputs": [],
   "source": [
    "tj['nutrition'][0][0]['servings_per_container']"
   ]
  },
  {
   "cell_type": "code",
   "execution_count": null,
   "id": "86d2c7a5",
   "metadata": {},
   "outputs": [],
   "source": [
    "# Create raw servings column\n",
    "tj = tj.with_columns(\n",
    "    pl.col(\"nutrition\").map_elements(lambda x: x[0]['servings_per_container'] if len(x)>0 else None, return_dtype=str).alias(\"servings_per_container\")\n",
    ")"
   ]
  },
  {
   "cell_type": "code",
   "execution_count": null,
   "id": "88c886b4",
   "metadata": {},
   "outputs": [],
   "source": [
    "unique_spc = tj['servings_per_container'].unique() # alue_counts()['servings_per_container']\n",
    "for spc in unique_spc:\n",
    "    print(spc)"
   ]
  },
  {
   "cell_type": "code",
   "execution_count": null,
   "id": "189cbc75",
   "metadata": {},
   "outputs": [],
   "source": [
    "tj.shape"
   ]
  },
  {
   "cell_type": "code",
   "execution_count": null,
   "id": "e779b0d4",
   "metadata": {},
   "outputs": [],
   "source": [
    "# tj.head(3)"
   ]
  },
  {
   "cell_type": "markdown",
   "id": "c33ad8c2",
   "metadata": {},
   "source": [
    "The common problems with servings per container include:\n",
    "* `Serves one` and `Serves does not need this since there is only one serving` (manually replace with 1)\n",
    "* `Serves about 3 (About 2.5 without Dressing)` (just grab first numeric)\n",
    "* `Serves 8 on 8oz and 12 on 12oz` (This might be a problem depending on whether there is a single reported calorie value)\n",
    "* `Serves varied` (idek man)"
   ]
  },
  {
   "cell_type": "code",
   "execution_count": null,
   "id": "cd010395",
   "metadata": {},
   "outputs": [],
   "source": [
    "\n",
    "tj = tj.with_columns(\n",
    "    spc=pl.when(pl.col(\"servings_per_container\").str.contains(' one', literal=True))\n",
    "    .then(1)\n",
    "    .otherwise(pl.col(\"servings_per_container\"))\n",
    ")#.filter(tj['servings_per_container'].str.contains(' one', literal=True))"
   ]
  },
  {
   "cell_type": "code",
   "execution_count": null,
   "id": "97bd7c68",
   "metadata": {},
   "outputs": [],
   "source": [
    "# (?i)(serves about)|(serves)|(about)\n",
    "tj = tj.with_columns(\n",
    "    spc=tj['spc'].str.extract(r'(\\d+)').cast(pl.Float32)\n",
    ")"
   ]
  },
  {
   "cell_type": "code",
   "execution_count": null,
   "id": "30cc3c7f",
   "metadata": {},
   "outputs": [],
   "source": [
    "tj = tj.with_columns(\n",
    "    calories_per_container = tj['calories_per_serving'] * tj['spc']\n",
    ")"
   ]
  },
  {
   "cell_type": "code",
   "execution_count": null,
   "id": "77d68576",
   "metadata": {},
   "outputs": [],
   "source": [
    "tj = tj.with_columns(\n",
    "    dollars_per_calorie = tj['price_usd'] / tj['calories_per_container']\n",
    ")"
   ]
  },
  {
   "cell_type": "code",
   "execution_count": null,
   "id": "515872b0",
   "metadata": {},
   "outputs": [],
   "source": [
    "tj = tj.with_columns(\n",
    "    calories_per_dollar = 1 / pl.col('dollars_per_calorie')\n",
    ")"
   ]
  },
  {
   "cell_type": "code",
   "execution_count": null,
   "id": "9394fc22",
   "metadata": {},
   "outputs": [],
   "source": [
    "tj.columns"
   ]
  },
  {
   "cell_type": "code",
   "execution_count": null,
   "id": "cabad886",
   "metadata": {},
   "outputs": [],
   "source": [
    "# Remove 0-calorie nothings like salt and tea and hot sauce\n",
    "# Remove items that are just fucking free i guess??!!\n",
    "tj_trim = tj[:, ['sku', 'name', 'calories_per_dollar', 'dollars_per_calorie', 'price_usd', 'calories_per_container', 'calories_per_serving', 'spc', ]].filter(\n",
    "    ~tj['dollars_per_calorie'].is_null() & ~tj['dollars_per_calorie'].is_nan() & (tj['calories_per_container']!=0) & (tj['price_usd']!=0)\n",
    ")\n",
    "tj_trim"
   ]
  },
  {
   "cell_type": "markdown",
   "id": "787afc3b",
   "metadata": {},
   "source": [
    "Lol why are there polars `null` and also just `NaN` brother"
   ]
  },
  {
   "cell_type": "code",
   "execution_count": null,
   "id": "cbd8550b",
   "metadata": {},
   "outputs": [],
   "source": [
    "tj_trim.sort(by='dollars_per_calorie', descending=False)\n",
    "# Chocolatey dipping kit limited time only, caloric maximum is a fucking cryptid, it's lost media\n",
    "# NO these fucking prices are just straight up wrong, 1 cent???"
   ]
  },
  {
   "cell_type": "code",
   "execution_count": null,
   "id": "185a5a17",
   "metadata": {},
   "outputs": [],
   "source": [
    "cfg = pl.Config()\n",
    "cfg.set_tbl_rows(20)\n",
    "# with pl.Config(tbl_rows=10):\n",
    "#     tj_trim.sort(by='dollars_per_calorie', descending=False)\n",
    "tj_trim.sort(by='calories_per_dollar', descending=True).head(20)\n",
    "# How can I do a HAVING filter after the sort? To remove crazy low dollars_per_calorie values\n",
    "## What did I mean by this. Maybe HAVING after the calories_per_container thing?"
   ]
  },
  {
   "cell_type": "code",
   "execution_count": null,
   "id": "d492ca42",
   "metadata": {},
   "outputs": [],
   "source": [
    "# Energy Bar Peanut Butter / TJ'S CRUNCHY PEANUT BUTTER ENERGY\n",
    "# Wrong, it is listing price of a single bar, but servings as 12 bars!!!!\n",
    "tj.filter(tj['sku'] == '077616')\n",
    "\n",
    "# Same issue with TJ'S CHOCOLATE CHIP ENERGY"
   ]
  },
  {
   "cell_type": "code",
   "execution_count": null,
   "id": "c5ad7e01",
   "metadata": {},
   "outputs": [],
   "source": [
    "tj.filter(tj['sku'] == '070379')"
   ]
  },
  {
   "cell_type": "code",
   "execution_count": null,
   "id": "72ae4b05",
   "metadata": {},
   "outputs": [],
   "source": [
    "tj.filter(tj['sku'] == '073468')"
   ]
  },
  {
   "cell_type": "markdown",
   "id": "71420723",
   "metadata": {},
   "source": [
    "Let's filter out products that obviously make no sense, e.g. excessive calories in a container and $0.01 price tags."
   ]
  },
  {
   "cell_type": "code",
   "execution_count": null,
   "id": "dd291f54",
   "metadata": {},
   "outputs": [],
   "source": [
    "tj_clean = tj_trim.clone() # Deep copy"
   ]
  },
  {
   "cell_type": "code",
   "execution_count": null,
   "id": "d15f5ff8",
   "metadata": {},
   "outputs": [],
   "source": [
    "tj_clean = tj_clean.sort(by='calories_per_dollar', descending=True)\n"
   ]
  },
  {
   "cell_type": "code",
   "execution_count": null,
   "id": "69868bf9",
   "metadata": {},
   "outputs": [],
   "source": [
    "tj_clean['price_usd'].hist()"
   ]
  },
  {
   "cell_type": "code",
   "execution_count": null,
   "id": "cbdc00b5",
   "metadata": {},
   "outputs": [],
   "source": [
    "tj_clean.filter(tj_clean['price_usd'] <= 0.49)"
   ]
  },
  {
   "cell_type": "code",
   "execution_count": null,
   "id": "61905e49",
   "metadata": {},
   "outputs": [],
   "source": [
    "# tj = tj.with_columns(\n",
    "#     calories_per_dollar = 1 / pl.col('dollars_per_calorie')\n",
    "# )\n",
    "\n",
    "# df.filter REMOVES (filters lol) things that satisfy the condition\n",
    "tj_clean = tj_clean.filter(\n",
    "        (tj_clean['calories_per_container'] < 30000) # Demon core candied ginger\n",
    "        &\n",
    "        (tj_clean['price_usd'] >= 0.49) # Threshold at fruit wraps and \"just a handful\"-type products\n",
    ")"
   ]
  },
  {
   "cell_type": "code",
   "execution_count": null,
   "id": "07b62dab",
   "metadata": {},
   "outputs": [],
   "source": [
    "# tj.filter(~tj['servings_per_container'].str.contains('[(serves)(Serves)(about)]'))"
   ]
  },
  {
   "cell_type": "code",
   "execution_count": null,
   "id": "8a2793aa",
   "metadata": {},
   "outputs": [],
   "source": [
    "# tj_clean_top20 = \n",
    "# tj_clean.sort(by='calories_per_dollar', descending=True).head(20)"
   ]
  },
  {
   "cell_type": "markdown",
   "id": "4568d787",
   "metadata": {},
   "source": [
    "To sanity check items that do not have accurate servings per container given the price, we can insert another variable for the price per serving to see if that is weird."
   ]
  },
  {
   "cell_type": "code",
   "execution_count": null,
   "id": "09487770",
   "metadata": {},
   "outputs": [],
   "source": [
    "tj_clean = tj_clean.with_columns(\n",
    "    dollars_per_serving = tj_clean['price_usd'] / tj_clean['spc']\n",
    ")"
   ]
  },
  {
   "cell_type": "code",
   "execution_count": null,
   "id": "2df65587",
   "metadata": {},
   "outputs": [],
   "source": [
    "tj_clean.head(3)"
   ]
  },
  {
   "cell_type": "markdown",
   "id": "de3f4a56",
   "metadata": {},
   "source": [
    "Also, let's fix some obvious mistakes manually."
   ]
  },
  {
   "cell_type": "code",
   "execution_count": null,
   "id": "f92a7772",
   "metadata": {},
   "outputs": [],
   "source": [
    "tj_clean = tj_clean.with_columns(\n",
    "    pl.when(tj_clean['sku'].is_in([\"077616\", \"077618\"]))\n",
    "    .then(1)\n",
    "    .otherwise(pl.col(\"spc\"))\n",
    "    .alias(\"spc\")\n",
    ")\n"
   ]
  },
  {
   "cell_type": "code",
   "execution_count": null,
   "id": "e6fa0372",
   "metadata": {},
   "outputs": [],
   "source": [
    "tj_clean = tj_clean.with_columns(\n",
    "    calories_per_container = tj_clean['calories_per_serving'] * tj_clean['spc']\n",
    ")"
   ]
  },
  {
   "cell_type": "code",
   "execution_count": null,
   "id": "beb85068",
   "metadata": {},
   "outputs": [],
   "source": [
    "tj_clean = tj_clean.with_columns(\n",
    "    calories_per_dollar = tj_clean['calories_per_container'] / tj_clean['price_usd']\n",
    ")"
   ]
  },
  {
   "cell_type": "code",
   "execution_count": null,
   "id": "75dfbc7d",
   "metadata": {},
   "outputs": [],
   "source": [
    "tj_clean = tj_clean.with_columns(\n",
    "    dollars_per_calorie = 1 / tj_clean['calories_per_dollar']\n",
    ")"
   ]
  },
  {
   "cell_type": "code",
   "execution_count": null,
   "id": "60913a88",
   "metadata": {},
   "outputs": [],
   "source": [
    "tj_clean = tj_clean.sort(by='calories_per_dollar', descending=True)"
   ]
  },
  {
   "cell_type": "markdown",
   "id": "7777db52",
   "metadata": {},
   "source": [
    "Save."
   ]
  },
  {
   "cell_type": "code",
   "execution_count": null,
   "id": "cb3d3330",
   "metadata": {},
   "outputs": [],
   "source": [
    "tj_clean.write_csv(\"data/tj_clean.csv\")"
   ]
  },
  {
   "cell_type": "markdown",
   "id": "6e43ca4e",
   "metadata": {},
   "source": [
    "Load."
   ]
  },
  {
   "cell_type": "code",
   "execution_count": null,
   "id": "d3b30d3b",
   "metadata": {},
   "outputs": [],
   "source": []
  },
  {
   "cell_type": "code",
   "execution_count": null,
   "id": "4f695cd9",
   "metadata": {},
   "outputs": [],
   "source": [
    "tj_clean"
   ]
  },
  {
   "cell_type": "markdown",
   "id": "24aaf46d",
   "metadata": {},
   "source": [
    "## Viz"
   ]
  },
  {
   "cell_type": "code",
   "execution_count": null,
   "id": "cb05cf1c",
   "metadata": {},
   "outputs": [],
   "source": [
    "import altair as alt"
   ]
  },
  {
   "cell_type": "code",
   "execution_count": null,
   "id": "e8ca4cbb",
   "metadata": {},
   "outputs": [],
   "source": [
    "\n",
    "alt.Chart(tj_clean).mark_point().encode(\n",
    "    x='price_usd',\n",
    "    y='calories_per_container',\n",
    "    color='calories_per_serving',\n",
    "    tooltip=['sku', 'name']\n",
    ").interactive()"
   ]
  },
  {
   "cell_type": "code",
   "execution_count": null,
   "id": "e847f581",
   "metadata": {},
   "outputs": [],
   "source": [
    "# https://github.com/vega/altair/issues/1245\n",
    "# How to disable automatic alphabetic sorting of x value\n",
    "alt.Chart(tj_clean.sort(by='calories_per_dollar', descending=True).head(20)).mark_bar().encode(\n",
    "    # x='name',\n",
    "    x=alt.X('name', type='nominal', sort=None, axis=alt.Axis(labelAngle=-45)),\n",
    "    y='calories_per_dollar',\n",
    "    color=alt.Color('dollars_per_serving').scale(scheme=\"greens\"),\n",
    "    tooltip=['sku', 'name', 'price_usd', 'calories_per_serving', 'spc']\n",
    ").interactive(\n",
    "\n",
    ").properties(\n",
    "    width=800,\n",
    "    height=300\n",
    ")"
   ]
  },
  {
   "cell_type": "code",
   "execution_count": null,
   "id": "4807e691",
   "metadata": {},
   "outputs": [],
   "source": [
    "tj_clean.columns"
   ]
  },
  {
   "cell_type": "markdown",
   "id": "3135e2df",
   "metadata": {},
   "source": [
    "## Misc"
   ]
  },
  {
   "cell_type": "code",
   "execution_count": null,
   "id": "4d20d932",
   "metadata": {},
   "outputs": [],
   "source": [
    "import pandas as pd"
   ]
  },
  {
   "cell_type": "code",
   "execution_count": null,
   "id": "971e92fd",
   "metadata": {},
   "outputs": [],
   "source": [
    "ptj = pd.DataFrame(tj)"
   ]
  },
  {
   "cell_type": "code",
   "execution_count": null,
   "id": "8b13d056",
   "metadata": {},
   "outputs": [],
   "source": [
    "ptj.columns = tj.columns"
   ]
  },
  {
   "cell_type": "code",
   "execution_count": null,
   "id": "e2ee24b7",
   "metadata": {},
   "outputs": [],
   "source": [
    "ptj.head(3)"
   ]
  },
  {
   "cell_type": "code",
   "execution_count": null,
   "id": "bfdbace2",
   "metadata": {},
   "outputs": [],
   "source": [
    "ptj['nutrition'][0][0]"
   ]
  },
  {
   "cell_type": "code",
   "execution_count": null,
   "id": "8ea6c2fc",
   "metadata": {},
   "outputs": [],
   "source": [
    "ptj"
   ]
  },
  {
   "cell_type": "code",
   "execution_count": null,
   "id": "21b38a78",
   "metadata": {},
   "outputs": [],
   "source": [
    "# ptj['nutrition'].apply(lambda x: x[0] if len(x)>0 else None)"
   ]
  },
  {
   "cell_type": "code",
   "execution_count": null,
   "id": "ac22861d",
   "metadata": {},
   "outputs": [],
   "source": [
    "# tj['nutrition'].struct.field('calories_per_serving')"
   ]
  },
  {
   "cell_type": "code",
   "execution_count": null,
   "id": "b10469b8",
   "metadata": {},
   "outputs": [],
   "source": [
    "# tj.with_columns(\n",
    "#     pl.col(\"nutrition\").map_elements(lambda x: x[0][0]).struct.field('calories_per_serving').alias(\"calories_per_serving\")\n",
    "# )"
   ]
  },
  {
   "cell_type": "code",
   "execution_count": null,
   "id": "156d691a",
   "metadata": {},
   "outputs": [],
   "source": [
    "# temp = tj.with_columns(\n",
    "#     pl.col(\"nutrition\").struct.field(\"calories_per_serving\").alias(\"calories_per_serving\")\n",
    "# )\n",
    "# temp"
   ]
  },
  {
   "cell_type": "code",
   "execution_count": null,
   "id": "3eabdd94",
   "metadata": {},
   "outputs": [],
   "source": []
  }
 ],
 "metadata": {
  "kernelspec": {
   "display_name": ".venv",
   "language": "python",
   "name": "python3"
  },
  "language_info": {
   "codemirror_mode": {
    "name": "ipython",
    "version": 3
   },
   "file_extension": ".py",
   "mimetype": "text/x-python",
   "name": "python",
   "nbconvert_exporter": "python",
   "pygments_lexer": "ipython3",
   "version": "3.13.1"
  }
 },
 "nbformat": 4,
 "nbformat_minor": 5
}
