{
 "cells": [
  {
   "cell_type": "markdown",
   "id": "48170e69",
   "metadata": {},
   "source": [
    "## TJ's Item Nutrition Visualization"
   ]
  },
  {
   "cell_type": "markdown",
   "id": "c76977dc",
   "metadata": {},
   "source": [
    "#### Load HP Store Data"
   ]
  },
  {
   "cell_type": "code",
   "execution_count": 1,
   "id": "f6e6c00f",
   "metadata": {},
   "outputs": [],
   "source": [
    "import polars as pl\n",
    "tjhp_clean = pl.read_csv(\"data/tjhp_clean.csv\")"
   ]
  },
  {
   "cell_type": "markdown",
   "id": "5cfb8dd2",
   "metadata": {},
   "source": [
    "### Hyde Park Viz"
   ]
  },
  {
   "cell_type": "code",
   "execution_count": 7,
   "id": "bc45afc8",
   "metadata": {},
   "outputs": [
    {
     "data": {
      "text/plain": [
       "['sku',\n",
       " 'name',\n",
       " 'calories_per_dollar',\n",
       " 'dollars_per_calorie',\n",
       " 'price_usd',\n",
       " 'calories_per_container',\n",
       " 'calories_per_serving',\n",
       " 'servings_per_container',\n",
       " 'dollars_per_serving']"
      ]
     },
     "execution_count": 7,
     "metadata": {},
     "output_type": "execute_result"
    }
   ],
   "source": [
    "tjhp_clean.columns"
   ]
  },
  {
   "cell_type": "code",
   "execution_count": 8,
   "id": "30114b4f",
   "metadata": {},
   "outputs": [
    {
     "data": {
      "text/html": [
       "\n",
       "<style>\n",
       "  #altair-viz-5540e10798134ceb84eaf69ef72d01e3.vega-embed {\n",
       "    width: 100%;\n",
       "    display: flex;\n",
       "  }\n",
       "\n",
       "  #altair-viz-5540e10798134ceb84eaf69ef72d01e3.vega-embed details,\n",
       "  #altair-viz-5540e10798134ceb84eaf69ef72d01e3.vega-embed details summary {\n",
       "    position: relative;\n",
       "  }\n",
       "</style>\n",
       "<div id=\"altair-viz-5540e10798134ceb84eaf69ef72d01e3\"></div>\n",
       "<script type=\"text/javascript\">\n",
       "  var VEGA_DEBUG = (typeof VEGA_DEBUG == \"undefined\") ? {} : VEGA_DEBUG;\n",
       "  (function(spec, embedOpt){\n",
       "    let outputDiv = document.currentScript.previousElementSibling;\n",
       "    if (outputDiv.id !== \"altair-viz-5540e10798134ceb84eaf69ef72d01e3\") {\n",
       "      outputDiv = document.getElementById(\"altair-viz-5540e10798134ceb84eaf69ef72d01e3\");\n",
       "    }\n",
       "\n",
       "    const paths = {\n",
       "      \"vega\": \"https://cdn.jsdelivr.net/npm/vega@5?noext\",\n",
       "      \"vega-lib\": \"https://cdn.jsdelivr.net/npm/vega-lib?noext\",\n",
       "      \"vega-lite\": \"https://cdn.jsdelivr.net/npm/vega-lite@5.20.1?noext\",\n",
       "      \"vega-embed\": \"https://cdn.jsdelivr.net/npm/vega-embed@6?noext\",\n",
       "    };\n",
       "\n",
       "    function maybeLoadScript(lib, version) {\n",
       "      var key = `${lib.replace(\"-\", \"\")}_version`;\n",
       "      return (VEGA_DEBUG[key] == version) ?\n",
       "        Promise.resolve(paths[lib]) :\n",
       "        new Promise(function(resolve, reject) {\n",
       "          var s = document.createElement('script');\n",
       "          document.getElementsByTagName(\"head\")[0].appendChild(s);\n",
       "          s.async = true;\n",
       "          s.onload = () => {\n",
       "            VEGA_DEBUG[key] = version;\n",
       "            return resolve(paths[lib]);\n",
       "          };\n",
       "          s.onerror = () => reject(`Error loading script: ${paths[lib]}`);\n",
       "          s.src = paths[lib];\n",
       "        });\n",
       "    }\n",
       "\n",
       "    function showError(err) {\n",
       "      outputDiv.innerHTML = `<div class=\"error\" style=\"color:red;\">${err}</div>`;\n",
       "      throw err;\n",
       "    }\n",
       "\n",
       "    function displayChart(vegaEmbed) {\n",
       "      vegaEmbed(outputDiv, spec, embedOpt)\n",
       "        .catch(err => showError(`Javascript Error: ${err.message}<br>This usually means there's a typo in your chart specification. See the javascript console for the full traceback.`));\n",
       "    }\n",
       "\n",
       "    if(typeof define === \"function\" && define.amd) {\n",
       "      requirejs.config({paths});\n",
       "      let deps = [\"vega-embed\"];\n",
       "      require(deps, displayChart, err => showError(`Error loading script: ${err.message}`));\n",
       "    } else {\n",
       "      maybeLoadScript(\"vega\", \"5\")\n",
       "        .then(() => maybeLoadScript(\"vega-lite\", \"5.20.1\"))\n",
       "        .then(() => maybeLoadScript(\"vega-embed\", \"6\"))\n",
       "        .catch(showError)\n",
       "        .then(() => displayChart(vegaEmbed));\n",
       "    }\n",
       "  })({\"config\": {\"view\": {\"continuousWidth\": 300, \"continuousHeight\": 300}, \"axis\": {\"labelFontSize\": 10, \"titleFontSize\": 20}, \"title\": {\"anchor\": \"middle\", \"color\": \"black\", \"fontSize\": 24}}, \"data\": {\"name\": \"data-97d8ea019bad4334fd43b018816f6bdf\"}, \"mark\": {\"type\": \"bar\"}, \"encoding\": {\"color\": {\"field\": \"dollars_per_serving\", \"scale\": {\"scheme\": \"greens\"}, \"title\": \"$ per Serving\", \"type\": \"quantitative\"}, \"tooltip\": [{\"field\": \"sku\", \"type\": \"quantitative\"}, {\"field\": \"name\", \"type\": \"nominal\"}, {\"field\": \"price_usd\", \"type\": \"quantitative\"}, {\"field\": \"calories_per_container\", \"type\": \"quantitative\"}, {\"field\": \"dollars_per_calorie\", \"type\": \"quantitative\"}, {\"field\": \"servings_per_container\", \"type\": \"quantitative\"}], \"x\": {\"axis\": {\"labelAngle\": -45}, \"field\": \"name\", \"sort\": null, \"title\": \"Product\", \"type\": \"nominal\"}, \"y\": {\"field\": \"dollars_per_100calorie\", \"title\": \"$ per 100 Calories\", \"type\": \"quantitative\"}}, \"height\": 300, \"params\": [{\"name\": \"param_5\", \"select\": {\"type\": \"interval\", \"encodings\": [\"x\", \"y\"]}, \"bind\": \"scales\"}], \"title\": \"Hyde Park TJ's 20 items with the cheapest calories\", \"transform\": [{\"calculate\": \"datum.dollars_per_calorie * 100\", \"as\": \"dollars_per_100calorie\"}], \"width\": 800, \"$schema\": \"https://vega.github.io/schema/vega-lite/v5.20.1.json\", \"datasets\": {\"data-97d8ea019bad4334fd43b018816f6bdf\": [{\"sku\": 52029, \"name\": \"OIL 100% CANOLA\", \"calories_per_dollar\": 2303.724928366762, \"dollars_per_calorie\": 0.0004340796019900498, \"price_usd\": 3.49, \"calories_per_container\": 8040.0, \"calories_per_serving\": 120.0, \"servings_per_container\": 67.0, \"dollars_per_serving\": 0.05208955223880597}, {\"sku\": 95389, \"name\": \"PASTA RIGATONI\", \"calories_per_dollar\": 1616.1616161616162, \"dollars_per_calorie\": 0.00061875, \"price_usd\": 0.99, \"calories_per_container\": 1600.0, \"calories_per_serving\": 200.0, \"servings_per_container\": 8.0, \"dollars_per_serving\": 0.12375}, {\"sku\": 51153, \"name\": \"PASTA MACARONI\", \"calories_per_dollar\": 1616.1616161616162, \"dollars_per_calorie\": 0.00061875, \"price_usd\": 0.99, \"calories_per_container\": 1600.0, \"calories_per_serving\": 200.0, \"servings_per_container\": 8.0, \"dollars_per_serving\": 0.12375}, {\"sku\": 69793, \"name\": \"UNBLEACHED ORGANIC AP FLOUR\", \"calories_per_dollar\": 1502.7322404371585, \"dollars_per_calorie\": 0.0006654545454545455, \"price_usd\": 5.49, \"calories_per_container\": 8250.0, \"calories_per_serving\": 110.0, \"servings_per_container\": 75.0, \"dollars_per_serving\": 0.0732}, {\"sku\": 1482, \"name\": \"REAL MAYONNAISE\", \"calories_per_dollar\": 1478.6967418546365, \"dollars_per_calorie\": 0.000676271186440678, \"price_usd\": 3.99, \"calories_per_container\": 5900.0, \"calories_per_serving\": 100.0, \"servings_per_container\": 59.0, \"dollars_per_serving\": 0.0676271186440678}, {\"sku\": 52252, \"name\": \"RICE JASMINE FROM THAILAND\", \"calories_per_dollar\": 1458.966565349544, \"dollars_per_calorie\": 0.0006854166666666667, \"price_usd\": 3.29, \"calories_per_container\": 4800.0, \"calories_per_serving\": 160.0, \"servings_per_container\": 30.0, \"dollars_per_serving\": 0.10966666666666666}, {\"sku\": 79176, \"name\": \"HOL FESTIVELY SHAPED PRETZELS\", \"calories_per_dollar\": 1333.3333333333333, \"dollars_per_calorie\": 0.00075, \"price_usd\": 0.99, \"calories_per_container\": 1320.0, \"calories_per_serving\": 120.0, \"servings_per_container\": 11.0, \"dollars_per_serving\": 0.09}, {\"sku\": 70185, \"name\": \"RICE CALROSE\", \"calories_per_dollar\": 1285.1405622489958, \"dollars_per_calorie\": 0.0007781250000000001, \"price_usd\": 2.49, \"calories_per_container\": 3200.0, \"calories_per_serving\": 160.0, \"servings_per_container\": 20.0, \"dollars_per_serving\": 0.12450000000000001}, {\"sku\": 38985, \"name\": \"SALTED TORTILLA CHIPS 2 LB\", \"calories_per_dollar\": 1283.6676217765041, \"dollars_per_calorie\": 0.0007790178571428572, \"price_usd\": 3.49, \"calories_per_container\": 4480.0, \"calories_per_serving\": 140.0, \"servings_per_container\": 32.0, \"dollars_per_serving\": 0.1090625}, {\"sku\": 65544, \"name\": \"PASTA FETTUCCINE ORGANIC\", \"calories_per_dollar\": 1240.3100775193798, \"dollars_per_calorie\": 0.00080625, \"price_usd\": 1.29, \"calories_per_container\": 1600.0, \"calories_per_serving\": 200.0, \"servings_per_container\": 8.0, \"dollars_per_serving\": 0.16125}, {\"sku\": 56048, \"name\": \"PEANUT BUTTER CREAMY NO STIR\", \"calories_per_dollar\": 1214.6118721461187, \"dollars_per_calorie\": 0.0008233082706766918, \"price_usd\": 2.19, \"calories_per_container\": 2660.0, \"calories_per_serving\": 190.0, \"servings_per_container\": 14.0, \"dollars_per_serving\": 0.15642857142857142}, {\"sku\": 6215, \"name\": \"MILK QUART FAT FREE\", \"calories_per_dollar\": 1210.0840336134454, \"dollars_per_calorie\": 0.0008263888888888889, \"price_usd\": 1.19, \"calories_per_container\": 1440.0, \"calories_per_serving\": 90.0, \"servings_per_container\": 16.0, \"dollars_per_serving\": 0.074375}, {\"sku\": 52418, \"name\": \"RICE BROWN JASMINE FROM\", \"calories_per_dollar\": 1203.0075187969924, \"dollars_per_calorie\": 0.0008312500000000001, \"price_usd\": 3.99, \"calories_per_container\": 4800.0, \"calories_per_serving\": 160.0, \"servings_per_container\": 30.0, \"dollars_per_serving\": 0.133}, {\"sku\": 76084, \"name\": \"TJ's ORG OATMEAL BAR CHOCOLATE CHIP\", \"calories_per_dollar\": 1139.240506329114, \"dollars_per_calorie\": 0.0008777777777777778, \"price_usd\": 0.79, \"calories_per_container\": 900.0, \"calories_per_serving\": 150.0, \"servings_per_container\": 6.0, \"dollars_per_serving\": 0.13166666666666668}, {\"sku\": 76082, \"name\": \"ORG OATMEAL BAR ICED CINNAMON\", \"calories_per_dollar\": 1139.240506329114, \"dollars_per_calorie\": 0.0008777777777777778, \"price_usd\": 0.79, \"calories_per_container\": 900.0, \"calories_per_serving\": 150.0, \"servings_per_container\": 6.0, \"dollars_per_serving\": 0.13166666666666668}, {\"sku\": 1464, \"name\": \"EVOO PACKED IN ITALY 500ML\", \"calories_per_dollar\": 1134.6704871060172, \"dollars_per_calorie\": 0.0008813131313131314, \"price_usd\": 3.49, \"calories_per_container\": 3960.0, \"calories_per_serving\": 120.0, \"servings_per_container\": 33.0, \"dollars_per_serving\": 0.10575757575757576}, {\"sku\": 97504, \"name\": \"SPINACH FLOUR TORTILLAS\", \"calories_per_dollar\": 1084.3373493975903, \"dollars_per_calorie\": 0.0009222222222222223, \"price_usd\": 2.49, \"calories_per_container\": 2700.0, \"calories_per_serving\": 270.0, \"servings_per_container\": 10.0, \"dollars_per_serving\": 0.24900000000000003}, {\"sku\": 78011, \"name\": \"PASTA ORG SPAGHETTI\", \"calories_per_dollar\": 1073.8255033557048, \"dollars_per_calorie\": 0.0009312499999999999, \"price_usd\": 1.49, \"calories_per_container\": 1600.0, \"calories_per_serving\": 200.0, \"servings_per_container\": 8.0, \"dollars_per_serving\": 0.18625}, {\"sku\": 78009, \"name\": \"PASTA ORG PENNE RIGATE\", \"calories_per_dollar\": 1073.8255033557048, \"dollars_per_calorie\": 0.0009312499999999999, \"price_usd\": 1.49, \"calories_per_container\": 1600.0, \"calories_per_serving\": 200.0, \"servings_per_container\": 8.0, \"dollars_per_serving\": 0.18625}, {\"sku\": 32367, \"name\": \"PASTA ORG WHOLE WHEAT FUSILLI\", \"calories_per_dollar\": 1073.8255033557048, \"dollars_per_calorie\": 0.0009312499999999999, \"price_usd\": 1.49, \"calories_per_container\": 1600.0, \"calories_per_serving\": 200.0, \"servings_per_container\": 8.0, \"dollars_per_serving\": 0.18625}]}}, {\"mode\": \"vega-lite\"});\n",
       "</script>"
      ],
      "text/plain": [
       "alt.Chart(...)"
      ]
     },
     "execution_count": 8,
     "metadata": {},
     "output_type": "execute_result"
    }
   ],
   "source": [
    "import altair as alt\n",
    "\n",
    "# alt.Chart(tjhp_clean).mark_point().encode(\n",
    "#     x='price_usd',\n",
    "#     y='calories_per_container',\n",
    "#     color='calories_per_serving',\n",
    "#     tooltip=['sku', 'name']\n",
    "# ).interactive()\n",
    "\n",
    "# https://github.com/vega/altair/issues/1245\n",
    "# How to disable automatic alphabetic sorting of x value\n",
    "alt.Chart(tjhp_clean.sort(by='dollars_per_calorie', descending=False).head(20)).mark_bar().encode(\n",
    "    # x='name',\n",
    "    x=alt.X('name', title='Product', type='nominal', sort=None, axis=alt.Axis(labelAngle=-45)),\n",
    "    y=alt.Y(field='dollars_per_100calorie', type='quantitative', title='$ per 100 Calories'),\n",
    "    color=alt.Color('dollars_per_serving', title='$ per Serving').scale(scheme=\"greens\"),\n",
    "    tooltip=['sku', 'name', 'price_usd', 'calories_per_container', 'dollars_per_calorie', 'servings_per_container']\n",
    ").transform_calculate(\n",
    "    dollars_per_100calorie='datum.dollars_per_calorie * 100' # Calculate the new field\n",
    ").interactive(\n",
    "\n",
    ").properties(\n",
    "    title='Hyde Park TJ\\'s 20 items with the cheapest calories',\n",
    "    width=800,\n",
    "    height=300\n",
    ").configure_title(\n",
    "    fontSize=24,\n",
    "    # font='IMPACT',\n",
    "    anchor='middle',\n",
    "    color='black'\n",
    ").configure_axis(\n",
    "    labelFontSize=10,\n",
    "    titleFontSize=20\n",
    ")\n",
    "\n",
    "# tjhp_clean.columns"
   ]
  },
  {
   "cell_type": "markdown",
   "id": "b661e017",
   "metadata": {},
   "source": [
    "## Viz"
   ]
  },
  {
   "cell_type": "code",
   "execution_count": null,
   "id": "be8828e8",
   "metadata": {},
   "outputs": [],
   "source": [
    "import altair as alt"
   ]
  },
  {
   "cell_type": "code",
   "execution_count": null,
   "id": "9a039f34",
   "metadata": {},
   "outputs": [],
   "source": [
    "\n",
    "alt.Chart(tj_clean).mark_point().encode(\n",
    "    x='price_usd',\n",
    "    y='calories_per_container',\n",
    "    color='calories_per_serving',\n",
    "    tooltip=['sku', 'name']\n",
    ").interactive()"
   ]
  },
  {
   "cell_type": "code",
   "execution_count": null,
   "id": "1e8304fa",
   "metadata": {},
   "outputs": [],
   "source": [
    "# https://github.com/vega/altair/issues/1245\n",
    "# How to disable automatic alphabetic sorting of x value\n",
    "alt.Chart(tj_clean.sort(by='calories_per_dollar', descending=True).head(20)).mark_bar().encode(\n",
    "    # x='name',\n",
    "    x=alt.X('name', type='nominal', sort=None, axis=alt.Axis(labelAngle=-45)),\n",
    "    y='calories_per_dollar',\n",
    "    color=alt.Color('dollars_per_serving').scale(scheme=\"greens\"),\n",
    "    tooltip=['sku', 'name', 'price_usd', 'calories_per_serving', 'spc']\n",
    ").interactive(\n",
    "\n",
    ").properties(\n",
    "    width=800,\n",
    "    height=300\n",
    ")"
   ]
  },
  {
   "cell_type": "code",
   "execution_count": null,
   "id": "d2c72b46",
   "metadata": {},
   "outputs": [],
   "source": [
    "tj_clean.columns"
   ]
  },
  {
   "cell_type": "markdown",
   "id": "211b1382",
   "metadata": {},
   "source": [
    "## Misc"
   ]
  },
  {
   "cell_type": "code",
   "execution_count": null,
   "id": "605189ce",
   "metadata": {},
   "outputs": [],
   "source": [
    "import pandas as pd"
   ]
  },
  {
   "cell_type": "code",
   "execution_count": null,
   "id": "954546cc",
   "metadata": {},
   "outputs": [],
   "source": [
    "ptj = pd.DataFrame(tj)"
   ]
  },
  {
   "cell_type": "code",
   "execution_count": null,
   "id": "d30b5ca4",
   "metadata": {},
   "outputs": [],
   "source": [
    "ptj.columns = tj.columns"
   ]
  },
  {
   "cell_type": "code",
   "execution_count": null,
   "id": "eafbc5cb",
   "metadata": {},
   "outputs": [],
   "source": [
    "ptj.head(3)"
   ]
  },
  {
   "cell_type": "code",
   "execution_count": null,
   "id": "0f4359d5",
   "metadata": {},
   "outputs": [],
   "source": [
    "ptj['nutrition'][0][0]"
   ]
  },
  {
   "cell_type": "code",
   "execution_count": null,
   "id": "d6a79900",
   "metadata": {},
   "outputs": [],
   "source": [
    "ptj"
   ]
  },
  {
   "cell_type": "code",
   "execution_count": null,
   "id": "a8ed43a9",
   "metadata": {},
   "outputs": [],
   "source": [
    "# ptj['nutrition'].apply(lambda x: x[0] if len(x)>0 else None)"
   ]
  },
  {
   "cell_type": "code",
   "execution_count": null,
   "id": "2515696c",
   "metadata": {},
   "outputs": [],
   "source": [
    "# tj['nutrition'].struct.field('calories_per_serving')"
   ]
  },
  {
   "cell_type": "code",
   "execution_count": null,
   "id": "f4d3d4db",
   "metadata": {},
   "outputs": [],
   "source": [
    "# tj.with_columns(\n",
    "#     pl.col(\"nutrition\").map_elements(lambda x: x[0][0]).struct.field('calories_per_serving').alias(\"calories_per_serving\")\n",
    "# )"
   ]
  },
  {
   "cell_type": "code",
   "execution_count": null,
   "id": "331aeebe",
   "metadata": {},
   "outputs": [],
   "source": [
    "# temp = tj.with_columns(\n",
    "#     pl.col(\"nutrition\").struct.field(\"calories_per_serving\").alias(\"calories_per_serving\")\n",
    "# )\n",
    "# temp"
   ]
  },
  {
   "cell_type": "code",
   "execution_count": null,
   "id": "f27cfc79",
   "metadata": {},
   "outputs": [],
   "source": []
  }
 ],
 "metadata": {
  "kernelspec": {
   "display_name": "tallying-joules",
   "language": "python",
   "name": "python3"
  },
  "language_info": {
   "codemirror_mode": {
    "name": "ipython",
    "version": 3
   },
   "file_extension": ".py",
   "mimetype": "text/x-python",
   "name": "python",
   "nbconvert_exporter": "python",
   "pygments_lexer": "ipython3",
   "version": "3.13.7"
  }
 },
 "nbformat": 4,
 "nbformat_minor": 5
}
