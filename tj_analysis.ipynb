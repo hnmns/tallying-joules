{
 "cells": [
  {
   "cell_type": "markdown",
   "id": "48170e69",
   "metadata": {},
   "source": [
    "## TJ's Item Nutrition Visualization"
   ]
  },
  {
   "cell_type": "markdown",
   "id": "c76977dc",
   "metadata": {},
   "source": [
    "#### Load HP Store Data"
   ]
  },
  {
   "cell_type": "code",
   "execution_count": 1,
   "id": "f6e6c00f",
   "metadata": {},
   "outputs": [],
   "source": [
    "import polars as pl\n",
    "tjhp_clean = pl.read_csv(\"data/tjhp_clean.csv\")"
   ]
  },
  {
   "cell_type": "markdown",
   "id": "5cfb8dd2",
   "metadata": {},
   "source": [
    "### Hyde Park Viz"
   ]
  },
  {
   "cell_type": "code",
   "execution_count": null,
   "id": "30114b4f",
   "metadata": {},
   "outputs": [
    {
     "data": {
      "text/html": [
       "\n",
       "<style>\n",
       "  #altair-viz-3cd785aab7424739bf1268ecbc087e66.vega-embed {\n",
       "    width: 100%;\n",
       "    display: flex;\n",
       "  }\n",
       "\n",
       "  #altair-viz-3cd785aab7424739bf1268ecbc087e66.vega-embed details,\n",
       "  #altair-viz-3cd785aab7424739bf1268ecbc087e66.vega-embed details summary {\n",
       "    position: relative;\n",
       "  }\n",
       "</style>\n",
       "<div id=\"altair-viz-3cd785aab7424739bf1268ecbc087e66\"></div>\n",
       "<script type=\"text/javascript\">\n",
       "  var VEGA_DEBUG = (typeof VEGA_DEBUG == \"undefined\") ? {} : VEGA_DEBUG;\n",
       "  (function(spec, embedOpt){\n",
       "    let outputDiv = document.currentScript.previousElementSibling;\n",
       "    if (outputDiv.id !== \"altair-viz-3cd785aab7424739bf1268ecbc087e66\") {\n",
       "      outputDiv = document.getElementById(\"altair-viz-3cd785aab7424739bf1268ecbc087e66\");\n",
       "    }\n",
       "\n",
       "    const paths = {\n",
       "      \"vega\": \"https://cdn.jsdelivr.net/npm/vega@5?noext\",\n",
       "      \"vega-lib\": \"https://cdn.jsdelivr.net/npm/vega-lib?noext\",\n",
       "      \"vega-lite\": \"https://cdn.jsdelivr.net/npm/vega-lite@5.20.1?noext\",\n",
       "      \"vega-embed\": \"https://cdn.jsdelivr.net/npm/vega-embed@6?noext\",\n",
       "    };\n",
       "\n",
       "    function maybeLoadScript(lib, version) {\n",
       "      var key = `${lib.replace(\"-\", \"\")}_version`;\n",
       "      return (VEGA_DEBUG[key] == version) ?\n",
       "        Promise.resolve(paths[lib]) :\n",
       "        new Promise(function(resolve, reject) {\n",
       "          var s = document.createElement('script');\n",
       "          document.getElementsByTagName(\"head\")[0].appendChild(s);\n",
       "          s.async = true;\n",
       "          s.onload = () => {\n",
       "            VEGA_DEBUG[key] = version;\n",
       "            return resolve(paths[lib]);\n",
       "          };\n",
       "          s.onerror = () => reject(`Error loading script: ${paths[lib]}`);\n",
       "          s.src = paths[lib];\n",
       "        });\n",
       "    }\n",
       "\n",
       "    function showError(err) {\n",
       "      outputDiv.innerHTML = `<div class=\"error\" style=\"color:red;\">${err}</div>`;\n",
       "      throw err;\n",
       "    }\n",
       "\n",
       "    function displayChart(vegaEmbed) {\n",
       "      vegaEmbed(outputDiv, spec, embedOpt)\n",
       "        .catch(err => showError(`Javascript Error: ${err.message}<br>This usually means there's a typo in your chart specification. See the javascript console for the full traceback.`));\n",
       "    }\n",
       "\n",
       "    if(typeof define === \"function\" && define.amd) {\n",
       "      requirejs.config({paths});\n",
       "      let deps = [\"vega-embed\"];\n",
       "      require(deps, displayChart, err => showError(`Error loading script: ${err.message}`));\n",
       "    } else {\n",
       "      maybeLoadScript(\"vega\", \"5\")\n",
       "        .then(() => maybeLoadScript(\"vega-lite\", \"5.20.1\"))\n",
       "        .then(() => maybeLoadScript(\"vega-embed\", \"6\"))\n",
       "        .catch(showError)\n",
       "        .then(() => displayChart(vegaEmbed));\n",
       "    }\n",
       "  })({\"config\": {\"view\": {\"continuousWidth\": 300, \"continuousHeight\": 300}, \"axis\": {\"labelFontSize\": 15, \"titleFontSize\": 20}, \"title\": {\"anchor\": \"middle\", \"color\": \"black\", \"fontSize\": 24}}, \"data\": {\"name\": \"data-781043010ee570d98f2c574028608284\"}, \"mark\": {\"type\": \"bar\"}, \"encoding\": {\"color\": {\"field\": \"dollars_per_serving\", \"scale\": {\"scheme\": \"greens\"}, \"title\": \"$ per Serving\", \"type\": \"quantitative\"}, \"tooltip\": [{\"field\": \"sku\", \"type\": \"nominal\"}, {\"field\": \"name\", \"type\": \"nominal\"}, {\"field\": \"price_usd\", \"type\": \"quantitative\"}, {\"field\": \"dollars_per_calorie\", \"type\": \"quantitative\"}, {\"field\": \"servings_per_container\", \"type\": \"quantitative\"}], \"x\": {\"axis\": {\"labelAngle\": -45}, \"field\": \"name\", \"sort\": null, \"title\": \"Product\", \"type\": \"nominal\"}, \"y\": {\"field\": \"dollars_per_100calorie\", \"title\": \"$ per 100 Calories\", \"type\": \"quantitative\"}}, \"height\": 300, \"params\": [{\"name\": \"param_70\", \"select\": {\"type\": \"interval\", \"encodings\": [\"x\", \"y\"]}, \"bind\": \"scales\"}], \"title\": \"Hyde Park TJ's 20 items with the cheapest calories\", \"transform\": [{\"calculate\": \"datum.dollars_per_calorie * 100\", \"as\": \"dollars_per_100calorie\"}], \"width\": 800, \"$schema\": \"https://vega.github.io/schema/vega-lite/v5.20.1.json\", \"datasets\": {\"data-781043010ee570d98f2c574028608284\": [{\"sku\": \"052029\", \"name\": \"OIL 100% CANOLA\", \"calories_per_dollar\": 2303.724928366762, \"dollars_per_calorie\": 0.0004340796019900498, \"price_usd\": 3.49, \"calories_per_container\": 8040.0, \"calories_per_serving\": 120.0, \"servings_per_container\": 67.0, \"dollars_per_serving\": 0.05208955223880597}, {\"sku\": \"095389\", \"name\": \"PASTA RIGATONI\", \"calories_per_dollar\": 1616.1616161616162, \"dollars_per_calorie\": 0.00061875, \"price_usd\": 0.99, \"calories_per_container\": 1600.0, \"calories_per_serving\": 200.0, \"servings_per_container\": 8.0, \"dollars_per_serving\": 0.12375}, {\"sku\": \"051153\", \"name\": \"PASTA MACARONI\", \"calories_per_dollar\": 1616.1616161616162, \"dollars_per_calorie\": 0.00061875, \"price_usd\": 0.99, \"calories_per_container\": 1600.0, \"calories_per_serving\": 200.0, \"servings_per_container\": 8.0, \"dollars_per_serving\": 0.12375}, {\"sku\": \"069793\", \"name\": \"UNBLEACHED ORGANIC AP FLOUR\", \"calories_per_dollar\": 1502.7322404371585, \"dollars_per_calorie\": 0.0006654545454545455, \"price_usd\": 5.49, \"calories_per_container\": 8250.0, \"calories_per_serving\": 110.0, \"servings_per_container\": 75.0, \"dollars_per_serving\": 0.0732}, {\"sku\": \"001482\", \"name\": \"REAL MAYONNAISE\", \"calories_per_dollar\": 1478.6967418546365, \"dollars_per_calorie\": 0.000676271186440678, \"price_usd\": 3.99, \"calories_per_container\": 5900.0, \"calories_per_serving\": 100.0, \"servings_per_container\": 59.0, \"dollars_per_serving\": 0.0676271186440678}, {\"sku\": \"052252\", \"name\": \"RICE JASMINE FROM THAILAND\", \"calories_per_dollar\": 1458.966565349544, \"dollars_per_calorie\": 0.0006854166666666667, \"price_usd\": 3.29, \"calories_per_container\": 4800.0, \"calories_per_serving\": 160.0, \"servings_per_container\": 30.0, \"dollars_per_serving\": 0.10966666666666666}, {\"sku\": \"079176\", \"name\": \"HOL FESTIVELY SHAPED PRETZELS\", \"calories_per_dollar\": 1333.3333333333333, \"dollars_per_calorie\": 0.00075, \"price_usd\": 0.99, \"calories_per_container\": 1320.0, \"calories_per_serving\": 120.0, \"servings_per_container\": 11.0, \"dollars_per_serving\": 0.09}, {\"sku\": \"070185\", \"name\": \"RICE CALROSE\", \"calories_per_dollar\": 1285.1405622489958, \"dollars_per_calorie\": 0.0007781250000000001, \"price_usd\": 2.49, \"calories_per_container\": 3200.0, \"calories_per_serving\": 160.0, \"servings_per_container\": 20.0, \"dollars_per_serving\": 0.12450000000000001}, {\"sku\": \"038985\", \"name\": \"SALTED TORTILLA CHIPS 2 LB\", \"calories_per_dollar\": 1283.6676217765041, \"dollars_per_calorie\": 0.0007790178571428572, \"price_usd\": 3.49, \"calories_per_container\": 4480.0, \"calories_per_serving\": 140.0, \"servings_per_container\": 32.0, \"dollars_per_serving\": 0.1090625}, {\"sku\": \"065544\", \"name\": \"PASTA FETTUCCINE ORGANIC\", \"calories_per_dollar\": 1240.3100775193798, \"dollars_per_calorie\": 0.00080625, \"price_usd\": 1.29, \"calories_per_container\": 1600.0, \"calories_per_serving\": 200.0, \"servings_per_container\": 8.0, \"dollars_per_serving\": 0.16125}, {\"sku\": \"056048\", \"name\": \"PEANUT BUTTER CREAMY NO STIR\", \"calories_per_dollar\": 1214.6118721461187, \"dollars_per_calorie\": 0.0008233082706766918, \"price_usd\": 2.19, \"calories_per_container\": 2660.0, \"calories_per_serving\": 190.0, \"servings_per_container\": 14.0, \"dollars_per_serving\": 0.15642857142857142}, {\"sku\": \"006215\", \"name\": \"MILK QUART FAT FREE\", \"calories_per_dollar\": 1210.0840336134454, \"dollars_per_calorie\": 0.0008263888888888889, \"price_usd\": 1.19, \"calories_per_container\": 1440.0, \"calories_per_serving\": 90.0, \"servings_per_container\": 16.0, \"dollars_per_serving\": 0.074375}, {\"sku\": \"052418\", \"name\": \"RICE BROWN JASMINE FROM\", \"calories_per_dollar\": 1203.0075187969924, \"dollars_per_calorie\": 0.0008312500000000001, \"price_usd\": 3.99, \"calories_per_container\": 4800.0, \"calories_per_serving\": 160.0, \"servings_per_container\": 30.0, \"dollars_per_serving\": 0.133}, {\"sku\": \"076084\", \"name\": \"TJ's ORG OATMEAL BAR CHOCOLATE CHIP\", \"calories_per_dollar\": 1139.240506329114, \"dollars_per_calorie\": 0.0008777777777777778, \"price_usd\": 0.79, \"calories_per_container\": 900.0, \"calories_per_serving\": 150.0, \"servings_per_container\": 6.0, \"dollars_per_serving\": 0.13166666666666668}, {\"sku\": \"076082\", \"name\": \"ORG OATMEAL BAR ICED CINNAMON\", \"calories_per_dollar\": 1139.240506329114, \"dollars_per_calorie\": 0.0008777777777777778, \"price_usd\": 0.79, \"calories_per_container\": 900.0, \"calories_per_serving\": 150.0, \"servings_per_container\": 6.0, \"dollars_per_serving\": 0.13166666666666668}, {\"sku\": \"001464\", \"name\": \"EVOO PACKED IN ITALY 500ML\", \"calories_per_dollar\": 1134.6704871060172, \"dollars_per_calorie\": 0.0008813131313131314, \"price_usd\": 3.49, \"calories_per_container\": 3960.0, \"calories_per_serving\": 120.0, \"servings_per_container\": 33.0, \"dollars_per_serving\": 0.10575757575757576}, {\"sku\": \"097504\", \"name\": \"SPINACH FLOUR TORTILLAS\", \"calories_per_dollar\": 1084.3373493975903, \"dollars_per_calorie\": 0.0009222222222222223, \"price_usd\": 2.49, \"calories_per_container\": 2700.0, \"calories_per_serving\": 270.0, \"servings_per_container\": 10.0, \"dollars_per_serving\": 0.24900000000000003}, {\"sku\": \"078011\", \"name\": \"PASTA ORG SPAGHETTI\", \"calories_per_dollar\": 1073.8255033557048, \"dollars_per_calorie\": 0.0009312499999999999, \"price_usd\": 1.49, \"calories_per_container\": 1600.0, \"calories_per_serving\": 200.0, \"servings_per_container\": 8.0, \"dollars_per_serving\": 0.18625}, {\"sku\": \"078009\", \"name\": \"PASTA ORG PENNE RIGATE\", \"calories_per_dollar\": 1073.8255033557048, \"dollars_per_calorie\": 0.0009312499999999999, \"price_usd\": 1.49, \"calories_per_container\": 1600.0, \"calories_per_serving\": 200.0, \"servings_per_container\": 8.0, \"dollars_per_serving\": 0.18625}, {\"sku\": \"032367\", \"name\": \"PASTA ORG WHOLE WHEAT FUSILLI\", \"calories_per_dollar\": 1073.8255033557048, \"dollars_per_calorie\": 0.0009312499999999999, \"price_usd\": 1.49, \"calories_per_container\": 1600.0, \"calories_per_serving\": 200.0, \"servings_per_container\": 8.0, \"dollars_per_serving\": 0.18625}]}}, {\"mode\": \"vega-lite\"});\n",
       "</script>"
      ],
      "text/plain": [
       "alt.Chart(...)"
      ]
     },
     "metadata": {},
     "output_type": "display_data"
    }
   ],
   "source": [
    "import altair as alt\n",
    "\n",
    "# alt.Chart(tjhp_clean).mark_point().encode(\n",
    "#     x='price_usd',\n",
    "#     y='calories_per_container',\n",
    "#     color='calories_per_serving',\n",
    "#     tooltip=['sku', 'name']\n",
    "# ).interactive()\n",
    "\n",
    "# https://github.com/vega/altair/issues/1245\n",
    "# How to disable automatic alphabetic sorting of x value\n",
    "alt.Chart(tjhp_clean.sort(by='dollars_per_calorie', descending=False).head(20)).mark_bar().encode(\n",
    "    # x='name',\n",
    "    x=alt.X('name', title='Product', type='nominal', sort=None, axis=alt.Axis(labelAngle=-45)),\n",
    "    y=alt.Y(field='dollars_per_100calorie', type='quantitative', title='$ per 100 Calories'),\n",
    "    color=alt.Color('dollars_per_serving', title='$ per Serving').scale(scheme=\"greens\"),\n",
    "    tooltip=['sku', 'name', 'price_usd', 'dollars_per_calorie', 'servings_per_container']\n",
    ").transform_calculate(\n",
    "    dollars_per_100calorie='datum.dollars_per_calorie * 100' # Calculate the new field\n",
    ").interactive(\n",
    "\n",
    ").properties(\n",
    "    title='Hyde Park TJ\\'s 20 items with the cheapest calories',\n",
    "    width=800,\n",
    "    height=300\n",
    ").configure_title(\n",
    "    fontSize=24,\n",
    "    # font='IMPACT',\n",
    "    anchor='middle',\n",
    "    color='black'\n",
    ").configure_axis(\n",
    "    labelFontSize=15,\n",
    "    titleFontSize=20\n",
    ")\n",
    "\n",
    "# tjhp_clean.columns"
   ]
  },
  {
   "cell_type": "code",
   "execution_count": null,
   "id": "58280d4d",
   "metadata": {},
   "outputs": [],
   "source": [
    "pretzel = [i for i in all_items_hp if i['sku']=='079176']"
   ]
  },
  {
   "cell_type": "code",
   "execution_count": null,
   "id": "7ffb2b02",
   "metadata": {},
   "outputs": [
    {
     "data": {
      "text/plain": [
       "1"
      ]
     },
     "metadata": {},
     "output_type": "display_data"
    }
   ],
   "source": [
    "len(pretzel)"
   ]
  },
  {
   "cell_type": "code",
   "execution_count": null,
   "id": "19d32b49",
   "metadata": {},
   "outputs": [
    {
     "data": {
      "text/plain": [
       "[{'amount': '38 g',\n",
       "  'display_seq': 1,\n",
       "  'nutritional_item': 'Total Fat',\n",
       "  'percent_dv': '.49'},\n",
       " {'amount': '25 g',\n",
       "  'display_seq': 2,\n",
       "  'nutritional_item': 'Saturated Fat',\n",
       "  'percent_dv': '1.25'},\n",
       " {'amount': '0 g',\n",
       "  'display_seq': 3,\n",
       "  'nutritional_item': 'Trans Fat',\n",
       "  'percent_dv': ''},\n",
       " {'amount': '0 mg',\n",
       "  'display_seq': 4,\n",
       "  'nutritional_item': 'Cholesterol',\n",
       "  'percent_dv': '0'},\n",
       " {'amount': '500 mg',\n",
       "  'display_seq': 5,\n",
       "  'nutritional_item': 'Sodium',\n",
       "  'percent_dv': '.22'},\n",
       " {'amount': '58 g',\n",
       "  'display_seq': 6,\n",
       "  'nutritional_item': 'Total Carbohydrate',\n",
       "  'percent_dv': '.21'},\n",
       " {'amount': '4 g',\n",
       "  'display_seq': 7,\n",
       "  'nutritional_item': 'Dietary Fiber',\n",
       "  'percent_dv': '.14'},\n",
       " {'amount': '4 g',\n",
       "  'display_seq': 8,\n",
       "  'nutritional_item': 'Total Sugars',\n",
       "  'percent_dv': ''},\n",
       " {'amount': '0 g Added Sugars',\n",
       "  'display_seq': 9,\n",
       "  'nutritional_item': 'Includes',\n",
       "  'percent_dv': '0'},\n",
       " {'amount': '11 g',\n",
       "  'display_seq': 10,\n",
       "  'nutritional_item': 'Protein',\n",
       "  'percent_dv': ''},\n",
       " {'amount': '0.0 mcg',\n",
       "  'display_seq': 11,\n",
       "  'nutritional_item': 'Vitamin D',\n",
       "  'percent_dv': '0'},\n",
       " {'amount': '20 mg',\n",
       "  'display_seq': 12,\n",
       "  'nutritional_item': 'Calcium',\n",
       "  'percent_dv': '.02'},\n",
       " {'amount': '2.4 mg',\n",
       "  'display_seq': 13,\n",
       "  'nutritional_item': 'Iron',\n",
       "  'percent_dv': '.15'},\n",
       " {'amount': '530 mg',\n",
       "  'display_seq': 14,\n",
       "  'nutritional_item': 'Potassium',\n",
       "  'percent_dv': '.1'}]"
      ]
     },
     "metadata": {},
     "output_type": "display_data"
    }
   ],
   "source": [
    "tjhp['nutrition'][0][0]['details']"
   ]
  },
  {
   "cell_type": "markdown",
   "id": "34a849a2",
   "metadata": {},
   "source": [
    "### All list"
   ]
  },
  {
   "cell_type": "code",
   "execution_count": null,
   "id": "cf66e10f",
   "metadata": {},
   "outputs": [],
   "source": [
    "import polars as pl"
   ]
  },
  {
   "cell_type": "code",
   "execution_count": null,
   "id": "0d9f03d9",
   "metadata": {},
   "outputs": [],
   "source": [
    "# pl.json_normalize(all_items_fixed[100:102])"
   ]
  },
  {
   "cell_type": "markdown",
   "id": "e18cec3f",
   "metadata": {},
   "source": [
    "Beyond just dumping each json object from `all_items_fixed` into `pl.json_normalize()`, we also need to further handle the `nutrition` and `ingredients` dictionaries."
   ]
  },
  {
   "cell_type": "code",
   "execution_count": null,
   "id": "b00069f5",
   "metadata": {},
   "outputs": [],
   "source": [
    "pl.json_normalize(all_items_fixed[100]['nutrition'])"
   ]
  },
  {
   "cell_type": "markdown",
   "id": "ed76079b",
   "metadata": {},
   "source": [
    "For now, just save it as expressly as possible."
   ]
  },
  {
   "cell_type": "code",
   "execution_count": null,
   "id": "83a28e34",
   "metadata": {},
   "outputs": [],
   "source": [
    "# df_all_items_raw = pl.json_normalize(all_items_fixed,\n",
    "#                                      infer_schema_length=None)"
   ]
  },
  {
   "cell_type": "code",
   "execution_count": null,
   "id": "e1d4598f",
   "metadata": {},
   "outputs": [],
   "source": [
    "df_all_items_raw.tail(3)\n",
    "# Columns 2 and 3 are Lists of Structs of...\n"
   ]
  },
  {
   "cell_type": "code",
   "execution_count": null,
   "id": "ab0f4dfd",
   "metadata": {},
   "outputs": [],
   "source": [
    "# df_all_items_raw.write_csv('data/all_items_raw.csv')\n",
    "# # Nested columns 2 and 3 do not work with CSV"
   ]
  },
  {
   "cell_type": "code",
   "execution_count": null,
   "id": "410a52f8",
   "metadata": {},
   "outputs": [],
   "source": [
    "# import json\n",
    "# all_items_fixed_raw_path = \"data/all_items_fixed_raw.json\"\n",
    "# with open(all_items_fixed_raw_path, \"w\") as f:\n",
    "#        json.dump(all_items_fixed, f, indent=4)\n",
    "\n"
   ]
  },
  {
   "cell_type": "markdown",
   "id": "76fe0772",
   "metadata": {},
   "source": [
    "Every description is empty html???"
   ]
  },
  {
   "cell_type": "code",
   "execution_count": null,
   "id": "93dda0ea",
   "metadata": {},
   "outputs": [],
   "source": [
    "broc = [item['name'] for item in all_items_fixed if 'KALE' in item['name']]\n",
    "\n",
    "\n",
    "\n",
    "broc"
   ]
  },
  {
   "cell_type": "code",
   "execution_count": null,
   "id": "321fa004",
   "metadata": {},
   "outputs": [],
   "source": [
    "df_all_items_raw.write_csv()"
   ]
  },
  {
   "cell_type": "markdown",
   "id": "57a85843",
   "metadata": {},
   "source": [
    "Let's try and isolate only food items."
   ]
  },
  {
   "cell_type": "code",
   "execution_count": null,
   "id": "35a20dda",
   "metadata": {},
   "outputs": [],
   "source": [
    "pl.json_normalize(all_items_fixed[100], max_level=4)"
   ]
  },
  {
   "cell_type": "code",
   "execution_count": null,
   "id": "dd9fabda",
   "metadata": {},
   "outputs": [],
   "source": [
    "nuts = [item['nutrition'] for item in all_items_fixed]"
   ]
  },
  {
   "cell_type": "code",
   "execution_count": null,
   "id": "2d47bf3b",
   "metadata": {},
   "outputs": [],
   "source": [
    "# Get only items with non-empty nutrition information\n",
    "# This will be criterion for what counts as \"food\""
   ]
  },
  {
   "cell_type": "code",
   "execution_count": null,
   "id": "375c3d72",
   "metadata": {},
   "outputs": [],
   "source": []
  },
  {
   "cell_type": "code",
   "execution_count": null,
   "id": "13f5d495",
   "metadata": {},
   "outputs": [],
   "source": [
    "# nut_lens = [len(nut) for nut in nuts]"
   ]
  },
  {
   "cell_type": "markdown",
   "id": "0cb384a5",
   "metadata": {},
   "source": [
    "Oh, sku 10032021 \"POP UP SPONGES\" for some reason contains information for pizza crusts? The problematic `\"item_description\": \"Broccoli & Kale Pizza Crust description\"`."
   ]
  },
  {
   "cell_type": "code",
   "execution_count": null,
   "id": "36624e2a",
   "metadata": {},
   "outputs": [],
   "source": []
  },
  {
   "cell_type": "markdown",
   "id": "22ca7c10",
   "metadata": {},
   "source": [
    "#### Getting only the values we need from the json, making it relational"
   ]
  },
  {
   "cell_type": "code",
   "execution_count": null,
   "id": "b7d4fda0",
   "metadata": {},
   "outputs": [],
   "source": [
    "import json\n",
    "import polars as pl"
   ]
  },
  {
   "cell_type": "code",
   "execution_count": null,
   "id": "ad1f0a61",
   "metadata": {},
   "outputs": [],
   "source": [
    "with open('data/all_items_fixed_raw.json', 'r') as f:\n",
    "    tj_raw = json.load(f)"
   ]
  },
  {
   "cell_type": "markdown",
   "id": "c23fc3f3",
   "metadata": {},
   "source": [
    "Recall that the `item_description` field is `null` for just about every entry except one where it is instead the unrelated `Broccoli & Kale Pizza Crust description`."
   ]
  },
  {
   "cell_type": "code",
   "execution_count": null,
   "id": "3cfd665c",
   "metadata": {},
   "outputs": [],
   "source": [
    "tj_raw = [item for item in tj_raw if item['item_description'] != 'Broccoli & Kale Pizza Crust description']"
   ]
  },
  {
   "cell_type": "code",
   "execution_count": null,
   "id": "14e667d0",
   "metadata": {},
   "outputs": [],
   "source": [
    "tj = pl.DataFrame(tj_raw)"
   ]
  },
  {
   "cell_type": "markdown",
   "id": "700b545b",
   "metadata": {},
   "source": [
    "Need to:\n",
    "\n",
    "* Remove rows with null `nutrition`\n",
    "* Remove useless fields (`item_description`, `description`)\n",
    "* Turn nested fields into \n",
    "    * lists (ingredients)\n",
    "    * individual and possibly sparse columns (fiber, protein, calories)"
   ]
  },
  {
   "cell_type": "code",
   "execution_count": null,
   "id": "f87a9006",
   "metadata": {},
   "outputs": [],
   "source": [
    "tj = tj.drop(['item_description', 'description'])"
   ]
  },
  {
   "cell_type": "code",
   "execution_count": null,
   "id": "4c76be2f",
   "metadata": {},
   "outputs": [],
   "source": [
    "tj.shape"
   ]
  },
  {
   "cell_type": "code",
   "execution_count": null,
   "id": "d28ae65f",
   "metadata": {},
   "outputs": [],
   "source": [
    "tj = tj.drop_nulls(subset=['nutrition', 'price'])\n",
    "tj.shape"
   ]
  },
  {
   "cell_type": "code",
   "execution_count": null,
   "id": "356fa1c8",
   "metadata": {},
   "outputs": [],
   "source": [
    "tj.head()"
   ]
  },
  {
   "cell_type": "code",
   "execution_count": null,
   "id": "2cfd6eeb",
   "metadata": {},
   "outputs": [],
   "source": [
    "tj['price'].str"
   ]
  },
  {
   "cell_type": "code",
   "execution_count": null,
   "id": "502617df",
   "metadata": {},
   "outputs": [],
   "source": [
    "temp = tj.with_columns(\n",
    "    pl.col(\"price\").struct.field(\"regularPrice\").struct.field(\"amount\").struct.field(\"currency\").alias(\"nested_field\")\n",
    ")\n",
    "\n",
    "print(temp)"
   ]
  },
  {
   "cell_type": "code",
   "execution_count": null,
   "id": "9fdf63e8",
   "metadata": {},
   "outputs": [],
   "source": [
    "temp['nested_field'].value_counts()"
   ]
  },
  {
   "cell_type": "markdown",
   "id": "a741a31d",
   "metadata": {},
   "source": [
    "OK, they are all in USD, proceed."
   ]
  },
  {
   "cell_type": "code",
   "execution_count": null,
   "id": "06b0ca81",
   "metadata": {},
   "outputs": [],
   "source": [
    "tj = tj.with_columns(\n",
    "    pl.col(\"price\").struct.field(\"regularPrice\").struct.field(\"amount\").struct.field(\"value\").alias(\"price_usd\")\n",
    ")\n"
   ]
  },
  {
   "cell_type": "markdown",
   "id": "e7bbb302",
   "metadata": {},
   "source": [
    "Onto the same nested json but for calories..."
   ]
  },
  {
   "cell_type": "markdown",
   "id": "3795b36b",
   "metadata": {},
   "source": [
    "Wow, these nutrition items are formatted horrendously. The key is not a key whatsoever. Should go back and fix this in the original GraphQL query under `nutrition`."
   ]
  },
  {
   "cell_type": "code",
   "execution_count": null,
   "id": "08a38d31",
   "metadata": {},
   "outputs": [],
   "source": [
    "tj['nutrition'][0]"
   ]
  },
  {
   "cell_type": "markdown",
   "id": "cb33ce5e",
   "metadata": {},
   "source": [
    "Oh, maybe not."
   ]
  },
  {
   "cell_type": "code",
   "execution_count": null,
   "id": "8148490e",
   "metadata": {},
   "outputs": [],
   "source": [
    "tj['nutrition'][0][0]"
   ]
  },
  {
   "cell_type": "code",
   "execution_count": null,
   "id": "4cb40868",
   "metadata": {},
   "outputs": [],
   "source": [
    "tj['nutrition'][0][0]['calories_per_serving']"
   ]
  },
  {
   "cell_type": "code",
   "execution_count": null,
   "id": "a8393821",
   "metadata": {},
   "outputs": [],
   "source": [
    "tj = tj.with_columns(\n",
    "    # tj['nutrition']\n",
    "    pl.col(\"nutrition\").map_elements(lambda x: x[0]['calories_per_serving'] if len(x)>0 else None, return_dtype=str).alias(\"calories_per_serving\")\n",
    ")\n",
    "tj.head(3)"
   ]
  },
  {
   "cell_type": "markdown",
   "id": "74a643e4",
   "metadata": {},
   "source": [
    "These things definitely do not actually have 0 calories. Drop them."
   ]
  },
  {
   "cell_type": "code",
   "execution_count": null,
   "id": "292a3053",
   "metadata": {},
   "outputs": [],
   "source": [
    "tj.filter((pl.col(\"calories_per_serving\") == \"\"))"
   ]
  },
  {
   "cell_type": "code",
   "execution_count": null,
   "id": "96c0a732",
   "metadata": {},
   "outputs": [],
   "source": [
    "tj = tj.filter((pl.col(\"calories_per_serving\") != \"\"))"
   ]
  },
  {
   "cell_type": "markdown",
   "id": "2e1378b4",
   "metadata": {},
   "source": [
    "More problematic calories per serving fields: `8 out of 4570 values: [\"3291 kcal/kg; 29 kcal/treat\", \"3200 kcal/kg; 18 kcal/treat\", … \"varied\"]`."
   ]
  },
  {
   "cell_type": "code",
   "execution_count": null,
   "id": "340a4e0b",
   "metadata": {},
   "outputs": [],
   "source": [
    "tj.shape"
   ]
  },
  {
   "cell_type": "code",
   "execution_count": null,
   "id": "579bdcec",
   "metadata": {},
   "outputs": [],
   "source": [
    "### DROP THEM. come back later to salvage whichever.\n",
    "tj = tj.filter(tj['calories_per_serving'].str.contains('^\\\\s*\\\\d+\\\\s*$'))\n",
    "tj.shape\n",
    "# Yes, this filters out those 8 values giving us trouble before"
   ]
  },
  {
   "cell_type": "code",
   "execution_count": null,
   "id": "7dbc54af",
   "metadata": {},
   "outputs": [],
   "source": [
    "tj = tj.with_columns(\n",
    "    pl.col('calories_per_serving').str.strip_chars(' ').cast(pl.Float32).alias('calories_per_serving')\n",
    ")"
   ]
  },
  {
   "cell_type": "markdown",
   "id": "766c370d",
   "metadata": {},
   "source": [
    "Now same for servings per container...."
   ]
  },
  {
   "cell_type": "code",
   "execution_count": null,
   "id": "bf8866f3",
   "metadata": {},
   "outputs": [],
   "source": [
    "tj['nutrition'][0][0]['servings_per_container']"
   ]
  },
  {
   "cell_type": "code",
   "execution_count": null,
   "id": "c383a33f",
   "metadata": {},
   "outputs": [],
   "source": [
    "# Create raw servings column\n",
    "tj = tj.with_columns(\n",
    "    pl.col(\"nutrition\").map_elements(lambda x: x[0]['servings_per_container'] if len(x)>0 else None, return_dtype=str).alias(\"servings_per_container\")\n",
    ")"
   ]
  },
  {
   "cell_type": "code",
   "execution_count": null,
   "id": "213847db",
   "metadata": {},
   "outputs": [],
   "source": [
    "unique_spc = tj['servings_per_container'].unique() # alue_counts()['servings_per_container']\n",
    "for spc in unique_spc:\n",
    "    print(spc)"
   ]
  },
  {
   "cell_type": "code",
   "execution_count": null,
   "id": "eb81133f",
   "metadata": {},
   "outputs": [],
   "source": [
    "tj.shape"
   ]
  },
  {
   "cell_type": "code",
   "execution_count": null,
   "id": "c4b8dad7",
   "metadata": {},
   "outputs": [],
   "source": [
    "# tj.head(3)"
   ]
  },
  {
   "cell_type": "markdown",
   "id": "e3042f8c",
   "metadata": {},
   "source": [
    "The common problems with servings per container include:\n",
    "* `Serves one` and `Serves does not need this since there is only one serving` (manually replace with 1)\n",
    "* `Serves about 3 (About 2.5 without Dressing)` (just grab first numeric)\n",
    "* `Serves 8 on 8oz and 12 on 12oz` (This might be a problem depending on whether there is a single reported calorie value)\n",
    "* `Serves varied` (idek man)"
   ]
  },
  {
   "cell_type": "code",
   "execution_count": null,
   "id": "d81818dc",
   "metadata": {},
   "outputs": [],
   "source": [
    "\n",
    "tj = tj.with_columns(\n",
    "    spc=pl.when(pl.col(\"servings_per_container\").str.contains(' one', literal=True))\n",
    "    .then(1)\n",
    "    .otherwise(pl.col(\"servings_per_container\"))\n",
    ")#.filter(tj['servings_per_container'].str.contains(' one', literal=True))"
   ]
  },
  {
   "cell_type": "code",
   "execution_count": null,
   "id": "249fb961",
   "metadata": {},
   "outputs": [],
   "source": [
    "# (?i)(serves about)|(serves)|(about)\n",
    "tj = tj.with_columns(\n",
    "    spc=tj['spc'].str.extract(r'(\\d+)').cast(pl.Float32)\n",
    ")"
   ]
  },
  {
   "cell_type": "code",
   "execution_count": null,
   "id": "5c4b6c28",
   "metadata": {},
   "outputs": [],
   "source": [
    "tj = tj.with_columns(\n",
    "    calories_per_container = tj['calories_per_serving'] * tj['spc']\n",
    ")"
   ]
  },
  {
   "cell_type": "code",
   "execution_count": null,
   "id": "393f5f87",
   "metadata": {},
   "outputs": [],
   "source": [
    "tj = tj.with_columns(\n",
    "    dollars_per_calorie = tj['price_usd'] / tj['calories_per_container']\n",
    ")"
   ]
  },
  {
   "cell_type": "code",
   "execution_count": null,
   "id": "73581acd",
   "metadata": {},
   "outputs": [],
   "source": [
    "tj = tj.with_columns(\n",
    "    calories_per_dollar = 1 / pl.col('dollars_per_calorie')\n",
    ")"
   ]
  },
  {
   "cell_type": "code",
   "execution_count": null,
   "id": "c947cced",
   "metadata": {},
   "outputs": [],
   "source": [
    "tj.columns"
   ]
  },
  {
   "cell_type": "code",
   "execution_count": null,
   "id": "6aef2846",
   "metadata": {},
   "outputs": [],
   "source": [
    "# Remove 0-calorie nothings like salt and tea and hot sauce\n",
    "# Remove items that are just fucking free i guess??!!\n",
    "tj_trim = tj[:, ['sku', 'name', 'calories_per_dollar', 'dollars_per_calorie', 'price_usd', 'calories_per_container', 'calories_per_serving', 'spc', ]].filter(\n",
    "    ~tj['dollars_per_calorie'].is_null() & ~tj['dollars_per_calorie'].is_nan() & (tj['calories_per_container']!=0) & (tj['price_usd']!=0)\n",
    ")\n",
    "tj_trim"
   ]
  },
  {
   "cell_type": "markdown",
   "id": "4b71665e",
   "metadata": {},
   "source": [
    "Lol why are there polars `null` and also just `NaN` brother"
   ]
  },
  {
   "cell_type": "code",
   "execution_count": null,
   "id": "c04be456",
   "metadata": {},
   "outputs": [],
   "source": [
    "tj_trim.sort(by='dollars_per_calorie', descending=False)\n",
    "# Chocolatey dipping kit limited time only, caloric maximum is a fucking cryptid, it's lost media\n",
    "# NO these fucking prices are just straight up wrong, 1 cent???"
   ]
  },
  {
   "cell_type": "code",
   "execution_count": null,
   "id": "d4444aa4",
   "metadata": {},
   "outputs": [],
   "source": [
    "cfg = pl.Config()\n",
    "cfg.set_tbl_rows(20)\n",
    "# with pl.Config(tbl_rows=10):\n",
    "#     tj_trim.sort(by='dollars_per_calorie', descending=False)\n",
    "tj_trim.sort(by='calories_per_dollar', descending=True).head(20)\n",
    "# How can I do a HAVING filter after the sort? To remove crazy low dollars_per_calorie values\n",
    "## What did I mean by this. Maybe HAVING after the calories_per_container thing?"
   ]
  },
  {
   "cell_type": "code",
   "execution_count": null,
   "id": "d3ed7f19",
   "metadata": {},
   "outputs": [],
   "source": [
    "# Energy Bar Peanut Butter / TJ'S CRUNCHY PEANUT BUTTER ENERGY\n",
    "# Wrong, it is listing price of a single bar, but servings as 12 bars!!!!\n",
    "tj.filter(tj['sku'] == '077616')\n",
    "\n",
    "# Same issue with TJ'S CHOCOLATE CHIP ENERGY"
   ]
  },
  {
   "cell_type": "code",
   "execution_count": null,
   "id": "07d656e1",
   "metadata": {},
   "outputs": [],
   "source": [
    "tj.filter(tj['sku'] == '070379')"
   ]
  },
  {
   "cell_type": "code",
   "execution_count": null,
   "id": "d7407dd4",
   "metadata": {},
   "outputs": [],
   "source": [
    "tj.filter(tj['sku'] == '073468')"
   ]
  },
  {
   "cell_type": "markdown",
   "id": "b55772c0",
   "metadata": {},
   "source": [
    "Let's filter out products that obviously make no sense, e.g. excessive calories in a container and $0.01 price tags."
   ]
  },
  {
   "cell_type": "code",
   "execution_count": null,
   "id": "3dcfec75",
   "metadata": {},
   "outputs": [],
   "source": [
    "tj_clean = tj_trim.clone() # Deep copy"
   ]
  },
  {
   "cell_type": "code",
   "execution_count": null,
   "id": "b38f1c90",
   "metadata": {},
   "outputs": [],
   "source": [
    "tj_clean = tj_clean.sort(by='calories_per_dollar', descending=True)\n"
   ]
  },
  {
   "cell_type": "code",
   "execution_count": null,
   "id": "c004a929",
   "metadata": {},
   "outputs": [],
   "source": [
    "tj_clean['price_usd'].hist()"
   ]
  },
  {
   "cell_type": "code",
   "execution_count": null,
   "id": "f2881a59",
   "metadata": {},
   "outputs": [],
   "source": [
    "tj_clean.filter(tj_clean['price_usd'] <= 0.49)"
   ]
  },
  {
   "cell_type": "code",
   "execution_count": null,
   "id": "2be5999f",
   "metadata": {},
   "outputs": [],
   "source": [
    "# tj = tj.with_columns(\n",
    "#     calories_per_dollar = 1 / pl.col('dollars_per_calorie')\n",
    "# )\n",
    "\n",
    "# df.filter REMOVES (filters lol) things that satisfy the condition\n",
    "tj_clean = tj_clean.filter(\n",
    "        (tj_clean['calories_per_container'] < 30000) # Demon core candied ginger\n",
    "        &\n",
    "        (tj_clean['price_usd'] >= 0.49) # Threshold at fruit wraps and \"just a handful\"-type products\n",
    ")"
   ]
  },
  {
   "cell_type": "code",
   "execution_count": null,
   "id": "b83bef05",
   "metadata": {},
   "outputs": [],
   "source": [
    "# tj.filter(~tj['servings_per_container'].str.contains('[(serves)(Serves)(about)]'))"
   ]
  },
  {
   "cell_type": "code",
   "execution_count": null,
   "id": "ec6e105a",
   "metadata": {},
   "outputs": [],
   "source": [
    "# tj_clean_top20 = \n",
    "# tj_clean.sort(by='calories_per_dollar', descending=True).head(20)"
   ]
  },
  {
   "cell_type": "markdown",
   "id": "44c7ef1e",
   "metadata": {},
   "source": [
    "To sanity check items that do not have accurate servings per container given the price, we can insert another variable for the price per serving to see if that is weird."
   ]
  },
  {
   "cell_type": "code",
   "execution_count": null,
   "id": "65205938",
   "metadata": {},
   "outputs": [],
   "source": [
    "tj_clean = tj_clean.with_columns(\n",
    "    dollars_per_serving = tj_clean['price_usd'] / tj_clean['spc']\n",
    ")"
   ]
  },
  {
   "cell_type": "code",
   "execution_count": null,
   "id": "7d97dca6",
   "metadata": {},
   "outputs": [],
   "source": [
    "tj_clean.head(3)"
   ]
  },
  {
   "cell_type": "markdown",
   "id": "eae72550",
   "metadata": {},
   "source": [
    "Also, let's fix some obvious mistakes manually."
   ]
  },
  {
   "cell_type": "code",
   "execution_count": null,
   "id": "7bca9637",
   "metadata": {},
   "outputs": [],
   "source": [
    "tj_clean = tj_clean.with_columns(\n",
    "    pl.when(tj_clean['sku'].is_in([\"077616\", \"077618\"]))\n",
    "    .then(1)\n",
    "    .otherwise(pl.col(\"spc\"))\n",
    "    .alias(\"spc\")\n",
    ")\n"
   ]
  },
  {
   "cell_type": "code",
   "execution_count": null,
   "id": "c0aa3e51",
   "metadata": {},
   "outputs": [],
   "source": [
    "tj_clean = tj_clean.with_columns(\n",
    "    calories_per_container = tj_clean['calories_per_serving'] * tj_clean['spc']\n",
    ")"
   ]
  },
  {
   "cell_type": "code",
   "execution_count": null,
   "id": "0d377b88",
   "metadata": {},
   "outputs": [],
   "source": [
    "tj_clean = tj_clean.with_columns(\n",
    "    calories_per_dollar = tj_clean['calories_per_container'] / tj_clean['price_usd']\n",
    ")"
   ]
  },
  {
   "cell_type": "code",
   "execution_count": null,
   "id": "db5d41e2",
   "metadata": {},
   "outputs": [],
   "source": [
    "tj_clean = tj_clean.with_columns(\n",
    "    dollars_per_calorie = 1 / tj_clean['calories_per_dollar']\n",
    ")"
   ]
  },
  {
   "cell_type": "code",
   "execution_count": null,
   "id": "d3b49a17",
   "metadata": {},
   "outputs": [],
   "source": [
    "tj_clean = tj_clean.sort(by='calories_per_dollar', descending=True)"
   ]
  },
  {
   "cell_type": "markdown",
   "id": "0e591101",
   "metadata": {},
   "source": [
    "Save."
   ]
  },
  {
   "cell_type": "code",
   "execution_count": null,
   "id": "e5aab0c1",
   "metadata": {},
   "outputs": [],
   "source": [
    "tj_clean.write_csv(\"data/tj_clean.csv\")"
   ]
  },
  {
   "cell_type": "markdown",
   "id": "e905cea8",
   "metadata": {},
   "source": [
    "Load."
   ]
  },
  {
   "cell_type": "code",
   "execution_count": null,
   "id": "80f9f0e4",
   "metadata": {},
   "outputs": [],
   "source": []
  },
  {
   "cell_type": "code",
   "execution_count": null,
   "id": "12e0dba3",
   "metadata": {},
   "outputs": [],
   "source": [
    "tj_clean"
   ]
  },
  {
   "cell_type": "markdown",
   "id": "b661e017",
   "metadata": {},
   "source": [
    "## Viz"
   ]
  },
  {
   "cell_type": "code",
   "execution_count": null,
   "id": "be8828e8",
   "metadata": {},
   "outputs": [],
   "source": [
    "import altair as alt"
   ]
  },
  {
   "cell_type": "code",
   "execution_count": null,
   "id": "9a039f34",
   "metadata": {},
   "outputs": [],
   "source": [
    "\n",
    "alt.Chart(tj_clean).mark_point().encode(\n",
    "    x='price_usd',\n",
    "    y='calories_per_container',\n",
    "    color='calories_per_serving',\n",
    "    tooltip=['sku', 'name']\n",
    ").interactive()"
   ]
  },
  {
   "cell_type": "code",
   "execution_count": null,
   "id": "1e8304fa",
   "metadata": {},
   "outputs": [],
   "source": [
    "# https://github.com/vega/altair/issues/1245\n",
    "# How to disable automatic alphabetic sorting of x value\n",
    "alt.Chart(tj_clean.sort(by='calories_per_dollar', descending=True).head(20)).mark_bar().encode(\n",
    "    # x='name',\n",
    "    x=alt.X('name', type='nominal', sort=None, axis=alt.Axis(labelAngle=-45)),\n",
    "    y='calories_per_dollar',\n",
    "    color=alt.Color('dollars_per_serving').scale(scheme=\"greens\"),\n",
    "    tooltip=['sku', 'name', 'price_usd', 'calories_per_serving', 'spc']\n",
    ").interactive(\n",
    "\n",
    ").properties(\n",
    "    width=800,\n",
    "    height=300\n",
    ")"
   ]
  },
  {
   "cell_type": "code",
   "execution_count": null,
   "id": "d2c72b46",
   "metadata": {},
   "outputs": [],
   "source": [
    "tj_clean.columns"
   ]
  },
  {
   "cell_type": "markdown",
   "id": "211b1382",
   "metadata": {},
   "source": [
    "## Misc"
   ]
  },
  {
   "cell_type": "code",
   "execution_count": null,
   "id": "605189ce",
   "metadata": {},
   "outputs": [],
   "source": [
    "import pandas as pd"
   ]
  },
  {
   "cell_type": "code",
   "execution_count": null,
   "id": "954546cc",
   "metadata": {},
   "outputs": [],
   "source": [
    "ptj = pd.DataFrame(tj)"
   ]
  },
  {
   "cell_type": "code",
   "execution_count": null,
   "id": "d30b5ca4",
   "metadata": {},
   "outputs": [],
   "source": [
    "ptj.columns = tj.columns"
   ]
  },
  {
   "cell_type": "code",
   "execution_count": null,
   "id": "eafbc5cb",
   "metadata": {},
   "outputs": [],
   "source": [
    "ptj.head(3)"
   ]
  },
  {
   "cell_type": "code",
   "execution_count": null,
   "id": "0f4359d5",
   "metadata": {},
   "outputs": [],
   "source": [
    "ptj['nutrition'][0][0]"
   ]
  },
  {
   "cell_type": "code",
   "execution_count": null,
   "id": "d6a79900",
   "metadata": {},
   "outputs": [],
   "source": [
    "ptj"
   ]
  },
  {
   "cell_type": "code",
   "execution_count": null,
   "id": "a8ed43a9",
   "metadata": {},
   "outputs": [],
   "source": [
    "# ptj['nutrition'].apply(lambda x: x[0] if len(x)>0 else None)"
   ]
  },
  {
   "cell_type": "code",
   "execution_count": null,
   "id": "2515696c",
   "metadata": {},
   "outputs": [],
   "source": [
    "# tj['nutrition'].struct.field('calories_per_serving')"
   ]
  },
  {
   "cell_type": "code",
   "execution_count": null,
   "id": "f4d3d4db",
   "metadata": {},
   "outputs": [],
   "source": [
    "# tj.with_columns(\n",
    "#     pl.col(\"nutrition\").map_elements(lambda x: x[0][0]).struct.field('calories_per_serving').alias(\"calories_per_serving\")\n",
    "# )"
   ]
  },
  {
   "cell_type": "code",
   "execution_count": null,
   "id": "331aeebe",
   "metadata": {},
   "outputs": [],
   "source": [
    "# temp = tj.with_columns(\n",
    "#     pl.col(\"nutrition\").struct.field(\"calories_per_serving\").alias(\"calories_per_serving\")\n",
    "# )\n",
    "# temp"
   ]
  },
  {
   "cell_type": "code",
   "execution_count": null,
   "id": "f27cfc79",
   "metadata": {},
   "outputs": [],
   "source": []
  }
 ],
 "metadata": {
  "kernelspec": {
   "display_name": "tallying-joules",
   "language": "python",
   "name": "python3"
  },
  "language_info": {
   "codemirror_mode": {
    "name": "ipython",
    "version": 3
   },
   "file_extension": ".py",
   "mimetype": "text/x-python",
   "name": "python",
   "nbconvert_exporter": "python",
   "pygments_lexer": "ipython3",
   "version": "3.13.7"
  }
 },
 "nbformat": 4,
 "nbformat_minor": 5
}
